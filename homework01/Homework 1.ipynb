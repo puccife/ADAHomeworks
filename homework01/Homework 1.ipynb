{
 "cells": [
  {
   "cell_type": "markdown",
   "metadata": {},
   "source": [
    "# Table of Contents\n",
    " <p><div class=\"lev1\"><a href=\"#Task-1.-Compiling-Ebola-Data\"><span class=\"toc-item-num\">Task 1.&nbsp;&nbsp;</span>Compiling Ebola Data</a></div>\n",
    " <div class=\"lev1\"><a href=\"#Task-2.-RNA-Sequences\"><span class=\"toc-item-num\">Task 2.&nbsp;&nbsp;</span>RNA Sequences</a></div>\n",
    " <div class=\"lev1\"><a href=\"#Task-3.-Class-War-in-Titanic\"><span class=\"toc-item-num\">Task 3.&nbsp;&nbsp;</span>Class War in Titanic</a></div></p>"
   ]
  },
  {
   "cell_type": "code",
   "execution_count": 4,
   "metadata": {},
   "outputs": [],
   "source": [
    "import pandas as pd\n",
    "import numpy as np\n",
    "%matplotlib inline\n",
    "import matplotlib.pyplot as plt\n",
    "\n",
    "DATA_FOLDER = './data' # Use the data folder provided in Tutorial 02 - Intro to Pandas."
   ]
  },
  {
   "cell_type": "markdown",
   "metadata": {},
   "source": [
    "## Task 1. Compiling Ebola Data\n",
    "\n",
    "The `DATA_FOLDER/ebola` folder contains summarized reports of Ebola cases from three countries (Guinea, Liberia and Sierra Leone) during the recent outbreak of the disease in West Africa. For each country, there are daily reports that contain various information about the outbreak in several cities in each country.\n",
    "\n",
    "Use pandas to import these data files into a single `Dataframe`.\n",
    "Using this `DataFrame`, calculate for *each country*, the *daily average* per year of *new cases* and *deaths*.\n",
    "Make sure you handle all the different expressions for *new cases* and *deaths* that are used in the reports."
   ]
  },
  {
   "cell_type": "code",
   "execution_count": 5,
   "metadata": {},
   "outputs": [
    {
     "name": "stderr",
     "output_type": "stream",
     "text": [
      "/home/sarah/anaconda2/envs/ada/lib/python3.5/site-packages/ipykernel/__main__.py:80: FutureWarning: convert_objects is deprecated.  Use the data-type specific converters pd.to_datetime, pd.to_timedelta and pd.to_numeric.\n",
      "/home/sarah/anaconda2/envs/ada/lib/python3.5/site-packages/ipykernel/__main__.py:27: SettingWithCopyWarning: \n",
      "A value is trying to be set on a copy of a slice from a DataFrame.\n",
      "Try using .loc[row_indexer,col_indexer] = value instead\n",
      "\n",
      "See the caveats in the documentation: http://pandas.pydata.org/pandas-docs/stable/indexing.html#indexing-view-versus-copy\n",
      "/home/sarah/anaconda2/envs/ada/lib/python3.5/site-packages/ipykernel/__main__.py:28: SettingWithCopyWarning: \n",
      "A value is trying to be set on a copy of a slice from a DataFrame.\n",
      "Try using .loc[row_indexer,col_indexer] = value instead\n",
      "\n",
      "See the caveats in the documentation: http://pandas.pydata.org/pandas-docs/stable/indexing.html#indexing-view-versus-copy\n",
      "/home/sarah/anaconda2/envs/ada/lib/python3.5/site-packages/ipykernel/__main__.py:29: SettingWithCopyWarning: \n",
      "A value is trying to be set on a copy of a slice from a DataFrame.\n",
      "Try using .loc[row_indexer,col_indexer] = value instead\n",
      "\n",
      "See the caveats in the documentation: http://pandas.pydata.org/pandas-docs/stable/indexing.html#indexing-view-versus-copy\n",
      "/home/sarah/anaconda2/envs/ada/lib/python3.5/site-packages/ipykernel/__main__.py:30: SettingWithCopyWarning: \n",
      "A value is trying to be set on a copy of a slice from a DataFrame.\n",
      "Try using .loc[row_indexer,col_indexer] = value instead\n",
      "\n",
      "See the caveats in the documentation: http://pandas.pydata.org/pandas-docs/stable/indexing.html#indexing-view-versus-copy\n",
      "/home/sarah/anaconda2/envs/ada/lib/python3.5/site-packages/ipykernel/__main__.py:33: SettingWithCopyWarning: \n",
      "A value is trying to be set on a copy of a slice from a DataFrame.\n",
      "Try using .loc[row_indexer,col_indexer] = value instead\n",
      "\n",
      "See the caveats in the documentation: http://pandas.pydata.org/pandas-docs/stable/indexing.html#indexing-view-versus-copy\n",
      "/home/sarah/anaconda2/envs/ada/lib/python3.5/site-packages/ipykernel/__main__.py:97: FutureWarning: convert_objects is deprecated.  Use the data-type specific converters pd.to_datetime, pd.to_timedelta and pd.to_numeric.\n",
      "/home/sarah/anaconda2/envs/ada/lib/python3.5/site-packages/ipykernel/__main__.py:44: SettingWithCopyWarning: \n",
      "A value is trying to be set on a copy of a slice from a DataFrame.\n",
      "Try using .loc[row_indexer,col_indexer] = value instead\n",
      "\n",
      "See the caveats in the documentation: http://pandas.pydata.org/pandas-docs/stable/indexing.html#indexing-view-versus-copy\n",
      "/home/sarah/anaconda2/envs/ada/lib/python3.5/site-packages/ipykernel/__main__.py:114: FutureWarning: convert_objects is deprecated.  Use the data-type specific converters pd.to_datetime, pd.to_timedelta and pd.to_numeric.\n"
     ]
    },
    {
     "name": "stdout",
     "output_type": "stream",
     "text": [
      "         Liberia new cases  Liberia death  Guinea new cases  Guinea death  Sierra new cases  Sierra death\n",
      "Date                                                                                                     \n",
      "06/2014           2.142857       1.285714               NaN           NaN               NaN           NaN\n",
      "07/2014           1.818182       1.538462               NaN           NaN               NaN           NaN\n",
      "08/2014           5.444444       9.444444           12.4000      3.892857         19.600000      6.150000\n",
      "09/2014           6.166667      30.933333           12.5625      6.965517         36.275862     17.566667\n",
      "10/2014           1.400000      37.064516            6.0000     23.000000         57.535714     46.000000\n",
      "11/2014           2.600000       0.000000               NaN           NaN         63.238095    102.137931\n",
      "12/2014           3.333333       0.000000               NaN           NaN         32.600000    131.384615\n"
     ]
    },
    {
     "data": {
      "image/png": "[encoded data removed]",
      "text/plain": [
       "<matplotlib.figure.Figure at 0x7f2117fb3518>"
      ]
     },
     "metadata": {},
     "output_type": "display_data"
    }
   ],
   "source": [
    "import glob\n",
    "\n",
    "import matplotlib.pyplot as plt\n",
    "import pandas as pd\n",
    "\n",
    "THRESHOLD = 1000\n",
    "\n",
    "def readCSVbyCountry(path):\n",
    "    allFiles = glob.glob(path + \"/*.csv\")\n",
    "    frame = pd.DataFrame()\n",
    "    list_ = []\n",
    "    for file_ in allFiles:\n",
    "        df = pd.read_csv(file_,index_col=None, header=0)\n",
    "        list_.append(df)\n",
    "    df = pd.concat(list_)\n",
    "    df = pd.DataFrame(df)\n",
    "    df.dropna(axis=0, how='all')\n",
    "    df = df.fillna(0)\n",
    "    return df\n",
    "\n",
    "def getResult(df_confirmed, df_newcases, label):\n",
    "    # For each country I store: \n",
    "    # - the max value of deaths per month\n",
    "    # - the min value of deaths per month\n",
    "    # - the last day of the month in which I registered data\n",
    "    # - the first day of the month in which I registered data\n",
    "    df_confirmed['max_deaths'] = df_confirmed.Date.map(lambda x: df_confirmed.groupby('Date')['MAX'].max()[x])\n",
    "    df_confirmed['max_day'] = df_confirmed.Date.map(lambda x: df_confirmed.groupby('Date')['day'].max()[x])\n",
    "    df_confirmed['min_deaths'] = df_confirmed.Date.map(lambda x: df_confirmed.groupby('Date')['MAX'].min()[x])\n",
    "    df_confirmed['min_day'] = df_confirmed.Date.map(lambda x: df_confirmed.groupby('Date')['day'].min()[x])\n",
    "    \n",
    "    # I compute the number of days from FIRST and LAST day stored before\n",
    "    df_confirmed['days'] = df_confirmed['max_day'] - df_confirmed['min_day'] + 1\n",
    "    df_confirmed = df_confirmed.groupby(['Date']).first()\n",
    "    del df_confirmed['MAX']\n",
    "    del df_confirmed['day']\n",
    "    del df_confirmed['min_day']\n",
    "    del df_confirmed['max_day']\n",
    "    \n",
    "    # To prevent some typo errors in sierra leone dataset\n",
    "    df_newcases = df_newcases[df_newcases['MAX'] < THRESHOLD]\n",
    "    \n",
    "    # Get the daily average new cases confirmed per month\n",
    "    df_newcases[label+' new cases'] = df_newcases.Date.map(lambda x: df_newcases.groupby('Date')['MAX'].mean()[x])\n",
    "    df_newcases = df_newcases.groupby(['Date']).first()\n",
    "    del df_newcases['MAX']\n",
    "    result = pd.merge(df_newcases.reset_index(), df_confirmed.reset_index(), on=['Date'], how='inner').set_index(\n",
    "        ['Date'])\n",
    "    \n",
    "    # I get the montly deaths:\n",
    "    # - by subtracting MAX-DEATHS and MIN-DEATHS\n",
    "    # - by subtracting MAX-DEATHS and MAX-DEATHS of the previous month if MIN-DEATHS is the same for the month. \n",
    "    result['deaths_x'] = result['max_deaths'] - result['max_deaths'].shift(+1)\n",
    "    result['deaths_y'] = result['max_deaths'].sub(result['min_deaths'], axis=0)\n",
    "    result['deaths'] = result[['deaths_x', 'deaths_y']].max(axis=1)\n",
    "    \n",
    "    # Get the daily average deaths confirmed per month\n",
    "    result[label+' death'] = result['deaths'] / result['days']\n",
    "    del result['max_deaths']\n",
    "    del result['min_deaths']\n",
    "    del result['deaths']\n",
    "    del result['deaths_x']\n",
    "    del result['deaths_y']\n",
    "    del result['days']\n",
    "    del result['day']\n",
    "    # Return the result dataframe\n",
    "    return result\n",
    "\n",
    "# PATHS of the datasets\n",
    "path_guinea = r'./data/ebola/guinea_data'\n",
    "path_liberia = r'./data/ebola/liberia_data'\n",
    "path_sierraleone = r'./data/ebola/sl_data'\n",
    "\n",
    "# Reading all datasets for COUNTRY\n",
    "df = readCSVbyCountry(path_guinea)\n",
    "df = df.set_index('Description')\n",
    "col_list= list(df)\n",
    "col_list.remove('Date')\n",
    "col_list.remove('Totals')\n",
    "df = df.convert_objects(convert_numeric=True)\n",
    "df['TotalsByCity'] = df[col_list].sum(axis=1, numeric_only=True)\n",
    "df = df.fillna(0)\n",
    "df[\"MAX\"] = df['TotalsByCity']\n",
    "df = df[['MAX','Date']]\n",
    "df['day'] = pd.DatetimeIndex(df['Date']).day\n",
    "df.Date = pd.to_datetime(df.Date).dt.strftime('%m/%Y')\n",
    "df_confirmed = df.loc['Total deaths of confirmed']\n",
    "df_newcases = df.loc['New cases of confirmed']\n",
    "result_guinea = getResult(df_confirmed, df_newcases, 'Guinea')\n",
    "\n",
    "# Reading all datasets for COUNTRY\n",
    "df = readCSVbyCountry(path_liberia)\n",
    "df = df.set_index('Variable')\n",
    "col_list= list(df)\n",
    "col_list.remove('Date')\n",
    "col_list.remove('National')\n",
    "df = df.convert_objects(convert_numeric=True)\n",
    "df['TotalsByCity'] = df[col_list].sum(axis=1, numeric_only=True)\n",
    "df = df.fillna(0)\n",
    "df[\"MAX\"] = df[['TotalsByCity', 'National']].max(axis=1)\n",
    "df = df[['MAX','Date']]\n",
    "df['day'] = pd.DatetimeIndex(df['Date']).day\n",
    "df.Date = pd.to_datetime(df.Date).dt.strftime('%m/%Y')\n",
    "df_confirmed = df.loc['Total death/s in confirmed cases']\n",
    "df_newcases = df.loc['New case/s (confirmed)']\n",
    "result_liberia = getResult(df_confirmed, df_newcases, 'Liberia')\n",
    "\n",
    "# Reading all datasets for COUNTRY\n",
    "df = readCSVbyCountry(path_sierraleone)\n",
    "df = df.set_index('variable')\n",
    "col_list= list(df)\n",
    "col_list.remove('date')\n",
    "col_list.remove('National')\n",
    "df = df.convert_objects(convert_numeric=True)\n",
    "df['TotalsByCity'] = df[col_list].sum(axis=1, numeric_only=True)\n",
    "df = df.fillna(0)\n",
    "df[\"MAX\"] = df['TotalsByCity']\n",
    "df = df[['MAX','date']]\n",
    "df.rename(columns={\"date\": \"Date\"}, inplace=True)\n",
    "df['day'] = pd.DatetimeIndex(df['Date']).day\n",
    "df.Date = pd.to_datetime(df.Date).dt.strftime('%m/%Y')\n",
    "df_newcases = df.loc['new_confirmed']\n",
    "df_confirmed = df.loc['death_confirmed']\n",
    "\n",
    "result_sierra = getResult(df_confirmed, df_newcases, 'Sierra')\n",
    "\n",
    "result = pd.merge(result_liberia.reset_index(), result_guinea.reset_index(), on=['Date'], how='outer').set_index(['Date'])\n",
    "result = pd.merge(result.reset_index(), result_sierra.reset_index(), on=['Date'], how='outer').set_index(['Date'])\n",
    "result.plot()\n",
    "print(result.to_string())\n",
    "plt.title('Daily average per country')\n",
    "plt.show()\n"
   ]
  },
  {
   "cell_type": "markdown",
   "metadata": {},
   "source": [
    "## Task 2. RNA Sequences\n",
    "\n",
    "In the `DATA_FOLDER/microbiome` subdirectory, there are 9 spreadsheets of microbiome data that was acquired from high-throughput RNA sequencing procedures, along with a 10<sup>th</sup> file that describes the content of each. \n",
    "\n",
    "Use pandas to import the first 9 spreadsheets into a single `DataFrame`.\n",
    "Then, add the metadata information from the 10<sup>th</sup> spreadsheet as columns in the combined `DataFrame`.\n",
    "Make sure that the final `DataFrame` has a unique index and all the `NaN` values have been replaced by the tag `unknown`."
   ]
  },
  {
   "cell_type": "code",
   "execution_count": 6,
   "metadata": {},
   "outputs": [],
   "source": [
    "# Write your answer here"
   ]
  },
  {
   "cell_type": "markdown",
   "metadata": {},
   "source": [
    "## Task 3. Class War in Titanic\n",
    "\n",
    "Use pandas to import the data file `Data/titanic.xls`. It contains data on all the passengers that travelled on the Titanic."
   ]
  },
  {
   "cell_type": "code",
   "execution_count": 7,
   "metadata": {},
   "outputs": [
    {
     "data": {
      "text/html": [
       "<hr><h2>Data frame:titanic3</h2>1309 observations and 14 variables, maximum # NAs:1188<hr>\n",
       "<TABLE BORDER>\n",
       "<tr><td>Name</td><td>Labels</td><td>Units</td><td>Levels</td><td>Storage</td><td>NAs</td></tr>\n",
       "<tr><td>pclass</td><td></td><td></td><td><a href=\"#pclass\"><div align=right>  3</div></a></td><td>integer</td><td><div align=right>   0</div></td></tr>\n",
       "<tr><td>survived</td><td>Survived</td><td></td><td><div align=right></div></td><td>double</td><td><div align=right>   0</div></td></tr>\n",
       "<tr><td>name</td><td>Name</td><td></td><td><div align=right></div></td><td>character</td><td><div align=right>   0</div></td></tr>\n",
       "<tr><td>sex</td><td></td><td></td><td><a href=\"#sex\"><div align=right>  2</div></a></td><td>integer</td><td><div align=right>   0</div></td></tr>\n",
       "<tr><td>age</td><td>Age</td><td>Year</td><td><div align=right></div></td><td>double</td><td><div align=right> 263</div></td></tr>\n",
       "<tr><td>sibsp</td><td>Number of Siblings/Spouses Aboard</td><td></td><td><div align=right></div></td><td>double</td><td><div align=right>   0</div></td></tr>\n",
       "<tr><td>parch</td><td>Number of Parents/Children Aboard</td><td></td><td><div align=right></div></td><td>double</td><td><div align=right>   0</div></td></tr>\n",
       "<tr><td>ticket</td><td>Ticket Number</td><td></td><td><div align=right></div></td><td>character</td><td><div align=right>   0</div></td></tr>\n",
       "<tr><td>fare</td><td>Passenger Fare</td><td>British Pound (\\243)</td><td><div align=right></div></td><td>double</td><td><div align=right>   1</div></td></tr>\n",
       "<tr><td>cabin</td><td></td><td></td><td><a href=\"#cabin\"><div align=right>187</div></a></td><td>integer</td><td><div align=right>   0</div></td></tr>\n",
       "<tr><td>embarked</td><td></td><td></td><td><a href=\"#embarked\"><div align=right>  3</div></a></td><td>integer</td><td><div align=right>   2</div></td></tr>\n",
       "<tr><td>boat</td><td></td><td></td><td><a href=\"#boat\"><div align=right> 28</div></a></td><td>integer</td><td><div align=right>   0</div></td></tr>\n",
       "<tr><td>body</td><td>Body Identification Number</td><td></td><td><div align=right></div></td><td>double</td><td><div align=right>1188</div></td></tr>\n",
       "<tr><td>home.dest</td><td>Home/Destination</td><td></td><td><div align=right></div></td><td>character</td><td><div align=right>   0</div></td></tr>\n",
       "</TABLE>\n",
       "<hr>\n",
       "<TABLE BORDER>\n",
       "<tr><td>Variable</td><td>Levels</td></tr>\n",
       "<tr><td><a name=\"pclass\">pclass</a></td><td>1st</td></tr>\n",
       "<tr><td></td><td>2nd</td></tr>\n",
       "<tr><td></td><td>3rd</td></tr>\n",
       "<tr><td><a name=\"sex\">sex</a></td><td>female</td></tr>\n",
       "<tr><td></td><td>male</td></tr>\n",
       "<tr><td><a name=\"cabin\">cabin</a></td><td></td></tr>\n",
       "<tr><td></td><td>A10</td></tr>\n",
       "<tr><td></td><td>A11</td></tr>\n",
       "<tr><td></td><td>A14</td></tr>\n",
       "<tr><td></td><td>A16</td></tr>\n",
       "<tr><td></td><td>A18</td></tr>\n",
       "<tr><td></td><td>A19</td></tr>\n",
       "<tr><td></td><td>A20</td></tr>\n",
       "<tr><td></td><td>A21</td></tr>\n",
       "<tr><td></td><td>A23</td></tr>\n",
       "<tr><td></td><td>A24</td></tr>\n",
       "<tr><td></td><td>A26</td></tr>\n",
       "<tr><td></td><td>A29</td></tr>\n",
       "<tr><td></td><td>A31</td></tr>\n",
       "<tr><td></td><td>A32</td></tr>\n",
       "<tr><td></td><td>A34</td></tr>\n",
       "<tr><td></td><td>A36</td></tr>\n",
       "<tr><td></td><td>A5</td></tr>\n",
       "<tr><td></td><td>A6</td></tr>\n",
       "<tr><td></td><td>A7</td></tr>\n",
       "<tr><td></td><td>A9</td></tr>\n",
       "<tr><td></td><td>B10</td></tr>\n",
       "<tr><td></td><td>B101</td></tr>\n",
       "<tr><td></td><td>B102</td></tr>\n",
       "<tr><td></td><td>B11</td></tr>\n",
       "<tr><td></td><td>B18</td></tr>\n",
       "<tr><td></td><td>B19</td></tr>\n",
       "<tr><td></td><td>B20</td></tr>\n",
       "<tr><td></td><td>B22</td></tr>\n",
       "<tr><td></td><td>B24</td></tr>\n",
       "<tr><td></td><td>B26</td></tr>\n",
       "<tr><td></td><td>B28</td></tr>\n",
       "<tr><td></td><td>B3</td></tr>\n",
       "<tr><td></td><td>B30</td></tr>\n",
       "<tr><td></td><td>B35</td></tr>\n",
       "<tr><td></td><td>B36</td></tr>\n",
       "<tr><td></td><td>B37</td></tr>\n",
       "<tr><td></td><td>B38</td></tr>\n",
       "<tr><td></td><td>B39</td></tr>\n",
       "<tr><td></td><td>B4</td></tr>\n",
       "<tr><td></td><td>B41</td></tr>\n",
       "<tr><td></td><td>B42</td></tr>\n",
       "<tr><td></td><td>B45</td></tr>\n",
       "<tr><td></td><td>B49</td></tr>\n",
       "<tr><td></td><td>B5</td></tr>\n",
       "<tr><td></td><td>B50</td></tr>\n",
       "<tr><td></td><td>B51 B53 B55</td></tr>\n",
       "<tr><td></td><td>B52 B54 B56</td></tr>\n",
       "<tr><td></td><td>B57 B59 B63 B66</td></tr>\n",
       "<tr><td></td><td>B58 B60</td></tr>\n",
       "<tr><td></td><td>B61</td></tr>\n",
       "<tr><td></td><td>B69</td></tr>\n",
       "<tr><td></td><td>B71</td></tr>\n",
       "<tr><td></td><td>B73</td></tr>\n",
       "<tr><td></td><td>B77</td></tr>\n",
       "<tr><td></td><td>B78</td></tr>\n",
       "<tr><td></td><td>B79</td></tr>\n",
       "<tr><td></td><td>B80</td></tr>\n",
       "<tr><td></td><td>B82 B84</td></tr>\n",
       "<tr><td></td><td>B86</td></tr>\n",
       "<tr><td></td><td>B94</td></tr>\n",
       "<tr><td></td><td>B96 B98</td></tr>\n",
       "<tr><td></td><td>C101</td></tr>\n",
       "<tr><td></td><td>C103</td></tr>\n",
       "<tr><td></td><td>C104</td></tr>\n",
       "<tr><td></td><td>C105</td></tr>\n",
       "<tr><td></td><td>C106</td></tr>\n",
       "<tr><td></td><td>C110</td></tr>\n",
       "<tr><td></td><td>C111</td></tr>\n",
       "<tr><td></td><td>C116</td></tr>\n",
       "<tr><td></td><td>C118</td></tr>\n",
       "<tr><td></td><td>C123</td></tr>\n",
       "<tr><td></td><td>C124</td></tr>\n",
       "<tr><td></td><td>C125</td></tr>\n",
       "<tr><td></td><td>C126</td></tr>\n",
       "<tr><td></td><td>C128</td></tr>\n",
       "<tr><td></td><td>C130</td></tr>\n",
       "<tr><td></td><td>C132</td></tr>\n",
       "<tr><td></td><td>C148</td></tr>\n",
       "<tr><td></td><td>C2</td></tr>\n",
       "<tr><td></td><td>C22 C26</td></tr>\n",
       "<tr><td></td><td>C23 C25 C27</td></tr>\n",
       "<tr><td></td><td>C28</td></tr>\n",
       "<tr><td></td><td>C30</td></tr>\n",
       "<tr><td></td><td>C31</td></tr>\n",
       "<tr><td></td><td>C32</td></tr>\n",
       "<tr><td></td><td>C39</td></tr>\n",
       "<tr><td></td><td>C45</td></tr>\n",
       "<tr><td></td><td>C46</td></tr>\n",
       "<tr><td></td><td>C47</td></tr>\n",
       "<tr><td></td><td>C49</td></tr>\n",
       "<tr><td></td><td>C50</td></tr>\n",
       "<tr><td></td><td>C51</td></tr>\n",
       "<tr><td></td><td>C52</td></tr>\n",
       "<tr><td></td><td>C53</td></tr>\n",
       "<tr><td></td><td>C54</td></tr>\n",
       "<tr><td></td><td>C55 C57</td></tr>\n",
       "<tr><td></td><td>C6</td></tr>\n",
       "<tr><td></td><td>C62 C64</td></tr>\n",
       "<tr><td></td><td>C65</td></tr>\n",
       "<tr><td></td><td>C68</td></tr>\n",
       "<tr><td></td><td>C7</td></tr>\n",
       "<tr><td></td><td>C70</td></tr>\n",
       "<tr><td></td><td>C78</td></tr>\n",
       "<tr><td></td><td>C80</td></tr>\n",
       "<tr><td></td><td>C82</td></tr>\n",
       "<tr><td></td><td>C83</td></tr>\n",
       "<tr><td></td><td>C85</td></tr>\n",
       "<tr><td></td><td>C86</td></tr>\n",
       "<tr><td></td><td>C87</td></tr>\n",
       "<tr><td></td><td>C89</td></tr>\n",
       "<tr><td></td><td>C90</td></tr>\n",
       "<tr><td></td><td>C91</td></tr>\n",
       "<tr><td></td><td>C92</td></tr>\n",
       "<tr><td></td><td>C93</td></tr>\n",
       "<tr><td></td><td>C95</td></tr>\n",
       "<tr><td></td><td>C97</td></tr>\n",
       "<tr><td></td><td>C99</td></tr>\n",
       "<tr><td></td><td>D</td></tr>\n",
       "<tr><td></td><td>D10 D12</td></tr>\n",
       "<tr><td></td><td>D11</td></tr>\n",
       "<tr><td></td><td>D15</td></tr>\n",
       "<tr><td></td><td>D17</td></tr>\n",
       "<tr><td></td><td>D19</td></tr>\n",
       "<tr><td></td><td>D20</td></tr>\n",
       "<tr><td></td><td>D21</td></tr>\n",
       "<tr><td></td><td>D22</td></tr>\n",
       "<tr><td></td><td>D26</td></tr>\n",
       "<tr><td></td><td>D28</td></tr>\n",
       "<tr><td></td><td>D30</td></tr>\n",
       "<tr><td></td><td>D33</td></tr>\n",
       "<tr><td></td><td>D34</td></tr>\n",
       "<tr><td></td><td>D35</td></tr>\n",
       "<tr><td></td><td>D36</td></tr>\n",
       "<tr><td></td><td>D37</td></tr>\n",
       "<tr><td></td><td>D38</td></tr>\n",
       "<tr><td></td><td>D40</td></tr>\n",
       "<tr><td></td><td>D43</td></tr>\n",
       "<tr><td></td><td>D45</td></tr>\n",
       "<tr><td></td><td>D46</td></tr>\n",
       "<tr><td></td><td>D47</td></tr>\n",
       "<tr><td></td><td>D48</td></tr>\n",
       "<tr><td></td><td>D49</td></tr>\n",
       "<tr><td></td><td>D50</td></tr>\n",
       "<tr><td></td><td>D56</td></tr>\n",
       "<tr><td></td><td>D6</td></tr>\n",
       "<tr><td></td><td>D7</td></tr>\n",
       "<tr><td></td><td>D9</td></tr>\n",
       "<tr><td></td><td>E10</td></tr>\n",
       "<tr><td></td><td>E101</td></tr>\n",
       "<tr><td></td><td>E12</td></tr>\n",
       "<tr><td></td><td>E121</td></tr>\n",
       "<tr><td></td><td>E17</td></tr>\n",
       "<tr><td></td><td>E24</td></tr>\n",
       "<tr><td></td><td>E25</td></tr>\n",
       "<tr><td></td><td>E31</td></tr>\n",
       "<tr><td></td><td>E33</td></tr>\n",
       "<tr><td></td><td>E34</td></tr>\n",
       "<tr><td></td><td>E36</td></tr>\n",
       "<tr><td></td><td>E38</td></tr>\n",
       "<tr><td></td><td>E39 E41</td></tr>\n",
       "<tr><td></td><td>E40</td></tr>\n",
       "<tr><td></td><td>E44</td></tr>\n",
       "<tr><td></td><td>E45</td></tr>\n",
       "<tr><td></td><td>E46</td></tr>\n",
       "<tr><td></td><td>E49</td></tr>\n",
       "<tr><td></td><td>E50</td></tr>\n",
       "<tr><td></td><td>E52</td></tr>\n",
       "<tr><td></td><td>E58</td></tr>\n",
       "<tr><td></td><td>E60</td></tr>\n",
       "<tr><td></td><td>E63</td></tr>\n",
       "<tr><td></td><td>E67</td></tr>\n",
       "<tr><td></td><td>E68</td></tr>\n",
       "<tr><td></td><td>E77</td></tr>\n",
       "<tr><td></td><td>E8</td></tr>\n",
       "<tr><td></td><td>F</td></tr>\n",
       "<tr><td></td><td>F E46</td></tr>\n",
       "<tr><td></td><td>F E57</td></tr>\n",
       "<tr><td></td><td>F E69</td></tr>\n",
       "<tr><td></td><td>F G63</td></tr>\n",
       "<tr><td></td><td>F G73</td></tr>\n",
       "<tr><td></td><td>F2</td></tr>\n",
       "<tr><td></td><td>F33</td></tr>\n",
       "<tr><td></td><td>F38</td></tr>\n",
       "<tr><td></td><td>F4</td></tr>\n",
       "<tr><td></td><td>G6</td></tr>\n",
       "<tr><td></td><td>T</td></tr>\n",
       "<tr><td><a name=\"embarked\">embarked</a></td><td>Cherbourg</td></tr>\n",
       "<tr><td></td><td>Queenstown</td></tr>\n",
       "<tr><td></td><td>Southampton</td></tr>\n",
       "<tr><td><a name=\"boat\">boat</a></td><td></td></tr>\n",
       "<tr><td></td><td>1</td></tr>\n",
       "<tr><td></td><td>10</td></tr>\n",
       "<tr><td></td><td>11</td></tr>\n",
       "<tr><td></td><td>12</td></tr>\n",
       "<tr><td></td><td>13</td></tr>\n",
       "<tr><td></td><td>13 15</td></tr>\n",
       "<tr><td></td><td>13 15 B</td></tr>\n",
       "<tr><td></td><td>14</td></tr>\n",
       "<tr><td></td><td>15</td></tr>\n",
       "<tr><td></td><td>15 16</td></tr>\n",
       "<tr><td></td><td>16</td></tr>\n",
       "<tr><td></td><td>2</td></tr>\n",
       "<tr><td></td><td>3</td></tr>\n",
       "<tr><td></td><td>4</td></tr>\n",
       "<tr><td></td><td>5</td></tr>\n",
       "<tr><td></td><td>5 7</td></tr>\n",
       "<tr><td></td><td>5 9</td></tr>\n",
       "<tr><td></td><td>6</td></tr>\n",
       "<tr><td></td><td>7</td></tr>\n",
       "<tr><td></td><td>8</td></tr>\n",
       "<tr><td></td><td>8 10</td></tr>\n",
       "<tr><td></td><td>9</td></tr>\n",
       "<tr><td></td><td>A</td></tr>\n",
       "<tr><td></td><td>B</td></tr>\n",
       "<tr><td></td><td>C</td></tr>\n",
       "<tr><td></td><td>C D</td></tr>\n",
       "<tr><td></td><td>D</td></tr>\n",
       "</TABLE>\n",
       "<hr>\n"
      ],
      "text/plain": [
       "<IPython.core.display.HTML object>"
      ]
     },
     "execution_count": 7,
     "metadata": {},
     "output_type": "execute_result"
    }
   ],
   "source": [
    "from IPython.core.display import HTML\n",
    "HTML(filename=DATA_FOLDER+'/titanic.html')"
   ]
  },
  {
   "cell_type": "markdown",
   "metadata": {},
   "source": [
    "For each of the following questions state clearly your assumptions and discuss your findings:\n",
    "1. Describe the *type* and the *value range* of each attribute. Indicate and transform the attributes that can be `Categorical`. \n",
    "2. Plot histograms for the *travel class*, *embarkation port*, *sex* and *age* attributes. For the latter one, use *discrete decade intervals*. \n",
    "3. Calculate the proportion of passengers by *cabin floor*. Present your results in a *pie chart*.\n",
    "4. For each *travel class*, calculate the proportion of the passengers that survived. Present your results in *pie charts*.\n",
    "5. Calculate the proportion of the passengers that survived by *travel class* and *sex*. Present your results in *a single histogram*.\n",
    "6. Create 2 equally populated *age categories* and calculate survival proportions by *age category*, *travel class* and *sex*. Present your results in a `DataFrame` with unique index."
   ]
  },
  {
   "cell_type": "markdown",
   "metadata": {},
   "source": [
    "#### 1. Describe the *type* and the *value range* of each attribute. Indicate and transform the attributes that can be `Categorical`. \n",
    "\n",
    "To begin with, the data is loaded from the excel sheet. In order to avoid problems with the '.' in the column name 'home.dest' we rename it to 'home_dest'. (In particular, accessing the column via a dot would yield an error otherwise."
   ]
  },
  {
   "cell_type": "code",
   "execution_count": 8,
   "metadata": {},
   "outputs": [
    {
     "data": {
      "text/html": [
       "<div>\n",
       "<style>\n",
       "    .dataframe thead tr:only-child th {\n",
       "        text-align: right;\n",
       "    }\n",
       "\n",
       "    .dataframe thead th {\n",
       "        text-align: left;\n",
       "    }\n",
       "\n",
       "    .dataframe tbody tr th {\n",
       "        vertical-align: top;\n",
       "    }\n",
       "</style>\n",
       "<table border=\"1\" class=\"dataframe\">\n",
       "  <thead>\n",
       "    <tr style=\"text-align: right;\">\n",
       "      <th></th>\n",
       "      <th>pclass</th>\n",
       "      <th>survived</th>\n",
       "      <th>name</th>\n",
       "      <th>sex</th>\n",
       "      <th>age</th>\n",
       "      <th>sibsp</th>\n",
       "      <th>parch</th>\n",
       "      <th>ticket</th>\n",
       "      <th>fare</th>\n",
       "      <th>cabin</th>\n",
       "      <th>embarked</th>\n",
       "      <th>boat</th>\n",
       "      <th>body</th>\n",
       "      <th>home_dest</th>\n",
       "    </tr>\n",
       "  </thead>\n",
       "  <tbody>\n",
       "    <tr>\n",
       "      <th>0</th>\n",
       "      <td>1</td>\n",
       "      <td>1</td>\n",
       "      <td>Allen, Miss. Elisabeth Walton</td>\n",
       "      <td>female</td>\n",
       "      <td>29.0000</td>\n",
       "      <td>0</td>\n",
       "      <td>0</td>\n",
       "      <td>24160</td>\n",
       "      <td>211.3375</td>\n",
       "      <td>B5</td>\n",
       "      <td>S</td>\n",
       "      <td>2</td>\n",
       "      <td>NaN</td>\n",
       "      <td>St Louis, MO</td>\n",
       "    </tr>\n",
       "    <tr>\n",
       "      <th>1</th>\n",
       "      <td>1</td>\n",
       "      <td>1</td>\n",
       "      <td>Allison, Master. Hudson Trevor</td>\n",
       "      <td>male</td>\n",
       "      <td>0.9167</td>\n",
       "      <td>1</td>\n",
       "      <td>2</td>\n",
       "      <td>113781</td>\n",
       "      <td>151.5500</td>\n",
       "      <td>C22 C26</td>\n",
       "      <td>S</td>\n",
       "      <td>11</td>\n",
       "      <td>NaN</td>\n",
       "      <td>Montreal, PQ / Chesterville, ON</td>\n",
       "    </tr>\n",
       "    <tr>\n",
       "      <th>2</th>\n",
       "      <td>1</td>\n",
       "      <td>0</td>\n",
       "      <td>Allison, Miss. Helen Loraine</td>\n",
       "      <td>female</td>\n",
       "      <td>2.0000</td>\n",
       "      <td>1</td>\n",
       "      <td>2</td>\n",
       "      <td>113781</td>\n",
       "      <td>151.5500</td>\n",
       "      <td>C22 C26</td>\n",
       "      <td>S</td>\n",
       "      <td>NaN</td>\n",
       "      <td>NaN</td>\n",
       "      <td>Montreal, PQ / Chesterville, ON</td>\n",
       "    </tr>\n",
       "    <tr>\n",
       "      <th>3</th>\n",
       "      <td>1</td>\n",
       "      <td>0</td>\n",
       "      <td>Allison, Mr. Hudson Joshua Creighton</td>\n",
       "      <td>male</td>\n",
       "      <td>30.0000</td>\n",
       "      <td>1</td>\n",
       "      <td>2</td>\n",
       "      <td>113781</td>\n",
       "      <td>151.5500</td>\n",
       "      <td>C22 C26</td>\n",
       "      <td>S</td>\n",
       "      <td>NaN</td>\n",
       "      <td>135.0</td>\n",
       "      <td>Montreal, PQ / Chesterville, ON</td>\n",
       "    </tr>\n",
       "    <tr>\n",
       "      <th>4</th>\n",
       "      <td>1</td>\n",
       "      <td>0</td>\n",
       "      <td>Allison, Mrs. Hudson J C (Bessie Waldo Daniels)</td>\n",
       "      <td>female</td>\n",
       "      <td>25.0000</td>\n",
       "      <td>1</td>\n",
       "      <td>2</td>\n",
       "      <td>113781</td>\n",
       "      <td>151.5500</td>\n",
       "      <td>C22 C26</td>\n",
       "      <td>S</td>\n",
       "      <td>NaN</td>\n",
       "      <td>NaN</td>\n",
       "      <td>Montreal, PQ / Chesterville, ON</td>\n",
       "    </tr>\n",
       "  </tbody>\n",
       "</table>\n",
       "</div>"
      ],
      "text/plain": [
       "   pclass  survived                                             name     sex  \\\n",
       "0       1         1                    Allen, Miss. Elisabeth Walton  female   \n",
       "1       1         1                   Allison, Master. Hudson Trevor    male   \n",
       "2       1         0                     Allison, Miss. Helen Loraine  female   \n",
       "3       1         0             Allison, Mr. Hudson Joshua Creighton    male   \n",
       "4       1         0  Allison, Mrs. Hudson J C (Bessie Waldo Daniels)  female   \n",
       "\n",
       "       age  sibsp  parch  ticket      fare    cabin embarked boat   body  \\\n",
       "0  29.0000      0      0   24160  211.3375       B5        S    2    NaN   \n",
       "1   0.9167      1      2  113781  151.5500  C22 C26        S   11    NaN   \n",
       "2   2.0000      1      2  113781  151.5500  C22 C26        S  NaN    NaN   \n",
       "3  30.0000      1      2  113781  151.5500  C22 C26        S  NaN  135.0   \n",
       "4  25.0000      1      2  113781  151.5500  C22 C26        S  NaN    NaN   \n",
       "\n",
       "                         home_dest  \n",
       "0                     St Louis, MO  \n",
       "1  Montreal, PQ / Chesterville, ON  \n",
       "2  Montreal, PQ / Chesterville, ON  \n",
       "3  Montreal, PQ / Chesterville, ON  \n",
       "4  Montreal, PQ / Chesterville, ON  "
      ]
     },
     "execution_count": 8,
     "metadata": {},
     "output_type": "execute_result"
    }
   ],
   "source": [
    "titanic = pd.read_excel(DATA_FOLDER+'/titanic.xls', sheetname='titanic')\n",
    "titanic.rename(columns={'home.dest': 'home_dest'}, inplace=True)\n",
    "titanic.head()"
   ]
  },
  {
   "cell_type": "markdown",
   "metadata": {},
   "source": [
    "Now let us take a closer look at the data types. Pandas detects the following types:"
   ]
  },
  {
   "cell_type": "code",
   "execution_count": 9,
   "metadata": {
    "scrolled": true
   },
   "outputs": [
    {
     "data": {
      "text/plain": [
       "pclass         int64\n",
       "survived       int64\n",
       "name          object\n",
       "sex           object\n",
       "age          float64\n",
       "sibsp          int64\n",
       "parch          int64\n",
       "ticket        object\n",
       "fare         float64\n",
       "cabin         object\n",
       "embarked      object\n",
       "boat          object\n",
       "body         float64\n",
       "home_dest     object\n",
       "dtype: object"
      ]
     },
     "execution_count": 9,
     "metadata": {},
     "output_type": "execute_result"
    }
   ],
   "source": [
    "titanic.dtypes"
   ]
  },
  {
   "cell_type": "markdown",
   "metadata": {},
   "source": [
    "Sometimes those types are more general than necessary, e.g. the name attribute could also be considered a String. However, our analysis worked well with the types as they are specified here and we therefore did not perform any casts.\n",
    "\n",
    "For the numeric values, the value range can be seen in the overview statistics provided by the `describe` function (see the min and max values)."
   ]
  },
  {
   "cell_type": "code",
   "execution_count": 10,
   "metadata": {},
   "outputs": [
    {
     "data": {
      "text/html": [
       "<div>\n",
       "<style>\n",
       "    .dataframe thead tr:only-child th {\n",
       "        text-align: right;\n",
       "    }\n",
       "\n",
       "    .dataframe thead th {\n",
       "        text-align: left;\n",
       "    }\n",
       "\n",
       "    .dataframe tbody tr th {\n",
       "        vertical-align: top;\n",
       "    }\n",
       "</style>\n",
       "<table border=\"1\" class=\"dataframe\">\n",
       "  <thead>\n",
       "    <tr style=\"text-align: right;\">\n",
       "      <th></th>\n",
       "      <th>pclass</th>\n",
       "      <th>survived</th>\n",
       "      <th>age</th>\n",
       "      <th>sibsp</th>\n",
       "      <th>parch</th>\n",
       "      <th>fare</th>\n",
       "      <th>body</th>\n",
       "    </tr>\n",
       "  </thead>\n",
       "  <tbody>\n",
       "    <tr>\n",
       "      <th>count</th>\n",
       "      <td>1309.000000</td>\n",
       "      <td>1309.000000</td>\n",
       "      <td>1046.000000</td>\n",
       "      <td>1309.000000</td>\n",
       "      <td>1309.000000</td>\n",
       "      <td>1308.000000</td>\n",
       "      <td>121.000000</td>\n",
       "    </tr>\n",
       "    <tr>\n",
       "      <th>mean</th>\n",
       "      <td>2.294882</td>\n",
       "      <td>0.381971</td>\n",
       "      <td>29.881135</td>\n",
       "      <td>0.498854</td>\n",
       "      <td>0.385027</td>\n",
       "      <td>33.295479</td>\n",
       "      <td>160.809917</td>\n",
       "    </tr>\n",
       "    <tr>\n",
       "      <th>std</th>\n",
       "      <td>0.837836</td>\n",
       "      <td>0.486055</td>\n",
       "      <td>14.413500</td>\n",
       "      <td>1.041658</td>\n",
       "      <td>0.865560</td>\n",
       "      <td>51.758668</td>\n",
       "      <td>97.696922</td>\n",
       "    </tr>\n",
       "    <tr>\n",
       "      <th>min</th>\n",
       "      <td>1.000000</td>\n",
       "      <td>0.000000</td>\n",
       "      <td>0.166700</td>\n",
       "      <td>0.000000</td>\n",
       "      <td>0.000000</td>\n",
       "      <td>0.000000</td>\n",
       "      <td>1.000000</td>\n",
       "    </tr>\n",
       "    <tr>\n",
       "      <th>25%</th>\n",
       "      <td>2.000000</td>\n",
       "      <td>0.000000</td>\n",
       "      <td>21.000000</td>\n",
       "      <td>0.000000</td>\n",
       "      <td>0.000000</td>\n",
       "      <td>7.895800</td>\n",
       "      <td>72.000000</td>\n",
       "    </tr>\n",
       "    <tr>\n",
       "      <th>50%</th>\n",
       "      <td>3.000000</td>\n",
       "      <td>0.000000</td>\n",
       "      <td>28.000000</td>\n",
       "      <td>0.000000</td>\n",
       "      <td>0.000000</td>\n",
       "      <td>14.454200</td>\n",
       "      <td>155.000000</td>\n",
       "    </tr>\n",
       "    <tr>\n",
       "      <th>75%</th>\n",
       "      <td>3.000000</td>\n",
       "      <td>1.000000</td>\n",
       "      <td>39.000000</td>\n",
       "      <td>1.000000</td>\n",
       "      <td>0.000000</td>\n",
       "      <td>31.275000</td>\n",
       "      <td>256.000000</td>\n",
       "    </tr>\n",
       "    <tr>\n",
       "      <th>max</th>\n",
       "      <td>3.000000</td>\n",
       "      <td>1.000000</td>\n",
       "      <td>80.000000</td>\n",
       "      <td>8.000000</td>\n",
       "      <td>9.000000</td>\n",
       "      <td>512.329200</td>\n",
       "      <td>328.000000</td>\n",
       "    </tr>\n",
       "  </tbody>\n",
       "</table>\n",
       "</div>"
      ],
      "text/plain": [
       "            pclass     survived          age        sibsp        parch  \\\n",
       "count  1309.000000  1309.000000  1046.000000  1309.000000  1309.000000   \n",
       "mean      2.294882     0.381971    29.881135     0.498854     0.385027   \n",
       "std       0.837836     0.486055    14.413500     1.041658     0.865560   \n",
       "min       1.000000     0.000000     0.166700     0.000000     0.000000   \n",
       "25%       2.000000     0.000000    21.000000     0.000000     0.000000   \n",
       "50%       3.000000     0.000000    28.000000     0.000000     0.000000   \n",
       "75%       3.000000     1.000000    39.000000     1.000000     0.000000   \n",
       "max       3.000000     1.000000    80.000000     8.000000     9.000000   \n",
       "\n",
       "              fare        body  \n",
       "count  1308.000000  121.000000  \n",
       "mean     33.295479  160.809917  \n",
       "std      51.758668   97.696922  \n",
       "min       0.000000    1.000000  \n",
       "25%       7.895800   72.000000  \n",
       "50%      14.454200  155.000000  \n",
       "75%      31.275000  256.000000  \n",
       "max     512.329200  328.000000  "
      ]
     },
     "execution_count": 10,
     "metadata": {},
     "output_type": "execute_result"
    }
   ],
   "source": [
    "titanic.describe()"
   ]
  },
  {
   "cell_type": "markdown",
   "metadata": {},
   "source": [
    "For the other attributes, one can not specify a range but it is possible to specify the set of possible values. For example, the name attribute consists of strings representing valid names. The ticket attribute, on the other hand, is essentially an integer value. The reason that it is still encoded as an object value is that some entries have the prefix 'PC' before the number, which results in a string value. If the attribute is needed in the further analysis it would make sense to delete this prefix. As the attribute is not used in our analysis we did not take further steps to clean the values of this attribute.\n",
    "\n",
    "The other object typed attribute take a finite set of values which can be seen in the following analysis wich was performed in order to find out which values can be `Categorical`:"
   ]
  },
  {
   "cell_type": "code",
   "execution_count": 11,
   "metadata": {},
   "outputs": [
    {
     "name": "stdout",
     "output_type": "stream",
     "text": [
      "[1 2 3]\n",
      "[0 1]\n",
      "['female' 'male']\n",
      "['A10' 'A11' 'A14' 'A16' 'A18' 'A19' 'A20' 'A21' 'A23' 'A24' 'A26' 'A29'\n",
      " 'A31' 'A32' 'A34' 'A36' 'A5' 'A6' 'A7' 'A9' 'B10' 'B101' 'B102' 'B11'\n",
      " 'B18' 'B19' 'B20' 'B22' 'B24' 'B26' 'B28' 'B3' 'B30' 'B35' 'B36' 'B37'\n",
      " 'B38' 'B39' 'B4' 'B41' 'B42' 'B45' 'B49' 'B5' 'B50' 'B51 B53 B55'\n",
      " 'B52 B54 B56' 'B57 B59 B63 B66' 'B58 B60' 'B61' 'B69' 'B71' 'B73' 'B77'\n",
      " 'B78' 'B79' 'B80' 'B82 B84' 'B86' 'B94' 'B96 B98' 'C101' 'C103' 'C104'\n",
      " 'C105' 'C106' 'C110' 'C111' 'C116' 'C118' 'C123' 'C124' 'C125' 'C126'\n",
      " 'C128' 'C130' 'C132' 'C148' 'C2' 'C22 C26' 'C23 C25 C27' 'C28' 'C30' 'C31'\n",
      " 'C32' 'C39' 'C45' 'C46' 'C47' 'C49' 'C50' 'C51' 'C52' 'C53' 'C54'\n",
      " 'C55 C57' 'C6' 'C62 C64' 'C65' 'C68' 'C7' 'C70' 'C78' 'C80' 'C82' 'C83'\n",
      " 'C85' 'C86' 'C87' 'C89' 'C90' 'C91' 'C92' 'C93' 'C95' 'C97' 'C99' 'D'\n",
      " 'D10 D12' 'D11' 'D15' 'D17' 'D19' 'D20' 'D21' 'D22' 'D26' 'D28' 'D30'\n",
      " 'D33' 'D34' 'D35' 'D36' 'D37' 'D38' 'D40' 'D43' 'D45' 'D46' 'D47' 'D48'\n",
      " 'D49' 'D50' 'D56' 'D6' 'D7' 'D9' 'E10' 'E101' 'E12' 'E121' 'E17' 'E24'\n",
      " 'E25' 'E31' 'E33' 'E34' 'E36' 'E38' 'E39 E41' 'E40' 'E44' 'E45' 'E46'\n",
      " 'E49' 'E50' 'E52' 'E58' 'E60' 'E63' 'E67' 'E68' 'E77' 'E8' 'F' 'F E46'\n",
      " 'F E57' 'F E69' 'F G63' 'F G73' 'F2' 'F33' 'F38' 'F4' 'G6' 'T']\n",
      "['C' 'Q' 'S']\n",
      "['1' '10' '11' '12' '13' '13 15' '13 15 B' '14' '15' '15 16' '16' '2' '3'\n",
      " '4' '5' '5 7' '5 9' '6' '7' '8' '8 10' '9' 'A' 'B' 'C' 'C D' 'D']\n",
      "['?Havana, Cuba' 'Aberdeen / Portland, OR' 'Albany, NY'\n",
      " 'Altdorf, Switzerland' 'Amenia, ND' 'Antwerp, Belgium / Stanton, OH'\n",
      " 'Argentina' 'Asarum, Sweden Brooklyn, NY'\n",
      " 'Ascot, Berkshire / Rochester, NY' 'Auburn, NY'\n",
      " 'Aughnacliff, Co Longford, Ireland New York, NY' 'Australia Fingal, ND'\n",
      " 'Austria' 'Austria Niagara Falls, NY' 'Austria-Hungary'\n",
      " 'Austria-Hungary / Germantown, Philadelphia, PA'\n",
      " 'Bangkok, Thailand / Roseville, IL' 'Barcelona, Spain / Havana, Cuba'\n",
      " 'Barre, Co Washington, VT' 'Basel, Switzerland'\n",
      " 'Bath, England / Massachusetts' 'Bayside, Queens, NY' 'Belfast'\n",
      " 'Belfast, NI' 'Belgium  Montreal, PQ' 'Belgium Detroit, MI' 'Belmont, MA'\n",
      " 'Bennington, VT' 'Bergen, Norway' 'Berne, Switzerland / Central City, IA'\n",
      " 'Birkdale, England Cleveland, Ohio'\n",
      " 'Bishopstoke, Hants / Fayette Valley, ID' 'Boston, MA'\n",
      " 'Bournemouth, England' 'Bournemouth, England Newark, NJ'\n",
      " 'Bournmouth, England' 'Brennes, Norway New York' 'Bridgerule, Devon'\n",
      " 'Bridgwater, Somerset, England' 'Brighton, MA' 'Brighton, Sussex'\n",
      " 'Bristol, Avon / Jacksonville, FL' 'Bristol, England / New Britain, CT'\n",
      " 'Bristol, England Cleveland, OH' 'Brockton, MA'\n",
      " 'Bromsgrove, England / Montreal, PQ' 'Bronx, NY' 'Brookline, MA'\n",
      " 'Brooklyn, NY' 'Broomfield, Chelmsford, England' 'Brunswick, ME'\n",
      " 'Bryn Mawr, PA' 'Bryn Mawr, PA, USA'\n",
      " 'Buenos Aires, Argentina / New Jersey, NJ' 'Buffalo, NY'\n",
      " 'Bulgaria Chicago, IL' 'Bulgaria Coon Rapids, IA' 'Calgary, AB'\n",
      " 'Cambridge, MA' 'Cape Town, South Africa / Seattle, WA'\n",
      " 'Catford, Kent / Detroit, MI' 'Chelsea, London' 'Chicago, IL'\n",
      " 'Cincinatti, OH' 'Clevedon, England' 'Co Athlone, Ireland New York, NY'\n",
      " 'Co Clare, Ireland Washington, DC' 'Co Cork, Ireland Charlestown, MA'\n",
      " 'Co Cork, Ireland Roxbury, MA' 'Co Limerick, Ireland Sherbrooke, PQ'\n",
      " 'Co Longford, Ireland New York, NY' 'Co Sligo, Ireland Hartford, CT'\n",
      " 'Co Sligo, Ireland New York, NY' 'Cologne, Germany' 'Columbus, OH'\n",
      " 'Cooperstown, NY' 'Copenhagen, Denmark' 'Cornwall' 'Cornwall / Akron, OH'\n",
      " 'Cornwall / Camden, NJ' 'Cornwall / Clear Creek, CO'\n",
      " 'Cornwall / Hancock, MI' 'Cornwall / Houghton, MI'\n",
      " 'Cornwall / Spokane, WA' 'Cornwall, England Houghton, MI' 'Croatia'\n",
      " 'Dagsas, Sweden Fower, MN' 'Deephaven, MN / Cedar Rapids, IA'\n",
      " 'Deer Lodge, MT' 'Denmark / New York, NY' 'Denmark Hill, Surrey / Chicago'\n",
      " 'Denver, CO' 'Detroit, MI' 'Devon, England Wichita, KS'\n",
      " 'Devonport, England' 'Dorchester, MA' 'Dorking, Surrey, England'\n",
      " 'Dowagiac, MI' 'Duluth, MN' 'East Bridgewater, MA' 'East Orange, NJ'\n",
      " 'East Providence, RI' 'Effington Rut, SD' 'Elizabeth, NJ'\n",
      " 'Elkins Park, PA' 'Elmira, NY / Orange, NJ' 'England'\n",
      " 'England / Bennington, VT' 'England / Detroit, MI'\n",
      " 'England / Hartford, CT' 'England / Philadelphia, PA'\n",
      " 'England / Sacramento, CA' 'England / San Francisco, CA'\n",
      " 'England Albion, NY' 'England Brooklyn, NY' 'England New York, NY'\n",
      " 'England Oglesby, IL' 'England Salt Lake City, Utah'\n",
      " 'Finland / Minneapolis, MN' 'Finland / Washington, DC'\n",
      " 'Finland Sudbury, ON' 'Folkstone, Kent / New York, NY' 'Fond du Lac, WI'\n",
      " 'Foresvik, Norway Portland, ND' 'Frankfort, KY'\n",
      " 'Gallipolis, Ohio / ? Paris / New York' 'Geneva, Switzerland / Radnor, PA'\n",
      " 'Germantown, Philadelphia, PA' 'Glasgow' 'Glasgow / Bangor, ME'\n",
      " 'Glen Ridge, NJ' 'Goteborg, Sweden / Rockford, IL'\n",
      " 'Goteborg, Sweden Huntley, IL' 'Greece' 'Green Bay, WI' 'Greenport, NY'\n",
      " 'Greensburg, PA' 'Greenwich, CT' 'Guernsey' 'Guernsey / Elizabeth, NJ'\n",
      " 'Guernsey / Montclair, NJ and/or Toledo, Ohio' 'Guernsey / Wilmington, DE'\n",
      " 'Guernsey, England / Edgewood, RI' 'Gunnislake, England / Butte, MT'\n",
      " 'Guntur, India / Benton Harbour, MI' 'Haddenfield, NJ'\n",
      " 'Halesworth, England' 'Halifax, NS' 'Hamilton, ON' 'Harrisburg, PA'\n",
      " 'Harrow, England' 'Harrow-on-the-Hill, Middlesex' 'Hartford, CT'\n",
      " 'Hartford, Huntingdonshire' 'Haverford, PA'\n",
      " 'Haverford, PA / Cooperstown, NY' 'Helsinki, Finland Ashtabula, Ohio'\n",
      " 'Hessle, Yorks' 'Holley, NY' 'Hong Kong New York, NY' 'Hornsey, England'\n",
      " 'Hudson, NY' 'Huntington, WV' 'Ilford, Essex / Winnipeg, MB'\n",
      " 'Ilfracombe, Devon' 'Illinois, USA' 'India / Pittsburgh, PA'\n",
      " 'India / Rapid City, SD' 'Indianapolis, IN' 'Ireland'\n",
      " 'Ireland Brooklyn, NY' 'Ireland Chicago, IL' 'Ireland New York, NY'\n",
      " 'Ireland Philadelphia, PA' 'Isle of Wight, England' 'Isleworth, England'\n",
      " 'Italy Philadelphia, PA' 'Jacksonville, FL'\n",
      " 'Janjgir, India / Pennsylvania' 'Karberg, Sweden Jerome Junction, AZ'\n",
      " 'Kilmacowen, Co Sligo, Ireland New York, NY' 'Kingston, Surrey'\n",
      " 'Kingwilliamstown, Co Cork, Ireland Glens Falls, NY'\n",
      " 'Kingwilliamstown, Co Cork, Ireland New York, NY'\n",
      " 'Kontiolahti, Finland / Detroit, MI' 'Krakoryd, Sweden Bloomington, IL'\n",
      " 'Krakudden, Sweden Moune, IL' 'Lake Arthur, Chavez County, NM'\n",
      " 'Lakewood, NJ' 'Lexington, MA' 'Lima, Peru' 'Little Onn Hall, Staffs'\n",
      " 'Liverpool' 'Liverpool / Montreal, PQ' 'Liverpool, England / Belfast'\n",
      " 'Liverpool, England Bedford, OH' 'London' 'London  Vancouver, BC'\n",
      " 'London /  East Orange, NJ' 'London / Birmingham' 'London / Chicago, IL'\n",
      " 'London / Fort Byron, NY' 'London / Middlesex' 'London / Montreal, PQ'\n",
      " 'London / New York, NY' 'London / Paris' 'London / Staten Island, NY'\n",
      " 'London / Winnipeg, MB' 'London Brooklyn, NY' 'London New York, NY'\n",
      " 'London Skanteales, NY' 'London, England'\n",
      " 'London, England / Marietta, Ohio and Milwaukee, WI'\n",
      " 'London, England Norfolk, VA' 'Los Angeles, CA'\n",
      " 'Lower Clapton, Middlesex or Erdington, Birmingham'\n",
      " 'Lucca, Italy / California' 'Lyndhurst, England' 'Madrid, Spain'\n",
      " 'Mamaroneck, NY' 'Manchester, England' 'Medeltorp, Sweden Chicago, IL'\n",
      " 'Merrill, WI' 'Mexico City, Mexico' 'Middleburg Heights, OH' 'Milford, NH'\n",
      " 'Milwaukee, WI' 'Minneapolis, MN' 'Montevideo, Uruguay' 'Montreal, PQ'\n",
      " 'Montreal, PQ / Chesterville, ON' 'Moscow / Bronx, NY'\n",
      " 'Mt Airy, Philadelphia, PA' 'Myren, Sweden New York, NY' 'New Britain, CT'\n",
      " 'New Forest, England' 'New York, NY' 'New York, NY /  Stamford CT'\n",
      " 'New York, NY / Briarcliff Manor NY' 'New York, NY / Greenwich CT'\n",
      " 'New York, NY / Ithaca, NY' 'New York, NY / Washington, DC' 'Newark, NJ'\n",
      " 'Nice, France' 'Norrlot, Sweden Chicago, IL' 'North Evington, England'\n",
      " 'Norway Los Angeles, CA' 'Norwich / New York, NY' 'Omaha, NE'\n",
      " 'Oskarshamn, Sweden Minneapolis, MN' 'Oslo, Norway Bayonne, NJ'\n",
      " 'Oslo, Norway Cameron, WI' 'Ottawa, ON' 'Paris' 'Paris /  New York, NY'\n",
      " 'Paris / Haiti' 'Paris / Montreal, PQ' 'Paris, France'\n",
      " 'Paris, France / New York, NY' 'Paris, France New York, NY' 'Pennsylvania'\n",
      " 'Penzance, Cornwall / Akron, OH' 'Perkins County, SD' 'Philadelphia, PA'\n",
      " 'Plymouth, Devon / Detroit, MI' 'Plymouth, Dorset / Houghton, MI'\n",
      " 'Plymouth, England' 'Pomeroy, WA' 'Pondersend, England / New Durham, NJ'\n",
      " 'Portland, OR' 'Portugal' 'Portugal / Sau Paulo, Brazil' 'Providence, RI'\n",
      " 'Provo, UT' 'Roachdale, IN' 'Rochester, NY'\n",
      " 'Rotherfield, Sussex, England Essex Co, MA' 'Rotterdam, Netherlands'\n",
      " 'Ruotsinphyhtaa, Finland New York, NY'\n",
      " 'Ruotsinphytaa, Finland New York, NY' 'Russia' 'Russia New York, NY'\n",
      " 'Salo, Finland Astoria, OR' 'San Francisco, CA' 'Sarnia, ON'\n",
      " 'Sault St Marie, ON' 'Scituate, MA' 'Seattle, WA'\n",
      " 'Seattle, WA / Toledo, OH' 'Sittingbourne, England / San Diego, CA'\n",
      " 'Skara, Sweden / Rockford, IL' 'Somerset / Bernardsville, NJ'\n",
      " 'Southampton' 'Southampton / New York, NY' 'Southington / Noank, CT'\n",
      " 'Southsea, Hants' 'Spain' 'Spain / Havana, Cuba' 'Springfield, MA'\n",
      " 'St Andrews, Guernsey' \"St Anne's-on-Sea, Lancashire\"\n",
      " 'St Austall, Cornwall' 'St Denys, Southampton, Hants'\n",
      " 'St Ives, Cornwall / Calumet, MI' 'St Ives, Cornwall / Hancock, MI'\n",
      " 'St Ives, Cornwall / Houghton, MI' 'St James, Long Island, NY'\n",
      " 'St Leonards-on-Sea, England Ohio' 'St Louis, MO' 'Stanton, IA'\n",
      " 'Stockholm, Sweden' 'Stockholm, Sweden / Washington, DC'\n",
      " 'Stockholm, Sweden New York' 'Stoughton, MA' 'Streatham, Surrey'\n",
      " 'Strood, Kent, England Detroit, MI' 'Surbiton Hill, Surrey'\n",
      " 'Sweden  Worcester, MA' 'Sweden / Arlington, NJ' 'Sweden Akeley, MN'\n",
      " 'Sweden Chicago, IL' 'Sweden Joliet, IL' 'Sweden Winnipeg, MN'\n",
      " 'Sweden Worcester, MA' 'Swindon, England' 'Sydney, Australia' 'Syria'\n",
      " 'Syria Fredericksburg, VA' 'Syria Kent, ON' 'Syria New York, NY'\n",
      " 'Syria Ottawa, ON' 'Syria Youngstown, OH'\n",
      " 'Taalintehdas, Finland Hoboken, NJ' 'Tampico, MT'\n",
      " 'Tofta, Sweden Joliet, IL' 'Tokyo, Japan' 'Toronto, ON'\n",
      " 'Tranvik, Finland New York' 'Treherbert, Cardiff, Wales' 'Trenton, NJ'\n",
      " 'Tuxedo Park, NY' 'Union Hill, NJ' 'Upper Burma, India Pittsburgh, PA'\n",
      " 'Vadsbro, Sweden Ministee, MI' 'Vancouver, BC' 'Victoria, BC'\n",
      " 'Walthamstow, England' 'Warwick, England' 'Washington, DC'\n",
      " 'Waukegan, Chicago, IL' 'West Bromwich, England Pontiac, MI'\n",
      " 'West Hampstead, London / Neepawa, MB' 'West Haven, CT' 'West Hoboken, NJ'\n",
      " 'West Kensington, London' 'Westcliff-on-Sea, Essex'\n",
      " 'Weston-Super-Mare / Moose Jaw, SK' 'Weston-Super-Mare, Somerset'\n",
      " 'Wiltshire, England Niagara Falls, NY'\n",
      " 'Wimbledon Park, London / Hayling Island, Hants'\n",
      " 'Windsor, England New York, NY' 'Winnipeg, MB' 'Winnipeg, MN'\n",
      " 'Woodford County, KY' 'Worcester, England' 'Worcester, MA'\n",
      " 'Yoevil, England / Cottage Grove, OR' 'Youngstown, OH'\n",
      " 'Zurich, Switzerland']\n"
     ]
    }
   ],
   "source": [
    "print(np.unique(titanic[['pclass']].values))\n",
    "print(np.unique(titanic[['survived']].values))\n",
    "print(np.unique(titanic[['sex']].values))\n",
    "print(np.unique(titanic[['cabin']].dropna().values))\n",
    "print(np.unique(titanic[['embarked']].dropna().values))\n",
    "print(np.unique(titanic[['boat']].dropna().astype(str).values))\n",
    "print(np.unique(titanic[['home_dest']].dropna().values))"
   ]
  },
  {
   "cell_type": "markdown",
   "metadata": {},
   "source": [
    "We decided to transform all those attributes but the home destination into Categoricals. We did not tranform the home destination attribute, because we considered the value range too big."
   ]
  },
  {
   "cell_type": "code",
   "execution_count": 12,
   "metadata": {},
   "outputs": [
    {
     "data": {
      "text/plain": [
       "pclass       category\n",
       "survived     category\n",
       "name           object\n",
       "sex          category\n",
       "age           float64\n",
       "sibsp           int64\n",
       "parch           int64\n",
       "ticket         object\n",
       "fare          float64\n",
       "cabin        category\n",
       "embarked     category\n",
       "boat         category\n",
       "body          float64\n",
       "home_dest      object\n",
       "dtype: object"
      ]
     },
     "execution_count": 12,
     "metadata": {},
     "output_type": "execute_result"
    }
   ],
   "source": [
    "titanic['pclass'] = titanic.pclass.astype('category')\n",
    "titanic['survived'] = titanic.survived.astype('category')\n",
    "titanic['sex'] = titanic.sex.astype('category')\n",
    "titanic['cabin'] = titanic.cabin.astype('category')\n",
    "titanic['embarked'] = titanic.embarked.astype('category')\n",
    "titanic['boat'] = titanic.boat.astype('category')\n",
    "\n",
    "titanic.dtypes"
   ]
  },
  {
   "cell_type": "markdown",
   "metadata": {},
   "source": [
    "#### 2. Plot histograms for the travel class, embarkation port, sex and age attributes. For the latter one, use discrete decade intervals.\n",
    "\n",
    "The plots are created using the `plot` function. As we are not dealing with metric but with categoric variables for the travel class, embarkation port, and sex attributes we decided to do bar plots instead of histograms there. The data for the bar plots is prepared by calling the `value_counts` function which computes the counts of all unique values (excluing NaN). This is necessary because the plot consists of one bar per row. Furthermore, the data is sorted for the travel class such that the bars appear in the natural order. In all the plots the rotation of the bar captions is changed in order to make them more readable."
   ]
  },
  {
   "cell_type": "code",
   "execution_count": 161,
   "metadata": {},
   "outputs": [
    {
     "data": {
      "text/plain": [
       "<matplotlib.axes._subplots.AxesSubplot at 0x7fa07f3c60b8>"
      ]
     },
     "execution_count": 161,
     "metadata": {},
     "output_type": "execute_result"
    },
    {
     "data": {
      "image/png": "[encoded data removed]",
      "text/plain": [
       "<matplotlib.figure.Figure at 0x7fa07f71c240>"
      ]
     },
     "metadata": {},
     "output_type": "display_data"
    }
   ],
   "source": [
    "titanic['pclass'].value_counts().sort_index().plot(kind='bar', rot=0)"
   ]
  },
  {
   "cell_type": "markdown",
   "metadata": {},
   "source": [
    "*Discussion:* More than half of the travellors where travelling in third class. The other travellors where fairly equally distributed between first and second class with a little more trabellors in the first class."
   ]
  },
  {
   "cell_type": "code",
   "execution_count": 162,
   "metadata": {},
   "outputs": [
    {
     "data": {
      "text/plain": [
       "<matplotlib.axes._subplots.AxesSubplot at 0x7fa07f456e48>"
      ]
     },
     "execution_count": 162,
     "metadata": {},
     "output_type": "execute_result"
    },
    {
     "data": {
      "image/png": "[encoded data removed]",
      "text/plain": [
       "<matplotlib.figure.Figure at 0x7fa07f8c6e10>"
      ]
     },
     "metadata": {},
     "output_type": "display_data"
    }
   ],
   "source": [
    "titanic['embarked'].value_counts().plot(kind='bar', rot=0)"
   ]
  },
  {
   "cell_type": "markdown",
   "metadata": {},
   "source": [
    "*Discussion:* The big majority of travellors embarked in **S**outhampton, the next biggest groups are travellors who wmbarked in **C**herbourg, some also embarked in **Q**ueenstown."
   ]
  },
  {
   "cell_type": "code",
   "execution_count": 163,
   "metadata": {},
   "outputs": [
    {
     "data": {
      "text/plain": [
       "<matplotlib.axes._subplots.AxesSubplot at 0x7fa07f3fe160>"
      ]
     },
     "execution_count": 163,
     "metadata": {},
     "output_type": "execute_result"
    },
    {
     "data": {
      "image/png": "[encoded data removed]",
      "text/plain": [
       "<matplotlib.figure.Figure at 0x7fa07f32ff60>"
      ]
     },
     "metadata": {},
     "output_type": "display_data"
    }
   ],
   "source": [
    "titanic['sex'].value_counts().plot(kind='bar', rot=0)"
   ]
  },
  {
   "cell_type": "markdown",
   "metadata": {},
   "source": [
    "*Discussion*: Almost two thirds of the passengers where male."
   ]
  },
  {
   "cell_type": "markdown",
   "metadata": {},
   "source": [
    "As age is a metric variable, we used a histogram for this attribute. Discrete decade intervals can be enforced by manually specifying the bin boundaries, representing decades. Using values between 0 and 80 is reasonable with respect to the value range inspected in question 1."
   ]
  },
  {
   "cell_type": "code",
   "execution_count": 164,
   "metadata": {},
   "outputs": [
    {
     "data": {
      "text/plain": [
       "<matplotlib.axes._subplots.AxesSubplot at 0x7fa07f316710>"
      ]
     },
     "execution_count": 164,
     "metadata": {},
     "output_type": "execute_result"
    },
    {
     "data": {
      "image/png": "[encoded data removed]",
      "text/plain": [
       "<matplotlib.figure.Figure at 0x7fa07f2e6860>"
      ]
     },
     "metadata": {},
     "output_type": "display_data"
    }
   ],
   "source": [
    "titanic.age.hist(bins=[0, 10, 20, 30, 40, 50, 60, 70, 80], figsize=[10, 5])"
   ]
  },
  {
   "cell_type": "markdown",
   "metadata": {},
   "source": [
    "*Discussion:* The main passenger group where adults between 20 and 40. For older ages than that the number of passengers decreses with increasing age."
   ]
  },
  {
   "cell_type": "markdown",
   "metadata": {},
   "source": [
    "#### 3. Calculate the proportion of passengers by *cabin floor*. Present your results in a *pie chart*.\n",
    "As can be seen in https://www.encyclopedia-titanica.org/titanic-deckplans/ the cabin floor is represented by a character in the beginning of the value of the cabin attribute.\n",
    "\n",
    "In question 1, we found out that possible values are A, B, C, D, E, F, G and T. Although the value T might seem a little out of place, we assume that it might represent the Tank Top (https://www.encyclopedia-titanica.org/titanic-deckplans/tank-top.html) and therefore consider it a valid value.\n",
    "\n",
    "In the first step we compute the number of missing values in the cabin column in order to be able to do a sanity check later. Then we drop the rows with missing cabin values and calculate for every possible floor character the number of entries starting with this character. Afterwards, we sum up the values in order to do a sanity check. Then the relative frequencies are computed and the information is stored in a dataframe in order to be able to create a pie chart."
   ]
  },
  {
   "cell_type": "code",
   "execution_count": 165,
   "metadata": {},
   "outputs": [
    {
     "name": "stdout",
     "output_type": "stream",
     "text": [
      "1309\n",
      "295\n",
      "295\n",
      "[ 0.07457627  0.22033898  0.31864407  0.1559322   0.13898305  0.07118644\n",
      "  0.01694915  0.00338983]\n"
     ]
    },
    {
     "data": {
      "text/plain": [
       "array([<matplotlib.axes._subplots.AxesSubplot object at 0x7fa07f1e6240>], dtype=object)"
      ]
     },
     "execution_count": 165,
     "metadata": {},
     "output_type": "execute_result"
    },
    {
     "data": {
      "image/png": "[encoded data removed]",
      "text/plain": [
       "<matplotlib.figure.Figure at 0x7fa07f2557f0>"
      ]
     },
     "metadata": {},
     "output_type": "display_data"
    }
   ],
   "source": [
    "lenN = len(titanic[(titanic.cabin.isnull())])\n",
    "cabins = titanic.cabin.dropna()\n",
    "lenA = len(cabins[cabins.str.startswith('A')])\n",
    "lenB = len(cabins[cabins.str.startswith('B')])\n",
    "lenC = len(cabins[cabins.str.startswith('C')])\n",
    "lenD = len(cabins[cabins.str.startswith('D')])\n",
    "lenE = len(cabins[cabins.str.startswith('E')])\n",
    "lenF = len(cabins[cabins.str.startswith('F')])\n",
    "lenG = len(cabins[cabins.str.startswith('G')])\n",
    "lenT = len(cabins[cabins.str.startswith('T')])\n",
    "\n",
    "print(titanic.shape[0])\n",
    "print(titanic.shape[0] - lenN)\n",
    "freq=np.array([lenA, lenB, lenC, lenD, lenE, lenF, lenG, lenT])\n",
    "print(freq.sum())\n",
    "freq = freq/(titanic.shape[0] - lenN)\n",
    "print(freq)\n",
    "floors = pd.DataFrame(freq, index=['A', 'B', 'C', 'D', 'E', 'F', 'G', 'T'])\n",
    "\n",
    "floors.plot(kind='pie', subplots=True, figsize=[7, 7])"
   ]
  },
  {
   "cell_type": "markdown",
   "metadata": {},
   "source": [
    "*Discussion:* The pie chart shows the distribution of travellors over the different floors. Most of the passengers stayed on floor C. On the other extreme, only very little passengers stayed on the Tank Top 'T'."
   ]
  },
  {
   "cell_type": "markdown",
   "metadata": {},
   "source": [
    "#### 4. For each *travel class*, calculate the proportion of the passengers that survived. Present your results in *pie charts*.\n",
    "\n",
    "For this question the dataframe is grouped by travel class. Then the proportion of survivors is computed using the `prop` function. It takes as input a dataframe, a column, and a value and computes the proportion of rows containing this value. In the same way the proportion of dead people is computed. Of course this proportion is just one minus the proportion of the survivors, but computing it like this gives an additional sanity check. Then the two dataframes are concatenated and the columns are assigned meaningful names. The resulting dataframe is represented by a set of pie charts. In order to get one pie chart per row, we take the transposed of the dataframe and set the `subplots` attribute to `True`."
   ]
  },
  {
   "cell_type": "code",
   "execution_count": 166,
   "metadata": {},
   "outputs": [
    {
     "name": "stdout",
     "output_type": "stream",
     "text": [
      "pclass\n",
      "1    0.619195\n",
      "2    0.429603\n",
      "3    0.255289\n",
      "dtype: float64\n",
      "pclass\n",
      "1    0.380805\n",
      "2    0.570397\n",
      "3    0.744711\n",
      "dtype: float64\n",
      "        survived      dead\n",
      "pclass                    \n",
      "1       0.619195  0.380805\n",
      "2       0.429603  0.570397\n",
      "3       0.255289  0.744711\n"
     ]
    },
    {
     "data": {
      "text/plain": [
       "array([<matplotlib.axes._subplots.AxesSubplot object at 0x7fa07f24f518>,\n",
       "       <matplotlib.axes._subplots.AxesSubplot object at 0x7fa082333cf8>,\n",
       "       <matplotlib.axes._subplots.AxesSubplot object at 0x7fa07f4f4ef0>], dtype=object)"
      ]
     },
     "execution_count": 166,
     "metadata": {},
     "output_type": "execute_result"
    },
    {
     "data": {
      "image/png": "[encoded data removed]",
      "text/plain": [
       "<matplotlib.figure.Figure at 0x7fa07f24fd68>"
      ]
     },
     "metadata": {},
     "output_type": "display_data"
    }
   ],
   "source": [
    "def prop(df, column, val):\n",
    "    return len(df[df[column]==val])/len(df[column])\n",
    "\n",
    "titanic_survived = titanic.groupby(titanic.pclass).apply(prop, 'survived', 1)\n",
    "print(titanic_survived)\n",
    "titanic_died = titanic.groupby(titanic.pclass).apply(prop, 'survived', 0)\n",
    "print(titanic_died)\n",
    "titanic_survClass = pd.concat([titanic_survived, titanic_died], axis=1)\n",
    "titanic_survClass.rename(columns={0:'survived', 1:'dead'}, inplace=True)\n",
    "print(titanic_survClass)\n",
    "titanic_survClass.T.plot(kind='pie', subplots=True, figsize=(20, 5))"
   ]
  },
  {
   "cell_type": "markdown",
   "metadata": {},
   "source": [
    "*Discussion:* Passengers in a better travel class had better chances to survive. In particular, more than half if the travellors in first class survived, while only about a quarter of the third class passengers survived."
   ]
  },
  {
   "cell_type": "markdown",
   "metadata": {},
   "source": [
    "#### 5. Calculate the proportion of the passengers that survived by *travel class* and *sex*. Present your results in *a single histogram*.\n",
    "\n",
    "The solution to this ressembles the solution provided for question 4. The dataframe is grouped by travel class and sex and the proportion is calculated again using the `prop` function. Afterwards the results are displayed in a bar plot. Like in question 2, a bar plot is more suitable than a histogram because we deal with categorical data."
   ]
  },
  {
   "cell_type": "code",
   "execution_count": 167,
   "metadata": {},
   "outputs": [
    {
     "name": "stdout",
     "output_type": "stream",
     "text": [
      "pclass  sex   \n",
      "1       female    0.965278\n",
      "        male      0.340782\n",
      "2       female    0.886792\n",
      "        male      0.146199\n",
      "3       female    0.490741\n",
      "        male      0.152130\n",
      "dtype: float64\n"
     ]
    },
    {
     "data": {
      "text/plain": [
       "<matplotlib.axes._subplots.AxesSubplot at 0x7fa080516be0>"
      ]
     },
     "execution_count": 167,
     "metadata": {},
     "output_type": "execute_result"
    },
    {
     "data": {
      "image/png": "[encoded data removed]",
      "text/plain": [
       "<matplotlib.figure.Figure at 0x7fa07f3299b0>"
      ]
     },
     "metadata": {},
     "output_type": "display_data"
    }
   ],
   "source": [
    "titanic_survivedSex = titanic.groupby(['pclass','sex']).apply(prop, 'survived', 1)\n",
    "print(titanic_survivedSex)\n",
    "titanic_survivedSex.T.plot(kind='bar')\n"
   ]
  },
  {
   "cell_type": "markdown",
   "metadata": {},
   "source": [
    "*Discussion:* Women in first class had the highest survival chance. Almost 97% of them survived. This is followed by women in second and third class. Obviously the sex played a bigger roll than the passenger class. This is due to the fact that women and children where allowed to enter lifeboats first. Interestingly, man in third class had a better chance to survive than an in second class, while for women it was the other way around."
   ]
  },
  {
   "cell_type": "markdown",
   "metadata": {},
   "source": [
    "#### 6. Create 2 equally populated *age categories* and calculate survival proportions by *age category*, *travel class* and *sex*. Present your results in a `DataFrame` with unique index.\n",
    "\n",
    "The two age categories are created the `qcut` function which uses empirical quantiles, in our case the median, to divide the data. As can be seen, the two groups are not of exactly same size. This is due to the fact that all people having the median age 28 are put in the same group (which seems reasonable). Afterwards the dataframe is grouped by the required attributes and the proportion is calculated similar to the proportions in questions 4 and 5. The group by operation results in a dataframe with a unique index as can be seen in the output of the call to `index.is_unique` and the task is solved."
   ]
  },
  {
   "cell_type": "code",
   "execution_count": 168,
   "metadata": {},
   "outputs": [
    {
     "name": "stdout",
     "output_type": "stream",
     "text": [
      "age\n",
      "(0.166, 28.0]    536\n",
      "(28.0, 80.0]     510\n",
      "dtype: int64\n",
      "age            pclass  sex   \n",
      "(0.166, 28.0]  1       female    0.951220\n",
      "                       male      0.531250\n",
      "               2       female    0.910714\n",
      "                       male      0.216216\n",
      "               3       female    0.513761\n",
      "                       male      0.183036\n",
      "(28.0, 80.0]   1       female    0.967391\n",
      "                       male      0.302521\n",
      "               2       female    0.872340\n",
      "                       male      0.083333\n",
      "               3       female    0.372093\n",
      "                       male      0.144000\n",
      "dtype: float64\n",
      "MultiIndex(levels=[[(0.166, 28.0], (28.0, 80.0]], [1, 2, 3], ['female', 'male']],\n",
      "           labels=[[0, 0, 0, 0, 0, 0, 1, 1, 1, 1, 1, 1], [0, 0, 1, 1, 2, 2, 0, 0, 1, 1, 2, 2], [0, 1, 0, 1, 0, 1, 0, 1, 0, 1, 0, 1]],\n",
      "           names=['age', 'pclass', 'sex'])\n"
     ]
    },
    {
     "data": {
      "text/plain": [
       "True"
      ]
     },
     "execution_count": 168,
     "metadata": {},
     "output_type": "execute_result"
    }
   ],
   "source": [
    "titanic_ageCategories = titanic.copy()\n",
    "titanic_ageCategories['age'] = pd.qcut(titanic_ageCategories.age, 2)\n",
    "print(titanic_ageCategories.groupby(['age']).apply(len))\n",
    "\n",
    "titanic_ageCategories = titanic_ageCategories.groupby(['age', 'pclass', 'sex']).apply(prop, 'survived', 1)\n",
    "print(titanic_ageCategories)\n",
    "print(titanic_ageCategories.index)\n",
    "titanic_ageCategories.index.is_unique"
   ]
  },
  {
   "cell_type": "markdown",
   "metadata": {},
   "source": [
    "*Discussion:* As mentionned above, women and children where allowed to enter lifeboats first. Therefore, in tendency younger passengers had a better survival chance. As a consequence of the fact that women in general where admitted earlier, one can observe a bigger difference in the age categories of men. "
   ]
  }
 ],
 "metadata": {
  "kernelspec": {
   "display_name": "Python [default]",
   "language": "python",
   "name": "python3"
  },
  "language_info": {
   "codemirror_mode": {
    "name": "ipython",
    "version": 3
   },
   "file_extension": ".py",
   "mimetype": "text/x-python",
   "name": "python",
   "nbconvert_exporter": "python",
   "pygments_lexer": "ipython3",
   "version": "3.5.4"
  }
 },
 "nbformat": 4,
 "nbformat_minor": 1
}

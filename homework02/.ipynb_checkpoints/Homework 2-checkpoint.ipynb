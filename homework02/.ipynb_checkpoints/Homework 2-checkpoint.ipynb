{
 "cells": [
  {
   "cell_type": "markdown",
   "metadata": {},
   "source": [
    "# Homework 2 - Top Universities world ranking"
   ]
  },
  {
   "cell_type": "markdown",
   "metadata": {},
   "source": [
    "# Task 1"
   ]
  },
  {
   "cell_type": "markdown",
   "metadata": {},
   "source": [
    "### Importing libs"
   ]
  },
  {
   "cell_type": "code",
   "execution_count": 354,
   "metadata": {
    "collapsed": true
   },
   "outputs": [],
   "source": [
    "import pandas as pd\n",
    "import numpy as np\n",
    "%matplotlib inline\n",
    "import matplotlib.pyplot as plt\n",
    "\n",
    "import requests\n",
    "from bs4 import BeautifulSoup\n",
    "\n",
    "import json"
   ]
  },
  {
   "cell_type": "markdown",
   "metadata": {},
   "source": [
    "## Extracting data from the website"
   ]
  },
  {
   "cell_type": "code",
   "execution_count": null,
   "metadata": {
    "scrolled": false
   },
   "outputs": [],
   "source": [
    "default_path = 'https://www.topuniversities.com'\n",
    "r = requests.get(default_path +'/sites/default/files/qs-rankings-data/357051.txt?_=1507995842896')\n",
    "result_json = r.json()\n",
    "\n",
    "result = pd.DataFrame.from_dict(result_json['data']).head(200)\n",
    "\n",
    "for index, row in result.iterrows():\n",
    "        r_ = requests.get(default_path + result.iloc[index]['url'])\n",
    "        soup = BeautifulSoup(r_.text, 'html.parser')\n",
    "        university = result.iloc[index]['title']\n",
    "        try:\n",
    "            total_faculty = soup.find('div', class_='total faculty')\n",
    "            result.loc[index, 'Staff total number'] = int(total_faculty.find('div', class_='number').text.split()[0].replace(',', ''))\n",
    "        except:\n",
    "            print(university + ' has no values for TOTAL_STAFF') \n",
    "        try:\n",
    "            total_student = soup.find('div', class_='total student')\n",
    "            result.loc[index, 'Students total number'] = int(total_student.find('div', class_='number').text.split()[0].replace(',', ''))\n",
    "        except:\n",
    "            print(university + ' has no values for TOTAL_STUDENTS')\n",
    "        try:\n",
    "            inter_faculty = soup.find('div', class_='inter faculty')\n",
    "            result.loc[index, 'International Staff number'] = int(inter_faculty.find('div', class_='number').text.split()[0].replace(',', ''))\n",
    "        except:\n",
    "            print(university + ' has no values for INTERNATIONAL_STAFF')\n",
    "        try:\n",
    "            inter_student = soup.find('div', class_='total inter')\n",
    "            result.loc[index, 'International Students number'] = int(inter_student.find('div', class_='number').text.split()[0].replace(',', ''))\n",
    "        except:\n",
    "            print(university + ' has no values for INTERNATIONAL_STUDENTS')\n"
   ]
  },
  {
   "cell_type": "markdown",
   "metadata": {},
   "source": [
    "### Removing useless columns"
   ]
  },
  {
   "cell_type": "code",
   "execution_count": null,
   "metadata": {
    "scrolled": false
   },
   "outputs": [],
   "source": [
    "result.fillna(0)\n",
    "useless_columns = ['core_id','guide','nid','url','logo']\n",
    "for column_name in useless_columns:\n",
    "    del result[column_name]"
   ]
  },
  {
   "cell_type": "code",
   "execution_count": null,
   "metadata": {
    "scrolled": false
   },
   "outputs": [],
   "source": [
    "df = result.copy()"
   ]
  },
  {
   "cell_type": "markdown",
   "metadata": {},
   "source": [
    "## Extracting ratios"
   ]
  },
  {
   "cell_type": "code",
   "execution_count": null,
   "metadata": {},
   "outputs": [],
   "source": [
    "df['Ratio Staff/Student']=df['Staff total number']/df['Students total number']\n",
    "df['Ratio International/National Students']=df['International Students number']/df['Students total number']"
   ]
  },
  {
   "cell_type": "markdown",
   "metadata": {},
   "source": [
    "## Sorting dataframes by ratios"
   ]
  },
  {
   "cell_type": "code",
   "execution_count": null,
   "metadata": {},
   "outputs": [],
   "source": [
    "df_international = df.sort_values('Ratio International/National Students', ascending=0)\n",
    "df_staffstud = df.sort_values('Ratio Staff/Student', ascending=0)"
   ]
  },
  {
   "cell_type": "code",
   "execution_count": null,
   "metadata": {},
   "outputs": [],
   "source": [
    "df_international.head(3)"
   ]
  },
  {
   "cell_type": "code",
   "execution_count": null,
   "metadata": {},
   "outputs": [],
   "source": [
    "df_staffstud.head(3)"
   ]
  },
  {
   "cell_type": "markdown",
   "metadata": {},
   "source": [
    "## Deleting useless columns before grouping by Country and Region"
   ]
  },
  {
   "cell_type": "code",
   "execution_count": null,
   "metadata": {},
   "outputs": [],
   "source": [
    "df_international_by_country_or_region = df_international.copy()\n",
    "other_useless_columns = ['rank_display','score','stars','cc','Ratio International/National Students','Ratio Staff/Student','title']\n",
    "for useless_column in other_useless_columns:\n",
    "    del df_international_by_country_or_region[useless_column]\n",
    "df_international_by_country_or_region.head(5)"
   ]
  },
  {
   "cell_type": "markdown",
   "metadata": {},
   "source": [
    "## Grouping by country and Region"
   ]
  },
  {
   "cell_type": "code",
   "execution_count": null,
   "metadata": {},
   "outputs": [],
   "source": [
    "df_international_by_country = df_international_by_country_or_region.groupby(['country']).sum()\n",
    "df_international_by_region = df_international_by_country_or_region.groupby(['region']).sum()"
   ]
  },
  {
   "cell_type": "markdown",
   "metadata": {},
   "source": [
    "### Producing ratios by country"
   ]
  },
  {
   "cell_type": "code",
   "execution_count": null,
   "metadata": {},
   "outputs": [],
   "source": [
    "df_international_by_country['Ratio Staff/Student'] = df_international_by_country['Staff total number']/df_international_by_country['Students total number']\n",
    "df_international_by_country['Ratio International/National Students'] = df_international_by_country['International Students number']/df_international_by_country['Students total number']"
   ]
  },
  {
   "cell_type": "code",
   "execution_count": null,
   "metadata": {},
   "outputs": [],
   "source": [
    "df_international_by_country_staffstudent = df_international_by_country.copy()\n",
    "df_international_by_country_staffstudent.sort_values('Ratio Staff/Student', ascending=0).head(5)"
   ]
  },
  {
   "cell_type": "code",
   "execution_count": null,
   "metadata": {},
   "outputs": [],
   "source": [
    "df_international_by_country_intstudent = df_international_by_country.copy()\n",
    "df_international_by_country_intstudent.sort_values('Ratio International/National Students', ascending=0).head(5)"
   ]
  },
  {
   "cell_type": "markdown",
   "metadata": {},
   "source": [
    "### Producing ratios by region"
   ]
  },
  {
   "cell_type": "code",
   "execution_count": null,
   "metadata": {},
   "outputs": [],
   "source": [
    "df_international_by_region['Ratio Staff/Student'] = df_international_by_region['Staff total number']/df_international_by_region['Students total number']\n",
    "df_international_by_region['Ratio International/National Students'] = df_international_by_region['International Students number']/df_international_by_region['Students total number']"
   ]
  },
  {
   "cell_type": "code",
   "execution_count": null,
   "metadata": {},
   "outputs": [],
   "source": [
    "df_international_by_region_staffstudent = df_international_by_region.copy()\n",
    "df_international_by_region_staffstudent.sort_values('Ratio Staff/Student', ascending=0).head(5)"
   ]
  },
  {
   "cell_type": "code",
   "execution_count": null,
   "metadata": {},
   "outputs": [],
   "source": [
    "df_international_by_region_intstudent = df_international_by_region.copy()\n",
    "df_international_by_region_intstudent.sort_values('Ratio International/National Students', ascending=0).head(5)"
   ]
  }
 ],
 "metadata": {
  "kernelspec": {
   "display_name": "Python 3",
   "language": "python",
   "name": "python3"
  },
  "language_info": {
   "codemirror_mode": {
    "name": "ipython",
    "version": 3
   },
   "file_extension": ".py",
   "mimetype": "text/x-python",
   "name": "python",
   "nbconvert_exporter": "python",
   "pygments_lexer": "ipython3",
   "version": "3.6.2"
  }
 },
 "nbformat": 4,
 "nbformat_minor": 1
}

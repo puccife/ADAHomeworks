{
 "cells": [
  {
   "cell_type": "markdown",
   "metadata": {},
   "source": [
    "# Homework 2 - Data from the Web"
   ]
  },
  {
   "cell_type": "markdown",
   "metadata": {},
   "source": [
    "# Task 1 - Top Universities ranking"
   ]
  },
  {
   "cell_type": "markdown",
   "metadata": {},
   "source": [
    "### Importing libs"
   ]
  },
  {
   "cell_type": "code",
   "execution_count": 2,
   "metadata": {},
   "outputs": [],
   "source": [
    "import pandas as pd\n",
    "import numpy as np\n",
    "%matplotlib inline\n",
    "import matplotlib.pyplot as plt\n",
    "\n",
    "\n",
    "import requests\n",
    "from bs4 import BeautifulSoup\n",
    "\n",
    "import json"
   ]
  },
  {
   "cell_type": "markdown",
   "metadata": {},
   "source": [
    "## Extracting data from the website"
   ]
  },
  {
   "cell_type": "code",
   "execution_count": 3,
   "metadata": {},
   "outputs": [],
   "source": [
    "default_path = 'https://www.topuniversities.com'\n",
    "r = requests.get(default_path +'/sites/default/files/qs-rankings-data/357051.txt?_=1507995842896')\n",
    "result_json = r.json()\n",
    "\n",
    "result = pd.DataFrame.from_dict(result_json['data']).head(200)"
   ]
  },
  {
   "cell_type": "code",
   "execution_count": 4,
   "metadata": {
    "scrolled": false
   },
   "outputs": [
    {
     "name": "stdout",
     "output_type": "stream",
     "text": [
      "New York University (NYU) has no values for TOTAL_STAFF\n",
      "New York University (NYU) has no values for TOTAL_STUDENTS\n",
      "New York University (NYU) has no values for INTERNATIONAL_STAFF\n",
      "New York University (NYU) has no values for INTERNATIONAL_STUDENTS\n",
      "https://www.topuniversities.com/universities/new-york-university-nyu\n",
      "Indian Institute of Science (IISc) Bangalore has no values for INTERNATIONAL_STAFF\n"
     ]
    }
   ],
   "source": [
    "for index, row in result.iterrows():\n",
    "        r_ = requests.get(default_path + result.iloc[index]['url'])\n",
    "        soup = BeautifulSoup(r_.text, 'html.parser')\n",
    "        university = result.iloc[index]['title']\n",
    "        try:\n",
    "            total_faculty = soup.find('div', class_='total faculty')\n",
    "            result.loc[index, 'Staff total number'] = int(total_faculty.find('div', class_='number').text.split()[0].replace(',', ''))\n",
    "        except:\n",
    "            print(university + ' has no values for TOTAL_STAFF') \n",
    "        try:\n",
    "            total_student = soup.find('div', class_='total student')\n",
    "            result.loc[index, 'Students total number'] = int(total_student.find('div', class_='number').text.split()[0].replace(',', ''))\n",
    "        except:\n",
    "            print(university + ' has no values for TOTAL_STUDENTS')\n",
    "        try:\n",
    "            inter_faculty = soup.find('div', class_='inter faculty')\n",
    "            result.loc[index, 'International Staff number'] = int(inter_faculty.find('div', class_='number').text.split()[0].replace(',', ''))\n",
    "        except:\n",
    "            print(university + ' has no values for INTERNATIONAL_STAFF')\n",
    "        try:\n",
    "            inter_student = soup.find('div', class_='total inter')\n",
    "            result.loc[index, 'International Students number'] = int(inter_student.find('div', class_='number').text.split()[0].replace(',', ''))\n",
    "        except:\n",
    "            print(university + ' has no values for INTERNATIONAL_STUDENTS')\n",
    "            print(default_path + result.iloc[index]['url'])"
   ]
  },
  {
   "cell_type": "markdown",
   "metadata": {},
   "source": [
    "### Removing useless columns"
   ]
  },
  {
   "cell_type": "code",
   "execution_count": 5,
   "metadata": {
    "scrolled": false
   },
   "outputs": [],
   "source": [
    "result.fillna(0)\n",
    "useless_columns = ['core_id','guide','nid','url','logo']\n",
    "for column_name in useless_columns:\n",
    "    del result[column_name]"
   ]
  },
  {
   "cell_type": "code",
   "execution_count": 6,
   "metadata": {
    "scrolled": false
   },
   "outputs": [],
   "source": [
    "df = result.copy()"
   ]
  },
  {
   "cell_type": "markdown",
   "metadata": {},
   "source": [
    "## Extracting ratios"
   ]
  },
  {
   "cell_type": "code",
   "execution_count": 7,
   "metadata": {},
   "outputs": [],
   "source": [
    "df['Ratio Staff/Student']=df['Staff total number']/df['Students total number']\n",
    "df['Ratio International/National Students']=df['International Students number']/df['Students total number']"
   ]
  },
  {
   "cell_type": "markdown",
   "metadata": {},
   "source": [
    "### Sorting dataframes by ratios"
   ]
  },
  {
   "cell_type": "code",
   "execution_count": 8,
   "metadata": {},
   "outputs": [],
   "source": [
    "df_international = df.sort_values('Ratio International/National Students', ascending=0)\n",
    "df_staffstud = df.sort_values('Ratio Staff/Student', ascending=0)"
   ]
  },
  {
   "cell_type": "code",
   "execution_count": 9,
   "metadata": {},
   "outputs": [
    {
     "data": {
      "text/html": [
       "<div>\n",
       "<style>\n",
       "    .dataframe thead tr:only-child th {\n",
       "        text-align: right;\n",
       "    }\n",
       "\n",
       "    .dataframe thead th {\n",
       "        text-align: left;\n",
       "    }\n",
       "\n",
       "    .dataframe tbody tr th {\n",
       "        vertical-align: top;\n",
       "    }\n",
       "</style>\n",
       "<table border=\"1\" class=\"dataframe\">\n",
       "  <thead>\n",
       "    <tr style=\"text-align: right;\">\n",
       "      <th></th>\n",
       "      <th>cc</th>\n",
       "      <th>country</th>\n",
       "      <th>rank_display</th>\n",
       "      <th>region</th>\n",
       "      <th>score</th>\n",
       "      <th>stars</th>\n",
       "      <th>title</th>\n",
       "      <th>Staff total number</th>\n",
       "      <th>Students total number</th>\n",
       "      <th>International Staff number</th>\n",
       "      <th>International Students number</th>\n",
       "      <th>Ratio Staff/Student</th>\n",
       "      <th>Ratio International/National Students</th>\n",
       "    </tr>\n",
       "  </thead>\n",
       "  <tbody>\n",
       "    <tr>\n",
       "      <th>34</th>\n",
       "      <td>GB</td>\n",
       "      <td>United Kingdom</td>\n",
       "      <td>35</td>\n",
       "      <td>Europe</td>\n",
       "      <td>81.8</td>\n",
       "      <td>None</td>\n",
       "      <td>London School of Economics and Political Scien...</td>\n",
       "      <td>1088.0</td>\n",
       "      <td>9760.0</td>\n",
       "      <td>687.0</td>\n",
       "      <td>6748.0</td>\n",
       "      <td>0.111475</td>\n",
       "      <td>0.691393</td>\n",
       "    </tr>\n",
       "    <tr>\n",
       "      <th>11</th>\n",
       "      <td>CH</td>\n",
       "      <td>Switzerland</td>\n",
       "      <td>12</td>\n",
       "      <td>Europe</td>\n",
       "      <td>91.2</td>\n",
       "      <td>None</td>\n",
       "      <td>Ecole Polytechnique Fédérale de Lausanne (EPFL)</td>\n",
       "      <td>1695.0</td>\n",
       "      <td>10343.0</td>\n",
       "      <td>1300.0</td>\n",
       "      <td>5896.0</td>\n",
       "      <td>0.163879</td>\n",
       "      <td>0.570047</td>\n",
       "    </tr>\n",
       "    <tr>\n",
       "      <th>7</th>\n",
       "      <td>GB</td>\n",
       "      <td>United Kingdom</td>\n",
       "      <td>8</td>\n",
       "      <td>Europe</td>\n",
       "      <td>93.7</td>\n",
       "      <td>None</td>\n",
       "      <td>Imperial College London</td>\n",
       "      <td>3930.0</td>\n",
       "      <td>16090.0</td>\n",
       "      <td>2071.0</td>\n",
       "      <td>8746.0</td>\n",
       "      <td>0.244251</td>\n",
       "      <td>0.543567</td>\n",
       "    </tr>\n",
       "  </tbody>\n",
       "</table>\n",
       "</div>"
      ],
      "text/plain": [
       "    cc         country rank_display  region score stars  \\\n",
       "34  GB  United Kingdom           35  Europe  81.8  None   \n",
       "11  CH     Switzerland           12  Europe  91.2  None   \n",
       "7   GB  United Kingdom            8  Europe  93.7  None   \n",
       "\n",
       "                                                title  Staff total number  \\\n",
       "34  London School of Economics and Political Scien...              1088.0   \n",
       "11    Ecole Polytechnique Fédérale de Lausanne (EPFL)              1695.0   \n",
       "7                             Imperial College London              3930.0   \n",
       "\n",
       "    Students total number  International Staff number  \\\n",
       "34                 9760.0                       687.0   \n",
       "11                10343.0                      1300.0   \n",
       "7                 16090.0                      2071.0   \n",
       "\n",
       "    International Students number  Ratio Staff/Student  \\\n",
       "34                         6748.0             0.111475   \n",
       "11                         5896.0             0.163879   \n",
       "7                          8746.0             0.244251   \n",
       "\n",
       "    Ratio International/National Students  \n",
       "34                               0.691393  \n",
       "11                               0.570047  \n",
       "7                                0.543567  "
      ]
     },
     "execution_count": 9,
     "metadata": {},
     "output_type": "execute_result"
    }
   ],
   "source": [
    "df_international.head(3)"
   ]
  },
  {
   "cell_type": "code",
   "execution_count": 10,
   "metadata": {},
   "outputs": [
    {
     "data": {
      "text/html": [
       "<div>\n",
       "<style>\n",
       "    .dataframe thead tr:only-child th {\n",
       "        text-align: right;\n",
       "    }\n",
       "\n",
       "    .dataframe thead th {\n",
       "        text-align: left;\n",
       "    }\n",
       "\n",
       "    .dataframe tbody tr th {\n",
       "        vertical-align: top;\n",
       "    }\n",
       "</style>\n",
       "<table border=\"1\" class=\"dataframe\">\n",
       "  <thead>\n",
       "    <tr style=\"text-align: right;\">\n",
       "      <th></th>\n",
       "      <th>cc</th>\n",
       "      <th>country</th>\n",
       "      <th>rank_display</th>\n",
       "      <th>region</th>\n",
       "      <th>score</th>\n",
       "      <th>stars</th>\n",
       "      <th>title</th>\n",
       "      <th>Staff total number</th>\n",
       "      <th>Students total number</th>\n",
       "      <th>International Staff number</th>\n",
       "      <th>International Students number</th>\n",
       "      <th>Ratio Staff/Student</th>\n",
       "      <th>Ratio International/National Students</th>\n",
       "    </tr>\n",
       "  </thead>\n",
       "  <tbody>\n",
       "    <tr>\n",
       "      <th>3</th>\n",
       "      <td>US</td>\n",
       "      <td>United States</td>\n",
       "      <td>4</td>\n",
       "      <td>North America</td>\n",
       "      <td>97.7</td>\n",
       "      <td>5</td>\n",
       "      <td>California Institute of Technology (Caltech)</td>\n",
       "      <td>953.0</td>\n",
       "      <td>2255.0</td>\n",
       "      <td>350.0</td>\n",
       "      <td>647.0</td>\n",
       "      <td>0.422616</td>\n",
       "      <td>0.286918</td>\n",
       "    </tr>\n",
       "    <tr>\n",
       "      <th>15</th>\n",
       "      <td>US</td>\n",
       "      <td>United States</td>\n",
       "      <td>16</td>\n",
       "      <td>North America</td>\n",
       "      <td>90.4</td>\n",
       "      <td>5</td>\n",
       "      <td>Yale University</td>\n",
       "      <td>4940.0</td>\n",
       "      <td>12402.0</td>\n",
       "      <td>1708.0</td>\n",
       "      <td>2469.0</td>\n",
       "      <td>0.398323</td>\n",
       "      <td>0.199081</td>\n",
       "    </tr>\n",
       "    <tr>\n",
       "      <th>5</th>\n",
       "      <td>GB</td>\n",
       "      <td>United Kingdom</td>\n",
       "      <td>6</td>\n",
       "      <td>Europe</td>\n",
       "      <td>95.3</td>\n",
       "      <td>5</td>\n",
       "      <td>University of Oxford</td>\n",
       "      <td>6750.0</td>\n",
       "      <td>19720.0</td>\n",
       "      <td>2964.0</td>\n",
       "      <td>7353.0</td>\n",
       "      <td>0.342292</td>\n",
       "      <td>0.372870</td>\n",
       "    </tr>\n",
       "  </tbody>\n",
       "</table>\n",
       "</div>"
      ],
      "text/plain": [
       "    cc         country rank_display         region score stars  \\\n",
       "3   US   United States            4  North America  97.7     5   \n",
       "15  US   United States           16  North America  90.4     5   \n",
       "5   GB  United Kingdom            6         Europe  95.3     5   \n",
       "\n",
       "                                           title  Staff total number  \\\n",
       "3   California Institute of Technology (Caltech)               953.0   \n",
       "15                               Yale University              4940.0   \n",
       "5                           University of Oxford              6750.0   \n",
       "\n",
       "    Students total number  International Staff number  \\\n",
       "3                  2255.0                       350.0   \n",
       "15                12402.0                      1708.0   \n",
       "5                 19720.0                      2964.0   \n",
       "\n",
       "    International Students number  Ratio Staff/Student  \\\n",
       "3                           647.0             0.422616   \n",
       "15                         2469.0             0.398323   \n",
       "5                          7353.0             0.342292   \n",
       "\n",
       "    Ratio International/National Students  \n",
       "3                                0.286918  \n",
       "15                               0.199081  \n",
       "5                                0.372870  "
      ]
     },
     "execution_count": 10,
     "metadata": {},
     "output_type": "execute_result"
    }
   ],
   "source": [
    "df_staffstud.head(3)"
   ]
  },
  {
   "cell_type": "markdown",
   "metadata": {},
   "source": [
    "### Deleting useless columns before grouping by Country and Region"
   ]
  },
  {
   "cell_type": "code",
   "execution_count": 11,
   "metadata": {},
   "outputs": [
    {
     "data": {
      "text/html": [
       "<div>\n",
       "<style>\n",
       "    .dataframe thead tr:only-child th {\n",
       "        text-align: right;\n",
       "    }\n",
       "\n",
       "    .dataframe thead th {\n",
       "        text-align: left;\n",
       "    }\n",
       "\n",
       "    .dataframe tbody tr th {\n",
       "        vertical-align: top;\n",
       "    }\n",
       "</style>\n",
       "<table border=\"1\" class=\"dataframe\">\n",
       "  <thead>\n",
       "    <tr style=\"text-align: right;\">\n",
       "      <th></th>\n",
       "      <th>country</th>\n",
       "      <th>region</th>\n",
       "      <th>Staff total number</th>\n",
       "      <th>Students total number</th>\n",
       "      <th>International Staff number</th>\n",
       "      <th>International Students number</th>\n",
       "    </tr>\n",
       "  </thead>\n",
       "  <tbody>\n",
       "    <tr>\n",
       "      <th>34</th>\n",
       "      <td>United Kingdom</td>\n",
       "      <td>Europe</td>\n",
       "      <td>1088.0</td>\n",
       "      <td>9760.0</td>\n",
       "      <td>687.0</td>\n",
       "      <td>6748.0</td>\n",
       "    </tr>\n",
       "    <tr>\n",
       "      <th>11</th>\n",
       "      <td>Switzerland</td>\n",
       "      <td>Europe</td>\n",
       "      <td>1695.0</td>\n",
       "      <td>10343.0</td>\n",
       "      <td>1300.0</td>\n",
       "      <td>5896.0</td>\n",
       "    </tr>\n",
       "    <tr>\n",
       "      <th>7</th>\n",
       "      <td>United Kingdom</td>\n",
       "      <td>Europe</td>\n",
       "      <td>3930.0</td>\n",
       "      <td>16090.0</td>\n",
       "      <td>2071.0</td>\n",
       "      <td>8746.0</td>\n",
       "    </tr>\n",
       "    <tr>\n",
       "      <th>198</th>\n",
       "      <td>Netherlands</td>\n",
       "      <td>Europe</td>\n",
       "      <td>1277.0</td>\n",
       "      <td>16385.0</td>\n",
       "      <td>502.0</td>\n",
       "      <td>8234.0</td>\n",
       "    </tr>\n",
       "    <tr>\n",
       "      <th>47</th>\n",
       "      <td>United States</td>\n",
       "      <td>North America</td>\n",
       "      <td>1342.0</td>\n",
       "      <td>13356.0</td>\n",
       "      <td>425.0</td>\n",
       "      <td>6385.0</td>\n",
       "    </tr>\n",
       "  </tbody>\n",
       "</table>\n",
       "</div>"
      ],
      "text/plain": [
       "            country         region  Staff total number  Students total number  \\\n",
       "34   United Kingdom         Europe              1088.0                 9760.0   \n",
       "11      Switzerland         Europe              1695.0                10343.0   \n",
       "7    United Kingdom         Europe              3930.0                16090.0   \n",
       "198     Netherlands         Europe              1277.0                16385.0   \n",
       "47    United States  North America              1342.0                13356.0   \n",
       "\n",
       "     International Staff number  International Students number  \n",
       "34                        687.0                         6748.0  \n",
       "11                       1300.0                         5896.0  \n",
       "7                        2071.0                         8746.0  \n",
       "198                       502.0                         8234.0  \n",
       "47                        425.0                         6385.0  "
      ]
     },
     "execution_count": 11,
     "metadata": {},
     "output_type": "execute_result"
    }
   ],
   "source": [
    "\n",
    "df_international_by_country_or_region = df_international.copy()\n",
    "other_useless_columns = ['rank_display','score','stars','cc','Ratio International/National Students','Ratio Staff/Student','title']\n",
    "for useless_column in other_useless_columns:\n",
    "    del df_international_by_country_or_region[useless_column]\n",
    "df_international_by_country_or_region.head(5)"
   ]
  },
  {
   "cell_type": "markdown",
   "metadata": {},
   "source": [
    "## Grouping by country and Region"
   ]
  },
  {
   "cell_type": "code",
   "execution_count": 12,
   "metadata": {},
   "outputs": [],
   "source": [
    "df_international_by_country = df_international_by_country_or_region.groupby(['country']).sum()\n",
    "df_international_by_region = df_international_by_country_or_region.groupby(['region']).sum()"
   ]
  },
  {
   "cell_type": "markdown",
   "metadata": {},
   "source": [
    "### Producing ratios by country"
   ]
  },
  {
   "cell_type": "code",
   "execution_count": 13,
   "metadata": {},
   "outputs": [],
   "source": [
    "df_international_by_country['Ratio Staff/Student'] = df_international_by_country['Staff total number']/df_international_by_country['Students total number']\n",
    "df_international_by_country['Ratio International/National Students'] = df_international_by_country['International Students number']/df_international_by_country['Students total number']"
   ]
  },
  {
   "cell_type": "code",
   "execution_count": 14,
   "metadata": {},
   "outputs": [
    {
     "data": {
      "text/html": [
       "<div>\n",
       "<style>\n",
       "    .dataframe thead tr:only-child th {\n",
       "        text-align: right;\n",
       "    }\n",
       "\n",
       "    .dataframe thead th {\n",
       "        text-align: left;\n",
       "    }\n",
       "\n",
       "    .dataframe tbody tr th {\n",
       "        vertical-align: top;\n",
       "    }\n",
       "</style>\n",
       "<table border=\"1\" class=\"dataframe\">\n",
       "  <thead>\n",
       "    <tr style=\"text-align: right;\">\n",
       "      <th></th>\n",
       "      <th>Staff total number</th>\n",
       "      <th>Students total number</th>\n",
       "      <th>International Staff number</th>\n",
       "      <th>International Students number</th>\n",
       "      <th>Ratio Staff/Student</th>\n",
       "      <th>Ratio International/National Students</th>\n",
       "    </tr>\n",
       "    <tr>\n",
       "      <th>country</th>\n",
       "      <th></th>\n",
       "      <th></th>\n",
       "      <th></th>\n",
       "      <th></th>\n",
       "      <th></th>\n",
       "      <th></th>\n",
       "    </tr>\n",
       "  </thead>\n",
       "  <tbody>\n",
       "    <tr>\n",
       "      <th>Russia</th>\n",
       "      <td>6709.0</td>\n",
       "      <td>30233.0</td>\n",
       "      <td>373.0</td>\n",
       "      <td>5098.0</td>\n",
       "      <td>0.221910</td>\n",
       "      <td>0.168624</td>\n",
       "    </tr>\n",
       "    <tr>\n",
       "      <th>Denmark</th>\n",
       "      <td>11916.0</td>\n",
       "      <td>67223.0</td>\n",
       "      <td>3904.0</td>\n",
       "      <td>9543.0</td>\n",
       "      <td>0.177261</td>\n",
       "      <td>0.141960</td>\n",
       "    </tr>\n",
       "    <tr>\n",
       "      <th>Saudi Arabia</th>\n",
       "      <td>1062.0</td>\n",
       "      <td>6040.0</td>\n",
       "      <td>665.0</td>\n",
       "      <td>989.0</td>\n",
       "      <td>0.175828</td>\n",
       "      <td>0.163742</td>\n",
       "    </tr>\n",
       "    <tr>\n",
       "      <th>Singapore</th>\n",
       "      <td>9444.0</td>\n",
       "      <td>58466.0</td>\n",
       "      <td>6079.0</td>\n",
       "      <td>16168.0</td>\n",
       "      <td>0.161530</td>\n",
       "      <td>0.276537</td>\n",
       "    </tr>\n",
       "    <tr>\n",
       "      <th>Malaysia</th>\n",
       "      <td>2755.0</td>\n",
       "      <td>17902.0</td>\n",
       "      <td>655.0</td>\n",
       "      <td>3476.0</td>\n",
       "      <td>0.153893</td>\n",
       "      <td>0.194168</td>\n",
       "    </tr>\n",
       "  </tbody>\n",
       "</table>\n",
       "</div>"
      ],
      "text/plain": [
       "              Staff total number  Students total number  \\\n",
       "country                                                   \n",
       "Russia                    6709.0                30233.0   \n",
       "Denmark                  11916.0                67223.0   \n",
       "Saudi Arabia              1062.0                 6040.0   \n",
       "Singapore                 9444.0                58466.0   \n",
       "Malaysia                  2755.0                17902.0   \n",
       "\n",
       "              International Staff number  International Students number  \\\n",
       "country                                                                   \n",
       "Russia                             373.0                         5098.0   \n",
       "Denmark                           3904.0                         9543.0   \n",
       "Saudi Arabia                       665.0                          989.0   \n",
       "Singapore                         6079.0                        16168.0   \n",
       "Malaysia                           655.0                         3476.0   \n",
       "\n",
       "              Ratio Staff/Student  Ratio International/National Students  \n",
       "country                                                                   \n",
       "Russia                   0.221910                               0.168624  \n",
       "Denmark                  0.177261                               0.141960  \n",
       "Saudi Arabia             0.175828                               0.163742  \n",
       "Singapore                0.161530                               0.276537  \n",
       "Malaysia                 0.153893                               0.194168  "
      ]
     },
     "execution_count": 14,
     "metadata": {},
     "output_type": "execute_result"
    }
   ],
   "source": [
    "df_international_by_country_staffstudent = df_international_by_country.copy()\n",
    "df_international_by_country_staffstudent.sort_values('Ratio Staff/Student', ascending=0).head(5)"
   ]
  },
  {
   "cell_type": "code",
   "execution_count": 15,
   "metadata": {},
   "outputs": [
    {
     "data": {
      "text/html": [
       "<div>\n",
       "<style>\n",
       "    .dataframe thead tr:only-child th {\n",
       "        text-align: right;\n",
       "    }\n",
       "\n",
       "    .dataframe thead th {\n",
       "        text-align: left;\n",
       "    }\n",
       "\n",
       "    .dataframe tbody tr th {\n",
       "        vertical-align: top;\n",
       "    }\n",
       "</style>\n",
       "<table border=\"1\" class=\"dataframe\">\n",
       "  <thead>\n",
       "    <tr style=\"text-align: right;\">\n",
       "      <th></th>\n",
       "      <th>Staff total number</th>\n",
       "      <th>Students total number</th>\n",
       "      <th>International Staff number</th>\n",
       "      <th>International Students number</th>\n",
       "      <th>Ratio Staff/Student</th>\n",
       "      <th>Ratio International/National Students</th>\n",
       "    </tr>\n",
       "    <tr>\n",
       "      <th>country</th>\n",
       "      <th></th>\n",
       "      <th></th>\n",
       "      <th></th>\n",
       "      <th></th>\n",
       "      <th></th>\n",
       "      <th></th>\n",
       "    </tr>\n",
       "  </thead>\n",
       "  <tbody>\n",
       "    <tr>\n",
       "      <th>Australia</th>\n",
       "      <td>22034.0</td>\n",
       "      <td>301994.0</td>\n",
       "      <td>11382.0</td>\n",
       "      <td>106359.0</td>\n",
       "      <td>0.072962</td>\n",
       "      <td>0.352189</td>\n",
       "    </tr>\n",
       "    <tr>\n",
       "      <th>United Kingdom</th>\n",
       "      <td>79934.0</td>\n",
       "      <td>583621.0</td>\n",
       "      <td>30216.0</td>\n",
       "      <td>199426.0</td>\n",
       "      <td>0.136962</td>\n",
       "      <td>0.341705</td>\n",
       "    </tr>\n",
       "    <tr>\n",
       "      <th>Hong Kong</th>\n",
       "      <td>10166.0</td>\n",
       "      <td>78838.0</td>\n",
       "      <td>6296.0</td>\n",
       "      <td>24499.0</td>\n",
       "      <td>0.128948</td>\n",
       "      <td>0.310751</td>\n",
       "    </tr>\n",
       "    <tr>\n",
       "      <th>Austria</th>\n",
       "      <td>4117.0</td>\n",
       "      <td>63446.0</td>\n",
       "      <td>1572.0</td>\n",
       "      <td>19667.0</td>\n",
       "      <td>0.064890</td>\n",
       "      <td>0.309980</td>\n",
       "    </tr>\n",
       "    <tr>\n",
       "      <th>Switzerland</th>\n",
       "      <td>15323.0</td>\n",
       "      <td>109112.0</td>\n",
       "      <td>9208.0</td>\n",
       "      <td>32995.0</td>\n",
       "      <td>0.140434</td>\n",
       "      <td>0.302396</td>\n",
       "    </tr>\n",
       "  </tbody>\n",
       "</table>\n",
       "</div>"
      ],
      "text/plain": [
       "                Staff total number  Students total number  \\\n",
       "country                                                     \n",
       "Australia                  22034.0               301994.0   \n",
       "United Kingdom             79934.0               583621.0   \n",
       "Hong Kong                  10166.0                78838.0   \n",
       "Austria                     4117.0                63446.0   \n",
       "Switzerland                15323.0               109112.0   \n",
       "\n",
       "                International Staff number  International Students number  \\\n",
       "country                                                                     \n",
       "Australia                          11382.0                       106359.0   \n",
       "United Kingdom                     30216.0                       199426.0   \n",
       "Hong Kong                           6296.0                        24499.0   \n",
       "Austria                             1572.0                        19667.0   \n",
       "Switzerland                         9208.0                        32995.0   \n",
       "\n",
       "                Ratio Staff/Student  Ratio International/National Students  \n",
       "country                                                                     \n",
       "Australia                  0.072962                               0.352189  \n",
       "United Kingdom             0.136962                               0.341705  \n",
       "Hong Kong                  0.128948                               0.310751  \n",
       "Austria                    0.064890                               0.309980  \n",
       "Switzerland                0.140434                               0.302396  "
      ]
     },
     "execution_count": 15,
     "metadata": {},
     "output_type": "execute_result"
    }
   ],
   "source": [
    "df_international_by_country_intstudent = df_international_by_country.copy()\n",
    "df_international_by_country_intstudent.sort_values('Ratio International/National Students', ascending=0).head(5)"
   ]
  },
  {
   "cell_type": "markdown",
   "metadata": {},
   "source": [
    "### Producing ratios by region"
   ]
  },
  {
   "cell_type": "code",
   "execution_count": 16,
   "metadata": {},
   "outputs": [],
   "source": [
    "df_international_by_region['Ratio Staff/Student'] = df_international_by_region['Staff total number']/df_international_by_region['Students total number']\n",
    "df_international_by_region['Ratio International/National Students'] = df_international_by_region['International Students number']/df_international_by_region['Students total number']"
   ]
  },
  {
   "cell_type": "code",
   "execution_count": 17,
   "metadata": {},
   "outputs": [
    {
     "data": {
      "text/html": [
       "<div>\n",
       "<style>\n",
       "    .dataframe thead tr:only-child th {\n",
       "        text-align: right;\n",
       "    }\n",
       "\n",
       "    .dataframe thead th {\n",
       "        text-align: left;\n",
       "    }\n",
       "\n",
       "    .dataframe tbody tr th {\n",
       "        vertical-align: top;\n",
       "    }\n",
       "</style>\n",
       "<table border=\"1\" class=\"dataframe\">\n",
       "  <thead>\n",
       "    <tr style=\"text-align: right;\">\n",
       "      <th></th>\n",
       "      <th>Staff total number</th>\n",
       "      <th>Students total number</th>\n",
       "      <th>International Staff number</th>\n",
       "      <th>International Students number</th>\n",
       "      <th>Ratio Staff/Student</th>\n",
       "      <th>Ratio International/National Students</th>\n",
       "    </tr>\n",
       "    <tr>\n",
       "      <th>region</th>\n",
       "      <th></th>\n",
       "      <th></th>\n",
       "      <th></th>\n",
       "      <th></th>\n",
       "      <th></th>\n",
       "      <th></th>\n",
       "    </tr>\n",
       "  </thead>\n",
       "  <tbody>\n",
       "    <tr>\n",
       "      <th>Asia</th>\n",
       "      <td>106734.0</td>\n",
       "      <td>807003.0</td>\n",
       "      <td>25462.0</td>\n",
       "      <td>110100.0</td>\n",
       "      <td>0.132260</td>\n",
       "      <td>0.136431</td>\n",
       "    </tr>\n",
       "    <tr>\n",
       "      <th>North America</th>\n",
       "      <td>182123.0</td>\n",
       "      <td>1546353.0</td>\n",
       "      <td>43836.0</td>\n",
       "      <td>292116.0</td>\n",
       "      <td>0.117776</td>\n",
       "      <td>0.188906</td>\n",
       "    </tr>\n",
       "    <tr>\n",
       "      <th>Europe</th>\n",
       "      <td>218358.0</td>\n",
       "      <td>1957251.0</td>\n",
       "      <td>67598.0</td>\n",
       "      <td>449364.0</td>\n",
       "      <td>0.111564</td>\n",
       "      <td>0.229589</td>\n",
       "    </tr>\n",
       "    <tr>\n",
       "      <th>Latin America</th>\n",
       "      <td>45382.0</td>\n",
       "      <td>435750.0</td>\n",
       "      <td>5648.0</td>\n",
       "      <td>36871.0</td>\n",
       "      <td>0.104147</td>\n",
       "      <td>0.084615</td>\n",
       "    </tr>\n",
       "    <tr>\n",
       "      <th>Africa</th>\n",
       "      <td>1733.0</td>\n",
       "      <td>19593.0</td>\n",
       "      <td>379.0</td>\n",
       "      <td>3325.0</td>\n",
       "      <td>0.088450</td>\n",
       "      <td>0.169703</td>\n",
       "    </tr>\n",
       "  </tbody>\n",
       "</table>\n",
       "</div>"
      ],
      "text/plain": [
       "               Staff total number  Students total number  \\\n",
       "region                                                     \n",
       "Asia                     106734.0               807003.0   \n",
       "North America            182123.0              1546353.0   \n",
       "Europe                   218358.0              1957251.0   \n",
       "Latin America             45382.0               435750.0   \n",
       "Africa                     1733.0                19593.0   \n",
       "\n",
       "               International Staff number  International Students number  \\\n",
       "region                                                                     \n",
       "Asia                              25462.0                       110100.0   \n",
       "North America                     43836.0                       292116.0   \n",
       "Europe                            67598.0                       449364.0   \n",
       "Latin America                      5648.0                        36871.0   \n",
       "Africa                              379.0                         3325.0   \n",
       "\n",
       "               Ratio Staff/Student  Ratio International/National Students  \n",
       "region                                                                     \n",
       "Asia                      0.132260                               0.136431  \n",
       "North America             0.117776                               0.188906  \n",
       "Europe                    0.111564                               0.229589  \n",
       "Latin America             0.104147                               0.084615  \n",
       "Africa                    0.088450                               0.169703  "
      ]
     },
     "execution_count": 17,
     "metadata": {},
     "output_type": "execute_result"
    }
   ],
   "source": [
    "df_international_by_region_staffstudent = df_international_by_region.copy()\n",
    "df_international_by_region_staffstudent.sort_values('Ratio Staff/Student', ascending=0).head(5)"
   ]
  },
  {
   "cell_type": "code",
   "execution_count": 18,
   "metadata": {},
   "outputs": [
    {
     "data": {
      "text/html": [
       "<div>\n",
       "<style>\n",
       "    .dataframe thead tr:only-child th {\n",
       "        text-align: right;\n",
       "    }\n",
       "\n",
       "    .dataframe thead th {\n",
       "        text-align: left;\n",
       "    }\n",
       "\n",
       "    .dataframe tbody tr th {\n",
       "        vertical-align: top;\n",
       "    }\n",
       "</style>\n",
       "<table border=\"1\" class=\"dataframe\">\n",
       "  <thead>\n",
       "    <tr style=\"text-align: right;\">\n",
       "      <th></th>\n",
       "      <th>Staff total number</th>\n",
       "      <th>Students total number</th>\n",
       "      <th>International Staff number</th>\n",
       "      <th>International Students number</th>\n",
       "      <th>Ratio Staff/Student</th>\n",
       "      <th>Ratio International/National Students</th>\n",
       "    </tr>\n",
       "    <tr>\n",
       "      <th>region</th>\n",
       "      <th></th>\n",
       "      <th></th>\n",
       "      <th></th>\n",
       "      <th></th>\n",
       "      <th></th>\n",
       "      <th></th>\n",
       "    </tr>\n",
       "  </thead>\n",
       "  <tbody>\n",
       "    <tr>\n",
       "      <th>Oceania</th>\n",
       "      <td>25347.0</td>\n",
       "      <td>350167.0</td>\n",
       "      <td>12786.0</td>\n",
       "      <td>118798.0</td>\n",
       "      <td>0.072385</td>\n",
       "      <td>0.339261</td>\n",
       "    </tr>\n",
       "    <tr>\n",
       "      <th>Europe</th>\n",
       "      <td>218358.0</td>\n",
       "      <td>1957251.0</td>\n",
       "      <td>67598.0</td>\n",
       "      <td>449364.0</td>\n",
       "      <td>0.111564</td>\n",
       "      <td>0.229589</td>\n",
       "    </tr>\n",
       "    <tr>\n",
       "      <th>North America</th>\n",
       "      <td>182123.0</td>\n",
       "      <td>1546353.0</td>\n",
       "      <td>43836.0</td>\n",
       "      <td>292116.0</td>\n",
       "      <td>0.117776</td>\n",
       "      <td>0.188906</td>\n",
       "    </tr>\n",
       "    <tr>\n",
       "      <th>Africa</th>\n",
       "      <td>1733.0</td>\n",
       "      <td>19593.0</td>\n",
       "      <td>379.0</td>\n",
       "      <td>3325.0</td>\n",
       "      <td>0.088450</td>\n",
       "      <td>0.169703</td>\n",
       "    </tr>\n",
       "    <tr>\n",
       "      <th>Asia</th>\n",
       "      <td>106734.0</td>\n",
       "      <td>807003.0</td>\n",
       "      <td>25462.0</td>\n",
       "      <td>110100.0</td>\n",
       "      <td>0.132260</td>\n",
       "      <td>0.136431</td>\n",
       "    </tr>\n",
       "  </tbody>\n",
       "</table>\n",
       "</div>"
      ],
      "text/plain": [
       "               Staff total number  Students total number  \\\n",
       "region                                                     \n",
       "Oceania                   25347.0               350167.0   \n",
       "Europe                   218358.0              1957251.0   \n",
       "North America            182123.0              1546353.0   \n",
       "Africa                     1733.0                19593.0   \n",
       "Asia                     106734.0               807003.0   \n",
       "\n",
       "               International Staff number  International Students number  \\\n",
       "region                                                                     \n",
       "Oceania                           12786.0                       118798.0   \n",
       "Europe                            67598.0                       449364.0   \n",
       "North America                     43836.0                       292116.0   \n",
       "Africa                              379.0                         3325.0   \n",
       "Asia                              25462.0                       110100.0   \n",
       "\n",
       "               Ratio Staff/Student  Ratio International/National Students  \n",
       "region                                                                     \n",
       "Oceania                   0.072385                               0.339261  \n",
       "Europe                    0.111564                               0.229589  \n",
       "North America             0.117776                               0.188906  \n",
       "Africa                    0.088450                               0.169703  \n",
       "Asia                      0.132260                               0.136431  "
      ]
     },
     "execution_count": 18,
     "metadata": {},
     "output_type": "execute_result"
    }
   ],
   "source": [
    "df_international_by_region_intstudent = df_international_by_region.copy()\n",
    "df_international_by_region_intstudent.sort_values('Ratio International/National Students', ascending=0).head(5)"
   ]
  },
  {
   "cell_type": "markdown",
   "metadata": {},
   "source": [
    "## Plots and Discussion"
   ]
  },
  {
   "cell_type": "code",
   "execution_count": 19,
   "metadata": {},
   "outputs": [],
   "source": [
    "#TODO: Plot your data using bar charts and describe briefly what you observed."
   ]
  },
  {
   "cell_type": "markdown",
   "metadata": {},
   "source": [
    "# Task 2 - Times Higher Education ranking"
   ]
  },
  {
   "cell_type": "markdown",
   "metadata": {},
   "source": [
    "## Extracting data from the website"
   ]
  },
  {
   "cell_type": "markdown",
   "metadata": {
    "collapsed": true
   },
   "source": [
    "## Analysis"
   ]
  },
  {
   "cell_type": "markdown",
   "metadata": {},
   "source": [
    "## Plots and Discussion"
   ]
  },
  {
   "cell_type": "markdown",
   "metadata": {},
   "source": [
    "# Task 3 - Merging the dataframes"
   ]
  },
  {
   "cell_type": "markdown",
   "metadata": {},
   "source": [
    "# Task 4 - Exploratory Analysis "
   ]
  },
  {
   "cell_type": "markdown",
   "metadata": {},
   "source": [
    "# Task 5 - Finding the best university "
   ]
  },
  {
   "cell_type": "code",
   "execution_count": null,
   "metadata": {},
   "outputs": [],
   "source": []
  }
 ],
 "metadata": {
  "kernelspec": {
   "display_name": "Python [default]",
   "language": "python",
   "name": "python3"
  },
  "language_info": {
   "codemirror_mode": {
    "name": "ipython",
    "version": 3
   },
   "file_extension": ".py",
   "mimetype": "text/x-python",
   "name": "python",
   "nbconvert_exporter": "python",
   "pygments_lexer": "ipython3",
   "version": "3.5.4"
  }
 },
 "nbformat": 4,
 "nbformat_minor": 1
}

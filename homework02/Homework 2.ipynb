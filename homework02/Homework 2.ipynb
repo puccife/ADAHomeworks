{
 "cells": [
  {
   "cell_type": "markdown",
   "metadata": {},
   "source": [
    "# Homework 2 - Data from the Web"
   ]
  },
  {
   "cell_type": "markdown",
   "metadata": {},
   "source": [
    "# Task 1 - QS World Universities ranking"
   ]
  },
  {
   "cell_type": "markdown",
   "metadata": {},
   "source": [
    "### Importing libs"
   ]
  },
  {
   "cell_type": "code",
   "execution_count": 1,
   "metadata": {},
   "outputs": [],
   "source": [
    "import pandas as pd\n",
    "import numpy as np\n",
    "%matplotlib inline\n",
    "import matplotlib.pyplot as plt\n",
    "\n",
    "\n",
    "import requests\n",
    "from bs4 import BeautifulSoup\n",
    "import difflib\n",
    "\n",
    "import json"
   ]
  },
  {
   "cell_type": "markdown",
   "metadata": {},
   "source": [
    "## Extracting data from the website \"topuniversities.com\"\n",
    "\n",
    "The aim of the first task is to scrape meaningful data from _topuniversities.com_ website.\n",
    "To begin with, we analyze the content and the interaction with the html table on the website. "
   ]
  },
  {
   "cell_type": "markdown",
   "metadata": {},
   "source": [
    "![alt text](./images/postman.png \"Postman capture\")\n",
    "\n",
    "\n",
    "By analyzing all the REST request loaded by the page we found that the dataset that fills the table is obtained by a GET request to a specific URL in a .txt format.\n",
    "\n",
    "Analyzing the file we see that the content is stored in a JSON format. Now, we know that we can perform the same request and store the file in a json object that can be used to create our pandas dataframe."
   ]
  },
  {
   "cell_type": "code",
   "execution_count": 2,
   "metadata": {},
   "outputs": [],
   "source": [
    "default_path = 'https://www.topuniversities.com'\n",
    "r = requests.get(default_path +'/sites/default/files/qs-rankings-data/357051.txt?_=1507995842896')\n",
    "result_json = r.json()\n",
    "\n",
    "result = pd.DataFrame.from_dict(result_json['data']).head(200)"
   ]
  },
  {
   "cell_type": "code",
   "execution_count": 3,
   "metadata": {},
   "outputs": [
    {
     "data": {
      "text/html": [
       "<div>\n",
       "<style>\n",
       "    .dataframe thead tr:only-child th {\n",
       "        text-align: right;\n",
       "    }\n",
       "\n",
       "    .dataframe thead th {\n",
       "        text-align: left;\n",
       "    }\n",
       "\n",
       "    .dataframe tbody tr th {\n",
       "        vertical-align: top;\n",
       "    }\n",
       "</style>\n",
       "<table border=\"1\" class=\"dataframe\">\n",
       "  <thead>\n",
       "    <tr style=\"text-align: right;\">\n",
       "      <th></th>\n",
       "      <th>cc</th>\n",
       "      <th>core_id</th>\n",
       "      <th>country</th>\n",
       "      <th>guide</th>\n",
       "      <th>logo</th>\n",
       "      <th>nid</th>\n",
       "      <th>rank_display</th>\n",
       "      <th>region</th>\n",
       "      <th>score</th>\n",
       "      <th>stars</th>\n",
       "      <th>title</th>\n",
       "      <th>url</th>\n",
       "    </tr>\n",
       "  </thead>\n",
       "  <tbody>\n",
       "    <tr>\n",
       "      <th>0</th>\n",
       "      <td>US</td>\n",
       "      <td>410</td>\n",
       "      <td>United States</td>\n",
       "      <td>&lt;a href=\"/where-to-study/north-america/united-...</td>\n",
       "      <td>&lt;img src=\"https://www.topuniversities.com/site...</td>\n",
       "      <td>294850</td>\n",
       "      <td>1</td>\n",
       "      <td>North America</td>\n",
       "      <td>100</td>\n",
       "      <td>6</td>\n",
       "      <td>Massachusetts Institute of Technology (MIT)</td>\n",
       "      <td>/universities/massachusetts-institute-technolo...</td>\n",
       "    </tr>\n",
       "    <tr>\n",
       "      <th>1</th>\n",
       "      <td>US</td>\n",
       "      <td>573</td>\n",
       "      <td>United States</td>\n",
       "      <td>&lt;a href=\"/where-to-study/north-america/united-...</td>\n",
       "      <td>&lt;img src=\"https://www.topuniversities.com/site...</td>\n",
       "      <td>297282</td>\n",
       "      <td>2</td>\n",
       "      <td>North America</td>\n",
       "      <td>98.7</td>\n",
       "      <td>5</td>\n",
       "      <td>Stanford University</td>\n",
       "      <td>/universities/stanford-university</td>\n",
       "    </tr>\n",
       "    <tr>\n",
       "      <th>2</th>\n",
       "      <td>US</td>\n",
       "      <td>253</td>\n",
       "      <td>United States</td>\n",
       "      <td>&lt;a href=\"/where-to-study/north-america/united-...</td>\n",
       "      <td>&lt;img src=\"https://www.topuniversities.com/site...</td>\n",
       "      <td>294270</td>\n",
       "      <td>3</td>\n",
       "      <td>North America</td>\n",
       "      <td>98.4</td>\n",
       "      <td>5</td>\n",
       "      <td>Harvard University</td>\n",
       "      <td>/universities/harvard-university</td>\n",
       "    </tr>\n",
       "    <tr>\n",
       "      <th>3</th>\n",
       "      <td>US</td>\n",
       "      <td>94</td>\n",
       "      <td>United States</td>\n",
       "      <td>&lt;a href=\"/where-to-study/north-america/united-...</td>\n",
       "      <td>&lt;img src=\"https://www.topuniversities.com/site...</td>\n",
       "      <td>294562</td>\n",
       "      <td>4</td>\n",
       "      <td>North America</td>\n",
       "      <td>97.7</td>\n",
       "      <td>5</td>\n",
       "      <td>California Institute of Technology (Caltech)</td>\n",
       "      <td>/universities/california-institute-technology-...</td>\n",
       "    </tr>\n",
       "    <tr>\n",
       "      <th>4</th>\n",
       "      <td>GB</td>\n",
       "      <td>95</td>\n",
       "      <td>United Kingdom</td>\n",
       "      <td>&lt;a href=\"/where-to-study/europe/united-kingdom...</td>\n",
       "      <td>&lt;img src=\"https://www.topuniversities.com/site...</td>\n",
       "      <td>294561</td>\n",
       "      <td>5</td>\n",
       "      <td>Europe</td>\n",
       "      <td>95.6</td>\n",
       "      <td>5</td>\n",
       "      <td>University of Cambridge</td>\n",
       "      <td>/universities/university-cambridge</td>\n",
       "    </tr>\n",
       "    <tr>\n",
       "      <th>5</th>\n",
       "      <td>GB</td>\n",
       "      <td>478</td>\n",
       "      <td>United Kingdom</td>\n",
       "      <td>&lt;a href=\"/where-to-study/europe/united-kingdom...</td>\n",
       "      <td>&lt;img src=\"https://www.topuniversities.com/site...</td>\n",
       "      <td>294654</td>\n",
       "      <td>6</td>\n",
       "      <td>Europe</td>\n",
       "      <td>95.3</td>\n",
       "      <td>5</td>\n",
       "      <td>University of Oxford</td>\n",
       "      <td>/universities/university-oxford</td>\n",
       "    </tr>\n",
       "    <tr>\n",
       "      <th>6</th>\n",
       "      <td>GB</td>\n",
       "      <td>365</td>\n",
       "      <td>United Kingdom</td>\n",
       "      <td>&lt;a href=\"/where-to-study/europe/united-kingdom...</td>\n",
       "      <td>&lt;img src=\"https://www.topuniversities.com/site...</td>\n",
       "      <td>294014</td>\n",
       "      <td>7</td>\n",
       "      <td>Europe</td>\n",
       "      <td>94.6</td>\n",
       "      <td>None</td>\n",
       "      <td>UCL (University College London)</td>\n",
       "      <td>/universities/ucl-university-college-london</td>\n",
       "    </tr>\n",
       "    <tr>\n",
       "      <th>7</th>\n",
       "      <td>GB</td>\n",
       "      <td>356</td>\n",
       "      <td>United Kingdom</td>\n",
       "      <td>&lt;a href=\"/where-to-study/europe/united-kingdom...</td>\n",
       "      <td>&lt;img src=\"https://www.topuniversities.com/site...</td>\n",
       "      <td>294030</td>\n",
       "      <td>8</td>\n",
       "      <td>Europe</td>\n",
       "      <td>93.7</td>\n",
       "      <td>None</td>\n",
       "      <td>Imperial College London</td>\n",
       "      <td>/universities/imperial-college-london</td>\n",
       "    </tr>\n",
       "    <tr>\n",
       "      <th>8</th>\n",
       "      <td>US</td>\n",
       "      <td>120</td>\n",
       "      <td>United States</td>\n",
       "      <td>&lt;a href=\"/where-to-study/north-america/united-...</td>\n",
       "      <td>&lt;img src=\"https://www.topuniversities.com/site...</td>\n",
       "      <td>294536</td>\n",
       "      <td>9</td>\n",
       "      <td>North America</td>\n",
       "      <td>93.5</td>\n",
       "      <td>5</td>\n",
       "      <td>University of Chicago</td>\n",
       "      <td>/universities/university-chicago</td>\n",
       "    </tr>\n",
       "    <tr>\n",
       "      <th>9</th>\n",
       "      <td>CH</td>\n",
       "      <td>201</td>\n",
       "      <td>Switzerland</td>\n",
       "      <td>&lt;a href=\"/where-to-study/europe/switzerland/gu...</td>\n",
       "      <td>&lt;img src=\"https://www.topuniversities.com/site...</td>\n",
       "      <td>294432</td>\n",
       "      <td>10</td>\n",
       "      <td>Europe</td>\n",
       "      <td>93.3</td>\n",
       "      <td>None</td>\n",
       "      <td>ETH Zurich - Swiss Federal Institute of Techno...</td>\n",
       "      <td>/universities/eth-zurich-swiss-federal-institu...</td>\n",
       "    </tr>\n",
       "    <tr>\n",
       "      <th>10</th>\n",
       "      <td>SG</td>\n",
       "      <td>431</td>\n",
       "      <td>Singapore</td>\n",
       "      <td></td>\n",
       "      <td>&lt;img src=\"https://www.topuniversities.com/site...</td>\n",
       "      <td>294821</td>\n",
       "      <td>11</td>\n",
       "      <td>Asia</td>\n",
       "      <td>92.2</td>\n",
       "      <td>6</td>\n",
       "      <td>Nanyang Technological University, Singapore (NTU)</td>\n",
       "      <td>/universities/nanyang-technological-university...</td>\n",
       "    </tr>\n",
       "    <tr>\n",
       "      <th>11</th>\n",
       "      <td>CH</td>\n",
       "      <td>177</td>\n",
       "      <td>Switzerland</td>\n",
       "      <td>&lt;a href=\"/where-to-study/europe/switzerland/gu...</td>\n",
       "      <td>&lt;img src=\"https://www.topuniversities.com/site...</td>\n",
       "      <td>294481</td>\n",
       "      <td>12</td>\n",
       "      <td>Europe</td>\n",
       "      <td>91.2</td>\n",
       "      <td>None</td>\n",
       "      <td>Ecole Polytechnique Fédérale de Lausanne (EPFL)</td>\n",
       "      <td>/universities/ecole-polytechnique-f%C3%A9d%C3%...</td>\n",
       "    </tr>\n",
       "    <tr>\n",
       "      <th>12</th>\n",
       "      <td>US</td>\n",
       "      <td>508</td>\n",
       "      <td>United States</td>\n",
       "      <td>&lt;a href=\"/where-to-study/north-america/united-...</td>\n",
       "      <td>&lt;img src=\"https://www.topuniversities.com/site...</td>\n",
       "      <td>297490</td>\n",
       "      <td>13</td>\n",
       "      <td>North America</td>\n",
       "      <td>91</td>\n",
       "      <td>5</td>\n",
       "      <td>Princeton University</td>\n",
       "      <td>/universities/princeton-university</td>\n",
       "    </tr>\n",
       "    <tr>\n",
       "      <th>13</th>\n",
       "      <td>US</td>\n",
       "      <td>143</td>\n",
       "      <td>United States</td>\n",
       "      <td>&lt;a href=\"/where-to-study/north-america/united-...</td>\n",
       "      <td>&lt;img src=\"https://www.topuniversities.com/site...</td>\n",
       "      <td>294514</td>\n",
       "      <td>14</td>\n",
       "      <td>North America</td>\n",
       "      <td>90.7</td>\n",
       "      <td>5</td>\n",
       "      <td>Cornell University</td>\n",
       "      <td>/universities/cornell-university</td>\n",
       "    </tr>\n",
       "    <tr>\n",
       "      <th>14</th>\n",
       "      <td>SG</td>\n",
       "      <td>443</td>\n",
       "      <td>Singapore</td>\n",
       "      <td></td>\n",
       "      <td>&lt;img src=\"https://www.topuniversities.com/site...</td>\n",
       "      <td>294798</td>\n",
       "      <td>15</td>\n",
       "      <td>Asia</td>\n",
       "      <td>90.5</td>\n",
       "      <td>None</td>\n",
       "      <td>National University of Singapore (NUS)</td>\n",
       "      <td>/universities/national-university-singapore-nus</td>\n",
       "    </tr>\n",
       "    <tr>\n",
       "      <th>15</th>\n",
       "      <td>US</td>\n",
       "      <td>684</td>\n",
       "      <td>United States</td>\n",
       "      <td>&lt;a href=\"/where-to-study/north-america/united-...</td>\n",
       "      <td>&lt;img src=\"https://www.topuniversities.com/site...</td>\n",
       "      <td>297177</td>\n",
       "      <td>16</td>\n",
       "      <td>North America</td>\n",
       "      <td>90.4</td>\n",
       "      <td>5</td>\n",
       "      <td>Yale University</td>\n",
       "      <td>/universities/yale-university</td>\n",
       "    </tr>\n",
       "    <tr>\n",
       "      <th>16</th>\n",
       "      <td>US</td>\n",
       "      <td>305</td>\n",
       "      <td>United States</td>\n",
       "      <td>&lt;a href=\"/where-to-study/north-america/united-...</td>\n",
       "      <td>&lt;img src=\"https://www.topuniversities.com/site...</td>\n",
       "      <td>294184</td>\n",
       "      <td>17</td>\n",
       "      <td>North America</td>\n",
       "      <td>89.8</td>\n",
       "      <td>None</td>\n",
       "      <td>Johns Hopkins University</td>\n",
       "      <td>/universities/johns-hopkins-university</td>\n",
       "    </tr>\n",
       "    <tr>\n",
       "      <th>17</th>\n",
       "      <td>US</td>\n",
       "      <td>138</td>\n",
       "      <td>United States</td>\n",
       "      <td>&lt;a href=\"/where-to-study/north-america/united-...</td>\n",
       "      <td>&lt;img src=\"https://www.topuniversities.com/site...</td>\n",
       "      <td>294519</td>\n",
       "      <td>18</td>\n",
       "      <td>North America</td>\n",
       "      <td>88.9</td>\n",
       "      <td>5</td>\n",
       "      <td>Columbia University</td>\n",
       "      <td>/universities/columbia-university</td>\n",
       "    </tr>\n",
       "    <tr>\n",
       "      <th>18</th>\n",
       "      <td>US</td>\n",
       "      <td>495</td>\n",
       "      <td>United States</td>\n",
       "      <td>&lt;a href=\"/where-to-study/north-america/united-...</td>\n",
       "      <td>&lt;img src=\"https://www.topuniversities.com/site...</td>\n",
       "      <td>297569</td>\n",
       "      <td>19</td>\n",
       "      <td>North America</td>\n",
       "      <td>88.7</td>\n",
       "      <td>5</td>\n",
       "      <td>University of Pennsylvania</td>\n",
       "      <td>/universities/university-pennsylvania</td>\n",
       "    </tr>\n",
       "    <tr>\n",
       "      <th>19</th>\n",
       "      <td>AU</td>\n",
       "      <td>40</td>\n",
       "      <td>Australia</td>\n",
       "      <td>&lt;a href=\"/where-to-study/oceania/australia/gui...</td>\n",
       "      <td>&lt;img src=\"https://www.topuniversities.com/site...</td>\n",
       "      <td>294616</td>\n",
       "      <td>20</td>\n",
       "      <td>Oceania</td>\n",
       "      <td>87.1</td>\n",
       "      <td></td>\n",
       "      <td>The Australian National University</td>\n",
       "      <td>/universities/australian-national-university</td>\n",
       "    </tr>\n",
       "    <tr>\n",
       "      <th>20</th>\n",
       "      <td>US</td>\n",
       "      <td>403</td>\n",
       "      <td>United States</td>\n",
       "      <td>&lt;a href=\"/where-to-study/north-america/united-...</td>\n",
       "      <td>&lt;img src=\"https://www.topuniversities.com/site...</td>\n",
       "      <td>294857</td>\n",
       "      <td>=21</td>\n",
       "      <td>North America</td>\n",
       "      <td>87</td>\n",
       "      <td>5</td>\n",
       "      <td>University of Michigan</td>\n",
       "      <td>/universities/university-michigan</td>\n",
       "    </tr>\n",
       "    <tr>\n",
       "      <th>21</th>\n",
       "      <td>US</td>\n",
       "      <td>168</td>\n",
       "      <td>United States</td>\n",
       "      <td>&lt;a href=\"/where-to-study/north-america/united-...</td>\n",
       "      <td>&lt;img src=\"https://www.topuniversities.com/site...</td>\n",
       "      <td>294490</td>\n",
       "      <td>=21</td>\n",
       "      <td>North America</td>\n",
       "      <td>87</td>\n",
       "      <td>5</td>\n",
       "      <td>Duke University</td>\n",
       "      <td>/universities/duke-university</td>\n",
       "    </tr>\n",
       "    <tr>\n",
       "      <th>22</th>\n",
       "      <td>GB</td>\n",
       "      <td>180</td>\n",
       "      <td>United Kingdom</td>\n",
       "      <td>&lt;a href=\"/where-to-study/europe/united-kingdom...</td>\n",
       "      <td>&lt;img src=\"https://www.topuniversities.com/site...</td>\n",
       "      <td>294478</td>\n",
       "      <td>=23</td>\n",
       "      <td>Europe</td>\n",
       "      <td>86.9</td>\n",
       "      <td>None</td>\n",
       "      <td>The University of Edinburgh</td>\n",
       "      <td>/universities/university-edinburgh</td>\n",
       "    </tr>\n",
       "    <tr>\n",
       "      <th>23</th>\n",
       "      <td>GB</td>\n",
       "      <td>357</td>\n",
       "      <td>United Kingdom</td>\n",
       "      <td>&lt;a href=\"/where-to-study/europe/united-kingdom...</td>\n",
       "      <td>&lt;img src=\"https://www.topuniversities.com/site...</td>\n",
       "      <td>294029</td>\n",
       "      <td>=23</td>\n",
       "      <td>Europe</td>\n",
       "      <td>86.9</td>\n",
       "      <td>None</td>\n",
       "      <td>King's College London</td>\n",
       "      <td>/universities/kings-college-london</td>\n",
       "    </tr>\n",
       "    <tr>\n",
       "      <th>24</th>\n",
       "      <td>CN</td>\n",
       "      <td>626</td>\n",
       "      <td>China</td>\n",
       "      <td>&lt;a href=\"/where-to-study/asia/china/guide\" cla...</td>\n",
       "      <td>&lt;img src=\"https://www.topuniversities.com/site...</td>\n",
       "      <td>297235</td>\n",
       "      <td>25</td>\n",
       "      <td>Asia</td>\n",
       "      <td>85.6</td>\n",
       "      <td>None</td>\n",
       "      <td>Tsinghua University</td>\n",
       "      <td>/universities/tsinghua-university</td>\n",
       "    </tr>\n",
       "    <tr>\n",
       "      <th>25</th>\n",
       "      <td>HK</td>\n",
       "      <td>268</td>\n",
       "      <td>Hong Kong</td>\n",
       "      <td>&lt;a href=\"/where-to-study/asia/hong-kong/guide\"...</td>\n",
       "      <td>&lt;img src=\"https://www.topuniversities.com/site...</td>\n",
       "      <td>294256</td>\n",
       "      <td>26</td>\n",
       "      <td>Asia</td>\n",
       "      <td>85.5</td>\n",
       "      <td>None</td>\n",
       "      <td>The University of Hong Kong</td>\n",
       "      <td>/universities/university-hong-kong</td>\n",
       "    </tr>\n",
       "    <tr>\n",
       "      <th>26</th>\n",
       "      <td>US</td>\n",
       "      <td>84</td>\n",
       "      <td>United States</td>\n",
       "      <td>&lt;a href=\"/where-to-study/north-america/united-...</td>\n",
       "      <td>&lt;img src=\"https://www.topuniversities.com/site...</td>\n",
       "      <td>294572</td>\n",
       "      <td>27</td>\n",
       "      <td>North America</td>\n",
       "      <td>84.9</td>\n",
       "      <td>None</td>\n",
       "      <td>University of California, Berkeley (UCB)</td>\n",
       "      <td>/universities/university-california-berkeley-ucb</td>\n",
       "    </tr>\n",
       "    <tr>\n",
       "      <th>27</th>\n",
       "      <td>JP</td>\n",
       "      <td>615</td>\n",
       "      <td>Japan</td>\n",
       "      <td>&lt;a href=\"/where-to-study/asia/japan/guide\" cla...</td>\n",
       "      <td>&lt;img src=\"https://www.topuniversities.com/site...</td>\n",
       "      <td>297246</td>\n",
       "      <td>=28</td>\n",
       "      <td>Asia</td>\n",
       "      <td>84.8</td>\n",
       "      <td>None</td>\n",
       "      <td>The University of Tokyo</td>\n",
       "      <td>/universities/university-tokyo</td>\n",
       "    </tr>\n",
       "    <tr>\n",
       "      <th>28</th>\n",
       "      <td>US</td>\n",
       "      <td>456</td>\n",
       "      <td>United States</td>\n",
       "      <td>&lt;a href=\"/where-to-study/north-america/united-...</td>\n",
       "      <td>&lt;img src=\"https://www.topuniversities.com/site...</td>\n",
       "      <td>294767</td>\n",
       "      <td>=28</td>\n",
       "      <td>North America</td>\n",
       "      <td>84.8</td>\n",
       "      <td>None</td>\n",
       "      <td>Northwestern University</td>\n",
       "      <td>/universities/northwestern-university</td>\n",
       "    </tr>\n",
       "    <tr>\n",
       "      <th>29</th>\n",
       "      <td>HK</td>\n",
       "      <td>269</td>\n",
       "      <td>Hong Kong</td>\n",
       "      <td>&lt;a href=\"/where-to-study/asia/hong-kong/guide\"...</td>\n",
       "      <td>&lt;img src=\"https://www.topuniversities.com/site...</td>\n",
       "      <td>294255</td>\n",
       "      <td>30</td>\n",
       "      <td>Asia</td>\n",
       "      <td>84.3</td>\n",
       "      <td>None</td>\n",
       "      <td>The Hong Kong University of Science and Techno...</td>\n",
       "      <td>/universities/hong-kong-university-science-tec...</td>\n",
       "    </tr>\n",
       "    <tr>\n",
       "      <th>...</th>\n",
       "      <td>...</td>\n",
       "      <td>...</td>\n",
       "      <td>...</td>\n",
       "      <td>...</td>\n",
       "      <td>...</td>\n",
       "      <td>...</td>\n",
       "      <td>...</td>\n",
       "      <td>...</td>\n",
       "      <td>...</td>\n",
       "      <td>...</td>\n",
       "      <td>...</td>\n",
       "      <td>...</td>\n",
       "    </tr>\n",
       "    <tr>\n",
       "      <th>170</th>\n",
       "      <td>DE</td>\n",
       "      <td>216</td>\n",
       "      <td>Germany</td>\n",
       "      <td>&lt;a href=\"/where-to-study/europe/germany/guide\"...</td>\n",
       "      <td>&lt;img src=\"https://www.topuniversities.com/site...</td>\n",
       "      <td>294376</td>\n",
       "      <td>171</td>\n",
       "      <td>Europe</td>\n",
       "      <td>50.8</td>\n",
       "      <td>None</td>\n",
       "      <td>Albert-Ludwigs-Universitaet Freiburg</td>\n",
       "      <td>/universities/albert-ludwigs-universitaet-frei...</td>\n",
       "    </tr>\n",
       "    <tr>\n",
       "      <th>171</th>\n",
       "      <td>IN</td>\n",
       "      <td>282</td>\n",
       "      <td>India</td>\n",
       "      <td>&lt;a href=\"/where-to-study/asia/india/guide\" cla...</td>\n",
       "      <td>&lt;img src=\"https://www.topuniversities.com/site...</td>\n",
       "      <td>294242</td>\n",
       "      <td>172</td>\n",
       "      <td>Asia</td>\n",
       "      <td>50.7</td>\n",
       "      <td>None</td>\n",
       "      <td>Indian Institute of Technology Delhi (IITD)</td>\n",
       "      <td>/universities/indian-institute-technology-delh...</td>\n",
       "    </tr>\n",
       "    <tr>\n",
       "      <th>172</th>\n",
       "      <td>SA</td>\n",
       "      <td>779</td>\n",
       "      <td>Saudi Arabia</td>\n",
       "      <td>&lt;a href=\"/where-to-study/asia/saudi-arabia/gui...</td>\n",
       "      <td>&lt;img src=\"https://www.topuniversities.com/site...</td>\n",
       "      <td>297053</td>\n",
       "      <td>=173</td>\n",
       "      <td>Asia</td>\n",
       "      <td>50.3</td>\n",
       "      <td>5</td>\n",
       "      <td>King Fahd University of Petroleum &amp; Minerals</td>\n",
       "      <td>/universities/king-fahd-university-petroleum-m...</td>\n",
       "    </tr>\n",
       "    <tr>\n",
       "      <th>173</th>\n",
       "      <td>GB</td>\n",
       "      <td>350</td>\n",
       "      <td>United Kingdom</td>\n",
       "      <td>&lt;a href=\"/where-to-study/europe/united-kingdom...</td>\n",
       "      <td>&lt;img src=\"https://www.topuniversities.com/site...</td>\n",
       "      <td>294045</td>\n",
       "      <td>=173</td>\n",
       "      <td>Europe</td>\n",
       "      <td>50.3</td>\n",
       "      <td>5</td>\n",
       "      <td>University of Liverpool</td>\n",
       "      <td>/universities/university-liverpool</td>\n",
       "    </tr>\n",
       "    <tr>\n",
       "      <th>174</th>\n",
       "      <td>US</td>\n",
       "      <td>656</td>\n",
       "      <td>United States</td>\n",
       "      <td>&lt;a href=\"/where-to-study/north-america/united-...</td>\n",
       "      <td>&lt;img src=\"https://www.topuniversities.com/site...</td>\n",
       "      <td>297205</td>\n",
       "      <td>=173</td>\n",
       "      <td>North America</td>\n",
       "      <td>50.3</td>\n",
       "      <td>None</td>\n",
       "      <td>University of Virginia</td>\n",
       "      <td>/universities/university-virginia</td>\n",
       "    </tr>\n",
       "    <tr>\n",
       "      <th>175</th>\n",
       "      <td>AU</td>\n",
       "      <td>587</td>\n",
       "      <td>Australia</td>\n",
       "      <td>&lt;a href=\"/where-to-study/oceania/australia/gui...</td>\n",
       "      <td>&lt;img src=\"https://www.topuniversities.com/site...</td>\n",
       "      <td>297273</td>\n",
       "      <td>176</td>\n",
       "      <td>Oceania</td>\n",
       "      <td>50.1</td>\n",
       "      <td>5</td>\n",
       "      <td>University of Technology Sydney</td>\n",
       "      <td>/universities/university-technology-sydney</td>\n",
       "    </tr>\n",
       "    <tr>\n",
       "      <th>176</th>\n",
       "      <td>FR</td>\n",
       "      <td>173</td>\n",
       "      <td>France</td>\n",
       "      <td>&lt;a href=\"/where-to-study/europe/france/guide\" ...</td>\n",
       "      <td>&lt;img src=\"https://www.topuniversities.com/site...</td>\n",
       "      <td>294485</td>\n",
       "      <td>177</td>\n",
       "      <td>Europe</td>\n",
       "      <td>50</td>\n",
       "      <td>None</td>\n",
       "      <td>CentraleSupélec</td>\n",
       "      <td>/universities/centralesup%C3%A9lec</td>\n",
       "    </tr>\n",
       "    <tr>\n",
       "      <th>177</th>\n",
       "      <td>US</td>\n",
       "      <td>212</td>\n",
       "      <td>United States</td>\n",
       "      <td>&lt;a href=\"/where-to-study/north-america/united-...</td>\n",
       "      <td>&lt;img src=\"https://www.topuniversities.com/site...</td>\n",
       "      <td>294394</td>\n",
       "      <td>178</td>\n",
       "      <td>North America</td>\n",
       "      <td>49.8</td>\n",
       "      <td>None</td>\n",
       "      <td>University of Florida</td>\n",
       "      <td>/universities/university-florida</td>\n",
       "    </tr>\n",
       "    <tr>\n",
       "      <th>178</th>\n",
       "      <td>IN</td>\n",
       "      <td>281</td>\n",
       "      <td>India</td>\n",
       "      <td>&lt;a href=\"/where-to-study/asia/india/guide\" cla...</td>\n",
       "      <td>&lt;img src=\"https://www.topuniversities.com/site...</td>\n",
       "      <td>294243</td>\n",
       "      <td>=179</td>\n",
       "      <td>Asia</td>\n",
       "      <td>49.7</td>\n",
       "      <td>None</td>\n",
       "      <td>Indian Institute of Technology Bombay (IITB)</td>\n",
       "      <td>/universities/indian-institute-technology-bomb...</td>\n",
       "    </tr>\n",
       "    <tr>\n",
       "      <th>179</th>\n",
       "      <td>NL</td>\n",
       "      <td>635</td>\n",
       "      <td>Netherlands</td>\n",
       "      <td>&lt;a href=\"/where-to-study/europe/netherlands/gu...</td>\n",
       "      <td>&lt;img src=\"https://www.topuniversities.com/site...</td>\n",
       "      <td>297226</td>\n",
       "      <td>=179</td>\n",
       "      <td>Europe</td>\n",
       "      <td>49.7</td>\n",
       "      <td>5</td>\n",
       "      <td>University of Twente</td>\n",
       "      <td>/universities/university-twente</td>\n",
       "    </tr>\n",
       "    <tr>\n",
       "      <th>180</th>\n",
       "      <td>DE</td>\n",
       "      <td>234</td>\n",
       "      <td>Germany</td>\n",
       "      <td>&lt;a href=\"/where-to-study/europe/germany/guide\"...</td>\n",
       "      <td>&lt;img src=\"https://www.topuniversities.com/site...</td>\n",
       "      <td>294311</td>\n",
       "      <td>181</td>\n",
       "      <td>Europe</td>\n",
       "      <td>49.6</td>\n",
       "      <td>None</td>\n",
       "      <td>University of Göttingen</td>\n",
       "      <td>/universities/university-g%C3%B6ttingen</td>\n",
       "    </tr>\n",
       "    <tr>\n",
       "      <th>181</th>\n",
       "      <td>BE</td>\n",
       "      <td>74</td>\n",
       "      <td>Belgium</td>\n",
       "      <td>&lt;a href=\"/where-to-study/europe/belgium/guide\"...</td>\n",
       "      <td>&lt;img src=\"https://www.topuniversities.com/site...</td>\n",
       "      <td>294582</td>\n",
       "      <td>=182</td>\n",
       "      <td>Europe</td>\n",
       "      <td>49.5</td>\n",
       "      <td>None</td>\n",
       "      <td>Vrije Universiteit Brussel (VUB)</td>\n",
       "      <td>/universities/vrije-universiteit-brussel-vub</td>\n",
       "    </tr>\n",
       "    <tr>\n",
       "      <th>182</th>\n",
       "      <td>BR</td>\n",
       "      <td>96</td>\n",
       "      <td>Brazil</td>\n",
       "      <td>&lt;a href=\"/where-to-study/latin-america/brazil/...</td>\n",
       "      <td>&lt;img src=\"https://www.topuniversities.com/site...</td>\n",
       "      <td>294560</td>\n",
       "      <td>=182</td>\n",
       "      <td>Latin America</td>\n",
       "      <td>49.5</td>\n",
       "      <td>None</td>\n",
       "      <td>Universidade Estadual de Campinas (Unicamp)</td>\n",
       "      <td>/universities/universidade-estadual-de-campina...</td>\n",
       "    </tr>\n",
       "    <tr>\n",
       "      <th>183</th>\n",
       "      <td>US</td>\n",
       "      <td>137</td>\n",
       "      <td>United States</td>\n",
       "      <td>&lt;a href=\"/where-to-study/north-america/united-...</td>\n",
       "      <td>&lt;img src=\"https://www.topuniversities.com/site...</td>\n",
       "      <td>294520</td>\n",
       "      <td>=182</td>\n",
       "      <td>North America</td>\n",
       "      <td>49.5</td>\n",
       "      <td>None</td>\n",
       "      <td>University of Colorado Boulder</td>\n",
       "      <td>/universities/university-colorado-boulder</td>\n",
       "    </tr>\n",
       "    <tr>\n",
       "      <th>184</th>\n",
       "      <td>AT</td>\n",
       "      <td>653</td>\n",
       "      <td>Austria</td>\n",
       "      <td>&lt;a href=\"/where-to-study/europe/austria/guide\"...</td>\n",
       "      <td>&lt;img src=\"https://www.topuniversities.com/site...</td>\n",
       "      <td>297208</td>\n",
       "      <td>=182</td>\n",
       "      <td>Europe</td>\n",
       "      <td>49.5</td>\n",
       "      <td>None</td>\n",
       "      <td>Vienna University of Technology</td>\n",
       "      <td>/universities/vienna-university-technology</td>\n",
       "    </tr>\n",
       "    <tr>\n",
       "      <th>185</th>\n",
       "      <td>US</td>\n",
       "      <td>530</td>\n",
       "      <td>United States</td>\n",
       "      <td>&lt;a href=\"/where-to-study/north-america/united-...</td>\n",
       "      <td>&lt;img src=\"https://www.topuniversities.com/site...</td>\n",
       "      <td>297494</td>\n",
       "      <td>186</td>\n",
       "      <td>North America</td>\n",
       "      <td>49.3</td>\n",
       "      <td>None</td>\n",
       "      <td>University of Rochester</td>\n",
       "      <td>/universities/university-rochester</td>\n",
       "    </tr>\n",
       "    <tr>\n",
       "      <th>186</th>\n",
       "      <td>ES</td>\n",
       "      <td>379</td>\n",
       "      <td>Spain</td>\n",
       "      <td>&lt;a href=\"/where-to-study/europe/spain/guide\" c...</td>\n",
       "      <td>&lt;img src=\"https://www.topuniversities.com/site...</td>\n",
       "      <td>293977</td>\n",
       "      <td>187</td>\n",
       "      <td>Europe</td>\n",
       "      <td>49.2</td>\n",
       "      <td>None</td>\n",
       "      <td>Universidad Autónoma de Madrid</td>\n",
       "      <td>/universities/universidad-aut%C3%B3noma-de-madrid</td>\n",
       "    </tr>\n",
       "    <tr>\n",
       "      <th>187</th>\n",
       "      <td>IT</td>\n",
       "      <td>61</td>\n",
       "      <td>Italy</td>\n",
       "      <td>&lt;a href=\"/where-to-study/europe/italy/guide\" c...</td>\n",
       "      <td>&lt;img src=\"https://www.topuniversities.com/site...</td>\n",
       "      <td>294595</td>\n",
       "      <td>=188</td>\n",
       "      <td>Europe</td>\n",
       "      <td>49.1</td>\n",
       "      <td>None</td>\n",
       "      <td>Alma Mater Studiorum - University of Bologna</td>\n",
       "      <td>/universities/alma-mater-studiorum-university-...</td>\n",
       "    </tr>\n",
       "    <tr>\n",
       "      <th>188</th>\n",
       "      <td>GB</td>\n",
       "      <td>517</td>\n",
       "      <td>United Kingdom</td>\n",
       "      <td>&lt;a href=\"/where-to-study/europe/united-kingdom...</td>\n",
       "      <td>&lt;img src=\"https://www.topuniversities.com/site...</td>\n",
       "      <td>297458</td>\n",
       "      <td>=188</td>\n",
       "      <td>Europe</td>\n",
       "      <td>49.1</td>\n",
       "      <td>None</td>\n",
       "      <td>University of Reading</td>\n",
       "      <td>/universities/university-reading</td>\n",
       "    </tr>\n",
       "    <tr>\n",
       "      <th>189</th>\n",
       "      <td>IN</td>\n",
       "      <td>22878</td>\n",
       "      <td>India</td>\n",
       "      <td>&lt;a href=\"/where-to-study/asia/india/guide\" cla...</td>\n",
       "      <td>&lt;img src=\"https://www.topuniversities.com/site...</td>\n",
       "      <td>295536</td>\n",
       "      <td>190</td>\n",
       "      <td>Asia</td>\n",
       "      <td>49</td>\n",
       "      <td>None</td>\n",
       "      <td>Indian Institute of Science (IISc) Bangalore</td>\n",
       "      <td>/universities/indian-institute-science-iisc-ba...</td>\n",
       "    </tr>\n",
       "    <tr>\n",
       "      <th>190</th>\n",
       "      <td>ZA</td>\n",
       "      <td>98</td>\n",
       "      <td>South Africa</td>\n",
       "      <td>&lt;a href=\"/where-to-study/africa/south-africa/g...</td>\n",
       "      <td>&lt;img src=\"https://www.topuniversities.com/site...</td>\n",
       "      <td>294558</td>\n",
       "      <td>191</td>\n",
       "      <td>Africa</td>\n",
       "      <td>48.9</td>\n",
       "      <td>None</td>\n",
       "      <td>University of Cape Town</td>\n",
       "      <td>/universities/university-cape-town</td>\n",
       "    </tr>\n",
       "    <tr>\n",
       "      <th>191</th>\n",
       "      <td>IT</td>\n",
       "      <td>25824</td>\n",
       "      <td>Italy</td>\n",
       "      <td>&lt;a href=\"/where-to-study/europe/italy/guide\" c...</td>\n",
       "      <td>&lt;img src=\"https://www.topuniversities.com/site...</td>\n",
       "      <td>295576</td>\n",
       "      <td>=192</td>\n",
       "      <td>Europe</td>\n",
       "      <td>48.5</td>\n",
       "      <td>None</td>\n",
       "      <td>Scuola Normale Superiore di Pisa</td>\n",
       "      <td>/universities/scuola-normale-superiore-di-pisa</td>\n",
       "    </tr>\n",
       "    <tr>\n",
       "      <th>192</th>\n",
       "      <td>IT</td>\n",
       "      <td>751</td>\n",
       "      <td>Italy</td>\n",
       "      <td>&lt;a href=\"/where-to-study/europe/italy/guide\" c...</td>\n",
       "      <td>&lt;img src=\"https://www.topuniversities.com/site...</td>\n",
       "      <td>297078</td>\n",
       "      <td>=192</td>\n",
       "      <td>Europe</td>\n",
       "      <td>48.5</td>\n",
       "      <td>None</td>\n",
       "      <td>Scuola Superiore Sant'Anna Pisa di Studi Unive...</td>\n",
       "      <td>/universities/scuola-superiore-santanna-pisa-d...</td>\n",
       "    </tr>\n",
       "    <tr>\n",
       "      <th>193</th>\n",
       "      <td>JP</td>\n",
       "      <td>314</td>\n",
       "      <td>Japan</td>\n",
       "      <td>&lt;a href=\"/where-to-study/asia/japan/guide\" cla...</td>\n",
       "      <td>&lt;img src=\"https://www.topuniversities.com/site...</td>\n",
       "      <td>294156</td>\n",
       "      <td>=192</td>\n",
       "      <td>Asia</td>\n",
       "      <td>48.5</td>\n",
       "      <td>None</td>\n",
       "      <td>Keio University CEMS MIM</td>\n",
       "      <td>/universities/keio-university-cems-mim</td>\n",
       "    </tr>\n",
       "    <tr>\n",
       "      <th>194</th>\n",
       "      <td>SE</td>\n",
       "      <td>577</td>\n",
       "      <td>Sweden</td>\n",
       "      <td>&lt;a href=\"/where-to-study/europe/sweden/guide\" ...</td>\n",
       "      <td>&lt;img src=\"https://www.topuniversities.com/site...</td>\n",
       "      <td>297278</td>\n",
       "      <td>=195</td>\n",
       "      <td>Europe</td>\n",
       "      <td>48.1</td>\n",
       "      <td>None</td>\n",
       "      <td>Stockholm University</td>\n",
       "      <td>/universities/stockholm-university</td>\n",
       "    </tr>\n",
       "    <tr>\n",
       "      <th>195</th>\n",
       "      <td>ES</td>\n",
       "      <td>44</td>\n",
       "      <td>Spain</td>\n",
       "      <td>&lt;a href=\"/where-to-study/europe/spain/guide\" c...</td>\n",
       "      <td>&lt;img src=\"https://www.topuniversities.com/site...</td>\n",
       "      <td>294612</td>\n",
       "      <td>=195</td>\n",
       "      <td>Europe</td>\n",
       "      <td>48.1</td>\n",
       "      <td>None</td>\n",
       "      <td>Universitat Autònoma de Barcelona</td>\n",
       "      <td>/universities/universitat-aut%C3%B2noma-de-bar...</td>\n",
       "    </tr>\n",
       "    <tr>\n",
       "      <th>196</th>\n",
       "      <td>US</td>\n",
       "      <td>605</td>\n",
       "      <td>United States</td>\n",
       "      <td>&lt;a href=\"/where-to-study/north-america/united-...</td>\n",
       "      <td>&lt;img src=\"https://www.topuniversities.com/site...</td>\n",
       "      <td>297256</td>\n",
       "      <td>=195</td>\n",
       "      <td>North America</td>\n",
       "      <td>48.1</td>\n",
       "      <td>None</td>\n",
       "      <td>Texas A&amp;M University</td>\n",
       "      <td>/universities/texas-am-university</td>\n",
       "    </tr>\n",
       "    <tr>\n",
       "      <th>197</th>\n",
       "      <td>MX</td>\n",
       "      <td>594</td>\n",
       "      <td>Mexico</td>\n",
       "      <td>&lt;a href=\"/where-to-study/latin-america/mexico/...</td>\n",
       "      <td>&lt;img src=\"https://www.topuniversities.com/site...</td>\n",
       "      <td>297267</td>\n",
       "      <td>199</td>\n",
       "      <td>Latin America</td>\n",
       "      <td>48</td>\n",
       "      <td>5</td>\n",
       "      <td>Instituto Tecnológico y de Estudios Superiores...</td>\n",
       "      <td>/universities/instituto-tecnol%C3%B3gico-y-de-...</td>\n",
       "    </tr>\n",
       "    <tr>\n",
       "      <th>198</th>\n",
       "      <td>NL</td>\n",
       "      <td>377</td>\n",
       "      <td>Netherlands</td>\n",
       "      <td>&lt;a href=\"/where-to-study/europe/netherlands/gu...</td>\n",
       "      <td>&lt;img src=\"https://www.topuniversities.com/site...</td>\n",
       "      <td>293985</td>\n",
       "      <td>200</td>\n",
       "      <td>Europe</td>\n",
       "      <td>47.9</td>\n",
       "      <td>None</td>\n",
       "      <td>Maastricht University</td>\n",
       "      <td>/universities/maastricht-university</td>\n",
       "    </tr>\n",
       "    <tr>\n",
       "      <th>199</th>\n",
       "      <td>CL</td>\n",
       "      <td>121</td>\n",
       "      <td>Chile</td>\n",
       "      <td>&lt;a href=\"/where-to-study/latin-america/chile/g...</td>\n",
       "      <td>&lt;img src=\"https://www.topuniversities.com/site...</td>\n",
       "      <td>294535</td>\n",
       "      <td>201</td>\n",
       "      <td>Latin America</td>\n",
       "      <td>47.8</td>\n",
       "      <td>None</td>\n",
       "      <td>Universidad de Chile</td>\n",
       "      <td>/universities/universidad-de-chile</td>\n",
       "    </tr>\n",
       "  </tbody>\n",
       "</table>\n",
       "<p>200 rows × 12 columns</p>\n",
       "</div>"
      ],
      "text/plain": [
       "     cc core_id         country  \\\n",
       "0    US     410   United States   \n",
       "1    US     573   United States   \n",
       "2    US     253   United States   \n",
       "3    US      94   United States   \n",
       "4    GB      95  United Kingdom   \n",
       "5    GB     478  United Kingdom   \n",
       "6    GB     365  United Kingdom   \n",
       "7    GB     356  United Kingdom   \n",
       "8    US     120   United States   \n",
       "9    CH     201     Switzerland   \n",
       "10   SG     431       Singapore   \n",
       "11   CH     177     Switzerland   \n",
       "12   US     508   United States   \n",
       "13   US     143   United States   \n",
       "14   SG     443       Singapore   \n",
       "15   US     684   United States   \n",
       "16   US     305   United States   \n",
       "17   US     138   United States   \n",
       "18   US     495   United States   \n",
       "19   AU      40       Australia   \n",
       "20   US     403   United States   \n",
       "21   US     168   United States   \n",
       "22   GB     180  United Kingdom   \n",
       "23   GB     357  United Kingdom   \n",
       "24   CN     626           China   \n",
       "25   HK     268       Hong Kong   \n",
       "26   US      84   United States   \n",
       "27   JP     615           Japan   \n",
       "28   US     456   United States   \n",
       "29   HK     269       Hong Kong   \n",
       "..   ..     ...             ...   \n",
       "170  DE     216         Germany   \n",
       "171  IN     282           India   \n",
       "172  SA     779    Saudi Arabia   \n",
       "173  GB     350  United Kingdom   \n",
       "174  US     656   United States   \n",
       "175  AU     587       Australia   \n",
       "176  FR     173          France   \n",
       "177  US     212   United States   \n",
       "178  IN     281           India   \n",
       "179  NL     635     Netherlands   \n",
       "180  DE     234         Germany   \n",
       "181  BE      74         Belgium   \n",
       "182  BR      96          Brazil   \n",
       "183  US     137   United States   \n",
       "184  AT     653         Austria   \n",
       "185  US     530   United States   \n",
       "186  ES     379           Spain   \n",
       "187  IT      61           Italy   \n",
       "188  GB     517  United Kingdom   \n",
       "189  IN   22878           India   \n",
       "190  ZA      98    South Africa   \n",
       "191  IT   25824           Italy   \n",
       "192  IT     751           Italy   \n",
       "193  JP     314           Japan   \n",
       "194  SE     577          Sweden   \n",
       "195  ES      44           Spain   \n",
       "196  US     605   United States   \n",
       "197  MX     594          Mexico   \n",
       "198  NL     377     Netherlands   \n",
       "199  CL     121           Chile   \n",
       "\n",
       "                                                 guide  \\\n",
       "0    <a href=\"/where-to-study/north-america/united-...   \n",
       "1    <a href=\"/where-to-study/north-america/united-...   \n",
       "2    <a href=\"/where-to-study/north-america/united-...   \n",
       "3    <a href=\"/where-to-study/north-america/united-...   \n",
       "4    <a href=\"/where-to-study/europe/united-kingdom...   \n",
       "5    <a href=\"/where-to-study/europe/united-kingdom...   \n",
       "6    <a href=\"/where-to-study/europe/united-kingdom...   \n",
       "7    <a href=\"/where-to-study/europe/united-kingdom...   \n",
       "8    <a href=\"/where-to-study/north-america/united-...   \n",
       "9    <a href=\"/where-to-study/europe/switzerland/gu...   \n",
       "10                                                       \n",
       "11   <a href=\"/where-to-study/europe/switzerland/gu...   \n",
       "12   <a href=\"/where-to-study/north-america/united-...   \n",
       "13   <a href=\"/where-to-study/north-america/united-...   \n",
       "14                                                       \n",
       "15   <a href=\"/where-to-study/north-america/united-...   \n",
       "16   <a href=\"/where-to-study/north-america/united-...   \n",
       "17   <a href=\"/where-to-study/north-america/united-...   \n",
       "18   <a href=\"/where-to-study/north-america/united-...   \n",
       "19   <a href=\"/where-to-study/oceania/australia/gui...   \n",
       "20   <a href=\"/where-to-study/north-america/united-...   \n",
       "21   <a href=\"/where-to-study/north-america/united-...   \n",
       "22   <a href=\"/where-to-study/europe/united-kingdom...   \n",
       "23   <a href=\"/where-to-study/europe/united-kingdom...   \n",
       "24   <a href=\"/where-to-study/asia/china/guide\" cla...   \n",
       "25   <a href=\"/where-to-study/asia/hong-kong/guide\"...   \n",
       "26   <a href=\"/where-to-study/north-america/united-...   \n",
       "27   <a href=\"/where-to-study/asia/japan/guide\" cla...   \n",
       "28   <a href=\"/where-to-study/north-america/united-...   \n",
       "29   <a href=\"/where-to-study/asia/hong-kong/guide\"...   \n",
       "..                                                 ...   \n",
       "170  <a href=\"/where-to-study/europe/germany/guide\"...   \n",
       "171  <a href=\"/where-to-study/asia/india/guide\" cla...   \n",
       "172  <a href=\"/where-to-study/asia/saudi-arabia/gui...   \n",
       "173  <a href=\"/where-to-study/europe/united-kingdom...   \n",
       "174  <a href=\"/where-to-study/north-america/united-...   \n",
       "175  <a href=\"/where-to-study/oceania/australia/gui...   \n",
       "176  <a href=\"/where-to-study/europe/france/guide\" ...   \n",
       "177  <a href=\"/where-to-study/north-america/united-...   \n",
       "178  <a href=\"/where-to-study/asia/india/guide\" cla...   \n",
       "179  <a href=\"/where-to-study/europe/netherlands/gu...   \n",
       "180  <a href=\"/where-to-study/europe/germany/guide\"...   \n",
       "181  <a href=\"/where-to-study/europe/belgium/guide\"...   \n",
       "182  <a href=\"/where-to-study/latin-america/brazil/...   \n",
       "183  <a href=\"/where-to-study/north-america/united-...   \n",
       "184  <a href=\"/where-to-study/europe/austria/guide\"...   \n",
       "185  <a href=\"/where-to-study/north-america/united-...   \n",
       "186  <a href=\"/where-to-study/europe/spain/guide\" c...   \n",
       "187  <a href=\"/where-to-study/europe/italy/guide\" c...   \n",
       "188  <a href=\"/where-to-study/europe/united-kingdom...   \n",
       "189  <a href=\"/where-to-study/asia/india/guide\" cla...   \n",
       "190  <a href=\"/where-to-study/africa/south-africa/g...   \n",
       "191  <a href=\"/where-to-study/europe/italy/guide\" c...   \n",
       "192  <a href=\"/where-to-study/europe/italy/guide\" c...   \n",
       "193  <a href=\"/where-to-study/asia/japan/guide\" cla...   \n",
       "194  <a href=\"/where-to-study/europe/sweden/guide\" ...   \n",
       "195  <a href=\"/where-to-study/europe/spain/guide\" c...   \n",
       "196  <a href=\"/where-to-study/north-america/united-...   \n",
       "197  <a href=\"/where-to-study/latin-america/mexico/...   \n",
       "198  <a href=\"/where-to-study/europe/netherlands/gu...   \n",
       "199  <a href=\"/where-to-study/latin-america/chile/g...   \n",
       "\n",
       "                                                  logo     nid rank_display  \\\n",
       "0    <img src=\"https://www.topuniversities.com/site...  294850            1   \n",
       "1    <img src=\"https://www.topuniversities.com/site...  297282            2   \n",
       "2    <img src=\"https://www.topuniversities.com/site...  294270            3   \n",
       "3    <img src=\"https://www.topuniversities.com/site...  294562            4   \n",
       "4    <img src=\"https://www.topuniversities.com/site...  294561            5   \n",
       "5    <img src=\"https://www.topuniversities.com/site...  294654            6   \n",
       "6    <img src=\"https://www.topuniversities.com/site...  294014            7   \n",
       "7    <img src=\"https://www.topuniversities.com/site...  294030            8   \n",
       "8    <img src=\"https://www.topuniversities.com/site...  294536            9   \n",
       "9    <img src=\"https://www.topuniversities.com/site...  294432           10   \n",
       "10   <img src=\"https://www.topuniversities.com/site...  294821           11   \n",
       "11   <img src=\"https://www.topuniversities.com/site...  294481           12   \n",
       "12   <img src=\"https://www.topuniversities.com/site...  297490           13   \n",
       "13   <img src=\"https://www.topuniversities.com/site...  294514           14   \n",
       "14   <img src=\"https://www.topuniversities.com/site...  294798           15   \n",
       "15   <img src=\"https://www.topuniversities.com/site...  297177           16   \n",
       "16   <img src=\"https://www.topuniversities.com/site...  294184           17   \n",
       "17   <img src=\"https://www.topuniversities.com/site...  294519           18   \n",
       "18   <img src=\"https://www.topuniversities.com/site...  297569           19   \n",
       "19   <img src=\"https://www.topuniversities.com/site...  294616           20   \n",
       "20   <img src=\"https://www.topuniversities.com/site...  294857          =21   \n",
       "21   <img src=\"https://www.topuniversities.com/site...  294490          =21   \n",
       "22   <img src=\"https://www.topuniversities.com/site...  294478          =23   \n",
       "23   <img src=\"https://www.topuniversities.com/site...  294029          =23   \n",
       "24   <img src=\"https://www.topuniversities.com/site...  297235           25   \n",
       "25   <img src=\"https://www.topuniversities.com/site...  294256           26   \n",
       "26   <img src=\"https://www.topuniversities.com/site...  294572           27   \n",
       "27   <img src=\"https://www.topuniversities.com/site...  297246          =28   \n",
       "28   <img src=\"https://www.topuniversities.com/site...  294767          =28   \n",
       "29   <img src=\"https://www.topuniversities.com/site...  294255           30   \n",
       "..                                                 ...     ...          ...   \n",
       "170  <img src=\"https://www.topuniversities.com/site...  294376          171   \n",
       "171  <img src=\"https://www.topuniversities.com/site...  294242          172   \n",
       "172  <img src=\"https://www.topuniversities.com/site...  297053         =173   \n",
       "173  <img src=\"https://www.topuniversities.com/site...  294045         =173   \n",
       "174  <img src=\"https://www.topuniversities.com/site...  297205         =173   \n",
       "175  <img src=\"https://www.topuniversities.com/site...  297273          176   \n",
       "176  <img src=\"https://www.topuniversities.com/site...  294485          177   \n",
       "177  <img src=\"https://www.topuniversities.com/site...  294394          178   \n",
       "178  <img src=\"https://www.topuniversities.com/site...  294243         =179   \n",
       "179  <img src=\"https://www.topuniversities.com/site...  297226         =179   \n",
       "180  <img src=\"https://www.topuniversities.com/site...  294311          181   \n",
       "181  <img src=\"https://www.topuniversities.com/site...  294582         =182   \n",
       "182  <img src=\"https://www.topuniversities.com/site...  294560         =182   \n",
       "183  <img src=\"https://www.topuniversities.com/site...  294520         =182   \n",
       "184  <img src=\"https://www.topuniversities.com/site...  297208         =182   \n",
       "185  <img src=\"https://www.topuniversities.com/site...  297494          186   \n",
       "186  <img src=\"https://www.topuniversities.com/site...  293977          187   \n",
       "187  <img src=\"https://www.topuniversities.com/site...  294595         =188   \n",
       "188  <img src=\"https://www.topuniversities.com/site...  297458         =188   \n",
       "189  <img src=\"https://www.topuniversities.com/site...  295536          190   \n",
       "190  <img src=\"https://www.topuniversities.com/site...  294558          191   \n",
       "191  <img src=\"https://www.topuniversities.com/site...  295576         =192   \n",
       "192  <img src=\"https://www.topuniversities.com/site...  297078         =192   \n",
       "193  <img src=\"https://www.topuniversities.com/site...  294156         =192   \n",
       "194  <img src=\"https://www.topuniversities.com/site...  297278         =195   \n",
       "195  <img src=\"https://www.topuniversities.com/site...  294612         =195   \n",
       "196  <img src=\"https://www.topuniversities.com/site...  297256         =195   \n",
       "197  <img src=\"https://www.topuniversities.com/site...  297267          199   \n",
       "198  <img src=\"https://www.topuniversities.com/site...  293985          200   \n",
       "199  <img src=\"https://www.topuniversities.com/site...  294535          201   \n",
       "\n",
       "            region score stars  \\\n",
       "0    North America   100     6   \n",
       "1    North America  98.7     5   \n",
       "2    North America  98.4     5   \n",
       "3    North America  97.7     5   \n",
       "4           Europe  95.6     5   \n",
       "5           Europe  95.3     5   \n",
       "6           Europe  94.6  None   \n",
       "7           Europe  93.7  None   \n",
       "8    North America  93.5     5   \n",
       "9           Europe  93.3  None   \n",
       "10            Asia  92.2     6   \n",
       "11          Europe  91.2  None   \n",
       "12   North America    91     5   \n",
       "13   North America  90.7     5   \n",
       "14            Asia  90.5  None   \n",
       "15   North America  90.4     5   \n",
       "16   North America  89.8  None   \n",
       "17   North America  88.9     5   \n",
       "18   North America  88.7     5   \n",
       "19         Oceania  87.1         \n",
       "20   North America    87     5   \n",
       "21   North America    87     5   \n",
       "22          Europe  86.9  None   \n",
       "23          Europe  86.9  None   \n",
       "24            Asia  85.6  None   \n",
       "25            Asia  85.5  None   \n",
       "26   North America  84.9  None   \n",
       "27            Asia  84.8  None   \n",
       "28   North America  84.8  None   \n",
       "29            Asia  84.3  None   \n",
       "..             ...   ...   ...   \n",
       "170         Europe  50.8  None   \n",
       "171           Asia  50.7  None   \n",
       "172           Asia  50.3     5   \n",
       "173         Europe  50.3     5   \n",
       "174  North America  50.3  None   \n",
       "175        Oceania  50.1     5   \n",
       "176         Europe    50  None   \n",
       "177  North America  49.8  None   \n",
       "178           Asia  49.7  None   \n",
       "179         Europe  49.7     5   \n",
       "180         Europe  49.6  None   \n",
       "181         Europe  49.5  None   \n",
       "182  Latin America  49.5  None   \n",
       "183  North America  49.5  None   \n",
       "184         Europe  49.5  None   \n",
       "185  North America  49.3  None   \n",
       "186         Europe  49.2  None   \n",
       "187         Europe  49.1  None   \n",
       "188         Europe  49.1  None   \n",
       "189           Asia    49  None   \n",
       "190         Africa  48.9  None   \n",
       "191         Europe  48.5  None   \n",
       "192         Europe  48.5  None   \n",
       "193           Asia  48.5  None   \n",
       "194         Europe  48.1  None   \n",
       "195         Europe  48.1  None   \n",
       "196  North America  48.1  None   \n",
       "197  Latin America    48     5   \n",
       "198         Europe  47.9  None   \n",
       "199  Latin America  47.8  None   \n",
       "\n",
       "                                                 title  \\\n",
       "0          Massachusetts Institute of Technology (MIT)   \n",
       "1                                  Stanford University   \n",
       "2                                   Harvard University   \n",
       "3         California Institute of Technology (Caltech)   \n",
       "4                              University of Cambridge   \n",
       "5                                 University of Oxford   \n",
       "6                      UCL (University College London)   \n",
       "7                              Imperial College London   \n",
       "8                                University of Chicago   \n",
       "9    ETH Zurich - Swiss Federal Institute of Techno...   \n",
       "10   Nanyang Technological University, Singapore (NTU)   \n",
       "11     Ecole Polytechnique Fédérale de Lausanne (EPFL)   \n",
       "12                                Princeton University   \n",
       "13                                  Cornell University   \n",
       "14              National University of Singapore (NUS)   \n",
       "15                                     Yale University   \n",
       "16                            Johns Hopkins University   \n",
       "17                                 Columbia University   \n",
       "18                          University of Pennsylvania   \n",
       "19                  The Australian National University   \n",
       "20                              University of Michigan   \n",
       "21                                     Duke University   \n",
       "22                         The University of Edinburgh   \n",
       "23                               King's College London   \n",
       "24                                 Tsinghua University   \n",
       "25                         The University of Hong Kong   \n",
       "26            University of California, Berkeley (UCB)   \n",
       "27                             The University of Tokyo   \n",
       "28                             Northwestern University   \n",
       "29   The Hong Kong University of Science and Techno...   \n",
       "..                                                 ...   \n",
       "170               Albert-Ludwigs-Universitaet Freiburg   \n",
       "171        Indian Institute of Technology Delhi (IITD)   \n",
       "172       King Fahd University of Petroleum & Minerals   \n",
       "173                            University of Liverpool   \n",
       "174                             University of Virginia   \n",
       "175                    University of Technology Sydney   \n",
       "176                                    CentraleSupélec   \n",
       "177                              University of Florida   \n",
       "178       Indian Institute of Technology Bombay (IITB)   \n",
       "179                               University of Twente   \n",
       "180                            University of Göttingen   \n",
       "181                   Vrije Universiteit Brussel (VUB)   \n",
       "182        Universidade Estadual de Campinas (Unicamp)   \n",
       "183                     University of Colorado Boulder   \n",
       "184                    Vienna University of Technology   \n",
       "185                            University of Rochester   \n",
       "186                     Universidad Autónoma de Madrid   \n",
       "187       Alma Mater Studiorum - University of Bologna   \n",
       "188                              University of Reading   \n",
       "189       Indian Institute of Science (IISc) Bangalore   \n",
       "190                            University of Cape Town   \n",
       "191                   Scuola Normale Superiore di Pisa   \n",
       "192  Scuola Superiore Sant'Anna Pisa di Studi Unive...   \n",
       "193                           Keio University CEMS MIM   \n",
       "194                               Stockholm University   \n",
       "195                  Universitat Autònoma de Barcelona   \n",
       "196                               Texas A&M University   \n",
       "197  Instituto Tecnológico y de Estudios Superiores...   \n",
       "198                              Maastricht University   \n",
       "199                               Universidad de Chile   \n",
       "\n",
       "                                                   url  \n",
       "0    /universities/massachusetts-institute-technolo...  \n",
       "1                    /universities/stanford-university  \n",
       "2                     /universities/harvard-university  \n",
       "3    /universities/california-institute-technology-...  \n",
       "4                   /universities/university-cambridge  \n",
       "5                      /universities/university-oxford  \n",
       "6          /universities/ucl-university-college-london  \n",
       "7                /universities/imperial-college-london  \n",
       "8                     /universities/university-chicago  \n",
       "9    /universities/eth-zurich-swiss-federal-institu...  \n",
       "10   /universities/nanyang-technological-university...  \n",
       "11   /universities/ecole-polytechnique-f%C3%A9d%C3%...  \n",
       "12                  /universities/princeton-university  \n",
       "13                    /universities/cornell-university  \n",
       "14     /universities/national-university-singapore-nus  \n",
       "15                       /universities/yale-university  \n",
       "16              /universities/johns-hopkins-university  \n",
       "17                   /universities/columbia-university  \n",
       "18               /universities/university-pennsylvania  \n",
       "19        /universities/australian-national-university  \n",
       "20                   /universities/university-michigan  \n",
       "21                       /universities/duke-university  \n",
       "22                  /universities/university-edinburgh  \n",
       "23                  /universities/kings-college-london  \n",
       "24                   /universities/tsinghua-university  \n",
       "25                  /universities/university-hong-kong  \n",
       "26    /universities/university-california-berkeley-ucb  \n",
       "27                      /universities/university-tokyo  \n",
       "28               /universities/northwestern-university  \n",
       "29   /universities/hong-kong-university-science-tec...  \n",
       "..                                                 ...  \n",
       "170  /universities/albert-ludwigs-universitaet-frei...  \n",
       "171  /universities/indian-institute-technology-delh...  \n",
       "172  /universities/king-fahd-university-petroleum-m...  \n",
       "173                 /universities/university-liverpool  \n",
       "174                  /universities/university-virginia  \n",
       "175         /universities/university-technology-sydney  \n",
       "176                 /universities/centralesup%C3%A9lec  \n",
       "177                   /universities/university-florida  \n",
       "178  /universities/indian-institute-technology-bomb...  \n",
       "179                    /universities/university-twente  \n",
       "180            /universities/university-g%C3%B6ttingen  \n",
       "181       /universities/vrije-universiteit-brussel-vub  \n",
       "182  /universities/universidade-estadual-de-campina...  \n",
       "183          /universities/university-colorado-boulder  \n",
       "184         /universities/vienna-university-technology  \n",
       "185                 /universities/university-rochester  \n",
       "186  /universities/universidad-aut%C3%B3noma-de-madrid  \n",
       "187  /universities/alma-mater-studiorum-university-...  \n",
       "188                   /universities/university-reading  \n",
       "189  /universities/indian-institute-science-iisc-ba...  \n",
       "190                 /universities/university-cape-town  \n",
       "191     /universities/scuola-normale-superiore-di-pisa  \n",
       "192  /universities/scuola-superiore-santanna-pisa-d...  \n",
       "193             /universities/keio-university-cems-mim  \n",
       "194                 /universities/stockholm-university  \n",
       "195  /universities/universitat-aut%C3%B2noma-de-bar...  \n",
       "196                  /universities/texas-am-university  \n",
       "197  /universities/instituto-tecnol%C3%B3gico-y-de-...  \n",
       "198                /universities/maastricht-university  \n",
       "199                 /universities/universidad-de-chile  \n",
       "\n",
       "[200 rows x 12 columns]"
      ]
     },
     "execution_count": 3,
     "metadata": {},
     "output_type": "execute_result"
    }
   ],
   "source": [
    "result"
   ]
  },
  {
   "cell_type": "markdown",
   "metadata": {},
   "source": [
    "## Renaming the columns\n",
    "In a subsequent task we have to merge this dataframe with another one coming from a different website. So we add the postfix *TU* (for Top Universities) to all column names:"
   ]
  },
  {
   "cell_type": "code",
   "execution_count": null,
   "metadata": {},
   "outputs": [],
   "source": [
    "new_columns =['CC TU','Core_id TU','Country TU','Guide TU','Logo TU','Nid TU','Rank TU','Region TU','Score TU',\n",
    "             'Stars TU','Title TU','url TU']\n",
    "result.columns = new_columns"
   ]
  },
  {
   "cell_type": "markdown",
   "metadata": {},
   "source": [
    "## Scrape details from the details page of each University\n",
    "In the original JSON object that we saved in our dataframe there is a column called _url_ that specifies the relative path to every University webpage, where we can find the needed details.\n",
    "\n",
    "Steps to get the details for each University:\n",
    "1. Request the webpage and parse it with BeautifulSoup.\n",
    "2. Find the HTML elements that contain the details we need to scrape.\n",
    "3. It's possible that some Universities don't contain values.\n",
    "    4. Our approach is to catch possible exceptions and print where we register the error (and link to the website).\n",
    "4. We add the new values to the main dataframe"
   ]
  },
  {
   "cell_type": "code",
   "execution_count": null,
   "metadata": {
    "scrolled": true
   },
   "outputs": [
    {
     "name": "stdout",
     "output_type": "stream",
     "text": [
      "New York University (NYU) has no values for TOTAL_STAFF\n",
      "Check at: https://www.topuniversities.com/universities/new-york-university-nyu\n",
      "New York University (NYU) has no values for TOTAL_STUDENTS\n",
      "Check at: https://www.topuniversities.com/universities/new-york-university-nyu\n",
      "New York University (NYU) has no values for INTERNATIONAL_STAFF\n",
      "Check at: https://www.topuniversities.com/universities/new-york-university-nyu\n",
      "New York University (NYU) has no values for INTERNATIONAL_STUDENTS\n",
      "Check at: https://www.topuniversities.com/universities/new-york-university-nyu\n",
      "Indian Institute of Science (IISc) Bangalore has no values for INTERNATIONAL_STAFF\n",
      "Check at: https://www.topuniversities.com/universities/indian-institute-science-iisc-bangalore\n"
     ]
    }
   ],
   "source": [
    "for index, row in result.iterrows():\n",
    "        r_ = requests.get(default_path + result.iloc[index]['url TU'])\n",
    "        soup = BeautifulSoup(r_.text, 'html.parser')\n",
    "        university = result.iloc[index]['Title TU']\n",
    "        try:\n",
    "            total_faculty = soup.find('div', class_='total faculty')\n",
    "            result.loc[index, 'Staff total number TU'] = int(total_faculty.find('div', class_='number').text.split()[0].replace(',', ''))\n",
    "        except:\n",
    "            print(university + ' has no values for TOTAL_STAFF') \n",
    "            print(\"Check at: \" + default_path + result.iloc[index]['url TU'])\n",
    "        try:\n",
    "            total_student = soup.find('div', class_='total student')\n",
    "            result.loc[index, 'Students total number TU'] = int(total_student.find('div', class_='number').text.split()[0].replace(',', ''))\n",
    "        except:\n",
    "            print(university + ' has no values for TOTAL_STUDENTS')\n",
    "            print(\"Check at: \" + default_path + result.iloc[index]['url TU'])\n",
    "        try:\n",
    "            inter_faculty = soup.find('div', class_='inter faculty')\n",
    "            result.loc[index, 'International Staff number TU'] = int(inter_faculty.find('div', class_='number').text.split()[0].replace(',', ''))\n",
    "        except:\n",
    "            print(university + ' has no values for INTERNATIONAL_STAFF')\n",
    "            print(\"Check at: \" + default_path + result.iloc[index]['url TU'])\n",
    "        try:\n",
    "            inter_student = soup.find('div', class_='total inter')\n",
    "            result.loc[index, 'International Students number TU'] = int(inter_student.find('div', class_='number').text.split()[0].replace(',', ''))\n",
    "        except:\n",
    "            print(university + ' has no values for INTERNATIONAL_STUDENTS')\n",
    "            print(\"Check at: \" + default_path + result.iloc[index]['url TU'])"
   ]
  },
  {
   "cell_type": "markdown",
   "metadata": {},
   "source": [
    "### Dealing with NaN values"
   ]
  },
  {
   "cell_type": "markdown",
   "metadata": {},
   "source": [
    "We choose to store absent values as NaN, in order to not modify relations between countries and regions."
   ]
  },
  {
   "cell_type": "markdown",
   "metadata": {},
   "source": [
    "### Fixing duplicate ranks\n",
    "In the first dataframe it is possible to have universities with equal rank. We decided to break those ties before we start the analysis using the order in which the universities are written on the website."
   ]
  },
  {
   "cell_type": "code",
   "execution_count": null,
   "metadata": {},
   "outputs": [],
   "source": [
    "result['Rank TU'] = range(1,201)"
   ]
  },
  {
   "cell_type": "markdown",
   "metadata": {},
   "source": [
    "### Removing useless columns\n",
    "We remove the columns that we consider meaningless for our analysis goals from the dataset:"
   ]
  },
  {
   "cell_type": "code",
   "execution_count": null,
   "metadata": {
    "scrolled": false
   },
   "outputs": [],
   "source": [
    "results = result.copy()\n",
    "useless_columns = ['Score TU','Stars TU','CC TU','Core_id TU','Guide TU','Nid TU','url TU','Logo TU']\n",
    "for column_name in useless_columns:\n",
    "    del result[column_name]"
   ]
  },
  {
   "cell_type": "code",
   "execution_count": null,
   "metadata": {
    "scrolled": false
   },
   "outputs": [],
   "source": [
    "df = result.copy()"
   ]
  },
  {
   "cell_type": "markdown",
   "metadata": {},
   "source": [
    "## Extracting ratios between new values\n",
    "With the new columns that we have scraped from the website we can produce the ratio between:\n",
    "- Staff total number / Students total number\n",
    "- International students number / Students total number"
   ]
  },
  {
   "cell_type": "code",
   "execution_count": null,
   "metadata": {},
   "outputs": [],
   "source": [
    "df['Ratio Staff/Student TU']=df['Staff total number TU']/df['Students total number TU']\n",
    "df['Ratio International Students TU']=df['International Students number TU']/df['Students total number TU']"
   ]
  },
  {
   "cell_type": "markdown",
   "metadata": {},
   "source": [
    "### Sorting dataframes by ratios\n",
    "We sort the dataframes by ratios:"
   ]
  },
  {
   "cell_type": "code",
   "execution_count": null,
   "metadata": {},
   "outputs": [],
   "source": [
    "df_international = df.sort_values('Ratio International Students TU', ascending=0)\n",
    "df_staffstud = df.sort_values('Ratio Staff/Student TU', ascending=0)"
   ]
  },
  {
   "cell_type": "code",
   "execution_count": null,
   "metadata": {},
   "outputs": [],
   "source": [
    "df_international.head(3)"
   ]
  },
  {
   "cell_type": "code",
   "execution_count": null,
   "metadata": {},
   "outputs": [],
   "source": [
    "df_staffstud.head(3)"
   ]
  },
  {
   "cell_type": "markdown",
   "metadata": {},
   "source": [
    "### Deleting useless columns before grouping by Country and Region\n",
    "We delete the useless columns before grouping:"
   ]
  },
  {
   "cell_type": "code",
   "execution_count": null,
   "metadata": {},
   "outputs": [],
   "source": [
    "df_international_by_country_or_region = df_international.copy()\n",
    "other_useless_columns = ['Rank TU','Ratio International Students TU','Ratio Staff/Student TU','Title TU']\n",
    "for useless_column in other_useless_columns:\n",
    "    del df_international_by_country_or_region[useless_column]\n",
    "df_international_by_country_or_region.head(5)"
   ]
  },
  {
   "cell_type": "markdown",
   "metadata": {},
   "source": [
    "### Extracting the number of Universities classified in the ranking, grouped by Country\n",
    "For further analysis in Task 4 we store how many universities are in the top 200 universities, grouped by country:"
   ]
  },
  {
   "cell_type": "code",
   "execution_count": null,
   "metadata": {},
   "outputs": [],
   "source": [
    "df_international_by_country_count = df_international_by_country_or_region.groupby(['Country TU']).count()\n",
    "col_totals = ['Staff total number TU','Students total number TU','International Staff number TU','International Students number TU']\n",
    "for c in col_totals:\n",
    "    del df_international_by_country_count[c]\n",
    "df_international_by_country_count.columns = ['Number of Universities per country']\n",
    "df_international_by_country_count = df_international_by_country_count.sort_values('Number of Universities per country', ascending=0)"
   ]
  },
  {
   "cell_type": "markdown",
   "metadata": {},
   "source": [
    "## Grouping by country and Region"
   ]
  },
  {
   "cell_type": "code",
   "execution_count": null,
   "metadata": {},
   "outputs": [],
   "source": [
    "df_international_by_country = df_international_by_country_or_region.groupby(['Country TU']).sum()\n",
    "df_international_by_region = df_international_by_country_or_region.groupby(['Region TU']).sum()"
   ]
  },
  {
   "cell_type": "markdown",
   "metadata": {},
   "source": [
    "### Producing ratios by country"
   ]
  },
  {
   "cell_type": "code",
   "execution_count": null,
   "metadata": {},
   "outputs": [],
   "source": [
    "df_international_by_country['Ratio Staff/Student TU'] = df_international_by_country['Staff total number TU']/df_international_by_country['Students total number TU']\n",
    "df_international_by_country['Ratio International Students TU'] = df_international_by_country['International Students number TU']/df_international_by_country['Students total number TU']"
   ]
  },
  {
   "cell_type": "code",
   "execution_count": null,
   "metadata": {},
   "outputs": [],
   "source": [
    "df_international_by_country_staffstudent = df_international_by_country.copy()\n",
    "df_ics = df_international_by_country_staffstudent.sort_values('Ratio Staff/Student TU', ascending=0).head(25)"
   ]
  },
  {
   "cell_type": "code",
   "execution_count": null,
   "metadata": {},
   "outputs": [],
   "source": [
    "df_international_by_country_intstudent = df_international_by_country.copy()\n",
    "df_ici = df_international_by_country_intstudent.sort_values('Ratio International Students TU', ascending=0).head(25)"
   ]
  },
  {
   "cell_type": "markdown",
   "metadata": {},
   "source": [
    "### Producing ratios by region"
   ]
  },
  {
   "cell_type": "code",
   "execution_count": null,
   "metadata": {},
   "outputs": [],
   "source": [
    "df_international_by_region['Ratio Staff/Student TU'] = df_international_by_region['Staff total number TU']/df_international_by_region['Students total number TU']\n",
    "df_international_by_region['Ratio International Students TU'] = df_international_by_region['International Students number TU']/df_international_by_region['Students total number TU']"
   ]
  },
  {
   "cell_type": "markdown",
   "metadata": {},
   "source": [
    "#### Ratios STAFF/STUDENT"
   ]
  },
  {
   "cell_type": "code",
   "execution_count": null,
   "metadata": {},
   "outputs": [],
   "source": [
    "df_international_by_region_staffstudent = df_international_by_region.copy()\n",
    "df_irs = df_international_by_region_staffstudent.sort_values('Ratio Staff/Student TU', ascending=0).head(5)"
   ]
  },
  {
   "cell_type": "markdown",
   "metadata": {},
   "source": [
    "#### Ratios INTERNATIONAL/TOTAL students"
   ]
  },
  {
   "cell_type": "code",
   "execution_count": null,
   "metadata": {},
   "outputs": [],
   "source": [
    "df_international_by_region_intstudent = df_international_by_region.copy()\n",
    "df_iri = df_international_by_region_intstudent.sort_values('Ratio International Students TU', ascending=0).head(5)"
   ]
  },
  {
   "cell_type": "markdown",
   "metadata": {},
   "source": [
    "### Extracting the countries and their corresponding regions to be used  for mapping in task 2 "
   ]
  },
  {
   "cell_type": "code",
   "execution_count": null,
   "metadata": {},
   "outputs": [],
   "source": [
    "country_region = df_international.filter(['Country TU','Region TU'], axis=1)"
   ]
  },
  {
   "cell_type": "code",
   "execution_count": null,
   "metadata": {},
   "outputs": [],
   "source": [
    "unique_country_region = country_region.drop_duplicates(subset = 'Country TU')"
   ]
  },
  {
   "cell_type": "code",
   "execution_count": null,
   "metadata": {},
   "outputs": [],
   "source": [
    "country_region_dict = unique_country_region.set_index('Country TU')['Region TU'].to_dict()"
   ]
  },
  {
   "cell_type": "code",
   "execution_count": null,
   "metadata": {},
   "outputs": [],
   "source": [
    "country_region_dict"
   ]
  },
  {
   "cell_type": "markdown",
   "metadata": {},
   "source": [
    "### Cross comparing this list with all the countries in Task 2 dataframe, only 2 countries are missing:\n",
    "    1- Russian Federation - > Europe\n",
    "    2- Luxembourg - > Europe\n",
    "#### Now we need to add them to the dictionary to avoid NaN values in the region field in the Task 2 dataframe."
   ]
  },
  {
   "cell_type": "code",
   "execution_count": null,
   "metadata": {},
   "outputs": [],
   "source": [
    "country_region_dict['Russian Federation'] = 'Europe'\n",
    "country_region_dict['Luxembourg'] = 'Europe'"
   ]
  },
  {
   "cell_type": "markdown",
   "metadata": {},
   "source": [
    "## Plots\n",
    "\n",
    "We previously saved the best five universities given the four ratios. In this section we plot the dataframes."
   ]
  },
  {
   "cell_type": "code",
   "execution_count": null,
   "metadata": {},
   "outputs": [],
   "source": [
    "fig, axes = plt.subplots(nrows=2, ncols=2, figsize=[16,10])\n",
    "plt.style.use('ggplot')\n",
    "\n",
    "plot_useless_columns = ['Staff total number TU','Students total number TU','International Staff number TU','International Students number TU']\n",
    "for useless_column in plot_useless_columns:\n",
    "    del df_iri[useless_column]\n",
    "    del df_ici[useless_column]\n",
    "    del df_ics[useless_column]\n",
    "    del df_irs[useless_column]\n",
    "\n",
    "del df_iri['Ratio Staff/Student TU']\n",
    "del df_ici['Ratio Staff/Student TU']\n",
    "del df_irs['Ratio International Students TU']\n",
    "del df_ics['Ratio International Students TU']\n",
    "\n",
    "df_irs.plot(ax=axes[0,0], kind='barh')\n",
    "df_ics.plot(ax=axes[0,1], kind='barh')\n",
    "df_iri.plot(ax=axes[1,0], kind='barh')\n",
    "df_ici.plot(ax=axes[1,1], kind='barh')\n",
    "plt.tight_layout()\n",
    "plt.show()"
   ]
  },
  {
   "cell_type": "markdown",
   "metadata": {},
   "source": [
    "Those plots show the ratios for countries and regions. Note that the ratios are only based on the universities which made it to the top 200, and that the result therefore might look very different if all universities of a country were taken into account."
   ]
  },
  {
   "cell_type": "markdown",
   "metadata": {},
   "source": [
    "# Task 2 - Times Higher Education ranking"
   ]
  },
  {
   "cell_type": "markdown",
   "metadata": {},
   "source": [
    "## Extracting data from the website \"www.timeshighereducation.com\""
   ]
  },
  {
   "cell_type": "markdown",
   "metadata": {},
   "source": [
    "![alt text](./images/postman_2.png \"Postman capture\")\n",
    "\n",
    "\n",
    "By analyzing all the REST request loaded by the page we found that the dataset that fills the table is obtained by a GET request to a specific URL in a .json format."
   ]
  },
  {
   "cell_type": "code",
   "execution_count": null,
   "metadata": {},
   "outputs": [],
   "source": [
    "default_path_2 = 'https://www.timeshighereducation.com'\n",
    "r_2 = requests.get(default_path_2 +'/sites/default/files/the_data_rankings/world_university_rankings_2018_limit0_369a9045a203e176392b9fb8f8c1cb2a.json')\n",
    "result_json_2 = r_2.json()\n",
    "\n",
    "result_2 = pd.DataFrame.from_dict(result_json_2['data']).head(200)"
   ]
  },
  {
   "cell_type": "code",
   "execution_count": null,
   "metadata": {},
   "outputs": [],
   "source": [
    "result_2.head()"
   ]
  },
  {
   "cell_type": "markdown",
   "metadata": {},
   "source": [
    "## Deleting useless columns"
   ]
  },
  {
   "cell_type": "markdown",
   "metadata": {},
   "source": [
    "Removing columns that are of no use to us."
   ]
  },
  {
   "cell_type": "code",
   "execution_count": null,
   "metadata": {},
   "outputs": [],
   "source": [
    "useless_columns_2 = ['aliases','rank_order','scores_overall_rank','scores_teaching_rank','scores_research_rank',\n",
    "                     'scores_citations','scores_citations_rank','scores_industry_income','scores_industry_income_rank',\n",
    "                    'scores_international_outlook','scores_international_outlook_rank','record_type','member_level',\n",
    "                    'nid','subjects_offered','url']\n",
    "for column_name in useless_columns_2:\n",
    "    del result_2[column_name]"
   ]
  },
  {
   "cell_type": "code",
   "execution_count": null,
   "metadata": {},
   "outputs": [],
   "source": [
    "result_2.head()"
   ]
  },
  {
   "cell_type": "markdown",
   "metadata": {},
   "source": [
    "### Using similar column names as task 1\n",
    "Every column header extracted from TimesHigherEducation website will contain the word THE "
   ]
  },
  {
   "cell_type": "code",
   "execution_count": null,
   "metadata": {},
   "outputs": [],
   "source": [
    "new_columns =['Country THE', 'Title THE', 'Rank THE','Scores overall THE', 'Score research THE', 'Score teaching THE',\n",
    "       'Ratio Female/Male THE', 'Students total number THE',\n",
    "       'Ratio of International students THE', 'Ratio Student/Staff THE']\n",
    "result_2.columns = new_columns"
   ]
  },
  {
   "cell_type": "markdown",
   "metadata": {},
   "source": [
    "### Changing string type into int/float type"
   ]
  },
  {
   "cell_type": "code",
   "execution_count": null,
   "metadata": {},
   "outputs": [],
   "source": [
    "result_2.dtypes"
   ]
  },
  {
   "cell_type": "markdown",
   "metadata": {},
   "source": [
    "### Some of the data needs to be extracted from existing columns\n",
    "    1- The total number of international students is computed by multiplying the the ratio of international students and the number of total students.\n",
    "    2- The Staff total number is computed by dividing the total number of students by the student/staff ratio."
   ]
  },
  {
   "cell_type": "code",
   "execution_count": null,
   "metadata": {},
   "outputs": [],
   "source": [
    "for i in range(len(result_2)):\n",
    "    result_2['Ratio of International students THE'][i] = float(result_2['Ratio of International students THE'][i].strip('%'))/100\n",
    "    result_2['Ratio Student/Staff THE'][i] = float(result_2['Ratio Student/Staff THE'][i])\n",
    "    result_2['Students total number THE'][i] = int(result_2['Students total number THE'][i].split()[0].replace(',', ''))\n",
    "\n",
    "result_2['Ratio of International students THE'] = result_2['Ratio of International students THE'].astype('float')\n",
    "result_2['Ratio Student/Staff THE'] = result_2['Ratio Student/Staff THE'].astype('float')\n",
    "result_2['International Students number THE'] = (result_2['Ratio of International students THE']*result_2['Students total number THE']).astype('int') \n",
    "result_2['Students total number THE'] = result_2['Students total number THE'].astype('int')\n",
    "result_2['Staff total number THE'] = (result_2['Students total number THE']/result_2['Ratio Student/Staff THE']).astype('int')\n",
    "result_2['Score research THE'] = result_2['Score research THE'].astype('float')\n",
    "result_2['Score teaching THE'] = result_2['Score teaching THE'].astype('float')\n",
    "result_2['Scores overall THE'] = result_2['Scores overall THE'].astype('float')\n",
    "result_2.dtypes\n",
    "\n",
    "#Note thet the type of the rank will be changed later."
   ]
  },
  {
   "cell_type": "markdown",
   "metadata": {},
   "source": [
    "## Fixing duplicate ranks by reassembling the order\n",
    "Some of the universities in our ranking are in a tie, we resolve it by using the order defined in the webpage"
   ]
  },
  {
   "cell_type": "code",
   "execution_count": null,
   "metadata": {},
   "outputs": [],
   "source": [
    "result_2['Rank THE'] = range(1,201)"
   ]
  },
  {
   "cell_type": "markdown",
   "metadata": {},
   "source": [
    "### Below we will answer the first question by comparing the ratio between faculty members and students alongside the ratio of international students for each university"
   ]
  },
  {
   "cell_type": "markdown",
   "metadata": {},
   "source": [
    "The ratio of international students is already extracted from the JSON."
   ]
  },
  {
   "cell_type": "markdown",
   "metadata": {},
   "source": [
    "## Ratio of international students\n",
    "Sorting the dataframe by ratio of international students and displaying first 5 elements."
   ]
  },
  {
   "cell_type": "code",
   "execution_count": null,
   "metadata": {},
   "outputs": [],
   "source": [
    "df_international_2 = result_2.sort_values('Ratio of International students THE', ascending=0)"
   ]
  },
  {
   "cell_type": "code",
   "execution_count": null,
   "metadata": {},
   "outputs": [],
   "source": [
    "df_international_2.set_index('Title THE').head()"
   ]
  },
  {
   "cell_type": "markdown",
   "metadata": {},
   "source": [
    "## Ratio of staff to students"
   ]
  },
  {
   "cell_type": "markdown",
   "metadata": {},
   "source": [
    "The ratio between faculty members and students is just the inverse of the ratio between students and faculty members."
   ]
  },
  {
   "cell_type": "code",
   "execution_count": null,
   "metadata": {},
   "outputs": [],
   "source": [
    "result_2['Ratio Staff/Student THE'] = 1 / result_2['Ratio Student/Staff THE']"
   ]
  },
  {
   "cell_type": "code",
   "execution_count": null,
   "metadata": {},
   "outputs": [],
   "source": [
    "result_2.set_index('Title THE').head()"
   ]
  },
  {
   "cell_type": "markdown",
   "metadata": {},
   "source": [
    "Sorting the dataframe by ratio of Staff to students and displaying first 5 elements."
   ]
  },
  {
   "cell_type": "code",
   "execution_count": null,
   "metadata": {},
   "outputs": [],
   "source": [
    "df_staffstud_2 = result_2.sort_values('Ratio Staff/Student THE', ascending=0)"
   ]
  },
  {
   "cell_type": "code",
   "execution_count": null,
   "metadata": {},
   "outputs": [],
   "source": [
    "df_staffstud_2.set_index('Title THE').head()"
   ]
  },
  {
   "cell_type": "markdown",
   "metadata": {},
   "source": [
    "## Mapping the countries to their designated regions"
   ]
  },
  {
   "cell_type": "markdown",
   "metadata": {},
   "source": [
    "Since the region field is nowhere to be found on the timeshighereducation website, we had to create one.\n",
    "Following up on the extraction of the country to region dictionary done in Task 1 above, we map every country in the dataframe to it's appropriate region.\n",
    "A previous analysis was made to know which countries were not common in both dataframes, and they were added manually."
   ]
  },
  {
   "cell_type": "code",
   "execution_count": null,
   "metadata": {},
   "outputs": [],
   "source": [
    "result_2['Region THE'] = result_2['Country THE'].map(country_region_dict)"
   ]
  },
  {
   "cell_type": "code",
   "execution_count": null,
   "metadata": {},
   "outputs": [],
   "source": [
    "result_2.set_index('Title THE').head()"
   ]
  },
  {
   "cell_type": "markdown",
   "metadata": {},
   "source": [
    "Checking if there are any NaN values in my new column"
   ]
  },
  {
   "cell_type": "code",
   "execution_count": null,
   "metadata": {},
   "outputs": [],
   "source": [
    "result_2['Region THE'].isnull().sum()"
   ]
  },
  {
   "cell_type": "markdown",
   "metadata": {},
   "source": [
    "## Grouping by country"
   ]
  },
  {
   "cell_type": "code",
   "execution_count": null,
   "metadata": {},
   "outputs": [],
   "source": [
    "df_international_by_country_2 = result_2.copy()"
   ]
  },
  {
   "cell_type": "markdown",
   "metadata": {},
   "source": [
    "### Getting rid of useless columns for this task"
   ]
  },
  {
   "cell_type": "markdown",
   "metadata": {},
   "source": [
    "Notice here we removed the ratio of international students and ratio of student/staff, staff/student because we will compute them again after aggregation of values."
   ]
  },
  {
   "cell_type": "code",
   "execution_count": null,
   "metadata": {},
   "outputs": [],
   "source": [
    "useless_columns_2 = ['Rank THE','Title THE','Ratio of International students THE','Ratio Student/Staff THE','Ratio Staff/Student THE','Score research THE','Score teaching THE','Scores overall THE']\n",
    "for column_name in useless_columns_2:\n",
    "    del df_international_by_country_2[column_name]"
   ]
  },
  {
   "cell_type": "markdown",
   "metadata": {},
   "source": [
    "#### Grouping:"
   ]
  },
  {
   "cell_type": "code",
   "execution_count": null,
   "metadata": {},
   "outputs": [],
   "source": [
    "df_international_by_country_2 = df_international_by_country_2.groupby(['Country THE']).sum()"
   ]
  },
  {
   "cell_type": "code",
   "execution_count": null,
   "metadata": {},
   "outputs": [],
   "source": [
    "df_international_by_country_2.head()"
   ]
  },
  {
   "cell_type": "markdown",
   "metadata": {},
   "source": [
    "### Calculating the new ratio between staff/student "
   ]
  },
  {
   "cell_type": "code",
   "execution_count": null,
   "metadata": {},
   "outputs": [],
   "source": [
    "df_international_by_country_staffstudent_2 = df_international_by_country_2.copy()\n",
    "df_international_by_country_staffstudent_2['Ratio Staff/Student THE'] = (df_international_by_country_staffstudent_2['Staff total number THE']/df_international_by_country_staffstudent_2['Students total number THE']).astype('float')\n",
    "df_ics_2 = df_international_by_country_staffstudent_2.sort_values('Ratio Staff/Student THE', ascending=0)\n",
    "df_ics_2.head()"
   ]
  },
  {
   "cell_type": "markdown",
   "metadata": {},
   "source": [
    "### Calculating the new ratio of international students"
   ]
  },
  {
   "cell_type": "code",
   "execution_count": null,
   "metadata": {},
   "outputs": [],
   "source": [
    "df_international_by_country_intstudent_2 = df_international_by_country_2.copy()\n",
    "df_international_by_country_intstudent_2['Ratio of International students THE'] = (df_international_by_country_intstudent_2['International Students number THE']/df_international_by_country_intstudent_2['Students total number THE']).astype('float')\n",
    "df_ici_2 = df_international_by_country_intstudent_2.sort_values('Ratio of International students THE', ascending=0)\n",
    "df_ici_2.head()"
   ]
  },
  {
   "cell_type": "markdown",
   "metadata": {},
   "source": [
    "## Grouping by Region"
   ]
  },
  {
   "cell_type": "code",
   "execution_count": null,
   "metadata": {},
   "outputs": [],
   "source": [
    "df_international_by_region_2 = result_2.copy()"
   ]
  },
  {
   "cell_type": "markdown",
   "metadata": {},
   "source": [
    "### Getting rid of useless columns for this task"
   ]
  },
  {
   "cell_type": "markdown",
   "metadata": {},
   "source": [
    "Notice here we removed the ratio of international students and ratio of student/staff, staff/student because we will compute them again after aggregation of values."
   ]
  },
  {
   "cell_type": "code",
   "execution_count": null,
   "metadata": {},
   "outputs": [],
   "source": [
    "useless_columns_2 = ['Rank THE','Title THE','Country THE','Ratio of International students THE','Ratio Student/Staff THE','Ratio Staff/Student THE','Score research THE','Score teaching THE','Scores overall THE']\n",
    "for column_name in useless_columns_2:\n",
    "    del df_international_by_region_2[column_name]"
   ]
  },
  {
   "cell_type": "markdown",
   "metadata": {},
   "source": [
    "#### Grouping:"
   ]
  },
  {
   "cell_type": "code",
   "execution_count": null,
   "metadata": {},
   "outputs": [],
   "source": [
    "df_international_by_region_2 = df_international_by_region_2.groupby(['Region THE']).sum()"
   ]
  },
  {
   "cell_type": "markdown",
   "metadata": {},
   "source": [
    "### Calculating the new ratio between staff/student "
   ]
  },
  {
   "cell_type": "code",
   "execution_count": null,
   "metadata": {},
   "outputs": [],
   "source": [
    "df_international_by_region_staffstudent_2 = df_international_by_region_2.copy()\n",
    "df_international_by_region_staffstudent_2['Ratio Staff/Student THE'] = (df_international_by_region_staffstudent_2['Staff total number THE']/df_international_by_region_staffstudent_2['Students total number THE']).astype('float')\n",
    "df_irs_2 = df_international_by_region_staffstudent_2.sort_values('Ratio Staff/Student THE', ascending=0)\n",
    "df_irs_2.head()"
   ]
  },
  {
   "cell_type": "markdown",
   "metadata": {},
   "source": [
    "### Calculating the new ratio of international students"
   ]
  },
  {
   "cell_type": "code",
   "execution_count": null,
   "metadata": {},
   "outputs": [],
   "source": [
    "df_international_by_region_intstudent_2 = df_international_by_region_2.copy()\n",
    "df_international_by_region_intstudent_2['Ratio of International students THE'] = (df_international_by_region_intstudent_2['International Students number THE']/df_international_by_region_intstudent_2['Students total number THE']).astype('float')\n",
    "df_iri_2 = df_international_by_region_intstudent_2.sort_values('Ratio of International students THE', ascending=0).head(5)\n",
    "df_iri_2.head()"
   ]
  },
  {
   "cell_type": "markdown",
   "metadata": {},
   "source": [
    "## Plots"
   ]
  },
  {
   "cell_type": "code",
   "execution_count": null,
   "metadata": {},
   "outputs": [],
   "source": [
    "fig, axes = plt.subplots(nrows=2, ncols=2, figsize=[16,10])\n",
    "plt.style.use('ggplot')\n",
    "\n",
    "df_irs_2 = df_irs_2.filter(['Region THE','Ratio Staff/Student THE'],axis=1)\n",
    "df_ics_2 = df_ics_2.filter(['Country THE','Ratio Staff/Student THE'],axis=1)\n",
    "df_iri_2 = df_iri_2.filter(['Region THE','Ratio of International students THE'],axis=1)\n",
    "df_ici_2 = df_ici_2.filter(['Country THE','Ratio of International students THE'],axis=1)\n",
    "\n",
    "df_irs_2.plot(ax=axes[0,0], kind='barh')\n",
    "df_ics_2.plot(ax=axes[0,1], kind='barh')\n",
    "df_iri_2.plot(ax=axes[1,0], kind='barh')\n",
    "df_ici_2.plot(ax=axes[1,1], kind='barh')\n",
    "plt.tight_layout()\n",
    "plt.show()"
   ]
  },
  {
   "cell_type": "markdown",
   "metadata": {},
   "source": [
    "# Task 3 - Merging the dataframes"
   ]
  },
  {
   "cell_type": "markdown",
   "metadata": {},
   "source": [
    "The next goal is to merge the two dataframes that were created in the previous tasks using university names.\n",
    "\n",
    "We first observe that a straight forward approach based on equality of the names is insufficient, because there might be slight differences in the names. For example, the MIT is referred to as 'Massachusetts Institute of Technology (MIT)' in the Top Universities ranking, while it referred to as 'Massachusetts Institute of Technology' in the Times Higher Education ranking. \n",
    "\n",
    "Therefore, we need a more sophisticated method for matching names. We decided to first compute all possible combinations of universities, i.e. the cross product of the two dataframes, and then filter on a refined criterion. For every combination of universities a metric for the similarity between their titles is computed using the `ratio` function provided by the difflib Python standard library. The core functionality of this library is to calculate matching parts in sequences. This is achieved by searching for the longest common subsequence and then recursivly looking for matches left and right of the occurence of this sequence. (This is based on Gestalt pattern matching<sup>1</sup>). \n",
    "The ratio of similarity is then computed using the formula 2.0 * M / T where M is the number of matches and T is the sum of the lengths of the two strings. This results in a number between 0 and 1 where 1 means that the two strings are equal. We then define a threshold for the point from which on two names are considered to describe the same university. We set this threshold to be 0.8. The threshold was found by manually checking the quality of the matching.\n",
    "\n",
    "This approach works well apart from a few exceptions. In particular, there were some mistakes for titles which consist mainly of words which are very common in university names. For example the names 'University of Bern' and 'University of Bonn' would match. Therefore, we decided to further refine our method by deleting those common words from the titles before computing the ratios. We delete the words 'University', 'Institute', 'of', and 'The'.\n",
    "\n",
    "As it is difficult to create a perfect approximation, there still are some entries in the end which need to be added or deleted manually.  In total the result has 144 rows, where two rows had to be deleted manually and five rows were added manually. We consider this a satisfactory accuracy. \n",
    "\n",
    "<sup>1</sup> John W. Ratcliff and David Metzener, Pattern Matching: The Gestalt Approach, Dr. Dobb's Journal, page 46, July 1988. \n",
    "\n",
    "\n",
    "\n"
   ]
  },
  {
   "cell_type": "markdown",
   "metadata": {},
   "source": [
    "#### Removing useless columns from a copy of the original dataframe"
   ]
  },
  {
   "cell_type": "code",
   "execution_count": null,
   "metadata": {},
   "outputs": [],
   "source": [
    "useless_columns_m = ['Stars TU','CC TU','Core_id TU','Guide TU','Nid TU','url TU','Logo TU']\n",
    "for column in useless_columns_m:\n",
    "    del results[column]"
   ]
  },
  {
   "cell_type": "markdown",
   "metadata": {},
   "source": [
    "### Deleting misleading words:"
   ]
  },
  {
   "cell_type": "code",
   "execution_count": null,
   "metadata": {},
   "outputs": [],
   "source": [
    "dict_words = {'University':'','of':'','The':'','Institute':''}"
   ]
  },
  {
   "cell_type": "code",
   "execution_count": null,
   "metadata": {},
   "outputs": [],
   "source": [
    "uni_names_2 = list(result_2['Title THE'])\n",
    "stripped_names_2 = []\n",
    "for uni in uni_names_2:\n",
    "    for i, j in dict_words.items():\n",
    "        uni = uni.replace(i,j)\n",
    "    uni=uni.split()\n",
    "    uni = ' '.join(uni)\n",
    "    stripped_names_2.append(uni)\n",
    "    \n",
    "    "
   ]
  },
  {
   "cell_type": "code",
   "execution_count": null,
   "metadata": {},
   "outputs": [],
   "source": [
    "uni_names_1 = list(results['Title TU'])\n",
    "stripped_names_1 = []\n",
    "for uni in uni_names_1:\n",
    "    for i, j in dict_words.items():\n",
    "        uni = uni.replace(i,j)\n",
    "    uni=uni.split()\n",
    "    uni = ' '.join(uni)\n",
    "    stripped_names_1.append(uni)"
   ]
  },
  {
   "cell_type": "code",
   "execution_count": null,
   "metadata": {},
   "outputs": [],
   "source": [
    "results['Stripped Names TU'] = stripped_names_1"
   ]
  },
  {
   "cell_type": "code",
   "execution_count": null,
   "metadata": {},
   "outputs": [],
   "source": [
    "result_2['Stripped Names THE'] = stripped_names_2"
   ]
  },
  {
   "cell_type": "code",
   "execution_count": null,
   "metadata": {},
   "outputs": [],
   "source": [
    "results.head()"
   ]
  },
  {
   "cell_type": "markdown",
   "metadata": {},
   "source": [
    "### Setting the Overall Score in THE dataframe to the same range as the TU frame for fair comparison further on."
   ]
  },
  {
   "cell_type": "code",
   "execution_count": null,
   "metadata": {},
   "outputs": [],
   "source": [
    "results['Score TU'] = results['Score TU'].astype('float')\n",
    "OldRange = (max(result_2['Scores overall THE']) - min(result_2['Scores overall THE']))  \n",
    "NewRange = (max(results['Score TU']) - min(results['Score TU']))\n",
    "result_2['Scores overall THE'] =  (((result_2['Scores overall THE'] - min(result_2['Scores overall THE'])) * NewRange) / OldRange) +  min(results['Score TU'])                       "
   ]
  },
  {
   "cell_type": "code",
   "execution_count": null,
   "metadata": {},
   "outputs": [],
   "source": [
    "result_2.head()"
   ]
  },
  {
   "cell_type": "markdown",
   "metadata": {},
   "source": [
    "### Adding similarity metric and filtering:"
   ]
  },
  {
   "cell_type": "code",
   "execution_count": null,
   "metadata": {},
   "outputs": [],
   "source": [
    "from difflib import SequenceMatcher\n",
    "df_cartesian = pd.merge(results.assign(key=0), result_2.assign(key=0), on='key').drop('key', axis=1)\n",
    "\n",
    "def similar(row):\n",
    "    return SequenceMatcher(None, row['Stripped Names TU'],row['Stripped Names THE']).ratio()\n",
    "\n",
    "df_cartesian['Similarity'] = df_cartesian.apply(similar,axis=1)\n",
    "df_merged = df_cartesian[df_cartesian.Similarity > 0.80]\n",
    "df_merged.head()"
   ]
  },
  {
   "cell_type": "markdown",
   "metadata": {},
   "source": [
    "### Extracting manually the indices of mismatches:\n",
    "\n",
    "False positives can easily be detected by checking the resulting dataframe. We found two problematic rows, one of them matching 'Northwestern' and 'Northeastern', the other one matching 'Hong Kong Science and Technology' and 'Pohang Science and Technology' (considering the stripped names).\n",
    "\n",
    "This corresponds to rows with the following information:"
   ]
  },
  {
   "cell_type": "code",
   "execution_count": null,
   "metadata": {},
   "outputs": [],
   "source": [
    "#['Northwestern', 'Northeastern', 0.9166666666666666] index: 5792\n",
    "#['Hong Kong Science and Technology','Pohang Science and Technology', 0.8524590163934426], index : 5936"
   ]
  },
  {
   "cell_type": "markdown",
   "metadata": {},
   "source": [
    "The indices of the mismatching entries where retrieved as follows:"
   ]
  },
  {
   "cell_type": "code",
   "execution_count": null,
   "metadata": {},
   "outputs": [],
   "source": [
    "print(df_cartesian[ (df_cartesian['Stripped Names TU'].str.startswith('Northwestern')) & (df_cartesian['Stripped Names THE'].str.startswith('Northeastern'))].index[0])\n",
    "print(df_cartesian[ (df_cartesian['Stripped Names TU'].str.startswith('Hong Kong Science and Technology')) & (df_cartesian['Stripped Names THE'].str.startswith('Pohang Science and Technology'))].index[0])"
   ]
  },
  {
   "cell_type": "markdown",
   "metadata": {},
   "source": [
    "For detecting false negatives, we took a look at rows with match results between 0.65 and 0.8:"
   ]
  },
  {
   "cell_type": "code",
   "execution_count": null,
   "metadata": {},
   "outputs": [],
   "source": [
    "df_cartesian[ (df_cartesian['Similarity'] > 0.65)  & (df_cartesian['Similarity'] <= 0.8)].head()"
   ]
  },
  {
   "cell_type": "markdown",
   "metadata": {},
   "source": [
    "We found that the rows with the following information should be added:"
   ]
  },
  {
   "cell_type": "code",
   "execution_count": null,
   "metadata": {},
   "outputs": [],
   "source": [
    "#['New York (NYU)', 'New York', 0.7272727272727273], index:10227\n",
    "#['UCL ( College London)', 'College London ucl', 0.717948717948718], index : 1215\n",
    "#['KAIST - Korea Advanced Science & Technology','Korea Advanced Science and Technology (KAIST)',0.7727272727272727],\n",
    "#index : 8095\n",
    "#['Humboldt-Universität zu Berlin', 'Humboldt Berlin', 0.6666666666666666]. index : 23861\n",
    "#['New South Wales (UNSW Sydney)', 'New South Wales', 0.6818181818181818], index : 8884"
   ]
  },
  {
   "cell_type": "markdown",
   "metadata": {},
   "source": [
    "Again, we retrieved the corresponding indices:"
   ]
  },
  {
   "cell_type": "code",
   "execution_count": null,
   "metadata": {},
   "outputs": [],
   "source": [
    "print(df_cartesian[ (df_cartesian['Stripped Names TU'].str.startswith('New York (NYU)')) & (df_cartesian['Stripped Names THE'].str.startswith('New York'))].index[0])\n",
    "print(df_cartesian[ (df_cartesian['Stripped Names TU'].str.startswith('UCL ( College London)')) & (df_cartesian['Stripped Names THE'].str.startswith('College London'))].index[0])\n",
    "print(df_cartesian[ (df_cartesian['Stripped Names TU'].str.startswith('KAIST - Korea Advanced Science & Technology')) & (df_cartesian['Stripped Names THE'].str.startswith('Korea Advanced Science and Technology (KAIST)'))].index[0])\n",
    "print(df_cartesian[ (df_cartesian['Stripped Names TU'].str.startswith('Humboldt-Universität zu Berlin')) & (df_cartesian['Stripped Names THE'].str.startswith('Humboldt Berlin'))].index[0])\n",
    "print(df_cartesian[ (df_cartesian['Stripped Names TU'].str.startswith('New South Wales (UNSW Sydney)')) & (df_cartesian['Stripped Names THE'].str.startswith('New South Wales'))].index[0])"
   ]
  },
  {
   "cell_type": "markdown",
   "metadata": {},
   "source": [
    "### Adding and removing the mismatches:"
   ]
  },
  {
   "cell_type": "code",
   "execution_count": null,
   "metadata": {},
   "outputs": [],
   "source": [
    "adding_index = [10227,1215,8095,23861,8884]\n",
    "removing_index = [5792,5936]"
   ]
  },
  {
   "cell_type": "code",
   "execution_count": null,
   "metadata": {},
   "outputs": [],
   "source": [
    "for index in removing_index:\n",
    "    df_merged = df_merged.drop(index)"
   ]
  },
  {
   "cell_type": "code",
   "execution_count": null,
   "metadata": {
    "scrolled": false
   },
   "outputs": [],
   "source": [
    "for index in adding_index:\n",
    "    df_merged = df_merged.append(df_cartesian.iloc[index])"
   ]
  },
  {
   "cell_type": "markdown",
   "metadata": {},
   "source": [
    "Before we proceed to the next task, we drop the columns which were just needed for the merging and print the final result."
   ]
  },
  {
   "cell_type": "code",
   "execution_count": null,
   "metadata": {},
   "outputs": [],
   "source": [
    "del df_merged['Similarity']\n",
    "del df_merged['Stripped Names THE']\n",
    "del df_merged['Stripped Names TU']\n",
    "df_merged.head()"
   ]
  },
  {
   "cell_type": "markdown",
   "metadata": {},
   "source": [
    "# Task 4 - Exploratory Analysis "
   ]
  },
  {
   "cell_type": "markdown",
   "metadata": {},
   "source": [
    "To begin with, we try to find correlations between the different variables by computing the pairwise correlation of the columns. If called without additional arguments, the pandas method \n",
    "`corr` computes the standard (Pearson) correlation coefficients. That is, coefficients between -1 and 1 where 1 represents total positive linear correlation, 0 represents no correlation and -1 represents total negative linear correlation. This gives us a good starting point to come up with interesting questions for the further analysis."
   ]
  },
  {
   "cell_type": "code",
   "execution_count": null,
   "metadata": {},
   "outputs": [],
   "source": [
    "df_merged.corr()"
   ]
  },
  {
   "cell_type": "markdown",
   "metadata": {},
   "source": [
    "In the rest of our analysis we examine the following questions:\n",
    "1. When a university is strong in its international dimension, can you observe a consistency both for students and faculty members? (see example in exercise description.)\n",
    "2. Do international students tend to chose higher raked universities?\n",
    "3. How similar are the ranks assigned by the two rankings?\n",
    "4. Is the performance in research related to the performance in teaching?\n",
    "5. 5. Is the number of universities in the top 200 in a country correlated to:\n",
    "    - GDP of the country?\n",
    "    - Billions of USD invested in R&D by the country?"
   ]
  },
  {
   "cell_type": "markdown",
   "metadata": {},
   "source": [
    "### 1. When a university is strong in its international dimension, can you observe a consistency both for students and faculty members?\n",
    "\n",
    "In order to answer this question, we consider the correlation between the values 'International Staff number TU' and 'International Students number TU' computed above. Furthermore, we draw a scatter plot to get further insights into the relationship. Note that the analysis is based on the Top Universities ranking. "
   ]
  },
  {
   "cell_type": "code",
   "execution_count": null,
   "metadata": {},
   "outputs": [],
   "source": [
    "df_merged.plot.scatter(x='International Staff number TU', y='International Students number TU')"
   ]
  },
  {
   "cell_type": "markdown",
   "metadata": {},
   "source": [
    "*Interpretation:* Between those indicators there exists a medium positive linear relationship, indicating that the number of international staff also increases the number of international students. However, it might be that there is an underlying factor influencing both, e.g. university size, location, teached subjects or international ranking."
   ]
  },
  {
   "cell_type": "markdown",
   "metadata": {},
   "source": [
    "### 2. Do international students tend to chose higher raked universities?\n",
    "\n",
    "For this question we take a closer look at the rank and the ratio of international students provided in the Times Higher Education ranking. We again support our analysis by a scatter plot: "
   ]
  },
  {
   "cell_type": "code",
   "execution_count": null,
   "metadata": {},
   "outputs": [],
   "source": [
    "df_merged.plot.scatter(x='Rank THE', y='Ratio of International students THE')"
   ]
  },
  {
   "cell_type": "markdown",
   "metadata": {},
   "source": [
    "*Interpretation:* There is a small negative linear correlation. Note that a smaller rank is higher up, i.e. better. Therefore a negative correlation means that universities higher up in the ranking have a higher ratio of international students. Closer inspection of the scatter plot indicates that this relationship is influenced by outliers, universities that have a high number of international students and small rank. Most noticeable, the London School of Economics and Political Science has a rank of 25 and 71% of international students. Ignoring those outliers, no relationship between these two indicators could be detected."
   ]
  },
  {
   "cell_type": "markdown",
   "metadata": {},
   "source": [
    "### 3. How similar are the ranks assigned by the two rankings?\n",
    "\n",
    "We use the same approach as above to compare the ranks:"
   ]
  },
  {
   "cell_type": "code",
   "execution_count": null,
   "metadata": {},
   "outputs": [],
   "source": [
    "df_merged.plot.scatter(x='Rank TU', y='Rank THE')"
   ]
  },
  {
   "cell_type": "markdown",
   "metadata": {},
   "source": [
    "*Interpretation:* These variables exhibit a positive medium linear correlation. Especially, universities higher up, i.e. with small rank, in the Top Universities ranking also are higher up in the Times Higher Education ranking, whereas variation in creases with higher rank. There are quite a few universitites where there is a clear discrepancy between the ranks. For example, the University of Minnesota has rank 163 in the Top Universities ranking and rank 56 in the Times Higher Education ranking. A further analysis of this example could provide insights into the different approaches for the rank computation."
   ]
  },
  {
   "cell_type": "markdown",
   "metadata": {},
   "source": [
    "### 4. Is the performance in research related to the performance in teaching?\n",
    "\n",
    "For this analysis we compare the reserch and the teaching score provided by the Times Higher Education ranking."
   ]
  },
  {
   "cell_type": "code",
   "execution_count": null,
   "metadata": {},
   "outputs": [],
   "source": [
    "df_merged.plot.scatter(x='Score research THE', y='Score teaching THE')"
   ]
  },
  {
   "cell_type": "markdown",
   "metadata": {},
   "source": [
    "*Interpretation:* These scores are nearly perfectly (positive) linearly correlated, meaning that universities with a high research score show a nearly equally high teaching score. As we do not know how exactly those scores are computed, it is difficult to draw concrete conclusions from this result. Interestingly, as can be concluded from the following scatter plot, there is no clear relationship between the teaching score and the ratio between students and staff."
   ]
  },
  {
   "cell_type": "code",
   "execution_count": null,
   "metadata": {},
   "outputs": [],
   "source": [
    "df_merged.plot.scatter(x='Score teaching THE', y='Ratio Student/Staff THE')"
   ]
  },
  {
   "cell_type": "markdown",
   "metadata": {},
   "source": [
    "### 5. Is the number of universities in the top 200 in a country correlated to:\n",
    "1. GDP of the Country?\n",
    "2. Billions of USD invested in R&D?\n",
    "\n",
    "For this analysis we compare the number of universities in the best 200 universities for each country with statistics of GDP per country and billions of USD invested in R&D per country. We also consider GDP and money invested in R&D per-capita.\n",
    "\n",
    "Since these information is not given on the ranking websites, we scrape this content from three Wikipedia pages:\n",
    "- https://en.wikipedia.org/wiki/List_of_countries_by_research_and_development_spending\n",
    "- https://en.wikipedia.org/wiki/List_of_countries_by_GDP_(nominal)\n",
    "- https://en.wikipedia.org/wiki/List_of_countries_by_GDP_(nominal)_per_capita"
   ]
  },
  {
   "cell_type": "code",
   "execution_count": null,
   "metadata": {
    "scrolled": false
   },
   "outputs": [],
   "source": [
    "from bs4 import BeautifulSoup\n",
    "\n",
    "import urllib.request as urllib2\n",
    "wiki = \"https://en.wikipedia.org/wiki/List_of_countries_by_research_and_development_spending\"\n",
    "wiki2 = 'https://en.wikipedia.org/wiki/List_of_countries_by_GDP_(nominal)'\n",
    "wiki3 = 'https://en.wikipedia.org/wiki/List_of_countries_by_GDP_(nominal)_per_capita'\n",
    "\n",
    "header = {'User-Agent': 'Mozilla/5.0'}\n",
    "req = urllib2.Request(wiki,headers=header)\n",
    "req2 = urllib2.Request(wiki2,headers=header)\n",
    "req3 = urllib2.Request(wiki3,headers=header)\n",
    "\n",
    "page = urllib2.urlopen(req)\n",
    "page2 = urllib2.urlopen(req2)\n",
    "page3 = urllib2.urlopen(req3)\n",
    "\n",
    "soup = BeautifulSoup(page, \"lxml\")\n",
    "soup2 = BeautifulSoup(page2, \"lxml\")\n",
    "soup3 = BeautifulSoup(page3, \"lxml\")\n",
    "\n",
    "\n",
    "country_ef = []\n",
    "ranking_ef = []\n",
    "pro_gdp = []\n",
    "\n",
    "country_gdp = []\n",
    "ranking_gdp = []\n",
    "\n",
    "country_pro = []\n",
    "ranking_pro = []\n",
    "\n",
    "table = soup.find(\"table\", { \"class\" : \"wikitable sortable\" })\n",
    "table2 = soup2.find(\"table\", { \"class\" : \"wikitable sortable\" })    \n",
    "table3 = soup3.find(\"table\", { \"class\" : \"wikitable sortable\" })    \n",
    "\n",
    "for row in table3.findAll(\"tr\"):\n",
    "    cells = row.findAll(\"td\")\n",
    "    if len(cells) == 3:\n",
    "        country_pro.append(cells[1].find('a').find(text=True))\n",
    "        ranking_pro.append(cells[2].findAll(text=True)[0])\n",
    "        \n",
    "for row in table2.findAll(\"tr\"):\n",
    "    cells = row.findAll(\"td\")\n",
    "    if len(cells) == 3:\n",
    "        country_gdp.append(cells[1].find('a').find(text=True))\n",
    "        ranking_gdp.append(cells[2].findAll(text=True)[0])\n",
    "        \n",
    "for row in table.findAll(\"tr\"):\n",
    "    cells = row.findAll(\"td\")\n",
    "    if len(cells) == 7:\n",
    "        country_ef.append(cells[1].find('a').find(text=True))\n",
    "        ranking_ef.append(cells[2].findAll(text=True)[0])\n",
    "        pro_gdp.append(cells[4].findAll(text=True)[0])\n",
    "    \n",
    "df_international_by_country_count2 = df_international_by_country_count.copy()\n",
    "\n",
    "for i, c in enumerate(df_international_by_country_count.index):\n",
    "    if c in country_gdp:\n",
    "        df_international_by_country_count2.loc[c, 'GDP per country'] = float(ranking_gdp[country_gdp.index(c)].replace(',',''))\n",
    "    if c in country_ef:\n",
    "        df_international_by_country_count2.loc[c, 'Billions of dollars invested in R&D'] = float(ranking_ef[country_ef.index(c)].replace(',',''))\n",
    "        df_international_by_country_count2.loc[c, 'Dollars per-capita invested in R&D'] = float(pro_gdp[country_ef.index(c)].replace(',',''))\n",
    "    if c in country_pro:\n",
    "        df_international_by_country_count2.loc[c, 'GDP per-capita per country'] = float(ranking_pro[country_pro.index(c)].replace(',','').replace('%',''))\n",
    "\n",
    "        \n",
    "last_corr_df = df_international_by_country_count2.fillna(95.00).astype(float)\n",
    "axs1 = last_corr_df.head(100).plot(subplots=True, kind='bar', figsize=[16,10], sharex=True)\n",
    "axs1[0].set_ylim(0,50)\n",
    "axs1[0].set_ylabel('Universities in top 200')\n",
    "axs1[1].set_ylim(100000,8000000)\n",
    "axs1[1].set_ylabel('Billions US$ invested in R&D')\n",
    "axs1[2].set_ylim(0, 500)\n",
    "axs1[2].set_ylabel('GDP US$')"
   ]
  },
  {
   "cell_type": "markdown",
   "metadata": {},
   "source": [
    "We decided to also do a more thorough analysis. As before we compute the correlation matrix and draw scatter plots."
   ]
  },
  {
   "cell_type": "code",
   "execution_count": null,
   "metadata": {},
   "outputs": [],
   "source": [
    "last_corr_df.corr()"
   ]
  },
  {
   "cell_type": "code",
   "execution_count": null,
   "metadata": {},
   "outputs": [],
   "source": [
    "fig, axes = plt.subplots(nrows=2, ncols=3, figsize=[16,10])\n",
    "\n",
    "last_corr_df.plot.scatter(ax=axes[0][0],x='GDP per country',y='Number of Universities per country')\n",
    "last_corr_df.plot.scatter(ax=axes[0][1],x='Billions of dollars invested in R&D',y='Number of Universities per country')\n",
    "last_corr_df.plot.scatter(ax=axes[0][2],x='GDP per country',y='Billions of dollars invested in R&D')\n",
    "\n",
    "last_corr_df.plot.scatter(ax=axes[1][0],x='GDP per-capita per country',y='Number of Universities per country')\n",
    "last_corr_df.plot.scatter(ax=axes[1][1],x='Dollars per-capita invested in R&D',y='Number of Universities per country')\n",
    "last_corr_df.plot.scatter(ax=axes[1][2], x='GDP per-capita per country',y='Dollars per-capita invested in R&D')"
   ]
  },
  {
   "cell_type": "markdown",
   "metadata": {},
   "source": [
    "*Interpretation:* To begin with, we consider the relationship between the number of Top 200 universities and the GDP per country. A strong positive linear relationship is given (rho = 0.7889) from which we might draw the conclusion that quality of universities increases with a country's wealth. However, the GPD per capita draws an entirely different picture. Considering this normalized indicator of a country's wealth it is clear that the number of Top 200 universities within a country is only mildly correlated with its wealth (rho = 0.2997).\n",
    "\n",
    "Next, we consider the relationship between the number of Top 200 universities and the R&D per country. A strong positive linear relationship is given (rho = 0.6846) from which we might draw the conclusion that quality of universities increases with a country's R&D expenses. However, again the R&D per capita draws an entirely different picture. Considering this normalized indicator of a country's R&D expenses it is clear that the number of Top 200 universities within a country is only mildly correlated with its wealth (rho = 0.2546). We therefore conclude that money invested or a countries wealth only mildly influence the universities' quality."
   ]
  },
  {
   "cell_type": "markdown",
   "metadata": {},
   "source": [
    "# Task 5 - Finding the best university "
   ]
  },
  {
   "cell_type": "markdown",
   "metadata": {},
   "source": [
    "### Looking at the criteria www.topuniversities.com use to rank the universities it is divided in this way :\n",
    "    1-Academic reputation (40%)\n",
    "    2-Employer reputation (10%)\n",
    "    3-Faculty/Student Ratio (20%)\n",
    "    4-Citations per faculty (20%)\n",
    "    5-International faculty ratio/International student ratio (5% each)"
   ]
  },
  {
   "cell_type": "markdown",
   "metadata": {},
   "source": [
    "### Looking at the criteria www.timeshighereducation.com use to rank the universities it is divided in this way :\n",
    "    1- Teaching - the learning environment (30%)\n",
    "        -Reputation Survey (15%)\n",
    "        -Staff to student ratio (4.5%)\n",
    "        -Doctorate-to-bachelor's ratio (2.25%)\n",
    "        -Doctorates awarded to academic staff ratio (6%)\n",
    "        -Institutional Income (2.25%)\n",
    "    2- Research - Volume, income, and reputation (30%)\n",
    "        -Reputation Survey (18%)\n",
    "        -Research income (6%)\n",
    "        -Research Productivity (6%)\n",
    "    3- Citations - research influence (30%)\n",
    "    4- International outlook (7.5%)\n",
    "        -International to domestic staff ratio (2.5%)\n",
    "        -International to domestic student ratio (2.5%)\n",
    "        -International collaboration (2.5%)\n",
    "    5- Industry income - Knowledge transfer ( 2.5% )"
   ]
  },
  {
   "cell_type": "code",
   "execution_count": null,
   "metadata": {},
   "outputs": [],
   "source": [
    "comp_df = df_merged.filter(['Rank TU','Rank THE','Country TU','Score TU','Scores overall THE','Title TU','Students total number THE','Students total number TU','International Students number TU','International Students number THE','Ratio Staff/Student THE','Ratio Staff/Student TU','Score research THE','Score teaching THE','Ratio Student/Staff THE'],axis=1)"
   ]
  },
  {
   "cell_type": "code",
   "execution_count": null,
   "metadata": {},
   "outputs": [],
   "source": [
    "comp_df.set_index('Title TU').head(6)"
   ]
  },
  {
   "cell_type": "markdown",
   "metadata": {
    "collapsed": true
   },
   "source": [
    "#### Excluding other universities the competition for the best university is between the 6 universities listed up, where both ranking systems show that they should be on top 6.\n",
    "#### Taking into consideration the criteria of ranking listed above, we can see that the TU ranking system contributes 60% of its total to Academic reputation + Citations per faculty, while THE ranking system contributes 90% of its total to Teaching + Research + Citation.\n",
    "#### Oxford University would be listed as the best university. Checking the dataframe above it is leading in research score and 3rd highest teaching score. Although the high number of students it still maintains the highest student/staff ratio between all of them.\n",
    "#### Oxford is also the most diverse w.r.t. gender with a  46:54 female to male ratio, and has the highest number of international students. The only reason why Oxford comes 6th in TU ranking system is due to the citation per faculty critereon and we find the division of the Research/Teaching/citation criteria is better constructed in the THE ranking system."
   ]
  }
 ],
 "metadata": {
  "kernelspec": {
   "display_name": "Python [default]",
   "language": "python",
   "name": "python3"
  },
  "language_info": {
   "codemirror_mode": {
    "name": "ipython",
    "version": 3
   },
   "file_extension": ".py",
   "mimetype": "text/x-python",
   "name": "python",
   "nbconvert_exporter": "python",
   "pygments_lexer": "ipython3",
   "version": "3.5.4"
  }
 },
 "nbformat": 4,
 "nbformat_minor": 1
}

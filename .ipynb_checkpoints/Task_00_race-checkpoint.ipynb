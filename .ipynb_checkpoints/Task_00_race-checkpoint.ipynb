{
 "cells": [
  {
   "cell_type": "code",
   "execution_count": 1,
   "metadata": {
    "collapsed": true
   },
   "outputs": [],
   "source": [
    "import json\n",
    "import collections\n",
    "import matplotlib.pyplot as plt\n",
    "import matplotlib\n",
    "import pandas as pd"
   ]
  },
  {
   "cell_type": "code",
   "execution_count": 2,
   "metadata": {
    "collapsed": true
   },
   "outputs": [],
   "source": [
    "matplotlib.style.use('ggplot')\n",
    "data = []\n",
    "with open('interactive_data.json') as data_file:\n",
    "    for line in data_file:\n",
    "        data.append(json.loads(line))"
   ]
  },
  {
   "cell_type": "code",
   "execution_count": 3,
   "metadata": {
    "collapsed": true
   },
   "outputs": [],
   "source": [
    "dataMap = collections.defaultdict(dict)\n",
    "dataMap['Black'] = 0\n",
    "dataMap['White'] = 0\n",
    "dataMap['Hispanic'] = 0\n",
    "dataMap['Asian/Pacific Islander'] = 0\n",
    "dataMap['Other'] = 0\n",
    "dataMap['Black 65+'] = 0\n",
    "dataMap['White 65+'] = 0\n",
    "dataMap['Hispanic 65+'] = 0\n",
    "dataMap['Asian/Pacific Islander 65+'] = 0\n",
    "dataMap['Other 65+'] = 0\n",
    "dataMap['Black 35-64'] = 0\n",
    "dataMap['White 35-64'] = 0\n",
    "dataMap['Hispanic 35-64'] = 0\n",
    "dataMap['Asian/Pacific Islander 35-64'] = 0\n",
    "dataMap['Other 35-64'] = 0\n",
    "dataMap['Black -35'] = 0\n",
    "dataMap['White -35'] = 0\n",
    "dataMap['Hispanic -35'] = 0\n",
    "dataMap['Asian/Pacific Islander -35'] = 0\n",
    "dataMap['Other -35'] = 0\n",
    "below_35 = ['Under 15','15 - 34','5']"
   ]
  },
  {
   "cell_type": "code",
   "execution_count": 4,
   "metadata": {
    "collapsed": true,
    "scrolled": true
   },
   "outputs": [],
   "source": [
    "for line in data:\n",
    "    # Total Race\n",
    "    \n",
    "    if line['Intent']=='None selected' and line['Gender']=='None selected' and line['Age']=='None selected' and line['Race']=='Black':\n",
    "        dataMap['Black']+=int(line['Deaths'])\n",
    "        \n",
    "    elif line['Intent']=='None selected' and line['Gender']=='None selected' and line['Age']=='None selected' and line['Race']=='White':\n",
    "        dataMap['White']+=int(line['Deaths'])\n",
    "        \n",
    "    elif line['Intent']=='None selected' and line['Gender']=='None selected' and line['Age']=='None selected' and line['Race']=='Hispanic':\n",
    "        dataMap['Hispanic']+=int(line['Deaths'])\n",
    "        \n",
    "    elif line['Intent']=='None selected' and line['Gender']=='None selected' and line['Age']=='None selected' and line['Race']=='Asian/Pacific Islander':\n",
    "        dataMap['Asian/Pacific Islander']+=int(line['Deaths'])\n",
    "        \n",
    "    elif line['Intent']=='None selected' and line['Gender']=='None selected' and line['Age']=='None selected' and line['Race']=='Other':\n",
    "        dataMap['Other']+=int(line['Deaths'])\n",
    "        \n",
    "    #Race 65+\n",
    "    if line['Intent']=='None selected' and line['Gender']=='None selected' and line['Age']=='65+' and line['Race']=='Black':\n",
    "        dataMap['Black 65+']+=int(line['Deaths'])\n",
    "        \n",
    "    elif line['Intent']=='None selected' and line['Gender']=='None selected' and line['Age']=='65+' and line['Race']=='White':\n",
    "        dataMap['White 65+']+=int(line['Deaths'])\n",
    "        \n",
    "    elif line['Intent']=='None selected' and line['Gender']=='None selected' and line['Age']=='65+' and line['Race']=='Hispanic':\n",
    "        dataMap['Hispanic 65+']+=int(line['Deaths'])\n",
    "        \n",
    "    elif line['Intent']=='None selected' and line['Gender']=='None selected' and line['Age']=='65+' and line['Race']=='Asian/Pacific Islander':\n",
    "        dataMap['Asian/Pacific Islander 65+']+=int(line['Deaths'])\n",
    "        \n",
    "    elif line['Intent']=='None selected' and line['Gender']=='None selected' and line['Age']=='65+' and line['Race']=='Other':\n",
    "        dataMap['Other 65+']+=int(line['Deaths'])\n",
    "    \n",
    "    #Race 35-64\n",
    "    if line['Intent']=='None selected' and line['Gender']=='None selected' and line['Age']=='35 - 64' and line['Race']=='Black':\n",
    "        dataMap['Black 35-64']+=int(line['Deaths'])\n",
    "        \n",
    "    elif line['Intent']=='None selected' and line['Gender']=='None selected' and line['Age']=='35 - 64' and line['Race']=='White':\n",
    "        dataMap['White 35-64']+=int(line['Deaths'])\n",
    "        \n",
    "    elif line['Intent']=='None selected' and line['Gender']=='None selected' and line['Age']=='35 - 64' and line['Race']=='Hispanic':\n",
    "        dataMap['Hispanic 35-64']+=int(line['Deaths'])\n",
    "        \n",
    "    elif line['Intent']=='None selected' and line['Gender']=='None selected' and line['Age']=='35 - 64' and line['Race']=='Asian/Pacific Islander':\n",
    "        dataMap['Asian/Pacific Islander 35-64']+=int(line['Deaths'])\n",
    "        \n",
    "    elif line['Intent']=='None selected' and line['Gender']=='None selected' and line['Age']=='35 - 64' and line['Race']=='Other':\n",
    "        dataMap['Other 35-64']+=int(line['Deaths'])\n",
    "        \n",
    "    #Race below 35\n",
    "    if line['Intent']=='None selected' and line['Gender']=='None selected' and line['Age'] in ['15 - 34','Under 15','5'] and line['Race']=='Black':\n",
    "        dataMap['Black -35']+=int(line['Deaths'])\n",
    "        \n",
    "    elif line['Intent']=='None selected' and line['Gender']=='None selected' and line['Age'] in ['15 - 34','Under 15','5'] and line['Race']=='White':\n",
    "        dataMap['White -35']+=int(line['Deaths'])\n",
    "        \n",
    "    elif line['Intent']=='None selected' and line['Gender']=='None selected' and line['Age'] in ['15 - 34','Under 15','5'] and line['Race']=='Hispanic':\n",
    "        dataMap['Hispanic -35']+=int(line['Deaths'])\n",
    "        \n",
    "    elif line['Intent']=='None selected' and line['Gender']=='None selected' and line['Age'] in ['15 - 34','Under 15','5'] and line['Race']=='Asian/Pacific Islander':\n",
    "        dataMap['Asian/Pacific Islander -35']+=int(line['Deaths'])\n",
    "        \n",
    "    elif line['Intent']=='None selected' and line['Gender']=='None selected' and line['Age'] in ['15 - 34','Under 15','5'] and line['Race']=='Other':\n",
    "        dataMap['Other -35']+=int(line['Deaths'])"
   ]
  },
  {
   "cell_type": "code",
   "execution_count": 5,
   "metadata": {},
   "outputs": [
    {
     "name": "stdout",
     "output_type": "stream",
     "text": [
      "Black : 7765\n",
      "White : 22079\n",
      "Hispanic Race: 3007\n",
      "Asian/Pacific Islander Race: 442\n",
      "Other races: 306\n"
     ]
    }
   ],
   "source": [
    "print(\"Black : \" + str(dataMap['Black']))\n",
    "print(\"White : \" + str(dataMap['White']))\n",
    "print(\"Hispanic Race: \" + str(dataMap['Hispanic']))\n",
    "print(\"Asian/Pacific Islander Race: \" + str(dataMap['Asian/Pacific Islander']))\n",
    "print(\"Other races: \" + str(dataMap['Other']))\n"
   ]
  },
  {
   "cell_type": "code",
   "execution_count": 6,
   "metadata": {
    "collapsed": true
   },
   "outputs": [],
   "source": [
    "graph = pd.DataFrame([[dataMap['Black'], dataMap['White'],dataMap['Hispanic'],dataMap['Asian/Pacific Islander'],dataMap['Other']],\n",
    "                     [dataMap['Black 65+'], dataMap['White 65+'],dataMap['Hispanic 65+'],dataMap['Asian/Pacific Islander 65+'],dataMap['Other 65+']],\n",
    "                     [dataMap['Black 35-64'], dataMap['White 35-64'],dataMap['Hispanic 35-64'],dataMap['Asian/Pacific Islander 35-64'],dataMap['Other 35-64']],\n",
    "                     [dataMap['Black -35'], dataMap['White -35'],dataMap['Hispanic -35'],dataMap['Asian/Pacific Islander -35'],dataMap['Other -35']]],\n",
    "                     columns=['Black','White','Hispanic','Asian/Pacific Islander','Other'])\n"
   ]
  },
  {
   "cell_type": "code",
   "execution_count": 7,
   "metadata": {
    "collapsed": true
   },
   "outputs": [],
   "source": [
    "xlabel=['Race','Race 65+','Race 35-64','Race -35']\n"
   ]
  },
  {
   "cell_type": "code",
   "execution_count": 8,
   "metadata": {},
   "outputs": [
    {
     "data": {
      "image/png": "[encoded data removed]",
      "text/plain": [
       "<matplotlib.figure.Figure at 0x10d3d7940>"
      ]
     },
     "metadata": {},
     "output_type": "display_data"
    }
   ],
   "source": [
    "bar_graph = graph.plot.bar(stacked=True)\n",
    "bar_graph.set_title('Death')\n",
    "bar_graph.set_xticklabels(xlabel,rotation=0)\n",
    "bar_graph.set_ylabel('Count')\n",
    "plt.show()\n",
    "\n"
   ]
  },
  {
   "cell_type": "code",
   "execution_count": null,
   "metadata": {
    "collapsed": true
   },
   "outputs": [],
   "source": []
  }
 ],
 "metadata": {
  "kernelspec": {
   "display_name": "Python 3",
   "language": "python",
   "name": "python3"
  },
  "language_info": {
   "codemirror_mode": {
    "name": "ipython",
    "version": 3
   },
   "file_extension": ".py",
   "mimetype": "text/x-python",
   "name": "python",
   "nbconvert_exporter": "python",
   "pygments_lexer": "ipython3",
   "version": "3.6.2"
  }
 },
 "nbformat": 4,
 "nbformat_minor": 2
}

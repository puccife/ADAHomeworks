{
 "cells": [
  {
   "cell_type": "code",
   "execution_count": 1,
   "metadata": {
    "collapsed": true
   },
   "outputs": [],
   "source": [
    "from __future__ import print_function\n",
    "from ipywidgets import interact, interactive, fixed, interact_manual\n",
    "import ipywidgets as widgets"
   ]
  },
  {
   "cell_type": "code",
   "execution_count": 156,
   "metadata": {},
   "outputs": [
    {
     "data": {
      "text/html": [
       "<script>requirejs.config({paths: { 'plotly': ['https://cdn.plot.ly/plotly-latest.min']},});if(!window.Plotly) {{require(['plotly'],function(plotly) {window.Plotly=plotly;});}}</script>"
      ],
      "text/vnd.plotly.v1+html": [
       "<script>requirejs.config({paths: { 'plotly': ['https://cdn.plot.ly/plotly-latest.min']},});if(!window.Plotly) {{require(['plotly'],function(plotly) {window.Plotly=plotly;});}}</script>"
      ]
     },
     "metadata": {},
     "output_type": "display_data"
    }
   ],
   "source": [
    "from plotly import __version__\n",
    "from plotly import tools\n",
    "import plotly.dashboard_objs as dashboard\n",
    "from plotly.offline import download_plotlyjs, init_notebook_mode, plot, iplot\n",
    "import plotly.graph_objs as go\n",
    "from plotly.graph_objs import *\n",
    "init_notebook_mode(connected=True)"
   ]
  },
  {
   "cell_type": "code",
   "execution_count": 3,
   "metadata": {
    "collapsed": true
   },
   "outputs": [],
   "source": [
    "import os\n",
    "import pandas as pd\n",
    "import json\n",
    "import folium\n",
    "import re\n",
    "import shutil\n",
    "import json\n",
    "from colour import Color\n",
    "from numpy import interp\n",
    "from geopy.geocoders import Nominatim\n",
    "from folium.plugins import MarkerCluster\n",
    "from folium import FeatureGroup, LayerControl, Map, Marker\n",
    "from folium.plugins.measure_control import MeasureControl\n",
    "from folium import plugins\n",
    "import branca\n",
    "import matplotlib.image as mpimg\n",
    "from IPython.display import IFrame\n",
    "import requests\n",
    "import matplotlib.pyplot as plt"
   ]
  },
  {
   "cell_type": "code",
   "execution_count": 4,
   "metadata": {
    "collapsed": true
   },
   "outputs": [],
   "source": [
    "def buildJsonAPI(url):\n",
    "    restcountries = {}\n",
    "    nametoid = {}\n",
    "    response = requests.get(url)\n",
    "    for json_country in response.json():\n",
    "        try:\n",
    "            code = int(json_country['numericCode'])\n",
    "            restcountries[code] = {}\n",
    "            restcountries[code]['name'] = json_country['name']\n",
    "            restcountries[code]['latlng'] = json_country['latlng']\n",
    "            restcountries[code]['name'] = json_country['name']\n",
    "            restcountries[code]['alpha3Code'] = json_country['alpha3Code']\n",
    "            nametoid[json_country['name']] = code\n",
    "        except:\n",
    "            print(json_country['name'] + \" has problem with numeric code \" + str(json_country['numericCode']))\n",
    "    return restcountries, nametoid"
   ]
  },
  {
   "cell_type": "code",
   "execution_count": 5,
   "metadata": {
    "collapsed": true
   },
   "outputs": [],
   "source": [
    "def parseCountries(active_flows):\n",
    "    cols=[i for i in actives_flows.columns if i not in [\"Country_name\"]]\n",
    "    for col in cols:\n",
    "        actives_flows[col]=pd.to_numeric(actives_flows[col],errors='coerce')\n",
    "    return active_flows"
   ]
  },
  {
   "cell_type": "code",
   "execution_count": 6,
   "metadata": {
    "collapsed": true
   },
   "outputs": [],
   "source": [
    "def addDetails(actives_flows_by_country2):\n",
    "    actives_flows_by_country = actives_flows_by_country2.copy()\n",
    "    for i, row in actives_flows_by_country.iterrows():\n",
    "        actives_flows_by_country.loc[i, 'CODE'] = restcountries[int(row['Country'])]['alpha3Code']\n",
    "        actives_flows_by_country.loc[i, 'Name'] = restcountries[int(row['Country'])]['name']\n",
    "    return actives_flows_by_country"
   ]
  },
  {
   "cell_type": "code",
   "execution_count": 7,
   "metadata": {
    "collapsed": true
   },
   "outputs": [],
   "source": [
    "def getNewBoundedMap():\n",
    "    min_lon, max_lon = -180, 180\n",
    "    min_lat, max_lat = -90, 90\n",
    "    return folium.Map([46.8,8], \n",
    "                       tiles='Stamen Terrain',\n",
    "                       zoom_start=1.5, \n",
    "                       max_bounds=True,\n",
    "                       min_lat=min_lat,\n",
    "                       max_lat=max_lat,\n",
    "                       min_lon=min_lon,\n",
    "                       max_lon=max_lon)"
   ]
  },
  {
   "cell_type": "code",
   "execution_count": 8,
   "metadata": {
    "collapsed": true
   },
   "outputs": [],
   "source": [
    "def addCloropleth(dataframe, map_, feature, legend_name, key, scale_color,json_data,object_):\n",
    "    map_.choropleth(geo_data=json_data,\n",
    "                    data=dataframe,\n",
    "                    columns=[key, feature],\n",
    "                    key_on='feature.id',\n",
    "                    threshold_scale=[100, 500, 1000, 5000, 10000, 40000],\n",
    "                    fill_color=scale_color,\n",
    "                    fill_opacity=0.7, \n",
    "                    line_opacity=0.5,\n",
    "                    highlight=True,\n",
    "                    legend_name=legend_name, \n",
    "                    topojson = object_)"
   ]
  },
  {
   "cell_type": "code",
   "execution_count": 9,
   "metadata": {
    "collapsed": true
   },
   "outputs": [],
   "source": [
    "def getData(dataframe, year):\n",
    "    data = [ dict(\n",
    "        type = 'choropleth',\n",
    "        locations = dataframe['CODE'],\n",
    "        z = dataframe[str(year)],\n",
    "        text = dataframe['Name'],\n",
    "        colorscale = [[0,\"rgb(5, 10, 172)\"],[0.35,\"rgb(40, 60, 190)\"],[0.5,\"rgb(70, 100, 245)\"],\\\n",
    "            [0.6,\"rgb(90, 120, 245)\"],[0.7,\"rgb(106, 137, 247)\"],[1,\"rgb(220, 220, 220)\"]],\n",
    "        autocolorscale = False,\n",
    "        reversescale = True,\n",
    "        marker = dict(\n",
    "            line = dict (\n",
    "                color = 'rgb(180,180,180)',\n",
    "                width = 0.5\n",
    "            ) ),\n",
    "        colorbar = dict(\n",
    "            autotick = False,\n",
    "            tickprefix = '$',\n",
    "            title = 'Active offshores per country<br>In ' + str(year)),\n",
    "      ) ]\n",
    "    return data"
   ]
  },
  {
   "cell_type": "code",
   "execution_count": 208,
   "metadata": {
    "collapsed": true
   },
   "outputs": [],
   "source": [
    "def getLayout():\n",
    "    layout = dict(\n",
    "        title = 'Active offshores per country <br> <br> Source:\\\n",
    "                <a href=\"https://www.icij.org/\">\\\n",
    "                International Consortium of Investigative Journalists</a>',\n",
    "        geo = dict(\n",
    "            projection = dict(\n",
    "                type = 'Mercator'\n",
    "            ),\n",
    "            resolution='50',\n",
    "        )\n",
    "    )\n",
    "    return layout"
   ]
  },
  {
   "cell_type": "code",
   "execution_count": 209,
   "metadata": {},
   "outputs": [],
   "source": [
    "def visualizeFlowByCountry(country, year):\n",
    "    name = country\n",
    "    country_df = actives_flows[actives_flows['Country'] == nametoid[country]]\n",
    "    total_offshores = 0\n",
    "    labels = []\n",
    "    values = []\n",
    "    flows_path = []\n",
    "    max_value = country_df[str(year)].max()\n",
    "    for i, row in country_df.iterrows():\n",
    "        if not pd.isnull(row['Country']) and not pd.isnull(row['jurisdiction']) and not pd.isnull(row[str(year)]):\n",
    "            coord = [restcountries[int(row['Country'])]['latlng'], restcountries[int(row['jurisdiction'])]['latlng']]\n",
    "            total_offshores = total_offshores + row[str(year)]\n",
    "            labels.append(restcountries[int(row['jurisdiction'])]['name'])\n",
    "            values.append(row[str(year)])\n",
    "            flows_path.append(\n",
    "                    dict(\n",
    "                        type = 'scattergeo',\n",
    "                        lon = [ coord[0][1], coord[1][1] ],\n",
    "                        lat = [ coord[0][0], coord[1][0] ],\n",
    "                        mode = 'lines',\n",
    "                        line = dict(\n",
    "                            width = 1,\n",
    "                            color = 'red',\n",
    "                        ),\n",
    "                        opacity = max(float(row[str(year)] / max_value), 0.3),\n",
    "                        showlegend = False,\n",
    "                        name=restcountries[int(row['jurisdiction'])]['name'],\n",
    "                    )\n",
    "                )\n",
    "\n",
    "    fig = dict( data=flows_path + getData(actives_flows_by_country, year), layout=getLayout() )\n",
    "    iplot( fig, validate=False, filename='d3-world-map.html')\n",
    "    trace = go.Pie(labels=labels, \n",
    "                   values=values,\n",
    "                  textfont=dict(size=20),)\n",
    "    iplot([trace], filename='basic_pie_chart.html')\n",
    "    #data = Data([flows_path + getData(actives_flows_by_country, year), trace])\n",
    "    #figure = Figure(data=data, layout=getLayout())\n",
    "    print(\"Total offshores in \" + str(year) + \" = \" + str(total_offshores))"
   ]
  },
  {
   "cell_type": "code",
   "execution_count": 210,
   "metadata": {
    "collapsed": true
   },
   "outputs": [],
   "source": [
    "def fileId_from_url(url_x):\n",
    "    \"\"\"Return fileId from a url.\"\"\"\n",
    "    raw_fileId = re.findall(\"~[A-z]+/[0-9]+\", url_x)[0][1: ]\n",
    "    return raw_fileId.replace('/', ':')"
   ]
  },
  {
   "cell_type": "markdown",
   "metadata": {},
   "source": [
    "## Countries that we want to analyze"
   ]
  },
  {
   "cell_type": "code",
   "execution_count": 211,
   "metadata": {
    "collapsed": true
   },
   "outputs": [],
   "source": [
    "countries = [\n",
    "    'Switzerland', \n",
    "    'Hong Kong', \n",
    "    'China', \n",
    "    'Russian Federation', \n",
    "    'United States of America',\n",
    "    'Bahamas',\n",
    "    'Luxembourg'\n",
    "]"
   ]
  },
  {
   "cell_type": "code",
   "execution_count": 212,
   "metadata": {
    "collapsed": true
   },
   "outputs": [],
   "source": [
    "url = 'https://restcountries.eu/rest/v2/'"
   ]
  },
  {
   "cell_type": "code",
   "execution_count": 213,
   "metadata": {
    "collapsed": true
   },
   "outputs": [],
   "source": [
    "actives_path = r'csv/cash_flows_actives.csv'\n",
    "world_topojson_path = r'json/world-50m.json'"
   ]
  },
  {
   "cell_type": "code",
   "execution_count": 214,
   "metadata": {},
   "outputs": [
    {
     "name": "stdout",
     "output_type": "stream",
     "text": [
      "Republic of Kosovo has problem with numeric code None\n"
     ]
    }
   ],
   "source": [
    "restcountries, nametoid = buildJsonAPI(url)"
   ]
  },
  {
   "cell_type": "code",
   "execution_count": 215,
   "metadata": {
    "collapsed": true
   },
   "outputs": [],
   "source": [
    "actives_flows = pd.read_csv(actives_path,low_memory=False)\n",
    "world_topojson = json.load(open(world_topojson_path))"
   ]
  },
  {
   "cell_type": "code",
   "execution_count": 216,
   "metadata": {
    "collapsed": true
   },
   "outputs": [],
   "source": [
    "actives_flows = parseCountries(actives_flows)"
   ]
  },
  {
   "cell_type": "code",
   "execution_count": 217,
   "metadata": {
    "collapsed": true
   },
   "outputs": [],
   "source": [
    "actives_flows_by_country = actives_flows.groupby('Country').sum().reset_index()\n",
    "actives_flows_by_country = addDetails(actives_flows_by_country)"
   ]
  },
  {
   "cell_type": "code",
   "execution_count": 218,
   "metadata": {
    "scrolled": false
   },
   "outputs": [
    {
     "data": {
      "application/vnd.jupyter.widget-view+json": {
       "model_id": "f9f9df3123b84a1daae20bdb2d8414f6",
       "version_major": 2,
       "version_minor": 0
      },
      "text/plain": [
       "A Jupyter Widget"
      ]
     },
     "metadata": {},
     "output_type": "display_data"
    }
   ],
   "source": [
    "interactive(visualizeFlowByCountry, country=countries, year=(1950, 2016, 1))"
   ]
  },
  {
   "cell_type": "markdown",
   "metadata": {},
   "source": [
    "## Observations\n",
    "\n",
    "### After the leaks\n",
    "We can state that after the leakage, the majority of the most involved countries stopped investing in the jurisdiction of Panama, which in the last years has encountered an increasing number of inactivations.\n",
    "On the countrary, the British overseas territories has encountered an increasing number of incorporations.\n",
    "\n",
    "The #PanamaPapers scandals made a lot of countries close their offshore.\n",
    "This lead us to investigate in which are the factors that mostly concurred in this reaction, but what are the differences between each jurisdiction.\n",
    "\n",
    "We will, in parallel with the 1 Research Question, investigate the differences between the most important jurisdiction. To this purpose we will use the **FINANCIAL SECRECY INDEX**"
   ]
  },
  {
   "cell_type": "code",
   "execution_count": null,
   "metadata": {
    "collapsed": true
   },
   "outputs": [],
   "source": []
  }
 ],
 "metadata": {
  "kernelspec": {
   "display_name": "Python 3",
   "language": "python",
   "name": "python3"
  },
  "language_info": {
   "codemirror_mode": {
    "name": "ipython",
    "version": 3
   },
   "file_extension": ".py",
   "mimetype": "text/x-python",
   "name": "python",
   "nbconvert_exporter": "python",
   "pygments_lexer": "ipython3",
   "version": "3.6.2"
  }
 },
 "nbformat": 4,
 "nbformat_minor": 2
}

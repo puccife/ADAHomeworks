{
 "cells": [
  {
   "cell_type": "markdown",
   "metadata": {},
   "source": [
    "# `Inside the Offshores leak`\n",
    "`Panama Papers as you have never seen it`\n",
    "***\n"
   ]
  },
  {
   "cell_type": "markdown",
   "metadata": {},
   "source": [
    "# Research Question 4\n",
    "> ##### There is a hypothesis that scandals involving tax havens actually help to promote creating offshores there. \n",
    "See for example [International Strategic Analysis](http://www.isa-world.com/news/?tx_ttnews%5BbackPid%5D=1&tx_ttnews%5Btt_news%5D=198&cHash=10b412a7de63d3b2a02adf0d120a09f6). Can we find evidence for this in the data?"
   ]
  },
  {
   "cell_type": "markdown",
   "metadata": {},
   "source": [
    "## Most important leaks\n",
    "Here is a list of the most important leaks documented by the International Consortium of Investigative Journalists [ICIJ](https://offshoreleaks.icij.org/)\n",
    "- ##### Bahamas Leak \n",
    "April 2, 2013\n",
    "None got scared [Best year =  2010]\n",
    "- ##### China Leak ⭐️\n",
    "January 21, 2014\n",
    "More offshores [Seyschelles - Samoa - British Virgin Islands - British Anguila] \n",
    "- ##### Lux Leak \n",
    "December 9, 2014\n",
    "None got scared [Best year =  2007]\n",
    "- ##### Swiss Leak \n",
    "February 8, 2015 \n",
    "None got scared [Best year =  2007]\n",
    "- ##### Panama Leak\n",
    "April 3, 2016 "
   ]
  },
  {
   "cell_type": "markdown",
   "metadata": {},
   "source": [
    "### Importing libs\n",
    "___"
   ]
  },
  {
   "cell_type": "code",
   "execution_count": 1,
   "metadata": {
    "collapsed": true
   },
   "outputs": [],
   "source": [
    "import pandas as pd\n",
    "import numpy as np\n",
    "import matplotlib.pyplot as plt\n",
    "import seaborn as sns\n",
    "import requests\n",
    "%matplotlib inline\n",
    "from bs4 import BeautifulSoup\n",
    "import folium\n",
    "import json\n",
    "import dateutil.parser\n",
    "import datetime as dt\n",
    "from datetime import datetime\n",
    "from scipy.interpolate import interp1d"
   ]
  },
  {
   "cell_type": "markdown",
   "metadata": {},
   "source": [
    "### Loading csv files"
   ]
  },
  {
   "cell_type": "code",
   "execution_count": 2,
   "metadata": {
    "collapsed": true,
    "scrolled": false
   },
   "outputs": [],
   "source": [
    "entities = r'./panama_csv/Entities.csv'\n",
    "entities = pd.read_csv(entities,index_col='name', header=0, low_memory=False)\n",
    "entities=entities.rename(columns = {'countries':'Country'})"
   ]
  },
  {
   "cell_type": "markdown",
   "metadata": {},
   "source": [
    "### Parsing dates function\n",
    "In this function we parse all the dates in a standard format using **dateutil library**"
   ]
  },
  {
   "cell_type": "code",
   "execution_count": 3,
   "metadata": {
    "collapsed": true
   },
   "outputs": [],
   "source": [
    "def is_date_before(date_, div_date):\n",
    "    return date_ <= div_date\n",
    "\n",
    "def categorize_leak(row, event, delimiter, lower_date, upper_date):\n",
    "    if isinstance(row[event], pd.Timestamp): \n",
    "        date = row[event].to_pydatetime()\n",
    "    else:\n",
    "        return np.nan\n",
    "    if(is_date_before(date, lower_date)):\n",
    "        return np.nan\n",
    "    elif(is_date_before(upper_date, date)):\n",
    "        return np.nan\n",
    "    elif(is_date_before(date, delimiter)):\n",
    "        return True\n",
    "    else:\n",
    "        return False\n",
    "\n",
    "def parse_year_of_date(row, column, from_year, to_year):\n",
    "    if isinstance(row[column], str):\n",
    "        date = dateutil.parser.parse(row[column])\n",
    "        if date.year <= to_year and date.year >= from_year:\n",
    "            return date.year #.strftime('%Y-%m')\n",
    "        else:\n",
    "            return np.nan\n",
    "    else:\n",
    "        return np.nan    \n",
    "    \n",
    "def parse_dates(dataframe, from_year, to_year): #leak_data, bounded_data_bottom, bounded_data_up\n",
    "    date_events = [[\"incorporation_date\",\"incorporation_before_leak\"],\n",
    "                   [\"inactivation_date\",\"inactivation_before_leak\"], \n",
    "                   [\"struck_off_date\",\"struck_off_before_leak\"],\n",
    "                   [\"dorm_date\", \"dorm_date_before_leak\"]]\n",
    "    for date_event in date_events:\n",
    "        dataframe[date_event[0]] = dataframe.apply(lambda row: parse_year_of_date(row,date_event[0], from_year, to_year), axis=1) \n",
    "    return dataframe"
   ]
  },
  {
   "cell_type": "markdown",
   "metadata": {},
   "source": [
    "### Create plot visualization\n",
    "___"
   ]
  },
  {
   "cell_type": "code",
   "execution_count": 4,
   "metadata": {
    "collapsed": true
   },
   "outputs": [],
   "source": [
    "#Import new style\n",
    "plt.style.use('bmh')"
   ]
  },
  {
   "cell_type": "code",
   "execution_count": 14,
   "metadata": {
    "collapsed": true
   },
   "outputs": [],
   "source": [
    "def visualize_countries_situation(most_involved_leak, divide_by='Country', selected_jurisdiction=None):\n",
    "    \n",
    "    if(selected_jurisdiction != None):\n",
    "        leaks = []\n",
    "        for country in most_involved_leak:\n",
    "            leak = country.copy()\n",
    "            leak = leak.reset_index()\n",
    "            leak = leak[leak['jurisdiction'] == selected_jurisdiction]\n",
    "            leaks.append(leak)\n",
    "    else:\n",
    "        leaks = most_involved_leak\n",
    "    for index_, country_result in enumerate(leaks):     \n",
    "        sns.factorplot(x='date', \n",
    "                   y='offshores', \n",
    "                   row=divide_by, \n",
    "                   data=country_result, \n",
    "                   hue='action',\n",
    "                   kind='bar', \n",
    "                   #palette={'incorporations':'green','inactivations':'red','strucks':'black', 'active offshores':'blue'},\n",
    "                   sharey=True, \n",
    "                   sharex=False,\n",
    "                   size=4,\n",
    "                   aspect=4)"
   ]
  },
  {
   "cell_type": "markdown",
   "metadata": {},
   "source": [
    "### Process Entities dataframe\n",
    "___"
   ]
  },
  {
   "cell_type": "code",
   "execution_count": 6,
   "metadata": {
    "collapsed": true
   },
   "outputs": [],
   "source": [
    "def process_countries(first_involved_countries, analisys_on='jurisdiction', from_year=1990, to_year=2017):\n",
    "    most_involved_leak = []\n",
    "    for index, involved_country in enumerate(first_involved_countries):\n",
    "        testing_entities = entities.copy()\n",
    "        involved_leak = testing_entities[testing_entities['Country'].isin([involved_country])].copy()\n",
    "        involved_leak = parse_dates(involved_leak, from_year, to_year)\n",
    "        total_incorporation = involved_leak.groupby(['Country','jurisdiction_description', 'incorporation_date']).count()\n",
    "        total_inactivation = involved_leak.groupby(['Country','jurisdiction_description', 'inactivation_date']).count()\n",
    "        total_struck = involved_leak.groupby(['Country','jurisdiction_description', 'struck_off_date']).count()\n",
    "        incorporation = total_incorporation.reset_index().rename(columns={'incorporation_date': 'date', 'node_id': 'incorporations'}).set_index(['Country','jurisdiction_description','date'])\n",
    "        inactivation = total_inactivation.reset_index().rename(columns={'inactivation_date': 'date', 'node_id': 'inactivations'}).set_index(['Country','jurisdiction_description','date'])\n",
    "        struck = total_struck.reset_index().rename(columns={'struck_off_date': 'date', 'node_id': 'strucks'}).set_index(['Country','jurisdiction_description','date'])\n",
    "        incorporation = incorporation.loc[:, ['incorporations']]\n",
    "        inactivation = inactivation.loc[:, ['inactivations']]\n",
    "        struck = struck.loc[:, ['strucks']]\n",
    "        country_res = pd.merge(incorporation.reset_index(),\n",
    "                                           inactivation.reset_index(), \n",
    "                                           on=['Country','jurisdiction_description', 'date'],\n",
    "                                           how='outer').set_index(['Country','jurisdiction_description','date'])\n",
    "        country_res = pd.merge(country_res.reset_index(),\n",
    "                                           struck.reset_index(), \n",
    "                                           on=['Country','jurisdiction_description', 'date'],\n",
    "                                           how='outer').set_index(['Country','jurisdiction_description','date'])\n",
    "        involved = involved_leak.copy()\n",
    "        for index, row in country_res.iterrows():\n",
    "            number_of_offshores = involved[\n",
    "                ((involved['inactivation_date'] > int(index[2])) | \n",
    "                (pd.isnull(involved['inactivation_date']))) &\n",
    "                (involved['incorporation_date'] <= int(index[2])) & \n",
    "                (involved['Country'] == index[0]) &\n",
    "                (involved['jurisdiction_description'] == index[1])].count()['node_id'] \n",
    "            country_res.loc[index, 'active offshores'] = number_of_offshores \n",
    "        country_result = country_res.loc[:, ['incorporations','inactivations','active offshores','strucks']]\n",
    "        country_result = country_result.reset_index()\n",
    "        country_result = country_result.set_index(['Country','jurisdiction_description','date'])\n",
    "        country_result = pd.DataFrame(country_result.stack())\n",
    "        country_result = country_result.reset_index()\n",
    "        country_result = country_result.rename(columns={'level_3': 'action', 0: 'offshores', 'jurisdiction_description':'jurisdiction'})\n",
    "        country_result[\"date\"] = country_result[\"date\"].astype(int)\n",
    "        most_involved_leak.append(country_result.set_index(analisys_on))\n",
    "    return most_involved_leak"
   ]
  },
  {
   "cell_type": "markdown",
   "metadata": {},
   "source": [
    "### Analysis on jurisdictions and the most involved countries\n",
    "___"
   ]
  },
  {
   "cell_type": "code",
   "execution_count": null,
   "metadata": {
    "scrolled": false
   },
   "outputs": [],
   "source": [
    "most_involved_countries = ['Switzerland', 'Hong Kong', 'Panama', 'Jersey', 'Luxembourg', 'United Kingdom',\n",
    "                          'Guernsey', 'United Arab Emirates', 'Bahamas', 'Uruguay','Isle of Man', 'Russia',\n",
    "                          'Singapore', 'China','United States','Monaco', 'Italy']\n",
    "\n",
    "first_involved_countries = [\n",
    "                            'Switzerland', 'Hong Kong', 'China', 'Luxembourg',\n",
    "                           ]\n",
    "all_countries = entities.groupby('Country').count().index\n",
    "countries_frame = process_countries(first_involved_countries, analisys_on='jurisdiction', from_year=1980, to_year=2016)"
   ]
  },
  {
   "cell_type": "code",
   "execution_count": null,
   "metadata": {},
   "outputs": [],
   "source": [
    "visualize_countries_situation(countries_frame, divide_by='Country')"
   ]
  },
  {
   "cell_type": "markdown",
   "metadata": {},
   "source": [
    "### Analysis on each Country over the jurisdictions\n",
    "___"
   ]
  },
  {
   "cell_type": "code",
   "execution_count": null,
   "metadata": {},
   "outputs": [],
   "source": [
    "visualize_countries_situation(countries_frame, divide_by='Country',selected_jurisdiction='British Virgin Islands')"
   ]
  },
  {
   "cell_type": "code",
   "execution_count": null,
   "metadata": {},
   "outputs": [],
   "source": [
    "visualize_countries_situation(countries_frame, divide_by='Country',selected_jurisdiction='Panama')"
   ]
  },
  {
   "cell_type": "markdown",
   "metadata": {},
   "source": [
    "### How much money do you need in order to make an offshore account worthwhile?\n",
    "\n",
    "Just because offshore accounts can be lucrative for the rich doesn’t mean they would be beneficial to everyone. The majority of Canadians don’t even reach the maximum contribution levels for their Tax Free Savings Accounts. \n",
    "\n",
    "> You really have to have accumulated capital that you’re investing, so you’re earning investment income. Most middle-income people don’t have investment income.\n",
    "\n",
    "Even a physician or lawyer making upwards of \\$250,000 probably still isn’t earning enough for an offshore account to be worthwhile, he says, especially after accounting for the legal and accounting costs in Canada, plus paying the foreign jurisdictions to set up the account.\n",
    "\n",
    "> It’s worth it if you’ve accumulated family wealth—in the \\$5 million-plus range and you’re earning five per cent or more per year.\n",
    "\n",
    "Which is exactly why he says people have the right to be angry about such offshore accounts. \n",
    "\n",
    "> It’s a two-tiered system, but it’s not transparent. We don’t say ‘If you have $5 million a year, your tax rate is lower than everyone else’s’. That’d be completely unfair. People would be outraged. Yet here’s a non-transparent way for you to get the same result."
   ]
  }
 ],
 "metadata": {
  "kernelspec": {
   "display_name": "Python 3",
   "language": "python",
   "name": "python3"
  },
  "language_info": {
   "codemirror_mode": {
    "name": "ipython",
    "version": 3
   },
   "file_extension": ".py",
   "mimetype": "text/x-python",
   "name": "python",
   "nbconvert_exporter": "python",
   "pygments_lexer": "ipython3",
   "version": "3.6.2"
  }
 },
 "nbformat": 4,
 "nbformat_minor": 1
}

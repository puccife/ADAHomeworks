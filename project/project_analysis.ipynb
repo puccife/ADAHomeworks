{
 "cells": [
  {
   "cell_type": "markdown",
   "metadata": {},
   "source": [
    "# Homework 2 - Top Universities world ranking"
   ]
  },
  {
   "cell_type": "markdown",
   "metadata": {},
   "source": [
    "# Task 1"
   ]
  },
  {
   "cell_type": "markdown",
   "metadata": {},
   "source": [
    "### Importing libs"
   ]
  },
  {
   "cell_type": "code",
   "execution_count": 1,
   "metadata": {
    "collapsed": true
   },
   "outputs": [],
   "source": [
    "import pandas as pd\n",
    "import numpy as np\n",
    "%matplotlib inline\n",
    "import matplotlib.pyplot as plt\n",
    "\n",
    "import requests\n",
    "from bs4 import BeautifulSoup\n",
    "\n",
    "import json"
   ]
  },
  {
   "cell_type": "markdown",
   "metadata": {},
   "source": [
    "# Extracting data from the website"
   ]
  },
  {
   "cell_type": "code",
   "execution_count": 2,
   "metadata": {
    "scrolled": false
   },
   "outputs": [],
   "source": [
    "ged_path = r'./ged171.csv'\n",
    "df = pd.read_csv(ged_path,index_col='id', header=0)"
   ]
  },
  {
   "cell_type": "code",
   "execution_count": 20,
   "metadata": {},
   "outputs": [
    {
     "data": {
      "text/plain": [
       "['year',\n",
       " 'active_year',\n",
       " 'type_of_violence',\n",
       " 'conflict_new_id',\n",
       " 'conflict_name',\n",
       " 'dyad_new_id',\n",
       " 'dyad_name',\n",
       " 'side_a_new_id',\n",
       " 'gwnoa',\n",
       " 'side_a',\n",
       " 'side_b_new_id',\n",
       " 'gwnob',\n",
       " 'side_b',\n",
       " 'number_of_sources',\n",
       " 'source_article',\n",
       " 'source_office',\n",
       " 'source_date',\n",
       " 'source_headline',\n",
       " 'source_original',\n",
       " 'where_prec',\n",
       " 'where_coordinates',\n",
       " 'adm_1',\n",
       " 'adm_2',\n",
       " 'latitude',\n",
       " 'longitude',\n",
       " 'geom_wkt',\n",
       " 'priogrid_gid',\n",
       " 'country',\n",
       " 'country_id',\n",
       " 'region',\n",
       " 'event_clarity',\n",
       " 'date_prec',\n",
       " 'date_start',\n",
       " 'date_end',\n",
       " 'deaths_a',\n",
       " 'deaths_b',\n",
       " 'deaths_civilians',\n",
       " 'deaths_unknown',\n",
       " 'best',\n",
       " 'low',\n",
       " 'high']"
      ]
     },
     "execution_count": 20,
     "metadata": {},
     "output_type": "execute_result"
    }
   ],
   "source": [
    "list(df.columns.values)"
   ]
  },
  {
   "cell_type": "code",
   "execution_count": 29,
   "metadata": {},
   "outputs": [
    {
     "data": {
      "text/html": [
       "<div>\n",
       "<style>\n",
       "    .dataframe thead tr:only-child th {\n",
       "        text-align: right;\n",
       "    }\n",
       "\n",
       "    .dataframe thead th {\n",
       "        text-align: left;\n",
       "    }\n",
       "\n",
       "    .dataframe tbody tr th {\n",
       "        vertical-align: top;\n",
       "    }\n",
       "</style>\n",
       "<table border=\"1\" class=\"dataframe\">\n",
       "  <thead>\n",
       "    <tr style=\"text-align: right;\">\n",
       "      <th></th>\n",
       "      <th>year</th>\n",
       "      <th>active_year</th>\n",
       "      <th>type_of_violence</th>\n",
       "      <th>conflict_new_id</th>\n",
       "      <th>conflict_name</th>\n",
       "      <th>dyad_new_id</th>\n",
       "      <th>dyad_name</th>\n",
       "      <th>side_a_new_id</th>\n",
       "      <th>gwnoa</th>\n",
       "      <th>side_a</th>\n",
       "      <th>...</th>\n",
       "      <th>date_prec</th>\n",
       "      <th>date_start</th>\n",
       "      <th>date_end</th>\n",
       "      <th>deaths_a</th>\n",
       "      <th>deaths_b</th>\n",
       "      <th>deaths_civilians</th>\n",
       "      <th>deaths_unknown</th>\n",
       "      <th>best</th>\n",
       "      <th>low</th>\n",
       "      <th>high</th>\n",
       "    </tr>\n",
       "    <tr>\n",
       "      <th>event_clarity</th>\n",
       "      <th></th>\n",
       "      <th></th>\n",
       "      <th></th>\n",
       "      <th></th>\n",
       "      <th></th>\n",
       "      <th></th>\n",
       "      <th></th>\n",
       "      <th></th>\n",
       "      <th></th>\n",
       "      <th></th>\n",
       "      <th></th>\n",
       "      <th></th>\n",
       "      <th></th>\n",
       "      <th></th>\n",
       "      <th></th>\n",
       "      <th></th>\n",
       "      <th></th>\n",
       "      <th></th>\n",
       "      <th></th>\n",
       "      <th></th>\n",
       "      <th></th>\n",
       "    </tr>\n",
       "  </thead>\n",
       "  <tbody>\n",
       "    <tr>\n",
       "      <th>1</th>\n",
       "      <td>122442</td>\n",
       "      <td>122442</td>\n",
       "      <td>122442</td>\n",
       "      <td>122442</td>\n",
       "      <td>122442</td>\n",
       "      <td>122442</td>\n",
       "      <td>122442</td>\n",
       "      <td>122442</td>\n",
       "      <td>94228</td>\n",
       "      <td>122442</td>\n",
       "      <td>...</td>\n",
       "      <td>122442</td>\n",
       "      <td>122442</td>\n",
       "      <td>122442</td>\n",
       "      <td>122442</td>\n",
       "      <td>122442</td>\n",
       "      <td>122442</td>\n",
       "      <td>122442</td>\n",
       "      <td>122442</td>\n",
       "      <td>122442</td>\n",
       "      <td>122442</td>\n",
       "    </tr>\n",
       "    <tr>\n",
       "      <th>2</th>\n",
       "      <td>12713</td>\n",
       "      <td>12713</td>\n",
       "      <td>12713</td>\n",
       "      <td>12713</td>\n",
       "      <td>12713</td>\n",
       "      <td>12713</td>\n",
       "      <td>12713</td>\n",
       "      <td>12713</td>\n",
       "      <td>10204</td>\n",
       "      <td>12713</td>\n",
       "      <td>...</td>\n",
       "      <td>12713</td>\n",
       "      <td>12713</td>\n",
       "      <td>12713</td>\n",
       "      <td>12713</td>\n",
       "      <td>12713</td>\n",
       "      <td>12713</td>\n",
       "      <td>12713</td>\n",
       "      <td>12713</td>\n",
       "      <td>12713</td>\n",
       "      <td>12713</td>\n",
       "    </tr>\n",
       "    <tr>\n",
       "      <th>3</th>\n",
       "      <td>26</td>\n",
       "      <td>26</td>\n",
       "      <td>26</td>\n",
       "      <td>26</td>\n",
       "      <td>26</td>\n",
       "      <td>26</td>\n",
       "      <td>26</td>\n",
       "      <td>26</td>\n",
       "      <td>23</td>\n",
       "      <td>26</td>\n",
       "      <td>...</td>\n",
       "      <td>26</td>\n",
       "      <td>26</td>\n",
       "      <td>26</td>\n",
       "      <td>26</td>\n",
       "      <td>26</td>\n",
       "      <td>26</td>\n",
       "      <td>26</td>\n",
       "      <td>26</td>\n",
       "      <td>26</td>\n",
       "      <td>26</td>\n",
       "    </tr>\n",
       "  </tbody>\n",
       "</table>\n",
       "<p>3 rows × 40 columns</p>\n",
       "</div>"
      ],
      "text/plain": [
       "                 year  active_year  type_of_violence  conflict_new_id  \\\n",
       "event_clarity                                                           \n",
       "1              122442       122442            122442           122442   \n",
       "2               12713        12713             12713            12713   \n",
       "3                  26           26                26               26   \n",
       "\n",
       "               conflict_name  dyad_new_id  dyad_name  side_a_new_id  gwnoa  \\\n",
       "event_clarity                                                                \n",
       "1                     122442       122442     122442         122442  94228   \n",
       "2                      12713        12713      12713          12713  10204   \n",
       "3                         26           26         26             26     23   \n",
       "\n",
       "               side_a   ...    date_prec  date_start  date_end  deaths_a  \\\n",
       "event_clarity           ...                                                \n",
       "1              122442   ...       122442      122442    122442    122442   \n",
       "2               12713   ...        12713       12713     12713     12713   \n",
       "3                  26   ...           26          26        26        26   \n",
       "\n",
       "               deaths_b  deaths_civilians  deaths_unknown    best     low  \\\n",
       "event_clarity                                                               \n",
       "1                122442            122442          122442  122442  122442   \n",
       "2                 12713             12713           12713   12713   12713   \n",
       "3                    26                26              26      26      26   \n",
       "\n",
       "                 high  \n",
       "event_clarity          \n",
       "1              122442  \n",
       "2               12713  \n",
       "3                  26  \n",
       "\n",
       "[3 rows x 40 columns]"
      ]
     },
     "execution_count": 29,
     "metadata": {},
     "output_type": "execute_result"
    }
   ],
   "source": [
    "df.groupby(['event_clarity']).count()"
   ]
  },
  {
   "cell_type": "code",
   "execution_count": null,
   "metadata": {
    "collapsed": true
   },
   "outputs": [],
   "source": []
  }
 ],
 "metadata": {
  "kernelspec": {
   "display_name": "Python 3",
   "language": "python",
   "name": "python3"
  },
  "language_info": {
   "codemirror_mode": {
    "name": "ipython",
    "version": 3
   },
   "file_extension": ".py",
   "mimetype": "text/x-python",
   "name": "python",
   "nbconvert_exporter": "python",
   "pygments_lexer": "ipython3",
   "version": "3.6.2"
  }
 },
 "nbformat": 4,
 "nbformat_minor": 1
}

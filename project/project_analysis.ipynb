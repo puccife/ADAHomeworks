{
 "cells": [
  {
   "cell_type": "markdown",
   "metadata": {},
   "source": [
    "# `Inside the Offshores leak`\n",
    "`Panama Papers as you have never seen it`\n",
    "***\n"
   ]
  },
  {
   "cell_type": "markdown",
   "metadata": {},
   "source": [
    "# Research Question 4\n",
    "> ##### There is a hypothesis that scandals involving tax havens actually help to promote creating offshores there. \n",
    "See for example [International Strategic Analysis](http://www.isa-world.com/news/?tx_ttnews%5BbackPid%5D=1&tx_ttnews%5Btt_news%5D=198&cHash=10b412a7de63d3b2a02adf0d120a09f6). Can we find evidence for this in the data?"
   ]
  },
  {
   "cell_type": "markdown",
   "metadata": {},
   "source": [
    "## Most important leaks\n",
    "Here is a list of the most important leaks documented by the International Consortium of Investigative Journalists [ICIJ](https://offshoreleaks.icij.org/)\n",
    "- ##### Bahamas Leak \n",
    "April 2, 2013\n",
    "None got scared [Best year =  2010]\n",
    "- ##### China Leak ⭐️\n",
    "January 21, 2014\n",
    "More offshores [Seyschelles - Samoa - British Virgin Islands - British Anguila] \n",
    "- ##### Lux Leak \n",
    "December 9, 2014\n",
    "None got scared [Best year =  2007]\n",
    "- ##### Swiss Leak \n",
    "February 8, 2015 \n",
    "None got scared [Best year =  2007]\n",
    "- ##### Panama Leak\n",
    "April 3, 2016 "
   ]
  },
  {
   "cell_type": "markdown",
   "metadata": {},
   "source": [
    "### Importing libs\n",
    "___"
   ]
  },
  {
   "cell_type": "code",
   "execution_count": null,
   "metadata": {
    "collapsed": true
   },
   "outputs": [],
   "source": [
    "import pandas as pd\n",
    "import matplotlib.pyplot as plt\n",
    "%matplotlib inline\n",
    "#Import new style\n",
    "plt.style.use('bmh')"
   ]
  },
  {
   "cell_type": "code",
   "execution_count": null,
   "metadata": {
    "collapsed": true
   },
   "outputs": [],
   "source": [
    "from utils import visualizer, preprocessing"
   ]
  },
  {
   "cell_type": "markdown",
   "metadata": {},
   "source": [
    "### Loading csv files"
   ]
  },
  {
   "cell_type": "code",
   "execution_count": null,
   "metadata": {
    "collapsed": true,
    "scrolled": false
   },
   "outputs": [],
   "source": [
    "entities = r'./panama_csv/Entities.csv'\n",
    "entities = pd.read_csv(entities,index_col='name', header=0, low_memory=False)\n",
    "entities=entities.rename(columns = {'countries':'Country'})"
   ]
  },
  {
   "cell_type": "markdown",
   "metadata": {},
   "source": [
    "### Process Entities dataframe\n",
    "___"
   ]
  },
  {
   "cell_type": "markdown",
   "metadata": {},
   "source": [
    "### Analysis on jurisdictions and the most involved countries\n",
    "___"
   ]
  },
  {
   "cell_type": "code",
   "execution_count": null,
   "metadata": {
    "scrolled": false
   },
   "outputs": [],
   "source": [
    "most_involved_countries = ['Switzerland', 'Hong Kong', 'Panama', 'Jersey', 'Luxembourg', 'United Kingdom',\n",
    "                          'Guernsey', 'United Arab Emirates', 'Bahamas', 'Uruguay','Isle of Man', 'Russia',\n",
    "                          'Singapore', 'China','United States','Monaco', 'Italy']\n",
    "\n",
    "first_involved_countries = [\n",
    "                            'Switzerland'#, 'Hong Kong', 'China', 'Luxembourg',\n",
    "                           ]\n",
    "all_countries = entities.groupby('Country').count().index\n",
    "countries_frame = preprocessing.process_countries(entities=entities, first_involved_countries=first_involved_countries, analisys_on='jurisdiction', from_year=1980, to_year=2016)"
   ]
  },
  {
   "cell_type": "code",
   "execution_count": null,
   "metadata": {},
   "outputs": [],
   "source": [
    "visualizer.visualize_countries_situation(countries_frame, divide_by='Country')"
   ]
  },
  {
   "cell_type": "markdown",
   "metadata": {},
   "source": [
    "### Analysis on each Country over the jurisdictions\n",
    "___"
   ]
  },
  {
   "cell_type": "code",
   "execution_count": null,
   "metadata": {},
   "outputs": [],
   "source": [
    "visualizer.visualize_countries_situation(countries_frame, divide_by='Country',selected_jurisdiction='British Virgin Islands')"
   ]
  },
  {
   "cell_type": "code",
   "execution_count": null,
   "metadata": {},
   "outputs": [],
   "source": [
    "visualizer.visualize_countries_situation(countries_frame, divide_by='Country',selected_jurisdiction='Panama')"
   ]
  },
  {
   "cell_type": "markdown",
   "metadata": {},
   "source": [
    "### How much money do you need in order to make an offshore account worthwhile?\n",
    "\n",
    "Just because offshore accounts can be lucrative for the rich doesn’t mean they would be beneficial to everyone. The majority of Canadians don’t even reach the maximum contribution levels for their Tax Free Savings Accounts. \n",
    "\n",
    "> You really have to have accumulated capital that you’re investing, so you’re earning investment income. Most middle-income people don’t have investment income.\n",
    "\n",
    "Even a physician or lawyer making upwards of \\$250,000 probably still isn’t earning enough for an offshore account to be worthwhile, he says, especially after accounting for the legal and accounting costs in Canada, plus paying the foreign jurisdictions to set up the account.\n",
    "\n",
    "> It’s worth it if you’ve accumulated family wealth—in the \\$5 million-plus range and you’re earning five per cent or more per year.\n",
    "\n",
    "Which is exactly why he says people have the right to be angry about such offshore accounts. \n",
    "\n",
    "> It’s a two-tiered system, but it’s not transparent. We don’t say ‘If you have $5 million a year, your tax rate is lower than everyone else’s’. That’d be completely unfair. People would be outraged. Yet here’s a non-transparent way for you to get the same result."
   ]
  },
  {
   "cell_type": "markdown",
   "metadata": {},
   "source": [
    "### Save csv"
   ]
  },
  {
   "cell_type": "code",
   "execution_count": null,
   "metadata": {},
   "outputs": [],
   "source": [
    "features = ['Active offshores', 'incorporations', 'inactivations']\n",
    "for feature in features:\n",
    "    frame = preprocessing.process_countries_with_code(entities, \n",
    "                                                            all_countries, \n",
    "                                                            analisys_on='Country', \n",
    "                                                            from_year=1900, \n",
    "                                                            to_year=2017,\n",
    "                                                            feature=feature\n",
    "                                                           )\n",
    "    name = feature\n",
    "    if name == 'Active offshores':\n",
    "        name = 'actives'\n",
    "    frame.to_csv('csv/provacash_flows_'+name+'.csv', index=False)"
   ]
  }
 ],
 "metadata": {
  "kernelspec": {
   "display_name": "Python 3",
   "language": "python",
   "name": "python3"
  },
  "language_info": {
   "codemirror_mode": {
    "name": "ipython",
    "version": 3
   },
   "file_extension": ".py",
   "mimetype": "text/x-python",
   "name": "python",
   "nbconvert_exporter": "python",
   "pygments_lexer": "ipython3",
   "version": "3.6.2"
  }
 },
 "nbformat": 4,
 "nbformat_minor": 1
}

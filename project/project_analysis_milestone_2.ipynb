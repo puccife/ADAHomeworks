{
 "cells": [
  {
   "cell_type": "markdown",
   "metadata": {},
   "source": [
    "# `Inside the Offshores leak`\n",
    "`Panama Papers as you have never seen it`\n",
    "\n",
    "# Attention please, refer to the online version of the [notebook viewer](https://nbviewer.jupyter.org/github/puccife/ADAHomeworks/blob/master/project/project_analysis_milestone_2.ipynb)"
   ]
  },
  {
   "cell_type": "markdown",
   "metadata": {},
   "source": [
    "### Importing libs"
   ]
  },
  {
   "cell_type": "code",
   "execution_count": 1,
   "metadata": {},
   "outputs": [
    {
     "data": {
      "text/html": [
       "<script>requirejs.config({paths: { 'plotly': ['https://cdn.plot.ly/plotly-latest.min']},});if(!window.Plotly) {{require(['plotly'],function(plotly) {window.Plotly=plotly;});}}</script>"
      ],
      "text/vnd.plotly.v1+html": [
       "<script>requirejs.config({paths: { 'plotly': ['https://cdn.plot.ly/plotly-latest.min']},});if(!window.Plotly) {{require(['plotly'],function(plotly) {window.Plotly=plotly;});}}</script>"
      ]
     },
     "metadata": {},
     "output_type": "display_data"
    }
   ],
   "source": [
    "from __future__ import print_function\n",
    "from ipywidgets import interact, interactive, fixed, interact_manual\n",
    "import ipywidgets as widgetsimport\n",
    "import pandas as pd\n",
    "from IPython.display import display\n",
    "import matplotlib.pyplot as plt\n",
    "from utils import visualizer, preprocessing\n",
    "import numpy as np\n",
    "import matplotlib.pyplot as plt\n",
    "import seaborn as sns\n",
    "import collections\n",
    "from utils import visualizers_1, preprocessing_1,computations_1, visualizer_q3\n",
    "import sklearn\n",
    "import json\n",
    "import folium\n",
    "%load_ext autoreload\n",
    "%autoreload 2\n",
    "%matplotlib inline\n",
    "#Import new style\n",
    "plt.style.use('bmh')"
   ]
  },
  {
   "cell_type": "markdown",
   "metadata": {},
   "source": [
    "# Extracting data "
   ]
  },
  {
   "cell_type": "code",
   "execution_count": null,
   "metadata": {
    "collapsed": true,
    "scrolled": true
   },
   "outputs": [],
   "source": [
    "# File names path\n",
    "entities = r'./panama_csv/Entities.csv'\n",
    "index_2013 = r'./the_index/index2013_data.xls'\n",
    "index_2014 = r'./the_index/index2014_data.xls'\n",
    "index_2015 = r'./the_index/index2015_data.xls'\n",
    "index_2016 = r'./the_index/index2016_data.xls'\n",
    "index_2017 = r'./the_index/index2017_data.xls'\n",
    "\n",
    "entities = pd.read_csv(entities, header=0, low_memory=False)\n",
    "#entities_c = entities.copy()\n",
    "\n",
    "index_2013 = pd.read_excel(index_2013,index_col = 'Country Name',header=0)\n",
    "index_2014 = pd.read_excel(index_2014,index_col = 'Country Name',header=0)\n",
    "index_2015 = pd.read_excel(index_2015,index_col = 'Country Name',header=0)\n",
    "index_2016 = pd.read_excel(index_2016,index_col = 'Country Name',header=0)\n",
    "index_2017 = pd.read_excel(index_2017,index_col = 'Country Name',header=0)"
   ]
  },
  {
   "cell_type": "markdown",
   "metadata": {},
   "source": [
    "## Explaining the data:\n",
    "\n",
    "<h1><center>**~~ Panama Papers ~~**</center></h1>\n",
    "\n",
    "**Introduction: ** \n",
    "\n",
    "This database contains information on almost 500,000 offshore entities that are part of the Panama Papers, the Offshore Leaks and the Bahamas Leaks investigations. The data covers nearly 40 years – from 1977 through to early 2016 – and links to people and companies in more than 200 countries and territories. The real value of the database is that it strips away the secrecy that cloaks companies and trusts incorporated in tax havens and exposes the people behind them. This includes, when available, the names of the real owners of those opaque structures.\n",
    "\n",
    "The dataset is divided into 5 **main** csv files :\n",
    "* Addresses\n",
    "* Edges\n",
    "* Entities\n",
    "* Intermediaries\n",
    "* Officers\n",
    "\n",
    "In this project we are focusing on the relationships between the countries involved.Briefly here is the list of our research questions.\n",
    "\n",
    "1. How the number of offshores that are founded from an origin country in tax havens is related to economical factors of the origin country? Which roles does the legal situation in the origin country play compared to the legal situation in the offshore country?\n",
    "3. How are the countries connected? Is there a pattern in the way players in origin counrties select special countries for their offshores.\n",
    "4. There is a hypothesis that scandals involving tax havens actually help to promote creating offshores there. Can we find evidence for this in the data?\n",
    "\n",
    "To look through those questions into more details, we use the **csv** file named **Entities** which contains the connections between the origin and tax haven countries and use the help of the dataset **Index Of Economics Freedom** to understand the economical/legal parameters of each country.\n",
    "\n",
    "Here is a brief description of the columns used from the **Entities** csv file.\n",
    "\n",
    "* **Node_id:** A unique node id for each set of data. \n",
    "* **Country:** The country where the offshore entity was created from.\n",
    "* **Jurisdiction:** The country that has official power to make legal decisions and judgements. Interpreted here as the Tax Haven countries.\n",
    "* **Incorporation Date:** The date when an offshore entity was created.\n",
    "* **Inactivation Date:** The date when a client told the agent to deactivate the offshore entity, which could be reactivated at a later date.\n",
    "* **Struck off date:**  A company becomes struck off when it fails to be in good standing, which happens when it fails to pay license fees. In the offshore world this is the equivalent to closing an entity, although it can be reactivated at a later date if the fees start being paid again.\n",
    "\n",
    "Other columns such as name of the company, service provider, addresses are available but they are of no use to us and since we are investigating the leak at a country level, we are not in need to use the other files.\n",
    "\n",
    "<h1><center>**~~ Index Of Economics Freedom ~~**</center></h1>\n",
    "\n",
    "**Introduction:**\n",
    "\n",
    "Economic freedom is the fundamental right of every human to control his or her own labor and property. In an economically free society, individuals are free to work, produce, consume, and invest in any way they please. In economically free societies, governments allow labor, capital, and goods to move freely, and refrain from coercion or constraint of liberty beyond the extent necessary to protect and maintain liberty itself. The Index covers 12 economic freedoms, objective measurements, historical background, and policy analysis of 186 economies troughout the world. The 12 economic freedoms are grouped into four pillars of economic freedom:\n",
    "\n",
    "**1. Rule of law:**\n",
    "\n",
    " * **Property rights:** is an assessment of the ability of individuals to accumulate private property, secured by clear laws that are fully enforced by the state. It measures the degree to which a country’s laws protect private property rights and the degree to which its government enforces those laws.\n",
    " * **Government integrity:** \"Corruption\" is the abuse of entrusted power for private gain. It can be classified as grand, petty and political, depending on the amounts of money lost and the sector where it occurs.\n",
    " * **Judicial effectiveness:** Well-functioning civil justice systems protect the rights of all citizens against infringement of the law by others, including powerful parties and governments. An essential component of the rule of law is indeed based on effective and fair judicial systems to ensure that the laws are respected and appropriate sanctions are taken when they are violated.\n",
    " \n",
    "**2. Government Size:**\n",
    "\n",
    " * **Government spending:** Considers the level of government expenditures as a percentage of GDP. General government expenditure data include all levels of government such as federal, state, and local. Research have shown that excessive government spending that causes chronic budget deficits and the accumulation of sovereign debt is one of the most serious drags on economic dynamism.\n",
    " * **Tax burden:** is a measure of the tax burden imposed by government. It includes direct taxes, in terms of the top marginal tax rates on individual and corporate incomes, and overall taxes, including all forms of direct and indirect taxation at all levels of government, as a percentage of GDP.\n",
    " * **Fiscal health:** A government’s budget is one of the clearest indicators of the extent to which it respects the principle of limited government. Widening deficits and a growing debt burden, both of which are direct consequences of poor government budget management, lead to the erosion of a country’s overall fiscal health.\n",
    " \n",
    "**3. Regulatory Efficiency:**\n",
    "\n",
    " * **Business freedom:**  is an overall indicator of the efficiency of government regulation of business. Individual’s ability to establish and run an enterprise without undue interference from the state is one of the most fundamental indicators. It is formed from several factors:\n",
    "   * Starting a business [ Procedure / Time / Cost / Minimum capital ]\n",
    "   * Obtaining a license [ Procedure / Time / Cost ]\n",
    "   * Closing a business [ Time / Cost / Recovery rate ]\n",
    " * **Labor freedom:**  is a quantitative measure that considers various aspects of the legal and regulatory framework of a country’s labor market, including regulations concerning minimum wages, laws inhibiting layoffs, severance requirements, and measurable regulatory restraints on hiring and hours worked.\n",
    " * **Monetary freedom:**  combines a measure of price stability with an assessment of price controls. Both inflation and price controls distort market activity. Price stability without microeconomic intervention is the ideal state for the free market.\n",
    " \n",
    "**4. Open Markets:**\n",
    "\n",
    " * **Trade freedom:**  is a composite measure of the absence of tariff and non-tariff barriers that affect imports and exports of goods and services.The trade freedom score is based on two inputs:\n",
    "   * The trade-weighted average tariff rate.\n",
    "   * Non-tariff barriers (NTBs). The categories considered are:\n",
    "     * Quantity restrictions.\n",
    "     * Price restrictions.\n",
    "     * Regulatory restrictions.\n",
    "     * Customs restrictions.\n",
    "     * Investment restrictions.\n",
    "     * Direct government intervention.\n",
    " * **Investment freedom:** Describes the constraints on the flow of investment capital. Individuals and firms would be allowed to move their resources into and out of specific activities, both internally and across the country’s borders, without restriction. Countries have different rules for foreign and domestic investment; some restrict access to foreign exchange; some impose restrictions on payments, transfers, and capital transactions; in some, certain industries are closed to foreign investment. Labor regulations, corruption, red tape, weak infrastructure, and political and security conditions can also affect the freedom that investors have in a market.\n",
    " * **Financial freedom:** is a measure of banking efficiency as well as a measure of independence from government control and interference in the financial sector. It is calculated by looking at those broad areas:\n",
    "   * The extent of government regulation of financial services.\n",
    "   * The degree of state intervention in banks and other financial firms through direct and indirect ownership.\n",
    "   * The extent of financial and capital market development.\n",
    "   * Government influence on the allocation of credit.\n",
    "   * Openness to foreign competition.\n",
    "   \n",
    "**5. Monetary measure:**\n",
    " * **Gross Domestic Product (GDP):** is a monetary measure of the market value of all final goods and services produced in a period of time.\n",
    " * **GDP growth rate:** measures how fast the economy is growing. It does this by comparing one year of the country's gross domestic product to the previous year.\n",
    " * **GDP per Capita:** is the GDP of a year divided by the average population of the same year.\n",
    " * **Government Expenditure:**  refers to the purchase of goods and services, which include public consumption and public investment, and transfer payments consisting of income transfers and capital transfer.\n",
    " * **Inflation:** is the rate at which the general level of prices for goods and services is rising and, consequently, the purchasing power of currency is falling.\n",
    " * **Foreign Direct Investment Inflow:** the value of inward direct investment made by non-resident investors in the reporting economy.\n",
    " * **Public Debt:** is how much a government owes to creditors outside of itself."
   ]
  },
  {
   "cell_type": "markdown",
   "metadata": {},
   "source": [
    "# Research Question 1\n",
    "\n",
    "> Which economic factors motivate the foundation of offshore companies? Which role does the legal situation in the origin country play compared to the legal situation in the offshore country?"
   ]
  },
  {
   "cell_type": "markdown",
   "metadata": {},
   "source": [
    "##### As shown above, the features of the index of economical freedom are divided into 5 categories.\n"
   ]
  },
  {
   "cell_type": "code",
   "execution_count": null,
   "metadata": {
    "collapsed": true
   },
   "outputs": [],
   "source": [
    "# Dividing the columns into their corresponding categories.\n",
    "open_markets_data = ['Trade Freedom','Investment Freedom ','Financial Freedom']\n",
    "regulatory_efficiency_data = ['Business Freedom','Labor Freedom','Monetary Freedom']\n",
    "rule_of_law_data = ['Property Rights','Government Integrity','Judical Effectiveness']\n",
    "government_size_data = ['Gov\\'t Spending','Fiscal Health','Tax Burden']\n",
    "economical_data = ['GDP (Billions, PPP)','GDP Growth Rate (%)','GDP per Capita (PPP)'\\\n",
    "                   ,'Gov\\'t Expenditure % of GDP ','Inflation (%)',\\\n",
    "                   'FDI Inflow (Millions)','Public Debt (% of GDP)']\n",
    "# Years.\n",
    "years = ['2017', '2016', '2015', '2014','2013']"
   ]
  },
  {
   "cell_type": "markdown",
   "metadata": {},
   "source": [
    "##### Rough idea of how the entities file is distributed."
   ]
  },
  {
   "cell_type": "code",
   "execution_count": null,
   "metadata": {
    "collapsed": true
   },
   "outputs": [],
   "source": [
    "entities.head(3)"
   ]
  },
  {
   "cell_type": "code",
   "execution_count": null,
   "metadata": {
    "collapsed": true
   },
   "outputs": [],
   "source": [
    "print(\"The number of rows / entities we have in our data is {}.\".format(len(entities)))\n",
    "print(\"The number of unique countries involved is {}.\".format(len(entities.countries.unique())))\n",
    "print(\"The number of unique Tax havens / jurisdictions is {}.\".format(len(entities.jurisdiction_description.unique())))\n",
    "print(\"Is Node_ID unique? {}.\".format(entities.node_id.is_unique))"
   ]
  },
  {
   "cell_type": "markdown",
   "metadata": {},
   "source": [
    "You may find it weird that the number of countries involved is 519 while the total number of countries in the world is 195. This is due to the fact that there are many fields where the data is not ideal in addition to the presence of cities/states instead of countries. This will be discussed further on in this notebook."
   ]
  },
  {
   "cell_type": "markdown",
   "metadata": {},
   "source": [
    "### Cleaning the datasets and concatenating them into a single dataframe."
   ]
  },
  {
   "cell_type": "code",
   "execution_count": null,
   "metadata": {
    "collapsed": true
   },
   "outputs": [],
   "source": [
    "# Cleaning process.\n",
    "index_2013 = preprocessing_1.cleaning_index_data(index_2013,'2012')\n",
    "index_2014 = preprocessing_1.cleaning_index_data(index_2014,'2013')\n",
    "index_2015 = preprocessing_1.cleaning_index_data(index_2015,'2014')\n",
    "index_2016 = preprocessing_1.cleaning_index_data(index_2016,'2015')\n",
    "index_2017 = preprocessing_1.cleaning_index_data(index_2017,'2016')\n",
    "# Concatenating all the datasets.\n",
    "economical_indexes = pd.concat([index_2017,index_2016,index_2015,index_2014,index_2013])"
   ]
  },
  {
   "cell_type": "code",
   "execution_count": null,
   "metadata": {
    "collapsed": true
   },
   "outputs": [],
   "source": [
    "# Filtering the data with 2 thresholds, 500 for the number of entities in an offshore\n",
    "# and 500 for the number of entities coming from a certain country.\n",
    "jurisdiction_country = computations_1.jurisdiction_country_data(entities,500,500,0)\n",
    "# Getting all the data and getting rid of the NaN values.\n",
    "jurisdiction_count = computations_1.jurisdiction_country_data(entities,0,0,0)\n",
    "# Getting all the data avialable with the NaN values for further comparison.\n",
    "total_jurisdiction_count = computations_1.jurisdiction_country_data(entities,0,0,1)"
   ]
  },
  {
   "cell_type": "markdown",
   "metadata": {},
   "source": [
    "### Total jurisdiction count with unavailable data.\n",
    "\n",
    "##### In here we will visualize the total number of offshore accounts opened in the Tax haven countries. Including the ones where the origin country is missing.\n",
    "##### The goal is to visualize the total number of accounts created regardless if the origin country data is present. A threshold cap of 500 was set to the tax haven countries entity count to be able to visualize the data.\n"
   ]
  },
  {
   "cell_type": "code",
   "execution_count": null,
   "metadata": {
    "collapsed": true
   },
   "outputs": [],
   "source": [
    "visualizers_1.visualize_jurisdiction_count(total_jurisdiction_count)"
   ]
  },
  {
   "cell_type": "markdown",
   "metadata": {},
   "source": [
    "### Those we have data in both fields [ the jurisdiction and the country ]."
   ]
  },
  {
   "cell_type": "code",
   "execution_count": null,
   "metadata": {
    "collapsed": true,
    "scrolled": false
   },
   "outputs": [],
   "source": [
    "visualizers_1.visualize_jurisdiction_count(jurisdiction_count)"
   ]
  },
  {
   "cell_type": "markdown",
   "metadata": {},
   "source": [
    "##### We can see that there is huge amount of missing data from the Bahamas. However this still indicates that the Bahamas is a favourable Tax Haven country and will be included in the analysis further on."
   ]
  },
  {
   "cell_type": "markdown",
   "metadata": {},
   "source": [
    "### Countries involved\n",
    "##### In here we will visualize the total number of offshore entities opened by each country in the dataset."
   ]
  },
  {
   "cell_type": "code",
   "execution_count": null,
   "metadata": {
    "collapsed": true,
    "scrolled": false
   },
   "outputs": [],
   "source": [
    "visualizers_1.visualize_country_count(jurisdiction_count)"
   ]
  },
  {
   "cell_type": "markdown",
   "metadata": {},
   "source": [
    "##### We can notice from the countries listed, some Tax Haven countries are also included, the distribution will be investigated more in the section below."
   ]
  },
  {
   "cell_type": "markdown",
   "metadata": {},
   "source": [
    "### Countries most involved in opening offshore accounts.\n",
    "##### From the visualization above we can extract the countries that are in our opinion worth investigating."
   ]
  },
  {
   "cell_type": "code",
   "execution_count": null,
   "metadata": {
    "collapsed": true
   },
   "outputs": [],
   "source": [
    "countries = ['Bahamas','Cyprus','Isle of Man','Jersey','Luxembourg','Panama',\\\n",
    "             'Russia','Switzerland','Taiwan','United Arab Emirates','United Kingdom',\\\n",
    "            'United States','Hong Kong','British Virgin Islands','Guernsey','Singapore',\\\n",
    "            'China','Liechtenstein','Uruguay','Latvia','Monaco','Gibraltar']"
   ]
  },
  {
   "cell_type": "markdown",
   "metadata": {},
   "source": [
    "##### In here we are visualizing the distribution of the entities from the origin countries in the Tax Haven countries. This analysis will be carried on further in the coming sections"
   ]
  },
  {
   "cell_type": "code",
   "execution_count": null,
   "metadata": {
    "collapsed": true,
    "scrolled": true
   },
   "outputs": [],
   "source": [
    "visualizers_1.visualize_specific_count(countries,jurisdiction_country)"
   ]
  },
  {
   "cell_type": "markdown",
   "metadata": {},
   "source": [
    "We have 40 countries in our dataset which have more than 500 offshore entities associated to them.\n",
    "From those we will investigate the top 5."
   ]
  },
  {
   "cell_type": "markdown",
   "metadata": {},
   "source": [
    "Most important countries to be investigated:\n",
    "* Switzerland\n",
    "* Hong Kong \n",
    "* United Kingdom\n",
    "* United Arab Emirates\n",
    "* Luxembourg"
   ]
  },
  {
   "cell_type": "markdown",
   "metadata": {},
   "source": [
    "In the index of economic freedom, there is no data about any of the british overseas territories [British Virgin islands, Cayman Islands, isle of Man, British Anguilla, Bermuda ] , where most of those territories are considered Tax Havens. Looking throughout the web too, there is no mention of any economical data about those territories which says a lot about the level of secrecy they acquire."
   ]
  },
  {
   "cell_type": "markdown",
   "metadata": {},
   "source": [
    "### Comparing several economical factors between the most involved countries"
   ]
  },
  {
   "cell_type": "markdown",
   "metadata": {},
   "source": [
    "## Extracting information from Economic Index based on column name"
   ]
  },
  {
   "cell_type": "code",
   "execution_count": null,
   "metadata": {
    "collapsed": true
   },
   "outputs": [],
   "source": [
    "# Top countries involved.\n",
    "lead_countries=['Switzerland','Hong Kong','United Kingdom','United Arab Emirates','Luxembourg']\n",
    "# Tax havens that we have data about in the economics index with most number of offshore entities.\n",
    "# Write why we don't have about others ?\n",
    "haven_countries = ['Panama','Bahamas','Samoa','Seychelles']\n",
    "# Both top countries and Tax Havens.\n",
    "both_countries = ['Switzerland','Hong Kong','United Kingdom','United Arab Emirates','Luxembourg','Panama','Bahamas','Samoa','Seychelles']"
   ]
  },
  {
   "cell_type": "code",
   "execution_count": null,
   "metadata": {
    "collapsed": true
   },
   "outputs": [],
   "source": [
    "visualizers_1.visualizing_index_data(economical_indexes,lead_countries,economical_data,years)"
   ]
  },
  {
   "cell_type": "markdown",
   "metadata": {},
   "source": [
    "**Analyzing the data above we can see that:**\n",
    "* The UK leads the GDP by a huge gap, but at the same time has the highest public debt.\n",
    "* The rest of the countries compare similarly w.r.t. the GDP.\n",
    "* Taking a closer look at the GDP per capita which can be a much better indicator than the GDP since it's divided by the population number, we can see that the UK performs the worst ( given that it had a much bigger GDP ) and Luxembourg leads the graph with stunning values.\n",
    "* Apart form the U.A.E ( increasing ) we can see constant decrease / stable inflation rate in the other countries, indicating a healthy economy.\n",
    "* The most interesting is the Foreign direct investment inflow, where we can see a significant amount of money being pumped into Hong Kong, Switzerland, and the UK."
   ]
  },
  {
   "cell_type": "code",
   "execution_count": null,
   "metadata": {
    "collapsed": true
   },
   "outputs": [],
   "source": [
    "visualizers_1.visualizing_index_data(economical_indexes,lead_countries,open_markets_data,years)"
   ]
  },
  {
   "cell_type": "markdown",
   "metadata": {},
   "source": [
    "**Analyzing the data above we can see that:**\n",
    "* Apart from the U.A.E , all of them share rather a similar trade, investment, financial freedom scores.\n",
    "* We can also see that Hong Kong leads all 3 parameters."
   ]
  },
  {
   "cell_type": "code",
   "execution_count": null,
   "metadata": {
    "collapsed": true
   },
   "outputs": [],
   "source": [
    "visualizers_1.visualizing_index_data(economical_indexes,lead_countries,regulatory_efficiency_data,years)"
   ]
  },
  {
   "cell_type": "markdown",
   "metadata": {},
   "source": [
    "**Analyzing the data above we can see that:**\n",
    "* There is quite a diverse distribution of the data in the regulatory efficiency data but within an acceptable range.\n",
    "* Hong kong also leads 2 out of the 3 parameters.\n",
    "* United Kingdom shows a vast improvement from 2013 to 2017.\n",
    "* Surprisingly low score for Luxembourg in labor freedom."
   ]
  },
  {
   "cell_type": "code",
   "execution_count": null,
   "metadata": {
    "collapsed": true
   },
   "outputs": [],
   "source": [
    "visualizers_1.visualizing_index_data(economical_indexes,lead_countries,rule_of_law_data,years)"
   ]
  },
  {
   "cell_type": "markdown",
   "metadata": {},
   "source": [
    "**Analyzing the data above we can see that:**\n",
    "* Apart from the U.A.E which improved significantly from 2016 to 2017, all the other countries share the same score for property rights.\n",
    "* Slight fluctuations of Government integrity score throughout the years."
   ]
  },
  {
   "cell_type": "code",
   "execution_count": null,
   "metadata": {
    "collapsed": true
   },
   "outputs": [],
   "source": [
    "visualizers_1.visualizing_index_data(economical_indexes,lead_countries,government_size_data,years)"
   ]
  },
  {
   "cell_type": "markdown",
   "metadata": {},
   "source": [
    "**Analyzing the data above we can see that:**\n",
    "* We can see apart from fiscal health, there is a wide variety in the distribution in the Tax burden and Government spending score for each country."
   ]
  },
  {
   "cell_type": "markdown",
   "metadata": {},
   "source": [
    "### Visualizing the correlation of features between the involved countries. ( Top 40 )\n",
    "**Basically checking if the data represented above would still be consistent with the rest of the 35 countries.**"
   ]
  },
  {
   "cell_type": "code",
   "execution_count": null,
   "metadata": {
    "collapsed": true
   },
   "outputs": [],
   "source": [
    "# The 40 countries involved.\n",
    "countries_involved = computations_1.compute_countries_involved(jurisdiction_country,0)\n",
    "# Extracting the data for those 40 countries from the 2017 index ONLY.\n",
    "countries_involved_data = computations_1.compute_countries_involved_data(index_2017,countries_involved)"
   ]
  },
  {
   "cell_type": "code",
   "execution_count": null,
   "metadata": {
    "collapsed": true
   },
   "outputs": [],
   "source": [
    "visualizers_1.visualize_feature_correlation(countries_involved_data,open_markets_data)"
   ]
  },
  {
   "cell_type": "markdown",
   "metadata": {},
   "source": [
    "**Analyzing the correlation between the score and the open market parameters:**\n",
    "* High correlation between score all the open market parameters.\n",
    "* HIgh correlation between Financial and investment freedom."
   ]
  },
  {
   "cell_type": "code",
   "execution_count": null,
   "metadata": {
    "collapsed": true
   },
   "outputs": [],
   "source": [
    "visualizers_1.visualize_feature_correlation(countries_involved_data,regulatory_efficiency_data)"
   ]
  },
  {
   "cell_type": "markdown",
   "metadata": {},
   "source": [
    "**Analyzing the correlation between the score and the regulatory efficiency parameters:**\n",
    "* High correlation between score with business and monetary freedom."
   ]
  },
  {
   "cell_type": "code",
   "execution_count": null,
   "metadata": {
    "collapsed": true
   },
   "outputs": [],
   "source": [
    "visualizers_1.visualize_feature_correlation(countries_involved_data,rule_of_law_data)"
   ]
  },
  {
   "cell_type": "markdown",
   "metadata": {},
   "source": [
    "**Analyzing the correlation between the score and the rule of law parameters:**\n",
    "* The highest correlations between all features are found in the rule of law parameters, specifically the property rights and the government integrity.\n"
   ]
  },
  {
   "cell_type": "code",
   "execution_count": null,
   "metadata": {
    "collapsed": true
   },
   "outputs": [],
   "source": [
    "visualizers_1.visualize_feature_correlation(countries_involved_data,government_size_data)"
   ]
  },
  {
   "cell_type": "markdown",
   "metadata": {},
   "source": [
    "**Analyzing the correlation between the score and the rule of law parameters:**\n",
    "* From the graphs we saw earlier we noticed that there were a lot of fluctuations in the parameters of the government size and we can clearly see that there is very low correlation between the score with tax burden and government spending. Moderate correlation between the score and fiscal health."
   ]
  },
  {
   "cell_type": "markdown",
   "metadata": {},
   "source": [
    "# Research Question 2\n",
    "\n",
    "> How are the countries connected? Is there a pattern in the\n",
    "way players in origin countries select special countries for\n",
    "their offshores?\n",
    "\n",
    "*For every combination of two countries that occur in the data\n",
    "we count the number of offshores founded in one country\n",
    "coming from the other country and vice versa.*\n",
    "\n",
    "## Importing libraries"
   ]
  },
  {
   "cell_type": "code",
   "execution_count": null,
   "metadata": {
    "collapsed": true
   },
   "outputs": [],
   "source": [
    "entities = r'./panama_csv/Entities.csv'\n",
    "entities = pd.read_csv(entities,index_col='name', header=0, low_memory=False)\n",
    "entities=entities.rename(columns = {'countries':'Country'})"
   ]
  },
  {
   "cell_type": "markdown",
   "metadata": {},
   "source": [
    "## Cleaning the data\n",
    "\n",
    "A closer inspection of the data revealed that there are missing values encoded by 'Not identified', 'Undetermined', and 'Recorded in leaked files as \"fund\"'. We convert them to NaN. Furthermore, we observed occurences of 'United States Of America' as well as 'United States'. in order to have consistent names we rename them all to 'United States'."
   ]
  },
  {
   "cell_type": "code",
   "execution_count": null,
   "metadata": {
    "collapsed": true,
    "scrolled": true
   },
   "outputs": [],
   "source": [
    "# reencode missing values\n",
    "entities.Country.replace('Not identified',np.NaN, inplace=True)\n",
    "entities.jurisdiction_description.replace(['Undetermined', 'Recorded in leaked files as \"fund\"'],np.NaN, inplace=True)\n",
    "# consistent naming\n",
    "entities.jurisdiction_description.replace('United States Of America','United States', inplace=True)"
   ]
  },
  {
   "cell_type": "markdown",
   "metadata": {},
   "source": [
    "## Computing the cross table of frequencies \n",
    "\n",
    "As mentionned above, we want to count for every combination of two countries that occur in the data the number of offshores founded in one country coming from the other country and vice versa.\n",
    "The frequencies of relations can be computed using the pandas function `crosstab`."
   ]
  },
  {
   "cell_type": "code",
   "execution_count": null,
   "metadata": {
    "collapsed": true
   },
   "outputs": [],
   "source": [
    "crosstable = pd.crosstab(entities.Country, [entities.jurisdiction_description], rownames=['origin'], colnames=['destination'])\n",
    "crosstable.tail()"
   ]
  },
  {
   "cell_type": "markdown",
   "metadata": {},
   "source": [
    "A closer observation of the country names shows that some offshore entities have more than one origin country. The countries are specified in one data row and the names are seperated by ';', see for example the origin value 'Viet Nam;British Virgin Islands'. For the analysis of the relations between origin and goal countries we decided to count such relations for all of the specified origin countries.\n",
    "\n",
    "Therefore, we refactor the crosstable by duplicating the rows with several origin countries once for every origin country. As this might result in having more than one row per origin country, in the end we group by origin country and sum up all the values. Furthermore, we again drop the row corresponding to the country value 'Not identified'.\n",
    "\n",
    "Furthermore, in a seperate analysis we investigate which countries occur together as origin countries."
   ]
  },
  {
   "cell_type": "code",
   "execution_count": null,
   "metadata": {
    "collapsed": true
   },
   "outputs": [],
   "source": [
    "#duplicating the rows\n",
    "multiple_orig = pd.DataFrame(columns = crosstable.reset_index().columns)\n",
    "for index, row in crosstable.reset_index().iterrows():\n",
    "    for orig in row['origin'].split(';'):\n",
    "        multiple_orig = multiple_orig.append(pd.concat([pd.Series({'origin' : orig}), row[1:]]), ignore_index=True)\n",
    "multiple_orig.head()"
   ]
  },
  {
   "cell_type": "code",
   "execution_count": null,
   "metadata": {
    "collapsed": true
   },
   "outputs": [],
   "source": [
    "#sum up values for each country\n",
    "crosstable = multiple_orig.groupby('origin').sum()\n",
    "crosstable = crosstable.drop('Not identified')"
   ]
  },
  {
   "cell_type": "code",
   "execution_count": null,
   "metadata": {
    "collapsed": true
   },
   "outputs": [],
   "source": [
    "crosstable.to_csv('crosstable.csv')"
   ]
  },
  {
   "cell_type": "markdown",
   "metadata": {},
   "source": [
    "For the further analysis we consider not absolute frequencies but the relative frequencies of destination countries for every origin country. Hence, we perform a row wise normailzation."
   ]
  },
  {
   "cell_type": "code",
   "execution_count": null,
   "metadata": {
    "collapsed": true
   },
   "outputs": [],
   "source": [
    "#row wise normalization\n",
    "crosstable_norm = crosstable.div(crosstable.sum(axis=1), axis=0)"
   ]
  },
  {
   "cell_type": "markdown",
   "metadata": {},
   "source": [
    "## 2.1. Relations between origin and goal countries\n",
    "\n",
    "In order to be able to find a pattern in the\n",
    "way players in origin countries select special countries for\n",
    "their offshores, we cluster the origin countries into groups with similar selection data. The clustering is performed using KMeans with a k-means++ initialization and a maximum of 300 iterations. The number of clusters is determined as the number with the maximal average silhouette. We set the maximal number of clusters for the comparison to 10. It turns out that the optimal number of clusters is 4."
   ]
  },
  {
   "cell_type": "code",
   "execution_count": null,
   "metadata": {
    "collapsed": true
   },
   "outputs": [],
   "source": [
    "from sklearn.cluster import KMeans\n",
    "\n",
    "max_n_clusters = 10\n",
    "scores = []\n",
    "clusters = []\n",
    "# try for nr of clusters up to specified max and chose clustering with optimal silhouette\n",
    "for n_clusters in range(2, max_n_clusters + 1):\n",
    "    kmeans = KMeans(n_clusters=n_clusters, random_state=42).fit(crosstable_norm)\n",
    "    clusters.append(kmeans.labels_)\n",
    "    scores.append(sklearn.metrics.silhouette_score(crosstable_norm, kmeans.labels_))\n",
    "\n",
    "n_clusters = np.argmax(scores)\n",
    "crosstable_norm['cluster'] = clusters[n_clusters]\n",
    "\n",
    "print(n_clusters + 2)"
   ]
  },
  {
   "cell_type": "markdown",
   "metadata": {},
   "source": [
    "In the following plot we visualize for each of the four resulting clusters the relative frequencies for the corresponding countries. It becomes apparent that the first cluster contains those countries where the majority of offshore entities are founded on the British Virgin Islands. The second cluster contains the countries with most offshore entities in Panama, the third those countries with a mojority of entities on the Seychelles. The countries in the fourth cluster show more diverse distributions of destination countries. We observe that for many countries in this cluster the main destination of entities is the country itself, see for example the Cook Islands or Samoa."
   ]
  },
  {
   "cell_type": "code",
   "execution_count": null,
   "metadata": {
    "collapsed": true,
    "scrolled": false
   },
   "outputs": [],
   "source": [
    "#plot frequencies for each cluster\n",
    "for i in range(n_clusters + 2):\n",
    "    visualizer_q3.plot_cross_table(crosstable_norm[crosstable_norm.cluster == i].drop('cluster', axis=1))"
   ]
  },
  {
   "cell_type": "markdown",
   "metadata": {},
   "source": [
    "In order to better understand the underlying structures that lead to those patterns of selection of destination countries, we want to find similarities of the countries which are in the same cluster. The first thing we consider is geographical closeness. Therefore we display a map where countries in the same cluster have the same color. Form the map it becomes apparent most South American countries (Brasil being the most apparent exception) have the majority of offshore entities in Panama (cluster 2). In Northern America and the UK, most offshore entities are founded on the British Virgin Islands."
   ]
  },
  {
   "cell_type": "code",
   "execution_count": null,
   "metadata": {
    "collapsed": true
   },
   "outputs": [],
   "source": [
    "# information that is needed for the map\n",
    "cluster_info = crosstable_norm.reset_index()[['origin', 'cluster']]"
   ]
  },
  {
   "cell_type": "code",
   "execution_count": null,
   "metadata": {
    "collapsed": true
   },
   "outputs": [],
   "source": [
    "# load information about countries in the world\n",
    "world_topojson_path = r'json/world-countries.json'\n",
    "world_topojson = json.load(open(world_topojson_path))\n",
    "url = 'https://restcountries.eu/rest/v2/'\n",
    "restcountries, nametoid = visualizer_q3.buildJsonAPI(url)"
   ]
  },
  {
   "cell_type": "code",
   "execution_count": null,
   "metadata": {
    "collapsed": true
   },
   "outputs": [],
   "source": [
    "# fix naming problems\n",
    "nametoid['Bolivia'] = 68\n",
    "nametoid['British Virgin Islands'] = 92\n",
    "nametoid['Brunei'] = 96\n",
    "nametoid['Iran'] = 368\n",
    "nametoid['Macedonia'] = 807\n",
    "nametoid['Moldova'] = 498\n",
    "nametoid['Russia'] = 643\n",
    "nametoid['South Korea'] = 410\n",
    "nametoid['Syria'] = 760\n",
    "nametoid['Tanzania'] = 834\n",
    "nametoid['U.S. Virgin Islands'] = 850\n",
    "nametoid['United Kingdom'] = 826\n",
    "nametoid['United States'] = 840\n",
    "nametoid['Venezuela'] = 862"
   ]
  },
  {
   "cell_type": "code",
   "execution_count": null,
   "metadata": {
    "collapsed": true
   },
   "outputs": [],
   "source": [
    "#add ids to countries in order to match them with topojson data\n",
    "cluster_info['id'] = cluster_info.origin.apply(lambda x: restcountries[nametoid[x]]['alpha3Code'])"
   ]
  },
  {
   "cell_type": "code",
   "execution_count": null,
   "metadata": {
    "collapsed": true
   },
   "outputs": [],
   "source": [
    "# create map\n",
    "m = folium.Map([46.8,8], \n",
    "               tiles='cartodbpositron', \n",
    "               zoom_start=1)"
   ]
  },
  {
   "cell_type": "code",
   "execution_count": null,
   "metadata": {
    "collapsed": true
   },
   "outputs": [],
   "source": [
    "# add the chororpleth and dispay map\n",
    "visualizer_q3.addChoropleth(cluster_info, m, 'cluster','Cluster', 'id','YlGnBu', world_topojson,'objects.countries1')\n",
    "m"
   ]
  },
  {
   "cell_type": "markdown",
   "metadata": {},
   "source": [
    "We want to find futrther reasons for those patterns by considering historical and economic background information. While the historical background requires a per country research, we plan to investigate the economic factors by comparing the distributions of the measures specified Index of Eonomic freedom data set between the four different clusters."
   ]
  },
  {
   "cell_type": "markdown",
   "metadata": {},
   "source": [
    "## 2.2. Relations between origin countries\n",
    "\n",
    "In this section we want to further analyze which countries occur together as origin countries. We plan to follow the same steps of analysis as in the previous section."
   ]
  },
  {
   "cell_type": "code",
   "execution_count": null,
   "metadata": {
    "collapsed": true
   },
   "outputs": [],
   "source": [
    "#plot for first superficial analsis\n",
    "countries = entities.Country.dropna()\n",
    "counts = countries[countries.str.contains(';') & ~(countries.str.contains('Not identified'))].value_counts()\n",
    "ax = counts[counts >= 10].plot(kind='barh', figsize=(10, 50))\n",
    "ax.invert_yaxis()"
   ]
  },
  {
   "cell_type": "markdown",
   "metadata": {},
   "source": [
    "We observe that if more than one origin country is specified, one of them is very often the British Virgin Islands. We guess this might be due to special legal requirements for founding an entity there. (TODO: verify)."
   ]
  },
  {
   "cell_type": "code",
   "execution_count": null,
   "metadata": {
    "collapsed": true
   },
   "outputs": [],
   "source": [
    "#split the strings into the different country names for further analysis\n",
    "split = pd.DataFrame(entities.Country.dropna()[entities.Country.dropna().str.contains(';')].str.split(';').tolist(), columns = ['origin1','origin2', 'origin3', 'origin4'])#"
   ]
  },
  {
   "cell_type": "code",
   "execution_count": null,
   "metadata": {
    "collapsed": true
   },
   "outputs": [],
   "source": [
    "#get unique values, this will be the rows / cols of the crosstabke\n",
    "vals = split.values.flatten()\n",
    "vals = np.unique(vals[vals != np.array(None)])"
   ]
  },
  {
   "cell_type": "markdown",
   "metadata": {},
   "source": [
    "# Research Question 3\n",
    "> ##### There is a hypothesis that scandals involving tax havens actually help to promote creating offshores there. \n",
    "See for example [International Strategic Analysis](http://www.isa-world.com/news/?tx_ttnews%5BbackPid%5D=1&tx_ttnews%5Btt_news%5D=198&cHash=10b412a7de63d3b2a02adf0d120a09f6). Can we find evidence for this in the data?"
   ]
  },
  {
   "cell_type": "markdown",
   "metadata": {},
   "source": [
    "## Most important leaks\n",
    "Here is a list of the most important leaks documented by the International Consortium of Investigative Journalists [ICIJ](https://offshoreleaks.icij.org/)\n",
    "- **Bahamas Leak** ->\n",
    "April 2, 2013\n",
    "- **China Leak ⭐️** ->\n",
    "January 21, 2014\n",
    "- **Lux Leak** ->\n",
    "December 9, 2014\n",
    "- **Swiss Leak** ->\n",
    "February 8, 2015 \n",
    "- **Panama Leak** ->\n",
    "April 3, 2016 "
   ]
  },
  {
   "cell_type": "markdown",
   "metadata": {},
   "source": [
    "### Importing libs\n",
    "___"
   ]
  },
  {
   "cell_type": "markdown",
   "metadata": {},
   "source": [
    "### Loading csv files"
   ]
  },
  {
   "cell_type": "code",
   "execution_count": 2,
   "metadata": {
    "collapsed": true,
    "scrolled": false
   },
   "outputs": [],
   "source": [
    "entities = r'./panama_csv/Entities.csv'\n",
    "entities = pd.read_csv(entities,index_col='name', header=0, low_memory=False)\n",
    "entities=entities.rename(columns = {'countries':'Country'})"
   ]
  },
  {
   "cell_type": "markdown",
   "metadata": {},
   "source": [
    "## Getting the most involved countries/jurisdictions.\n",
    "___\n",
    "From the Entities dataset we select:\n",
    "- **15 most involved countries**, on which we compute our analysis. Those countries are the countries that have the highest number of offshores accounts in tax haven jurisdictions.\n",
    "- **5 most involved jurisdictions**, on which we compute our analysis. Those jurisdictions are the jurisdictions that are managing / managed the highest registered number of offshores accounts worldwide.\n",
    "\n",
    "### What do we do?\n",
    "\n",
    "For each of the most involved countries/jurisdictions we analyze how much are they involved and what's their behavior throughout the years. \n",
    "\n",
    "1. We define how much each jurisdiction is involved by looking at how many offshores accounts are registered in it.\n",
    "2. We define how much those countries are involved by looking at how many offshores accounts are registered from this country as country of origin.\n",
    "\n",
    "It's important to note that we want to look also at the number of **new incorporations** - **inactivations** and **active offshores** for every year.\n",
    "\n",
    "The number of new incorporations as the number of inactivations for each year is easily derived by the dataset since for each account there it's registered the date of incorporation as the one of inactivation. \n",
    "The number of actives offshores in one year is easily computed with a simple algorithm given the dates above.\n",
    "\n",
    "### Why?\n",
    "\n",
    "To state wheter one scandals has visible worldwide consequences we must base our analysis on the number of, in this way analyzing:\n",
    "- **new incorporations**, this number can give us the proof is one scandal actually acted as a marketing tool, inviting people of one specific **COUNTRY** to invest in offshores account in one specific tax haven **JURISDICTION**.\n",
    "- **inactivations**, this number can give us the proof is one scandal scared people in one specific **COUNTRY** that are actually investing in one specific tax haven **JURISDICTION**.\n",
    "\n",
    "We are also interested to look at key events or particular years where the global market has undergone a major change. To do this we will look at the behavior of the most involved countries throughout the years, how they invested, how much and in which jurisdictions.\n",
    "\n",
    "## Further assumptions.\n",
    "We must note that all the following results are based on a fraction of the whole real data, which is the only available and emerged. We can consider the eventual results realistics since the data we are analyzing contains a good amount of data. However we cannot exclude that further scandals can obviously revert them.\n",
    "### Getting most involved countries and jurisdictions\n",
    "___\n",
    "We group by __Country/Jurisdiction__, we count the elements sorting by **node_id** which represent the unique id of each offshore account."
   ]
  },
  {
   "cell_type": "code",
   "execution_count": 3,
   "metadata": {
    "collapsed": true
   },
   "outputs": [],
   "source": [
    "most_involved = entities.groupby('Country').count().sort_values('node_id', ascending=False).head(15).index\n",
    "most_involved = most_involved[most_involved!='Not identified']\n",
    "most_involved_countries = []\n",
    "for involved in most_involved:\n",
    "    if involved == 'British Virgin Islands':\n",
    "        name = 'Virgin Islands (British)'\n",
    "    elif involved == 'United Kingdom':\n",
    "        name = 'United Kingdom of Great Britain and Northern Ireland'\n",
    "    else:\n",
    "        name = involved\n",
    "    most_involved_countries.append(name)"
   ]
  },
  {
   "cell_type": "code",
   "execution_count": 8,
   "metadata": {},
   "outputs": [
    {
     "data": {
      "text/html": [
       "<script>requirejs.config({paths: { 'plotly': ['https://cdn.plot.ly/plotly-latest.min']},});if(!window.Plotly) {{require(['plotly'],function(plotly) {window.Plotly=plotly;});}}</script>"
      ],
      "text/vnd.plotly.v1+html": [
       "<script>requirejs.config({paths: { 'plotly': ['https://cdn.plot.ly/plotly-latest.min']},});if(!window.Plotly) {{require(['plotly'],function(plotly) {window.Plotly=plotly;});}}</script>"
      ]
     },
     "metadata": {},
     "output_type": "display_data"
    },
    {
     "data": {
      "text/plain": [
       "Index(['Bahamas', 'British Virgin Islands', 'Panama', 'Seychelles'], dtype='object', name='jurisdiction_description')"
      ]
     },
     "execution_count": 8,
     "metadata": {},
     "output_type": "execute_result"
    }
   ],
   "source": [
    "most_involved_jur = entities.groupby('jurisdiction_description').count().sort_values('node_id', ascending=False).head().index\n",
    "most_involved_jur = most_involved_jur[most_involved_jur!='Undetermined']\n",
    "most_involved_jur"
   ]
  },
  {
   "cell_type": "markdown",
   "metadata": {},
   "source": [
    "## Preprocessing dataset\n",
    "___\n",
    "We process the entity dataframe to obtain a new dataframe that maps the flows of **inactivations**, **incorporations**, **actives** offshores for each year from one **country** to each **jurisdiction**.\n",
    "\n",
    "The structure of the new dataframe is composed in this way:\n",
    "- **jurisdiction**, the name of the jurisdiction where the offshore account is opened.\n",
    "- **Country**, the name of the origin country of the offshore account.\n",
    "- **date**, the year that the entry is considering.\n",
    "- **action**, wheter we are counting incorporations/inactivations/active offshores/strucks off offshores in the specific date described above\n",
    "- **offshores**, the number directly related to the field action described above in the specific year."
   ]
  },
  {
   "cell_type": "code",
   "execution_count": 9,
   "metadata": {
    "collapsed": true,
    "scrolled": false
   },
   "outputs": [],
   "source": [
    "countries_frame = preprocessing.process_countries(entities=entities, first_involved_countries=most_involved, analisys_on='jurisdiction', from_year=1980, to_year=2016)"
   ]
  },
  {
   "cell_type": "code",
   "execution_count": 73,
   "metadata": {},
   "outputs": [
    {
     "data": {
      "text/html": [
       "<div>\n",
       "<style>\n",
       "    .dataframe thead tr:only-child th {\n",
       "        text-align: right;\n",
       "    }\n",
       "\n",
       "    .dataframe thead th {\n",
       "        text-align: left;\n",
       "    }\n",
       "\n",
       "    .dataframe tbody tr th {\n",
       "        vertical-align: top;\n",
       "    }\n",
       "</style>\n",
       "<table border=\"1\" class=\"dataframe\">\n",
       "  <thead>\n",
       "    <tr style=\"text-align: right;\">\n",
       "      <th></th>\n",
       "      <th>Country</th>\n",
       "      <th>date</th>\n",
       "      <th>action</th>\n",
       "      <th>offshores</th>\n",
       "    </tr>\n",
       "    <tr>\n",
       "      <th>jurisdiction</th>\n",
       "      <th></th>\n",
       "      <th></th>\n",
       "      <th></th>\n",
       "      <th></th>\n",
       "    </tr>\n",
       "  </thead>\n",
       "  <tbody>\n",
       "    <tr>\n",
       "      <th>British Virgin Islands</th>\n",
       "      <td>Switzerland</td>\n",
       "      <td>2016</td>\n",
       "      <td>active offshores</td>\n",
       "      <td>4138.0</td>\n",
       "    </tr>\n",
       "    <tr>\n",
       "      <th>Panama</th>\n",
       "      <td>Switzerland</td>\n",
       "      <td>2016</td>\n",
       "      <td>active offshores</td>\n",
       "      <td>2924.0</td>\n",
       "    </tr>\n",
       "    <tr>\n",
       "      <th>Bahamas</th>\n",
       "      <td>Switzerland</td>\n",
       "      <td>2016</td>\n",
       "      <td>active offshores</td>\n",
       "      <td>341.0</td>\n",
       "    </tr>\n",
       "    <tr>\n",
       "      <th>Bahamas</th>\n",
       "      <td>Switzerland</td>\n",
       "      <td>2016</td>\n",
       "      <td>strucks</td>\n",
       "      <td>16.0</td>\n",
       "    </tr>\n",
       "    <tr>\n",
       "      <th>Belize</th>\n",
       "      <td>Switzerland</td>\n",
       "      <td>2016</td>\n",
       "      <td>active offshores</td>\n",
       "      <td>3.0</td>\n",
       "    </tr>\n",
       "  </tbody>\n",
       "</table>\n",
       "</div>"
      ],
      "text/plain": [
       "                            Country  date            action  offshores\n",
       "jurisdiction                                                          \n",
       "British Virgin Islands  Switzerland  2016  active offshores     4138.0\n",
       "Panama                  Switzerland  2016  active offshores     2924.0\n",
       "Bahamas                 Switzerland  2016  active offshores      341.0\n",
       "Bahamas                 Switzerland  2016           strucks       16.0\n",
       "Belize                  Switzerland  2016  active offshores        3.0"
      ]
     },
     "execution_count": 73,
     "metadata": {},
     "output_type": "execute_result"
    }
   ],
   "source": [
    "countries_frame[1].sort_values('date', ascending=False).head()"
   ]
  },
  {
   "cell_type": "code",
   "execution_count": 123,
   "metadata": {
    "scrolled": false
   },
   "outputs": [
    {
     "data": {
      "text/html": [
       "<script>requirejs.config({paths: { 'plotly': ['https://cdn.plot.ly/plotly-latest.min']},});if(!window.Plotly) {{require(['plotly'],function(plotly) {window.Plotly=plotly;});}}</script>"
      ],
      "text/vnd.plotly.v1+html": [
       "<script>requirejs.config({paths: { 'plotly': ['https://cdn.plot.ly/plotly-latest.min']},});if(!window.Plotly) {{require(['plotly'],function(plotly) {window.Plotly=plotly;});}}</script>"
      ]
     },
     "metadata": {},
     "output_type": "display_data"
    },
    {
     "data": {
      "application/vnd.plotly.v1+json": {
       "data": [
        {
         "name": "Panama",
         "type": "scatter",
         "x": [
          1986,
          1987,
          1988,
          1989,
          1990,
          1991,
          1992,
          1993,
          1994,
          1995,
          1996,
          1997,
          1998,
          1999,
          2000,
          2001,
          2002,
          2003,
          2004,
          2005,
          2006,
          2007,
          2008,
          2009,
          2010,
          2011,
          2012,
          2013,
          2014,
          2015
         ],
         "y": [
          1,
          1,
          5,
          9,
          19,
          27,
          28,
          21,
          30,
          17,
          36,
          26,
          19,
          18,
          10,
          23,
          23,
          12,
          18,
          14,
          9,
          11,
          7,
          6,
          6,
          10,
          10,
          14,
          8,
          10
         ]
        },
        {
         "name": "British Virgin Islands",
         "type": "scatter",
         "x": [
          1990,
          1991,
          1992,
          1993,
          1994,
          1995,
          1996,
          1997,
          1998,
          1999,
          2000,
          2001,
          2002,
          2003,
          2004,
          2005,
          2006,
          2007,
          2008,
          2009,
          2010,
          2011,
          2012,
          2013,
          2014,
          2015
         ],
         "y": [
          15,
          60,
          88,
          101,
          191,
          356,
          423,
          405,
          557,
          756,
          530,
          720,
          761,
          789,
          891,
          860,
          984,
          914,
          871,
          1002,
          948,
          803,
          826,
          920,
          1242,
          1048
         ]
        },
        {
         "name": "Bahamas",
         "type": "scatter",
         "x": [
          1993,
          1994,
          1995,
          1996,
          1997,
          1998,
          1999,
          2000,
          2001,
          2002,
          2003,
          2004,
          2005,
          2006,
          2007,
          2008,
          2009,
          2010,
          2011,
          2012,
          2013,
          2014,
          2015
         ],
         "y": [
          7,
          9,
          21,
          43,
          51,
          72,
          93,
          78,
          58,
          91,
          36,
          41,
          27,
          10,
          15,
          25,
          18,
          20,
          11,
          3,
          12,
          10,
          6
         ]
        },
        {
         "name": "Niue",
         "type": "scatter",
         "x": [
          1995,
          1996,
          1997,
          1998,
          1999,
          2000,
          2001,
          2002,
          2003,
          2004,
          2005,
          2006,
          2007,
          2010,
          2011
         ],
         "y": [
          1,
          9,
          21,
          42,
          25,
          72,
          138,
          174,
          116,
          67,
          110,
          180,
          33,
          2,
          4
         ]
        },
        {
         "name": "Seychelles",
         "type": "scatter",
         "x": [
          2001,
          2002,
          2003,
          2004,
          2005,
          2006,
          2007,
          2008,
          2009,
          2010,
          2011,
          2012,
          2013,
          2014,
          2015
         ],
         "y": [
          2,
          3,
          6,
          17,
          23,
          30,
          24,
          71,
          89,
          131,
          157,
          104,
          120,
          214,
          238
         ]
        },
        {
         "name": "Samoa",
         "type": "scatter",
         "x": [
          2005,
          2006,
          2007,
          2008,
          2009,
          2010,
          2011,
          2012,
          2013,
          2014,
          2015
         ],
         "y": [
          3,
          28,
          33,
          93,
          116,
          140,
          148,
          126,
          151,
          131,
          157
         ]
        },
        {
         "name": "Nevada",
         "type": "scatter",
         "x": [
          2005,
          2006,
          2007,
          2008,
          2009,
          2010,
          2011,
          2012,
          2013,
          2014,
          2015
         ],
         "y": [
          5,
          3,
          1,
          5,
          2,
          1,
          3,
          1,
          2,
          3,
          4
         ]
        },
        {
         "name": "Hong Kong",
         "type": "scatter",
         "x": [
          2005,
          2006,
          2007,
          2008,
          2009,
          2010,
          2011,
          2013,
          2014,
          2015
         ],
         "y": [
          1,
          2,
          4,
          2,
          5,
          5,
          2,
          10,
          1,
          1
         ]
        },
        {
         "name": "British Anguilla",
         "type": "scatter",
         "x": [
          2009,
          2010,
          2011,
          2012,
          2013,
          2014,
          2015
         ],
         "y": [
          1,
          2,
          19,
          63,
          33,
          90,
          99
         ]
        }
       ],
       "layout": {
        "title": "Hong Kong inactivations account distribution by jurisdiction with time series",
        "xaxis": {
         "rangeslider": {},
         "type": "date"
        }
       }
      },
      "text/html": [
       "<div id=\"0bd491f8-5c80-420f-a9cf-a48508debcc8\" style=\"height: 525px; width: 100%;\" class=\"plotly-graph-div\"></div><script type=\"text/javascript\">require([\"plotly\"], function(Plotly) { window.PLOTLYENV=window.PLOTLYENV || {};window.PLOTLYENV.BASE_URL=\"https://plot.ly\";Plotly.newPlot(\"0bd491f8-5c80-420f-a9cf-a48508debcc8\", [{\"type\": \"scatter\", \"x\": [1986, 1987, 1988, 1989, 1990, 1991, 1992, 1993, 1994, 1995, 1996, 1997, 1998, 1999, 2000, 2001, 2002, 2003, 2004, 2005, 2006, 2007, 2008, 2009, 2010, 2011, 2012, 2013, 2014, 2015], \"y\": [1.0, 1.0, 5.0, 9.0, 19.0, 27.0, 28.0, 21.0, 30.0, 17.0, 36.0, 26.0, 19.0, 18.0, 10.0, 23.0, 23.0, 12.0, 18.0, 14.0, 9.0, 11.0, 7.0, 6.0, 6.0, 10.0, 10.0, 14.0, 8.0, 10.0], \"name\": \"Panama\"}, {\"type\": \"scatter\", \"x\": [1990, 1991, 1992, 1993, 1994, 1995, 1996, 1997, 1998, 1999, 2000, 2001, 2002, 2003, 2004, 2005, 2006, 2007, 2008, 2009, 2010, 2011, 2012, 2013, 2014, 2015], \"y\": [15.0, 60.0, 88.0, 101.0, 191.0, 356.0, 423.0, 405.0, 557.0, 756.0, 530.0, 720.0, 761.0, 789.0, 891.0, 860.0, 984.0, 914.0, 871.0, 1002.0, 948.0, 803.0, 826.0, 920.0, 1242.0, 1048.0], \"name\": \"British Virgin Islands\"}, {\"type\": \"scatter\", \"x\": [1993, 1994, 1995, 1996, 1997, 1998, 1999, 2000, 2001, 2002, 2003, 2004, 2005, 2006, 2007, 2008, 2009, 2010, 2011, 2012, 2013, 2014, 2015], \"y\": [7.0, 9.0, 21.0, 43.0, 51.0, 72.0, 93.0, 78.0, 58.0, 91.0, 36.0, 41.0, 27.0, 10.0, 15.0, 25.0, 18.0, 20.0, 11.0, 3.0, 12.0, 10.0, 6.0], \"name\": \"Bahamas\"}, {\"type\": \"scatter\", \"x\": [1995, 1996, 1997, 1998, 1999, 2000, 2001, 2002, 2003, 2004, 2005, 2006, 2007, 2010, 2011], \"y\": [1.0, 9.0, 21.0, 42.0, 25.0, 72.0, 138.0, 174.0, 116.0, 67.0, 110.0, 180.0, 33.0, 2.0, 4.0], \"name\": \"Niue\"}, {\"type\": \"scatter\", \"x\": [2001, 2002, 2003, 2004, 2005, 2006, 2007, 2008, 2009, 2010, 2011, 2012, 2013, 2014, 2015], \"y\": [2.0, 3.0, 6.0, 17.0, 23.0, 30.0, 24.0, 71.0, 89.0, 131.0, 157.0, 104.0, 120.0, 214.0, 238.0], \"name\": \"Seychelles\"}, {\"type\": \"scatter\", \"x\": [2005, 2006, 2007, 2008, 2009, 2010, 2011, 2012, 2013, 2014, 2015], \"y\": [3.0, 28.0, 33.0, 93.0, 116.0, 140.0, 148.0, 126.0, 151.0, 131.0, 157.0], \"name\": \"Samoa\"}, {\"type\": \"scatter\", \"x\": [2005, 2006, 2007, 2008, 2009, 2010, 2011, 2012, 2013, 2014, 2015], \"y\": [5.0, 3.0, 1.0, 5.0, 2.0, 1.0, 3.0, 1.0, 2.0, 3.0, 4.0], \"name\": \"Nevada\"}, {\"type\": \"scatter\", \"x\": [2005, 2006, 2007, 2008, 2009, 2010, 2011, 2013, 2014, 2015], \"y\": [1.0, 2.0, 4.0, 2.0, 5.0, 5.0, 2.0, 10.0, 1.0, 1.0], \"name\": \"Hong Kong\"}, {\"type\": \"scatter\", \"x\": [2009, 2010, 2011, 2012, 2013, 2014, 2015], \"y\": [1.0, 2.0, 19.0, 63.0, 33.0, 90.0, 99.0], \"name\": \"British Anguilla\"}], {\"title\": \"Hong Kong inactivations account distribution by jurisdiction with time series\", \"xaxis\": {\"rangeslider\": {}, \"type\": \"date\"}}, {\"showLink\": true, \"linkText\": \"Export to plot.ly\"})});</script>"
      ],
      "text/vnd.plotly.v1+html": [
       "<div id=\"0bd491f8-5c80-420f-a9cf-a48508debcc8\" style=\"height: 525px; width: 100%;\" class=\"plotly-graph-div\"></div><script type=\"text/javascript\">require([\"plotly\"], function(Plotly) { window.PLOTLYENV=window.PLOTLYENV || {};window.PLOTLYENV.BASE_URL=\"https://plot.ly\";Plotly.newPlot(\"0bd491f8-5c80-420f-a9cf-a48508debcc8\", [{\"type\": \"scatter\", \"x\": [1986, 1987, 1988, 1989, 1990, 1991, 1992, 1993, 1994, 1995, 1996, 1997, 1998, 1999, 2000, 2001, 2002, 2003, 2004, 2005, 2006, 2007, 2008, 2009, 2010, 2011, 2012, 2013, 2014, 2015], \"y\": [1.0, 1.0, 5.0, 9.0, 19.0, 27.0, 28.0, 21.0, 30.0, 17.0, 36.0, 26.0, 19.0, 18.0, 10.0, 23.0, 23.0, 12.0, 18.0, 14.0, 9.0, 11.0, 7.0, 6.0, 6.0, 10.0, 10.0, 14.0, 8.0, 10.0], \"name\": \"Panama\"}, {\"type\": \"scatter\", \"x\": [1990, 1991, 1992, 1993, 1994, 1995, 1996, 1997, 1998, 1999, 2000, 2001, 2002, 2003, 2004, 2005, 2006, 2007, 2008, 2009, 2010, 2011, 2012, 2013, 2014, 2015], \"y\": [15.0, 60.0, 88.0, 101.0, 191.0, 356.0, 423.0, 405.0, 557.0, 756.0, 530.0, 720.0, 761.0, 789.0, 891.0, 860.0, 984.0, 914.0, 871.0, 1002.0, 948.0, 803.0, 826.0, 920.0, 1242.0, 1048.0], \"name\": \"British Virgin Islands\"}, {\"type\": \"scatter\", \"x\": [1993, 1994, 1995, 1996, 1997, 1998, 1999, 2000, 2001, 2002, 2003, 2004, 2005, 2006, 2007, 2008, 2009, 2010, 2011, 2012, 2013, 2014, 2015], \"y\": [7.0, 9.0, 21.0, 43.0, 51.0, 72.0, 93.0, 78.0, 58.0, 91.0, 36.0, 41.0, 27.0, 10.0, 15.0, 25.0, 18.0, 20.0, 11.0, 3.0, 12.0, 10.0, 6.0], \"name\": \"Bahamas\"}, {\"type\": \"scatter\", \"x\": [1995, 1996, 1997, 1998, 1999, 2000, 2001, 2002, 2003, 2004, 2005, 2006, 2007, 2010, 2011], \"y\": [1.0, 9.0, 21.0, 42.0, 25.0, 72.0, 138.0, 174.0, 116.0, 67.0, 110.0, 180.0, 33.0, 2.0, 4.0], \"name\": \"Niue\"}, {\"type\": \"scatter\", \"x\": [2001, 2002, 2003, 2004, 2005, 2006, 2007, 2008, 2009, 2010, 2011, 2012, 2013, 2014, 2015], \"y\": [2.0, 3.0, 6.0, 17.0, 23.0, 30.0, 24.0, 71.0, 89.0, 131.0, 157.0, 104.0, 120.0, 214.0, 238.0], \"name\": \"Seychelles\"}, {\"type\": \"scatter\", \"x\": [2005, 2006, 2007, 2008, 2009, 2010, 2011, 2012, 2013, 2014, 2015], \"y\": [3.0, 28.0, 33.0, 93.0, 116.0, 140.0, 148.0, 126.0, 151.0, 131.0, 157.0], \"name\": \"Samoa\"}, {\"type\": \"scatter\", \"x\": [2005, 2006, 2007, 2008, 2009, 2010, 2011, 2012, 2013, 2014, 2015], \"y\": [5.0, 3.0, 1.0, 5.0, 2.0, 1.0, 3.0, 1.0, 2.0, 3.0, 4.0], \"name\": \"Nevada\"}, {\"type\": \"scatter\", \"x\": [2005, 2006, 2007, 2008, 2009, 2010, 2011, 2013, 2014, 2015], \"y\": [1.0, 2.0, 4.0, 2.0, 5.0, 5.0, 2.0, 10.0, 1.0, 1.0], \"name\": \"Hong Kong\"}, {\"type\": \"scatter\", \"x\": [2009, 2010, 2011, 2012, 2013, 2014, 2015], \"y\": [1.0, 2.0, 19.0, 63.0, 33.0, 90.0, 99.0], \"name\": \"British Anguilla\"}], {\"title\": \"Hong Kong inactivations account distribution by jurisdiction with time series\", \"xaxis\": {\"rangeslider\": {}, \"type\": \"date\"}}, {\"showLink\": true, \"linkText\": \"Export to plot.ly\"})});</script>"
      ]
     },
     "metadata": {},
     "output_type": "display_data"
    },
    {
     "data": {
      "application/vnd.plotly.v1+json": {
       "data": [
        {
         "name": "Panama",
         "type": "scatter",
         "x": [
          1980,
          1981,
          1982,
          1983,
          1984,
          1985,
          1986,
          1987,
          1988,
          1989,
          1990,
          1991,
          1992,
          1993,
          1994,
          1995,
          1996,
          1997,
          1998,
          1999,
          2000,
          2001,
          2002,
          2003,
          2004,
          2005,
          2006,
          2007,
          2008,
          2009,
          2010,
          2011,
          2012,
          2013,
          2014,
          2015
         ],
         "y": [
          1,
          3,
          6,
          7,
          7,
          10,
          12,
          34,
          36,
          84,
          98,
          129,
          65,
          111,
          105,
          88,
          92,
          167,
          104,
          96,
          97,
          91,
          110,
          120,
          106,
          164,
          177,
          264,
          512,
          673,
          869,
          728,
          755,
          1291,
          806,
          613
         ]
        },
        {
         "name": "British Virgin Islands",
         "type": "scatter",
         "x": [
          1990,
          1991,
          1992,
          1993,
          1994,
          1995,
          1996,
          1997,
          1998,
          1999,
          2000,
          2001,
          2002,
          2003,
          2004,
          2005,
          2006,
          2007,
          2008,
          2009,
          2010,
          2011,
          2012,
          2013,
          2014,
          2015
         ],
         "y": [
          9,
          103,
          95,
          143,
          215,
          257,
          432,
          468,
          495,
          554,
          453,
          594,
          752,
          883,
          751,
          787,
          851,
          878,
          877,
          1012,
          1140,
          893,
          599,
          680,
          832,
          759
         ]
        },
        {
         "name": "Bahamas",
         "type": "scatter",
         "x": [
          1991,
          1992,
          1993,
          1994,
          1995,
          1996,
          1997,
          1998,
          1999,
          2000,
          2001,
          2002,
          2003,
          2004,
          2005,
          2006,
          2007,
          2008,
          2009,
          2010,
          2011,
          2012,
          2013,
          2014,
          2015
         ],
         "y": [
          1,
          13,
          28,
          25,
          27,
          101,
          82,
          136,
          180,
          110,
          221,
          182,
          91,
          100,
          68,
          43,
          34,
          61,
          34,
          58,
          49,
          42,
          39,
          33,
          28
         ]
        },
        {
         "name": "Niue",
         "type": "scatter",
         "x": [
          1996,
          1997,
          1998,
          1999,
          2000,
          2001,
          2002,
          2003,
          2004,
          2005,
          2006,
          2007,
          2008,
          2009,
          2010,
          2011,
          2012,
          2013
         ],
         "y": [
          24,
          54,
          81,
          68,
          115,
          207,
          210,
          159,
          158,
          196,
          308,
          265,
          1,
          19,
          5,
          6,
          1,
          1
         ]
        },
        {
         "name": "Seychelles",
         "type": "scatter",
         "x": [
          2001,
          2002,
          2003,
          2004,
          2005,
          2006,
          2007,
          2008,
          2009,
          2010,
          2011,
          2012,
          2013,
          2014,
          2015
         ],
         "y": [
          4,
          6,
          13,
          17,
          13,
          20,
          38,
          56,
          159,
          175,
          134,
          100,
          119,
          134,
          99
         ]
        },
        {
         "name": "Hong Kong",
         "type": "scatter",
         "x": [
          2001,
          2003,
          2004,
          2006,
          2009,
          2010,
          2012,
          2013,
          2014,
          2015
         ],
         "y": [
          1,
          1,
          1,
          1,
          3,
          1,
          1,
          4,
          5,
          1
         ]
        },
        {
         "name": "Nevada",
         "type": "scatter",
         "x": [
          2003,
          2004,
          2005,
          2006,
          2007,
          2008,
          2009,
          2010,
          2011,
          2012,
          2013,
          2014,
          2015
         ],
         "y": [
          2,
          6,
          3,
          17,
          4,
          21,
          9,
          16,
          15,
          7,
          4,
          10,
          4
         ]
        },
        {
         "name": "Samoa",
         "type": "scatter",
         "x": [
          2005,
          2006,
          2007,
          2008,
          2009,
          2010,
          2011,
          2012,
          2013,
          2014,
          2015
         ],
         "y": [
          1,
          2,
          26,
          35,
          111,
          50,
          28,
          31,
          24,
          64,
          36
         ]
        },
        {
         "name": "British Anguilla",
         "type": "scatter",
         "x": [
          2011,
          2012,
          2013,
          2014,
          2015
         ],
         "y": [
          2,
          1,
          1,
          3,
          5
         ]
        },
        {
         "name": "Uruguay",
         "type": "scatter",
         "x": [
          2012,
          2014
         ],
         "y": [
          1,
          1
         ]
        },
        {
         "name": "Belize",
         "type": "scatter",
         "x": [
          2015
         ],
         "y": [
          1
         ]
        }
       ],
       "layout": {
        "title": "Switzerland inactivations account distribution by jurisdiction with time series",
        "xaxis": {
         "rangeslider": {},
         "type": "date"
        }
       }
      },
      "text/html": [
       "<div id=\"2d501e43-4498-4ff8-8411-2ade8f802e8e\" style=\"height: 525px; width: 100%;\" class=\"plotly-graph-div\"></div><script type=\"text/javascript\">require([\"plotly\"], function(Plotly) { window.PLOTLYENV=window.PLOTLYENV || {};window.PLOTLYENV.BASE_URL=\"https://plot.ly\";Plotly.newPlot(\"2d501e43-4498-4ff8-8411-2ade8f802e8e\", [{\"type\": \"scatter\", \"x\": [1980, 1981, 1982, 1983, 1984, 1985, 1986, 1987, 1988, 1989, 1990, 1991, 1992, 1993, 1994, 1995, 1996, 1997, 1998, 1999, 2000, 2001, 2002, 2003, 2004, 2005, 2006, 2007, 2008, 2009, 2010, 2011, 2012, 2013, 2014, 2015], \"y\": [1.0, 3.0, 6.0, 7.0, 7.0, 10.0, 12.0, 34.0, 36.0, 84.0, 98.0, 129.0, 65.0, 111.0, 105.0, 88.0, 92.0, 167.0, 104.0, 96.0, 97.0, 91.0, 110.0, 120.0, 106.0, 164.0, 177.0, 264.0, 512.0, 673.0, 869.0, 728.0, 755.0, 1291.0, 806.0, 613.0], \"name\": \"Panama\"}, {\"type\": \"scatter\", \"x\": [1990, 1991, 1992, 1993, 1994, 1995, 1996, 1997, 1998, 1999, 2000, 2001, 2002, 2003, 2004, 2005, 2006, 2007, 2008, 2009, 2010, 2011, 2012, 2013, 2014, 2015], \"y\": [9.0, 103.0, 95.0, 143.0, 215.0, 257.0, 432.0, 468.0, 495.0, 554.0, 453.0, 594.0, 752.0, 883.0, 751.0, 787.0, 851.0, 878.0, 877.0, 1012.0, 1140.0, 893.0, 599.0, 680.0, 832.0, 759.0], \"name\": \"British Virgin Islands\"}, {\"type\": \"scatter\", \"x\": [1991, 1992, 1993, 1994, 1995, 1996, 1997, 1998, 1999, 2000, 2001, 2002, 2003, 2004, 2005, 2006, 2007, 2008, 2009, 2010, 2011, 2012, 2013, 2014, 2015], \"y\": [1.0, 13.0, 28.0, 25.0, 27.0, 101.0, 82.0, 136.0, 180.0, 110.0, 221.0, 182.0, 91.0, 100.0, 68.0, 43.0, 34.0, 61.0, 34.0, 58.0, 49.0, 42.0, 39.0, 33.0, 28.0], \"name\": \"Bahamas\"}, {\"type\": \"scatter\", \"x\": [1996, 1997, 1998, 1999, 2000, 2001, 2002, 2003, 2004, 2005, 2006, 2007, 2008, 2009, 2010, 2011, 2012, 2013], \"y\": [24.0, 54.0, 81.0, 68.0, 115.0, 207.0, 210.0, 159.0, 158.0, 196.0, 308.0, 265.0, 1.0, 19.0, 5.0, 6.0, 1.0, 1.0], \"name\": \"Niue\"}, {\"type\": \"scatter\", \"x\": [2001, 2002, 2003, 2004, 2005, 2006, 2007, 2008, 2009, 2010, 2011, 2012, 2013, 2014, 2015], \"y\": [4.0, 6.0, 13.0, 17.0, 13.0, 20.0, 38.0, 56.0, 159.0, 175.0, 134.0, 100.0, 119.0, 134.0, 99.0], \"name\": \"Seychelles\"}, {\"type\": \"scatter\", \"x\": [2001, 2003, 2004, 2006, 2009, 2010, 2012, 2013, 2014, 2015], \"y\": [1.0, 1.0, 1.0, 1.0, 3.0, 1.0, 1.0, 4.0, 5.0, 1.0], \"name\": \"Hong Kong\"}, {\"type\": \"scatter\", \"x\": [2003, 2004, 2005, 2006, 2007, 2008, 2009, 2010, 2011, 2012, 2013, 2014, 2015], \"y\": [2.0, 6.0, 3.0, 17.0, 4.0, 21.0, 9.0, 16.0, 15.0, 7.0, 4.0, 10.0, 4.0], \"name\": \"Nevada\"}, {\"type\": \"scatter\", \"x\": [2005, 2006, 2007, 2008, 2009, 2010, 2011, 2012, 2013, 2014, 2015], \"y\": [1.0, 2.0, 26.0, 35.0, 111.0, 50.0, 28.0, 31.0, 24.0, 64.0, 36.0], \"name\": \"Samoa\"}, {\"type\": \"scatter\", \"x\": [2011, 2012, 2013, 2014, 2015], \"y\": [2.0, 1.0, 1.0, 3.0, 5.0], \"name\": \"British Anguilla\"}, {\"type\": \"scatter\", \"x\": [2012, 2014], \"y\": [1.0, 1.0], \"name\": \"Uruguay\"}, {\"type\": \"scatter\", \"x\": [2015], \"y\": [1.0], \"name\": \"Belize\"}], {\"title\": \"Switzerland inactivations account distribution by jurisdiction with time series\", \"xaxis\": {\"rangeslider\": {}, \"type\": \"date\"}}, {\"showLink\": true, \"linkText\": \"Export to plot.ly\"})});</script>"
      ],
      "text/vnd.plotly.v1+html": [
       "<div id=\"2d501e43-4498-4ff8-8411-2ade8f802e8e\" style=\"height: 525px; width: 100%;\" class=\"plotly-graph-div\"></div><script type=\"text/javascript\">require([\"plotly\"], function(Plotly) { window.PLOTLYENV=window.PLOTLYENV || {};window.PLOTLYENV.BASE_URL=\"https://plot.ly\";Plotly.newPlot(\"2d501e43-4498-4ff8-8411-2ade8f802e8e\", [{\"type\": \"scatter\", \"x\": [1980, 1981, 1982, 1983, 1984, 1985, 1986, 1987, 1988, 1989, 1990, 1991, 1992, 1993, 1994, 1995, 1996, 1997, 1998, 1999, 2000, 2001, 2002, 2003, 2004, 2005, 2006, 2007, 2008, 2009, 2010, 2011, 2012, 2013, 2014, 2015], \"y\": [1.0, 3.0, 6.0, 7.0, 7.0, 10.0, 12.0, 34.0, 36.0, 84.0, 98.0, 129.0, 65.0, 111.0, 105.0, 88.0, 92.0, 167.0, 104.0, 96.0, 97.0, 91.0, 110.0, 120.0, 106.0, 164.0, 177.0, 264.0, 512.0, 673.0, 869.0, 728.0, 755.0, 1291.0, 806.0, 613.0], \"name\": \"Panama\"}, {\"type\": \"scatter\", \"x\": [1990, 1991, 1992, 1993, 1994, 1995, 1996, 1997, 1998, 1999, 2000, 2001, 2002, 2003, 2004, 2005, 2006, 2007, 2008, 2009, 2010, 2011, 2012, 2013, 2014, 2015], \"y\": [9.0, 103.0, 95.0, 143.0, 215.0, 257.0, 432.0, 468.0, 495.0, 554.0, 453.0, 594.0, 752.0, 883.0, 751.0, 787.0, 851.0, 878.0, 877.0, 1012.0, 1140.0, 893.0, 599.0, 680.0, 832.0, 759.0], \"name\": \"British Virgin Islands\"}, {\"type\": \"scatter\", \"x\": [1991, 1992, 1993, 1994, 1995, 1996, 1997, 1998, 1999, 2000, 2001, 2002, 2003, 2004, 2005, 2006, 2007, 2008, 2009, 2010, 2011, 2012, 2013, 2014, 2015], \"y\": [1.0, 13.0, 28.0, 25.0, 27.0, 101.0, 82.0, 136.0, 180.0, 110.0, 221.0, 182.0, 91.0, 100.0, 68.0, 43.0, 34.0, 61.0, 34.0, 58.0, 49.0, 42.0, 39.0, 33.0, 28.0], \"name\": \"Bahamas\"}, {\"type\": \"scatter\", \"x\": [1996, 1997, 1998, 1999, 2000, 2001, 2002, 2003, 2004, 2005, 2006, 2007, 2008, 2009, 2010, 2011, 2012, 2013], \"y\": [24.0, 54.0, 81.0, 68.0, 115.0, 207.0, 210.0, 159.0, 158.0, 196.0, 308.0, 265.0, 1.0, 19.0, 5.0, 6.0, 1.0, 1.0], \"name\": \"Niue\"}, {\"type\": \"scatter\", \"x\": [2001, 2002, 2003, 2004, 2005, 2006, 2007, 2008, 2009, 2010, 2011, 2012, 2013, 2014, 2015], \"y\": [4.0, 6.0, 13.0, 17.0, 13.0, 20.0, 38.0, 56.0, 159.0, 175.0, 134.0, 100.0, 119.0, 134.0, 99.0], \"name\": \"Seychelles\"}, {\"type\": \"scatter\", \"x\": [2001, 2003, 2004, 2006, 2009, 2010, 2012, 2013, 2014, 2015], \"y\": [1.0, 1.0, 1.0, 1.0, 3.0, 1.0, 1.0, 4.0, 5.0, 1.0], \"name\": \"Hong Kong\"}, {\"type\": \"scatter\", \"x\": [2003, 2004, 2005, 2006, 2007, 2008, 2009, 2010, 2011, 2012, 2013, 2014, 2015], \"y\": [2.0, 6.0, 3.0, 17.0, 4.0, 21.0, 9.0, 16.0, 15.0, 7.0, 4.0, 10.0, 4.0], \"name\": \"Nevada\"}, {\"type\": \"scatter\", \"x\": [2005, 2006, 2007, 2008, 2009, 2010, 2011, 2012, 2013, 2014, 2015], \"y\": [1.0, 2.0, 26.0, 35.0, 111.0, 50.0, 28.0, 31.0, 24.0, 64.0, 36.0], \"name\": \"Samoa\"}, {\"type\": \"scatter\", \"x\": [2011, 2012, 2013, 2014, 2015], \"y\": [2.0, 1.0, 1.0, 3.0, 5.0], \"name\": \"British Anguilla\"}, {\"type\": \"scatter\", \"x\": [2012, 2014], \"y\": [1.0, 1.0], \"name\": \"Uruguay\"}, {\"type\": \"scatter\", \"x\": [2015], \"y\": [1.0], \"name\": \"Belize\"}], {\"title\": \"Switzerland inactivations account distribution by jurisdiction with time series\", \"xaxis\": {\"rangeslider\": {}, \"type\": \"date\"}}, {\"showLink\": true, \"linkText\": \"Export to plot.ly\"})});</script>"
      ]
     },
     "metadata": {},
     "output_type": "display_data"
    },
    {
     "data": {
      "application/vnd.plotly.v1+json": {
       "data": [
        {
         "name": "Panama",
         "type": "scatter",
         "x": [
          1983,
          2001,
          2002,
          2003,
          2004,
          2005,
          2006,
          2007,
          2008,
          2009,
          2010,
          2011,
          2012,
          2013,
          2014,
          2015
         ],
         "y": [
          1,
          2,
          1,
          2,
          3,
          6,
          1,
          3,
          4,
          1,
          1,
          7,
          5,
          12,
          5,
          2
         ]
        },
        {
         "name": "British Virgin Islands",
         "type": "scatter",
         "x": [
          1989,
          1990,
          1991,
          1992,
          1993,
          1994,
          1996,
          1997,
          1999,
          2000,
          2001,
          2002,
          2003,
          2004,
          2005,
          2006,
          2007,
          2008,
          2009,
          2010,
          2011,
          2012,
          2013,
          2014,
          2015
         ],
         "y": [
          1,
          2,
          1,
          1,
          3,
          2,
          1,
          2,
          1,
          2,
          10,
          16,
          7,
          6,
          46,
          12,
          19,
          27,
          203,
          32,
          41,
          48,
          28,
          69,
          82
         ]
        },
        {
         "name": "Bahamas",
         "type": "scatter",
         "x": [
          1996,
          1998,
          1999,
          2000,
          2001,
          2002,
          2003,
          2004,
          2005,
          2006,
          2007,
          2008,
          2009,
          2010,
          2011,
          2012,
          2013
         ],
         "y": [
          1,
          4,
          14,
          9,
          35,
          31,
          16,
          10,
          1,
          4,
          4,
          4,
          2,
          2,
          3,
          1,
          1
         ]
        },
        {
         "name": "Niue",
         "type": "scatter",
         "x": [
          2004,
          2007
         ],
         "y": [
          1,
          1
         ]
        },
        {
         "name": "Seychelles",
         "type": "scatter",
         "x": [
          2009,
          2014,
          2015
         ],
         "y": [
          1,
          2,
          1
         ]
        },
        {
         "name": "Nevada",
         "type": "scatter",
         "x": [
          2012
         ],
         "y": [
          1
         ]
        }
       ],
       "layout": {
        "title": "British Virgin Islands inactivations account distribution by jurisdiction with time series",
        "xaxis": {
         "rangeslider": {},
         "type": "date"
        }
       }
      },
      "text/html": [
       "<div id=\"82dc1ae5-e78e-49ae-a289-a717ef49a405\" style=\"height: 525px; width: 100%;\" class=\"plotly-graph-div\"></div><script type=\"text/javascript\">require([\"plotly\"], function(Plotly) { window.PLOTLYENV=window.PLOTLYENV || {};window.PLOTLYENV.BASE_URL=\"https://plot.ly\";Plotly.newPlot(\"82dc1ae5-e78e-49ae-a289-a717ef49a405\", [{\"type\": \"scatter\", \"x\": [1983, 2001, 2002, 2003, 2004, 2005, 2006, 2007, 2008, 2009, 2010, 2011, 2012, 2013, 2014, 2015], \"y\": [1.0, 2.0, 1.0, 2.0, 3.0, 6.0, 1.0, 3.0, 4.0, 1.0, 1.0, 7.0, 5.0, 12.0, 5.0, 2.0], \"name\": \"Panama\"}, {\"type\": \"scatter\", \"x\": [1989, 1990, 1991, 1992, 1993, 1994, 1996, 1997, 1999, 2000, 2001, 2002, 2003, 2004, 2005, 2006, 2007, 2008, 2009, 2010, 2011, 2012, 2013, 2014, 2015], \"y\": [1.0, 2.0, 1.0, 1.0, 3.0, 2.0, 1.0, 2.0, 1.0, 2.0, 10.0, 16.0, 7.0, 6.0, 46.0, 12.0, 19.0, 27.0, 203.0, 32.0, 41.0, 48.0, 28.0, 69.0, 82.0], \"name\": \"British Virgin Islands\"}, {\"type\": \"scatter\", \"x\": [1996, 1998, 1999, 2000, 2001, 2002, 2003, 2004, 2005, 2006, 2007, 2008, 2009, 2010, 2011, 2012, 2013], \"y\": [1.0, 4.0, 14.0, 9.0, 35.0, 31.0, 16.0, 10.0, 1.0, 4.0, 4.0, 4.0, 2.0, 2.0, 3.0, 1.0, 1.0], \"name\": \"Bahamas\"}, {\"type\": \"scatter\", \"x\": [2004, 2007], \"y\": [1.0, 1.0], \"name\": \"Niue\"}, {\"type\": \"scatter\", \"x\": [2009, 2014, 2015], \"y\": [1.0, 2.0, 1.0], \"name\": \"Seychelles\"}, {\"type\": \"scatter\", \"x\": [2012], \"y\": [1.0], \"name\": \"Nevada\"}], {\"title\": \"British Virgin Islands inactivations account distribution by jurisdiction with time series\", \"xaxis\": {\"rangeslider\": {}, \"type\": \"date\"}}, {\"showLink\": true, \"linkText\": \"Export to plot.ly\"})});</script>"
      ],
      "text/vnd.plotly.v1+html": [
       "<div id=\"82dc1ae5-e78e-49ae-a289-a717ef49a405\" style=\"height: 525px; width: 100%;\" class=\"plotly-graph-div\"></div><script type=\"text/javascript\">require([\"plotly\"], function(Plotly) { window.PLOTLYENV=window.PLOTLYENV || {};window.PLOTLYENV.BASE_URL=\"https://plot.ly\";Plotly.newPlot(\"82dc1ae5-e78e-49ae-a289-a717ef49a405\", [{\"type\": \"scatter\", \"x\": [1983, 2001, 2002, 2003, 2004, 2005, 2006, 2007, 2008, 2009, 2010, 2011, 2012, 2013, 2014, 2015], \"y\": [1.0, 2.0, 1.0, 2.0, 3.0, 6.0, 1.0, 3.0, 4.0, 1.0, 1.0, 7.0, 5.0, 12.0, 5.0, 2.0], \"name\": \"Panama\"}, {\"type\": \"scatter\", \"x\": [1989, 1990, 1991, 1992, 1993, 1994, 1996, 1997, 1999, 2000, 2001, 2002, 2003, 2004, 2005, 2006, 2007, 2008, 2009, 2010, 2011, 2012, 2013, 2014, 2015], \"y\": [1.0, 2.0, 1.0, 1.0, 3.0, 2.0, 1.0, 2.0, 1.0, 2.0, 10.0, 16.0, 7.0, 6.0, 46.0, 12.0, 19.0, 27.0, 203.0, 32.0, 41.0, 48.0, 28.0, 69.0, 82.0], \"name\": \"British Virgin Islands\"}, {\"type\": \"scatter\", \"x\": [1996, 1998, 1999, 2000, 2001, 2002, 2003, 2004, 2005, 2006, 2007, 2008, 2009, 2010, 2011, 2012, 2013], \"y\": [1.0, 4.0, 14.0, 9.0, 35.0, 31.0, 16.0, 10.0, 1.0, 4.0, 4.0, 4.0, 2.0, 2.0, 3.0, 1.0, 1.0], \"name\": \"Bahamas\"}, {\"type\": \"scatter\", \"x\": [2004, 2007], \"y\": [1.0, 1.0], \"name\": \"Niue\"}, {\"type\": \"scatter\", \"x\": [2009, 2014, 2015], \"y\": [1.0, 2.0, 1.0], \"name\": \"Seychelles\"}, {\"type\": \"scatter\", \"x\": [2012], \"y\": [1.0], \"name\": \"Nevada\"}], {\"title\": \"British Virgin Islands inactivations account distribution by jurisdiction with time series\", \"xaxis\": {\"rangeslider\": {}, \"type\": \"date\"}}, {\"showLink\": true, \"linkText\": \"Export to plot.ly\"})});</script>"
      ]
     },
     "metadata": {},
     "output_type": "display_data"
    },
    {
     "data": {
      "application/vnd.plotly.v1+json": {
       "data": [
        {
         "name": "Panama",
         "type": "scatter",
         "x": [
          1981,
          1982,
          1983,
          1984,
          1985,
          1986,
          1987,
          1988,
          1989,
          1990,
          1991,
          1992,
          1993,
          1994,
          1995,
          1996,
          1997,
          1998,
          1999,
          2000,
          2001,
          2002,
          2003,
          2004,
          2005,
          2006,
          2007,
          2008,
          2009,
          2010,
          2011,
          2012,
          2013,
          2014,
          2015
         ],
         "y": [
          1,
          1,
          2,
          7,
          11,
          10,
          63,
          20,
          25,
          108,
          58,
          70,
          83,
          63,
          51,
          156,
          64,
          57,
          101,
          80,
          112,
          70,
          101,
          87,
          193,
          129,
          159,
          318,
          257,
          275,
          227,
          174,
          238,
          223,
          236
         ]
        },
        {
         "name": "British Virgin Islands",
         "type": "scatter",
         "x": [
          1990,
          1991,
          1992,
          1993,
          1994,
          1995,
          1996,
          1997,
          1998,
          1999,
          2000,
          2001,
          2002,
          2003,
          2004,
          2005,
          2006,
          2007,
          2008,
          2009,
          2010,
          2011,
          2012,
          2013,
          2014,
          2015
         ],
         "y": [
          1,
          1,
          6,
          8,
          6,
          5,
          34,
          25,
          58,
          92,
          157,
          245,
          273,
          223,
          232,
          283,
          273,
          156,
          135,
          195,
          119,
          130,
          82,
          57,
          72,
          40
         ]
        },
        {
         "name": "Bahamas",
         "type": "scatter",
         "x": [
          1992,
          1993,
          1994,
          1995,
          1996,
          1997,
          1998,
          1999,
          2000,
          2001,
          2002,
          2003,
          2004,
          2005,
          2006,
          2007,
          2008,
          2009,
          2010,
          2011,
          2012,
          2013,
          2014,
          2015
         ],
         "y": [
          1,
          2,
          1,
          6,
          89,
          4,
          20,
          31,
          48,
          161,
          97,
          35,
          8,
          20,
          12,
          12,
          11,
          8,
          5,
          6,
          2,
          6,
          2,
          3
         ]
        },
        {
         "name": "Niue",
         "type": "scatter",
         "x": [
          1997,
          1998,
          1999,
          2000,
          2001,
          2002,
          2003,
          2004,
          2005,
          2006,
          2007,
          2009,
          2012
         ],
         "y": [
          23,
          26,
          37,
          83,
          126,
          144,
          114,
          86,
          96,
          258,
          58,
          2,
          3
         ]
        },
        {
         "name": "Seychelles",
         "type": "scatter",
         "x": [
          2001,
          2002,
          2003,
          2004,
          2005,
          2006,
          2007,
          2008,
          2009,
          2010,
          2011,
          2012,
          2013,
          2014,
          2015
         ],
         "y": [
          1,
          5,
          23,
          13,
          17,
          15,
          30,
          69,
          133,
          100,
          57,
          83,
          24,
          11,
          17
         ]
        },
        {
         "name": "Nevada",
         "type": "scatter",
         "x": [
          2003,
          2004,
          2005,
          2006,
          2007,
          2008,
          2009,
          2010,
          2011,
          2012,
          2014,
          2015
         ],
         "y": [
          1,
          2,
          4,
          4,
          2,
          1,
          3,
          2,
          7,
          2,
          1,
          2
         ]
        },
        {
         "name": "Uruguay",
         "type": "scatter",
         "x": [
          2004,
          2009,
          2013
         ],
         "y": [
          1,
          1,
          1
         ]
        },
        {
         "name": "Hong Kong",
         "type": "scatter",
         "x": [
          2004,
          2006,
          2008,
          2009,
          2011,
          2012,
          2013,
          2014,
          2015
         ],
         "y": [
          76,
          6,
          1,
          2,
          2,
          3,
          3,
          2,
          2
         ]
        },
        {
         "name": "Samoa",
         "type": "scatter",
         "x": [
          2005,
          2006,
          2007,
          2008,
          2009,
          2010,
          2011,
          2012,
          2013,
          2014,
          2015
         ],
         "y": [
          1,
          1,
          3,
          6,
          16,
          7,
          2,
          2,
          1,
          1,
          1
         ]
        },
        {
         "name": "British Anguilla",
         "type": "scatter",
         "x": [
          2010,
          2011,
          2012,
          2013,
          2014,
          2015
         ],
         "y": [
          3,
          4,
          14,
          3,
          6,
          7
         ]
        }
       ],
       "layout": {
        "title": "Panama inactivations account distribution by jurisdiction with time series",
        "xaxis": {
         "rangeslider": {},
         "type": "date"
        }
       }
      },
      "text/html": [
       "<div id=\"4911d68d-3610-4646-88c1-a35e95d9c9ce\" style=\"height: 525px; width: 100%;\" class=\"plotly-graph-div\"></div><script type=\"text/javascript\">require([\"plotly\"], function(Plotly) { window.PLOTLYENV=window.PLOTLYENV || {};window.PLOTLYENV.BASE_URL=\"https://plot.ly\";Plotly.newPlot(\"4911d68d-3610-4646-88c1-a35e95d9c9ce\", [{\"type\": \"scatter\", \"x\": [1981, 1982, 1983, 1984, 1985, 1986, 1987, 1988, 1989, 1990, 1991, 1992, 1993, 1994, 1995, 1996, 1997, 1998, 1999, 2000, 2001, 2002, 2003, 2004, 2005, 2006, 2007, 2008, 2009, 2010, 2011, 2012, 2013, 2014, 2015], \"y\": [1.0, 1.0, 2.0, 7.0, 11.0, 10.0, 63.0, 20.0, 25.0, 108.0, 58.0, 70.0, 83.0, 63.0, 51.0, 156.0, 64.0, 57.0, 101.0, 80.0, 112.0, 70.0, 101.0, 87.0, 193.0, 129.0, 159.0, 318.0, 257.0, 275.0, 227.0, 174.0, 238.0, 223.0, 236.0], \"name\": \"Panama\"}, {\"type\": \"scatter\", \"x\": [1990, 1991, 1992, 1993, 1994, 1995, 1996, 1997, 1998, 1999, 2000, 2001, 2002, 2003, 2004, 2005, 2006, 2007, 2008, 2009, 2010, 2011, 2012, 2013, 2014, 2015], \"y\": [1.0, 1.0, 6.0, 8.0, 6.0, 5.0, 34.0, 25.0, 58.0, 92.0, 157.0, 245.0, 273.0, 223.0, 232.0, 283.0, 273.0, 156.0, 135.0, 195.0, 119.0, 130.0, 82.0, 57.0, 72.0, 40.0], \"name\": \"British Virgin Islands\"}, {\"type\": \"scatter\", \"x\": [1992, 1993, 1994, 1995, 1996, 1997, 1998, 1999, 2000, 2001, 2002, 2003, 2004, 2005, 2006, 2007, 2008, 2009, 2010, 2011, 2012, 2013, 2014, 2015], \"y\": [1.0, 2.0, 1.0, 6.0, 89.0, 4.0, 20.0, 31.0, 48.0, 161.0, 97.0, 35.0, 8.0, 20.0, 12.0, 12.0, 11.0, 8.0, 5.0, 6.0, 2.0, 6.0, 2.0, 3.0], \"name\": \"Bahamas\"}, {\"type\": \"scatter\", \"x\": [1997, 1998, 1999, 2000, 2001, 2002, 2003, 2004, 2005, 2006, 2007, 2009, 2012], \"y\": [23.0, 26.0, 37.0, 83.0, 126.0, 144.0, 114.0, 86.0, 96.0, 258.0, 58.0, 2.0, 3.0], \"name\": \"Niue\"}, {\"type\": \"scatter\", \"x\": [2001, 2002, 2003, 2004, 2005, 2006, 2007, 2008, 2009, 2010, 2011, 2012, 2013, 2014, 2015], \"y\": [1.0, 5.0, 23.0, 13.0, 17.0, 15.0, 30.0, 69.0, 133.0, 100.0, 57.0, 83.0, 24.0, 11.0, 17.0], \"name\": \"Seychelles\"}, {\"type\": \"scatter\", \"x\": [2003, 2004, 2005, 2006, 2007, 2008, 2009, 2010, 2011, 2012, 2014, 2015], \"y\": [1.0, 2.0, 4.0, 4.0, 2.0, 1.0, 3.0, 2.0, 7.0, 2.0, 1.0, 2.0], \"name\": \"Nevada\"}, {\"type\": \"scatter\", \"x\": [2004, 2009, 2013], \"y\": [1.0, 1.0, 1.0], \"name\": \"Uruguay\"}, {\"type\": \"scatter\", \"x\": [2004, 2006, 2008, 2009, 2011, 2012, 2013, 2014, 2015], \"y\": [76.0, 6.0, 1.0, 2.0, 2.0, 3.0, 3.0, 2.0, 2.0], \"name\": \"Hong Kong\"}, {\"type\": \"scatter\", \"x\": [2005, 2006, 2007, 2008, 2009, 2010, 2011, 2012, 2013, 2014, 2015], \"y\": [1.0, 1.0, 3.0, 6.0, 16.0, 7.0, 2.0, 2.0, 1.0, 1.0, 1.0], \"name\": \"Samoa\"}, {\"type\": \"scatter\", \"x\": [2010, 2011, 2012, 2013, 2014, 2015], \"y\": [3.0, 4.0, 14.0, 3.0, 6.0, 7.0], \"name\": \"British Anguilla\"}], {\"title\": \"Panama inactivations account distribution by jurisdiction with time series\", \"xaxis\": {\"rangeslider\": {}, \"type\": \"date\"}}, {\"showLink\": true, \"linkText\": \"Export to plot.ly\"})});</script>"
      ],
      "text/vnd.plotly.v1+html": [
       "<div id=\"4911d68d-3610-4646-88c1-a35e95d9c9ce\" style=\"height: 525px; width: 100%;\" class=\"plotly-graph-div\"></div><script type=\"text/javascript\">require([\"plotly\"], function(Plotly) { window.PLOTLYENV=window.PLOTLYENV || {};window.PLOTLYENV.BASE_URL=\"https://plot.ly\";Plotly.newPlot(\"4911d68d-3610-4646-88c1-a35e95d9c9ce\", [{\"type\": \"scatter\", \"x\": [1981, 1982, 1983, 1984, 1985, 1986, 1987, 1988, 1989, 1990, 1991, 1992, 1993, 1994, 1995, 1996, 1997, 1998, 1999, 2000, 2001, 2002, 2003, 2004, 2005, 2006, 2007, 2008, 2009, 2010, 2011, 2012, 2013, 2014, 2015], \"y\": [1.0, 1.0, 2.0, 7.0, 11.0, 10.0, 63.0, 20.0, 25.0, 108.0, 58.0, 70.0, 83.0, 63.0, 51.0, 156.0, 64.0, 57.0, 101.0, 80.0, 112.0, 70.0, 101.0, 87.0, 193.0, 129.0, 159.0, 318.0, 257.0, 275.0, 227.0, 174.0, 238.0, 223.0, 236.0], \"name\": \"Panama\"}, {\"type\": \"scatter\", \"x\": [1990, 1991, 1992, 1993, 1994, 1995, 1996, 1997, 1998, 1999, 2000, 2001, 2002, 2003, 2004, 2005, 2006, 2007, 2008, 2009, 2010, 2011, 2012, 2013, 2014, 2015], \"y\": [1.0, 1.0, 6.0, 8.0, 6.0, 5.0, 34.0, 25.0, 58.0, 92.0, 157.0, 245.0, 273.0, 223.0, 232.0, 283.0, 273.0, 156.0, 135.0, 195.0, 119.0, 130.0, 82.0, 57.0, 72.0, 40.0], \"name\": \"British Virgin Islands\"}, {\"type\": \"scatter\", \"x\": [1992, 1993, 1994, 1995, 1996, 1997, 1998, 1999, 2000, 2001, 2002, 2003, 2004, 2005, 2006, 2007, 2008, 2009, 2010, 2011, 2012, 2013, 2014, 2015], \"y\": [1.0, 2.0, 1.0, 6.0, 89.0, 4.0, 20.0, 31.0, 48.0, 161.0, 97.0, 35.0, 8.0, 20.0, 12.0, 12.0, 11.0, 8.0, 5.0, 6.0, 2.0, 6.0, 2.0, 3.0], \"name\": \"Bahamas\"}, {\"type\": \"scatter\", \"x\": [1997, 1998, 1999, 2000, 2001, 2002, 2003, 2004, 2005, 2006, 2007, 2009, 2012], \"y\": [23.0, 26.0, 37.0, 83.0, 126.0, 144.0, 114.0, 86.0, 96.0, 258.0, 58.0, 2.0, 3.0], \"name\": \"Niue\"}, {\"type\": \"scatter\", \"x\": [2001, 2002, 2003, 2004, 2005, 2006, 2007, 2008, 2009, 2010, 2011, 2012, 2013, 2014, 2015], \"y\": [1.0, 5.0, 23.0, 13.0, 17.0, 15.0, 30.0, 69.0, 133.0, 100.0, 57.0, 83.0, 24.0, 11.0, 17.0], \"name\": \"Seychelles\"}, {\"type\": \"scatter\", \"x\": [2003, 2004, 2005, 2006, 2007, 2008, 2009, 2010, 2011, 2012, 2014, 2015], \"y\": [1.0, 2.0, 4.0, 4.0, 2.0, 1.0, 3.0, 2.0, 7.0, 2.0, 1.0, 2.0], \"name\": \"Nevada\"}, {\"type\": \"scatter\", \"x\": [2004, 2009, 2013], \"y\": [1.0, 1.0, 1.0], \"name\": \"Uruguay\"}, {\"type\": \"scatter\", \"x\": [2004, 2006, 2008, 2009, 2011, 2012, 2013, 2014, 2015], \"y\": [76.0, 6.0, 1.0, 2.0, 2.0, 3.0, 3.0, 2.0, 2.0], \"name\": \"Hong Kong\"}, {\"type\": \"scatter\", \"x\": [2005, 2006, 2007, 2008, 2009, 2010, 2011, 2012, 2013, 2014, 2015], \"y\": [1.0, 1.0, 3.0, 6.0, 16.0, 7.0, 2.0, 2.0, 1.0, 1.0, 1.0], \"name\": \"Samoa\"}, {\"type\": \"scatter\", \"x\": [2010, 2011, 2012, 2013, 2014, 2015], \"y\": [3.0, 4.0, 14.0, 3.0, 6.0, 7.0], \"name\": \"British Anguilla\"}], {\"title\": \"Panama inactivations account distribution by jurisdiction with time series\", \"xaxis\": {\"rangeslider\": {}, \"type\": \"date\"}}, {\"showLink\": true, \"linkText\": \"Export to plot.ly\"})});</script>"
      ]
     },
     "metadata": {},
     "output_type": "display_data"
    },
    {
     "data": {
      "application/vnd.plotly.v1+json": {
       "data": [
        {
         "name": "Panama",
         "type": "scatter",
         "x": [
          1980,
          1982,
          1983,
          1984,
          1985,
          1986,
          1987,
          1988,
          1989,
          1990,
          1991,
          1992,
          1993,
          1994,
          1995,
          1996,
          1997,
          1998,
          1999,
          2000,
          2001,
          2002,
          2003,
          2004,
          2005,
          2006,
          2007,
          2008,
          2009,
          2010,
          2011,
          2012,
          2013,
          2014,
          2015
         ],
         "y": [
          1,
          5,
          9,
          15,
          16,
          16,
          28,
          35,
          139,
          117,
          143,
          142,
          114,
          93,
          65,
          58,
          56,
          72,
          48,
          32,
          46,
          38,
          54,
          56,
          33,
          35,
          29,
          60,
          31,
          22,
          39,
          37,
          25,
          22,
          12
         ]
        },
        {
         "name": "British Virgin Islands",
         "type": "scatter",
         "x": [
          1989,
          1990,
          1991,
          1992,
          1993,
          1994,
          1995,
          1996,
          1997,
          1998,
          1999,
          2000,
          2001,
          2002,
          2003,
          2004,
          2005,
          2006,
          2007,
          2008,
          2009,
          2010,
          2011,
          2012,
          2013,
          2014,
          2015
         ],
         "y": [
          6,
          13,
          90,
          72,
          144,
          164,
          202,
          211,
          258,
          360,
          306,
          386,
          435,
          449,
          399,
          474,
          457,
          474,
          359,
          386,
          465,
          416,
          329,
          157,
          275,
          275,
          234
         ]
        },
        {
         "name": "Bahamas",
         "type": "scatter",
         "x": [
          1991,
          1992,
          1993,
          1994,
          1995,
          1996,
          1997,
          1998,
          1999,
          2000,
          2001,
          2002,
          2003,
          2004,
          2005,
          2006,
          2007,
          2008,
          2009,
          2010,
          2011,
          2012,
          2013,
          2014,
          2015
         ],
         "y": [
          1,
          4,
          11,
          14,
          22,
          58,
          48,
          85,
          74,
          124,
          108,
          78,
          76,
          89,
          52,
          51,
          50,
          37,
          42,
          24,
          16,
          21,
          9,
          25,
          16
         ]
        },
        {
         "name": "Niue",
         "type": "scatter",
         "x": [
          1996,
          1997,
          1998,
          1999,
          2000,
          2001,
          2002,
          2003,
          2004,
          2005,
          2006,
          2007,
          2008,
          2009,
          2010,
          2013
         ],
         "y": [
          3,
          9,
          6,
          9,
          25,
          45,
          55,
          53,
          36,
          24,
          40,
          19,
          1,
          1,
          5,
          1
         ]
        },
        {
         "name": "Seychelles",
         "type": "scatter",
         "x": [
          2000,
          2001,
          2002,
          2003,
          2004,
          2005,
          2009,
          2013
         ],
         "y": [
          1,
          1,
          1,
          2,
          4,
          2,
          2,
          1
         ]
        },
        {
         "name": "Jersey",
         "type": "scatter",
         "x": [
          2006,
          2007,
          2008,
          2010
         ],
         "y": [
          5,
          1,
          1,
          2
         ]
        },
        {
         "name": "Nevada",
         "type": "scatter",
         "x": [
          2007,
          2013
         ],
         "y": [
          1,
          1
         ]
        },
        {
         "name": "Samoa",
         "type": "scatter",
         "x": [
          2007,
          2009,
          2010
         ],
         "y": [
          4,
          2,
          3
         ]
        },
        {
         "name": "United Kingdom",
         "type": "scatter",
         "x": [
          2008,
          2010,
          2012,
          2014
         ],
         "y": [
          1,
          1,
          1,
          1
         ]
        },
        {
         "name": "Hong Kong",
         "type": "scatter",
         "x": [
          2009,
          2010,
          2011,
          2012,
          2013,
          2014,
          2015
         ],
         "y": [
          6,
          2,
          4,
          5,
          4,
          3,
          12
         ]
        }
       ],
       "layout": {
        "title": "Jersey inactivations account distribution by jurisdiction with time series",
        "xaxis": {
         "rangeslider": {},
         "type": "date"
        }
       }
      },
      "text/html": [
       "<div id=\"7135f003-b1f6-4907-8592-8f7ccb9f6dea\" style=\"height: 525px; width: 100%;\" class=\"plotly-graph-div\"></div><script type=\"text/javascript\">require([\"plotly\"], function(Plotly) { window.PLOTLYENV=window.PLOTLYENV || {};window.PLOTLYENV.BASE_URL=\"https://plot.ly\";Plotly.newPlot(\"7135f003-b1f6-4907-8592-8f7ccb9f6dea\", [{\"type\": \"scatter\", \"x\": [1980, 1982, 1983, 1984, 1985, 1986, 1987, 1988, 1989, 1990, 1991, 1992, 1993, 1994, 1995, 1996, 1997, 1998, 1999, 2000, 2001, 2002, 2003, 2004, 2005, 2006, 2007, 2008, 2009, 2010, 2011, 2012, 2013, 2014, 2015], \"y\": [1.0, 5.0, 9.0, 15.0, 16.0, 16.0, 28.0, 35.0, 139.0, 117.0, 143.0, 142.0, 114.0, 93.0, 65.0, 58.0, 56.0, 72.0, 48.0, 32.0, 46.0, 38.0, 54.0, 56.0, 33.0, 35.0, 29.0, 60.0, 31.0, 22.0, 39.0, 37.0, 25.0, 22.0, 12.0], \"name\": \"Panama\"}, {\"type\": \"scatter\", \"x\": [1989, 1990, 1991, 1992, 1993, 1994, 1995, 1996, 1997, 1998, 1999, 2000, 2001, 2002, 2003, 2004, 2005, 2006, 2007, 2008, 2009, 2010, 2011, 2012, 2013, 2014, 2015], \"y\": [6.0, 13.0, 90.0, 72.0, 144.0, 164.0, 202.0, 211.0, 258.0, 360.0, 306.0, 386.0, 435.0, 449.0, 399.0, 474.0, 457.0, 474.0, 359.0, 386.0, 465.0, 416.0, 329.0, 157.0, 275.0, 275.0, 234.0], \"name\": \"British Virgin Islands\"}, {\"type\": \"scatter\", \"x\": [1991, 1992, 1993, 1994, 1995, 1996, 1997, 1998, 1999, 2000, 2001, 2002, 2003, 2004, 2005, 2006, 2007, 2008, 2009, 2010, 2011, 2012, 2013, 2014, 2015], \"y\": [1.0, 4.0, 11.0, 14.0, 22.0, 58.0, 48.0, 85.0, 74.0, 124.0, 108.0, 78.0, 76.0, 89.0, 52.0, 51.0, 50.0, 37.0, 42.0, 24.0, 16.0, 21.0, 9.0, 25.0, 16.0], \"name\": \"Bahamas\"}, {\"type\": \"scatter\", \"x\": [1996, 1997, 1998, 1999, 2000, 2001, 2002, 2003, 2004, 2005, 2006, 2007, 2008, 2009, 2010, 2013], \"y\": [3.0, 9.0, 6.0, 9.0, 25.0, 45.0, 55.0, 53.0, 36.0, 24.0, 40.0, 19.0, 1.0, 1.0, 5.0, 1.0], \"name\": \"Niue\"}, {\"type\": \"scatter\", \"x\": [2000, 2001, 2002, 2003, 2004, 2005, 2009, 2013], \"y\": [1.0, 1.0, 1.0, 2.0, 4.0, 2.0, 2.0, 1.0], \"name\": \"Seychelles\"}, {\"type\": \"scatter\", \"x\": [2006, 2007, 2008, 2010], \"y\": [5.0, 1.0, 1.0, 2.0], \"name\": \"Jersey\"}, {\"type\": \"scatter\", \"x\": [2007, 2013], \"y\": [1.0, 1.0], \"name\": \"Nevada\"}, {\"type\": \"scatter\", \"x\": [2007, 2009, 2010], \"y\": [4.0, 2.0, 3.0], \"name\": \"Samoa\"}, {\"type\": \"scatter\", \"x\": [2008, 2010, 2012, 2014], \"y\": [1.0, 1.0, 1.0, 1.0], \"name\": \"United Kingdom\"}, {\"type\": \"scatter\", \"x\": [2009, 2010, 2011, 2012, 2013, 2014, 2015], \"y\": [6.0, 2.0, 4.0, 5.0, 4.0, 3.0, 12.0], \"name\": \"Hong Kong\"}], {\"title\": \"Jersey inactivations account distribution by jurisdiction with time series\", \"xaxis\": {\"rangeslider\": {}, \"type\": \"date\"}}, {\"showLink\": true, \"linkText\": \"Export to plot.ly\"})});</script>"
      ],
      "text/vnd.plotly.v1+html": [
       "<div id=\"7135f003-b1f6-4907-8592-8f7ccb9f6dea\" style=\"height: 525px; width: 100%;\" class=\"plotly-graph-div\"></div><script type=\"text/javascript\">require([\"plotly\"], function(Plotly) { window.PLOTLYENV=window.PLOTLYENV || {};window.PLOTLYENV.BASE_URL=\"https://plot.ly\";Plotly.newPlot(\"7135f003-b1f6-4907-8592-8f7ccb9f6dea\", [{\"type\": \"scatter\", \"x\": [1980, 1982, 1983, 1984, 1985, 1986, 1987, 1988, 1989, 1990, 1991, 1992, 1993, 1994, 1995, 1996, 1997, 1998, 1999, 2000, 2001, 2002, 2003, 2004, 2005, 2006, 2007, 2008, 2009, 2010, 2011, 2012, 2013, 2014, 2015], \"y\": [1.0, 5.0, 9.0, 15.0, 16.0, 16.0, 28.0, 35.0, 139.0, 117.0, 143.0, 142.0, 114.0, 93.0, 65.0, 58.0, 56.0, 72.0, 48.0, 32.0, 46.0, 38.0, 54.0, 56.0, 33.0, 35.0, 29.0, 60.0, 31.0, 22.0, 39.0, 37.0, 25.0, 22.0, 12.0], \"name\": \"Panama\"}, {\"type\": \"scatter\", \"x\": [1989, 1990, 1991, 1992, 1993, 1994, 1995, 1996, 1997, 1998, 1999, 2000, 2001, 2002, 2003, 2004, 2005, 2006, 2007, 2008, 2009, 2010, 2011, 2012, 2013, 2014, 2015], \"y\": [6.0, 13.0, 90.0, 72.0, 144.0, 164.0, 202.0, 211.0, 258.0, 360.0, 306.0, 386.0, 435.0, 449.0, 399.0, 474.0, 457.0, 474.0, 359.0, 386.0, 465.0, 416.0, 329.0, 157.0, 275.0, 275.0, 234.0], \"name\": \"British Virgin Islands\"}, {\"type\": \"scatter\", \"x\": [1991, 1992, 1993, 1994, 1995, 1996, 1997, 1998, 1999, 2000, 2001, 2002, 2003, 2004, 2005, 2006, 2007, 2008, 2009, 2010, 2011, 2012, 2013, 2014, 2015], \"y\": [1.0, 4.0, 11.0, 14.0, 22.0, 58.0, 48.0, 85.0, 74.0, 124.0, 108.0, 78.0, 76.0, 89.0, 52.0, 51.0, 50.0, 37.0, 42.0, 24.0, 16.0, 21.0, 9.0, 25.0, 16.0], \"name\": \"Bahamas\"}, {\"type\": \"scatter\", \"x\": [1996, 1997, 1998, 1999, 2000, 2001, 2002, 2003, 2004, 2005, 2006, 2007, 2008, 2009, 2010, 2013], \"y\": [3.0, 9.0, 6.0, 9.0, 25.0, 45.0, 55.0, 53.0, 36.0, 24.0, 40.0, 19.0, 1.0, 1.0, 5.0, 1.0], \"name\": \"Niue\"}, {\"type\": \"scatter\", \"x\": [2000, 2001, 2002, 2003, 2004, 2005, 2009, 2013], \"y\": [1.0, 1.0, 1.0, 2.0, 4.0, 2.0, 2.0, 1.0], \"name\": \"Seychelles\"}, {\"type\": \"scatter\", \"x\": [2006, 2007, 2008, 2010], \"y\": [5.0, 1.0, 1.0, 2.0], \"name\": \"Jersey\"}, {\"type\": \"scatter\", \"x\": [2007, 2013], \"y\": [1.0, 1.0], \"name\": \"Nevada\"}, {\"type\": \"scatter\", \"x\": [2007, 2009, 2010], \"y\": [4.0, 2.0, 3.0], \"name\": \"Samoa\"}, {\"type\": \"scatter\", \"x\": [2008, 2010, 2012, 2014], \"y\": [1.0, 1.0, 1.0, 1.0], \"name\": \"United Kingdom\"}, {\"type\": \"scatter\", \"x\": [2009, 2010, 2011, 2012, 2013, 2014, 2015], \"y\": [6.0, 2.0, 4.0, 5.0, 4.0, 3.0, 12.0], \"name\": \"Hong Kong\"}], {\"title\": \"Jersey inactivations account distribution by jurisdiction with time series\", \"xaxis\": {\"rangeslider\": {}, \"type\": \"date\"}}, {\"showLink\": true, \"linkText\": \"Export to plot.ly\"})});</script>"
      ]
     },
     "metadata": {},
     "output_type": "display_data"
    },
    {
     "data": {
      "application/vnd.plotly.v1+json": {
       "data": [
        {
         "name": "Panama",
         "type": "scatter",
         "x": [
          1984,
          1985,
          1987,
          1988,
          1989,
          1990,
          1991,
          1992,
          1993,
          1994,
          1995,
          1996,
          1997,
          1998,
          1999,
          2000,
          2001,
          2002,
          2003,
          2004,
          2005,
          2006,
          2007,
          2008,
          2009,
          2010,
          2011,
          2012,
          2013,
          2014,
          2015
         ],
         "y": [
          2,
          1,
          1,
          1,
          29,
          92,
          51,
          36,
          65,
          85,
          45,
          70,
          91,
          80,
          52,
          49,
          54,
          54,
          70,
          89,
          97,
          312,
          130,
          150,
          285,
          685,
          630,
          366,
          517,
          280,
          183
         ]
        },
        {
         "name": "British Virgin Islands",
         "type": "scatter",
         "x": [
          1991,
          1992,
          1993,
          1994,
          1995,
          1996,
          1997,
          1998,
          1999,
          2000,
          2001,
          2002,
          2003,
          2004,
          2005,
          2006,
          2007,
          2008,
          2009,
          2010,
          2011,
          2012,
          2013,
          2014,
          2015
         ],
         "y": [
          3,
          6,
          22,
          20,
          38,
          100,
          47,
          38,
          56,
          34,
          56,
          100,
          116,
          120,
          147,
          159,
          115,
          101,
          151,
          306,
          209,
          195,
          172,
          191,
          106
         ]
        },
        {
         "name": "Bahamas",
         "type": "scatter",
         "x": [
          1992,
          1993,
          1994,
          1995,
          1996,
          1997,
          1998,
          1999,
          2000,
          2001,
          2002,
          2003,
          2004,
          2005,
          2007,
          2008,
          2009,
          2010,
          2011,
          2012,
          2013,
          2014,
          2015
         ],
         "y": [
          1,
          3,
          5,
          7,
          12,
          19,
          29,
          78,
          19,
          44,
          52,
          61,
          13,
          8,
          2,
          5,
          4,
          26,
          7,
          5,
          3,
          3,
          3
         ]
        },
        {
         "name": "Niue",
         "type": "scatter",
         "x": [
          1996,
          1997,
          1998,
          1999,
          2000,
          2001,
          2002,
          2003,
          2004,
          2005,
          2006,
          2007
         ],
         "y": [
          12,
          27,
          20,
          4,
          14,
          29,
          23,
          28,
          13,
          6,
          32,
          1
         ]
        },
        {
         "name": "Seychelles",
         "type": "scatter",
         "x": [
          2001,
          2002,
          2003,
          2004,
          2005,
          2006,
          2007,
          2008,
          2009,
          2010,
          2011,
          2012,
          2013,
          2014,
          2015
         ],
         "y": [
          4,
          2,
          10,
          12,
          10,
          14,
          19,
          32,
          73,
          247,
          127,
          85,
          93,
          221,
          103
         ]
        },
        {
         "name": "Nevada",
         "type": "scatter",
         "x": [
          2003,
          2004,
          2005,
          2009,
          2010,
          2011,
          2012,
          2013,
          2014,
          2015
         ],
         "y": [
          1,
          1,
          1,
          1,
          4,
          2,
          2,
          2,
          1,
          2
         ]
        },
        {
         "name": "Samoa",
         "type": "scatter",
         "x": [
          2009,
          2010,
          2011,
          2013,
          2014
         ],
         "y": [
          2,
          1,
          2,
          1,
          2
         ]
        },
        {
         "name": "British Anguilla",
         "type": "scatter",
         "x": [
          2010,
          2015
         ],
         "y": [
          3,
          1
         ]
        },
        {
         "name": "Hong Kong",
         "type": "scatter",
         "x": [
          2010,
          2014,
          2015
         ],
         "y": [
          1,
          9,
          4
         ]
        },
        {
         "name": "Cyprus",
         "type": "scatter",
         "x": [
          2014
         ],
         "y": [
          2
         ]
        },
        {
         "name": "Belize",
         "type": "scatter",
         "x": [
          2014,
          2015
         ],
         "y": [
          1,
          2
         ]
        },
        {
         "name": "Uruguay",
         "type": "scatter",
         "x": [
          2015
         ],
         "y": [
          1
         ]
        }
       ],
       "layout": {
        "title": "Luxembourg inactivations account distribution by jurisdiction with time series",
        "xaxis": {
         "rangeslider": {},
         "type": "date"
        }
       }
      },
      "text/html": [
       "<div id=\"f753ad33-ef99-4aa2-9578-2fafc870a5da\" style=\"height: 525px; width: 100%;\" class=\"plotly-graph-div\"></div><script type=\"text/javascript\">require([\"plotly\"], function(Plotly) { window.PLOTLYENV=window.PLOTLYENV || {};window.PLOTLYENV.BASE_URL=\"https://plot.ly\";Plotly.newPlot(\"f753ad33-ef99-4aa2-9578-2fafc870a5da\", [{\"type\": \"scatter\", \"x\": [1984, 1985, 1987, 1988, 1989, 1990, 1991, 1992, 1993, 1994, 1995, 1996, 1997, 1998, 1999, 2000, 2001, 2002, 2003, 2004, 2005, 2006, 2007, 2008, 2009, 2010, 2011, 2012, 2013, 2014, 2015], \"y\": [2.0, 1.0, 1.0, 1.0, 29.0, 92.0, 51.0, 36.0, 65.0, 85.0, 45.0, 70.0, 91.0, 80.0, 52.0, 49.0, 54.0, 54.0, 70.0, 89.0, 97.0, 312.0, 130.0, 150.0, 285.0, 685.0, 630.0, 366.0, 517.0, 280.0, 183.0], \"name\": \"Panama\"}, {\"type\": \"scatter\", \"x\": [1991, 1992, 1993, 1994, 1995, 1996, 1997, 1998, 1999, 2000, 2001, 2002, 2003, 2004, 2005, 2006, 2007, 2008, 2009, 2010, 2011, 2012, 2013, 2014, 2015], \"y\": [3.0, 6.0, 22.0, 20.0, 38.0, 100.0, 47.0, 38.0, 56.0, 34.0, 56.0, 100.0, 116.0, 120.0, 147.0, 159.0, 115.0, 101.0, 151.0, 306.0, 209.0, 195.0, 172.0, 191.0, 106.0], \"name\": \"British Virgin Islands\"}, {\"type\": \"scatter\", \"x\": [1992, 1993, 1994, 1995, 1996, 1997, 1998, 1999, 2000, 2001, 2002, 2003, 2004, 2005, 2007, 2008, 2009, 2010, 2011, 2012, 2013, 2014, 2015], \"y\": [1.0, 3.0, 5.0, 7.0, 12.0, 19.0, 29.0, 78.0, 19.0, 44.0, 52.0, 61.0, 13.0, 8.0, 2.0, 5.0, 4.0, 26.0, 7.0, 5.0, 3.0, 3.0, 3.0], \"name\": \"Bahamas\"}, {\"type\": \"scatter\", \"x\": [1996, 1997, 1998, 1999, 2000, 2001, 2002, 2003, 2004, 2005, 2006, 2007], \"y\": [12.0, 27.0, 20.0, 4.0, 14.0, 29.0, 23.0, 28.0, 13.0, 6.0, 32.0, 1.0], \"name\": \"Niue\"}, {\"type\": \"scatter\", \"x\": [2001, 2002, 2003, 2004, 2005, 2006, 2007, 2008, 2009, 2010, 2011, 2012, 2013, 2014, 2015], \"y\": [4.0, 2.0, 10.0, 12.0, 10.0, 14.0, 19.0, 32.0, 73.0, 247.0, 127.0, 85.0, 93.0, 221.0, 103.0], \"name\": \"Seychelles\"}, {\"type\": \"scatter\", \"x\": [2003, 2004, 2005, 2009, 2010, 2011, 2012, 2013, 2014, 2015], \"y\": [1.0, 1.0, 1.0, 1.0, 4.0, 2.0, 2.0, 2.0, 1.0, 2.0], \"name\": \"Nevada\"}, {\"type\": \"scatter\", \"x\": [2009, 2010, 2011, 2013, 2014], \"y\": [2.0, 1.0, 2.0, 1.0, 2.0], \"name\": \"Samoa\"}, {\"type\": \"scatter\", \"x\": [2010, 2015], \"y\": [3.0, 1.0], \"name\": \"British Anguilla\"}, {\"type\": \"scatter\", \"x\": [2010, 2014, 2015], \"y\": [1.0, 9.0, 4.0], \"name\": \"Hong Kong\"}, {\"type\": \"scatter\", \"x\": [2014], \"y\": [2.0], \"name\": \"Cyprus\"}, {\"type\": \"scatter\", \"x\": [2014, 2015], \"y\": [1.0, 2.0], \"name\": \"Belize\"}, {\"type\": \"scatter\", \"x\": [2015], \"y\": [1.0], \"name\": \"Uruguay\"}], {\"title\": \"Luxembourg inactivations account distribution by jurisdiction with time series\", \"xaxis\": {\"rangeslider\": {}, \"type\": \"date\"}}, {\"showLink\": true, \"linkText\": \"Export to plot.ly\"})});</script>"
      ],
      "text/vnd.plotly.v1+html": [
       "<div id=\"f753ad33-ef99-4aa2-9578-2fafc870a5da\" style=\"height: 525px; width: 100%;\" class=\"plotly-graph-div\"></div><script type=\"text/javascript\">require([\"plotly\"], function(Plotly) { window.PLOTLYENV=window.PLOTLYENV || {};window.PLOTLYENV.BASE_URL=\"https://plot.ly\";Plotly.newPlot(\"f753ad33-ef99-4aa2-9578-2fafc870a5da\", [{\"type\": \"scatter\", \"x\": [1984, 1985, 1987, 1988, 1989, 1990, 1991, 1992, 1993, 1994, 1995, 1996, 1997, 1998, 1999, 2000, 2001, 2002, 2003, 2004, 2005, 2006, 2007, 2008, 2009, 2010, 2011, 2012, 2013, 2014, 2015], \"y\": [2.0, 1.0, 1.0, 1.0, 29.0, 92.0, 51.0, 36.0, 65.0, 85.0, 45.0, 70.0, 91.0, 80.0, 52.0, 49.0, 54.0, 54.0, 70.0, 89.0, 97.0, 312.0, 130.0, 150.0, 285.0, 685.0, 630.0, 366.0, 517.0, 280.0, 183.0], \"name\": \"Panama\"}, {\"type\": \"scatter\", \"x\": [1991, 1992, 1993, 1994, 1995, 1996, 1997, 1998, 1999, 2000, 2001, 2002, 2003, 2004, 2005, 2006, 2007, 2008, 2009, 2010, 2011, 2012, 2013, 2014, 2015], \"y\": [3.0, 6.0, 22.0, 20.0, 38.0, 100.0, 47.0, 38.0, 56.0, 34.0, 56.0, 100.0, 116.0, 120.0, 147.0, 159.0, 115.0, 101.0, 151.0, 306.0, 209.0, 195.0, 172.0, 191.0, 106.0], \"name\": \"British Virgin Islands\"}, {\"type\": \"scatter\", \"x\": [1992, 1993, 1994, 1995, 1996, 1997, 1998, 1999, 2000, 2001, 2002, 2003, 2004, 2005, 2007, 2008, 2009, 2010, 2011, 2012, 2013, 2014, 2015], \"y\": [1.0, 3.0, 5.0, 7.0, 12.0, 19.0, 29.0, 78.0, 19.0, 44.0, 52.0, 61.0, 13.0, 8.0, 2.0, 5.0, 4.0, 26.0, 7.0, 5.0, 3.0, 3.0, 3.0], \"name\": \"Bahamas\"}, {\"type\": \"scatter\", \"x\": [1996, 1997, 1998, 1999, 2000, 2001, 2002, 2003, 2004, 2005, 2006, 2007], \"y\": [12.0, 27.0, 20.0, 4.0, 14.0, 29.0, 23.0, 28.0, 13.0, 6.0, 32.0, 1.0], \"name\": \"Niue\"}, {\"type\": \"scatter\", \"x\": [2001, 2002, 2003, 2004, 2005, 2006, 2007, 2008, 2009, 2010, 2011, 2012, 2013, 2014, 2015], \"y\": [4.0, 2.0, 10.0, 12.0, 10.0, 14.0, 19.0, 32.0, 73.0, 247.0, 127.0, 85.0, 93.0, 221.0, 103.0], \"name\": \"Seychelles\"}, {\"type\": \"scatter\", \"x\": [2003, 2004, 2005, 2009, 2010, 2011, 2012, 2013, 2014, 2015], \"y\": [1.0, 1.0, 1.0, 1.0, 4.0, 2.0, 2.0, 2.0, 1.0, 2.0], \"name\": \"Nevada\"}, {\"type\": \"scatter\", \"x\": [2009, 2010, 2011, 2013, 2014], \"y\": [2.0, 1.0, 2.0, 1.0, 2.0], \"name\": \"Samoa\"}, {\"type\": \"scatter\", \"x\": [2010, 2015], \"y\": [3.0, 1.0], \"name\": \"British Anguilla\"}, {\"type\": \"scatter\", \"x\": [2010, 2014, 2015], \"y\": [1.0, 9.0, 4.0], \"name\": \"Hong Kong\"}, {\"type\": \"scatter\", \"x\": [2014], \"y\": [2.0], \"name\": \"Cyprus\"}, {\"type\": \"scatter\", \"x\": [2014, 2015], \"y\": [1.0, 2.0], \"name\": \"Belize\"}, {\"type\": \"scatter\", \"x\": [2015], \"y\": [1.0], \"name\": \"Uruguay\"}], {\"title\": \"Luxembourg inactivations account distribution by jurisdiction with time series\", \"xaxis\": {\"rangeslider\": {}, \"type\": \"date\"}}, {\"showLink\": true, \"linkText\": \"Export to plot.ly\"})});</script>"
      ]
     },
     "metadata": {},
     "output_type": "display_data"
    },
    {
     "data": {
      "application/vnd.plotly.v1+json": {
       "data": [
        {
         "name": "Panama",
         "type": "scatter",
         "x": [
          1980,
          1982,
          1983,
          1984,
          1985,
          1986,
          1987,
          1988,
          1989,
          1990,
          1991,
          1992,
          1993,
          1994,
          1995,
          1996,
          1997,
          1998,
          1999,
          2000,
          2001,
          2002,
          2003,
          2004,
          2005,
          2006,
          2007,
          2008,
          2009,
          2010,
          2011,
          2012,
          2013,
          2014,
          2015
         ],
         "y": [
          1,
          6,
          7,
          11,
          6,
          5,
          17,
          36,
          101,
          63,
          123,
          51,
          94,
          48,
          45,
          88,
          51,
          35,
          87,
          26,
          31,
          13,
          31,
          20,
          41,
          29,
          46,
          38,
          26,
          33,
          22,
          28,
          74,
          26,
          37
         ]
        },
        {
         "name": "British Virgin Islands",
         "type": "scatter",
         "x": [
          1990,
          1991,
          1992,
          1993,
          1994,
          1995,
          1996,
          1997,
          1998,
          1999,
          2000,
          2001,
          2002,
          2003,
          2004,
          2005,
          2006,
          2007,
          2008,
          2009,
          2010,
          2011,
          2012,
          2013,
          2014,
          2015
         ],
         "y": [
          7,
          22,
          18,
          30,
          32,
          53,
          78,
          116,
          166,
          170,
          150,
          172,
          231,
          156,
          110,
          109,
          165,
          160,
          216,
          237,
          224,
          120,
          169,
          140,
          198,
          264
         ]
        },
        {
         "name": "Bahamas",
         "type": "scatter",
         "x": [
          1992,
          1993,
          1995,
          1996,
          1997,
          1998,
          1999,
          2000,
          2001,
          2002,
          2003,
          2004,
          2005,
          2006,
          2007,
          2008,
          2009,
          2010,
          2011,
          2012,
          2013,
          2014,
          2015
         ],
         "y": [
          4,
          17,
          13,
          40,
          35,
          168,
          181,
          194,
          118,
          176,
          42,
          19,
          23,
          54,
          21,
          25,
          19,
          18,
          4,
          10,
          14,
          10,
          13
         ]
        },
        {
         "name": "Niue",
         "type": "scatter",
         "x": [
          1995,
          1996,
          1997,
          1998,
          1999,
          2000,
          2001,
          2002,
          2003,
          2004,
          2005,
          2006,
          2007,
          2008,
          2013
         ],
         "y": [
          1,
          41,
          45,
          55,
          57,
          104,
          134,
          70,
          51,
          17,
          32,
          99,
          11,
          1,
          2
         ]
        },
        {
         "name": "Seychelles",
         "type": "scatter",
         "x": [
          2001,
          2002,
          2003,
          2004,
          2005,
          2006,
          2007,
          2008,
          2009,
          2010,
          2011,
          2012,
          2013,
          2014,
          2015
         ],
         "y": [
          2,
          1,
          7,
          8,
          3,
          8,
          14,
          17,
          17,
          15,
          30,
          13,
          14,
          11,
          13
         ]
        },
        {
         "name": "Hong Kong",
         "type": "scatter",
         "x": [
          2005,
          2007,
          2012
         ],
         "y": [
          1,
          1,
          1
         ]
        },
        {
         "name": "Nevada",
         "type": "scatter",
         "x": [
          2006,
          2010,
          2011,
          2014,
          2015
         ],
         "y": [
          1,
          1,
          1,
          5,
          1
         ]
        },
        {
         "name": "United Kingdom",
         "type": "scatter",
         "x": [
          2007,
          2008,
          2009,
          2010,
          2011,
          2012,
          2013,
          2014,
          2015
         ],
         "y": [
          3,
          4,
          2,
          4,
          5,
          4,
          6,
          1,
          4
         ]
        },
        {
         "name": "Samoa",
         "type": "scatter",
         "x": [
          2008,
          2009,
          2010,
          2011,
          2012,
          2013,
          2014,
          2015
         ],
         "y": [
          1,
          5,
          3,
          7,
          2,
          3,
          4,
          2
         ]
        },
        {
         "name": "British Anguilla",
         "type": "scatter",
         "x": [
          2010,
          2011,
          2012,
          2013,
          2015
         ],
         "y": [
          5,
          1,
          4,
          3,
          1
         ]
        }
       ],
       "layout": {
        "title": "United Kingdom inactivations account distribution by jurisdiction with time series",
        "xaxis": {
         "rangeslider": {},
         "type": "date"
        }
       }
      },
      "text/html": [
       "<div id=\"b7e7d46c-077d-4708-87ed-7e5d79619c23\" style=\"height: 525px; width: 100%;\" class=\"plotly-graph-div\"></div><script type=\"text/javascript\">require([\"plotly\"], function(Plotly) { window.PLOTLYENV=window.PLOTLYENV || {};window.PLOTLYENV.BASE_URL=\"https://plot.ly\";Plotly.newPlot(\"b7e7d46c-077d-4708-87ed-7e5d79619c23\", [{\"type\": \"scatter\", \"x\": [1980, 1982, 1983, 1984, 1985, 1986, 1987, 1988, 1989, 1990, 1991, 1992, 1993, 1994, 1995, 1996, 1997, 1998, 1999, 2000, 2001, 2002, 2003, 2004, 2005, 2006, 2007, 2008, 2009, 2010, 2011, 2012, 2013, 2014, 2015], \"y\": [1.0, 6.0, 7.0, 11.0, 6.0, 5.0, 17.0, 36.0, 101.0, 63.0, 123.0, 51.0, 94.0, 48.0, 45.0, 88.0, 51.0, 35.0, 87.0, 26.0, 31.0, 13.0, 31.0, 20.0, 41.0, 29.0, 46.0, 38.0, 26.0, 33.0, 22.0, 28.0, 74.0, 26.0, 37.0], \"name\": \"Panama\"}, {\"type\": \"scatter\", \"x\": [1990, 1991, 1992, 1993, 1994, 1995, 1996, 1997, 1998, 1999, 2000, 2001, 2002, 2003, 2004, 2005, 2006, 2007, 2008, 2009, 2010, 2011, 2012, 2013, 2014, 2015], \"y\": [7.0, 22.0, 18.0, 30.0, 32.0, 53.0, 78.0, 116.0, 166.0, 170.0, 150.0, 172.0, 231.0, 156.0, 110.0, 109.0, 165.0, 160.0, 216.0, 237.0, 224.0, 120.0, 169.0, 140.0, 198.0, 264.0], \"name\": \"British Virgin Islands\"}, {\"type\": \"scatter\", \"x\": [1992, 1993, 1995, 1996, 1997, 1998, 1999, 2000, 2001, 2002, 2003, 2004, 2005, 2006, 2007, 2008, 2009, 2010, 2011, 2012, 2013, 2014, 2015], \"y\": [4.0, 17.0, 13.0, 40.0, 35.0, 168.0, 181.0, 194.0, 118.0, 176.0, 42.0, 19.0, 23.0, 54.0, 21.0, 25.0, 19.0, 18.0, 4.0, 10.0, 14.0, 10.0, 13.0], \"name\": \"Bahamas\"}, {\"type\": \"scatter\", \"x\": [1995, 1996, 1997, 1998, 1999, 2000, 2001, 2002, 2003, 2004, 2005, 2006, 2007, 2008, 2013], \"y\": [1.0, 41.0, 45.0, 55.0, 57.0, 104.0, 134.0, 70.0, 51.0, 17.0, 32.0, 99.0, 11.0, 1.0, 2.0], \"name\": \"Niue\"}, {\"type\": \"scatter\", \"x\": [2001, 2002, 2003, 2004, 2005, 2006, 2007, 2008, 2009, 2010, 2011, 2012, 2013, 2014, 2015], \"y\": [2.0, 1.0, 7.0, 8.0, 3.0, 8.0, 14.0, 17.0, 17.0, 15.0, 30.0, 13.0, 14.0, 11.0, 13.0], \"name\": \"Seychelles\"}, {\"type\": \"scatter\", \"x\": [2005, 2007, 2012], \"y\": [1.0, 1.0, 1.0], \"name\": \"Hong Kong\"}, {\"type\": \"scatter\", \"x\": [2006, 2010, 2011, 2014, 2015], \"y\": [1.0, 1.0, 1.0, 5.0, 1.0], \"name\": \"Nevada\"}, {\"type\": \"scatter\", \"x\": [2007, 2008, 2009, 2010, 2011, 2012, 2013, 2014, 2015], \"y\": [3.0, 4.0, 2.0, 4.0, 5.0, 4.0, 6.0, 1.0, 4.0], \"name\": \"United Kingdom\"}, {\"type\": \"scatter\", \"x\": [2008, 2009, 2010, 2011, 2012, 2013, 2014, 2015], \"y\": [1.0, 5.0, 3.0, 7.0, 2.0, 3.0, 4.0, 2.0], \"name\": \"Samoa\"}, {\"type\": \"scatter\", \"x\": [2010, 2011, 2012, 2013, 2015], \"y\": [5.0, 1.0, 4.0, 3.0, 1.0], \"name\": \"British Anguilla\"}], {\"title\": \"United Kingdom inactivations account distribution by jurisdiction with time series\", \"xaxis\": {\"rangeslider\": {}, \"type\": \"date\"}}, {\"showLink\": true, \"linkText\": \"Export to plot.ly\"})});</script>"
      ],
      "text/vnd.plotly.v1+html": [
       "<div id=\"b7e7d46c-077d-4708-87ed-7e5d79619c23\" style=\"height: 525px; width: 100%;\" class=\"plotly-graph-div\"></div><script type=\"text/javascript\">require([\"plotly\"], function(Plotly) { window.PLOTLYENV=window.PLOTLYENV || {};window.PLOTLYENV.BASE_URL=\"https://plot.ly\";Plotly.newPlot(\"b7e7d46c-077d-4708-87ed-7e5d79619c23\", [{\"type\": \"scatter\", \"x\": [1980, 1982, 1983, 1984, 1985, 1986, 1987, 1988, 1989, 1990, 1991, 1992, 1993, 1994, 1995, 1996, 1997, 1998, 1999, 2000, 2001, 2002, 2003, 2004, 2005, 2006, 2007, 2008, 2009, 2010, 2011, 2012, 2013, 2014, 2015], \"y\": [1.0, 6.0, 7.0, 11.0, 6.0, 5.0, 17.0, 36.0, 101.0, 63.0, 123.0, 51.0, 94.0, 48.0, 45.0, 88.0, 51.0, 35.0, 87.0, 26.0, 31.0, 13.0, 31.0, 20.0, 41.0, 29.0, 46.0, 38.0, 26.0, 33.0, 22.0, 28.0, 74.0, 26.0, 37.0], \"name\": \"Panama\"}, {\"type\": \"scatter\", \"x\": [1990, 1991, 1992, 1993, 1994, 1995, 1996, 1997, 1998, 1999, 2000, 2001, 2002, 2003, 2004, 2005, 2006, 2007, 2008, 2009, 2010, 2011, 2012, 2013, 2014, 2015], \"y\": [7.0, 22.0, 18.0, 30.0, 32.0, 53.0, 78.0, 116.0, 166.0, 170.0, 150.0, 172.0, 231.0, 156.0, 110.0, 109.0, 165.0, 160.0, 216.0, 237.0, 224.0, 120.0, 169.0, 140.0, 198.0, 264.0], \"name\": \"British Virgin Islands\"}, {\"type\": \"scatter\", \"x\": [1992, 1993, 1995, 1996, 1997, 1998, 1999, 2000, 2001, 2002, 2003, 2004, 2005, 2006, 2007, 2008, 2009, 2010, 2011, 2012, 2013, 2014, 2015], \"y\": [4.0, 17.0, 13.0, 40.0, 35.0, 168.0, 181.0, 194.0, 118.0, 176.0, 42.0, 19.0, 23.0, 54.0, 21.0, 25.0, 19.0, 18.0, 4.0, 10.0, 14.0, 10.0, 13.0], \"name\": \"Bahamas\"}, {\"type\": \"scatter\", \"x\": [1995, 1996, 1997, 1998, 1999, 2000, 2001, 2002, 2003, 2004, 2005, 2006, 2007, 2008, 2013], \"y\": [1.0, 41.0, 45.0, 55.0, 57.0, 104.0, 134.0, 70.0, 51.0, 17.0, 32.0, 99.0, 11.0, 1.0, 2.0], \"name\": \"Niue\"}, {\"type\": \"scatter\", \"x\": [2001, 2002, 2003, 2004, 2005, 2006, 2007, 2008, 2009, 2010, 2011, 2012, 2013, 2014, 2015], \"y\": [2.0, 1.0, 7.0, 8.0, 3.0, 8.0, 14.0, 17.0, 17.0, 15.0, 30.0, 13.0, 14.0, 11.0, 13.0], \"name\": \"Seychelles\"}, {\"type\": \"scatter\", \"x\": [2005, 2007, 2012], \"y\": [1.0, 1.0, 1.0], \"name\": \"Hong Kong\"}, {\"type\": \"scatter\", \"x\": [2006, 2010, 2011, 2014, 2015], \"y\": [1.0, 1.0, 1.0, 5.0, 1.0], \"name\": \"Nevada\"}, {\"type\": \"scatter\", \"x\": [2007, 2008, 2009, 2010, 2011, 2012, 2013, 2014, 2015], \"y\": [3.0, 4.0, 2.0, 4.0, 5.0, 4.0, 6.0, 1.0, 4.0], \"name\": \"United Kingdom\"}, {\"type\": \"scatter\", \"x\": [2008, 2009, 2010, 2011, 2012, 2013, 2014, 2015], \"y\": [1.0, 5.0, 3.0, 7.0, 2.0, 3.0, 4.0, 2.0], \"name\": \"Samoa\"}, {\"type\": \"scatter\", \"x\": [2010, 2011, 2012, 2013, 2015], \"y\": [5.0, 1.0, 4.0, 3.0, 1.0], \"name\": \"British Anguilla\"}], {\"title\": \"United Kingdom inactivations account distribution by jurisdiction with time series\", \"xaxis\": {\"rangeslider\": {}, \"type\": \"date\"}}, {\"showLink\": true, \"linkText\": \"Export to plot.ly\"})});</script>"
      ]
     },
     "metadata": {},
     "output_type": "display_data"
    },
    {
     "data": {
      "application/vnd.plotly.v1+json": {
       "data": [
        {
         "name": "Panama",
         "type": "scatter",
         "x": [
          1997,
          2008,
          2009,
          2010,
          2011,
          2012,
          2013,
          2014,
          2015
         ],
         "y": [
          1,
          2,
          1,
          6,
          6,
          10,
          34,
          6,
          15
         ]
        },
        {
         "name": "Bahamas",
         "type": "scatter",
         "x": [
          1998,
          1999,
          2000,
          2001,
          2002,
          2003,
          2004,
          2005,
          2006,
          2007,
          2008,
          2009,
          2010,
          2012,
          2013,
          2015
         ],
         "y": [
          9,
          2,
          12,
          20,
          31,
          5,
          8,
          1,
          1,
          3,
          4,
          3,
          3,
          2,
          4,
          1
         ]
        },
        {
         "name": "British Virgin Islands",
         "type": "scatter",
         "x": [
          1999,
          2000,
          2001,
          2002,
          2003,
          2004,
          2005,
          2006,
          2007,
          2008,
          2009,
          2010,
          2011,
          2012,
          2013,
          2014,
          2015
         ],
         "y": [
          3,
          22,
          21,
          18,
          12,
          9,
          5,
          11,
          6,
          5,
          10,
          15,
          12,
          13,
          7,
          8,
          9
         ]
        },
        {
         "name": "Niue",
         "type": "scatter",
         "x": [
          2001,
          2002,
          2003,
          2004,
          2005,
          2006,
          2007,
          2009
         ],
         "y": [
          7,
          8,
          6,
          9,
          13,
          18,
          10,
          2
         ]
        },
        {
         "name": "Seychelles",
         "type": "scatter",
         "x": [
          2002,
          2003,
          2004,
          2005,
          2006,
          2007,
          2008,
          2009,
          2010,
          2011,
          2012,
          2013,
          2014,
          2015
         ],
         "y": [
          1,
          12,
          10,
          18,
          27,
          38,
          20,
          46,
          56,
          50,
          61,
          77,
          51,
          45
         ]
        },
        {
         "name": "Samoa",
         "type": "scatter",
         "x": [
          2006,
          2007,
          2008,
          2009,
          2010,
          2011,
          2012,
          2013,
          2014,
          2015
         ],
         "y": [
          1,
          3,
          14,
          10,
          15,
          17,
          12,
          14,
          5,
          10
         ]
        },
        {
         "name": "British Anguilla",
         "type": "scatter",
         "x": [
          2012,
          2013
         ],
         "y": [
          1,
          1
         ]
        },
        {
         "name": "Hong Kong",
         "type": "scatter",
         "x": [
          2014
         ],
         "y": [
          1
         ]
        }
       ],
       "layout": {
        "title": "Samoa inactivations account distribution by jurisdiction with time series",
        "xaxis": {
         "rangeslider": {},
         "type": "date"
        }
       }
      },
      "text/html": [
       "<div id=\"cabb695f-0214-4e5a-bfdf-1e43f88cbd6f\" style=\"height: 525px; width: 100%;\" class=\"plotly-graph-div\"></div><script type=\"text/javascript\">require([\"plotly\"], function(Plotly) { window.PLOTLYENV=window.PLOTLYENV || {};window.PLOTLYENV.BASE_URL=\"https://plot.ly\";Plotly.newPlot(\"cabb695f-0214-4e5a-bfdf-1e43f88cbd6f\", [{\"type\": \"scatter\", \"x\": [1997, 2008, 2009, 2010, 2011, 2012, 2013, 2014, 2015], \"y\": [1.0, 2.0, 1.0, 6.0, 6.0, 10.0, 34.0, 6.0, 15.0], \"name\": \"Panama\"}, {\"type\": \"scatter\", \"x\": [1998, 1999, 2000, 2001, 2002, 2003, 2004, 2005, 2006, 2007, 2008, 2009, 2010, 2012, 2013, 2015], \"y\": [9.0, 2.0, 12.0, 20.0, 31.0, 5.0, 8.0, 1.0, 1.0, 3.0, 4.0, 3.0, 3.0, 2.0, 4.0, 1.0], \"name\": \"Bahamas\"}, {\"type\": \"scatter\", \"x\": [1999, 2000, 2001, 2002, 2003, 2004, 2005, 2006, 2007, 2008, 2009, 2010, 2011, 2012, 2013, 2014, 2015], \"y\": [3.0, 22.0, 21.0, 18.0, 12.0, 9.0, 5.0, 11.0, 6.0, 5.0, 10.0, 15.0, 12.0, 13.0, 7.0, 8.0, 9.0], \"name\": \"British Virgin Islands\"}, {\"type\": \"scatter\", \"x\": [2001, 2002, 2003, 2004, 2005, 2006, 2007, 2009], \"y\": [7.0, 8.0, 6.0, 9.0, 13.0, 18.0, 10.0, 2.0], \"name\": \"Niue\"}, {\"type\": \"scatter\", \"x\": [2002, 2003, 2004, 2005, 2006, 2007, 2008, 2009, 2010, 2011, 2012, 2013, 2014, 2015], \"y\": [1.0, 12.0, 10.0, 18.0, 27.0, 38.0, 20.0, 46.0, 56.0, 50.0, 61.0, 77.0, 51.0, 45.0], \"name\": \"Seychelles\"}, {\"type\": \"scatter\", \"x\": [2006, 2007, 2008, 2009, 2010, 2011, 2012, 2013, 2014, 2015], \"y\": [1.0, 3.0, 14.0, 10.0, 15.0, 17.0, 12.0, 14.0, 5.0, 10.0], \"name\": \"Samoa\"}, {\"type\": \"scatter\", \"x\": [2012, 2013], \"y\": [1.0, 1.0], \"name\": \"British Anguilla\"}, {\"type\": \"scatter\", \"x\": [2014], \"y\": [1.0], \"name\": \"Hong Kong\"}], {\"title\": \"Samoa inactivations account distribution by jurisdiction with time series\", \"xaxis\": {\"rangeslider\": {}, \"type\": \"date\"}}, {\"showLink\": true, \"linkText\": \"Export to plot.ly\"})});</script>"
      ],
      "text/vnd.plotly.v1+html": [
       "<div id=\"cabb695f-0214-4e5a-bfdf-1e43f88cbd6f\" style=\"height: 525px; width: 100%;\" class=\"plotly-graph-div\"></div><script type=\"text/javascript\">require([\"plotly\"], function(Plotly) { window.PLOTLYENV=window.PLOTLYENV || {};window.PLOTLYENV.BASE_URL=\"https://plot.ly\";Plotly.newPlot(\"cabb695f-0214-4e5a-bfdf-1e43f88cbd6f\", [{\"type\": \"scatter\", \"x\": [1997, 2008, 2009, 2010, 2011, 2012, 2013, 2014, 2015], \"y\": [1.0, 2.0, 1.0, 6.0, 6.0, 10.0, 34.0, 6.0, 15.0], \"name\": \"Panama\"}, {\"type\": \"scatter\", \"x\": [1998, 1999, 2000, 2001, 2002, 2003, 2004, 2005, 2006, 2007, 2008, 2009, 2010, 2012, 2013, 2015], \"y\": [9.0, 2.0, 12.0, 20.0, 31.0, 5.0, 8.0, 1.0, 1.0, 3.0, 4.0, 3.0, 3.0, 2.0, 4.0, 1.0], \"name\": \"Bahamas\"}, {\"type\": \"scatter\", \"x\": [1999, 2000, 2001, 2002, 2003, 2004, 2005, 2006, 2007, 2008, 2009, 2010, 2011, 2012, 2013, 2014, 2015], \"y\": [3.0, 22.0, 21.0, 18.0, 12.0, 9.0, 5.0, 11.0, 6.0, 5.0, 10.0, 15.0, 12.0, 13.0, 7.0, 8.0, 9.0], \"name\": \"British Virgin Islands\"}, {\"type\": \"scatter\", \"x\": [2001, 2002, 2003, 2004, 2005, 2006, 2007, 2009], \"y\": [7.0, 8.0, 6.0, 9.0, 13.0, 18.0, 10.0, 2.0], \"name\": \"Niue\"}, {\"type\": \"scatter\", \"x\": [2002, 2003, 2004, 2005, 2006, 2007, 2008, 2009, 2010, 2011, 2012, 2013, 2014, 2015], \"y\": [1.0, 12.0, 10.0, 18.0, 27.0, 38.0, 20.0, 46.0, 56.0, 50.0, 61.0, 77.0, 51.0, 45.0], \"name\": \"Seychelles\"}, {\"type\": \"scatter\", \"x\": [2006, 2007, 2008, 2009, 2010, 2011, 2012, 2013, 2014, 2015], \"y\": [1.0, 3.0, 14.0, 10.0, 15.0, 17.0, 12.0, 14.0, 5.0, 10.0], \"name\": \"Samoa\"}, {\"type\": \"scatter\", \"x\": [2012, 2013], \"y\": [1.0, 1.0], \"name\": \"British Anguilla\"}, {\"type\": \"scatter\", \"x\": [2014], \"y\": [1.0], \"name\": \"Hong Kong\"}], {\"title\": \"Samoa inactivations account distribution by jurisdiction with time series\", \"xaxis\": {\"rangeslider\": {}, \"type\": \"date\"}}, {\"showLink\": true, \"linkText\": \"Export to plot.ly\"})});</script>"
      ]
     },
     "metadata": {},
     "output_type": "display_data"
    },
    {
     "data": {
      "application/vnd.plotly.v1+json": {
       "data": [
        {
         "name": "Panama",
         "type": "scatter",
         "x": [
          1980,
          1981,
          1982,
          1983,
          1984,
          1985,
          1986,
          1987,
          1988,
          1989,
          1990,
          1991,
          1992,
          1993,
          1994,
          1995,
          1996,
          1997,
          1998,
          1999,
          2000,
          2001,
          2002,
          2003,
          2004,
          2005,
          2006,
          2007,
          2008,
          2009,
          2010,
          2011,
          2012,
          2013,
          2014,
          2015
         ],
         "y": [
          1,
          1,
          5,
          2,
          7,
          3,
          1,
          3,
          43,
          32,
          23,
          56,
          49,
          30,
          35,
          20,
          23,
          19,
          21,
          29,
          17,
          24,
          16,
          23,
          10,
          13,
          9,
          15,
          14,
          14,
          11,
          3,
          4,
          4,
          1,
          7
         ]
        },
        {
         "name": "British Virgin Islands",
         "type": "scatter",
         "x": [
          1990,
          1991,
          1992,
          1993,
          1994,
          1995,
          1996,
          1997,
          1998,
          1999,
          2000,
          2001,
          2002,
          2003,
          2004,
          2005,
          2006,
          2007,
          2008,
          2009,
          2010,
          2011,
          2012,
          2013,
          2014,
          2015
         ],
         "y": [
          5,
          50,
          33,
          61,
          93,
          61,
          226,
          148,
          150,
          185,
          187,
          150,
          244,
          206,
          180,
          199,
          116,
          167,
          133,
          168,
          183,
          102,
          67,
          100,
          147,
          132
         ]
        },
        {
         "name": "Bahamas",
         "type": "scatter",
         "x": [
          1992,
          1993,
          1994,
          1995,
          1996,
          1997,
          1998,
          1999,
          2000,
          2001,
          2002,
          2003,
          2004,
          2005,
          2006,
          2007,
          2008,
          2009,
          2010,
          2011,
          2012,
          2013,
          2014,
          2015
         ],
         "y": [
          3,
          9,
          19,
          21,
          31,
          97,
          76,
          100,
          118,
          156,
          95,
          121,
          69,
          69,
          55,
          34,
          40,
          33,
          40,
          35,
          14,
          11,
          8,
          14
         ]
        },
        {
         "name": "Niue",
         "type": "scatter",
         "x": [
          1996,
          1997,
          1998,
          1999,
          2000,
          2001,
          2002,
          2003,
          2004,
          2005,
          2006,
          2007
         ],
         "y": [
          2,
          9,
          15,
          12,
          38,
          37,
          32,
          21,
          30,
          41,
          56,
          2
         ]
        },
        {
         "name": "Seychelles",
         "type": "scatter",
         "x": [
          2001,
          2003,
          2006,
          2007,
          2008,
          2009,
          2010,
          2011,
          2012,
          2014,
          2015
         ],
         "y": [
          1,
          4,
          2,
          4,
          2,
          3,
          3,
          3,
          1,
          4,
          1
         ]
        },
        {
         "name": "Uruguay",
         "type": "scatter",
         "x": [
          2004
         ],
         "y": [
          1
         ]
        },
        {
         "name": "Samoa",
         "type": "scatter",
         "x": [
          2007,
          2009,
          2010,
          2015
         ],
         "y": [
          2,
          1,
          2,
          1
         ]
        },
        {
         "name": "British Anguilla",
         "type": "scatter",
         "x": [
          2009,
          2010,
          2011,
          2012,
          2013,
          2015
         ],
         "y": [
          1,
          1,
          1,
          1,
          1,
          13
         ]
        },
        {
         "name": "Hong Kong",
         "type": "scatter",
         "x": [
          2011
         ],
         "y": [
          1
         ]
        }
       ],
       "layout": {
        "title": "Guernsey inactivations account distribution by jurisdiction with time series",
        "xaxis": {
         "rangeslider": {},
         "type": "date"
        }
       }
      },
      "text/html": [
       "<div id=\"2613f9a6-02bd-4f97-929d-b0e3fe73f870\" style=\"height: 525px; width: 100%;\" class=\"plotly-graph-div\"></div><script type=\"text/javascript\">require([\"plotly\"], function(Plotly) { window.PLOTLYENV=window.PLOTLYENV || {};window.PLOTLYENV.BASE_URL=\"https://plot.ly\";Plotly.newPlot(\"2613f9a6-02bd-4f97-929d-b0e3fe73f870\", [{\"type\": \"scatter\", \"x\": [1980, 1981, 1982, 1983, 1984, 1985, 1986, 1987, 1988, 1989, 1990, 1991, 1992, 1993, 1994, 1995, 1996, 1997, 1998, 1999, 2000, 2001, 2002, 2003, 2004, 2005, 2006, 2007, 2008, 2009, 2010, 2011, 2012, 2013, 2014, 2015], \"y\": [1.0, 1.0, 5.0, 2.0, 7.0, 3.0, 1.0, 3.0, 43.0, 32.0, 23.0, 56.0, 49.0, 30.0, 35.0, 20.0, 23.0, 19.0, 21.0, 29.0, 17.0, 24.0, 16.0, 23.0, 10.0, 13.0, 9.0, 15.0, 14.0, 14.0, 11.0, 3.0, 4.0, 4.0, 1.0, 7.0], \"name\": \"Panama\"}, {\"type\": \"scatter\", \"x\": [1990, 1991, 1992, 1993, 1994, 1995, 1996, 1997, 1998, 1999, 2000, 2001, 2002, 2003, 2004, 2005, 2006, 2007, 2008, 2009, 2010, 2011, 2012, 2013, 2014, 2015], \"y\": [5.0, 50.0, 33.0, 61.0, 93.0, 61.0, 226.0, 148.0, 150.0, 185.0, 187.0, 150.0, 244.0, 206.0, 180.0, 199.0, 116.0, 167.0, 133.0, 168.0, 183.0, 102.0, 67.0, 100.0, 147.0, 132.0], \"name\": \"British Virgin Islands\"}, {\"type\": \"scatter\", \"x\": [1992, 1993, 1994, 1995, 1996, 1997, 1998, 1999, 2000, 2001, 2002, 2003, 2004, 2005, 2006, 2007, 2008, 2009, 2010, 2011, 2012, 2013, 2014, 2015], \"y\": [3.0, 9.0, 19.0, 21.0, 31.0, 97.0, 76.0, 100.0, 118.0, 156.0, 95.0, 121.0, 69.0, 69.0, 55.0, 34.0, 40.0, 33.0, 40.0, 35.0, 14.0, 11.0, 8.0, 14.0], \"name\": \"Bahamas\"}, {\"type\": \"scatter\", \"x\": [1996, 1997, 1998, 1999, 2000, 2001, 2002, 2003, 2004, 2005, 2006, 2007], \"y\": [2.0, 9.0, 15.0, 12.0, 38.0, 37.0, 32.0, 21.0, 30.0, 41.0, 56.0, 2.0], \"name\": \"Niue\"}, {\"type\": \"scatter\", \"x\": [2001, 2003, 2006, 2007, 2008, 2009, 2010, 2011, 2012, 2014, 2015], \"y\": [1.0, 4.0, 2.0, 4.0, 2.0, 3.0, 3.0, 3.0, 1.0, 4.0, 1.0], \"name\": \"Seychelles\"}, {\"type\": \"scatter\", \"x\": [2004], \"y\": [1.0], \"name\": \"Uruguay\"}, {\"type\": \"scatter\", \"x\": [2007, 2009, 2010, 2015], \"y\": [2.0, 1.0, 2.0, 1.0], \"name\": \"Samoa\"}, {\"type\": \"scatter\", \"x\": [2009, 2010, 2011, 2012, 2013, 2015], \"y\": [1.0, 1.0, 1.0, 1.0, 1.0, 13.0], \"name\": \"British Anguilla\"}, {\"type\": \"scatter\", \"x\": [2011], \"y\": [1.0], \"name\": \"Hong Kong\"}], {\"title\": \"Guernsey inactivations account distribution by jurisdiction with time series\", \"xaxis\": {\"rangeslider\": {}, \"type\": \"date\"}}, {\"showLink\": true, \"linkText\": \"Export to plot.ly\"})});</script>"
      ],
      "text/vnd.plotly.v1+html": [
       "<div id=\"2613f9a6-02bd-4f97-929d-b0e3fe73f870\" style=\"height: 525px; width: 100%;\" class=\"plotly-graph-div\"></div><script type=\"text/javascript\">require([\"plotly\"], function(Plotly) { window.PLOTLYENV=window.PLOTLYENV || {};window.PLOTLYENV.BASE_URL=\"https://plot.ly\";Plotly.newPlot(\"2613f9a6-02bd-4f97-929d-b0e3fe73f870\", [{\"type\": \"scatter\", \"x\": [1980, 1981, 1982, 1983, 1984, 1985, 1986, 1987, 1988, 1989, 1990, 1991, 1992, 1993, 1994, 1995, 1996, 1997, 1998, 1999, 2000, 2001, 2002, 2003, 2004, 2005, 2006, 2007, 2008, 2009, 2010, 2011, 2012, 2013, 2014, 2015], \"y\": [1.0, 1.0, 5.0, 2.0, 7.0, 3.0, 1.0, 3.0, 43.0, 32.0, 23.0, 56.0, 49.0, 30.0, 35.0, 20.0, 23.0, 19.0, 21.0, 29.0, 17.0, 24.0, 16.0, 23.0, 10.0, 13.0, 9.0, 15.0, 14.0, 14.0, 11.0, 3.0, 4.0, 4.0, 1.0, 7.0], \"name\": \"Panama\"}, {\"type\": \"scatter\", \"x\": [1990, 1991, 1992, 1993, 1994, 1995, 1996, 1997, 1998, 1999, 2000, 2001, 2002, 2003, 2004, 2005, 2006, 2007, 2008, 2009, 2010, 2011, 2012, 2013, 2014, 2015], \"y\": [5.0, 50.0, 33.0, 61.0, 93.0, 61.0, 226.0, 148.0, 150.0, 185.0, 187.0, 150.0, 244.0, 206.0, 180.0, 199.0, 116.0, 167.0, 133.0, 168.0, 183.0, 102.0, 67.0, 100.0, 147.0, 132.0], \"name\": \"British Virgin Islands\"}, {\"type\": \"scatter\", \"x\": [1992, 1993, 1994, 1995, 1996, 1997, 1998, 1999, 2000, 2001, 2002, 2003, 2004, 2005, 2006, 2007, 2008, 2009, 2010, 2011, 2012, 2013, 2014, 2015], \"y\": [3.0, 9.0, 19.0, 21.0, 31.0, 97.0, 76.0, 100.0, 118.0, 156.0, 95.0, 121.0, 69.0, 69.0, 55.0, 34.0, 40.0, 33.0, 40.0, 35.0, 14.0, 11.0, 8.0, 14.0], \"name\": \"Bahamas\"}, {\"type\": \"scatter\", \"x\": [1996, 1997, 1998, 1999, 2000, 2001, 2002, 2003, 2004, 2005, 2006, 2007], \"y\": [2.0, 9.0, 15.0, 12.0, 38.0, 37.0, 32.0, 21.0, 30.0, 41.0, 56.0, 2.0], \"name\": \"Niue\"}, {\"type\": \"scatter\", \"x\": [2001, 2003, 2006, 2007, 2008, 2009, 2010, 2011, 2012, 2014, 2015], \"y\": [1.0, 4.0, 2.0, 4.0, 2.0, 3.0, 3.0, 3.0, 1.0, 4.0, 1.0], \"name\": \"Seychelles\"}, {\"type\": \"scatter\", \"x\": [2004], \"y\": [1.0], \"name\": \"Uruguay\"}, {\"type\": \"scatter\", \"x\": [2007, 2009, 2010, 2015], \"y\": [2.0, 1.0, 2.0, 1.0], \"name\": \"Samoa\"}, {\"type\": \"scatter\", \"x\": [2009, 2010, 2011, 2012, 2013, 2015], \"y\": [1.0, 1.0, 1.0, 1.0, 1.0, 13.0], \"name\": \"British Anguilla\"}, {\"type\": \"scatter\", \"x\": [2011], \"y\": [1.0], \"name\": \"Hong Kong\"}], {\"title\": \"Guernsey inactivations account distribution by jurisdiction with time series\", \"xaxis\": {\"rangeslider\": {}, \"type\": \"date\"}}, {\"showLink\": true, \"linkText\": \"Export to plot.ly\"})});</script>"
      ]
     },
     "metadata": {},
     "output_type": "display_data"
    },
    {
     "data": {
      "application/vnd.plotly.v1+json": {
       "data": [
        {
         "name": "Panama",
         "type": "scatter",
         "x": [
          1988,
          1989,
          1990,
          1991,
          1992,
          1993,
          1994,
          1995,
          1996,
          1997,
          1998,
          1999,
          2003,
          2004,
          2005,
          2006,
          2007,
          2008,
          2009,
          2010,
          2011,
          2012,
          2013,
          2014,
          2015
         ],
         "y": [
          2,
          1,
          10,
          7,
          4,
          2,
          1,
          1,
          1,
          1,
          1,
          1,
          3,
          4,
          7,
          12,
          7,
          13,
          19,
          26,
          75,
          44,
          34,
          47,
          100
         ]
        },
        {
         "name": "British Virgin Islands",
         "type": "scatter",
         "x": [
          1992,
          1993,
          1994,
          1995,
          1996,
          1997,
          1998,
          1999,
          2000,
          2001,
          2002,
          2003,
          2004,
          2005,
          2006,
          2007,
          2008,
          2009,
          2010,
          2011,
          2012,
          2013,
          2014,
          2015
         ],
         "y": [
          1,
          3,
          2,
          1,
          12,
          8,
          4,
          9,
          11,
          28,
          38,
          43,
          74,
          114,
          238,
          250,
          217,
          159,
          231,
          296,
          105,
          101,
          198,
          162
         ]
        },
        {
         "name": "Bahamas",
         "type": "scatter",
         "x": [
          1996,
          1997,
          1998,
          1999,
          2000,
          2001,
          2002,
          2003,
          2004,
          2005,
          2006,
          2007,
          2008,
          2009,
          2010,
          2011,
          2012,
          2013,
          2014,
          2015
         ],
         "y": [
          1,
          1,
          1,
          5,
          17,
          29,
          14,
          16,
          3,
          8,
          11,
          16,
          12,
          31,
          37,
          44,
          29,
          9,
          12,
          30
         ]
        },
        {
         "name": "Niue",
         "type": "scatter",
         "x": [
          1997,
          1999,
          2000,
          2001,
          2002,
          2003,
          2004,
          2005,
          2006,
          2007
         ],
         "y": [
          1,
          1,
          19,
          20,
          14,
          12,
          14,
          14,
          25,
          5
         ]
        },
        {
         "name": "Seychelles",
         "type": "scatter",
         "x": [
          2002,
          2003,
          2004,
          2005,
          2006,
          2007,
          2008,
          2009,
          2010,
          2011,
          2012,
          2013,
          2014,
          2015
         ],
         "y": [
          1,
          4,
          14,
          14,
          29,
          62,
          92,
          124,
          147,
          120,
          116,
          86,
          113,
          125
         ]
        },
        {
         "name": "Samoa",
         "type": "scatter",
         "x": [
          2008,
          2009,
          2010,
          2011,
          2012,
          2013,
          2014,
          2015
         ],
         "y": [
          3,
          3,
          3,
          4,
          4,
          2,
          4,
          3
         ]
        },
        {
         "name": "British Anguilla",
         "type": "scatter",
         "x": [
          2008,
          2009,
          2010,
          2011,
          2012,
          2013,
          2014,
          2015
         ],
         "y": [
          1,
          32,
          60,
          7,
          6,
          8,
          34,
          22
         ]
        },
        {
         "name": "Nevada",
         "type": "scatter",
         "x": [
          2008
         ],
         "y": [
          1
         ]
        },
        {
         "name": "Belize",
         "type": "scatter",
         "x": [
          2015
         ],
         "y": [
          1
         ]
        }
       ],
       "layout": {
        "title": "United Arab Emirates inactivations account distribution by jurisdiction with time series",
        "xaxis": {
         "rangeslider": {},
         "type": "date"
        }
       }
      },
      "text/html": [
       "<div id=\"e98a96a2-eda5-43af-9b09-4be18eece620\" style=\"height: 525px; width: 100%;\" class=\"plotly-graph-div\"></div><script type=\"text/javascript\">require([\"plotly\"], function(Plotly) { window.PLOTLYENV=window.PLOTLYENV || {};window.PLOTLYENV.BASE_URL=\"https://plot.ly\";Plotly.newPlot(\"e98a96a2-eda5-43af-9b09-4be18eece620\", [{\"type\": \"scatter\", \"x\": [1988, 1989, 1990, 1991, 1992, 1993, 1994, 1995, 1996, 1997, 1998, 1999, 2003, 2004, 2005, 2006, 2007, 2008, 2009, 2010, 2011, 2012, 2013, 2014, 2015], \"y\": [2.0, 1.0, 10.0, 7.0, 4.0, 2.0, 1.0, 1.0, 1.0, 1.0, 1.0, 1.0, 3.0, 4.0, 7.0, 12.0, 7.0, 13.0, 19.0, 26.0, 75.0, 44.0, 34.0, 47.0, 100.0], \"name\": \"Panama\"}, {\"type\": \"scatter\", \"x\": [1992, 1993, 1994, 1995, 1996, 1997, 1998, 1999, 2000, 2001, 2002, 2003, 2004, 2005, 2006, 2007, 2008, 2009, 2010, 2011, 2012, 2013, 2014, 2015], \"y\": [1.0, 3.0, 2.0, 1.0, 12.0, 8.0, 4.0, 9.0, 11.0, 28.0, 38.0, 43.0, 74.0, 114.0, 238.0, 250.0, 217.0, 159.0, 231.0, 296.0, 105.0, 101.0, 198.0, 162.0], \"name\": \"British Virgin Islands\"}, {\"type\": \"scatter\", \"x\": [1996, 1997, 1998, 1999, 2000, 2001, 2002, 2003, 2004, 2005, 2006, 2007, 2008, 2009, 2010, 2011, 2012, 2013, 2014, 2015], \"y\": [1.0, 1.0, 1.0, 5.0, 17.0, 29.0, 14.0, 16.0, 3.0, 8.0, 11.0, 16.0, 12.0, 31.0, 37.0, 44.0, 29.0, 9.0, 12.0, 30.0], \"name\": \"Bahamas\"}, {\"type\": \"scatter\", \"x\": [1997, 1999, 2000, 2001, 2002, 2003, 2004, 2005, 2006, 2007], \"y\": [1.0, 1.0, 19.0, 20.0, 14.0, 12.0, 14.0, 14.0, 25.0, 5.0], \"name\": \"Niue\"}, {\"type\": \"scatter\", \"x\": [2002, 2003, 2004, 2005, 2006, 2007, 2008, 2009, 2010, 2011, 2012, 2013, 2014, 2015], \"y\": [1.0, 4.0, 14.0, 14.0, 29.0, 62.0, 92.0, 124.0, 147.0, 120.0, 116.0, 86.0, 113.0, 125.0], \"name\": \"Seychelles\"}, {\"type\": \"scatter\", \"x\": [2008, 2009, 2010, 2011, 2012, 2013, 2014, 2015], \"y\": [3.0, 3.0, 3.0, 4.0, 4.0, 2.0, 4.0, 3.0], \"name\": \"Samoa\"}, {\"type\": \"scatter\", \"x\": [2008, 2009, 2010, 2011, 2012, 2013, 2014, 2015], \"y\": [1.0, 32.0, 60.0, 7.0, 6.0, 8.0, 34.0, 22.0], \"name\": \"British Anguilla\"}, {\"type\": \"scatter\", \"x\": [2008], \"y\": [1.0], \"name\": \"Nevada\"}, {\"type\": \"scatter\", \"x\": [2015], \"y\": [1.0], \"name\": \"Belize\"}], {\"title\": \"United Arab Emirates inactivations account distribution by jurisdiction with time series\", \"xaxis\": {\"rangeslider\": {}, \"type\": \"date\"}}, {\"showLink\": true, \"linkText\": \"Export to plot.ly\"})});</script>"
      ],
      "text/vnd.plotly.v1+html": [
       "<div id=\"e98a96a2-eda5-43af-9b09-4be18eece620\" style=\"height: 525px; width: 100%;\" class=\"plotly-graph-div\"></div><script type=\"text/javascript\">require([\"plotly\"], function(Plotly) { window.PLOTLYENV=window.PLOTLYENV || {};window.PLOTLYENV.BASE_URL=\"https://plot.ly\";Plotly.newPlot(\"e98a96a2-eda5-43af-9b09-4be18eece620\", [{\"type\": \"scatter\", \"x\": [1988, 1989, 1990, 1991, 1992, 1993, 1994, 1995, 1996, 1997, 1998, 1999, 2003, 2004, 2005, 2006, 2007, 2008, 2009, 2010, 2011, 2012, 2013, 2014, 2015], \"y\": [2.0, 1.0, 10.0, 7.0, 4.0, 2.0, 1.0, 1.0, 1.0, 1.0, 1.0, 1.0, 3.0, 4.0, 7.0, 12.0, 7.0, 13.0, 19.0, 26.0, 75.0, 44.0, 34.0, 47.0, 100.0], \"name\": \"Panama\"}, {\"type\": \"scatter\", \"x\": [1992, 1993, 1994, 1995, 1996, 1997, 1998, 1999, 2000, 2001, 2002, 2003, 2004, 2005, 2006, 2007, 2008, 2009, 2010, 2011, 2012, 2013, 2014, 2015], \"y\": [1.0, 3.0, 2.0, 1.0, 12.0, 8.0, 4.0, 9.0, 11.0, 28.0, 38.0, 43.0, 74.0, 114.0, 238.0, 250.0, 217.0, 159.0, 231.0, 296.0, 105.0, 101.0, 198.0, 162.0], \"name\": \"British Virgin Islands\"}, {\"type\": \"scatter\", \"x\": [1996, 1997, 1998, 1999, 2000, 2001, 2002, 2003, 2004, 2005, 2006, 2007, 2008, 2009, 2010, 2011, 2012, 2013, 2014, 2015], \"y\": [1.0, 1.0, 1.0, 5.0, 17.0, 29.0, 14.0, 16.0, 3.0, 8.0, 11.0, 16.0, 12.0, 31.0, 37.0, 44.0, 29.0, 9.0, 12.0, 30.0], \"name\": \"Bahamas\"}, {\"type\": \"scatter\", \"x\": [1997, 1999, 2000, 2001, 2002, 2003, 2004, 2005, 2006, 2007], \"y\": [1.0, 1.0, 19.0, 20.0, 14.0, 12.0, 14.0, 14.0, 25.0, 5.0], \"name\": \"Niue\"}, {\"type\": \"scatter\", \"x\": [2002, 2003, 2004, 2005, 2006, 2007, 2008, 2009, 2010, 2011, 2012, 2013, 2014, 2015], \"y\": [1.0, 4.0, 14.0, 14.0, 29.0, 62.0, 92.0, 124.0, 147.0, 120.0, 116.0, 86.0, 113.0, 125.0], \"name\": \"Seychelles\"}, {\"type\": \"scatter\", \"x\": [2008, 2009, 2010, 2011, 2012, 2013, 2014, 2015], \"y\": [3.0, 3.0, 3.0, 4.0, 4.0, 2.0, 4.0, 3.0], \"name\": \"Samoa\"}, {\"type\": \"scatter\", \"x\": [2008, 2009, 2010, 2011, 2012, 2013, 2014, 2015], \"y\": [1.0, 32.0, 60.0, 7.0, 6.0, 8.0, 34.0, 22.0], \"name\": \"British Anguilla\"}, {\"type\": \"scatter\", \"x\": [2008], \"y\": [1.0], \"name\": \"Nevada\"}, {\"type\": \"scatter\", \"x\": [2015], \"y\": [1.0], \"name\": \"Belize\"}], {\"title\": \"United Arab Emirates inactivations account distribution by jurisdiction with time series\", \"xaxis\": {\"rangeslider\": {}, \"type\": \"date\"}}, {\"showLink\": true, \"linkText\": \"Export to plot.ly\"})});</script>"
      ]
     },
     "metadata": {},
     "output_type": "display_data"
    },
    {
     "data": {
      "application/vnd.plotly.v1+json": {
       "data": [
        {
         "name": "Panama",
         "type": "scatter",
         "x": [
          1980,
          1981,
          1982,
          1984,
          1985,
          1989,
          1990,
          1991,
          1992,
          1993,
          1994,
          1995,
          1996,
          1997,
          1998,
          1999,
          2000,
          2001,
          2002,
          2003,
          2004,
          2005,
          2006,
          2007,
          2008,
          2009,
          2010,
          2011,
          2012,
          2013,
          2014,
          2015
         ],
         "y": [
          1,
          2,
          2,
          11,
          1,
          2,
          3,
          3,
          1,
          5,
          5,
          1,
          2,
          1,
          2,
          1,
          5,
          4,
          5,
          9,
          11,
          26,
          51,
          49,
          76,
          113,
          137,
          147,
          135,
          191,
          123,
          178
         ]
        },
        {
         "name": "British Virgin Islands",
         "type": "scatter",
         "x": [
          1990,
          1991,
          1993,
          1994,
          1995,
          1996,
          1997,
          1998,
          1999,
          2000,
          2001,
          2002,
          2003,
          2004,
          2005,
          2006,
          2007,
          2008,
          2009,
          2010,
          2011,
          2012,
          2013,
          2014,
          2015
         ],
         "y": [
          1,
          2,
          4,
          11,
          17,
          10,
          15,
          13,
          20,
          5,
          13,
          17,
          13,
          45,
          31,
          15,
          47,
          61,
          52,
          60,
          64,
          61,
          69,
          106,
          159
         ]
        },
        {
         "name": "Bahamas",
         "type": "scatter",
         "x": [
          1991,
          1992,
          1993,
          1994,
          1995,
          1996,
          1997,
          1998,
          1999,
          2000,
          2001,
          2002,
          2003,
          2004,
          2005,
          2006,
          2007,
          2008,
          2009,
          2010,
          2011,
          2012,
          2013,
          2014,
          2015
         ],
         "y": [
          1,
          6,
          1,
          7,
          5,
          12,
          9,
          9,
          11,
          15,
          13,
          16,
          7,
          11,
          65,
          14,
          4,
          10,
          24,
          11,
          9,
          9,
          9,
          11,
          10
         ]
        },
        {
         "name": "Niue",
         "type": "scatter",
         "x": [
          2001,
          2002,
          2003,
          2004,
          2005,
          2006,
          2007
         ],
         "y": [
          1,
          10,
          6,
          8,
          2,
          23,
          7
         ]
        },
        {
         "name": "Seychelles",
         "type": "scatter",
         "x": [
          2002,
          2004,
          2005,
          2007,
          2008,
          2009,
          2010,
          2011,
          2012,
          2013,
          2014,
          2015
         ],
         "y": [
          1,
          1,
          3,
          8,
          10,
          12,
          12,
          9,
          5,
          4,
          5,
          4
         ]
        },
        {
         "name": "Nevada",
         "type": "scatter",
         "x": [
          2004,
          2005,
          2006,
          2007,
          2008,
          2009,
          2010,
          2011,
          2012,
          2013,
          2014,
          2015
         ],
         "y": [
          2,
          4,
          9,
          12,
          13,
          19,
          28,
          26,
          22,
          28,
          22,
          33
         ]
        },
        {
         "name": "Hong Kong",
         "type": "scatter",
         "x": [
          2005,
          2006,
          2013
         ],
         "y": [
          1,
          2,
          1
         ]
        },
        {
         "name": "Samoa",
         "type": "scatter",
         "x": [
          2008,
          2009,
          2010,
          2011,
          2012,
          2013,
          2014,
          2015
         ],
         "y": [
          3,
          6,
          3,
          1,
          4,
          2,
          2,
          1
         ]
        },
        {
         "name": "British Anguilla",
         "type": "scatter",
         "x": [
          2009,
          2010,
          2011,
          2012,
          2013,
          2014,
          2015
         ],
         "y": [
          4,
          4,
          1,
          2,
          1,
          5,
          6
         ]
        },
        {
         "name": "United Kingdom",
         "type": "scatter",
         "x": [
          2011,
          2013,
          2014
         ],
         "y": [
          1,
          1,
          1
         ]
        },
        {
         "name": "Uruguay",
         "type": "scatter",
         "x": [
          2012,
          2015
         ],
         "y": [
          1,
          1
         ]
        },
        {
         "name": "Costa Rica",
         "type": "scatter",
         "x": [
          2014
         ],
         "y": [
          1
         ]
        }
       ],
       "layout": {
        "title": "Bahamas inactivations account distribution by jurisdiction with time series",
        "xaxis": {
         "rangeslider": {},
         "type": "date"
        }
       }
      },
      "text/html": [
       "<div id=\"736901d3-377c-4d57-98b1-cd03dd5315f4\" style=\"height: 525px; width: 100%;\" class=\"plotly-graph-div\"></div><script type=\"text/javascript\">require([\"plotly\"], function(Plotly) { window.PLOTLYENV=window.PLOTLYENV || {};window.PLOTLYENV.BASE_URL=\"https://plot.ly\";Plotly.newPlot(\"736901d3-377c-4d57-98b1-cd03dd5315f4\", [{\"type\": \"scatter\", \"x\": [1980, 1981, 1982, 1984, 1985, 1989, 1990, 1991, 1992, 1993, 1994, 1995, 1996, 1997, 1998, 1999, 2000, 2001, 2002, 2003, 2004, 2005, 2006, 2007, 2008, 2009, 2010, 2011, 2012, 2013, 2014, 2015], \"y\": [1.0, 2.0, 2.0, 11.0, 1.0, 2.0, 3.0, 3.0, 1.0, 5.0, 5.0, 1.0, 2.0, 1.0, 2.0, 1.0, 5.0, 4.0, 5.0, 9.0, 11.0, 26.0, 51.0, 49.0, 76.0, 113.0, 137.0, 147.0, 135.0, 191.0, 123.0, 178.0], \"name\": \"Panama\"}, {\"type\": \"scatter\", \"x\": [1990, 1991, 1993, 1994, 1995, 1996, 1997, 1998, 1999, 2000, 2001, 2002, 2003, 2004, 2005, 2006, 2007, 2008, 2009, 2010, 2011, 2012, 2013, 2014, 2015], \"y\": [1.0, 2.0, 4.0, 11.0, 17.0, 10.0, 15.0, 13.0, 20.0, 5.0, 13.0, 17.0, 13.0, 45.0, 31.0, 15.0, 47.0, 61.0, 52.0, 60.0, 64.0, 61.0, 69.0, 106.0, 159.0], \"name\": \"British Virgin Islands\"}, {\"type\": \"scatter\", \"x\": [1991, 1992, 1993, 1994, 1995, 1996, 1997, 1998, 1999, 2000, 2001, 2002, 2003, 2004, 2005, 2006, 2007, 2008, 2009, 2010, 2011, 2012, 2013, 2014, 2015], \"y\": [1.0, 6.0, 1.0, 7.0, 5.0, 12.0, 9.0, 9.0, 11.0, 15.0, 13.0, 16.0, 7.0, 11.0, 65.0, 14.0, 4.0, 10.0, 24.0, 11.0, 9.0, 9.0, 9.0, 11.0, 10.0], \"name\": \"Bahamas\"}, {\"type\": \"scatter\", \"x\": [2001, 2002, 2003, 2004, 2005, 2006, 2007], \"y\": [1.0, 10.0, 6.0, 8.0, 2.0, 23.0, 7.0], \"name\": \"Niue\"}, {\"type\": \"scatter\", \"x\": [2002, 2004, 2005, 2007, 2008, 2009, 2010, 2011, 2012, 2013, 2014, 2015], \"y\": [1.0, 1.0, 3.0, 8.0, 10.0, 12.0, 12.0, 9.0, 5.0, 4.0, 5.0, 4.0], \"name\": \"Seychelles\"}, {\"type\": \"scatter\", \"x\": [2004, 2005, 2006, 2007, 2008, 2009, 2010, 2011, 2012, 2013, 2014, 2015], \"y\": [2.0, 4.0, 9.0, 12.0, 13.0, 19.0, 28.0, 26.0, 22.0, 28.0, 22.0, 33.0], \"name\": \"Nevada\"}, {\"type\": \"scatter\", \"x\": [2005, 2006, 2013], \"y\": [1.0, 2.0, 1.0], \"name\": \"Hong Kong\"}, {\"type\": \"scatter\", \"x\": [2008, 2009, 2010, 2011, 2012, 2013, 2014, 2015], \"y\": [3.0, 6.0, 3.0, 1.0, 4.0, 2.0, 2.0, 1.0], \"name\": \"Samoa\"}, {\"type\": \"scatter\", \"x\": [2009, 2010, 2011, 2012, 2013, 2014, 2015], \"y\": [4.0, 4.0, 1.0, 2.0, 1.0, 5.0, 6.0], \"name\": \"British Anguilla\"}, {\"type\": \"scatter\", \"x\": [2011, 2013, 2014], \"y\": [1.0, 1.0, 1.0], \"name\": \"United Kingdom\"}, {\"type\": \"scatter\", \"x\": [2012, 2015], \"y\": [1.0, 1.0], \"name\": \"Uruguay\"}, {\"type\": \"scatter\", \"x\": [2014], \"y\": [1.0], \"name\": \"Costa Rica\"}], {\"title\": \"Bahamas inactivations account distribution by jurisdiction with time series\", \"xaxis\": {\"rangeslider\": {}, \"type\": \"date\"}}, {\"showLink\": true, \"linkText\": \"Export to plot.ly\"})});</script>"
      ],
      "text/vnd.plotly.v1+html": [
       "<div id=\"736901d3-377c-4d57-98b1-cd03dd5315f4\" style=\"height: 525px; width: 100%;\" class=\"plotly-graph-div\"></div><script type=\"text/javascript\">require([\"plotly\"], function(Plotly) { window.PLOTLYENV=window.PLOTLYENV || {};window.PLOTLYENV.BASE_URL=\"https://plot.ly\";Plotly.newPlot(\"736901d3-377c-4d57-98b1-cd03dd5315f4\", [{\"type\": \"scatter\", \"x\": [1980, 1981, 1982, 1984, 1985, 1989, 1990, 1991, 1992, 1993, 1994, 1995, 1996, 1997, 1998, 1999, 2000, 2001, 2002, 2003, 2004, 2005, 2006, 2007, 2008, 2009, 2010, 2011, 2012, 2013, 2014, 2015], \"y\": [1.0, 2.0, 2.0, 11.0, 1.0, 2.0, 3.0, 3.0, 1.0, 5.0, 5.0, 1.0, 2.0, 1.0, 2.0, 1.0, 5.0, 4.0, 5.0, 9.0, 11.0, 26.0, 51.0, 49.0, 76.0, 113.0, 137.0, 147.0, 135.0, 191.0, 123.0, 178.0], \"name\": \"Panama\"}, {\"type\": \"scatter\", \"x\": [1990, 1991, 1993, 1994, 1995, 1996, 1997, 1998, 1999, 2000, 2001, 2002, 2003, 2004, 2005, 2006, 2007, 2008, 2009, 2010, 2011, 2012, 2013, 2014, 2015], \"y\": [1.0, 2.0, 4.0, 11.0, 17.0, 10.0, 15.0, 13.0, 20.0, 5.0, 13.0, 17.0, 13.0, 45.0, 31.0, 15.0, 47.0, 61.0, 52.0, 60.0, 64.0, 61.0, 69.0, 106.0, 159.0], \"name\": \"British Virgin Islands\"}, {\"type\": \"scatter\", \"x\": [1991, 1992, 1993, 1994, 1995, 1996, 1997, 1998, 1999, 2000, 2001, 2002, 2003, 2004, 2005, 2006, 2007, 2008, 2009, 2010, 2011, 2012, 2013, 2014, 2015], \"y\": [1.0, 6.0, 1.0, 7.0, 5.0, 12.0, 9.0, 9.0, 11.0, 15.0, 13.0, 16.0, 7.0, 11.0, 65.0, 14.0, 4.0, 10.0, 24.0, 11.0, 9.0, 9.0, 9.0, 11.0, 10.0], \"name\": \"Bahamas\"}, {\"type\": \"scatter\", \"x\": [2001, 2002, 2003, 2004, 2005, 2006, 2007], \"y\": [1.0, 10.0, 6.0, 8.0, 2.0, 23.0, 7.0], \"name\": \"Niue\"}, {\"type\": \"scatter\", \"x\": [2002, 2004, 2005, 2007, 2008, 2009, 2010, 2011, 2012, 2013, 2014, 2015], \"y\": [1.0, 1.0, 3.0, 8.0, 10.0, 12.0, 12.0, 9.0, 5.0, 4.0, 5.0, 4.0], \"name\": \"Seychelles\"}, {\"type\": \"scatter\", \"x\": [2004, 2005, 2006, 2007, 2008, 2009, 2010, 2011, 2012, 2013, 2014, 2015], \"y\": [2.0, 4.0, 9.0, 12.0, 13.0, 19.0, 28.0, 26.0, 22.0, 28.0, 22.0, 33.0], \"name\": \"Nevada\"}, {\"type\": \"scatter\", \"x\": [2005, 2006, 2013], \"y\": [1.0, 2.0, 1.0], \"name\": \"Hong Kong\"}, {\"type\": \"scatter\", \"x\": [2008, 2009, 2010, 2011, 2012, 2013, 2014, 2015], \"y\": [3.0, 6.0, 3.0, 1.0, 4.0, 2.0, 2.0, 1.0], \"name\": \"Samoa\"}, {\"type\": \"scatter\", \"x\": [2009, 2010, 2011, 2012, 2013, 2014, 2015], \"y\": [4.0, 4.0, 1.0, 2.0, 1.0, 5.0, 6.0], \"name\": \"British Anguilla\"}, {\"type\": \"scatter\", \"x\": [2011, 2013, 2014], \"y\": [1.0, 1.0, 1.0], \"name\": \"United Kingdom\"}, {\"type\": \"scatter\", \"x\": [2012, 2015], \"y\": [1.0, 1.0], \"name\": \"Uruguay\"}, {\"type\": \"scatter\", \"x\": [2014], \"y\": [1.0], \"name\": \"Costa Rica\"}], {\"title\": \"Bahamas inactivations account distribution by jurisdiction with time series\", \"xaxis\": {\"rangeslider\": {}, \"type\": \"date\"}}, {\"showLink\": true, \"linkText\": \"Export to plot.ly\"})});</script>"
      ]
     },
     "metadata": {},
     "output_type": "display_data"
    },
    {
     "data": {
      "application/vnd.plotly.v1+json": {
       "data": [
        {
         "name": "Bahamas",
         "type": "scatter",
         "x": [
          1998,
          1999,
          2000,
          2001,
          2002,
          2003,
          2004,
          2005,
          2006,
          2007,
          2008,
          2009,
          2010,
          2011,
          2012,
          2013,
          2014,
          2015
         ],
         "y": [
          1,
          11,
          16,
          39,
          41,
          17,
          15,
          6,
          12,
          13,
          9,
          13,
          9,
          8,
          6,
          9,
          7,
          3
         ]
        },
        {
         "name": "Panama",
         "type": "scatter",
         "x": [
          1998,
          1999,
          2000,
          2001,
          2002,
          2003,
          2004,
          2005,
          2006,
          2007,
          2008,
          2009,
          2010,
          2011,
          2012,
          2013,
          2014,
          2015
         ],
         "y": [
          4,
          5,
          17,
          33,
          25,
          36,
          72,
          44,
          42,
          52,
          75,
          61,
          49,
          92,
          90,
          169,
          111,
          181
         ]
        },
        {
         "name": "British Virgin Islands",
         "type": "scatter",
         "x": [
          1998,
          1999,
          2000,
          2001,
          2002,
          2003,
          2004,
          2005,
          2006,
          2007,
          2008,
          2009,
          2010,
          2011,
          2012,
          2013,
          2014,
          2015
         ],
         "y": [
          8,
          15,
          15,
          21,
          32,
          26,
          20,
          27,
          21,
          34,
          49,
          45,
          44,
          27,
          44,
          28,
          53,
          67
         ]
        },
        {
         "name": "Niue",
         "type": "scatter",
         "x": [
          1999,
          2000,
          2001,
          2002,
          2003,
          2004,
          2005,
          2006,
          2007,
          2009,
          2013
         ],
         "y": [
          1,
          6,
          10,
          12,
          7,
          13,
          14,
          21,
          1,
          1,
          4
         ]
        },
        {
         "name": "Seychelles",
         "type": "scatter",
         "x": [
          2004,
          2007,
          2008,
          2009,
          2010,
          2011,
          2012,
          2013,
          2014,
          2015
         ],
         "y": [
          1,
          1,
          2,
          4,
          5,
          2,
          1,
          2,
          4,
          18
         ]
        },
        {
         "name": "Nevada",
         "type": "scatter",
         "x": [
          2004,
          2005,
          2006,
          2007,
          2008,
          2009,
          2010,
          2011,
          2012,
          2013,
          2014,
          2015
         ],
         "y": [
          1,
          2,
          3,
          1,
          5,
          3,
          8,
          3,
          1,
          3,
          1,
          13
         ]
        },
        {
         "name": "Uruguay",
         "type": "scatter",
         "x": [
          2007,
          2011,
          2012,
          2014,
          2015
         ],
         "y": [
          1,
          2,
          2,
          1,
          1
         ]
        },
        {
         "name": "Samoa",
         "type": "scatter",
         "x": [
          2008,
          2009,
          2012
         ],
         "y": [
          4,
          1,
          2
         ]
        },
        {
         "name": "British Anguilla",
         "type": "scatter",
         "x": [
          2009,
          2010,
          2011,
          2012,
          2015
         ],
         "y": [
          2,
          3,
          8,
          2,
          6
         ]
        },
        {
         "name": "Hong Kong",
         "type": "scatter",
         "x": [
          2012,
          2014,
          2015
         ],
         "y": [
          1,
          1,
          1
         ]
        }
       ],
       "layout": {
        "title": "Uruguay inactivations account distribution by jurisdiction with time series",
        "xaxis": {
         "rangeslider": {},
         "type": "date"
        }
       }
      },
      "text/html": [
       "<div id=\"7987e03d-099c-4513-ad87-52b724c8c831\" style=\"height: 525px; width: 100%;\" class=\"plotly-graph-div\"></div><script type=\"text/javascript\">require([\"plotly\"], function(Plotly) { window.PLOTLYENV=window.PLOTLYENV || {};window.PLOTLYENV.BASE_URL=\"https://plot.ly\";Plotly.newPlot(\"7987e03d-099c-4513-ad87-52b724c8c831\", [{\"type\": \"scatter\", \"x\": [1998, 1999, 2000, 2001, 2002, 2003, 2004, 2005, 2006, 2007, 2008, 2009, 2010, 2011, 2012, 2013, 2014, 2015], \"y\": [1.0, 11.0, 16.0, 39.0, 41.0, 17.0, 15.0, 6.0, 12.0, 13.0, 9.0, 13.0, 9.0, 8.0, 6.0, 9.0, 7.0, 3.0], \"name\": \"Bahamas\"}, {\"type\": \"scatter\", \"x\": [1998, 1999, 2000, 2001, 2002, 2003, 2004, 2005, 2006, 2007, 2008, 2009, 2010, 2011, 2012, 2013, 2014, 2015], \"y\": [4.0, 5.0, 17.0, 33.0, 25.0, 36.0, 72.0, 44.0, 42.0, 52.0, 75.0, 61.0, 49.0, 92.0, 90.0, 169.0, 111.0, 181.0], \"name\": \"Panama\"}, {\"type\": \"scatter\", \"x\": [1998, 1999, 2000, 2001, 2002, 2003, 2004, 2005, 2006, 2007, 2008, 2009, 2010, 2011, 2012, 2013, 2014, 2015], \"y\": [8.0, 15.0, 15.0, 21.0, 32.0, 26.0, 20.0, 27.0, 21.0, 34.0, 49.0, 45.0, 44.0, 27.0, 44.0, 28.0, 53.0, 67.0], \"name\": \"British Virgin Islands\"}, {\"type\": \"scatter\", \"x\": [1999, 2000, 2001, 2002, 2003, 2004, 2005, 2006, 2007, 2009, 2013], \"y\": [1.0, 6.0, 10.0, 12.0, 7.0, 13.0, 14.0, 21.0, 1.0, 1.0, 4.0], \"name\": \"Niue\"}, {\"type\": \"scatter\", \"x\": [2004, 2007, 2008, 2009, 2010, 2011, 2012, 2013, 2014, 2015], \"y\": [1.0, 1.0, 2.0, 4.0, 5.0, 2.0, 1.0, 2.0, 4.0, 18.0], \"name\": \"Seychelles\"}, {\"type\": \"scatter\", \"x\": [2004, 2005, 2006, 2007, 2008, 2009, 2010, 2011, 2012, 2013, 2014, 2015], \"y\": [1.0, 2.0, 3.0, 1.0, 5.0, 3.0, 8.0, 3.0, 1.0, 3.0, 1.0, 13.0], \"name\": \"Nevada\"}, {\"type\": \"scatter\", \"x\": [2007, 2011, 2012, 2014, 2015], \"y\": [1.0, 2.0, 2.0, 1.0, 1.0], \"name\": \"Uruguay\"}, {\"type\": \"scatter\", \"x\": [2008, 2009, 2012], \"y\": [4.0, 1.0, 2.0], \"name\": \"Samoa\"}, {\"type\": \"scatter\", \"x\": [2009, 2010, 2011, 2012, 2015], \"y\": [2.0, 3.0, 8.0, 2.0, 6.0], \"name\": \"British Anguilla\"}, {\"type\": \"scatter\", \"x\": [2012, 2014, 2015], \"y\": [1.0, 1.0, 1.0], \"name\": \"Hong Kong\"}], {\"title\": \"Uruguay inactivations account distribution by jurisdiction with time series\", \"xaxis\": {\"rangeslider\": {}, \"type\": \"date\"}}, {\"showLink\": true, \"linkText\": \"Export to plot.ly\"})});</script>"
      ],
      "text/vnd.plotly.v1+html": [
       "<div id=\"7987e03d-099c-4513-ad87-52b724c8c831\" style=\"height: 525px; width: 100%;\" class=\"plotly-graph-div\"></div><script type=\"text/javascript\">require([\"plotly\"], function(Plotly) { window.PLOTLYENV=window.PLOTLYENV || {};window.PLOTLYENV.BASE_URL=\"https://plot.ly\";Plotly.newPlot(\"7987e03d-099c-4513-ad87-52b724c8c831\", [{\"type\": \"scatter\", \"x\": [1998, 1999, 2000, 2001, 2002, 2003, 2004, 2005, 2006, 2007, 2008, 2009, 2010, 2011, 2012, 2013, 2014, 2015], \"y\": [1.0, 11.0, 16.0, 39.0, 41.0, 17.0, 15.0, 6.0, 12.0, 13.0, 9.0, 13.0, 9.0, 8.0, 6.0, 9.0, 7.0, 3.0], \"name\": \"Bahamas\"}, {\"type\": \"scatter\", \"x\": [1998, 1999, 2000, 2001, 2002, 2003, 2004, 2005, 2006, 2007, 2008, 2009, 2010, 2011, 2012, 2013, 2014, 2015], \"y\": [4.0, 5.0, 17.0, 33.0, 25.0, 36.0, 72.0, 44.0, 42.0, 52.0, 75.0, 61.0, 49.0, 92.0, 90.0, 169.0, 111.0, 181.0], \"name\": \"Panama\"}, {\"type\": \"scatter\", \"x\": [1998, 1999, 2000, 2001, 2002, 2003, 2004, 2005, 2006, 2007, 2008, 2009, 2010, 2011, 2012, 2013, 2014, 2015], \"y\": [8.0, 15.0, 15.0, 21.0, 32.0, 26.0, 20.0, 27.0, 21.0, 34.0, 49.0, 45.0, 44.0, 27.0, 44.0, 28.0, 53.0, 67.0], \"name\": \"British Virgin Islands\"}, {\"type\": \"scatter\", \"x\": [1999, 2000, 2001, 2002, 2003, 2004, 2005, 2006, 2007, 2009, 2013], \"y\": [1.0, 6.0, 10.0, 12.0, 7.0, 13.0, 14.0, 21.0, 1.0, 1.0, 4.0], \"name\": \"Niue\"}, {\"type\": \"scatter\", \"x\": [2004, 2007, 2008, 2009, 2010, 2011, 2012, 2013, 2014, 2015], \"y\": [1.0, 1.0, 2.0, 4.0, 5.0, 2.0, 1.0, 2.0, 4.0, 18.0], \"name\": \"Seychelles\"}, {\"type\": \"scatter\", \"x\": [2004, 2005, 2006, 2007, 2008, 2009, 2010, 2011, 2012, 2013, 2014, 2015], \"y\": [1.0, 2.0, 3.0, 1.0, 5.0, 3.0, 8.0, 3.0, 1.0, 3.0, 1.0, 13.0], \"name\": \"Nevada\"}, {\"type\": \"scatter\", \"x\": [2007, 2011, 2012, 2014, 2015], \"y\": [1.0, 2.0, 2.0, 1.0, 1.0], \"name\": \"Uruguay\"}, {\"type\": \"scatter\", \"x\": [2008, 2009, 2012], \"y\": [4.0, 1.0, 2.0], \"name\": \"Samoa\"}, {\"type\": \"scatter\", \"x\": [2009, 2010, 2011, 2012, 2015], \"y\": [2.0, 3.0, 8.0, 2.0, 6.0], \"name\": \"British Anguilla\"}, {\"type\": \"scatter\", \"x\": [2012, 2014, 2015], \"y\": [1.0, 1.0, 1.0], \"name\": \"Hong Kong\"}], {\"title\": \"Uruguay inactivations account distribution by jurisdiction with time series\", \"xaxis\": {\"rangeslider\": {}, \"type\": \"date\"}}, {\"showLink\": true, \"linkText\": \"Export to plot.ly\"})});</script>"
      ]
     },
     "metadata": {},
     "output_type": "display_data"
    },
    {
     "data": {
      "application/vnd.plotly.v1+json": {
       "data": [
        {
         "name": "Panama",
         "type": "scatter",
         "x": [
          1984,
          1986,
          1988,
          1989,
          1990,
          1991,
          1992,
          1993,
          1994,
          1995,
          1996,
          1997,
          1998,
          1999,
          2000,
          2001,
          2002,
          2003,
          2004,
          2005,
          2006,
          2007,
          2008,
          2009,
          2010,
          2011,
          2012,
          2013,
          2014,
          2015
         ],
         "y": [
          3,
          1,
          1,
          13,
          7,
          12,
          8,
          63,
          15,
          4,
          15,
          10,
          7,
          7,
          7,
          9,
          10,
          6,
          18,
          17,
          13,
          45,
          17,
          14,
          18,
          20,
          16,
          20,
          16,
          5
         ]
        },
        {
         "name": "British Virgin Islands",
         "type": "scatter",
         "x": [
          1991,
          1992,
          1993,
          1994,
          1995,
          1996,
          1997,
          1998,
          1999,
          2000,
          2001,
          2002,
          2003,
          2004,
          2005,
          2006,
          2007,
          2008,
          2009,
          2010,
          2011,
          2012,
          2013,
          2014,
          2015
         ],
         "y": [
          6,
          5,
          23,
          50,
          228,
          47,
          43,
          40,
          90,
          115,
          162,
          105,
          68,
          87,
          106,
          81,
          95,
          88,
          121,
          121,
          72,
          95,
          62,
          91,
          186
         ]
        },
        {
         "name": "Bahamas",
         "type": "scatter",
         "x": [
          1993,
          1994,
          1995,
          1996,
          1997,
          1998,
          1999,
          2000,
          2001,
          2002,
          2003,
          2004,
          2005,
          2006,
          2007,
          2008,
          2009,
          2010,
          2011,
          2012,
          2013,
          2014,
          2015
         ],
         "y": [
          4,
          11,
          29,
          38,
          58,
          80,
          66,
          184,
          65,
          53,
          19,
          42,
          26,
          21,
          17,
          23,
          8,
          14,
          8,
          10,
          10,
          6,
          6
         ]
        },
        {
         "name": "Niue",
         "type": "scatter",
         "x": [
          1997,
          1998,
          1999,
          2000,
          2001,
          2002,
          2003,
          2004,
          2005,
          2006,
          2007,
          2008,
          2009,
          2010,
          2014
         ],
         "y": [
          1,
          12,
          11,
          47,
          28,
          19,
          45,
          20,
          29,
          40,
          1,
          1,
          2,
          4,
          10
         ]
        },
        {
         "name": "Seychelles",
         "type": "scatter",
         "x": [
          2000,
          2001,
          2002,
          2003,
          2004,
          2005,
          2006,
          2007,
          2008,
          2009,
          2010,
          2011,
          2012,
          2013,
          2014,
          2015
         ],
         "y": [
          1,
          3,
          6,
          1,
          8,
          1,
          4,
          2,
          10,
          7,
          4,
          3,
          3,
          4,
          4,
          3
         ]
        },
        {
         "name": "Nevada",
         "type": "scatter",
         "x": [
          2005,
          2010,
          2011,
          2013,
          2015
         ],
         "y": [
          2,
          1,
          1,
          1,
          2
         ]
        },
        {
         "name": "Isle Of Man",
         "type": "scatter",
         "x": [
          2005,
          2007,
          2011,
          2012
         ],
         "y": [
          2,
          1,
          1,
          1
         ]
        },
        {
         "name": "Hong Kong",
         "type": "scatter",
         "x": [
          2009,
          2012,
          2014,
          2015
         ],
         "y": [
          2,
          1,
          2,
          1
         ]
        },
        {
         "name": "Samoa",
         "type": "scatter",
         "x": [
          2009,
          2010,
          2011,
          2012,
          2013,
          2014,
          2015
         ],
         "y": [
          3,
          11,
          4,
          2,
          3,
          3,
          7
         ]
        },
        {
         "name": "British Anguilla",
         "type": "scatter",
         "x": [
          2012,
          2013,
          2014,
          2015
         ],
         "y": [
          2,
          1,
          4,
          2
         ]
        },
        {
         "name": "Uruguay",
         "type": "scatter",
         "x": [
          2013
         ],
         "y": [
          1
         ]
        },
        {
         "name": "Cyprus",
         "type": "scatter",
         "x": [
          2014
         ],
         "y": [
          1
         ]
        }
       ],
       "layout": {
        "title": "Isle of Man inactivations account distribution by jurisdiction with time series",
        "xaxis": {
         "rangeslider": {},
         "type": "date"
        }
       }
      },
      "text/html": [
       "<div id=\"c4893841-82bb-4752-925f-29f1660cb7cd\" style=\"height: 525px; width: 100%;\" class=\"plotly-graph-div\"></div><script type=\"text/javascript\">require([\"plotly\"], function(Plotly) { window.PLOTLYENV=window.PLOTLYENV || {};window.PLOTLYENV.BASE_URL=\"https://plot.ly\";Plotly.newPlot(\"c4893841-82bb-4752-925f-29f1660cb7cd\", [{\"type\": \"scatter\", \"x\": [1984, 1986, 1988, 1989, 1990, 1991, 1992, 1993, 1994, 1995, 1996, 1997, 1998, 1999, 2000, 2001, 2002, 2003, 2004, 2005, 2006, 2007, 2008, 2009, 2010, 2011, 2012, 2013, 2014, 2015], \"y\": [3.0, 1.0, 1.0, 13.0, 7.0, 12.0, 8.0, 63.0, 15.0, 4.0, 15.0, 10.0, 7.0, 7.0, 7.0, 9.0, 10.0, 6.0, 18.0, 17.0, 13.0, 45.0, 17.0, 14.0, 18.0, 20.0, 16.0, 20.0, 16.0, 5.0], \"name\": \"Panama\"}, {\"type\": \"scatter\", \"x\": [1991, 1992, 1993, 1994, 1995, 1996, 1997, 1998, 1999, 2000, 2001, 2002, 2003, 2004, 2005, 2006, 2007, 2008, 2009, 2010, 2011, 2012, 2013, 2014, 2015], \"y\": [6.0, 5.0, 23.0, 50.0, 228.0, 47.0, 43.0, 40.0, 90.0, 115.0, 162.0, 105.0, 68.0, 87.0, 106.0, 81.0, 95.0, 88.0, 121.0, 121.0, 72.0, 95.0, 62.0, 91.0, 186.0], \"name\": \"British Virgin Islands\"}, {\"type\": \"scatter\", \"x\": [1993, 1994, 1995, 1996, 1997, 1998, 1999, 2000, 2001, 2002, 2003, 2004, 2005, 2006, 2007, 2008, 2009, 2010, 2011, 2012, 2013, 2014, 2015], \"y\": [4.0, 11.0, 29.0, 38.0, 58.0, 80.0, 66.0, 184.0, 65.0, 53.0, 19.0, 42.0, 26.0, 21.0, 17.0, 23.0, 8.0, 14.0, 8.0, 10.0, 10.0, 6.0, 6.0], \"name\": \"Bahamas\"}, {\"type\": \"scatter\", \"x\": [1997, 1998, 1999, 2000, 2001, 2002, 2003, 2004, 2005, 2006, 2007, 2008, 2009, 2010, 2014], \"y\": [1.0, 12.0, 11.0, 47.0, 28.0, 19.0, 45.0, 20.0, 29.0, 40.0, 1.0, 1.0, 2.0, 4.0, 10.0], \"name\": \"Niue\"}, {\"type\": \"scatter\", \"x\": [2000, 2001, 2002, 2003, 2004, 2005, 2006, 2007, 2008, 2009, 2010, 2011, 2012, 2013, 2014, 2015], \"y\": [1.0, 3.0, 6.0, 1.0, 8.0, 1.0, 4.0, 2.0, 10.0, 7.0, 4.0, 3.0, 3.0, 4.0, 4.0, 3.0], \"name\": \"Seychelles\"}, {\"type\": \"scatter\", \"x\": [2005, 2010, 2011, 2013, 2015], \"y\": [2.0, 1.0, 1.0, 1.0, 2.0], \"name\": \"Nevada\"}, {\"type\": \"scatter\", \"x\": [2005, 2007, 2011, 2012], \"y\": [2.0, 1.0, 1.0, 1.0], \"name\": \"Isle Of Man\"}, {\"type\": \"scatter\", \"x\": [2009, 2012, 2014, 2015], \"y\": [2.0, 1.0, 2.0, 1.0], \"name\": \"Hong Kong\"}, {\"type\": \"scatter\", \"x\": [2009, 2010, 2011, 2012, 2013, 2014, 2015], \"y\": [3.0, 11.0, 4.0, 2.0, 3.0, 3.0, 7.0], \"name\": \"Samoa\"}, {\"type\": \"scatter\", \"x\": [2012, 2013, 2014, 2015], \"y\": [2.0, 1.0, 4.0, 2.0], \"name\": \"British Anguilla\"}, {\"type\": \"scatter\", \"x\": [2013], \"y\": [1.0], \"name\": \"Uruguay\"}, {\"type\": \"scatter\", \"x\": [2014], \"y\": [1.0], \"name\": \"Cyprus\"}], {\"title\": \"Isle of Man inactivations account distribution by jurisdiction with time series\", \"xaxis\": {\"rangeslider\": {}, \"type\": \"date\"}}, {\"showLink\": true, \"linkText\": \"Export to plot.ly\"})});</script>"
      ],
      "text/vnd.plotly.v1+html": [
       "<div id=\"c4893841-82bb-4752-925f-29f1660cb7cd\" style=\"height: 525px; width: 100%;\" class=\"plotly-graph-div\"></div><script type=\"text/javascript\">require([\"plotly\"], function(Plotly) { window.PLOTLYENV=window.PLOTLYENV || {};window.PLOTLYENV.BASE_URL=\"https://plot.ly\";Plotly.newPlot(\"c4893841-82bb-4752-925f-29f1660cb7cd\", [{\"type\": \"scatter\", \"x\": [1984, 1986, 1988, 1989, 1990, 1991, 1992, 1993, 1994, 1995, 1996, 1997, 1998, 1999, 2000, 2001, 2002, 2003, 2004, 2005, 2006, 2007, 2008, 2009, 2010, 2011, 2012, 2013, 2014, 2015], \"y\": [3.0, 1.0, 1.0, 13.0, 7.0, 12.0, 8.0, 63.0, 15.0, 4.0, 15.0, 10.0, 7.0, 7.0, 7.0, 9.0, 10.0, 6.0, 18.0, 17.0, 13.0, 45.0, 17.0, 14.0, 18.0, 20.0, 16.0, 20.0, 16.0, 5.0], \"name\": \"Panama\"}, {\"type\": \"scatter\", \"x\": [1991, 1992, 1993, 1994, 1995, 1996, 1997, 1998, 1999, 2000, 2001, 2002, 2003, 2004, 2005, 2006, 2007, 2008, 2009, 2010, 2011, 2012, 2013, 2014, 2015], \"y\": [6.0, 5.0, 23.0, 50.0, 228.0, 47.0, 43.0, 40.0, 90.0, 115.0, 162.0, 105.0, 68.0, 87.0, 106.0, 81.0, 95.0, 88.0, 121.0, 121.0, 72.0, 95.0, 62.0, 91.0, 186.0], \"name\": \"British Virgin Islands\"}, {\"type\": \"scatter\", \"x\": [1993, 1994, 1995, 1996, 1997, 1998, 1999, 2000, 2001, 2002, 2003, 2004, 2005, 2006, 2007, 2008, 2009, 2010, 2011, 2012, 2013, 2014, 2015], \"y\": [4.0, 11.0, 29.0, 38.0, 58.0, 80.0, 66.0, 184.0, 65.0, 53.0, 19.0, 42.0, 26.0, 21.0, 17.0, 23.0, 8.0, 14.0, 8.0, 10.0, 10.0, 6.0, 6.0], \"name\": \"Bahamas\"}, {\"type\": \"scatter\", \"x\": [1997, 1998, 1999, 2000, 2001, 2002, 2003, 2004, 2005, 2006, 2007, 2008, 2009, 2010, 2014], \"y\": [1.0, 12.0, 11.0, 47.0, 28.0, 19.0, 45.0, 20.0, 29.0, 40.0, 1.0, 1.0, 2.0, 4.0, 10.0], \"name\": \"Niue\"}, {\"type\": \"scatter\", \"x\": [2000, 2001, 2002, 2003, 2004, 2005, 2006, 2007, 2008, 2009, 2010, 2011, 2012, 2013, 2014, 2015], \"y\": [1.0, 3.0, 6.0, 1.0, 8.0, 1.0, 4.0, 2.0, 10.0, 7.0, 4.0, 3.0, 3.0, 4.0, 4.0, 3.0], \"name\": \"Seychelles\"}, {\"type\": \"scatter\", \"x\": [2005, 2010, 2011, 2013, 2015], \"y\": [2.0, 1.0, 1.0, 1.0, 2.0], \"name\": \"Nevada\"}, {\"type\": \"scatter\", \"x\": [2005, 2007, 2011, 2012], \"y\": [2.0, 1.0, 1.0, 1.0], \"name\": \"Isle Of Man\"}, {\"type\": \"scatter\", \"x\": [2009, 2012, 2014, 2015], \"y\": [2.0, 1.0, 2.0, 1.0], \"name\": \"Hong Kong\"}, {\"type\": \"scatter\", \"x\": [2009, 2010, 2011, 2012, 2013, 2014, 2015], \"y\": [3.0, 11.0, 4.0, 2.0, 3.0, 3.0, 7.0], \"name\": \"Samoa\"}, {\"type\": \"scatter\", \"x\": [2012, 2013, 2014, 2015], \"y\": [2.0, 1.0, 4.0, 2.0], \"name\": \"British Anguilla\"}, {\"type\": \"scatter\", \"x\": [2013], \"y\": [1.0], \"name\": \"Uruguay\"}, {\"type\": \"scatter\", \"x\": [2014], \"y\": [1.0], \"name\": \"Cyprus\"}], {\"title\": \"Isle of Man inactivations account distribution by jurisdiction with time series\", \"xaxis\": {\"rangeslider\": {}, \"type\": \"date\"}}, {\"showLink\": true, \"linkText\": \"Export to plot.ly\"})});</script>"
      ]
     },
     "metadata": {},
     "output_type": "display_data"
    },
    {
     "data": {
      "application/vnd.plotly.v1+json": {
       "data": [
        {
         "name": "Panama",
         "type": "scatter",
         "x": [
          1991,
          1992,
          1993,
          1994,
          1995,
          1996,
          1997,
          1998,
          2000,
          2003,
          2004,
          2006,
          2007,
          2009,
          2010,
          2011,
          2012,
          2013,
          2014,
          2015
         ],
         "y": [
          1,
          1,
          2,
          2,
          1,
          1,
          1,
          1,
          2,
          2,
          1,
          1,
          1,
          1,
          6,
          5,
          1,
          3,
          6,
          6
         ]
        },
        {
         "name": "British Virgin Islands",
         "type": "scatter",
         "x": [
          1992,
          1993,
          1994,
          1995,
          1996,
          1997,
          1998,
          1999,
          2000,
          2001,
          2002,
          2003,
          2004,
          2005,
          2006,
          2007,
          2008,
          2009,
          2010,
          2011,
          2012,
          2013,
          2014,
          2015
         ],
         "y": [
          2,
          1,
          5,
          9,
          15,
          18,
          47,
          68,
          48,
          81,
          104,
          103,
          103,
          94,
          109,
          106,
          144,
          188,
          190,
          70,
          66,
          86,
          193,
          176
         ]
        },
        {
         "name": "Bahamas",
         "type": "scatter",
         "x": [
          1996,
          1998,
          1999,
          2000,
          2001,
          2002,
          2003,
          2004,
          2005,
          2006,
          2007,
          2008,
          2009,
          2010,
          2011,
          2012,
          2013,
          2014,
          2015
         ],
         "y": [
          1,
          2,
          2,
          5,
          5,
          3,
          4,
          1,
          2,
          6,
          2,
          3,
          3,
          3,
          1,
          5,
          2,
          4,
          1
         ]
        },
        {
         "name": "Niue",
         "type": "scatter",
         "x": [
          1997,
          1998,
          1999,
          2000,
          2001,
          2002,
          2003,
          2004,
          2005,
          2006,
          2007
         ],
         "y": [
          12,
          11,
          3,
          8,
          13,
          20,
          2,
          8,
          6,
          10,
          2
         ]
        },
        {
         "name": "Seychelles",
         "type": "scatter",
         "x": [
          2002,
          2003,
          2004,
          2005,
          2006,
          2007,
          2008,
          2009,
          2010,
          2011,
          2012,
          2013,
          2014,
          2015
         ],
         "y": [
          3,
          2,
          2,
          1,
          2,
          2,
          1,
          2,
          1,
          10,
          9,
          1,
          7,
          6
         ]
        },
        {
         "name": "Samoa",
         "type": "scatter",
         "x": [
          2006,
          2007,
          2008,
          2009,
          2010,
          2011,
          2012,
          2013,
          2014,
          2015
         ],
         "y": [
          1,
          2,
          4,
          5,
          9,
          2,
          1,
          3,
          1,
          5
         ]
        },
        {
         "name": "British Anguilla",
         "type": "scatter",
         "x": [
          2010,
          2011,
          2013,
          2015
         ],
         "y": [
          1,
          1,
          3,
          2
         ]
        }
       ],
       "layout": {
        "title": "Singapore inactivations account distribution by jurisdiction with time series",
        "xaxis": {
         "rangeslider": {},
         "type": "date"
        }
       }
      },
      "text/html": [
       "<div id=\"6e2400cc-4827-4d05-850c-d52af84eeee8\" style=\"height: 525px; width: 100%;\" class=\"plotly-graph-div\"></div><script type=\"text/javascript\">require([\"plotly\"], function(Plotly) { window.PLOTLYENV=window.PLOTLYENV || {};window.PLOTLYENV.BASE_URL=\"https://plot.ly\";Plotly.newPlot(\"6e2400cc-4827-4d05-850c-d52af84eeee8\", [{\"type\": \"scatter\", \"x\": [1991, 1992, 1993, 1994, 1995, 1996, 1997, 1998, 2000, 2003, 2004, 2006, 2007, 2009, 2010, 2011, 2012, 2013, 2014, 2015], \"y\": [1.0, 1.0, 2.0, 2.0, 1.0, 1.0, 1.0, 1.0, 2.0, 2.0, 1.0, 1.0, 1.0, 1.0, 6.0, 5.0, 1.0, 3.0, 6.0, 6.0], \"name\": \"Panama\"}, {\"type\": \"scatter\", \"x\": [1992, 1993, 1994, 1995, 1996, 1997, 1998, 1999, 2000, 2001, 2002, 2003, 2004, 2005, 2006, 2007, 2008, 2009, 2010, 2011, 2012, 2013, 2014, 2015], \"y\": [2.0, 1.0, 5.0, 9.0, 15.0, 18.0, 47.0, 68.0, 48.0, 81.0, 104.0, 103.0, 103.0, 94.0, 109.0, 106.0, 144.0, 188.0, 190.0, 70.0, 66.0, 86.0, 193.0, 176.0], \"name\": \"British Virgin Islands\"}, {\"type\": \"scatter\", \"x\": [1996, 1998, 1999, 2000, 2001, 2002, 2003, 2004, 2005, 2006, 2007, 2008, 2009, 2010, 2011, 2012, 2013, 2014, 2015], \"y\": [1.0, 2.0, 2.0, 5.0, 5.0, 3.0, 4.0, 1.0, 2.0, 6.0, 2.0, 3.0, 3.0, 3.0, 1.0, 5.0, 2.0, 4.0, 1.0], \"name\": \"Bahamas\"}, {\"type\": \"scatter\", \"x\": [1997, 1998, 1999, 2000, 2001, 2002, 2003, 2004, 2005, 2006, 2007], \"y\": [12.0, 11.0, 3.0, 8.0, 13.0, 20.0, 2.0, 8.0, 6.0, 10.0, 2.0], \"name\": \"Niue\"}, {\"type\": \"scatter\", \"x\": [2002, 2003, 2004, 2005, 2006, 2007, 2008, 2009, 2010, 2011, 2012, 2013, 2014, 2015], \"y\": [3.0, 2.0, 2.0, 1.0, 2.0, 2.0, 1.0, 2.0, 1.0, 10.0, 9.0, 1.0, 7.0, 6.0], \"name\": \"Seychelles\"}, {\"type\": \"scatter\", \"x\": [2006, 2007, 2008, 2009, 2010, 2011, 2012, 2013, 2014, 2015], \"y\": [1.0, 2.0, 4.0, 5.0, 9.0, 2.0, 1.0, 3.0, 1.0, 5.0], \"name\": \"Samoa\"}, {\"type\": \"scatter\", \"x\": [2010, 2011, 2013, 2015], \"y\": [1.0, 1.0, 3.0, 2.0], \"name\": \"British Anguilla\"}], {\"title\": \"Singapore inactivations account distribution by jurisdiction with time series\", \"xaxis\": {\"rangeslider\": {}, \"type\": \"date\"}}, {\"showLink\": true, \"linkText\": \"Export to plot.ly\"})});</script>"
      ],
      "text/vnd.plotly.v1+html": [
       "<div id=\"6e2400cc-4827-4d05-850c-d52af84eeee8\" style=\"height: 525px; width: 100%;\" class=\"plotly-graph-div\"></div><script type=\"text/javascript\">require([\"plotly\"], function(Plotly) { window.PLOTLYENV=window.PLOTLYENV || {};window.PLOTLYENV.BASE_URL=\"https://plot.ly\";Plotly.newPlot(\"6e2400cc-4827-4d05-850c-d52af84eeee8\", [{\"type\": \"scatter\", \"x\": [1991, 1992, 1993, 1994, 1995, 1996, 1997, 1998, 2000, 2003, 2004, 2006, 2007, 2009, 2010, 2011, 2012, 2013, 2014, 2015], \"y\": [1.0, 1.0, 2.0, 2.0, 1.0, 1.0, 1.0, 1.0, 2.0, 2.0, 1.0, 1.0, 1.0, 1.0, 6.0, 5.0, 1.0, 3.0, 6.0, 6.0], \"name\": \"Panama\"}, {\"type\": \"scatter\", \"x\": [1992, 1993, 1994, 1995, 1996, 1997, 1998, 1999, 2000, 2001, 2002, 2003, 2004, 2005, 2006, 2007, 2008, 2009, 2010, 2011, 2012, 2013, 2014, 2015], \"y\": [2.0, 1.0, 5.0, 9.0, 15.0, 18.0, 47.0, 68.0, 48.0, 81.0, 104.0, 103.0, 103.0, 94.0, 109.0, 106.0, 144.0, 188.0, 190.0, 70.0, 66.0, 86.0, 193.0, 176.0], \"name\": \"British Virgin Islands\"}, {\"type\": \"scatter\", \"x\": [1996, 1998, 1999, 2000, 2001, 2002, 2003, 2004, 2005, 2006, 2007, 2008, 2009, 2010, 2011, 2012, 2013, 2014, 2015], \"y\": [1.0, 2.0, 2.0, 5.0, 5.0, 3.0, 4.0, 1.0, 2.0, 6.0, 2.0, 3.0, 3.0, 3.0, 1.0, 5.0, 2.0, 4.0, 1.0], \"name\": \"Bahamas\"}, {\"type\": \"scatter\", \"x\": [1997, 1998, 1999, 2000, 2001, 2002, 2003, 2004, 2005, 2006, 2007], \"y\": [12.0, 11.0, 3.0, 8.0, 13.0, 20.0, 2.0, 8.0, 6.0, 10.0, 2.0], \"name\": \"Niue\"}, {\"type\": \"scatter\", \"x\": [2002, 2003, 2004, 2005, 2006, 2007, 2008, 2009, 2010, 2011, 2012, 2013, 2014, 2015], \"y\": [3.0, 2.0, 2.0, 1.0, 2.0, 2.0, 1.0, 2.0, 1.0, 10.0, 9.0, 1.0, 7.0, 6.0], \"name\": \"Seychelles\"}, {\"type\": \"scatter\", \"x\": [2006, 2007, 2008, 2009, 2010, 2011, 2012, 2013, 2014, 2015], \"y\": [1.0, 2.0, 4.0, 5.0, 9.0, 2.0, 1.0, 3.0, 1.0, 5.0], \"name\": \"Samoa\"}, {\"type\": \"scatter\", \"x\": [2010, 2011, 2013, 2015], \"y\": [1.0, 1.0, 3.0, 2.0], \"name\": \"British Anguilla\"}], {\"title\": \"Singapore inactivations account distribution by jurisdiction with time series\", \"xaxis\": {\"rangeslider\": {}, \"type\": \"date\"}}, {\"showLink\": true, \"linkText\": \"Export to plot.ly\"})});</script>"
      ]
     },
     "metadata": {},
     "output_type": "display_data"
    }
   ],
   "source": [
    "visualizer.visualize_slider_country(countries_frame, 'incorporatios')"
   ]
  },
  {
   "cell_type": "code",
   "execution_count": 118,
   "metadata": {},
   "outputs": [
    {
     "data": {
      "application/vnd.plotly.v1+json": {
       "data": [
        {
         "name": "Switzerland",
         "type": "scatter",
         "x": [
          1984,
          1986,
          1990,
          1991,
          1992,
          1993,
          1994,
          1995,
          1996,
          1997,
          1998,
          1999,
          2000,
          2001,
          2002,
          2003,
          2004,
          2005,
          2006,
          2007,
          2008,
          2009,
          2010,
          2011,
          2012,
          2013,
          2014,
          2015
         ],
         "y": [
          1,
          1,
          56,
          95,
          92,
          117,
          224,
          211,
          240,
          277,
          225,
          189,
          150,
          23,
          9,
          22,
          21,
          24,
          32,
          10,
          20,
          13,
          17,
          3,
          13,
          6,
          19,
          16
         ]
        },
        {
         "name": "Guernsey",
         "type": "scatter",
         "x": [
          1988,
          1990,
          1991,
          1992,
          1993,
          1994,
          1995,
          1996,
          1997,
          1998,
          1999,
          2000,
          2001,
          2002,
          2003,
          2004,
          2005,
          2006,
          2007,
          2008,
          2009,
          2010,
          2011,
          2012,
          2014
         ],
         "y": [
          1,
          26,
          45,
          54,
          123,
          103,
          162,
          212,
          228,
          177,
          131,
          84,
          39,
          26,
          15,
          26,
          15,
          15,
          10,
          5,
          1,
          2,
          1,
          2,
          1
         ]
        },
        {
         "name": "Panama",
         "type": "scatter",
         "x": [
          1989,
          1990,
          1991,
          1992,
          1993,
          1994,
          1995,
          1996,
          1997,
          1998,
          1999,
          2000,
          2001,
          2002,
          2003,
          2004,
          2005,
          2006,
          2007,
          2008,
          2009,
          2010,
          2011,
          2012,
          2013,
          2014,
          2015
         ],
         "y": [
          2,
          32,
          21,
          19,
          35,
          110,
          92,
          76,
          113,
          130,
          111,
          135,
          53,
          14,
          26,
          21,
          17,
          14,
          19,
          23,
          23,
          5,
          3,
          12,
          4,
          5,
          3
         ]
        },
        {
         "name": "Jersey",
         "type": "scatter",
         "x": [
          1990,
          1991,
          1992,
          1993,
          1994,
          1995,
          1996,
          1997,
          1998,
          1999,
          2000,
          2001,
          2002,
          2003,
          2004,
          2005,
          2006,
          2007,
          2008,
          2009,
          2010,
          2011,
          2012,
          2013
         ],
         "y": [
          22,
          40,
          45,
          66,
          100,
          113,
          200,
          172,
          183,
          129,
          94,
          12,
          8,
          7,
          9,
          6,
          10,
          8,
          5,
          3,
          3,
          3,
          1,
          2
         ]
        },
        {
         "name": "Luxembourg",
         "type": "scatter",
         "x": [
          1990,
          1991,
          1992,
          1993,
          1994,
          1995,
          1996,
          1997,
          1998,
          1999,
          2000,
          2002,
          2003,
          2004,
          2005,
          2006,
          2007,
          2009,
          2011,
          2012
         ],
         "y": [
          1,
          7,
          28,
          35,
          48,
          72,
          62,
          42,
          58,
          36,
          13,
          1,
          1,
          4,
          3,
          3,
          5,
          1,
          2,
          1
         ]
        },
        {
         "name": "Isle of Man",
         "type": "scatter",
         "x": [
          1990,
          1991,
          1992,
          1993,
          1994,
          1995,
          1996,
          1997,
          1998,
          1999,
          2000,
          2001,
          2002,
          2003,
          2004,
          2005,
          2006,
          2007,
          2008,
          2010,
          2011,
          2012,
          2015
         ],
         "y": [
          2,
          16,
          25,
          56,
          112,
          85,
          120,
          163,
          112,
          89,
          42,
          10,
          6,
          5,
          9,
          4,
          8,
          8,
          4,
          2,
          2,
          2,
          1
         ]
        },
        {
         "name": "Hong Kong",
         "type": "scatter",
         "x": [
          1990,
          1991,
          1992,
          1993,
          1994,
          1995,
          1996,
          1997,
          1998,
          1999,
          2000,
          2001,
          2002,
          2003,
          2004,
          2005,
          2006,
          2007,
          2008,
          2010,
          2011,
          2012,
          2013,
          2014,
          2015
         ],
         "y": [
          17,
          52,
          43,
          123,
          112,
          104,
          108,
          125,
          92,
          67,
          52,
          10,
          7,
          4,
          4,
          7,
          5,
          6,
          3,
          2,
          2,
          3,
          6,
          4,
          2
         ]
        },
        {
         "name": "United Kingdom",
         "type": "scatter",
         "x": [
          1990,
          1991,
          1992,
          1993,
          1994,
          1995,
          1996,
          1997,
          1998,
          1999,
          2000,
          2001,
          2002,
          2003,
          2004,
          2005,
          2006,
          2007,
          2008,
          2009,
          2010,
          2011,
          2012,
          2013,
          2015
         ],
         "y": [
          8,
          27,
          35,
          42,
          70,
          137,
          201,
          299,
          195,
          144,
          90,
          12,
          7,
          8,
          11,
          6,
          7,
          7,
          3,
          1,
          2,
          1,
          1,
          2,
          3
         ]
        },
        {
         "name": "Bahamas",
         "type": "scatter",
         "x": [
          1990,
          1991,
          1992,
          1993,
          1994,
          1995,
          1996,
          1997,
          1998,
          1999,
          2000,
          2001,
          2002,
          2003,
          2004,
          2005,
          2006,
          2007,
          2008,
          2009,
          2010,
          2011,
          2012,
          2013,
          2014,
          2015
         ],
         "y": [
          4,
          15,
          14,
          10,
          7,
          20,
          24,
          50,
          42,
          18,
          31,
          10,
          10,
          11,
          13,
          23,
          19,
          12,
          9,
          10,
          8,
          8,
          6,
          24,
          24,
          6
         ]
        },
        {
         "name": "United Arab Emirates",
         "type": "scatter",
         "x": [
          1992,
          1994,
          1995,
          1996,
          1997,
          1998,
          1999,
          2000,
          2001,
          2002,
          2003,
          2004,
          2005,
          2006,
          2007,
          2008,
          2009,
          2010,
          2011,
          2012,
          2013,
          2014,
          2015
         ],
         "y": [
          2,
          5,
          4,
          10,
          26,
          37,
          30,
          60,
          22,
          22,
          18,
          14,
          12,
          47,
          82,
          73,
          14,
          21,
          31,
          33,
          27,
          48,
          10
         ]
        },
        {
         "name": "Singapore",
         "type": "scatter",
         "x": [
          1992,
          1993,
          1994,
          1995,
          1996,
          1997,
          1998,
          1999,
          2000,
          2001,
          2003,
          2005,
          2006,
          2007,
          2008,
          2009,
          2010,
          2012,
          2015
         ],
         "y": [
          4,
          2,
          3,
          2,
          7,
          11,
          8,
          9,
          6,
          3,
          1,
          4,
          3,
          5,
          5,
          3,
          4,
          10,
          1
         ]
        },
        {
         "name": "Uruguay",
         "type": "scatter",
         "x": [
          1992,
          1993,
          1994,
          1995,
          1996,
          1997,
          1998,
          1999,
          2000,
          2001,
          2002,
          2003,
          2004,
          2005,
          2006,
          2007,
          2008,
          2010,
          2012,
          2013,
          2014,
          2015
         ],
         "y": [
          2,
          3,
          2,
          2,
          19,
          43,
          55,
          66,
          79,
          7,
          4,
          3,
          1,
          1,
          5,
          4,
          3,
          3,
          2,
          4,
          6,
          3
         ]
        },
        {
         "name": "British Virgin Islands",
         "type": "scatter",
         "x": [
          1993,
          1994,
          1995,
          1996,
          1997,
          1998,
          1999,
          2000,
          2001,
          2002,
          2013,
          2014
         ],
         "y": [
          2,
          6,
          4,
          19,
          36,
          28,
          20,
          24,
          2,
          2,
          1,
          1
         ]
        },
        {
         "name": "Samoa",
         "type": "scatter",
         "x": [
          1994,
          1995,
          1996,
          1997,
          1998,
          1999,
          2000,
          2003,
          2004,
          2005,
          2006,
          2008,
          2011
         ],
         "y": [
          9,
          21,
          20,
          22,
          11,
          14,
          17,
          1,
          1,
          1,
          2,
          1,
          1
         ]
        }
       ],
       "layout": {
        "title": "Bahamas incorporations account distribution by Country with time series",
        "xaxis": {
         "rangeslider": {},
         "type": "date"
        }
       }
      },
      "text/html": [
       "<div id=\"78c1ff30-b100-4e73-8254-cb7d2b9244d7\" style=\"height: 525px; width: 100%;\" class=\"plotly-graph-div\"></div><script type=\"text/javascript\">require([\"plotly\"], function(Plotly) { window.PLOTLYENV=window.PLOTLYENV || {};window.PLOTLYENV.BASE_URL=\"https://plot.ly\";Plotly.newPlot(\"78c1ff30-b100-4e73-8254-cb7d2b9244d7\", [{\"type\": \"scatter\", \"x\": [1984, 1986, 1990, 1991, 1992, 1993, 1994, 1995, 1996, 1997, 1998, 1999, 2000, 2001, 2002, 2003, 2004, 2005, 2006, 2007, 2008, 2009, 2010, 2011, 2012, 2013, 2014, 2015], \"y\": [1.0, 1.0, 56.0, 95.0, 92.0, 117.0, 224.0, 211.0, 240.0, 277.0, 225.0, 189.0, 150.0, 23.0, 9.0, 22.0, 21.0, 24.0, 32.0, 10.0, 20.0, 13.0, 17.0, 3.0, 13.0, 6.0, 19.0, 16.0], \"name\": \"Switzerland\"}, {\"type\": \"scatter\", \"x\": [1988, 1990, 1991, 1992, 1993, 1994, 1995, 1996, 1997, 1998, 1999, 2000, 2001, 2002, 2003, 2004, 2005, 2006, 2007, 2008, 2009, 2010, 2011, 2012, 2014], \"y\": [1.0, 26.0, 45.0, 54.0, 123.0, 103.0, 162.0, 212.0, 228.0, 177.0, 131.0, 84.0, 39.0, 26.0, 15.0, 26.0, 15.0, 15.0, 10.0, 5.0, 1.0, 2.0, 1.0, 2.0, 1.0], \"name\": \"Guernsey\"}, {\"type\": \"scatter\", \"x\": [1989, 1990, 1991, 1992, 1993, 1994, 1995, 1996, 1997, 1998, 1999, 2000, 2001, 2002, 2003, 2004, 2005, 2006, 2007, 2008, 2009, 2010, 2011, 2012, 2013, 2014, 2015], \"y\": [2.0, 32.0, 21.0, 19.0, 35.0, 110.0, 92.0, 76.0, 113.0, 130.0, 111.0, 135.0, 53.0, 14.0, 26.0, 21.0, 17.0, 14.0, 19.0, 23.0, 23.0, 5.0, 3.0, 12.0, 4.0, 5.0, 3.0], \"name\": \"Panama\"}, {\"type\": \"scatter\", \"x\": [1990, 1991, 1992, 1993, 1994, 1995, 1996, 1997, 1998, 1999, 2000, 2001, 2002, 2003, 2004, 2005, 2006, 2007, 2008, 2009, 2010, 2011, 2012, 2013], \"y\": [22.0, 40.0, 45.0, 66.0, 100.0, 113.0, 200.0, 172.0, 183.0, 129.0, 94.0, 12.0, 8.0, 7.0, 9.0, 6.0, 10.0, 8.0, 5.0, 3.0, 3.0, 3.0, 1.0, 2.0], \"name\": \"Jersey\"}, {\"type\": \"scatter\", \"x\": [1990, 1991, 1992, 1993, 1994, 1995, 1996, 1997, 1998, 1999, 2000, 2002, 2003, 2004, 2005, 2006, 2007, 2009, 2011, 2012], \"y\": [1.0, 7.0, 28.0, 35.0, 48.0, 72.0, 62.0, 42.0, 58.0, 36.0, 13.0, 1.0, 1.0, 4.0, 3.0, 3.0, 5.0, 1.0, 2.0, 1.0], \"name\": \"Luxembourg\"}, {\"type\": \"scatter\", \"x\": [1990, 1991, 1992, 1993, 1994, 1995, 1996, 1997, 1998, 1999, 2000, 2001, 2002, 2003, 2004, 2005, 2006, 2007, 2008, 2010, 2011, 2012, 2015], \"y\": [2.0, 16.0, 25.0, 56.0, 112.0, 85.0, 120.0, 163.0, 112.0, 89.0, 42.0, 10.0, 6.0, 5.0, 9.0, 4.0, 8.0, 8.0, 4.0, 2.0, 2.0, 2.0, 1.0], \"name\": \"Isle of Man\"}, {\"type\": \"scatter\", \"x\": [1990, 1991, 1992, 1993, 1994, 1995, 1996, 1997, 1998, 1999, 2000, 2001, 2002, 2003, 2004, 2005, 2006, 2007, 2008, 2010, 2011, 2012, 2013, 2014, 2015], \"y\": [17.0, 52.0, 43.0, 123.0, 112.0, 104.0, 108.0, 125.0, 92.0, 67.0, 52.0, 10.0, 7.0, 4.0, 4.0, 7.0, 5.0, 6.0, 3.0, 2.0, 2.0, 3.0, 6.0, 4.0, 2.0], \"name\": \"Hong Kong\"}, {\"type\": \"scatter\", \"x\": [1990, 1991, 1992, 1993, 1994, 1995, 1996, 1997, 1998, 1999, 2000, 2001, 2002, 2003, 2004, 2005, 2006, 2007, 2008, 2009, 2010, 2011, 2012, 2013, 2015], \"y\": [8.0, 27.0, 35.0, 42.0, 70.0, 137.0, 201.0, 299.0, 195.0, 144.0, 90.0, 12.0, 7.0, 8.0, 11.0, 6.0, 7.0, 7.0, 3.0, 1.0, 2.0, 1.0, 1.0, 2.0, 3.0], \"name\": \"United Kingdom\"}, {\"type\": \"scatter\", \"x\": [1990, 1991, 1992, 1993, 1994, 1995, 1996, 1997, 1998, 1999, 2000, 2001, 2002, 2003, 2004, 2005, 2006, 2007, 2008, 2009, 2010, 2011, 2012, 2013, 2014, 2015], \"y\": [4.0, 15.0, 14.0, 10.0, 7.0, 20.0, 24.0, 50.0, 42.0, 18.0, 31.0, 10.0, 10.0, 11.0, 13.0, 23.0, 19.0, 12.0, 9.0, 10.0, 8.0, 8.0, 6.0, 24.0, 24.0, 6.0], \"name\": \"Bahamas\"}, {\"type\": \"scatter\", \"x\": [1992, 1994, 1995, 1996, 1997, 1998, 1999, 2000, 2001, 2002, 2003, 2004, 2005, 2006, 2007, 2008, 2009, 2010, 2011, 2012, 2013, 2014, 2015], \"y\": [2.0, 5.0, 4.0, 10.0, 26.0, 37.0, 30.0, 60.0, 22.0, 22.0, 18.0, 14.0, 12.0, 47.0, 82.0, 73.0, 14.0, 21.0, 31.0, 33.0, 27.0, 48.0, 10.0], \"name\": \"United Arab Emirates\"}, {\"type\": \"scatter\", \"x\": [1992, 1993, 1994, 1995, 1996, 1997, 1998, 1999, 2000, 2001, 2003, 2005, 2006, 2007, 2008, 2009, 2010, 2012, 2015], \"y\": [4.0, 2.0, 3.0, 2.0, 7.0, 11.0, 8.0, 9.0, 6.0, 3.0, 1.0, 4.0, 3.0, 5.0, 5.0, 3.0, 4.0, 10.0, 1.0], \"name\": \"Singapore\"}, {\"type\": \"scatter\", \"x\": [1992, 1993, 1994, 1995, 1996, 1997, 1998, 1999, 2000, 2001, 2002, 2003, 2004, 2005, 2006, 2007, 2008, 2010, 2012, 2013, 2014, 2015], \"y\": [2.0, 3.0, 2.0, 2.0, 19.0, 43.0, 55.0, 66.0, 79.0, 7.0, 4.0, 3.0, 1.0, 1.0, 5.0, 4.0, 3.0, 3.0, 2.0, 4.0, 6.0, 3.0], \"name\": \"Uruguay\"}, {\"type\": \"scatter\", \"x\": [1993, 1994, 1995, 1996, 1997, 1998, 1999, 2000, 2001, 2002, 2013, 2014], \"y\": [2.0, 6.0, 4.0, 19.0, 36.0, 28.0, 20.0, 24.0, 2.0, 2.0, 1.0, 1.0], \"name\": \"British Virgin Islands\"}, {\"type\": \"scatter\", \"x\": [1994, 1995, 1996, 1997, 1998, 1999, 2000, 2003, 2004, 2005, 2006, 2008, 2011], \"y\": [9.0, 21.0, 20.0, 22.0, 11.0, 14.0, 17.0, 1.0, 1.0, 1.0, 2.0, 1.0, 1.0], \"name\": \"Samoa\"}], {\"title\": \"Bahamas incorporations account distribution by Country with time series\", \"xaxis\": {\"rangeslider\": {}, \"type\": \"date\"}}, {\"showLink\": true, \"linkText\": \"Export to plot.ly\"})});</script>"
      ],
      "text/vnd.plotly.v1+html": [
       "<div id=\"78c1ff30-b100-4e73-8254-cb7d2b9244d7\" style=\"height: 525px; width: 100%;\" class=\"plotly-graph-div\"></div><script type=\"text/javascript\">require([\"plotly\"], function(Plotly) { window.PLOTLYENV=window.PLOTLYENV || {};window.PLOTLYENV.BASE_URL=\"https://plot.ly\";Plotly.newPlot(\"78c1ff30-b100-4e73-8254-cb7d2b9244d7\", [{\"type\": \"scatter\", \"x\": [1984, 1986, 1990, 1991, 1992, 1993, 1994, 1995, 1996, 1997, 1998, 1999, 2000, 2001, 2002, 2003, 2004, 2005, 2006, 2007, 2008, 2009, 2010, 2011, 2012, 2013, 2014, 2015], \"y\": [1.0, 1.0, 56.0, 95.0, 92.0, 117.0, 224.0, 211.0, 240.0, 277.0, 225.0, 189.0, 150.0, 23.0, 9.0, 22.0, 21.0, 24.0, 32.0, 10.0, 20.0, 13.0, 17.0, 3.0, 13.0, 6.0, 19.0, 16.0], \"name\": \"Switzerland\"}, {\"type\": \"scatter\", \"x\": [1988, 1990, 1991, 1992, 1993, 1994, 1995, 1996, 1997, 1998, 1999, 2000, 2001, 2002, 2003, 2004, 2005, 2006, 2007, 2008, 2009, 2010, 2011, 2012, 2014], \"y\": [1.0, 26.0, 45.0, 54.0, 123.0, 103.0, 162.0, 212.0, 228.0, 177.0, 131.0, 84.0, 39.0, 26.0, 15.0, 26.0, 15.0, 15.0, 10.0, 5.0, 1.0, 2.0, 1.0, 2.0, 1.0], \"name\": \"Guernsey\"}, {\"type\": \"scatter\", \"x\": [1989, 1990, 1991, 1992, 1993, 1994, 1995, 1996, 1997, 1998, 1999, 2000, 2001, 2002, 2003, 2004, 2005, 2006, 2007, 2008, 2009, 2010, 2011, 2012, 2013, 2014, 2015], \"y\": [2.0, 32.0, 21.0, 19.0, 35.0, 110.0, 92.0, 76.0, 113.0, 130.0, 111.0, 135.0, 53.0, 14.0, 26.0, 21.0, 17.0, 14.0, 19.0, 23.0, 23.0, 5.0, 3.0, 12.0, 4.0, 5.0, 3.0], \"name\": \"Panama\"}, {\"type\": \"scatter\", \"x\": [1990, 1991, 1992, 1993, 1994, 1995, 1996, 1997, 1998, 1999, 2000, 2001, 2002, 2003, 2004, 2005, 2006, 2007, 2008, 2009, 2010, 2011, 2012, 2013], \"y\": [22.0, 40.0, 45.0, 66.0, 100.0, 113.0, 200.0, 172.0, 183.0, 129.0, 94.0, 12.0, 8.0, 7.0, 9.0, 6.0, 10.0, 8.0, 5.0, 3.0, 3.0, 3.0, 1.0, 2.0], \"name\": \"Jersey\"}, {\"type\": \"scatter\", \"x\": [1990, 1991, 1992, 1993, 1994, 1995, 1996, 1997, 1998, 1999, 2000, 2002, 2003, 2004, 2005, 2006, 2007, 2009, 2011, 2012], \"y\": [1.0, 7.0, 28.0, 35.0, 48.0, 72.0, 62.0, 42.0, 58.0, 36.0, 13.0, 1.0, 1.0, 4.0, 3.0, 3.0, 5.0, 1.0, 2.0, 1.0], \"name\": \"Luxembourg\"}, {\"type\": \"scatter\", \"x\": [1990, 1991, 1992, 1993, 1994, 1995, 1996, 1997, 1998, 1999, 2000, 2001, 2002, 2003, 2004, 2005, 2006, 2007, 2008, 2010, 2011, 2012, 2015], \"y\": [2.0, 16.0, 25.0, 56.0, 112.0, 85.0, 120.0, 163.0, 112.0, 89.0, 42.0, 10.0, 6.0, 5.0, 9.0, 4.0, 8.0, 8.0, 4.0, 2.0, 2.0, 2.0, 1.0], \"name\": \"Isle of Man\"}, {\"type\": \"scatter\", \"x\": [1990, 1991, 1992, 1993, 1994, 1995, 1996, 1997, 1998, 1999, 2000, 2001, 2002, 2003, 2004, 2005, 2006, 2007, 2008, 2010, 2011, 2012, 2013, 2014, 2015], \"y\": [17.0, 52.0, 43.0, 123.0, 112.0, 104.0, 108.0, 125.0, 92.0, 67.0, 52.0, 10.0, 7.0, 4.0, 4.0, 7.0, 5.0, 6.0, 3.0, 2.0, 2.0, 3.0, 6.0, 4.0, 2.0], \"name\": \"Hong Kong\"}, {\"type\": \"scatter\", \"x\": [1990, 1991, 1992, 1993, 1994, 1995, 1996, 1997, 1998, 1999, 2000, 2001, 2002, 2003, 2004, 2005, 2006, 2007, 2008, 2009, 2010, 2011, 2012, 2013, 2015], \"y\": [8.0, 27.0, 35.0, 42.0, 70.0, 137.0, 201.0, 299.0, 195.0, 144.0, 90.0, 12.0, 7.0, 8.0, 11.0, 6.0, 7.0, 7.0, 3.0, 1.0, 2.0, 1.0, 1.0, 2.0, 3.0], \"name\": \"United Kingdom\"}, {\"type\": \"scatter\", \"x\": [1990, 1991, 1992, 1993, 1994, 1995, 1996, 1997, 1998, 1999, 2000, 2001, 2002, 2003, 2004, 2005, 2006, 2007, 2008, 2009, 2010, 2011, 2012, 2013, 2014, 2015], \"y\": [4.0, 15.0, 14.0, 10.0, 7.0, 20.0, 24.0, 50.0, 42.0, 18.0, 31.0, 10.0, 10.0, 11.0, 13.0, 23.0, 19.0, 12.0, 9.0, 10.0, 8.0, 8.0, 6.0, 24.0, 24.0, 6.0], \"name\": \"Bahamas\"}, {\"type\": \"scatter\", \"x\": [1992, 1994, 1995, 1996, 1997, 1998, 1999, 2000, 2001, 2002, 2003, 2004, 2005, 2006, 2007, 2008, 2009, 2010, 2011, 2012, 2013, 2014, 2015], \"y\": [2.0, 5.0, 4.0, 10.0, 26.0, 37.0, 30.0, 60.0, 22.0, 22.0, 18.0, 14.0, 12.0, 47.0, 82.0, 73.0, 14.0, 21.0, 31.0, 33.0, 27.0, 48.0, 10.0], \"name\": \"United Arab Emirates\"}, {\"type\": \"scatter\", \"x\": [1992, 1993, 1994, 1995, 1996, 1997, 1998, 1999, 2000, 2001, 2003, 2005, 2006, 2007, 2008, 2009, 2010, 2012, 2015], \"y\": [4.0, 2.0, 3.0, 2.0, 7.0, 11.0, 8.0, 9.0, 6.0, 3.0, 1.0, 4.0, 3.0, 5.0, 5.0, 3.0, 4.0, 10.0, 1.0], \"name\": \"Singapore\"}, {\"type\": \"scatter\", \"x\": [1992, 1993, 1994, 1995, 1996, 1997, 1998, 1999, 2000, 2001, 2002, 2003, 2004, 2005, 2006, 2007, 2008, 2010, 2012, 2013, 2014, 2015], \"y\": [2.0, 3.0, 2.0, 2.0, 19.0, 43.0, 55.0, 66.0, 79.0, 7.0, 4.0, 3.0, 1.0, 1.0, 5.0, 4.0, 3.0, 3.0, 2.0, 4.0, 6.0, 3.0], \"name\": \"Uruguay\"}, {\"type\": \"scatter\", \"x\": [1993, 1994, 1995, 1996, 1997, 1998, 1999, 2000, 2001, 2002, 2013, 2014], \"y\": [2.0, 6.0, 4.0, 19.0, 36.0, 28.0, 20.0, 24.0, 2.0, 2.0, 1.0, 1.0], \"name\": \"British Virgin Islands\"}, {\"type\": \"scatter\", \"x\": [1994, 1995, 1996, 1997, 1998, 1999, 2000, 2003, 2004, 2005, 2006, 2008, 2011], \"y\": [9.0, 21.0, 20.0, 22.0, 11.0, 14.0, 17.0, 1.0, 1.0, 1.0, 2.0, 1.0, 1.0], \"name\": \"Samoa\"}], {\"title\": \"Bahamas incorporations account distribution by Country with time series\", \"xaxis\": {\"rangeslider\": {}, \"type\": \"date\"}}, {\"showLink\": true, \"linkText\": \"Export to plot.ly\"})});</script>"
      ]
     },
     "metadata": {},
     "output_type": "display_data"
    },
    {
     "data": {
      "application/vnd.plotly.v1+json": {
       "data": [
        {
         "name": "Hong Kong",
         "type": "scatter",
         "x": [
          2004,
          2014,
          2015
         ],
         "y": [
          1,
          4,
          1
         ]
        },
        {
         "name": "Switzerland",
         "type": "scatter",
         "x": [
          2004,
          2014,
          2015
         ],
         "y": [
          1,
          2,
          1
         ]
        },
        {
         "name": "Panama",
         "type": "scatter",
         "x": [
          2012,
          2013,
          2014,
          2015
         ],
         "y": [
          1,
          4,
          19,
          16
         ]
        },
        {
         "name": "Luxembourg",
         "type": "scatter",
         "x": [
          2013,
          2014,
          2015
         ],
         "y": [
          2,
          4,
          2
         ]
        },
        {
         "name": "United Arab Emirates",
         "type": "scatter",
         "x": [
          2014
         ],
         "y": [
          1
         ]
        },
        {
         "name": "United Kingdom",
         "type": "scatter",
         "x": [
          2014,
          2015
         ],
         "y": [
          1,
          1
         ]
        },
        {
         "name": "Uruguay",
         "type": "scatter",
         "x": [
          2014
         ],
         "y": [
          4
         ]
        },
        {
         "name": "British Virgin Islands",
         "type": "scatter",
         "x": [
          2015
         ],
         "y": [
          1
         ]
        },
        {
         "name": "Singapore",
         "type": "scatter",
         "x": [
          2015
         ],
         "y": [
          1
         ]
        }
       ],
       "layout": {
        "title": "Belize incorporations account distribution by Country with time series",
        "xaxis": {
         "rangeslider": {},
         "type": "date"
        }
       }
      },
      "text/html": [
       "<div id=\"ce6905d7-df18-4442-b171-32774c12db8e\" style=\"height: 525px; width: 100%;\" class=\"plotly-graph-div\"></div><script type=\"text/javascript\">require([\"plotly\"], function(Plotly) { window.PLOTLYENV=window.PLOTLYENV || {};window.PLOTLYENV.BASE_URL=\"https://plot.ly\";Plotly.newPlot(\"ce6905d7-df18-4442-b171-32774c12db8e\", [{\"type\": \"scatter\", \"x\": [2004, 2014, 2015], \"y\": [1.0, 4.0, 1.0], \"name\": \"Hong Kong\"}, {\"type\": \"scatter\", \"x\": [2004, 2014, 2015], \"y\": [1.0, 2.0, 1.0], \"name\": \"Switzerland\"}, {\"type\": \"scatter\", \"x\": [2012, 2013, 2014, 2015], \"y\": [1.0, 4.0, 19.0, 16.0], \"name\": \"Panama\"}, {\"type\": \"scatter\", \"x\": [2013, 2014, 2015], \"y\": [2.0, 4.0, 2.0], \"name\": \"Luxembourg\"}, {\"type\": \"scatter\", \"x\": [2014], \"y\": [1.0], \"name\": \"United Arab Emirates\"}, {\"type\": \"scatter\", \"x\": [2014, 2015], \"y\": [1.0, 1.0], \"name\": \"United Kingdom\"}, {\"type\": \"scatter\", \"x\": [2014], \"y\": [4.0], \"name\": \"Uruguay\"}, {\"type\": \"scatter\", \"x\": [2015], \"y\": [1.0], \"name\": \"British Virgin Islands\"}, {\"type\": \"scatter\", \"x\": [2015], \"y\": [1.0], \"name\": \"Singapore\"}], {\"title\": \"Belize incorporations account distribution by Country with time series\", \"xaxis\": {\"rangeslider\": {}, \"type\": \"date\"}}, {\"showLink\": true, \"linkText\": \"Export to plot.ly\"})});</script>"
      ],
      "text/vnd.plotly.v1+html": [
       "<div id=\"ce6905d7-df18-4442-b171-32774c12db8e\" style=\"height: 525px; width: 100%;\" class=\"plotly-graph-div\"></div><script type=\"text/javascript\">require([\"plotly\"], function(Plotly) { window.PLOTLYENV=window.PLOTLYENV || {};window.PLOTLYENV.BASE_URL=\"https://plot.ly\";Plotly.newPlot(\"ce6905d7-df18-4442-b171-32774c12db8e\", [{\"type\": \"scatter\", \"x\": [2004, 2014, 2015], \"y\": [1.0, 4.0, 1.0], \"name\": \"Hong Kong\"}, {\"type\": \"scatter\", \"x\": [2004, 2014, 2015], \"y\": [1.0, 2.0, 1.0], \"name\": \"Switzerland\"}, {\"type\": \"scatter\", \"x\": [2012, 2013, 2014, 2015], \"y\": [1.0, 4.0, 19.0, 16.0], \"name\": \"Panama\"}, {\"type\": \"scatter\", \"x\": [2013, 2014, 2015], \"y\": [2.0, 4.0, 2.0], \"name\": \"Luxembourg\"}, {\"type\": \"scatter\", \"x\": [2014], \"y\": [1.0], \"name\": \"United Arab Emirates\"}, {\"type\": \"scatter\", \"x\": [2014, 2015], \"y\": [1.0, 1.0], \"name\": \"United Kingdom\"}, {\"type\": \"scatter\", \"x\": [2014], \"y\": [4.0], \"name\": \"Uruguay\"}, {\"type\": \"scatter\", \"x\": [2015], \"y\": [1.0], \"name\": \"British Virgin Islands\"}, {\"type\": \"scatter\", \"x\": [2015], \"y\": [1.0], \"name\": \"Singapore\"}], {\"title\": \"Belize incorporations account distribution by Country with time series\", \"xaxis\": {\"rangeslider\": {}, \"type\": \"date\"}}, {\"showLink\": true, \"linkText\": \"Export to plot.ly\"})});</script>"
      ]
     },
     "metadata": {},
     "output_type": "display_data"
    },
    {
     "data": {
      "application/vnd.plotly.v1+json": {
       "data": [
        {
         "name": "Jersey",
         "type": "scatter",
         "x": [
          1995,
          2001
         ],
         "y": [
          1,
          1
         ]
        },
        {
         "name": "Isle of Man",
         "type": "scatter",
         "x": [
          1999,
          2001,
          2003,
          2005,
          2007,
          2009,
          2010,
          2011,
          2012,
          2013
         ],
         "y": [
          4,
          1,
          1,
          2,
          1,
          3,
          4,
          16,
          2,
          1
         ]
        },
        {
         "name": "Luxembourg",
         "type": "scatter",
         "x": [
          2000,
          2007,
          2008,
          2011,
          2014
         ],
         "y": [
          1,
          2,
          2,
          1,
          1
         ]
        },
        {
         "name": "Hong Kong",
         "type": "scatter",
         "x": [
          2001,
          2008,
          2009,
          2010,
          2011,
          2012,
          2013,
          2014,
          2015
         ],
         "y": [
          1,
          6,
          28,
          155,
          252,
          252,
          279,
          289,
          104
         ]
        },
        {
         "name": "Bahamas",
         "type": "scatter",
         "x": [
          2002,
          2005,
          2007,
          2008,
          2009,
          2010,
          2011,
          2012,
          2013,
          2014,
          2015
         ],
         "y": [
          1,
          1,
          6,
          6,
          6,
          7,
          6,
          4,
          2,
          2,
          4
         ]
        },
        {
         "name": "Singapore",
         "type": "scatter",
         "x": [
          2005,
          2007,
          2008,
          2009,
          2010,
          2011,
          2012,
          2013
         ],
         "y": [
          1,
          3,
          2,
          1,
          3,
          3,
          1,
          1
         ]
        },
        {
         "name": "Switzerland",
         "type": "scatter",
         "x": [
          2005,
          2006,
          2007,
          2008,
          2009,
          2010,
          2011,
          2012,
          2013,
          2014,
          2015
         ],
         "y": [
          3,
          5,
          9,
          6,
          6,
          9,
          3,
          7,
          5,
          21,
          22
         ]
        },
        {
         "name": "Panama",
         "type": "scatter",
         "x": [
          2005,
          2006,
          2007,
          2008,
          2009,
          2010,
          2011,
          2012,
          2013,
          2014,
          2015
         ],
         "y": [
          2,
          2,
          53,
          49,
          46,
          20,
          25,
          27,
          20,
          13,
          21
         ]
        },
        {
         "name": "Uruguay",
         "type": "scatter",
         "x": [
          2005,
          2006,
          2007,
          2008,
          2009,
          2010,
          2011,
          2012,
          2013,
          2014,
          2015
         ],
         "y": [
          5,
          1,
          7,
          9,
          8,
          5,
          3,
          11,
          6,
          7,
          5
         ]
        },
        {
         "name": "Guernsey",
         "type": "scatter",
         "x": [
          2006,
          2007,
          2008,
          2009,
          2010,
          2011,
          2012,
          2013,
          2014
         ],
         "y": [
          1,
          5,
          8,
          2,
          3,
          2,
          1,
          3,
          2
         ]
        },
        {
         "name": "Samoa",
         "type": "scatter",
         "x": [
          2007
         ],
         "y": [
          2
         ]
        },
        {
         "name": "United Kingdom",
         "type": "scatter",
         "x": [
          2007,
          2008,
          2009,
          2010,
          2011,
          2012,
          2013,
          2014
         ],
         "y": [
          4,
          4,
          2,
          1,
          4,
          5,
          1,
          10
         ]
        },
        {
         "name": "United Arab Emirates",
         "type": "scatter",
         "x": [
          2007,
          2008,
          2009,
          2010,
          2011,
          2012,
          2013,
          2014,
          2015
         ],
         "y": [
          84,
          32,
          7,
          1,
          10,
          64,
          21,
          12,
          11
         ]
        },
        {
         "name": "British Virgin Islands",
         "type": "scatter",
         "x": [
          2011
         ],
         "y": [
          1
         ]
        }
       ],
       "layout": {
        "title": "British Anguilla incorporations account distribution by Country with time series",
        "xaxis": {
         "rangeslider": {},
         "type": "date"
        }
       }
      },
      "text/html": [
       "<div id=\"bc819722-3cb7-4d3d-b5cf-fea14f8abec3\" style=\"height: 525px; width: 100%;\" class=\"plotly-graph-div\"></div><script type=\"text/javascript\">require([\"plotly\"], function(Plotly) { window.PLOTLYENV=window.PLOTLYENV || {};window.PLOTLYENV.BASE_URL=\"https://plot.ly\";Plotly.newPlot(\"bc819722-3cb7-4d3d-b5cf-fea14f8abec3\", [{\"type\": \"scatter\", \"x\": [1995, 2001], \"y\": [1.0, 1.0], \"name\": \"Jersey\"}, {\"type\": \"scatter\", \"x\": [1999, 2001, 2003, 2005, 2007, 2009, 2010, 2011, 2012, 2013], \"y\": [4.0, 1.0, 1.0, 2.0, 1.0, 3.0, 4.0, 16.0, 2.0, 1.0], \"name\": \"Isle of Man\"}, {\"type\": \"scatter\", \"x\": [2000, 2007, 2008, 2011, 2014], \"y\": [1.0, 2.0, 2.0, 1.0, 1.0], \"name\": \"Luxembourg\"}, {\"type\": \"scatter\", \"x\": [2001, 2008, 2009, 2010, 2011, 2012, 2013, 2014, 2015], \"y\": [1.0, 6.0, 28.0, 155.0, 252.0, 252.0, 279.0, 289.0, 104.0], \"name\": \"Hong Kong\"}, {\"type\": \"scatter\", \"x\": [2002, 2005, 2007, 2008, 2009, 2010, 2011, 2012, 2013, 2014, 2015], \"y\": [1.0, 1.0, 6.0, 6.0, 6.0, 7.0, 6.0, 4.0, 2.0, 2.0, 4.0], \"name\": \"Bahamas\"}, {\"type\": \"scatter\", \"x\": [2005, 2007, 2008, 2009, 2010, 2011, 2012, 2013], \"y\": [1.0, 3.0, 2.0, 1.0, 3.0, 3.0, 1.0, 1.0], \"name\": \"Singapore\"}, {\"type\": \"scatter\", \"x\": [2005, 2006, 2007, 2008, 2009, 2010, 2011, 2012, 2013, 2014, 2015], \"y\": [3.0, 5.0, 9.0, 6.0, 6.0, 9.0, 3.0, 7.0, 5.0, 21.0, 22.0], \"name\": \"Switzerland\"}, {\"type\": \"scatter\", \"x\": [2005, 2006, 2007, 2008, 2009, 2010, 2011, 2012, 2013, 2014, 2015], \"y\": [2.0, 2.0, 53.0, 49.0, 46.0, 20.0, 25.0, 27.0, 20.0, 13.0, 21.0], \"name\": \"Panama\"}, {\"type\": \"scatter\", \"x\": [2005, 2006, 2007, 2008, 2009, 2010, 2011, 2012, 2013, 2014, 2015], \"y\": [5.0, 1.0, 7.0, 9.0, 8.0, 5.0, 3.0, 11.0, 6.0, 7.0, 5.0], \"name\": \"Uruguay\"}, {\"type\": \"scatter\", \"x\": [2006, 2007, 2008, 2009, 2010, 2011, 2012, 2013, 2014], \"y\": [1.0, 5.0, 8.0, 2.0, 3.0, 2.0, 1.0, 3.0, 2.0], \"name\": \"Guernsey\"}, {\"type\": \"scatter\", \"x\": [2007], \"y\": [2.0], \"name\": \"Samoa\"}, {\"type\": \"scatter\", \"x\": [2007, 2008, 2009, 2010, 2011, 2012, 2013, 2014], \"y\": [4.0, 4.0, 2.0, 1.0, 4.0, 5.0, 1.0, 10.0], \"name\": \"United Kingdom\"}, {\"type\": \"scatter\", \"x\": [2007, 2008, 2009, 2010, 2011, 2012, 2013, 2014, 2015], \"y\": [84.0, 32.0, 7.0, 1.0, 10.0, 64.0, 21.0, 12.0, 11.0], \"name\": \"United Arab Emirates\"}, {\"type\": \"scatter\", \"x\": [2011], \"y\": [1.0], \"name\": \"British Virgin Islands\"}], {\"title\": \"British Anguilla incorporations account distribution by Country with time series\", \"xaxis\": {\"rangeslider\": {}, \"type\": \"date\"}}, {\"showLink\": true, \"linkText\": \"Export to plot.ly\"})});</script>"
      ],
      "text/vnd.plotly.v1+html": [
       "<div id=\"bc819722-3cb7-4d3d-b5cf-fea14f8abec3\" style=\"height: 525px; width: 100%;\" class=\"plotly-graph-div\"></div><script type=\"text/javascript\">require([\"plotly\"], function(Plotly) { window.PLOTLYENV=window.PLOTLYENV || {};window.PLOTLYENV.BASE_URL=\"https://plot.ly\";Plotly.newPlot(\"bc819722-3cb7-4d3d-b5cf-fea14f8abec3\", [{\"type\": \"scatter\", \"x\": [1995, 2001], \"y\": [1.0, 1.0], \"name\": \"Jersey\"}, {\"type\": \"scatter\", \"x\": [1999, 2001, 2003, 2005, 2007, 2009, 2010, 2011, 2012, 2013], \"y\": [4.0, 1.0, 1.0, 2.0, 1.0, 3.0, 4.0, 16.0, 2.0, 1.0], \"name\": \"Isle of Man\"}, {\"type\": \"scatter\", \"x\": [2000, 2007, 2008, 2011, 2014], \"y\": [1.0, 2.0, 2.0, 1.0, 1.0], \"name\": \"Luxembourg\"}, {\"type\": \"scatter\", \"x\": [2001, 2008, 2009, 2010, 2011, 2012, 2013, 2014, 2015], \"y\": [1.0, 6.0, 28.0, 155.0, 252.0, 252.0, 279.0, 289.0, 104.0], \"name\": \"Hong Kong\"}, {\"type\": \"scatter\", \"x\": [2002, 2005, 2007, 2008, 2009, 2010, 2011, 2012, 2013, 2014, 2015], \"y\": [1.0, 1.0, 6.0, 6.0, 6.0, 7.0, 6.0, 4.0, 2.0, 2.0, 4.0], \"name\": \"Bahamas\"}, {\"type\": \"scatter\", \"x\": [2005, 2007, 2008, 2009, 2010, 2011, 2012, 2013], \"y\": [1.0, 3.0, 2.0, 1.0, 3.0, 3.0, 1.0, 1.0], \"name\": \"Singapore\"}, {\"type\": \"scatter\", \"x\": [2005, 2006, 2007, 2008, 2009, 2010, 2011, 2012, 2013, 2014, 2015], \"y\": [3.0, 5.0, 9.0, 6.0, 6.0, 9.0, 3.0, 7.0, 5.0, 21.0, 22.0], \"name\": \"Switzerland\"}, {\"type\": \"scatter\", \"x\": [2005, 2006, 2007, 2008, 2009, 2010, 2011, 2012, 2013, 2014, 2015], \"y\": [2.0, 2.0, 53.0, 49.0, 46.0, 20.0, 25.0, 27.0, 20.0, 13.0, 21.0], \"name\": \"Panama\"}, {\"type\": \"scatter\", \"x\": [2005, 2006, 2007, 2008, 2009, 2010, 2011, 2012, 2013, 2014, 2015], \"y\": [5.0, 1.0, 7.0, 9.0, 8.0, 5.0, 3.0, 11.0, 6.0, 7.0, 5.0], \"name\": \"Uruguay\"}, {\"type\": \"scatter\", \"x\": [2006, 2007, 2008, 2009, 2010, 2011, 2012, 2013, 2014], \"y\": [1.0, 5.0, 8.0, 2.0, 3.0, 2.0, 1.0, 3.0, 2.0], \"name\": \"Guernsey\"}, {\"type\": \"scatter\", \"x\": [2007], \"y\": [2.0], \"name\": \"Samoa\"}, {\"type\": \"scatter\", \"x\": [2007, 2008, 2009, 2010, 2011, 2012, 2013, 2014], \"y\": [4.0, 4.0, 2.0, 1.0, 4.0, 5.0, 1.0, 10.0], \"name\": \"United Kingdom\"}, {\"type\": \"scatter\", \"x\": [2007, 2008, 2009, 2010, 2011, 2012, 2013, 2014, 2015], \"y\": [84.0, 32.0, 7.0, 1.0, 10.0, 64.0, 21.0, 12.0, 11.0], \"name\": \"United Arab Emirates\"}, {\"type\": \"scatter\", \"x\": [2011], \"y\": [1.0], \"name\": \"British Virgin Islands\"}], {\"title\": \"British Anguilla incorporations account distribution by Country with time series\", \"xaxis\": {\"rangeslider\": {}, \"type\": \"date\"}}, {\"showLink\": true, \"linkText\": \"Export to plot.ly\"})});</script>"
      ]
     },
     "metadata": {},
     "output_type": "display_data"
    },
    {
     "data": {
      "application/vnd.plotly.v1+json": {
       "data": [
        {
         "name": "Guernsey",
         "type": "scatter",
         "x": [
          1980,
          1981,
          1982,
          1984,
          1985,
          1986,
          1987,
          1988,
          1989,
          1990,
          1991,
          1992,
          1993,
          1994,
          1995,
          1996,
          1997,
          1998,
          1999,
          2000,
          2001,
          2002,
          2003,
          2004,
          2005,
          2006,
          2007,
          2008,
          2009,
          2010,
          2011,
          2012,
          2013,
          2014,
          2015
         ],
         "y": [
          4,
          1,
          1,
          4,
          7,
          9,
          11,
          38,
          122,
          141,
          165,
          133,
          209,
          255,
          279,
          239,
          317,
          264,
          264,
          279,
          198,
          191,
          183,
          163,
          217,
          194,
          232,
          154,
          101,
          85,
          76,
          84,
          52,
          21,
          16
         ]
        },
        {
         "name": "Jersey",
         "type": "scatter",
         "x": [
          1980,
          1982,
          1984,
          1985,
          1986,
          1987,
          1988,
          1989,
          1990,
          1991,
          1992,
          1993,
          1994,
          1995,
          1996,
          1997,
          1998,
          1999,
          2000,
          2001,
          2002,
          2003,
          2004,
          2005,
          2006,
          2007,
          2008,
          2009,
          2010,
          2011,
          2012,
          2013,
          2014,
          2015
         ],
         "y": [
          2,
          9,
          3,
          9,
          15,
          21,
          85,
          219,
          250,
          329,
          296,
          350,
          388,
          452,
          680,
          670,
          625,
          776,
          590,
          499,
          497,
          427,
          465,
          495,
          431,
          402,
          296,
          187,
          196,
          211,
          168,
          164,
          141,
          115
         ]
        },
        {
         "name": "British Virgin Islands",
         "type": "scatter",
         "x": [
          1980,
          1981,
          1985,
          1986,
          1987,
          1988,
          1989,
          1990,
          1991,
          1992,
          1993,
          1994,
          1995,
          1996,
          1997,
          1998,
          1999,
          2000,
          2001,
          2002,
          2003,
          2004,
          2005,
          2006,
          2007,
          2008,
          2009,
          2010,
          2011,
          2012,
          2013,
          2014,
          2015
         ],
         "y": [
          7,
          1,
          1,
          1,
          1,
          9,
          24,
          30,
          42,
          84,
          144,
          596,
          653,
          1139,
          1983,
          1336,
          1741,
          2591,
          2445,
          2904,
          2145,
          2687,
          2817,
          4034,
          4719,
          3264,
          1435,
          39,
          38,
          30,
          20,
          11,
          9
         ]
        },
        {
         "name": "Switzerland",
         "type": "scatter",
         "x": [
          1980,
          1984,
          1985,
          1986,
          1987,
          1988,
          1989,
          1990,
          1991,
          1992,
          1993,
          1994,
          1995,
          1996,
          1997,
          1998,
          1999,
          2000,
          2001,
          2002,
          2003,
          2004,
          2005,
          2006,
          2007,
          2008,
          2009,
          2010,
          2011,
          2012,
          2013,
          2014,
          2015
         ],
         "y": [
          1,
          1,
          1,
          4,
          12,
          80,
          273,
          360,
          431,
          485,
          633,
          791,
          986,
          1005,
          981,
          944,
          1236,
          1403,
          1048,
          1038,
          1213,
          1345,
          1106,
          894,
          817,
          704,
          484,
          421,
          298,
          241,
          169,
          141,
          104
         ]
        },
        {
         "name": "Hong Kong",
         "type": "scatter",
         "x": [
          1982,
          1987,
          1988,
          1989,
          1990,
          1991,
          1992,
          1993,
          1994,
          1995,
          1996,
          1997,
          1998,
          1999,
          2000,
          2001,
          2002,
          2003,
          2004,
          2005,
          2006,
          2007,
          2008,
          2009,
          2010,
          2011,
          2012,
          2013,
          2014,
          2015
         ],
         "y": [
          1,
          4,
          83,
          223,
          303,
          516,
          735,
          1036,
          957,
          752,
          857,
          1067,
          684,
          720,
          1240,
          1145,
          1229,
          1558,
          1911,
          1591,
          953,
          1264,
          1166,
          972,
          1388,
          1578,
          1705,
          623,
          465,
          502
         ]
        },
        {
         "name": "Isle of Man",
         "type": "scatter",
         "x": [
          1983,
          1984,
          1987,
          1988,
          1989,
          1990,
          1991,
          1992,
          1993,
          1994,
          1995,
          1996,
          1997,
          1998,
          1999,
          2000,
          2001,
          2002,
          2003,
          2004,
          2005,
          2006,
          2007,
          2008,
          2009,
          2010,
          2011,
          2012,
          2013,
          2014,
          2015
         ],
         "y": [
          1,
          1,
          3,
          12,
          41,
          40,
          38,
          69,
          114,
          188,
          94,
          115,
          142,
          205,
          200,
          169,
          122,
          87,
          109,
          115,
          177,
          126,
          141,
          89,
          81,
          86,
          127,
          103,
          108,
          74,
          46
         ]
        },
        {
         "name": "United Kingdom",
         "type": "scatter",
         "x": [
          1984,
          1986,
          1987,
          1988,
          1989,
          1990,
          1991,
          1992,
          1993,
          1994,
          1995,
          1996,
          1997,
          1998,
          1999,
          2000,
          2001,
          2002,
          2003,
          2004,
          2005,
          2006,
          2007,
          2008,
          2009,
          2010,
          2011,
          2012,
          2013,
          2014,
          2015
         ],
         "y": [
          1,
          5,
          1,
          26,
          50,
          78,
          79,
          80,
          101,
          128,
          162,
          239,
          319,
          219,
          272,
          234,
          187,
          229,
          234,
          201,
          183,
          290,
          344,
          272,
          225,
          308,
          288,
          265,
          181,
          137,
          87
         ]
        },
        {
         "name": "Panama",
         "type": "scatter",
         "x": [
          1986,
          1987,
          1988,
          1989,
          1990,
          1991,
          1992,
          1993,
          1994,
          1995,
          1996,
          1997,
          1998,
          1999,
          2000,
          2001,
          2002,
          2003,
          2004,
          2005,
          2006,
          2007,
          2008,
          2009,
          2010,
          2011,
          2012,
          2013,
          2014,
          2015
         ],
         "y": [
          1,
          2,
          25,
          23,
          30,
          38,
          46,
          84,
          69,
          70,
          132,
          301,
          237,
          324,
          418,
          410,
          254,
          195,
          313,
          172,
          131,
          225,
          252,
          96,
          122,
          215,
          170,
          153,
          140,
          140
         ]
        },
        {
         "name": "Singapore",
         "type": "scatter",
         "x": [
          1988,
          1989,
          1990,
          1991,
          1992,
          1993,
          1994,
          1995,
          1996,
          1997,
          1998,
          1999,
          2000,
          2001,
          2002,
          2003,
          2004,
          2005,
          2006,
          2007,
          2008,
          2009,
          2010,
          2011,
          2012,
          2013,
          2014,
          2015
         ],
         "y": [
          1,
          10,
          7,
          3,
          15,
          27,
          31,
          51,
          60,
          119,
          103,
          105,
          176,
          154,
          223,
          190,
          199,
          257,
          244,
          325,
          237,
          158,
          192,
          202,
          201,
          160,
          98,
          73
         ]
        },
        {
         "name": "Bahamas",
         "type": "scatter",
         "x": [
          1988,
          1989,
          1990,
          1991,
          1992,
          1993,
          1994,
          1995,
          1996,
          1997,
          1998,
          1999,
          2000,
          2001,
          2002,
          2003,
          2004,
          2005,
          2006,
          2007,
          2008,
          2009,
          2010,
          2011,
          2012,
          2013,
          2014,
          2015
         ],
         "y": [
          4,
          7,
          9,
          8,
          15,
          28,
          25,
          22,
          26,
          44,
          38,
          27,
          52,
          31,
          62,
          47,
          128,
          75,
          79,
          98,
          96,
          125,
          159,
          144,
          121,
          124,
          101,
          67
         ]
        },
        {
         "name": "Luxembourg",
         "type": "scatter",
         "x": [
          1988,
          1989,
          1990,
          1991,
          1992,
          1993,
          1994,
          1995,
          1996,
          1997,
          1998,
          1999,
          2000,
          2001,
          2002,
          2003,
          2004,
          2005,
          2006,
          2007,
          2008,
          2009,
          2010,
          2011,
          2012,
          2013,
          2014,
          2015
         ],
         "y": [
          5,
          19,
          28,
          39,
          92,
          103,
          95,
          89,
          107,
          94,
          100,
          184,
          226,
          199,
          298,
          237,
          357,
          140,
          155,
          160,
          120,
          40,
          44,
          51,
          41,
          23,
          18,
          17
         ]
        },
        {
         "name": "United Arab Emirates",
         "type": "scatter",
         "x": [
          1989,
          1990,
          1991,
          1992,
          1993,
          1994,
          1995,
          1996,
          1997,
          1998,
          1999,
          2000,
          2001,
          2002,
          2003,
          2004,
          2005,
          2006,
          2007,
          2008,
          2009,
          2010,
          2011,
          2012,
          2013,
          2014,
          2015
         ],
         "y": [
          1,
          5,
          5,
          9,
          8,
          16,
          21,
          23,
          22,
          33,
          72,
          113,
          127,
          191,
          263,
          381,
          451,
          227,
          292,
          287,
          142,
          175,
          175,
          185,
          141,
          99,
          48
         ]
        },
        {
         "name": "Uruguay",
         "type": "scatter",
         "x": [
          1991,
          1992,
          1993,
          1994,
          1995,
          1996,
          1997,
          1998,
          1999,
          2000,
          2001,
          2002,
          2003,
          2004,
          2005,
          2006,
          2007,
          2008,
          2009,
          2010,
          2011,
          2012,
          2013,
          2014,
          2015
         ],
         "y": [
          1,
          1,
          5,
          3,
          2,
          24,
          38,
          62,
          47,
          39,
          34,
          73,
          58,
          68,
          45,
          69,
          63,
          54,
          39,
          127,
          80,
          146,
          83,
          141,
          165
         ]
        },
        {
         "name": "Samoa",
         "type": "scatter",
         "x": [
          1995,
          1996,
          1997,
          1998,
          1999,
          2000,
          2001,
          2002,
          2003,
          2004,
          2005,
          2006,
          2007,
          2008,
          2009,
          2010,
          2011,
          2012,
          2013,
          2014
         ],
         "y": [
          1,
          2,
          18,
          18,
          51,
          26,
          15,
          15,
          12,
          6,
          5,
          15,
          9,
          13,
          6,
          5,
          10,
          13,
          7,
          3
         ]
        }
       ],
       "layout": {
        "title": "British Virgin Islands incorporations account distribution by Country with time series",
        "xaxis": {
         "rangeslider": {},
         "type": "date"
        }
       }
      },
      "text/html": [
       "<div id=\"c509af64-edbf-45f4-9dfa-73cb5ec20647\" style=\"height: 525px; width: 100%;\" class=\"plotly-graph-div\"></div><script type=\"text/javascript\">require([\"plotly\"], function(Plotly) { window.PLOTLYENV=window.PLOTLYENV || {};window.PLOTLYENV.BASE_URL=\"https://plot.ly\";Plotly.newPlot(\"c509af64-edbf-45f4-9dfa-73cb5ec20647\", [{\"type\": \"scatter\", \"x\": [1980, 1981, 1982, 1984, 1985, 1986, 1987, 1988, 1989, 1990, 1991, 1992, 1993, 1994, 1995, 1996, 1997, 1998, 1999, 2000, 2001, 2002, 2003, 2004, 2005, 2006, 2007, 2008, 2009, 2010, 2011, 2012, 2013, 2014, 2015], \"y\": [4.0, 1.0, 1.0, 4.0, 7.0, 9.0, 11.0, 38.0, 122.0, 141.0, 165.0, 133.0, 209.0, 255.0, 279.0, 239.0, 317.0, 264.0, 264.0, 279.0, 198.0, 191.0, 183.0, 163.0, 217.0, 194.0, 232.0, 154.0, 101.0, 85.0, 76.0, 84.0, 52.0, 21.0, 16.0], \"name\": \"Guernsey\"}, {\"type\": \"scatter\", \"x\": [1980, 1982, 1984, 1985, 1986, 1987, 1988, 1989, 1990, 1991, 1992, 1993, 1994, 1995, 1996, 1997, 1998, 1999, 2000, 2001, 2002, 2003, 2004, 2005, 2006, 2007, 2008, 2009, 2010, 2011, 2012, 2013, 2014, 2015], \"y\": [2.0, 9.0, 3.0, 9.0, 15.0, 21.0, 85.0, 219.0, 250.0, 329.0, 296.0, 350.0, 388.0, 452.0, 680.0, 670.0, 625.0, 776.0, 590.0, 499.0, 497.0, 427.0, 465.0, 495.0, 431.0, 402.0, 296.0, 187.0, 196.0, 211.0, 168.0, 164.0, 141.0, 115.0], \"name\": \"Jersey\"}, {\"type\": \"scatter\", \"x\": [1980, 1981, 1985, 1986, 1987, 1988, 1989, 1990, 1991, 1992, 1993, 1994, 1995, 1996, 1997, 1998, 1999, 2000, 2001, 2002, 2003, 2004, 2005, 2006, 2007, 2008, 2009, 2010, 2011, 2012, 2013, 2014, 2015], \"y\": [7.0, 1.0, 1.0, 1.0, 1.0, 9.0, 24.0, 30.0, 42.0, 84.0, 144.0, 596.0, 653.0, 1139.0, 1983.0, 1336.0, 1741.0, 2591.0, 2445.0, 2904.0, 2145.0, 2687.0, 2817.0, 4034.0, 4719.0, 3264.0, 1435.0, 39.0, 38.0, 30.0, 20.0, 11.0, 9.0], \"name\": \"British Virgin Islands\"}, {\"type\": \"scatter\", \"x\": [1980, 1984, 1985, 1986, 1987, 1988, 1989, 1990, 1991, 1992, 1993, 1994, 1995, 1996, 1997, 1998, 1999, 2000, 2001, 2002, 2003, 2004, 2005, 2006, 2007, 2008, 2009, 2010, 2011, 2012, 2013, 2014, 2015], \"y\": [1.0, 1.0, 1.0, 4.0, 12.0, 80.0, 273.0, 360.0, 431.0, 485.0, 633.0, 791.0, 986.0, 1005.0, 981.0, 944.0, 1236.0, 1403.0, 1048.0, 1038.0, 1213.0, 1345.0, 1106.0, 894.0, 817.0, 704.0, 484.0, 421.0, 298.0, 241.0, 169.0, 141.0, 104.0], \"name\": \"Switzerland\"}, {\"type\": \"scatter\", \"x\": [1982, 1987, 1988, 1989, 1990, 1991, 1992, 1993, 1994, 1995, 1996, 1997, 1998, 1999, 2000, 2001, 2002, 2003, 2004, 2005, 2006, 2007, 2008, 2009, 2010, 2011, 2012, 2013, 2014, 2015], \"y\": [1.0, 4.0, 83.0, 223.0, 303.0, 516.0, 735.0, 1036.0, 957.0, 752.0, 857.0, 1067.0, 684.0, 720.0, 1240.0, 1145.0, 1229.0, 1558.0, 1911.0, 1591.0, 953.0, 1264.0, 1166.0, 972.0, 1388.0, 1578.0, 1705.0, 623.0, 465.0, 502.0], \"name\": \"Hong Kong\"}, {\"type\": \"scatter\", \"x\": [1983, 1984, 1987, 1988, 1989, 1990, 1991, 1992, 1993, 1994, 1995, 1996, 1997, 1998, 1999, 2000, 2001, 2002, 2003, 2004, 2005, 2006, 2007, 2008, 2009, 2010, 2011, 2012, 2013, 2014, 2015], \"y\": [1.0, 1.0, 3.0, 12.0, 41.0, 40.0, 38.0, 69.0, 114.0, 188.0, 94.0, 115.0, 142.0, 205.0, 200.0, 169.0, 122.0, 87.0, 109.0, 115.0, 177.0, 126.0, 141.0, 89.0, 81.0, 86.0, 127.0, 103.0, 108.0, 74.0, 46.0], \"name\": \"Isle of Man\"}, {\"type\": \"scatter\", \"x\": [1984, 1986, 1987, 1988, 1989, 1990, 1991, 1992, 1993, 1994, 1995, 1996, 1997, 1998, 1999, 2000, 2001, 2002, 2003, 2004, 2005, 2006, 2007, 2008, 2009, 2010, 2011, 2012, 2013, 2014, 2015], \"y\": [1.0, 5.0, 1.0, 26.0, 50.0, 78.0, 79.0, 80.0, 101.0, 128.0, 162.0, 239.0, 319.0, 219.0, 272.0, 234.0, 187.0, 229.0, 234.0, 201.0, 183.0, 290.0, 344.0, 272.0, 225.0, 308.0, 288.0, 265.0, 181.0, 137.0, 87.0], \"name\": \"United Kingdom\"}, {\"type\": \"scatter\", \"x\": [1986, 1987, 1988, 1989, 1990, 1991, 1992, 1993, 1994, 1995, 1996, 1997, 1998, 1999, 2000, 2001, 2002, 2003, 2004, 2005, 2006, 2007, 2008, 2009, 2010, 2011, 2012, 2013, 2014, 2015], \"y\": [1.0, 2.0, 25.0, 23.0, 30.0, 38.0, 46.0, 84.0, 69.0, 70.0, 132.0, 301.0, 237.0, 324.0, 418.0, 410.0, 254.0, 195.0, 313.0, 172.0, 131.0, 225.0, 252.0, 96.0, 122.0, 215.0, 170.0, 153.0, 140.0, 140.0], \"name\": \"Panama\"}, {\"type\": \"scatter\", \"x\": [1988, 1989, 1990, 1991, 1992, 1993, 1994, 1995, 1996, 1997, 1998, 1999, 2000, 2001, 2002, 2003, 2004, 2005, 2006, 2007, 2008, 2009, 2010, 2011, 2012, 2013, 2014, 2015], \"y\": [1.0, 10.0, 7.0, 3.0, 15.0, 27.0, 31.0, 51.0, 60.0, 119.0, 103.0, 105.0, 176.0, 154.0, 223.0, 190.0, 199.0, 257.0, 244.0, 325.0, 237.0, 158.0, 192.0, 202.0, 201.0, 160.0, 98.0, 73.0], \"name\": \"Singapore\"}, {\"type\": \"scatter\", \"x\": [1988, 1989, 1990, 1991, 1992, 1993, 1994, 1995, 1996, 1997, 1998, 1999, 2000, 2001, 2002, 2003, 2004, 2005, 2006, 2007, 2008, 2009, 2010, 2011, 2012, 2013, 2014, 2015], \"y\": [4.0, 7.0, 9.0, 8.0, 15.0, 28.0, 25.0, 22.0, 26.0, 44.0, 38.0, 27.0, 52.0, 31.0, 62.0, 47.0, 128.0, 75.0, 79.0, 98.0, 96.0, 125.0, 159.0, 144.0, 121.0, 124.0, 101.0, 67.0], \"name\": \"Bahamas\"}, {\"type\": \"scatter\", \"x\": [1988, 1989, 1990, 1991, 1992, 1993, 1994, 1995, 1996, 1997, 1998, 1999, 2000, 2001, 2002, 2003, 2004, 2005, 2006, 2007, 2008, 2009, 2010, 2011, 2012, 2013, 2014, 2015], \"y\": [5.0, 19.0, 28.0, 39.0, 92.0, 103.0, 95.0, 89.0, 107.0, 94.0, 100.0, 184.0, 226.0, 199.0, 298.0, 237.0, 357.0, 140.0, 155.0, 160.0, 120.0, 40.0, 44.0, 51.0, 41.0, 23.0, 18.0, 17.0], \"name\": \"Luxembourg\"}, {\"type\": \"scatter\", \"x\": [1989, 1990, 1991, 1992, 1993, 1994, 1995, 1996, 1997, 1998, 1999, 2000, 2001, 2002, 2003, 2004, 2005, 2006, 2007, 2008, 2009, 2010, 2011, 2012, 2013, 2014, 2015], \"y\": [1.0, 5.0, 5.0, 9.0, 8.0, 16.0, 21.0, 23.0, 22.0, 33.0, 72.0, 113.0, 127.0, 191.0, 263.0, 381.0, 451.0, 227.0, 292.0, 287.0, 142.0, 175.0, 175.0, 185.0, 141.0, 99.0, 48.0], \"name\": \"United Arab Emirates\"}, {\"type\": \"scatter\", \"x\": [1991, 1992, 1993, 1994, 1995, 1996, 1997, 1998, 1999, 2000, 2001, 2002, 2003, 2004, 2005, 2006, 2007, 2008, 2009, 2010, 2011, 2012, 2013, 2014, 2015], \"y\": [1.0, 1.0, 5.0, 3.0, 2.0, 24.0, 38.0, 62.0, 47.0, 39.0, 34.0, 73.0, 58.0, 68.0, 45.0, 69.0, 63.0, 54.0, 39.0, 127.0, 80.0, 146.0, 83.0, 141.0, 165.0], \"name\": \"Uruguay\"}, {\"type\": \"scatter\", \"x\": [1995, 1996, 1997, 1998, 1999, 2000, 2001, 2002, 2003, 2004, 2005, 2006, 2007, 2008, 2009, 2010, 2011, 2012, 2013, 2014], \"y\": [1.0, 2.0, 18.0, 18.0, 51.0, 26.0, 15.0, 15.0, 12.0, 6.0, 5.0, 15.0, 9.0, 13.0, 6.0, 5.0, 10.0, 13.0, 7.0, 3.0], \"name\": \"Samoa\"}], {\"title\": \"British Virgin Islands incorporations account distribution by Country with time series\", \"xaxis\": {\"rangeslider\": {}, \"type\": \"date\"}}, {\"showLink\": true, \"linkText\": \"Export to plot.ly\"})});</script>"
      ],
      "text/vnd.plotly.v1+html": [
       "<div id=\"c509af64-edbf-45f4-9dfa-73cb5ec20647\" style=\"height: 525px; width: 100%;\" class=\"plotly-graph-div\"></div><script type=\"text/javascript\">require([\"plotly\"], function(Plotly) { window.PLOTLYENV=window.PLOTLYENV || {};window.PLOTLYENV.BASE_URL=\"https://plot.ly\";Plotly.newPlot(\"c509af64-edbf-45f4-9dfa-73cb5ec20647\", [{\"type\": \"scatter\", \"x\": [1980, 1981, 1982, 1984, 1985, 1986, 1987, 1988, 1989, 1990, 1991, 1992, 1993, 1994, 1995, 1996, 1997, 1998, 1999, 2000, 2001, 2002, 2003, 2004, 2005, 2006, 2007, 2008, 2009, 2010, 2011, 2012, 2013, 2014, 2015], \"y\": [4.0, 1.0, 1.0, 4.0, 7.0, 9.0, 11.0, 38.0, 122.0, 141.0, 165.0, 133.0, 209.0, 255.0, 279.0, 239.0, 317.0, 264.0, 264.0, 279.0, 198.0, 191.0, 183.0, 163.0, 217.0, 194.0, 232.0, 154.0, 101.0, 85.0, 76.0, 84.0, 52.0, 21.0, 16.0], \"name\": \"Guernsey\"}, {\"type\": \"scatter\", \"x\": [1980, 1982, 1984, 1985, 1986, 1987, 1988, 1989, 1990, 1991, 1992, 1993, 1994, 1995, 1996, 1997, 1998, 1999, 2000, 2001, 2002, 2003, 2004, 2005, 2006, 2007, 2008, 2009, 2010, 2011, 2012, 2013, 2014, 2015], \"y\": [2.0, 9.0, 3.0, 9.0, 15.0, 21.0, 85.0, 219.0, 250.0, 329.0, 296.0, 350.0, 388.0, 452.0, 680.0, 670.0, 625.0, 776.0, 590.0, 499.0, 497.0, 427.0, 465.0, 495.0, 431.0, 402.0, 296.0, 187.0, 196.0, 211.0, 168.0, 164.0, 141.0, 115.0], \"name\": \"Jersey\"}, {\"type\": \"scatter\", \"x\": [1980, 1981, 1985, 1986, 1987, 1988, 1989, 1990, 1991, 1992, 1993, 1994, 1995, 1996, 1997, 1998, 1999, 2000, 2001, 2002, 2003, 2004, 2005, 2006, 2007, 2008, 2009, 2010, 2011, 2012, 2013, 2014, 2015], \"y\": [7.0, 1.0, 1.0, 1.0, 1.0, 9.0, 24.0, 30.0, 42.0, 84.0, 144.0, 596.0, 653.0, 1139.0, 1983.0, 1336.0, 1741.0, 2591.0, 2445.0, 2904.0, 2145.0, 2687.0, 2817.0, 4034.0, 4719.0, 3264.0, 1435.0, 39.0, 38.0, 30.0, 20.0, 11.0, 9.0], \"name\": \"British Virgin Islands\"}, {\"type\": \"scatter\", \"x\": [1980, 1984, 1985, 1986, 1987, 1988, 1989, 1990, 1991, 1992, 1993, 1994, 1995, 1996, 1997, 1998, 1999, 2000, 2001, 2002, 2003, 2004, 2005, 2006, 2007, 2008, 2009, 2010, 2011, 2012, 2013, 2014, 2015], \"y\": [1.0, 1.0, 1.0, 4.0, 12.0, 80.0, 273.0, 360.0, 431.0, 485.0, 633.0, 791.0, 986.0, 1005.0, 981.0, 944.0, 1236.0, 1403.0, 1048.0, 1038.0, 1213.0, 1345.0, 1106.0, 894.0, 817.0, 704.0, 484.0, 421.0, 298.0, 241.0, 169.0, 141.0, 104.0], \"name\": \"Switzerland\"}, {\"type\": \"scatter\", \"x\": [1982, 1987, 1988, 1989, 1990, 1991, 1992, 1993, 1994, 1995, 1996, 1997, 1998, 1999, 2000, 2001, 2002, 2003, 2004, 2005, 2006, 2007, 2008, 2009, 2010, 2011, 2012, 2013, 2014, 2015], \"y\": [1.0, 4.0, 83.0, 223.0, 303.0, 516.0, 735.0, 1036.0, 957.0, 752.0, 857.0, 1067.0, 684.0, 720.0, 1240.0, 1145.0, 1229.0, 1558.0, 1911.0, 1591.0, 953.0, 1264.0, 1166.0, 972.0, 1388.0, 1578.0, 1705.0, 623.0, 465.0, 502.0], \"name\": \"Hong Kong\"}, {\"type\": \"scatter\", \"x\": [1983, 1984, 1987, 1988, 1989, 1990, 1991, 1992, 1993, 1994, 1995, 1996, 1997, 1998, 1999, 2000, 2001, 2002, 2003, 2004, 2005, 2006, 2007, 2008, 2009, 2010, 2011, 2012, 2013, 2014, 2015], \"y\": [1.0, 1.0, 3.0, 12.0, 41.0, 40.0, 38.0, 69.0, 114.0, 188.0, 94.0, 115.0, 142.0, 205.0, 200.0, 169.0, 122.0, 87.0, 109.0, 115.0, 177.0, 126.0, 141.0, 89.0, 81.0, 86.0, 127.0, 103.0, 108.0, 74.0, 46.0], \"name\": \"Isle of Man\"}, {\"type\": \"scatter\", \"x\": [1984, 1986, 1987, 1988, 1989, 1990, 1991, 1992, 1993, 1994, 1995, 1996, 1997, 1998, 1999, 2000, 2001, 2002, 2003, 2004, 2005, 2006, 2007, 2008, 2009, 2010, 2011, 2012, 2013, 2014, 2015], \"y\": [1.0, 5.0, 1.0, 26.0, 50.0, 78.0, 79.0, 80.0, 101.0, 128.0, 162.0, 239.0, 319.0, 219.0, 272.0, 234.0, 187.0, 229.0, 234.0, 201.0, 183.0, 290.0, 344.0, 272.0, 225.0, 308.0, 288.0, 265.0, 181.0, 137.0, 87.0], \"name\": \"United Kingdom\"}, {\"type\": \"scatter\", \"x\": [1986, 1987, 1988, 1989, 1990, 1991, 1992, 1993, 1994, 1995, 1996, 1997, 1998, 1999, 2000, 2001, 2002, 2003, 2004, 2005, 2006, 2007, 2008, 2009, 2010, 2011, 2012, 2013, 2014, 2015], \"y\": [1.0, 2.0, 25.0, 23.0, 30.0, 38.0, 46.0, 84.0, 69.0, 70.0, 132.0, 301.0, 237.0, 324.0, 418.0, 410.0, 254.0, 195.0, 313.0, 172.0, 131.0, 225.0, 252.0, 96.0, 122.0, 215.0, 170.0, 153.0, 140.0, 140.0], \"name\": \"Panama\"}, {\"type\": \"scatter\", \"x\": [1988, 1989, 1990, 1991, 1992, 1993, 1994, 1995, 1996, 1997, 1998, 1999, 2000, 2001, 2002, 2003, 2004, 2005, 2006, 2007, 2008, 2009, 2010, 2011, 2012, 2013, 2014, 2015], \"y\": [1.0, 10.0, 7.0, 3.0, 15.0, 27.0, 31.0, 51.0, 60.0, 119.0, 103.0, 105.0, 176.0, 154.0, 223.0, 190.0, 199.0, 257.0, 244.0, 325.0, 237.0, 158.0, 192.0, 202.0, 201.0, 160.0, 98.0, 73.0], \"name\": \"Singapore\"}, {\"type\": \"scatter\", \"x\": [1988, 1989, 1990, 1991, 1992, 1993, 1994, 1995, 1996, 1997, 1998, 1999, 2000, 2001, 2002, 2003, 2004, 2005, 2006, 2007, 2008, 2009, 2010, 2011, 2012, 2013, 2014, 2015], \"y\": [4.0, 7.0, 9.0, 8.0, 15.0, 28.0, 25.0, 22.0, 26.0, 44.0, 38.0, 27.0, 52.0, 31.0, 62.0, 47.0, 128.0, 75.0, 79.0, 98.0, 96.0, 125.0, 159.0, 144.0, 121.0, 124.0, 101.0, 67.0], \"name\": \"Bahamas\"}, {\"type\": \"scatter\", \"x\": [1988, 1989, 1990, 1991, 1992, 1993, 1994, 1995, 1996, 1997, 1998, 1999, 2000, 2001, 2002, 2003, 2004, 2005, 2006, 2007, 2008, 2009, 2010, 2011, 2012, 2013, 2014, 2015], \"y\": [5.0, 19.0, 28.0, 39.0, 92.0, 103.0, 95.0, 89.0, 107.0, 94.0, 100.0, 184.0, 226.0, 199.0, 298.0, 237.0, 357.0, 140.0, 155.0, 160.0, 120.0, 40.0, 44.0, 51.0, 41.0, 23.0, 18.0, 17.0], \"name\": \"Luxembourg\"}, {\"type\": \"scatter\", \"x\": [1989, 1990, 1991, 1992, 1993, 1994, 1995, 1996, 1997, 1998, 1999, 2000, 2001, 2002, 2003, 2004, 2005, 2006, 2007, 2008, 2009, 2010, 2011, 2012, 2013, 2014, 2015], \"y\": [1.0, 5.0, 5.0, 9.0, 8.0, 16.0, 21.0, 23.0, 22.0, 33.0, 72.0, 113.0, 127.0, 191.0, 263.0, 381.0, 451.0, 227.0, 292.0, 287.0, 142.0, 175.0, 175.0, 185.0, 141.0, 99.0, 48.0], \"name\": \"United Arab Emirates\"}, {\"type\": \"scatter\", \"x\": [1991, 1992, 1993, 1994, 1995, 1996, 1997, 1998, 1999, 2000, 2001, 2002, 2003, 2004, 2005, 2006, 2007, 2008, 2009, 2010, 2011, 2012, 2013, 2014, 2015], \"y\": [1.0, 1.0, 5.0, 3.0, 2.0, 24.0, 38.0, 62.0, 47.0, 39.0, 34.0, 73.0, 58.0, 68.0, 45.0, 69.0, 63.0, 54.0, 39.0, 127.0, 80.0, 146.0, 83.0, 141.0, 165.0], \"name\": \"Uruguay\"}, {\"type\": \"scatter\", \"x\": [1995, 1996, 1997, 1998, 1999, 2000, 2001, 2002, 2003, 2004, 2005, 2006, 2007, 2008, 2009, 2010, 2011, 2012, 2013, 2014], \"y\": [1.0, 2.0, 18.0, 18.0, 51.0, 26.0, 15.0, 15.0, 12.0, 6.0, 5.0, 15.0, 9.0, 13.0, 6.0, 5.0, 10.0, 13.0, 7.0, 3.0], \"name\": \"Samoa\"}], {\"title\": \"British Virgin Islands incorporations account distribution by Country with time series\", \"xaxis\": {\"rangeslider\": {}, \"type\": \"date\"}}, {\"showLink\": true, \"linkText\": \"Export to plot.ly\"})});</script>"
      ]
     },
     "metadata": {},
     "output_type": "display_data"
    },
    {
     "data": {
      "application/vnd.plotly.v1+json": {
       "data": [
        {
         "name": "Hong Kong",
         "type": "scatter",
         "x": [
          1992,
          1994,
          1995,
          1996
         ],
         "y": [
          1,
          3,
          1,
          3
         ]
        },
        {
         "name": "Switzerland",
         "type": "scatter",
         "x": [
          1995,
          1996
         ],
         "y": [
          1,
          1
         ]
        },
        {
         "name": "Singapore",
         "type": "scatter",
         "x": [
          1997
         ],
         "y": [
          1
         ]
        },
        {
         "name": "Jersey",
         "type": "scatter",
         "x": [
          1998,
          1999
         ],
         "y": [
          1,
          1
         ]
        },
        {
         "name": "Guernsey",
         "type": "scatter",
         "x": [
          1998
         ],
         "y": [
          2
         ]
        }
       ],
       "layout": {
        "title": "Cook Islands incorporations account distribution by Country with time series",
        "xaxis": {
         "rangeslider": {},
         "type": "date"
        }
       }
      },
      "text/html": [
       "<div id=\"9515240c-457a-414f-a104-de3ac1524058\" style=\"height: 525px; width: 100%;\" class=\"plotly-graph-div\"></div><script type=\"text/javascript\">require([\"plotly\"], function(Plotly) { window.PLOTLYENV=window.PLOTLYENV || {};window.PLOTLYENV.BASE_URL=\"https://plot.ly\";Plotly.newPlot(\"9515240c-457a-414f-a104-de3ac1524058\", [{\"type\": \"scatter\", \"x\": [1992, 1994, 1995, 1996], \"y\": [1.0, 3.0, 1.0, 3.0], \"name\": \"Hong Kong\"}, {\"type\": \"scatter\", \"x\": [1995, 1996], \"y\": [1.0, 1.0], \"name\": \"Switzerland\"}, {\"type\": \"scatter\", \"x\": [1997], \"y\": [1.0], \"name\": \"Singapore\"}, {\"type\": \"scatter\", \"x\": [1998, 1999], \"y\": [1.0, 1.0], \"name\": \"Jersey\"}, {\"type\": \"scatter\", \"x\": [1998], \"y\": [2.0], \"name\": \"Guernsey\"}], {\"title\": \"Cook Islands incorporations account distribution by Country with time series\", \"xaxis\": {\"rangeslider\": {}, \"type\": \"date\"}}, {\"showLink\": true, \"linkText\": \"Export to plot.ly\"})});</script>"
      ],
      "text/vnd.plotly.v1+html": [
       "<div id=\"9515240c-457a-414f-a104-de3ac1524058\" style=\"height: 525px; width: 100%;\" class=\"plotly-graph-div\"></div><script type=\"text/javascript\">require([\"plotly\"], function(Plotly) { window.PLOTLYENV=window.PLOTLYENV || {};window.PLOTLYENV.BASE_URL=\"https://plot.ly\";Plotly.newPlot(\"9515240c-457a-414f-a104-de3ac1524058\", [{\"type\": \"scatter\", \"x\": [1992, 1994, 1995, 1996], \"y\": [1.0, 3.0, 1.0, 3.0], \"name\": \"Hong Kong\"}, {\"type\": \"scatter\", \"x\": [1995, 1996], \"y\": [1.0, 1.0], \"name\": \"Switzerland\"}, {\"type\": \"scatter\", \"x\": [1997], \"y\": [1.0], \"name\": \"Singapore\"}, {\"type\": \"scatter\", \"x\": [1998, 1999], \"y\": [1.0, 1.0], \"name\": \"Jersey\"}, {\"type\": \"scatter\", \"x\": [1998], \"y\": [2.0], \"name\": \"Guernsey\"}], {\"title\": \"Cook Islands incorporations account distribution by Country with time series\", \"xaxis\": {\"rangeslider\": {}, \"type\": \"date\"}}, {\"showLink\": true, \"linkText\": \"Export to plot.ly\"})});</script>"
      ]
     },
     "metadata": {},
     "output_type": "display_data"
    },
    {
     "data": {
      "application/vnd.plotly.v1+json": {
       "data": [
        {
         "name": "Hong Kong",
         "type": "scatter",
         "x": [
          1982,
          1984,
          1987,
          1988,
          1989,
          1990,
          1991,
          1992,
          1993,
          1994,
          1995,
          1996,
          1997,
          1998,
          1999,
          2000,
          2001,
          2002,
          2003,
          2004,
          2005,
          2006,
          2007,
          2008,
          2009,
          2012
         ],
         "y": [
          1,
          1,
          1,
          1,
          1,
          2,
          3,
          3,
          3,
          3,
          1,
          9,
          4,
          14,
          14,
          41,
          96,
          68,
          61,
          99,
          97,
          102,
          154,
          105,
          22,
          3
         ]
        },
        {
         "name": "Luxembourg",
         "type": "scatter",
         "x": [
          2000,
          2008,
          2010,
          2011,
          2012,
          2013,
          2014,
          2015
         ],
         "y": [
          1,
          1,
          1,
          3,
          4,
          10,
          10,
          9
         ]
        },
        {
         "name": "Panama",
         "type": "scatter",
         "x": [
          2000,
          2001,
          2002,
          2003,
          2004,
          2005,
          2007,
          2008,
          2009,
          2010,
          2011,
          2012,
          2013,
          2015
         ],
         "y": [
          75,
          3,
          2,
          1,
          1,
          4,
          2,
          2,
          5,
          1,
          3,
          3,
          3,
          3
         ]
        },
        {
         "name": "Switzerland",
         "type": "scatter",
         "x": [
          2000,
          2001,
          2002,
          2003,
          2004,
          2005,
          2006,
          2007,
          2008,
          2009,
          2010,
          2011,
          2012,
          2013,
          2014
         ],
         "y": [
          2,
          1,
          1,
          1,
          2,
          4,
          1,
          1,
          3,
          1,
          1,
          4,
          3,
          2,
          6
         ]
        },
        {
         "name": "Singapore",
         "type": "scatter",
         "x": [
          2000
         ],
         "y": [
          2
         ]
        },
        {
         "name": "United Kingdom",
         "type": "scatter",
         "x": [
          2003,
          2005,
          2006
         ],
         "y": [
          1,
          1,
          1
         ]
        },
        {
         "name": "Bahamas",
         "type": "scatter",
         "x": [
          2003,
          2004,
          2012,
          2015
         ],
         "y": [
          1,
          2,
          2,
          1
         ]
        },
        {
         "name": "Isle of Man",
         "type": "scatter",
         "x": [
          2004,
          2006,
          2007,
          2008,
          2011,
          2012
         ],
         "y": [
          1,
          1,
          1,
          1,
          1,
          2
         ]
        },
        {
         "name": "Jersey",
         "type": "scatter",
         "x": [
          2004,
          2005,
          2006,
          2007,
          2008,
          2009,
          2010,
          2011,
          2012,
          2013
         ],
         "y": [
          16,
          5,
          2,
          7,
          13,
          5,
          4,
          4,
          6,
          2
         ]
        },
        {
         "name": "Uruguay",
         "type": "scatter",
         "x": [
          2006,
          2010,
          2011,
          2013
         ],
         "y": [
          2,
          1,
          1,
          1
         ]
        },
        {
         "name": "Guernsey",
         "type": "scatter",
         "x": [
          2009,
          2015
         ],
         "y": [
          1,
          1
         ]
        },
        {
         "name": "Samoa",
         "type": "scatter",
         "x": [
          2009,
          2010,
          2011,
          2012,
          2013,
          2014,
          2015
         ],
         "y": [
          1,
          1,
          2,
          3,
          1,
          3,
          3
         ]
        },
        {
         "name": "United Arab Emirates",
         "type": "scatter",
         "x": [
          2013
         ],
         "y": [
          2
         ]
        },
        {
         "name": "British Virgin Islands",
         "type": "scatter",
         "x": [
          2015
         ],
         "y": [
          1
         ]
        }
       ],
       "layout": {
        "title": "Hong Kong incorporations account distribution by Country with time series",
        "xaxis": {
         "rangeslider": {},
         "type": "date"
        }
       }
      },
      "text/html": [
       "<div id=\"8851d3a7-bd05-4bf2-b7f3-dca160554c1c\" style=\"height: 525px; width: 100%;\" class=\"plotly-graph-div\"></div><script type=\"text/javascript\">require([\"plotly\"], function(Plotly) { window.PLOTLYENV=window.PLOTLYENV || {};window.PLOTLYENV.BASE_URL=\"https://plot.ly\";Plotly.newPlot(\"8851d3a7-bd05-4bf2-b7f3-dca160554c1c\", [{\"type\": \"scatter\", \"x\": [1982, 1984, 1987, 1988, 1989, 1990, 1991, 1992, 1993, 1994, 1995, 1996, 1997, 1998, 1999, 2000, 2001, 2002, 2003, 2004, 2005, 2006, 2007, 2008, 2009, 2012], \"y\": [1.0, 1.0, 1.0, 1.0, 1.0, 2.0, 3.0, 3.0, 3.0, 3.0, 1.0, 9.0, 4.0, 14.0, 14.0, 41.0, 96.0, 68.0, 61.0, 99.0, 97.0, 102.0, 154.0, 105.0, 22.0, 3.0], \"name\": \"Hong Kong\"}, {\"type\": \"scatter\", \"x\": [2000, 2008, 2010, 2011, 2012, 2013, 2014, 2015], \"y\": [1.0, 1.0, 1.0, 3.0, 4.0, 10.0, 10.0, 9.0], \"name\": \"Luxembourg\"}, {\"type\": \"scatter\", \"x\": [2000, 2001, 2002, 2003, 2004, 2005, 2007, 2008, 2009, 2010, 2011, 2012, 2013, 2015], \"y\": [75.0, 3.0, 2.0, 1.0, 1.0, 4.0, 2.0, 2.0, 5.0, 1.0, 3.0, 3.0, 3.0, 3.0], \"name\": \"Panama\"}, {\"type\": \"scatter\", \"x\": [2000, 2001, 2002, 2003, 2004, 2005, 2006, 2007, 2008, 2009, 2010, 2011, 2012, 2013, 2014], \"y\": [2.0, 1.0, 1.0, 1.0, 2.0, 4.0, 1.0, 1.0, 3.0, 1.0, 1.0, 4.0, 3.0, 2.0, 6.0], \"name\": \"Switzerland\"}, {\"type\": \"scatter\", \"x\": [2000], \"y\": [2.0], \"name\": \"Singapore\"}, {\"type\": \"scatter\", \"x\": [2003, 2005, 2006], \"y\": [1.0, 1.0, 1.0], \"name\": \"United Kingdom\"}, {\"type\": \"scatter\", \"x\": [2003, 2004, 2012, 2015], \"y\": [1.0, 2.0, 2.0, 1.0], \"name\": \"Bahamas\"}, {\"type\": \"scatter\", \"x\": [2004, 2006, 2007, 2008, 2011, 2012], \"y\": [1.0, 1.0, 1.0, 1.0, 1.0, 2.0], \"name\": \"Isle of Man\"}, {\"type\": \"scatter\", \"x\": [2004, 2005, 2006, 2007, 2008, 2009, 2010, 2011, 2012, 2013], \"y\": [16.0, 5.0, 2.0, 7.0, 13.0, 5.0, 4.0, 4.0, 6.0, 2.0], \"name\": \"Jersey\"}, {\"type\": \"scatter\", \"x\": [2006, 2010, 2011, 2013], \"y\": [2.0, 1.0, 1.0, 1.0], \"name\": \"Uruguay\"}, {\"type\": \"scatter\", \"x\": [2009, 2015], \"y\": [1.0, 1.0], \"name\": \"Guernsey\"}, {\"type\": \"scatter\", \"x\": [2009, 2010, 2011, 2012, 2013, 2014, 2015], \"y\": [1.0, 1.0, 2.0, 3.0, 1.0, 3.0, 3.0], \"name\": \"Samoa\"}, {\"type\": \"scatter\", \"x\": [2013], \"y\": [2.0], \"name\": \"United Arab Emirates\"}, {\"type\": \"scatter\", \"x\": [2015], \"y\": [1.0], \"name\": \"British Virgin Islands\"}], {\"title\": \"Hong Kong incorporations account distribution by Country with time series\", \"xaxis\": {\"rangeslider\": {}, \"type\": \"date\"}}, {\"showLink\": true, \"linkText\": \"Export to plot.ly\"})});</script>"
      ],
      "text/vnd.plotly.v1+html": [
       "<div id=\"8851d3a7-bd05-4bf2-b7f3-dca160554c1c\" style=\"height: 525px; width: 100%;\" class=\"plotly-graph-div\"></div><script type=\"text/javascript\">require([\"plotly\"], function(Plotly) { window.PLOTLYENV=window.PLOTLYENV || {};window.PLOTLYENV.BASE_URL=\"https://plot.ly\";Plotly.newPlot(\"8851d3a7-bd05-4bf2-b7f3-dca160554c1c\", [{\"type\": \"scatter\", \"x\": [1982, 1984, 1987, 1988, 1989, 1990, 1991, 1992, 1993, 1994, 1995, 1996, 1997, 1998, 1999, 2000, 2001, 2002, 2003, 2004, 2005, 2006, 2007, 2008, 2009, 2012], \"y\": [1.0, 1.0, 1.0, 1.0, 1.0, 2.0, 3.0, 3.0, 3.0, 3.0, 1.0, 9.0, 4.0, 14.0, 14.0, 41.0, 96.0, 68.0, 61.0, 99.0, 97.0, 102.0, 154.0, 105.0, 22.0, 3.0], \"name\": \"Hong Kong\"}, {\"type\": \"scatter\", \"x\": [2000, 2008, 2010, 2011, 2012, 2013, 2014, 2015], \"y\": [1.0, 1.0, 1.0, 3.0, 4.0, 10.0, 10.0, 9.0], \"name\": \"Luxembourg\"}, {\"type\": \"scatter\", \"x\": [2000, 2001, 2002, 2003, 2004, 2005, 2007, 2008, 2009, 2010, 2011, 2012, 2013, 2015], \"y\": [75.0, 3.0, 2.0, 1.0, 1.0, 4.0, 2.0, 2.0, 5.0, 1.0, 3.0, 3.0, 3.0, 3.0], \"name\": \"Panama\"}, {\"type\": \"scatter\", \"x\": [2000, 2001, 2002, 2003, 2004, 2005, 2006, 2007, 2008, 2009, 2010, 2011, 2012, 2013, 2014], \"y\": [2.0, 1.0, 1.0, 1.0, 2.0, 4.0, 1.0, 1.0, 3.0, 1.0, 1.0, 4.0, 3.0, 2.0, 6.0], \"name\": \"Switzerland\"}, {\"type\": \"scatter\", \"x\": [2000], \"y\": [2.0], \"name\": \"Singapore\"}, {\"type\": \"scatter\", \"x\": [2003, 2005, 2006], \"y\": [1.0, 1.0, 1.0], \"name\": \"United Kingdom\"}, {\"type\": \"scatter\", \"x\": [2003, 2004, 2012, 2015], \"y\": [1.0, 2.0, 2.0, 1.0], \"name\": \"Bahamas\"}, {\"type\": \"scatter\", \"x\": [2004, 2006, 2007, 2008, 2011, 2012], \"y\": [1.0, 1.0, 1.0, 1.0, 1.0, 2.0], \"name\": \"Isle of Man\"}, {\"type\": \"scatter\", \"x\": [2004, 2005, 2006, 2007, 2008, 2009, 2010, 2011, 2012, 2013], \"y\": [16.0, 5.0, 2.0, 7.0, 13.0, 5.0, 4.0, 4.0, 6.0, 2.0], \"name\": \"Jersey\"}, {\"type\": \"scatter\", \"x\": [2006, 2010, 2011, 2013], \"y\": [2.0, 1.0, 1.0, 1.0], \"name\": \"Uruguay\"}, {\"type\": \"scatter\", \"x\": [2009, 2015], \"y\": [1.0, 1.0], \"name\": \"Guernsey\"}, {\"type\": \"scatter\", \"x\": [2009, 2010, 2011, 2012, 2013, 2014, 2015], \"y\": [1.0, 1.0, 2.0, 3.0, 1.0, 3.0, 3.0], \"name\": \"Samoa\"}, {\"type\": \"scatter\", \"x\": [2013], \"y\": [2.0], \"name\": \"United Arab Emirates\"}, {\"type\": \"scatter\", \"x\": [2015], \"y\": [1.0], \"name\": \"British Virgin Islands\"}], {\"title\": \"Hong Kong incorporations account distribution by Country with time series\", \"xaxis\": {\"rangeslider\": {}, \"type\": \"date\"}}, {\"showLink\": true, \"linkText\": \"Export to plot.ly\"})});</script>"
      ]
     },
     "metadata": {},
     "output_type": "display_data"
    },
    {
     "data": {
      "application/vnd.plotly.v1+json": {
       "data": [
        {
         "name": "Switzerland",
         "type": "scatter",
         "x": [
          1999,
          2001,
          2002,
          2003,
          2004,
          2005,
          2006,
          2007,
          2008,
          2009,
          2010,
          2011,
          2012,
          2013,
          2014
         ],
         "y": [
          1,
          7,
          8,
          19,
          31,
          18,
          9,
          17,
          16,
          7,
          6,
          2,
          4,
          3,
          1
         ]
        },
        {
         "name": "Uruguay",
         "type": "scatter",
         "x": [
          2001,
          2002,
          2003,
          2004,
          2005,
          2006,
          2007,
          2008,
          2009,
          2010,
          2011,
          2012,
          2013
         ],
         "y": [
          1,
          5,
          9,
          7,
          7,
          14,
          8,
          3,
          3,
          3,
          2,
          5,
          1
         ]
        },
        {
         "name": "Bahamas",
         "type": "scatter",
         "x": [
          2001,
          2002,
          2003,
          2004,
          2005,
          2006,
          2007,
          2008,
          2009,
          2010,
          2011,
          2012,
          2013,
          2014
         ],
         "y": [
          10,
          11,
          32,
          24,
          42,
          27,
          32,
          21,
          28,
          28,
          18,
          12,
          3,
          3
         ]
        },
        {
         "name": "Luxembourg",
         "type": "scatter",
         "x": [
          2001,
          2003,
          2004,
          2005,
          2006,
          2007,
          2008,
          2009,
          2010,
          2011,
          2013,
          2014
         ],
         "y": [
          1,
          2,
          3,
          2,
          5,
          6,
          3,
          2,
          1,
          1,
          2,
          1
         ]
        },
        {
         "name": "Panama",
         "type": "scatter",
         "x": [
          2001,
          2002,
          2003,
          2004,
          2005,
          2006,
          2007,
          2008,
          2009,
          2010,
          2011,
          2012,
          2013,
          2014
         ],
         "y": [
          12,
          11,
          14,
          2,
          8,
          8,
          3,
          5,
          2,
          3,
          1,
          3,
          4,
          6
         ]
        },
        {
         "name": "Hong Kong",
         "type": "scatter",
         "x": [
          2002,
          2003,
          2004,
          2005,
          2006,
          2007,
          2008,
          2009,
          2010,
          2011,
          2012,
          2013,
          2015
         ],
         "y": [
          4,
          3,
          3,
          8,
          3,
          3,
          1,
          1,
          3,
          2,
          3,
          6,
          3
         ]
        },
        {
         "name": "Isle of Man",
         "type": "scatter",
         "x": [
          2002,
          2005,
          2008,
          2010,
          2013
         ],
         "y": [
          3,
          1,
          1,
          1,
          1
         ]
        },
        {
         "name": "Jersey",
         "type": "scatter",
         "x": [
          2003,
          2005,
          2007
         ],
         "y": [
          1,
          1,
          1
         ]
        },
        {
         "name": "United Kingdom",
         "type": "scatter",
         "x": [
          2004,
          2006,
          2007,
          2010,
          2011
         ],
         "y": [
          2,
          6,
          3,
          2,
          2
         ]
        },
        {
         "name": "British Virgin Islands",
         "type": "scatter",
         "x": [
          2004,
          2005
         ],
         "y": [
          1,
          1
         ]
        },
        {
         "name": "United Arab Emirates",
         "type": "scatter",
         "x": [
          2006
         ],
         "y": [
          1
         ]
        }
       ],
       "layout": {
        "title": "Nevada incorporations account distribution by Country with time series",
        "xaxis": {
         "rangeslider": {},
         "type": "date"
        }
       }
      },
      "text/html": [
       "<div id=\"3b7293a6-0e0f-4ce7-bdb8-d61977c553e2\" style=\"height: 525px; width: 100%;\" class=\"plotly-graph-div\"></div><script type=\"text/javascript\">require([\"plotly\"], function(Plotly) { window.PLOTLYENV=window.PLOTLYENV || {};window.PLOTLYENV.BASE_URL=\"https://plot.ly\";Plotly.newPlot(\"3b7293a6-0e0f-4ce7-bdb8-d61977c553e2\", [{\"type\": \"scatter\", \"x\": [1999, 2001, 2002, 2003, 2004, 2005, 2006, 2007, 2008, 2009, 2010, 2011, 2012, 2013, 2014], \"y\": [1.0, 7.0, 8.0, 19.0, 31.0, 18.0, 9.0, 17.0, 16.0, 7.0, 6.0, 2.0, 4.0, 3.0, 1.0], \"name\": \"Switzerland\"}, {\"type\": \"scatter\", \"x\": [2001, 2002, 2003, 2004, 2005, 2006, 2007, 2008, 2009, 2010, 2011, 2012, 2013], \"y\": [1.0, 5.0, 9.0, 7.0, 7.0, 14.0, 8.0, 3.0, 3.0, 3.0, 2.0, 5.0, 1.0], \"name\": \"Uruguay\"}, {\"type\": \"scatter\", \"x\": [2001, 2002, 2003, 2004, 2005, 2006, 2007, 2008, 2009, 2010, 2011, 2012, 2013, 2014], \"y\": [10.0, 11.0, 32.0, 24.0, 42.0, 27.0, 32.0, 21.0, 28.0, 28.0, 18.0, 12.0, 3.0, 3.0], \"name\": \"Bahamas\"}, {\"type\": \"scatter\", \"x\": [2001, 2003, 2004, 2005, 2006, 2007, 2008, 2009, 2010, 2011, 2013, 2014], \"y\": [1.0, 2.0, 3.0, 2.0, 5.0, 6.0, 3.0, 2.0, 1.0, 1.0, 2.0, 1.0], \"name\": \"Luxembourg\"}, {\"type\": \"scatter\", \"x\": [2001, 2002, 2003, 2004, 2005, 2006, 2007, 2008, 2009, 2010, 2011, 2012, 2013, 2014], \"y\": [12.0, 11.0, 14.0, 2.0, 8.0, 8.0, 3.0, 5.0, 2.0, 3.0, 1.0, 3.0, 4.0, 6.0], \"name\": \"Panama\"}, {\"type\": \"scatter\", \"x\": [2002, 2003, 2004, 2005, 2006, 2007, 2008, 2009, 2010, 2011, 2012, 2013, 2015], \"y\": [4.0, 3.0, 3.0, 8.0, 3.0, 3.0, 1.0, 1.0, 3.0, 2.0, 3.0, 6.0, 3.0], \"name\": \"Hong Kong\"}, {\"type\": \"scatter\", \"x\": [2002, 2005, 2008, 2010, 2013], \"y\": [3.0, 1.0, 1.0, 1.0, 1.0], \"name\": \"Isle of Man\"}, {\"type\": \"scatter\", \"x\": [2003, 2005, 2007], \"y\": [1.0, 1.0, 1.0], \"name\": \"Jersey\"}, {\"type\": \"scatter\", \"x\": [2004, 2006, 2007, 2010, 2011], \"y\": [2.0, 6.0, 3.0, 2.0, 2.0], \"name\": \"United Kingdom\"}, {\"type\": \"scatter\", \"x\": [2004, 2005], \"y\": [1.0, 1.0], \"name\": \"British Virgin Islands\"}, {\"type\": \"scatter\", \"x\": [2006], \"y\": [1.0], \"name\": \"United Arab Emirates\"}], {\"title\": \"Nevada incorporations account distribution by Country with time series\", \"xaxis\": {\"rangeslider\": {}, \"type\": \"date\"}}, {\"showLink\": true, \"linkText\": \"Export to plot.ly\"})});</script>"
      ],
      "text/vnd.plotly.v1+html": [
       "<div id=\"3b7293a6-0e0f-4ce7-bdb8-d61977c553e2\" style=\"height: 525px; width: 100%;\" class=\"plotly-graph-div\"></div><script type=\"text/javascript\">require([\"plotly\"], function(Plotly) { window.PLOTLYENV=window.PLOTLYENV || {};window.PLOTLYENV.BASE_URL=\"https://plot.ly\";Plotly.newPlot(\"3b7293a6-0e0f-4ce7-bdb8-d61977c553e2\", [{\"type\": \"scatter\", \"x\": [1999, 2001, 2002, 2003, 2004, 2005, 2006, 2007, 2008, 2009, 2010, 2011, 2012, 2013, 2014], \"y\": [1.0, 7.0, 8.0, 19.0, 31.0, 18.0, 9.0, 17.0, 16.0, 7.0, 6.0, 2.0, 4.0, 3.0, 1.0], \"name\": \"Switzerland\"}, {\"type\": \"scatter\", \"x\": [2001, 2002, 2003, 2004, 2005, 2006, 2007, 2008, 2009, 2010, 2011, 2012, 2013], \"y\": [1.0, 5.0, 9.0, 7.0, 7.0, 14.0, 8.0, 3.0, 3.0, 3.0, 2.0, 5.0, 1.0], \"name\": \"Uruguay\"}, {\"type\": \"scatter\", \"x\": [2001, 2002, 2003, 2004, 2005, 2006, 2007, 2008, 2009, 2010, 2011, 2012, 2013, 2014], \"y\": [10.0, 11.0, 32.0, 24.0, 42.0, 27.0, 32.0, 21.0, 28.0, 28.0, 18.0, 12.0, 3.0, 3.0], \"name\": \"Bahamas\"}, {\"type\": \"scatter\", \"x\": [2001, 2003, 2004, 2005, 2006, 2007, 2008, 2009, 2010, 2011, 2013, 2014], \"y\": [1.0, 2.0, 3.0, 2.0, 5.0, 6.0, 3.0, 2.0, 1.0, 1.0, 2.0, 1.0], \"name\": \"Luxembourg\"}, {\"type\": \"scatter\", \"x\": [2001, 2002, 2003, 2004, 2005, 2006, 2007, 2008, 2009, 2010, 2011, 2012, 2013, 2014], \"y\": [12.0, 11.0, 14.0, 2.0, 8.0, 8.0, 3.0, 5.0, 2.0, 3.0, 1.0, 3.0, 4.0, 6.0], \"name\": \"Panama\"}, {\"type\": \"scatter\", \"x\": [2002, 2003, 2004, 2005, 2006, 2007, 2008, 2009, 2010, 2011, 2012, 2013, 2015], \"y\": [4.0, 3.0, 3.0, 8.0, 3.0, 3.0, 1.0, 1.0, 3.0, 2.0, 3.0, 6.0, 3.0], \"name\": \"Hong Kong\"}, {\"type\": \"scatter\", \"x\": [2002, 2005, 2008, 2010, 2013], \"y\": [3.0, 1.0, 1.0, 1.0, 1.0], \"name\": \"Isle of Man\"}, {\"type\": \"scatter\", \"x\": [2003, 2005, 2007], \"y\": [1.0, 1.0, 1.0], \"name\": \"Jersey\"}, {\"type\": \"scatter\", \"x\": [2004, 2006, 2007, 2010, 2011], \"y\": [2.0, 6.0, 3.0, 2.0, 2.0], \"name\": \"United Kingdom\"}, {\"type\": \"scatter\", \"x\": [2004, 2005], \"y\": [1.0, 1.0], \"name\": \"British Virgin Islands\"}, {\"type\": \"scatter\", \"x\": [2006], \"y\": [1.0], \"name\": \"United Arab Emirates\"}], {\"title\": \"Nevada incorporations account distribution by Country with time series\", \"xaxis\": {\"rangeslider\": {}, \"type\": \"date\"}}, {\"showLink\": true, \"linkText\": \"Export to plot.ly\"})});</script>"
      ]
     },
     "metadata": {},
     "output_type": "display_data"
    },
    {
     "data": {
      "application/vnd.plotly.v1+json": {
       "data": [
        {
         "name": "Hong Kong",
         "type": "scatter",
         "x": [
          1994,
          1995,
          1996,
          1997,
          1998,
          1999,
          2000,
          2001,
          2002,
          2003,
          2004
         ],
         "y": [
          27,
          20,
          58,
          84,
          54,
          182,
          295,
          153,
          35,
          83,
          64
         ]
        },
        {
         "name": "Luxembourg",
         "type": "scatter",
         "x": [
          1994,
          1995,
          1996,
          1997,
          1998,
          1999,
          2000,
          2001,
          2003,
          2004
         ],
         "y": [
          14,
          16,
          40,
          16,
          12,
          78,
          26,
          11,
          5,
          1
         ]
        },
        {
         "name": "United Kingdom",
         "type": "scatter",
         "x": [
          1994,
          1995,
          1996,
          1997,
          1998,
          1999,
          2000,
          2001,
          2002,
          2003,
          2004
         ],
         "y": [
          17,
          80,
          99,
          98,
          100,
          139,
          76,
          65,
          57,
          7,
          3
         ]
        },
        {
         "name": "Jersey",
         "type": "scatter",
         "x": [
          1994,
          1995,
          1996,
          1997,
          1998,
          1999,
          2000,
          2001,
          2002,
          2003,
          2004
         ],
         "y": [
          2,
          22,
          35,
          34,
          54,
          105,
          54,
          28,
          4,
          3,
          3
         ]
        },
        {
         "name": "Guernsey",
         "type": "scatter",
         "x": [
          1994,
          1995,
          1996,
          1997,
          1998,
          1999,
          2000,
          2001,
          2002,
          2003,
          2004
         ],
         "y": [
          1,
          16,
          24,
          48,
          45,
          76,
          59,
          15,
          7,
          8,
          3
         ]
        },
        {
         "name": "Panama",
         "type": "scatter",
         "x": [
          1994,
          1995,
          1996,
          1997,
          1998,
          1999,
          2000,
          2001,
          2002,
          2003,
          2004,
          2005
         ],
         "y": [
          34,
          32,
          104,
          179,
          220,
          266,
          299,
          145,
          80,
          147,
          81,
          2
         ]
        },
        {
         "name": "Switzerland",
         "type": "scatter",
         "x": [
          1994,
          1995,
          1996,
          1997,
          1998,
          1999,
          2000,
          2001,
          2002,
          2003,
          2004,
          2005
         ],
         "y": [
          10,
          111,
          199,
          241,
          311,
          362,
          244,
          148,
          97,
          202,
          145,
          4
         ]
        },
        {
         "name": "Bahamas",
         "type": "scatter",
         "x": [
          1994,
          1995,
          1996,
          1997,
          1998,
          1999,
          2000,
          2001,
          2002,
          2003,
          2004
         ],
         "y": [
          1,
          1,
          1,
          1,
          3,
          4,
          10,
          10,
          12,
          13,
          2
         ]
        },
        {
         "name": "Uruguay",
         "type": "scatter",
         "x": [
          1994,
          1996,
          1997,
          1998,
          1999,
          2000,
          2001,
          2002,
          2003
         ],
         "y": [
          1,
          6,
          9,
          16,
          33,
          26,
          4,
          9,
          4
         ]
        },
        {
         "name": "United Arab Emirates",
         "type": "scatter",
         "x": [
          1995,
          1996,
          1997,
          1998,
          1999,
          2000,
          2001,
          2002,
          2003,
          2004
         ],
         "y": [
          5,
          2,
          1,
          14,
          41,
          28,
          16,
          5,
          16,
          8
         ]
        },
        {
         "name": "British Virgin Islands",
         "type": "scatter",
         "x": [
          1995
         ],
         "y": [
          2
         ]
        },
        {
         "name": "Isle of Man",
         "type": "scatter",
         "x": [
          1995,
          1996,
          1997,
          1998,
          1999,
          2000,
          2001,
          2002,
          2003,
          2004
         ],
         "y": [
          4,
          19,
          18,
          49,
          79,
          51,
          21,
          16,
          4,
          10
         ]
        },
        {
         "name": "Singapore",
         "type": "scatter",
         "x": [
          1995,
          1996,
          1997,
          1998,
          1999,
          2000,
          2001,
          2003,
          2004
         ],
         "y": [
          13,
          20,
          10,
          18,
          7,
          20,
          3,
          5,
          2
         ]
        },
        {
         "name": "Samoa",
         "type": "scatter",
         "x": [
          1996,
          1998,
          1999,
          2000,
          2001,
          2002,
          2003,
          2004
         ],
         "y": [
          2,
          4,
          19,
          21,
          9,
          6,
          10,
          7
         ]
        }
       ],
       "layout": {
        "title": "Niue incorporations account distribution by Country with time series",
        "xaxis": {
         "rangeslider": {},
         "type": "date"
        }
       }
      },
      "text/html": [
       "<div id=\"f2639bcf-2e7e-4384-bc31-5abeaf69496e\" style=\"height: 525px; width: 100%;\" class=\"plotly-graph-div\"></div><script type=\"text/javascript\">require([\"plotly\"], function(Plotly) { window.PLOTLYENV=window.PLOTLYENV || {};window.PLOTLYENV.BASE_URL=\"https://plot.ly\";Plotly.newPlot(\"f2639bcf-2e7e-4384-bc31-5abeaf69496e\", [{\"type\": \"scatter\", \"x\": [1994, 1995, 1996, 1997, 1998, 1999, 2000, 2001, 2002, 2003, 2004], \"y\": [27.0, 20.0, 58.0, 84.0, 54.0, 182.0, 295.0, 153.0, 35.0, 83.0, 64.0], \"name\": \"Hong Kong\"}, {\"type\": \"scatter\", \"x\": [1994, 1995, 1996, 1997, 1998, 1999, 2000, 2001, 2003, 2004], \"y\": [14.0, 16.0, 40.0, 16.0, 12.0, 78.0, 26.0, 11.0, 5.0, 1.0], \"name\": \"Luxembourg\"}, {\"type\": \"scatter\", \"x\": [1994, 1995, 1996, 1997, 1998, 1999, 2000, 2001, 2002, 2003, 2004], \"y\": [17.0, 80.0, 99.0, 98.0, 100.0, 139.0, 76.0, 65.0, 57.0, 7.0, 3.0], \"name\": \"United Kingdom\"}, {\"type\": \"scatter\", \"x\": [1994, 1995, 1996, 1997, 1998, 1999, 2000, 2001, 2002, 2003, 2004], \"y\": [2.0, 22.0, 35.0, 34.0, 54.0, 105.0, 54.0, 28.0, 4.0, 3.0, 3.0], \"name\": \"Jersey\"}, {\"type\": \"scatter\", \"x\": [1994, 1995, 1996, 1997, 1998, 1999, 2000, 2001, 2002, 2003, 2004], \"y\": [1.0, 16.0, 24.0, 48.0, 45.0, 76.0, 59.0, 15.0, 7.0, 8.0, 3.0], \"name\": \"Guernsey\"}, {\"type\": \"scatter\", \"x\": [1994, 1995, 1996, 1997, 1998, 1999, 2000, 2001, 2002, 2003, 2004, 2005], \"y\": [34.0, 32.0, 104.0, 179.0, 220.0, 266.0, 299.0, 145.0, 80.0, 147.0, 81.0, 2.0], \"name\": \"Panama\"}, {\"type\": \"scatter\", \"x\": [1994, 1995, 1996, 1997, 1998, 1999, 2000, 2001, 2002, 2003, 2004, 2005], \"y\": [10.0, 111.0, 199.0, 241.0, 311.0, 362.0, 244.0, 148.0, 97.0, 202.0, 145.0, 4.0], \"name\": \"Switzerland\"}, {\"type\": \"scatter\", \"x\": [1994, 1995, 1996, 1997, 1998, 1999, 2000, 2001, 2002, 2003, 2004], \"y\": [1.0, 1.0, 1.0, 1.0, 3.0, 4.0, 10.0, 10.0, 12.0, 13.0, 2.0], \"name\": \"Bahamas\"}, {\"type\": \"scatter\", \"x\": [1994, 1996, 1997, 1998, 1999, 2000, 2001, 2002, 2003], \"y\": [1.0, 6.0, 9.0, 16.0, 33.0, 26.0, 4.0, 9.0, 4.0], \"name\": \"Uruguay\"}, {\"type\": \"scatter\", \"x\": [1995, 1996, 1997, 1998, 1999, 2000, 2001, 2002, 2003, 2004], \"y\": [5.0, 2.0, 1.0, 14.0, 41.0, 28.0, 16.0, 5.0, 16.0, 8.0], \"name\": \"United Arab Emirates\"}, {\"type\": \"scatter\", \"x\": [1995], \"y\": [2.0], \"name\": \"British Virgin Islands\"}, {\"type\": \"scatter\", \"x\": [1995, 1996, 1997, 1998, 1999, 2000, 2001, 2002, 2003, 2004], \"y\": [4.0, 19.0, 18.0, 49.0, 79.0, 51.0, 21.0, 16.0, 4.0, 10.0], \"name\": \"Isle of Man\"}, {\"type\": \"scatter\", \"x\": [1995, 1996, 1997, 1998, 1999, 2000, 2001, 2003, 2004], \"y\": [13.0, 20.0, 10.0, 18.0, 7.0, 20.0, 3.0, 5.0, 2.0], \"name\": \"Singapore\"}, {\"type\": \"scatter\", \"x\": [1996, 1998, 1999, 2000, 2001, 2002, 2003, 2004], \"y\": [2.0, 4.0, 19.0, 21.0, 9.0, 6.0, 10.0, 7.0], \"name\": \"Samoa\"}], {\"title\": \"Niue incorporations account distribution by Country with time series\", \"xaxis\": {\"rangeslider\": {}, \"type\": \"date\"}}, {\"showLink\": true, \"linkText\": \"Export to plot.ly\"})});</script>"
      ],
      "text/vnd.plotly.v1+html": [
       "<div id=\"f2639bcf-2e7e-4384-bc31-5abeaf69496e\" style=\"height: 525px; width: 100%;\" class=\"plotly-graph-div\"></div><script type=\"text/javascript\">require([\"plotly\"], function(Plotly) { window.PLOTLYENV=window.PLOTLYENV || {};window.PLOTLYENV.BASE_URL=\"https://plot.ly\";Plotly.newPlot(\"f2639bcf-2e7e-4384-bc31-5abeaf69496e\", [{\"type\": \"scatter\", \"x\": [1994, 1995, 1996, 1997, 1998, 1999, 2000, 2001, 2002, 2003, 2004], \"y\": [27.0, 20.0, 58.0, 84.0, 54.0, 182.0, 295.0, 153.0, 35.0, 83.0, 64.0], \"name\": \"Hong Kong\"}, {\"type\": \"scatter\", \"x\": [1994, 1995, 1996, 1997, 1998, 1999, 2000, 2001, 2003, 2004], \"y\": [14.0, 16.0, 40.0, 16.0, 12.0, 78.0, 26.0, 11.0, 5.0, 1.0], \"name\": \"Luxembourg\"}, {\"type\": \"scatter\", \"x\": [1994, 1995, 1996, 1997, 1998, 1999, 2000, 2001, 2002, 2003, 2004], \"y\": [17.0, 80.0, 99.0, 98.0, 100.0, 139.0, 76.0, 65.0, 57.0, 7.0, 3.0], \"name\": \"United Kingdom\"}, {\"type\": \"scatter\", \"x\": [1994, 1995, 1996, 1997, 1998, 1999, 2000, 2001, 2002, 2003, 2004], \"y\": [2.0, 22.0, 35.0, 34.0, 54.0, 105.0, 54.0, 28.0, 4.0, 3.0, 3.0], \"name\": \"Jersey\"}, {\"type\": \"scatter\", \"x\": [1994, 1995, 1996, 1997, 1998, 1999, 2000, 2001, 2002, 2003, 2004], \"y\": [1.0, 16.0, 24.0, 48.0, 45.0, 76.0, 59.0, 15.0, 7.0, 8.0, 3.0], \"name\": \"Guernsey\"}, {\"type\": \"scatter\", \"x\": [1994, 1995, 1996, 1997, 1998, 1999, 2000, 2001, 2002, 2003, 2004, 2005], \"y\": [34.0, 32.0, 104.0, 179.0, 220.0, 266.0, 299.0, 145.0, 80.0, 147.0, 81.0, 2.0], \"name\": \"Panama\"}, {\"type\": \"scatter\", \"x\": [1994, 1995, 1996, 1997, 1998, 1999, 2000, 2001, 2002, 2003, 2004, 2005], \"y\": [10.0, 111.0, 199.0, 241.0, 311.0, 362.0, 244.0, 148.0, 97.0, 202.0, 145.0, 4.0], \"name\": \"Switzerland\"}, {\"type\": \"scatter\", \"x\": [1994, 1995, 1996, 1997, 1998, 1999, 2000, 2001, 2002, 2003, 2004], \"y\": [1.0, 1.0, 1.0, 1.0, 3.0, 4.0, 10.0, 10.0, 12.0, 13.0, 2.0], \"name\": \"Bahamas\"}, {\"type\": \"scatter\", \"x\": [1994, 1996, 1997, 1998, 1999, 2000, 2001, 2002, 2003], \"y\": [1.0, 6.0, 9.0, 16.0, 33.0, 26.0, 4.0, 9.0, 4.0], \"name\": \"Uruguay\"}, {\"type\": \"scatter\", \"x\": [1995, 1996, 1997, 1998, 1999, 2000, 2001, 2002, 2003, 2004], \"y\": [5.0, 2.0, 1.0, 14.0, 41.0, 28.0, 16.0, 5.0, 16.0, 8.0], \"name\": \"United Arab Emirates\"}, {\"type\": \"scatter\", \"x\": [1995], \"y\": [2.0], \"name\": \"British Virgin Islands\"}, {\"type\": \"scatter\", \"x\": [1995, 1996, 1997, 1998, 1999, 2000, 2001, 2002, 2003, 2004], \"y\": [4.0, 19.0, 18.0, 49.0, 79.0, 51.0, 21.0, 16.0, 4.0, 10.0], \"name\": \"Isle of Man\"}, {\"type\": \"scatter\", \"x\": [1995, 1996, 1997, 1998, 1999, 2000, 2001, 2003, 2004], \"y\": [13.0, 20.0, 10.0, 18.0, 7.0, 20.0, 3.0, 5.0, 2.0], \"name\": \"Singapore\"}, {\"type\": \"scatter\", \"x\": [1996, 1998, 1999, 2000, 2001, 2002, 2003, 2004], \"y\": [2.0, 4.0, 19.0, 21.0, 9.0, 6.0, 10.0, 7.0], \"name\": \"Samoa\"}], {\"title\": \"Niue incorporations account distribution by Country with time series\", \"xaxis\": {\"rangeslider\": {}, \"type\": \"date\"}}, {\"showLink\": true, \"linkText\": \"Export to plot.ly\"})});</script>"
      ]
     },
     "metadata": {},
     "output_type": "display_data"
    },
    {
     "data": {
      "application/vnd.plotly.v1+json": {
       "data": [
        {
         "name": "Hong Kong",
         "type": "scatter",
         "x": [
          1980,
          1981,
          1982,
          1983,
          1984,
          1985,
          1986,
          1987,
          1988,
          1989,
          1990,
          1991,
          1992,
          1993,
          1994,
          1995,
          1996,
          1997,
          1998,
          1999,
          2000,
          2001,
          2002,
          2003,
          2004,
          2005,
          2006,
          2007,
          2008,
          2009,
          2010,
          2011,
          2012,
          2013,
          2014,
          2015
         ],
         "y": [
          4,
          5,
          3,
          12,
          17,
          49,
          42,
          152,
          50,
          36,
          17,
          20,
          18,
          17,
          14,
          11,
          10,
          11,
          5,
          5,
          8,
          2,
          6,
          1,
          10,
          9,
          2,
          4,
          12,
          9,
          15,
          9,
          8,
          1,
          6,
          4
         ]
        },
        {
         "name": "Switzerland",
         "type": "scatter",
         "x": [
          1980,
          1981,
          1982,
          1983,
          1984,
          1985,
          1986,
          1987,
          1988,
          1989,
          1990,
          1991,
          1992,
          1993,
          1994,
          1995,
          1996,
          1997,
          1998,
          1999,
          2000,
          2001,
          2002,
          2003,
          2004,
          2005,
          2006,
          2007,
          2008,
          2009,
          2010,
          2011,
          2012,
          2013,
          2014,
          2015
         ],
         "y": [
          104,
          106,
          148,
          191,
          169,
          152,
          188,
          183,
          84,
          128,
          101,
          101,
          72,
          84,
          79,
          124,
          86,
          70,
          83,
          78,
          168,
          139,
          163,
          321,
          640,
          2038,
          1130,
          1046,
          994,
          759,
          513,
          390,
          248,
          224,
          172,
          127
         ]
        },
        {
         "name": "United Kingdom",
         "type": "scatter",
         "x": [
          1980,
          1981,
          1982,
          1983,
          1984,
          1985,
          1986,
          1987,
          1988,
          1989,
          1990,
          1991,
          1992,
          1993,
          1994,
          1995,
          1996,
          1997,
          1998,
          1999,
          2000,
          2001,
          2002,
          2003,
          2004,
          2005,
          2006,
          2007,
          2008,
          2009,
          2010,
          2011,
          2012,
          2013,
          2014,
          2015
         ],
         "y": [
          43,
          51,
          99,
          96,
          107,
          101,
          147,
          185,
          60,
          55,
          45,
          26,
          28,
          31,
          35,
          26,
          19,
          16,
          9,
          13,
          18,
          20,
          22,
          33,
          37,
          35,
          37,
          33,
          33,
          32,
          25,
          20,
          31,
          9,
          8,
          12
         ]
        },
        {
         "name": "Guernsey",
         "type": "scatter",
         "x": [
          1980,
          1981,
          1982,
          1983,
          1984,
          1985,
          1986,
          1987,
          1988,
          1989,
          1990,
          1991,
          1992,
          1993,
          1994,
          1995,
          1996,
          1997,
          1998,
          1999,
          2000,
          2001,
          2002,
          2003,
          2004,
          2005,
          2006,
          2007,
          2008,
          2009,
          2010,
          2014
         ],
         "y": [
          21,
          40,
          48,
          38,
          53,
          58,
          94,
          121,
          28,
          13,
          16,
          12,
          23,
          11,
          6,
          6,
          8,
          8,
          3,
          7,
          3,
          13,
          7,
          1,
          1,
          7,
          7,
          1,
          3,
          1,
          2,
          2
         ]
        },
        {
         "name": "Isle of Man",
         "type": "scatter",
         "x": [
          1980,
          1981,
          1982,
          1983,
          1984,
          1985,
          1986,
          1987,
          1988,
          1989,
          1990,
          1991,
          1992,
          1993,
          1994,
          1995,
          1996,
          1997,
          1998,
          1999,
          2000,
          2001,
          2002,
          2003,
          2004,
          2005,
          2006,
          2007,
          2008,
          2009,
          2010,
          2011,
          2012,
          2015
         ],
         "y": [
          4,
          6,
          9,
          24,
          17,
          15,
          40,
          66,
          31,
          18,
          3,
          8,
          3,
          13,
          10,
          4,
          8,
          1,
          6,
          4,
          13,
          18,
          11,
          18,
          20,
          22,
          32,
          22,
          19,
          12,
          3,
          6,
          5,
          5
         ]
        },
        {
         "name": "Jersey",
         "type": "scatter",
         "x": [
          1980,
          1981,
          1982,
          1983,
          1984,
          1985,
          1986,
          1987,
          1988,
          1989,
          1990,
          1991,
          1992,
          1993,
          1994,
          1995,
          1996,
          1997,
          1998,
          1999,
          2000,
          2001,
          2002,
          2003,
          2004,
          2005,
          2006,
          2007,
          2008,
          2009,
          2010,
          2011,
          2012,
          2013,
          2014
         ],
         "y": [
          77,
          87,
          128,
          137,
          161,
          196,
          295,
          374,
          127,
          73,
          38,
          37,
          24,
          16,
          15,
          12,
          14,
          10,
          5,
          9,
          15,
          18,
          9,
          20,
          16,
          13,
          15,
          20,
          5,
          10,
          5,
          2,
          2,
          2,
          2
         ]
        },
        {
         "name": "Bahamas",
         "type": "scatter",
         "x": [
          1980,
          1981,
          1982,
          1983,
          1984,
          1985,
          1986,
          1987,
          1988,
          1989,
          1991,
          1992,
          1993,
          1994,
          1995,
          1996,
          1997,
          1998,
          1999,
          2000,
          2001,
          2002,
          2003,
          2004,
          2005,
          2006,
          2007,
          2008,
          2009,
          2010,
          2011,
          2012,
          2013,
          2014,
          2015
         ],
         "y": [
          8,
          2,
          8,
          6,
          5,
          4,
          8,
          8,
          2,
          7,
          3,
          1,
          5,
          6,
          4,
          12,
          10,
          15,
          14,
          44,
          41,
          63,
          87,
          117,
          192,
          215,
          267,
          213,
          167,
          149,
          142,
          121,
          131,
          99,
          40
         ]
        },
        {
         "name": "Panama",
         "type": "scatter",
         "x": [
          1980,
          1981,
          1982,
          1983,
          1984,
          1985,
          1986,
          1987,
          1988,
          1989,
          1990,
          1991,
          1992,
          1993,
          1994,
          1995,
          1996,
          1997,
          1998,
          1999,
          2000,
          2001,
          2002,
          2003,
          2004,
          2005,
          2006,
          2007,
          2008,
          2009,
          2010,
          2011,
          2012,
          2013,
          2014,
          2015
         ],
         "y": [
          32,
          68,
          115,
          128,
          157,
          147,
          185,
          198,
          105,
          73,
          66,
          39,
          26,
          25,
          61,
          68,
          107,
          130,
          112,
          88,
          141,
          165,
          182,
          153,
          307,
          479,
          403,
          407,
          431,
          285,
          189,
          174,
          206,
          209,
          188,
          103
         ]
        },
        {
         "name": "Luxembourg",
         "type": "scatter",
         "x": [
          1980,
          1981,
          1982,
          1983,
          1984,
          1985,
          1986,
          1987,
          1988,
          1989,
          1990,
          1991,
          1992,
          1993,
          1994,
          1995,
          1996,
          1997,
          1998,
          1999,
          2000,
          2001,
          2002,
          2003,
          2004,
          2005,
          2006,
          2007,
          2008,
          2009,
          2010,
          2011,
          2012,
          2013,
          2014,
          2015
         ],
         "y": [
          7,
          15,
          22,
          54,
          92,
          63,
          109,
          65,
          65,
          92,
          79,
          73,
          124,
          90,
          55,
          66,
          107,
          143,
          134,
          137,
          166,
          73,
          56,
          166,
          421,
          892,
          546,
          511,
          466,
          247,
          190,
          87,
          74,
          37,
          32,
          11
         ]
        },
        {
         "name": "British Virgin Islands",
         "type": "scatter",
         "x": [
          1981,
          1986,
          1996,
          1997,
          1998,
          1999,
          2000,
          2001,
          2002,
          2003,
          2004,
          2005,
          2006,
          2007,
          2008,
          2009,
          2010,
          2011,
          2012,
          2013,
          2014,
          2015
         ],
         "y": [
          1,
          1,
          2,
          3,
          1,
          3,
          2,
          3,
          7,
          6,
          6,
          7,
          1,
          8,
          12,
          7,
          2,
          3,
          3,
          4,
          6,
          4
         ]
        },
        {
         "name": "United Arab Emirates",
         "type": "scatter",
         "x": [
          1981,
          1982,
          1983,
          1984,
          1985,
          1986,
          1987,
          1988,
          1989,
          1990,
          1991,
          1992,
          1993,
          1995,
          1996,
          1997,
          1998,
          1999,
          2000,
          2001,
          2002,
          2003,
          2004,
          2005,
          2006,
          2007,
          2008,
          2009,
          2010,
          2011,
          2012,
          2013,
          2014,
          2015
         ],
         "y": [
          1,
          3,
          2,
          3,
          4,
          15,
          10,
          3,
          1,
          2,
          3,
          1,
          6,
          2,
          2,
          1,
          4,
          3,
          5,
          5,
          10,
          18,
          24,
          49,
          68,
          75,
          75,
          97,
          80,
          101,
          123,
          26,
          47,
          48
         ]
        },
        {
         "name": "Uruguay",
         "type": "scatter",
         "x": [
          1982,
          1983,
          1986,
          1988,
          1991,
          1992,
          1994,
          1995,
          1996,
          1997,
          1998,
          1999,
          2000,
          2001,
          2002,
          2003,
          2004,
          2005,
          2006,
          2007,
          2008,
          2009,
          2010,
          2011,
          2012,
          2013,
          2014,
          2015
         ],
         "y": [
          1,
          1,
          1,
          1,
          2,
          4,
          5,
          5,
          41,
          61,
          95,
          55,
          78,
          84,
          81,
          72,
          83,
          111,
          148,
          161,
          136,
          175,
          225,
          246,
          523,
          137,
          86,
          28
         ]
        },
        {
         "name": "Singapore",
         "type": "scatter",
         "x": [
          1984,
          1985,
          1987,
          1988,
          1989,
          1990,
          1991,
          1992,
          1993,
          1994,
          1996,
          1997,
          1998,
          2000,
          2001,
          2002,
          2003,
          2004,
          2005,
          2006,
          2007,
          2008,
          2009,
          2010,
          2011,
          2012,
          2013
         ],
         "y": [
          1,
          1,
          2,
          4,
          1,
          3,
          1,
          1,
          1,
          6,
          2,
          2,
          1,
          1,
          1,
          3,
          1,
          1,
          7,
          5,
          5,
          6,
          3,
          1,
          3,
          1,
          3
         ]
        },
        {
         "name": "Samoa",
         "type": "scatter",
         "x": [
          1991,
          1994,
          1995,
          1999,
          2003,
          2005,
          2006,
          2007,
          2008,
          2009,
          2010,
          2011,
          2012,
          2013,
          2014,
          2015
         ],
         "y": [
          1,
          1,
          1,
          1,
          1,
          6,
          13,
          15,
          21,
          16,
          20,
          13,
          17,
          8,
          6,
          19
         ]
        }
       ],
       "layout": {
        "title": "Panama incorporations account distribution by Country with time series",
        "xaxis": {
         "rangeslider": {},
         "type": "date"
        }
       }
      },
      "text/html": [
       "<div id=\"3d642f63-6729-47e9-ad59-901bece50350\" style=\"height: 525px; width: 100%;\" class=\"plotly-graph-div\"></div><script type=\"text/javascript\">require([\"plotly\"], function(Plotly) { window.PLOTLYENV=window.PLOTLYENV || {};window.PLOTLYENV.BASE_URL=\"https://plot.ly\";Plotly.newPlot(\"3d642f63-6729-47e9-ad59-901bece50350\", [{\"type\": \"scatter\", \"x\": [1980, 1981, 1982, 1983, 1984, 1985, 1986, 1987, 1988, 1989, 1990, 1991, 1992, 1993, 1994, 1995, 1996, 1997, 1998, 1999, 2000, 2001, 2002, 2003, 2004, 2005, 2006, 2007, 2008, 2009, 2010, 2011, 2012, 2013, 2014, 2015], \"y\": [4.0, 5.0, 3.0, 12.0, 17.0, 49.0, 42.0, 152.0, 50.0, 36.0, 17.0, 20.0, 18.0, 17.0, 14.0, 11.0, 10.0, 11.0, 5.0, 5.0, 8.0, 2.0, 6.0, 1.0, 10.0, 9.0, 2.0, 4.0, 12.0, 9.0, 15.0, 9.0, 8.0, 1.0, 6.0, 4.0], \"name\": \"Hong Kong\"}, {\"type\": \"scatter\", \"x\": [1980, 1981, 1982, 1983, 1984, 1985, 1986, 1987, 1988, 1989, 1990, 1991, 1992, 1993, 1994, 1995, 1996, 1997, 1998, 1999, 2000, 2001, 2002, 2003, 2004, 2005, 2006, 2007, 2008, 2009, 2010, 2011, 2012, 2013, 2014, 2015], \"y\": [104.0, 106.0, 148.0, 191.0, 169.0, 152.0, 188.0, 183.0, 84.0, 128.0, 101.0, 101.0, 72.0, 84.0, 79.0, 124.0, 86.0, 70.0, 83.0, 78.0, 168.0, 139.0, 163.0, 321.0, 640.0, 2038.0, 1130.0, 1046.0, 994.0, 759.0, 513.0, 390.0, 248.0, 224.0, 172.0, 127.0], \"name\": \"Switzerland\"}, {\"type\": \"scatter\", \"x\": [1980, 1981, 1982, 1983, 1984, 1985, 1986, 1987, 1988, 1989, 1990, 1991, 1992, 1993, 1994, 1995, 1996, 1997, 1998, 1999, 2000, 2001, 2002, 2003, 2004, 2005, 2006, 2007, 2008, 2009, 2010, 2011, 2012, 2013, 2014, 2015], \"y\": [43.0, 51.0, 99.0, 96.0, 107.0, 101.0, 147.0, 185.0, 60.0, 55.0, 45.0, 26.0, 28.0, 31.0, 35.0, 26.0, 19.0, 16.0, 9.0, 13.0, 18.0, 20.0, 22.0, 33.0, 37.0, 35.0, 37.0, 33.0, 33.0, 32.0, 25.0, 20.0, 31.0, 9.0, 8.0, 12.0], \"name\": \"United Kingdom\"}, {\"type\": \"scatter\", \"x\": [1980, 1981, 1982, 1983, 1984, 1985, 1986, 1987, 1988, 1989, 1990, 1991, 1992, 1993, 1994, 1995, 1996, 1997, 1998, 1999, 2000, 2001, 2002, 2003, 2004, 2005, 2006, 2007, 2008, 2009, 2010, 2014], \"y\": [21.0, 40.0, 48.0, 38.0, 53.0, 58.0, 94.0, 121.0, 28.0, 13.0, 16.0, 12.0, 23.0, 11.0, 6.0, 6.0, 8.0, 8.0, 3.0, 7.0, 3.0, 13.0, 7.0, 1.0, 1.0, 7.0, 7.0, 1.0, 3.0, 1.0, 2.0, 2.0], \"name\": \"Guernsey\"}, {\"type\": \"scatter\", \"x\": [1980, 1981, 1982, 1983, 1984, 1985, 1986, 1987, 1988, 1989, 1990, 1991, 1992, 1993, 1994, 1995, 1996, 1997, 1998, 1999, 2000, 2001, 2002, 2003, 2004, 2005, 2006, 2007, 2008, 2009, 2010, 2011, 2012, 2015], \"y\": [4.0, 6.0, 9.0, 24.0, 17.0, 15.0, 40.0, 66.0, 31.0, 18.0, 3.0, 8.0, 3.0, 13.0, 10.0, 4.0, 8.0, 1.0, 6.0, 4.0, 13.0, 18.0, 11.0, 18.0, 20.0, 22.0, 32.0, 22.0, 19.0, 12.0, 3.0, 6.0, 5.0, 5.0], \"name\": \"Isle of Man\"}, {\"type\": \"scatter\", \"x\": [1980, 1981, 1982, 1983, 1984, 1985, 1986, 1987, 1988, 1989, 1990, 1991, 1992, 1993, 1994, 1995, 1996, 1997, 1998, 1999, 2000, 2001, 2002, 2003, 2004, 2005, 2006, 2007, 2008, 2009, 2010, 2011, 2012, 2013, 2014], \"y\": [77.0, 87.0, 128.0, 137.0, 161.0, 196.0, 295.0, 374.0, 127.0, 73.0, 38.0, 37.0, 24.0, 16.0, 15.0, 12.0, 14.0, 10.0, 5.0, 9.0, 15.0, 18.0, 9.0, 20.0, 16.0, 13.0, 15.0, 20.0, 5.0, 10.0, 5.0, 2.0, 2.0, 2.0, 2.0], \"name\": \"Jersey\"}, {\"type\": \"scatter\", \"x\": [1980, 1981, 1982, 1983, 1984, 1985, 1986, 1987, 1988, 1989, 1991, 1992, 1993, 1994, 1995, 1996, 1997, 1998, 1999, 2000, 2001, 2002, 2003, 2004, 2005, 2006, 2007, 2008, 2009, 2010, 2011, 2012, 2013, 2014, 2015], \"y\": [8.0, 2.0, 8.0, 6.0, 5.0, 4.0, 8.0, 8.0, 2.0, 7.0, 3.0, 1.0, 5.0, 6.0, 4.0, 12.0, 10.0, 15.0, 14.0, 44.0, 41.0, 63.0, 87.0, 117.0, 192.0, 215.0, 267.0, 213.0, 167.0, 149.0, 142.0, 121.0, 131.0, 99.0, 40.0], \"name\": \"Bahamas\"}, {\"type\": \"scatter\", \"x\": [1980, 1981, 1982, 1983, 1984, 1985, 1986, 1987, 1988, 1989, 1990, 1991, 1992, 1993, 1994, 1995, 1996, 1997, 1998, 1999, 2000, 2001, 2002, 2003, 2004, 2005, 2006, 2007, 2008, 2009, 2010, 2011, 2012, 2013, 2014, 2015], \"y\": [32.0, 68.0, 115.0, 128.0, 157.0, 147.0, 185.0, 198.0, 105.0, 73.0, 66.0, 39.0, 26.0, 25.0, 61.0, 68.0, 107.0, 130.0, 112.0, 88.0, 141.0, 165.0, 182.0, 153.0, 307.0, 479.0, 403.0, 407.0, 431.0, 285.0, 189.0, 174.0, 206.0, 209.0, 188.0, 103.0], \"name\": \"Panama\"}, {\"type\": \"scatter\", \"x\": [1980, 1981, 1982, 1983, 1984, 1985, 1986, 1987, 1988, 1989, 1990, 1991, 1992, 1993, 1994, 1995, 1996, 1997, 1998, 1999, 2000, 2001, 2002, 2003, 2004, 2005, 2006, 2007, 2008, 2009, 2010, 2011, 2012, 2013, 2014, 2015], \"y\": [7.0, 15.0, 22.0, 54.0, 92.0, 63.0, 109.0, 65.0, 65.0, 92.0, 79.0, 73.0, 124.0, 90.0, 55.0, 66.0, 107.0, 143.0, 134.0, 137.0, 166.0, 73.0, 56.0, 166.0, 421.0, 892.0, 546.0, 511.0, 466.0, 247.0, 190.0, 87.0, 74.0, 37.0, 32.0, 11.0], \"name\": \"Luxembourg\"}, {\"type\": \"scatter\", \"x\": [1981, 1986, 1996, 1997, 1998, 1999, 2000, 2001, 2002, 2003, 2004, 2005, 2006, 2007, 2008, 2009, 2010, 2011, 2012, 2013, 2014, 2015], \"y\": [1.0, 1.0, 2.0, 3.0, 1.0, 3.0, 2.0, 3.0, 7.0, 6.0, 6.0, 7.0, 1.0, 8.0, 12.0, 7.0, 2.0, 3.0, 3.0, 4.0, 6.0, 4.0], \"name\": \"British Virgin Islands\"}, {\"type\": \"scatter\", \"x\": [1981, 1982, 1983, 1984, 1985, 1986, 1987, 1988, 1989, 1990, 1991, 1992, 1993, 1995, 1996, 1997, 1998, 1999, 2000, 2001, 2002, 2003, 2004, 2005, 2006, 2007, 2008, 2009, 2010, 2011, 2012, 2013, 2014, 2015], \"y\": [1.0, 3.0, 2.0, 3.0, 4.0, 15.0, 10.0, 3.0, 1.0, 2.0, 3.0, 1.0, 6.0, 2.0, 2.0, 1.0, 4.0, 3.0, 5.0, 5.0, 10.0, 18.0, 24.0, 49.0, 68.0, 75.0, 75.0, 97.0, 80.0, 101.0, 123.0, 26.0, 47.0, 48.0], \"name\": \"United Arab Emirates\"}, {\"type\": \"scatter\", \"x\": [1982, 1983, 1986, 1988, 1991, 1992, 1994, 1995, 1996, 1997, 1998, 1999, 2000, 2001, 2002, 2003, 2004, 2005, 2006, 2007, 2008, 2009, 2010, 2011, 2012, 2013, 2014, 2015], \"y\": [1.0, 1.0, 1.0, 1.0, 2.0, 4.0, 5.0, 5.0, 41.0, 61.0, 95.0, 55.0, 78.0, 84.0, 81.0, 72.0, 83.0, 111.0, 148.0, 161.0, 136.0, 175.0, 225.0, 246.0, 523.0, 137.0, 86.0, 28.0], \"name\": \"Uruguay\"}, {\"type\": \"scatter\", \"x\": [1984, 1985, 1987, 1988, 1989, 1990, 1991, 1992, 1993, 1994, 1996, 1997, 1998, 2000, 2001, 2002, 2003, 2004, 2005, 2006, 2007, 2008, 2009, 2010, 2011, 2012, 2013], \"y\": [1.0, 1.0, 2.0, 4.0, 1.0, 3.0, 1.0, 1.0, 1.0, 6.0, 2.0, 2.0, 1.0, 1.0, 1.0, 3.0, 1.0, 1.0, 7.0, 5.0, 5.0, 6.0, 3.0, 1.0, 3.0, 1.0, 3.0], \"name\": \"Singapore\"}, {\"type\": \"scatter\", \"x\": [1991, 1994, 1995, 1999, 2003, 2005, 2006, 2007, 2008, 2009, 2010, 2011, 2012, 2013, 2014, 2015], \"y\": [1.0, 1.0, 1.0, 1.0, 1.0, 6.0, 13.0, 15.0, 21.0, 16.0, 20.0, 13.0, 17.0, 8.0, 6.0, 19.0], \"name\": \"Samoa\"}], {\"title\": \"Panama incorporations account distribution by Country with time series\", \"xaxis\": {\"rangeslider\": {}, \"type\": \"date\"}}, {\"showLink\": true, \"linkText\": \"Export to plot.ly\"})});</script>"
      ],
      "text/vnd.plotly.v1+html": [
       "<div id=\"3d642f63-6729-47e9-ad59-901bece50350\" style=\"height: 525px; width: 100%;\" class=\"plotly-graph-div\"></div><script type=\"text/javascript\">require([\"plotly\"], function(Plotly) { window.PLOTLYENV=window.PLOTLYENV || {};window.PLOTLYENV.BASE_URL=\"https://plot.ly\";Plotly.newPlot(\"3d642f63-6729-47e9-ad59-901bece50350\", [{\"type\": \"scatter\", \"x\": [1980, 1981, 1982, 1983, 1984, 1985, 1986, 1987, 1988, 1989, 1990, 1991, 1992, 1993, 1994, 1995, 1996, 1997, 1998, 1999, 2000, 2001, 2002, 2003, 2004, 2005, 2006, 2007, 2008, 2009, 2010, 2011, 2012, 2013, 2014, 2015], \"y\": [4.0, 5.0, 3.0, 12.0, 17.0, 49.0, 42.0, 152.0, 50.0, 36.0, 17.0, 20.0, 18.0, 17.0, 14.0, 11.0, 10.0, 11.0, 5.0, 5.0, 8.0, 2.0, 6.0, 1.0, 10.0, 9.0, 2.0, 4.0, 12.0, 9.0, 15.0, 9.0, 8.0, 1.0, 6.0, 4.0], \"name\": \"Hong Kong\"}, {\"type\": \"scatter\", \"x\": [1980, 1981, 1982, 1983, 1984, 1985, 1986, 1987, 1988, 1989, 1990, 1991, 1992, 1993, 1994, 1995, 1996, 1997, 1998, 1999, 2000, 2001, 2002, 2003, 2004, 2005, 2006, 2007, 2008, 2009, 2010, 2011, 2012, 2013, 2014, 2015], \"y\": [104.0, 106.0, 148.0, 191.0, 169.0, 152.0, 188.0, 183.0, 84.0, 128.0, 101.0, 101.0, 72.0, 84.0, 79.0, 124.0, 86.0, 70.0, 83.0, 78.0, 168.0, 139.0, 163.0, 321.0, 640.0, 2038.0, 1130.0, 1046.0, 994.0, 759.0, 513.0, 390.0, 248.0, 224.0, 172.0, 127.0], \"name\": \"Switzerland\"}, {\"type\": \"scatter\", \"x\": [1980, 1981, 1982, 1983, 1984, 1985, 1986, 1987, 1988, 1989, 1990, 1991, 1992, 1993, 1994, 1995, 1996, 1997, 1998, 1999, 2000, 2001, 2002, 2003, 2004, 2005, 2006, 2007, 2008, 2009, 2010, 2011, 2012, 2013, 2014, 2015], \"y\": [43.0, 51.0, 99.0, 96.0, 107.0, 101.0, 147.0, 185.0, 60.0, 55.0, 45.0, 26.0, 28.0, 31.0, 35.0, 26.0, 19.0, 16.0, 9.0, 13.0, 18.0, 20.0, 22.0, 33.0, 37.0, 35.0, 37.0, 33.0, 33.0, 32.0, 25.0, 20.0, 31.0, 9.0, 8.0, 12.0], \"name\": \"United Kingdom\"}, {\"type\": \"scatter\", \"x\": [1980, 1981, 1982, 1983, 1984, 1985, 1986, 1987, 1988, 1989, 1990, 1991, 1992, 1993, 1994, 1995, 1996, 1997, 1998, 1999, 2000, 2001, 2002, 2003, 2004, 2005, 2006, 2007, 2008, 2009, 2010, 2014], \"y\": [21.0, 40.0, 48.0, 38.0, 53.0, 58.0, 94.0, 121.0, 28.0, 13.0, 16.0, 12.0, 23.0, 11.0, 6.0, 6.0, 8.0, 8.0, 3.0, 7.0, 3.0, 13.0, 7.0, 1.0, 1.0, 7.0, 7.0, 1.0, 3.0, 1.0, 2.0, 2.0], \"name\": \"Guernsey\"}, {\"type\": \"scatter\", \"x\": [1980, 1981, 1982, 1983, 1984, 1985, 1986, 1987, 1988, 1989, 1990, 1991, 1992, 1993, 1994, 1995, 1996, 1997, 1998, 1999, 2000, 2001, 2002, 2003, 2004, 2005, 2006, 2007, 2008, 2009, 2010, 2011, 2012, 2015], \"y\": [4.0, 6.0, 9.0, 24.0, 17.0, 15.0, 40.0, 66.0, 31.0, 18.0, 3.0, 8.0, 3.0, 13.0, 10.0, 4.0, 8.0, 1.0, 6.0, 4.0, 13.0, 18.0, 11.0, 18.0, 20.0, 22.0, 32.0, 22.0, 19.0, 12.0, 3.0, 6.0, 5.0, 5.0], \"name\": \"Isle of Man\"}, {\"type\": \"scatter\", \"x\": [1980, 1981, 1982, 1983, 1984, 1985, 1986, 1987, 1988, 1989, 1990, 1991, 1992, 1993, 1994, 1995, 1996, 1997, 1998, 1999, 2000, 2001, 2002, 2003, 2004, 2005, 2006, 2007, 2008, 2009, 2010, 2011, 2012, 2013, 2014], \"y\": [77.0, 87.0, 128.0, 137.0, 161.0, 196.0, 295.0, 374.0, 127.0, 73.0, 38.0, 37.0, 24.0, 16.0, 15.0, 12.0, 14.0, 10.0, 5.0, 9.0, 15.0, 18.0, 9.0, 20.0, 16.0, 13.0, 15.0, 20.0, 5.0, 10.0, 5.0, 2.0, 2.0, 2.0, 2.0], \"name\": \"Jersey\"}, {\"type\": \"scatter\", \"x\": [1980, 1981, 1982, 1983, 1984, 1985, 1986, 1987, 1988, 1989, 1991, 1992, 1993, 1994, 1995, 1996, 1997, 1998, 1999, 2000, 2001, 2002, 2003, 2004, 2005, 2006, 2007, 2008, 2009, 2010, 2011, 2012, 2013, 2014, 2015], \"y\": [8.0, 2.0, 8.0, 6.0, 5.0, 4.0, 8.0, 8.0, 2.0, 7.0, 3.0, 1.0, 5.0, 6.0, 4.0, 12.0, 10.0, 15.0, 14.0, 44.0, 41.0, 63.0, 87.0, 117.0, 192.0, 215.0, 267.0, 213.0, 167.0, 149.0, 142.0, 121.0, 131.0, 99.0, 40.0], \"name\": \"Bahamas\"}, {\"type\": \"scatter\", \"x\": [1980, 1981, 1982, 1983, 1984, 1985, 1986, 1987, 1988, 1989, 1990, 1991, 1992, 1993, 1994, 1995, 1996, 1997, 1998, 1999, 2000, 2001, 2002, 2003, 2004, 2005, 2006, 2007, 2008, 2009, 2010, 2011, 2012, 2013, 2014, 2015], \"y\": [32.0, 68.0, 115.0, 128.0, 157.0, 147.0, 185.0, 198.0, 105.0, 73.0, 66.0, 39.0, 26.0, 25.0, 61.0, 68.0, 107.0, 130.0, 112.0, 88.0, 141.0, 165.0, 182.0, 153.0, 307.0, 479.0, 403.0, 407.0, 431.0, 285.0, 189.0, 174.0, 206.0, 209.0, 188.0, 103.0], \"name\": \"Panama\"}, {\"type\": \"scatter\", \"x\": [1980, 1981, 1982, 1983, 1984, 1985, 1986, 1987, 1988, 1989, 1990, 1991, 1992, 1993, 1994, 1995, 1996, 1997, 1998, 1999, 2000, 2001, 2002, 2003, 2004, 2005, 2006, 2007, 2008, 2009, 2010, 2011, 2012, 2013, 2014, 2015], \"y\": [7.0, 15.0, 22.0, 54.0, 92.0, 63.0, 109.0, 65.0, 65.0, 92.0, 79.0, 73.0, 124.0, 90.0, 55.0, 66.0, 107.0, 143.0, 134.0, 137.0, 166.0, 73.0, 56.0, 166.0, 421.0, 892.0, 546.0, 511.0, 466.0, 247.0, 190.0, 87.0, 74.0, 37.0, 32.0, 11.0], \"name\": \"Luxembourg\"}, {\"type\": \"scatter\", \"x\": [1981, 1986, 1996, 1997, 1998, 1999, 2000, 2001, 2002, 2003, 2004, 2005, 2006, 2007, 2008, 2009, 2010, 2011, 2012, 2013, 2014, 2015], \"y\": [1.0, 1.0, 2.0, 3.0, 1.0, 3.0, 2.0, 3.0, 7.0, 6.0, 6.0, 7.0, 1.0, 8.0, 12.0, 7.0, 2.0, 3.0, 3.0, 4.0, 6.0, 4.0], \"name\": \"British Virgin Islands\"}, {\"type\": \"scatter\", \"x\": [1981, 1982, 1983, 1984, 1985, 1986, 1987, 1988, 1989, 1990, 1991, 1992, 1993, 1995, 1996, 1997, 1998, 1999, 2000, 2001, 2002, 2003, 2004, 2005, 2006, 2007, 2008, 2009, 2010, 2011, 2012, 2013, 2014, 2015], \"y\": [1.0, 3.0, 2.0, 3.0, 4.0, 15.0, 10.0, 3.0, 1.0, 2.0, 3.0, 1.0, 6.0, 2.0, 2.0, 1.0, 4.0, 3.0, 5.0, 5.0, 10.0, 18.0, 24.0, 49.0, 68.0, 75.0, 75.0, 97.0, 80.0, 101.0, 123.0, 26.0, 47.0, 48.0], \"name\": \"United Arab Emirates\"}, {\"type\": \"scatter\", \"x\": [1982, 1983, 1986, 1988, 1991, 1992, 1994, 1995, 1996, 1997, 1998, 1999, 2000, 2001, 2002, 2003, 2004, 2005, 2006, 2007, 2008, 2009, 2010, 2011, 2012, 2013, 2014, 2015], \"y\": [1.0, 1.0, 1.0, 1.0, 2.0, 4.0, 5.0, 5.0, 41.0, 61.0, 95.0, 55.0, 78.0, 84.0, 81.0, 72.0, 83.0, 111.0, 148.0, 161.0, 136.0, 175.0, 225.0, 246.0, 523.0, 137.0, 86.0, 28.0], \"name\": \"Uruguay\"}, {\"type\": \"scatter\", \"x\": [1984, 1985, 1987, 1988, 1989, 1990, 1991, 1992, 1993, 1994, 1996, 1997, 1998, 2000, 2001, 2002, 2003, 2004, 2005, 2006, 2007, 2008, 2009, 2010, 2011, 2012, 2013], \"y\": [1.0, 1.0, 2.0, 4.0, 1.0, 3.0, 1.0, 1.0, 1.0, 6.0, 2.0, 2.0, 1.0, 1.0, 1.0, 3.0, 1.0, 1.0, 7.0, 5.0, 5.0, 6.0, 3.0, 1.0, 3.0, 1.0, 3.0], \"name\": \"Singapore\"}, {\"type\": \"scatter\", \"x\": [1991, 1994, 1995, 1999, 2003, 2005, 2006, 2007, 2008, 2009, 2010, 2011, 2012, 2013, 2014, 2015], \"y\": [1.0, 1.0, 1.0, 1.0, 1.0, 6.0, 13.0, 15.0, 21.0, 16.0, 20.0, 13.0, 17.0, 8.0, 6.0, 19.0], \"name\": \"Samoa\"}], {\"title\": \"Panama incorporations account distribution by Country with time series\", \"xaxis\": {\"rangeslider\": {}, \"type\": \"date\"}}, {\"showLink\": true, \"linkText\": \"Export to plot.ly\"})});</script>"
      ]
     },
     "metadata": {},
     "output_type": "display_data"
    },
    {
     "data": {
      "application/vnd.plotly.v1+json": {
       "data": [
        {
         "name": "Samoa",
         "type": "scatter",
         "x": [
          1991,
          1992,
          1993,
          1994,
          1995,
          1996,
          1997,
          1998,
          1999,
          2000,
          2001,
          2002,
          2003,
          2004,
          2005,
          2006,
          2007,
          2008,
          2009,
          2010,
          2011,
          2012,
          2013
         ],
         "y": [
          5,
          18,
          5,
          8,
          6,
          18,
          25,
          95,
          44,
          152,
          263,
          279,
          276,
          597,
          990,
          1226,
          1643,
          1054,
          449,
          1,
          1,
          6,
          1
         ]
        },
        {
         "name": "Hong Kong",
         "type": "scatter",
         "x": [
          1993,
          2002,
          2003,
          2004,
          2005,
          2006,
          2007,
          2008,
          2009,
          2010,
          2011,
          2012,
          2013,
          2014,
          2015
         ],
         "y": [
          1,
          1,
          4,
          72,
          210,
          352,
          233,
          294,
          269,
          276,
          244,
          159,
          320,
          293,
          126
         ]
        },
        {
         "name": "Singapore",
         "type": "scatter",
         "x": [
          1999,
          2001,
          2003,
          2004,
          2005,
          2006,
          2007,
          2008,
          2009,
          2010,
          2011,
          2012,
          2013,
          2014,
          2015
         ],
         "y": [
          1,
          1,
          2,
          7,
          10,
          14,
          12,
          9,
          2,
          3,
          3,
          4,
          1,
          1,
          4
         ]
        },
        {
         "name": "Guernsey",
         "type": "scatter",
         "x": [
          2002,
          2006,
          2007,
          2008
         ],
         "y": [
          1,
          15,
          2,
          1
         ]
        },
        {
         "name": "Panama",
         "type": "scatter",
         "x": [
          2003,
          2004,
          2005,
          2006,
          2007,
          2008,
          2009,
          2010,
          2011,
          2012,
          2013,
          2014,
          2015
         ],
         "y": [
          2,
          60,
          36,
          47,
          47,
          49,
          27,
          31,
          19,
          16,
          27,
          24,
          25
         ]
        },
        {
         "name": "United Arab Emirates",
         "type": "scatter",
         "x": [
          2004,
          2005,
          2006,
          2007,
          2008,
          2010,
          2012,
          2013,
          2014,
          2015
         ],
         "y": [
          3,
          2,
          21,
          8,
          3,
          1,
          6,
          1,
          7,
          4
         ]
        },
        {
         "name": "Isle of Man",
         "type": "scatter",
         "x": [
          2004,
          2005,
          2006,
          2007,
          2009,
          2010,
          2011,
          2012,
          2013,
          2014,
          2015
         ],
         "y": [
          1,
          1,
          41,
          3,
          6,
          1,
          2,
          5,
          2,
          6,
          2
         ]
        },
        {
         "name": "Luxembourg",
         "type": "scatter",
         "x": [
          2004,
          2005,
          2006,
          2007,
          2014,
          2015
         ],
         "y": [
          1,
          1,
          5,
          2,
          2,
          2
         ]
        },
        {
         "name": "Switzerland",
         "type": "scatter",
         "x": [
          2004,
          2005,
          2006,
          2007,
          2008,
          2009,
          2010,
          2011,
          2012,
          2013,
          2014,
          2015
         ],
         "y": [
          3,
          36,
          290,
          172,
          14,
          5,
          1,
          1,
          4,
          2,
          13,
          4
         ]
        },
        {
         "name": "United Kingdom",
         "type": "scatter",
         "x": [
          2005,
          2006,
          2007,
          2008,
          2009,
          2011,
          2013,
          2014,
          2015
         ],
         "y": [
          2,
          25,
          6,
          2,
          1,
          3,
          1,
          4,
          1
         ]
        },
        {
         "name": "Jersey",
         "type": "scatter",
         "x": [
          2005,
          2006,
          2007
         ],
         "y": [
          2,
          14,
          1
         ]
        },
        {
         "name": "Bahamas",
         "type": "scatter",
         "x": [
          2006,
          2007,
          2010,
          2011,
          2012,
          2013
         ],
         "y": [
          16,
          6,
          2,
          1,
          1,
          1
         ]
        },
        {
         "name": "Uruguay",
         "type": "scatter",
         "x": [
          2006,
          2011,
          2014
         ],
         "y": [
          7,
          1,
          1
         ]
        }
       ],
       "layout": {
        "title": "Samoa incorporations account distribution by Country with time series",
        "xaxis": {
         "rangeslider": {},
         "type": "date"
        }
       }
      },
      "text/html": [
       "<div id=\"f9917ee1-f594-4cdb-ab72-7647825b67b1\" style=\"height: 525px; width: 100%;\" class=\"plotly-graph-div\"></div><script type=\"text/javascript\">require([\"plotly\"], function(Plotly) { window.PLOTLYENV=window.PLOTLYENV || {};window.PLOTLYENV.BASE_URL=\"https://plot.ly\";Plotly.newPlot(\"f9917ee1-f594-4cdb-ab72-7647825b67b1\", [{\"type\": \"scatter\", \"x\": [1991, 1992, 1993, 1994, 1995, 1996, 1997, 1998, 1999, 2000, 2001, 2002, 2003, 2004, 2005, 2006, 2007, 2008, 2009, 2010, 2011, 2012, 2013], \"y\": [5.0, 18.0, 5.0, 8.0, 6.0, 18.0, 25.0, 95.0, 44.0, 152.0, 263.0, 279.0, 276.0, 597.0, 990.0, 1226.0, 1643.0, 1054.0, 449.0, 1.0, 1.0, 6.0, 1.0], \"name\": \"Samoa\"}, {\"type\": \"scatter\", \"x\": [1993, 2002, 2003, 2004, 2005, 2006, 2007, 2008, 2009, 2010, 2011, 2012, 2013, 2014, 2015], \"y\": [1.0, 1.0, 4.0, 72.0, 210.0, 352.0, 233.0, 294.0, 269.0, 276.0, 244.0, 159.0, 320.0, 293.0, 126.0], \"name\": \"Hong Kong\"}, {\"type\": \"scatter\", \"x\": [1999, 2001, 2003, 2004, 2005, 2006, 2007, 2008, 2009, 2010, 2011, 2012, 2013, 2014, 2015], \"y\": [1.0, 1.0, 2.0, 7.0, 10.0, 14.0, 12.0, 9.0, 2.0, 3.0, 3.0, 4.0, 1.0, 1.0, 4.0], \"name\": \"Singapore\"}, {\"type\": \"scatter\", \"x\": [2002, 2006, 2007, 2008], \"y\": [1.0, 15.0, 2.0, 1.0], \"name\": \"Guernsey\"}, {\"type\": \"scatter\", \"x\": [2003, 2004, 2005, 2006, 2007, 2008, 2009, 2010, 2011, 2012, 2013, 2014, 2015], \"y\": [2.0, 60.0, 36.0, 47.0, 47.0, 49.0, 27.0, 31.0, 19.0, 16.0, 27.0, 24.0, 25.0], \"name\": \"Panama\"}, {\"type\": \"scatter\", \"x\": [2004, 2005, 2006, 2007, 2008, 2010, 2012, 2013, 2014, 2015], \"y\": [3.0, 2.0, 21.0, 8.0, 3.0, 1.0, 6.0, 1.0, 7.0, 4.0], \"name\": \"United Arab Emirates\"}, {\"type\": \"scatter\", \"x\": [2004, 2005, 2006, 2007, 2009, 2010, 2011, 2012, 2013, 2014, 2015], \"y\": [1.0, 1.0, 41.0, 3.0, 6.0, 1.0, 2.0, 5.0, 2.0, 6.0, 2.0], \"name\": \"Isle of Man\"}, {\"type\": \"scatter\", \"x\": [2004, 2005, 2006, 2007, 2014, 2015], \"y\": [1.0, 1.0, 5.0, 2.0, 2.0, 2.0], \"name\": \"Luxembourg\"}, {\"type\": \"scatter\", \"x\": [2004, 2005, 2006, 2007, 2008, 2009, 2010, 2011, 2012, 2013, 2014, 2015], \"y\": [3.0, 36.0, 290.0, 172.0, 14.0, 5.0, 1.0, 1.0, 4.0, 2.0, 13.0, 4.0], \"name\": \"Switzerland\"}, {\"type\": \"scatter\", \"x\": [2005, 2006, 2007, 2008, 2009, 2011, 2013, 2014, 2015], \"y\": [2.0, 25.0, 6.0, 2.0, 1.0, 3.0, 1.0, 4.0, 1.0], \"name\": \"United Kingdom\"}, {\"type\": \"scatter\", \"x\": [2005, 2006, 2007], \"y\": [2.0, 14.0, 1.0], \"name\": \"Jersey\"}, {\"type\": \"scatter\", \"x\": [2006, 2007, 2010, 2011, 2012, 2013], \"y\": [16.0, 6.0, 2.0, 1.0, 1.0, 1.0], \"name\": \"Bahamas\"}, {\"type\": \"scatter\", \"x\": [2006, 2011, 2014], \"y\": [7.0, 1.0, 1.0], \"name\": \"Uruguay\"}], {\"title\": \"Samoa incorporations account distribution by Country with time series\", \"xaxis\": {\"rangeslider\": {}, \"type\": \"date\"}}, {\"showLink\": true, \"linkText\": \"Export to plot.ly\"})});</script>"
      ],
      "text/vnd.plotly.v1+html": [
       "<div id=\"f9917ee1-f594-4cdb-ab72-7647825b67b1\" style=\"height: 525px; width: 100%;\" class=\"plotly-graph-div\"></div><script type=\"text/javascript\">require([\"plotly\"], function(Plotly) { window.PLOTLYENV=window.PLOTLYENV || {};window.PLOTLYENV.BASE_URL=\"https://plot.ly\";Plotly.newPlot(\"f9917ee1-f594-4cdb-ab72-7647825b67b1\", [{\"type\": \"scatter\", \"x\": [1991, 1992, 1993, 1994, 1995, 1996, 1997, 1998, 1999, 2000, 2001, 2002, 2003, 2004, 2005, 2006, 2007, 2008, 2009, 2010, 2011, 2012, 2013], \"y\": [5.0, 18.0, 5.0, 8.0, 6.0, 18.0, 25.0, 95.0, 44.0, 152.0, 263.0, 279.0, 276.0, 597.0, 990.0, 1226.0, 1643.0, 1054.0, 449.0, 1.0, 1.0, 6.0, 1.0], \"name\": \"Samoa\"}, {\"type\": \"scatter\", \"x\": [1993, 2002, 2003, 2004, 2005, 2006, 2007, 2008, 2009, 2010, 2011, 2012, 2013, 2014, 2015], \"y\": [1.0, 1.0, 4.0, 72.0, 210.0, 352.0, 233.0, 294.0, 269.0, 276.0, 244.0, 159.0, 320.0, 293.0, 126.0], \"name\": \"Hong Kong\"}, {\"type\": \"scatter\", \"x\": [1999, 2001, 2003, 2004, 2005, 2006, 2007, 2008, 2009, 2010, 2011, 2012, 2013, 2014, 2015], \"y\": [1.0, 1.0, 2.0, 7.0, 10.0, 14.0, 12.0, 9.0, 2.0, 3.0, 3.0, 4.0, 1.0, 1.0, 4.0], \"name\": \"Singapore\"}, {\"type\": \"scatter\", \"x\": [2002, 2006, 2007, 2008], \"y\": [1.0, 15.0, 2.0, 1.0], \"name\": \"Guernsey\"}, {\"type\": \"scatter\", \"x\": [2003, 2004, 2005, 2006, 2007, 2008, 2009, 2010, 2011, 2012, 2013, 2014, 2015], \"y\": [2.0, 60.0, 36.0, 47.0, 47.0, 49.0, 27.0, 31.0, 19.0, 16.0, 27.0, 24.0, 25.0], \"name\": \"Panama\"}, {\"type\": \"scatter\", \"x\": [2004, 2005, 2006, 2007, 2008, 2010, 2012, 2013, 2014, 2015], \"y\": [3.0, 2.0, 21.0, 8.0, 3.0, 1.0, 6.0, 1.0, 7.0, 4.0], \"name\": \"United Arab Emirates\"}, {\"type\": \"scatter\", \"x\": [2004, 2005, 2006, 2007, 2009, 2010, 2011, 2012, 2013, 2014, 2015], \"y\": [1.0, 1.0, 41.0, 3.0, 6.0, 1.0, 2.0, 5.0, 2.0, 6.0, 2.0], \"name\": \"Isle of Man\"}, {\"type\": \"scatter\", \"x\": [2004, 2005, 2006, 2007, 2014, 2015], \"y\": [1.0, 1.0, 5.0, 2.0, 2.0, 2.0], \"name\": \"Luxembourg\"}, {\"type\": \"scatter\", \"x\": [2004, 2005, 2006, 2007, 2008, 2009, 2010, 2011, 2012, 2013, 2014, 2015], \"y\": [3.0, 36.0, 290.0, 172.0, 14.0, 5.0, 1.0, 1.0, 4.0, 2.0, 13.0, 4.0], \"name\": \"Switzerland\"}, {\"type\": \"scatter\", \"x\": [2005, 2006, 2007, 2008, 2009, 2011, 2013, 2014, 2015], \"y\": [2.0, 25.0, 6.0, 2.0, 1.0, 3.0, 1.0, 4.0, 1.0], \"name\": \"United Kingdom\"}, {\"type\": \"scatter\", \"x\": [2005, 2006, 2007], \"y\": [2.0, 14.0, 1.0], \"name\": \"Jersey\"}, {\"type\": \"scatter\", \"x\": [2006, 2007, 2010, 2011, 2012, 2013], \"y\": [16.0, 6.0, 2.0, 1.0, 1.0, 1.0], \"name\": \"Bahamas\"}, {\"type\": \"scatter\", \"x\": [2006, 2011, 2014], \"y\": [7.0, 1.0, 1.0], \"name\": \"Uruguay\"}], {\"title\": \"Samoa incorporations account distribution by Country with time series\", \"xaxis\": {\"rangeslider\": {}, \"type\": \"date\"}}, {\"showLink\": true, \"linkText\": \"Export to plot.ly\"})});</script>"
      ]
     },
     "metadata": {},
     "output_type": "display_data"
    },
    {
     "data": {
      "application/vnd.plotly.v1+json": {
       "data": [
        {
         "name": "United Kingdom",
         "type": "scatter",
         "x": [
          1995,
          1999,
          2000,
          2001,
          2002,
          2003,
          2004,
          2005,
          2006,
          2007,
          2008,
          2009,
          2010,
          2011,
          2012,
          2013,
          2014,
          2015
         ],
         "y": [
          1,
          6,
          9,
          12,
          4,
          17,
          15,
          28,
          33,
          18,
          15,
          28,
          32,
          25,
          17,
          32,
          8,
          13
         ]
        },
        {
         "name": "Hong Kong",
         "type": "scatter",
         "x": [
          1996,
          1999,
          2000,
          2001,
          2002,
          2003,
          2004,
          2005,
          2006,
          2007,
          2008,
          2009,
          2010,
          2011,
          2012,
          2013,
          2014,
          2015
         ],
         "y": [
          1,
          2,
          7,
          43,
          50,
          28,
          31,
          29,
          437,
          408,
          241,
          340,
          218,
          260,
          295,
          604,
          481,
          274
         ]
        },
        {
         "name": "British Virgin Islands",
         "type": "scatter",
         "x": [
          1996,
          2005,
          2006,
          2007,
          2011,
          2013,
          2015
         ],
         "y": [
          2,
          1,
          2,
          1,
          2,
          2,
          1
         ]
        },
        {
         "name": "United Arab Emirates",
         "type": "scatter",
         "x": [
          1996,
          1999,
          2000,
          2001,
          2002,
          2003,
          2004,
          2005,
          2006,
          2007,
          2008,
          2009,
          2010,
          2011,
          2012,
          2013,
          2014,
          2015
         ],
         "y": [
          1,
          1,
          5,
          26,
          42,
          55,
          114,
          132,
          360,
          200,
          166,
          155,
          131,
          143,
          70,
          44,
          60,
          45
         ]
        },
        {
         "name": "Isle of Man",
         "type": "scatter",
         "x": [
          1997,
          1999,
          2000,
          2001,
          2002,
          2004,
          2005,
          2006,
          2007,
          2008,
          2009,
          2011,
          2013,
          2014,
          2015
         ],
         "y": [
          1,
          15,
          7,
          14,
          7,
          3,
          10,
          8,
          1,
          5,
          4,
          2,
          1,
          1,
          1
         ]
        },
        {
         "name": "Singapore",
         "type": "scatter",
         "x": [
          1998,
          1999,
          2000,
          2001,
          2003,
          2004,
          2005,
          2006,
          2007,
          2008,
          2009,
          2010,
          2011,
          2012,
          2013,
          2014,
          2015
         ],
         "y": [
          1,
          3,
          4,
          5,
          1,
          5,
          7,
          13,
          16,
          14,
          4,
          13,
          7,
          5,
          4,
          7,
          5
         ]
        },
        {
         "name": "Panama",
         "type": "scatter",
         "x": [
          1998,
          1999,
          2000,
          2001,
          2002,
          2003,
          2004,
          2005,
          2006,
          2007,
          2008,
          2009,
          2010,
          2011,
          2012,
          2013,
          2014,
          2015
         ],
         "y": [
          6,
          38,
          45,
          65,
          30,
          45,
          80,
          138,
          190,
          175,
          104,
          78,
          59,
          61,
          31,
          42,
          37,
          49
         ]
        },
        {
         "name": "Samoa",
         "type": "scatter",
         "x": [
          1999,
          2000,
          2001,
          2002,
          2003,
          2004,
          2005,
          2006,
          2007,
          2008,
          2009,
          2010,
          2011,
          2012,
          2013,
          2014,
          2015
         ],
         "y": [
          8,
          45,
          50,
          53,
          56,
          66,
          87,
          53,
          68,
          75,
          57,
          53,
          53,
          49,
          56,
          13,
          8
         ]
        },
        {
         "name": "Jersey",
         "type": "scatter",
         "x": [
          1999,
          2000,
          2001,
          2002,
          2003,
          2005,
          2008,
          2010,
          2013
         ],
         "y": [
          2,
          6,
          1,
          1,
          1,
          2,
          1,
          2,
          2
         ]
        },
        {
         "name": "Luxembourg",
         "type": "scatter",
         "x": [
          1999,
          2000,
          2001,
          2002,
          2003,
          2004,
          2005,
          2006,
          2007,
          2008,
          2009,
          2010,
          2011,
          2012,
          2013,
          2014,
          2015
         ],
         "y": [
          9,
          7,
          59,
          12,
          18,
          33,
          221,
          255,
          196,
          169,
          120,
          105,
          101,
          60,
          32,
          23,
          1
         ]
        },
        {
         "name": "Guernsey",
         "type": "scatter",
         "x": [
          1999,
          2000,
          2001,
          2003,
          2004,
          2005,
          2006,
          2007,
          2008,
          2010,
          2011,
          2014
         ],
         "y": [
          3,
          3,
          2,
          1,
          1,
          9,
          22,
          5,
          2,
          2,
          1,
          1
         ]
        },
        {
         "name": "Switzerland",
         "type": "scatter",
         "x": [
          1999,
          2000,
          2001,
          2002,
          2003,
          2004,
          2005,
          2006,
          2007,
          2008,
          2009,
          2010,
          2011,
          2012,
          2013,
          2014,
          2015
         ],
         "y": [
          17,
          27,
          14,
          17,
          43,
          67,
          262,
          198,
          237,
          172,
          163,
          155,
          112,
          58,
          44,
          21,
          24
         ]
        },
        {
         "name": "Bahamas",
         "type": "scatter",
         "x": [
          2000,
          2001,
          2002,
          2003,
          2004,
          2005,
          2006,
          2007,
          2008,
          2009,
          2010,
          2011,
          2012,
          2013,
          2014,
          2015
         ],
         "y": [
          2,
          4,
          10,
          6,
          10,
          7,
          15,
          16,
          3,
          7,
          4,
          11,
          2,
          2,
          5,
          1
         ]
        },
        {
         "name": "Uruguay",
         "type": "scatter",
         "x": [
          2000,
          2002,
          2004,
          2005,
          2006,
          2007,
          2008,
          2009,
          2010,
          2011,
          2012,
          2013,
          2014,
          2015
         ],
         "y": [
          1,
          2,
          1,
          8,
          7,
          13,
          6,
          2,
          5,
          20,
          47,
          33,
          18,
          13
         ]
        }
       ],
       "layout": {
        "title": "Seychelles incorporations account distribution by Country with time series",
        "xaxis": {
         "rangeslider": {},
         "type": "date"
        }
       }
      },
      "text/html": [
       "<div id=\"817881d0-3a42-4dd9-a39f-527086a3b477\" style=\"height: 525px; width: 100%;\" class=\"plotly-graph-div\"></div><script type=\"text/javascript\">require([\"plotly\"], function(Plotly) { window.PLOTLYENV=window.PLOTLYENV || {};window.PLOTLYENV.BASE_URL=\"https://plot.ly\";Plotly.newPlot(\"817881d0-3a42-4dd9-a39f-527086a3b477\", [{\"type\": \"scatter\", \"x\": [1995, 1999, 2000, 2001, 2002, 2003, 2004, 2005, 2006, 2007, 2008, 2009, 2010, 2011, 2012, 2013, 2014, 2015], \"y\": [1.0, 6.0, 9.0, 12.0, 4.0, 17.0, 15.0, 28.0, 33.0, 18.0, 15.0, 28.0, 32.0, 25.0, 17.0, 32.0, 8.0, 13.0], \"name\": \"United Kingdom\"}, {\"type\": \"scatter\", \"x\": [1996, 1999, 2000, 2001, 2002, 2003, 2004, 2005, 2006, 2007, 2008, 2009, 2010, 2011, 2012, 2013, 2014, 2015], \"y\": [1.0, 2.0, 7.0, 43.0, 50.0, 28.0, 31.0, 29.0, 437.0, 408.0, 241.0, 340.0, 218.0, 260.0, 295.0, 604.0, 481.0, 274.0], \"name\": \"Hong Kong\"}, {\"type\": \"scatter\", \"x\": [1996, 2005, 2006, 2007, 2011, 2013, 2015], \"y\": [2.0, 1.0, 2.0, 1.0, 2.0, 2.0, 1.0], \"name\": \"British Virgin Islands\"}, {\"type\": \"scatter\", \"x\": [1996, 1999, 2000, 2001, 2002, 2003, 2004, 2005, 2006, 2007, 2008, 2009, 2010, 2011, 2012, 2013, 2014, 2015], \"y\": [1.0, 1.0, 5.0, 26.0, 42.0, 55.0, 114.0, 132.0, 360.0, 200.0, 166.0, 155.0, 131.0, 143.0, 70.0, 44.0, 60.0, 45.0], \"name\": \"United Arab Emirates\"}, {\"type\": \"scatter\", \"x\": [1997, 1999, 2000, 2001, 2002, 2004, 2005, 2006, 2007, 2008, 2009, 2011, 2013, 2014, 2015], \"y\": [1.0, 15.0, 7.0, 14.0, 7.0, 3.0, 10.0, 8.0, 1.0, 5.0, 4.0, 2.0, 1.0, 1.0, 1.0], \"name\": \"Isle of Man\"}, {\"type\": \"scatter\", \"x\": [1998, 1999, 2000, 2001, 2003, 2004, 2005, 2006, 2007, 2008, 2009, 2010, 2011, 2012, 2013, 2014, 2015], \"y\": [1.0, 3.0, 4.0, 5.0, 1.0, 5.0, 7.0, 13.0, 16.0, 14.0, 4.0, 13.0, 7.0, 5.0, 4.0, 7.0, 5.0], \"name\": \"Singapore\"}, {\"type\": \"scatter\", \"x\": [1998, 1999, 2000, 2001, 2002, 2003, 2004, 2005, 2006, 2007, 2008, 2009, 2010, 2011, 2012, 2013, 2014, 2015], \"y\": [6.0, 38.0, 45.0, 65.0, 30.0, 45.0, 80.0, 138.0, 190.0, 175.0, 104.0, 78.0, 59.0, 61.0, 31.0, 42.0, 37.0, 49.0], \"name\": \"Panama\"}, {\"type\": \"scatter\", \"x\": [1999, 2000, 2001, 2002, 2003, 2004, 2005, 2006, 2007, 2008, 2009, 2010, 2011, 2012, 2013, 2014, 2015], \"y\": [8.0, 45.0, 50.0, 53.0, 56.0, 66.0, 87.0, 53.0, 68.0, 75.0, 57.0, 53.0, 53.0, 49.0, 56.0, 13.0, 8.0], \"name\": \"Samoa\"}, {\"type\": \"scatter\", \"x\": [1999, 2000, 2001, 2002, 2003, 2005, 2008, 2010, 2013], \"y\": [2.0, 6.0, 1.0, 1.0, 1.0, 2.0, 1.0, 2.0, 2.0], \"name\": \"Jersey\"}, {\"type\": \"scatter\", \"x\": [1999, 2000, 2001, 2002, 2003, 2004, 2005, 2006, 2007, 2008, 2009, 2010, 2011, 2012, 2013, 2014, 2015], \"y\": [9.0, 7.0, 59.0, 12.0, 18.0, 33.0, 221.0, 255.0, 196.0, 169.0, 120.0, 105.0, 101.0, 60.0, 32.0, 23.0, 1.0], \"name\": \"Luxembourg\"}, {\"type\": \"scatter\", \"x\": [1999, 2000, 2001, 2003, 2004, 2005, 2006, 2007, 2008, 2010, 2011, 2014], \"y\": [3.0, 3.0, 2.0, 1.0, 1.0, 9.0, 22.0, 5.0, 2.0, 2.0, 1.0, 1.0], \"name\": \"Guernsey\"}, {\"type\": \"scatter\", \"x\": [1999, 2000, 2001, 2002, 2003, 2004, 2005, 2006, 2007, 2008, 2009, 2010, 2011, 2012, 2013, 2014, 2015], \"y\": [17.0, 27.0, 14.0, 17.0, 43.0, 67.0, 262.0, 198.0, 237.0, 172.0, 163.0, 155.0, 112.0, 58.0, 44.0, 21.0, 24.0], \"name\": \"Switzerland\"}, {\"type\": \"scatter\", \"x\": [2000, 2001, 2002, 2003, 2004, 2005, 2006, 2007, 2008, 2009, 2010, 2011, 2012, 2013, 2014, 2015], \"y\": [2.0, 4.0, 10.0, 6.0, 10.0, 7.0, 15.0, 16.0, 3.0, 7.0, 4.0, 11.0, 2.0, 2.0, 5.0, 1.0], \"name\": \"Bahamas\"}, {\"type\": \"scatter\", \"x\": [2000, 2002, 2004, 2005, 2006, 2007, 2008, 2009, 2010, 2011, 2012, 2013, 2014, 2015], \"y\": [1.0, 2.0, 1.0, 8.0, 7.0, 13.0, 6.0, 2.0, 5.0, 20.0, 47.0, 33.0, 18.0, 13.0], \"name\": \"Uruguay\"}], {\"title\": \"Seychelles incorporations account distribution by Country with time series\", \"xaxis\": {\"rangeslider\": {}, \"type\": \"date\"}}, {\"showLink\": true, \"linkText\": \"Export to plot.ly\"})});</script>"
      ],
      "text/vnd.plotly.v1+html": [
       "<div id=\"817881d0-3a42-4dd9-a39f-527086a3b477\" style=\"height: 525px; width: 100%;\" class=\"plotly-graph-div\"></div><script type=\"text/javascript\">require([\"plotly\"], function(Plotly) { window.PLOTLYENV=window.PLOTLYENV || {};window.PLOTLYENV.BASE_URL=\"https://plot.ly\";Plotly.newPlot(\"817881d0-3a42-4dd9-a39f-527086a3b477\", [{\"type\": \"scatter\", \"x\": [1995, 1999, 2000, 2001, 2002, 2003, 2004, 2005, 2006, 2007, 2008, 2009, 2010, 2011, 2012, 2013, 2014, 2015], \"y\": [1.0, 6.0, 9.0, 12.0, 4.0, 17.0, 15.0, 28.0, 33.0, 18.0, 15.0, 28.0, 32.0, 25.0, 17.0, 32.0, 8.0, 13.0], \"name\": \"United Kingdom\"}, {\"type\": \"scatter\", \"x\": [1996, 1999, 2000, 2001, 2002, 2003, 2004, 2005, 2006, 2007, 2008, 2009, 2010, 2011, 2012, 2013, 2014, 2015], \"y\": [1.0, 2.0, 7.0, 43.0, 50.0, 28.0, 31.0, 29.0, 437.0, 408.0, 241.0, 340.0, 218.0, 260.0, 295.0, 604.0, 481.0, 274.0], \"name\": \"Hong Kong\"}, {\"type\": \"scatter\", \"x\": [1996, 2005, 2006, 2007, 2011, 2013, 2015], \"y\": [2.0, 1.0, 2.0, 1.0, 2.0, 2.0, 1.0], \"name\": \"British Virgin Islands\"}, {\"type\": \"scatter\", \"x\": [1996, 1999, 2000, 2001, 2002, 2003, 2004, 2005, 2006, 2007, 2008, 2009, 2010, 2011, 2012, 2013, 2014, 2015], \"y\": [1.0, 1.0, 5.0, 26.0, 42.0, 55.0, 114.0, 132.0, 360.0, 200.0, 166.0, 155.0, 131.0, 143.0, 70.0, 44.0, 60.0, 45.0], \"name\": \"United Arab Emirates\"}, {\"type\": \"scatter\", \"x\": [1997, 1999, 2000, 2001, 2002, 2004, 2005, 2006, 2007, 2008, 2009, 2011, 2013, 2014, 2015], \"y\": [1.0, 15.0, 7.0, 14.0, 7.0, 3.0, 10.0, 8.0, 1.0, 5.0, 4.0, 2.0, 1.0, 1.0, 1.0], \"name\": \"Isle of Man\"}, {\"type\": \"scatter\", \"x\": [1998, 1999, 2000, 2001, 2003, 2004, 2005, 2006, 2007, 2008, 2009, 2010, 2011, 2012, 2013, 2014, 2015], \"y\": [1.0, 3.0, 4.0, 5.0, 1.0, 5.0, 7.0, 13.0, 16.0, 14.0, 4.0, 13.0, 7.0, 5.0, 4.0, 7.0, 5.0], \"name\": \"Singapore\"}, {\"type\": \"scatter\", \"x\": [1998, 1999, 2000, 2001, 2002, 2003, 2004, 2005, 2006, 2007, 2008, 2009, 2010, 2011, 2012, 2013, 2014, 2015], \"y\": [6.0, 38.0, 45.0, 65.0, 30.0, 45.0, 80.0, 138.0, 190.0, 175.0, 104.0, 78.0, 59.0, 61.0, 31.0, 42.0, 37.0, 49.0], \"name\": \"Panama\"}, {\"type\": \"scatter\", \"x\": [1999, 2000, 2001, 2002, 2003, 2004, 2005, 2006, 2007, 2008, 2009, 2010, 2011, 2012, 2013, 2014, 2015], \"y\": [8.0, 45.0, 50.0, 53.0, 56.0, 66.0, 87.0, 53.0, 68.0, 75.0, 57.0, 53.0, 53.0, 49.0, 56.0, 13.0, 8.0], \"name\": \"Samoa\"}, {\"type\": \"scatter\", \"x\": [1999, 2000, 2001, 2002, 2003, 2005, 2008, 2010, 2013], \"y\": [2.0, 6.0, 1.0, 1.0, 1.0, 2.0, 1.0, 2.0, 2.0], \"name\": \"Jersey\"}, {\"type\": \"scatter\", \"x\": [1999, 2000, 2001, 2002, 2003, 2004, 2005, 2006, 2007, 2008, 2009, 2010, 2011, 2012, 2013, 2014, 2015], \"y\": [9.0, 7.0, 59.0, 12.0, 18.0, 33.0, 221.0, 255.0, 196.0, 169.0, 120.0, 105.0, 101.0, 60.0, 32.0, 23.0, 1.0], \"name\": \"Luxembourg\"}, {\"type\": \"scatter\", \"x\": [1999, 2000, 2001, 2003, 2004, 2005, 2006, 2007, 2008, 2010, 2011, 2014], \"y\": [3.0, 3.0, 2.0, 1.0, 1.0, 9.0, 22.0, 5.0, 2.0, 2.0, 1.0, 1.0], \"name\": \"Guernsey\"}, {\"type\": \"scatter\", \"x\": [1999, 2000, 2001, 2002, 2003, 2004, 2005, 2006, 2007, 2008, 2009, 2010, 2011, 2012, 2013, 2014, 2015], \"y\": [17.0, 27.0, 14.0, 17.0, 43.0, 67.0, 262.0, 198.0, 237.0, 172.0, 163.0, 155.0, 112.0, 58.0, 44.0, 21.0, 24.0], \"name\": \"Switzerland\"}, {\"type\": \"scatter\", \"x\": [2000, 2001, 2002, 2003, 2004, 2005, 2006, 2007, 2008, 2009, 2010, 2011, 2012, 2013, 2014, 2015], \"y\": [2.0, 4.0, 10.0, 6.0, 10.0, 7.0, 15.0, 16.0, 3.0, 7.0, 4.0, 11.0, 2.0, 2.0, 5.0, 1.0], \"name\": \"Bahamas\"}, {\"type\": \"scatter\", \"x\": [2000, 2002, 2004, 2005, 2006, 2007, 2008, 2009, 2010, 2011, 2012, 2013, 2014, 2015], \"y\": [1.0, 2.0, 1.0, 8.0, 7.0, 13.0, 6.0, 2.0, 5.0, 20.0, 47.0, 33.0, 18.0, 13.0], \"name\": \"Uruguay\"}], {\"title\": \"Seychelles incorporations account distribution by Country with time series\", \"xaxis\": {\"rangeslider\": {}, \"type\": \"date\"}}, {\"showLink\": true, \"linkText\": \"Export to plot.ly\"})});</script>"
      ]
     },
     "metadata": {},
     "output_type": "display_data"
    },
    {
     "data": {
      "application/vnd.plotly.v1+json": {
       "data": [
        {
         "name": "Singapore",
         "type": "scatter",
         "x": [
          1982,
          1983,
          1984,
          1987,
          1989,
          1990,
          1991,
          1992,
          1993,
          1994,
          1995,
          1996,
          1997,
          1998,
          1999,
          2000,
          2001,
          2002,
          2003,
          2004,
          2005,
          2006,
          2007,
          2008,
          2009
         ],
         "y": [
          2,
          1,
          1,
          2,
          4,
          2,
          2,
          2,
          9,
          9,
          2,
          5,
          10,
          6,
          15,
          14,
          32,
          15,
          29,
          73,
          67,
          85,
          115,
          93,
          69
         ]
        },
        {
         "name": "Hong Kong",
         "type": "scatter",
         "x": [
          2002,
          2003
         ],
         "y": [
          1,
          2
         ]
        },
        {
         "name": "Switzerland",
         "type": "scatter",
         "x": [
          2002
         ],
         "y": [
          3
         ]
        }
       ],
       "layout": {
        "title": "Singapore incorporations account distribution by Country with time series",
        "xaxis": {
         "rangeslider": {},
         "type": "date"
        }
       }
      },
      "text/html": [
       "<div id=\"28d4fd5c-e1e5-4014-b0ba-d24941e14af7\" style=\"height: 525px; width: 100%;\" class=\"plotly-graph-div\"></div><script type=\"text/javascript\">require([\"plotly\"], function(Plotly) { window.PLOTLYENV=window.PLOTLYENV || {};window.PLOTLYENV.BASE_URL=\"https://plot.ly\";Plotly.newPlot(\"28d4fd5c-e1e5-4014-b0ba-d24941e14af7\", [{\"type\": \"scatter\", \"x\": [1982, 1983, 1984, 1987, 1989, 1990, 1991, 1992, 1993, 1994, 1995, 1996, 1997, 1998, 1999, 2000, 2001, 2002, 2003, 2004, 2005, 2006, 2007, 2008, 2009], \"y\": [2.0, 1.0, 1.0, 2.0, 4.0, 2.0, 2.0, 2.0, 9.0, 9.0, 2.0, 5.0, 10.0, 6.0, 15.0, 14.0, 32.0, 15.0, 29.0, 73.0, 67.0, 85.0, 115.0, 93.0, 69.0], \"name\": \"Singapore\"}, {\"type\": \"scatter\", \"x\": [2002, 2003], \"y\": [1.0, 2.0], \"name\": \"Hong Kong\"}, {\"type\": \"scatter\", \"x\": [2002], \"y\": [3.0], \"name\": \"Switzerland\"}], {\"title\": \"Singapore incorporations account distribution by Country with time series\", \"xaxis\": {\"rangeslider\": {}, \"type\": \"date\"}}, {\"showLink\": true, \"linkText\": \"Export to plot.ly\"})});</script>"
      ],
      "text/vnd.plotly.v1+html": [
       "<div id=\"28d4fd5c-e1e5-4014-b0ba-d24941e14af7\" style=\"height: 525px; width: 100%;\" class=\"plotly-graph-div\"></div><script type=\"text/javascript\">require([\"plotly\"], function(Plotly) { window.PLOTLYENV=window.PLOTLYENV || {};window.PLOTLYENV.BASE_URL=\"https://plot.ly\";Plotly.newPlot(\"28d4fd5c-e1e5-4014-b0ba-d24941e14af7\", [{\"type\": \"scatter\", \"x\": [1982, 1983, 1984, 1987, 1989, 1990, 1991, 1992, 1993, 1994, 1995, 1996, 1997, 1998, 1999, 2000, 2001, 2002, 2003, 2004, 2005, 2006, 2007, 2008, 2009], \"y\": [2.0, 1.0, 1.0, 2.0, 4.0, 2.0, 2.0, 2.0, 9.0, 9.0, 2.0, 5.0, 10.0, 6.0, 15.0, 14.0, 32.0, 15.0, 29.0, 73.0, 67.0, 85.0, 115.0, 93.0, 69.0], \"name\": \"Singapore\"}, {\"type\": \"scatter\", \"x\": [2002, 2003], \"y\": [1.0, 2.0], \"name\": \"Hong Kong\"}, {\"type\": \"scatter\", \"x\": [2002], \"y\": [3.0], \"name\": \"Switzerland\"}], {\"title\": \"Singapore incorporations account distribution by Country with time series\", \"xaxis\": {\"rangeslider\": {}, \"type\": \"date\"}}, {\"showLink\": true, \"linkText\": \"Export to plot.ly\"})});</script>"
      ]
     },
     "metadata": {},
     "output_type": "display_data"
    },
    {
     "data": {
      "application/vnd.plotly.v1+json": {
       "data": [
        {
         "name": "Hong Kong",
         "type": "scatter",
         "x": [
          1980
         ],
         "y": [
          2
         ]
        },
        {
         "name": "United Arab Emirates",
         "type": "scatter",
         "x": [
          1980,
          2010
         ],
         "y": [
          2,
          1
         ]
        },
        {
         "name": "United Kingdom",
         "type": "scatter",
         "x": [
          1980,
          2005,
          2009
         ],
         "y": [
          3,
          2,
          1
         ]
        },
        {
         "name": "Panama",
         "type": "scatter",
         "x": [
          1980
         ],
         "y": [
          1
         ]
        },
        {
         "name": "Singapore",
         "type": "scatter",
         "x": [
          1980
         ],
         "y": [
          1
         ]
        },
        {
         "name": "British Virgin Islands",
         "type": "scatter",
         "x": [
          1980,
          1992,
          1994,
          1997,
          2000,
          2001,
          2002,
          2003,
          2006,
          2007,
          2008
         ],
         "y": [
          6,
          3,
          1,
          2,
          3,
          2,
          1,
          3,
          1,
          11,
          3
         ]
        }
       ],
       "layout": {
        "title": "Undetermined incorporations account distribution by Country with time series",
        "xaxis": {
         "rangeslider": {},
         "type": "date"
        }
       }
      },
      "text/html": [
       "<div id=\"ff17638a-baed-4ab1-84ed-1ce0d42da434\" style=\"height: 525px; width: 100%;\" class=\"plotly-graph-div\"></div><script type=\"text/javascript\">require([\"plotly\"], function(Plotly) { window.PLOTLYENV=window.PLOTLYENV || {};window.PLOTLYENV.BASE_URL=\"https://plot.ly\";Plotly.newPlot(\"ff17638a-baed-4ab1-84ed-1ce0d42da434\", [{\"type\": \"scatter\", \"x\": [1980], \"y\": [2.0], \"name\": \"Hong Kong\"}, {\"type\": \"scatter\", \"x\": [1980, 2010], \"y\": [2.0, 1.0], \"name\": \"United Arab Emirates\"}, {\"type\": \"scatter\", \"x\": [1980, 2005, 2009], \"y\": [3.0, 2.0, 1.0], \"name\": \"United Kingdom\"}, {\"type\": \"scatter\", \"x\": [1980], \"y\": [1.0], \"name\": \"Panama\"}, {\"type\": \"scatter\", \"x\": [1980], \"y\": [1.0], \"name\": \"Singapore\"}, {\"type\": \"scatter\", \"x\": [1980, 1992, 1994, 1997, 2000, 2001, 2002, 2003, 2006, 2007, 2008], \"y\": [6.0, 3.0, 1.0, 2.0, 3.0, 2.0, 1.0, 3.0, 1.0, 11.0, 3.0], \"name\": \"British Virgin Islands\"}], {\"title\": \"Undetermined incorporations account distribution by Country with time series\", \"xaxis\": {\"rangeslider\": {}, \"type\": \"date\"}}, {\"showLink\": true, \"linkText\": \"Export to plot.ly\"})});</script>"
      ],
      "text/vnd.plotly.v1+html": [
       "<div id=\"ff17638a-baed-4ab1-84ed-1ce0d42da434\" style=\"height: 525px; width: 100%;\" class=\"plotly-graph-div\"></div><script type=\"text/javascript\">require([\"plotly\"], function(Plotly) { window.PLOTLYENV=window.PLOTLYENV || {};window.PLOTLYENV.BASE_URL=\"https://plot.ly\";Plotly.newPlot(\"ff17638a-baed-4ab1-84ed-1ce0d42da434\", [{\"type\": \"scatter\", \"x\": [1980], \"y\": [2.0], \"name\": \"Hong Kong\"}, {\"type\": \"scatter\", \"x\": [1980, 2010], \"y\": [2.0, 1.0], \"name\": \"United Arab Emirates\"}, {\"type\": \"scatter\", \"x\": [1980, 2005, 2009], \"y\": [3.0, 2.0, 1.0], \"name\": \"United Kingdom\"}, {\"type\": \"scatter\", \"x\": [1980], \"y\": [1.0], \"name\": \"Panama\"}, {\"type\": \"scatter\", \"x\": [1980], \"y\": [1.0], \"name\": \"Singapore\"}, {\"type\": \"scatter\", \"x\": [1980, 1992, 1994, 1997, 2000, 2001, 2002, 2003, 2006, 2007, 2008], \"y\": [6.0, 3.0, 1.0, 2.0, 3.0, 2.0, 1.0, 3.0, 1.0, 11.0, 3.0], \"name\": \"British Virgin Islands\"}], {\"title\": \"Undetermined incorporations account distribution by Country with time series\", \"xaxis\": {\"rangeslider\": {}, \"type\": \"date\"}}, {\"showLink\": true, \"linkText\": \"Export to plot.ly\"})});</script>"
      ]
     },
     "metadata": {},
     "output_type": "display_data"
    },
    {
     "data": {
      "application/vnd.plotly.v1+json": {
       "data": [
        {
         "name": "Uruguay",
         "type": "scatter",
         "x": [
          2004
         ],
         "y": [
          1
         ]
        },
        {
         "name": "Panama",
         "type": "scatter",
         "x": [
          2010,
          2011,
          2012
         ],
         "y": [
          1,
          18,
          3
         ]
        },
        {
         "name": "Bahamas",
         "type": "scatter",
         "x": [
          2010,
          2011
         ],
         "y": [
          1,
          1
         ]
        },
        {
         "name": "Switzerland",
         "type": "scatter",
         "x": [
          2011,
          2012,
          2014,
          2015
         ],
         "y": [
          1,
          3,
          1,
          1
         ]
        },
        {
         "name": "Isle of Man",
         "type": "scatter",
         "x": [
          2011,
          2012,
          2015
         ],
         "y": [
          1,
          4,
          1
         ]
        },
        {
         "name": "Jersey",
         "type": "scatter",
         "x": [
          2011
         ],
         "y": [
          1
         ]
        },
        {
         "name": "Luxembourg",
         "type": "scatter",
         "x": [
          2011,
          2012,
          2013
         ],
         "y": [
          2,
          3,
          1
         ]
        },
        {
         "name": "Guernsey",
         "type": "scatter",
         "x": [
          2015
         ],
         "y": [
          1
         ]
        }
       ],
       "layout": {
        "title": "Cyprus incorporations account distribution by Country with time series",
        "xaxis": {
         "rangeslider": {},
         "type": "date"
        }
       }
      },
      "text/html": [
       "<div id=\"b06ad9a1-168e-4a1e-9d45-2c656ca635dd\" style=\"height: 525px; width: 100%;\" class=\"plotly-graph-div\"></div><script type=\"text/javascript\">require([\"plotly\"], function(Plotly) { window.PLOTLYENV=window.PLOTLYENV || {};window.PLOTLYENV.BASE_URL=\"https://plot.ly\";Plotly.newPlot(\"b06ad9a1-168e-4a1e-9d45-2c656ca635dd\", [{\"type\": \"scatter\", \"x\": [2004], \"y\": [1.0], \"name\": \"Uruguay\"}, {\"type\": \"scatter\", \"x\": [2010, 2011, 2012], \"y\": [1.0, 18.0, 3.0], \"name\": \"Panama\"}, {\"type\": \"scatter\", \"x\": [2010, 2011], \"y\": [1.0, 1.0], \"name\": \"Bahamas\"}, {\"type\": \"scatter\", \"x\": [2011, 2012, 2014, 2015], \"y\": [1.0, 3.0, 1.0, 1.0], \"name\": \"Switzerland\"}, {\"type\": \"scatter\", \"x\": [2011, 2012, 2015], \"y\": [1.0, 4.0, 1.0], \"name\": \"Isle of Man\"}, {\"type\": \"scatter\", \"x\": [2011], \"y\": [1.0], \"name\": \"Jersey\"}, {\"type\": \"scatter\", \"x\": [2011, 2012, 2013], \"y\": [2.0, 3.0, 1.0], \"name\": \"Luxembourg\"}, {\"type\": \"scatter\", \"x\": [2015], \"y\": [1.0], \"name\": \"Guernsey\"}], {\"title\": \"Cyprus incorporations account distribution by Country with time series\", \"xaxis\": {\"rangeslider\": {}, \"type\": \"date\"}}, {\"showLink\": true, \"linkText\": \"Export to plot.ly\"})});</script>"
      ],
      "text/vnd.plotly.v1+html": [
       "<div id=\"b06ad9a1-168e-4a1e-9d45-2c656ca635dd\" style=\"height: 525px; width: 100%;\" class=\"plotly-graph-div\"></div><script type=\"text/javascript\">require([\"plotly\"], function(Plotly) { window.PLOTLYENV=window.PLOTLYENV || {};window.PLOTLYENV.BASE_URL=\"https://plot.ly\";Plotly.newPlot(\"b06ad9a1-168e-4a1e-9d45-2c656ca635dd\", [{\"type\": \"scatter\", \"x\": [2004], \"y\": [1.0], \"name\": \"Uruguay\"}, {\"type\": \"scatter\", \"x\": [2010, 2011, 2012], \"y\": [1.0, 18.0, 3.0], \"name\": \"Panama\"}, {\"type\": \"scatter\", \"x\": [2010, 2011], \"y\": [1.0, 1.0], \"name\": \"Bahamas\"}, {\"type\": \"scatter\", \"x\": [2011, 2012, 2014, 2015], \"y\": [1.0, 3.0, 1.0, 1.0], \"name\": \"Switzerland\"}, {\"type\": \"scatter\", \"x\": [2011, 2012, 2015], \"y\": [1.0, 4.0, 1.0], \"name\": \"Isle of Man\"}, {\"type\": \"scatter\", \"x\": [2011], \"y\": [1.0], \"name\": \"Jersey\"}, {\"type\": \"scatter\", \"x\": [2011, 2012, 2013], \"y\": [2.0, 3.0, 1.0], \"name\": \"Luxembourg\"}, {\"type\": \"scatter\", \"x\": [2015], \"y\": [1.0], \"name\": \"Guernsey\"}], {\"title\": \"Cyprus incorporations account distribution by Country with time series\", \"xaxis\": {\"rangeslider\": {}, \"type\": \"date\"}}, {\"showLink\": true, \"linkText\": \"Export to plot.ly\"})});</script>"
      ]
     },
     "metadata": {},
     "output_type": "display_data"
    },
    {
     "data": {
      "application/vnd.plotly.v1+json": {
       "data": [
        {
         "name": "Luxembourg",
         "type": "scatter",
         "x": [
          2008,
          2010,
          2013,
          2014
         ],
         "y": [
          1,
          1,
          1,
          3
         ]
        },
        {
         "name": "Panama",
         "type": "scatter",
         "x": [
          2013
         ],
         "y": [
          1
         ]
        },
        {
         "name": "Jersey",
         "type": "scatter",
         "x": [
          2013,
          2014,
          2015
         ],
         "y": [
          1,
          1,
          1
         ]
        },
        {
         "name": "Bahamas",
         "type": "scatter",
         "x": [
          2013
         ],
         "y": [
          1
         ]
        },
        {
         "name": "Switzerland",
         "type": "scatter",
         "x": [
          2014
         ],
         "y": [
          1
         ]
        },
        {
         "name": "United Kingdom",
         "type": "scatter",
         "x": [
          2014,
          2015
         ],
         "y": [
          5,
          1
         ]
        },
        {
         "name": "Uruguay",
         "type": "scatter",
         "x": [
          2015
         ],
         "y": [
          1
         ]
        }
       ],
       "layout": {
        "title": "Malta incorporations account distribution by Country with time series",
        "xaxis": {
         "rangeslider": {},
         "type": "date"
        }
       }
      },
      "text/html": [
       "<div id=\"39df74bf-9d9e-4c99-84c6-5c7de3d1fb42\" style=\"height: 525px; width: 100%;\" class=\"plotly-graph-div\"></div><script type=\"text/javascript\">require([\"plotly\"], function(Plotly) { window.PLOTLYENV=window.PLOTLYENV || {};window.PLOTLYENV.BASE_URL=\"https://plot.ly\";Plotly.newPlot(\"39df74bf-9d9e-4c99-84c6-5c7de3d1fb42\", [{\"type\": \"scatter\", \"x\": [2008, 2010, 2013, 2014], \"y\": [1.0, 1.0, 1.0, 3.0], \"name\": \"Luxembourg\"}, {\"type\": \"scatter\", \"x\": [2013], \"y\": [1.0], \"name\": \"Panama\"}, {\"type\": \"scatter\", \"x\": [2013, 2014, 2015], \"y\": [1.0, 1.0, 1.0], \"name\": \"Jersey\"}, {\"type\": \"scatter\", \"x\": [2013], \"y\": [1.0], \"name\": \"Bahamas\"}, {\"type\": \"scatter\", \"x\": [2014], \"y\": [1.0], \"name\": \"Switzerland\"}, {\"type\": \"scatter\", \"x\": [2014, 2015], \"y\": [5.0, 1.0], \"name\": \"United Kingdom\"}, {\"type\": \"scatter\", \"x\": [2015], \"y\": [1.0], \"name\": \"Uruguay\"}], {\"title\": \"Malta incorporations account distribution by Country with time series\", \"xaxis\": {\"rangeslider\": {}, \"type\": \"date\"}}, {\"showLink\": true, \"linkText\": \"Export to plot.ly\"})});</script>"
      ],
      "text/vnd.plotly.v1+html": [
       "<div id=\"39df74bf-9d9e-4c99-84c6-5c7de3d1fb42\" style=\"height: 525px; width: 100%;\" class=\"plotly-graph-div\"></div><script type=\"text/javascript\">require([\"plotly\"], function(Plotly) { window.PLOTLYENV=window.PLOTLYENV || {};window.PLOTLYENV.BASE_URL=\"https://plot.ly\";Plotly.newPlot(\"39df74bf-9d9e-4c99-84c6-5c7de3d1fb42\", [{\"type\": \"scatter\", \"x\": [2008, 2010, 2013, 2014], \"y\": [1.0, 1.0, 1.0, 3.0], \"name\": \"Luxembourg\"}, {\"type\": \"scatter\", \"x\": [2013], \"y\": [1.0], \"name\": \"Panama\"}, {\"type\": \"scatter\", \"x\": [2013, 2014, 2015], \"y\": [1.0, 1.0, 1.0], \"name\": \"Jersey\"}, {\"type\": \"scatter\", \"x\": [2013], \"y\": [1.0], \"name\": \"Bahamas\"}, {\"type\": \"scatter\", \"x\": [2014], \"y\": [1.0], \"name\": \"Switzerland\"}, {\"type\": \"scatter\", \"x\": [2014, 2015], \"y\": [5.0, 1.0], \"name\": \"United Kingdom\"}, {\"type\": \"scatter\", \"x\": [2015], \"y\": [1.0], \"name\": \"Uruguay\"}], {\"title\": \"Malta incorporations account distribution by Country with time series\", \"xaxis\": {\"rangeslider\": {}, \"type\": \"date\"}}, {\"showLink\": true, \"linkText\": \"Export to plot.ly\"})});</script>"
      ]
     },
     "metadata": {},
     "output_type": "display_data"
    },
    {
     "data": {
      "application/vnd.plotly.v1+json": {
       "data": [
        {
         "name": "Switzerland",
         "type": "scatter",
         "x": [
          2015
         ],
         "y": [
          1
         ]
        },
        {
         "name": "Isle of Man",
         "type": "scatter",
         "x": [
          2015
         ],
         "y": [
          1
         ]
        }
       ],
       "layout": {
        "title": "Ras Al Khaimah incorporations account distribution by Country with time series",
        "xaxis": {
         "rangeslider": {},
         "type": "date"
        }
       }
      },
      "text/html": [
       "<div id=\"5a3260ed-8c56-40b6-8889-3a304b764688\" style=\"height: 525px; width: 100%;\" class=\"plotly-graph-div\"></div><script type=\"text/javascript\">require([\"plotly\"], function(Plotly) { window.PLOTLYENV=window.PLOTLYENV || {};window.PLOTLYENV.BASE_URL=\"https://plot.ly\";Plotly.newPlot(\"5a3260ed-8c56-40b6-8889-3a304b764688\", [{\"type\": \"scatter\", \"x\": [2015], \"y\": [1.0], \"name\": \"Switzerland\"}, {\"type\": \"scatter\", \"x\": [2015], \"y\": [1.0], \"name\": \"Isle of Man\"}], {\"title\": \"Ras Al Khaimah incorporations account distribution by Country with time series\", \"xaxis\": {\"rangeslider\": {}, \"type\": \"date\"}}, {\"showLink\": true, \"linkText\": \"Export to plot.ly\"})});</script>"
      ],
      "text/vnd.plotly.v1+html": [
       "<div id=\"5a3260ed-8c56-40b6-8889-3a304b764688\" style=\"height: 525px; width: 100%;\" class=\"plotly-graph-div\"></div><script type=\"text/javascript\">require([\"plotly\"], function(Plotly) { window.PLOTLYENV=window.PLOTLYENV || {};window.PLOTLYENV.BASE_URL=\"https://plot.ly\";Plotly.newPlot(\"5a3260ed-8c56-40b6-8889-3a304b764688\", [{\"type\": \"scatter\", \"x\": [2015], \"y\": [1.0], \"name\": \"Switzerland\"}, {\"type\": \"scatter\", \"x\": [2015], \"y\": [1.0], \"name\": \"Isle of Man\"}], {\"title\": \"Ras Al Khaimah incorporations account distribution by Country with time series\", \"xaxis\": {\"rangeslider\": {}, \"type\": \"date\"}}, {\"showLink\": true, \"linkText\": \"Export to plot.ly\"})});</script>"
      ]
     },
     "metadata": {},
     "output_type": "display_data"
    },
    {
     "data": {
      "application/vnd.plotly.v1+json": {
       "data": [
        {
         "name": "United Kingdom",
         "type": "scatter",
         "x": [
          1987,
          1997,
          2000,
          2002,
          2003,
          2004,
          2005,
          2006,
          2007,
          2008,
          2009,
          2010,
          2011,
          2012,
          2013,
          2015
         ],
         "y": [
          1,
          1,
          1,
          1,
          2,
          1,
          7,
          8,
          6,
          5,
          4,
          4,
          5,
          2,
          5,
          1
         ]
        },
        {
         "name": "Jersey",
         "type": "scatter",
         "x": [
          2000,
          2002,
          2004,
          2006,
          2012,
          2013
         ],
         "y": [
          1,
          1,
          1,
          1,
          1,
          1
         ]
        },
        {
         "name": "Luxembourg",
         "type": "scatter",
         "x": [
          2001
         ],
         "y": [
          1
         ]
        },
        {
         "name": "Bahamas",
         "type": "scatter",
         "x": [
          2006,
          2008,
          2013
         ],
         "y": [
          1,
          1,
          2
         ]
        },
        {
         "name": "Panama",
         "type": "scatter",
         "x": [
          2013,
          2014,
          2015
         ],
         "y": [
          1,
          3,
          1
         ]
        },
        {
         "name": "Uruguay",
         "type": "scatter",
         "x": [
          2014,
          2015
         ],
         "y": [
          2,
          1
         ]
        },
        {
         "name": "Switzerland",
         "type": "scatter",
         "x": [
          2014,
          2015
         ],
         "y": [
          1,
          1
         ]
        },
        {
         "name": "Isle of Man",
         "type": "scatter",
         "x": [
          2014,
          2015
         ],
         "y": [
          1,
          1
         ]
        }
       ],
       "layout": {
        "title": "United Kingdom incorporations account distribution by Country with time series",
        "xaxis": {
         "rangeslider": {},
         "type": "date"
        }
       }
      },
      "text/html": [
       "<div id=\"4e7738d6-ca1e-4175-8f89-3f682e0462ec\" style=\"height: 525px; width: 100%;\" class=\"plotly-graph-div\"></div><script type=\"text/javascript\">require([\"plotly\"], function(Plotly) { window.PLOTLYENV=window.PLOTLYENV || {};window.PLOTLYENV.BASE_URL=\"https://plot.ly\";Plotly.newPlot(\"4e7738d6-ca1e-4175-8f89-3f682e0462ec\", [{\"type\": \"scatter\", \"x\": [1987, 1997, 2000, 2002, 2003, 2004, 2005, 2006, 2007, 2008, 2009, 2010, 2011, 2012, 2013, 2015], \"y\": [1.0, 1.0, 1.0, 1.0, 2.0, 1.0, 7.0, 8.0, 6.0, 5.0, 4.0, 4.0, 5.0, 2.0, 5.0, 1.0], \"name\": \"United Kingdom\"}, {\"type\": \"scatter\", \"x\": [2000, 2002, 2004, 2006, 2012, 2013], \"y\": [1.0, 1.0, 1.0, 1.0, 1.0, 1.0], \"name\": \"Jersey\"}, {\"type\": \"scatter\", \"x\": [2001], \"y\": [1.0], \"name\": \"Luxembourg\"}, {\"type\": \"scatter\", \"x\": [2006, 2008, 2013], \"y\": [1.0, 1.0, 2.0], \"name\": \"Bahamas\"}, {\"type\": \"scatter\", \"x\": [2013, 2014, 2015], \"y\": [1.0, 3.0, 1.0], \"name\": \"Panama\"}, {\"type\": \"scatter\", \"x\": [2014, 2015], \"y\": [2.0, 1.0], \"name\": \"Uruguay\"}, {\"type\": \"scatter\", \"x\": [2014, 2015], \"y\": [1.0, 1.0], \"name\": \"Switzerland\"}, {\"type\": \"scatter\", \"x\": [2014, 2015], \"y\": [1.0, 1.0], \"name\": \"Isle of Man\"}], {\"title\": \"United Kingdom incorporations account distribution by Country with time series\", \"xaxis\": {\"rangeslider\": {}, \"type\": \"date\"}}, {\"showLink\": true, \"linkText\": \"Export to plot.ly\"})});</script>"
      ],
      "text/vnd.plotly.v1+html": [
       "<div id=\"4e7738d6-ca1e-4175-8f89-3f682e0462ec\" style=\"height: 525px; width: 100%;\" class=\"plotly-graph-div\"></div><script type=\"text/javascript\">require([\"plotly\"], function(Plotly) { window.PLOTLYENV=window.PLOTLYENV || {};window.PLOTLYENV.BASE_URL=\"https://plot.ly\";Plotly.newPlot(\"4e7738d6-ca1e-4175-8f89-3f682e0462ec\", [{\"type\": \"scatter\", \"x\": [1987, 1997, 2000, 2002, 2003, 2004, 2005, 2006, 2007, 2008, 2009, 2010, 2011, 2012, 2013, 2015], \"y\": [1.0, 1.0, 1.0, 1.0, 2.0, 1.0, 7.0, 8.0, 6.0, 5.0, 4.0, 4.0, 5.0, 2.0, 5.0, 1.0], \"name\": \"United Kingdom\"}, {\"type\": \"scatter\", \"x\": [2000, 2002, 2004, 2006, 2012, 2013], \"y\": [1.0, 1.0, 1.0, 1.0, 1.0, 1.0], \"name\": \"Jersey\"}, {\"type\": \"scatter\", \"x\": [2001], \"y\": [1.0], \"name\": \"Luxembourg\"}, {\"type\": \"scatter\", \"x\": [2006, 2008, 2013], \"y\": [1.0, 1.0, 2.0], \"name\": \"Bahamas\"}, {\"type\": \"scatter\", \"x\": [2013, 2014, 2015], \"y\": [1.0, 3.0, 1.0], \"name\": \"Panama\"}, {\"type\": \"scatter\", \"x\": [2014, 2015], \"y\": [2.0, 1.0], \"name\": \"Uruguay\"}, {\"type\": \"scatter\", \"x\": [2014, 2015], \"y\": [1.0, 1.0], \"name\": \"Switzerland\"}, {\"type\": \"scatter\", \"x\": [2014, 2015], \"y\": [1.0, 1.0], \"name\": \"Isle of Man\"}], {\"title\": \"United Kingdom incorporations account distribution by Country with time series\", \"xaxis\": {\"rangeslider\": {}, \"type\": \"date\"}}, {\"showLink\": true, \"linkText\": \"Export to plot.ly\"})});</script>"
      ]
     },
     "metadata": {},
     "output_type": "display_data"
    },
    {
     "data": {
      "application/vnd.plotly.v1+json": {
       "data": [
        {
         "name": "Panama",
         "type": "scatter",
         "x": [
          2000,
          2001,
          2002,
          2003
         ],
         "y": [
          2,
          3,
          1,
          1
         ]
        },
        {
         "name": "Luxembourg",
         "type": "scatter",
         "x": [
          2000
         ],
         "y": [
          1
         ]
        },
        {
         "name": "Uruguay",
         "type": "scatter",
         "x": [
          2000,
          2001,
          2002,
          2003,
          2009,
          2010,
          2012,
          2013,
          2014
         ],
         "y": [
          1,
          2,
          2,
          1,
          1,
          1,
          1,
          1,
          2
         ]
        },
        {
         "name": "Bahamas",
         "type": "scatter",
         "x": [
          2001,
          2006
         ],
         "y": [
          1,
          1
         ]
        },
        {
         "name": "Guernsey",
         "type": "scatter",
         "x": [
          2003
         ],
         "y": [
          1
         ]
        },
        {
         "name": "Switzerland",
         "type": "scatter",
         "x": [
          2004,
          2006
         ],
         "y": [
          1,
          1
         ]
        },
        {
         "name": "Isle of Man",
         "type": "scatter",
         "x": [
          2005
         ],
         "y": [
          1
         ]
        }
       ],
       "layout": {
        "title": "Uruguay incorporations account distribution by Country with time series",
        "xaxis": {
         "rangeslider": {},
         "type": "date"
        }
       }
      },
      "text/html": [
       "<div id=\"3d9f216b-8110-439a-8fc5-5b1bae9b3d58\" style=\"height: 525px; width: 100%;\" class=\"plotly-graph-div\"></div><script type=\"text/javascript\">require([\"plotly\"], function(Plotly) { window.PLOTLYENV=window.PLOTLYENV || {};window.PLOTLYENV.BASE_URL=\"https://plot.ly\";Plotly.newPlot(\"3d9f216b-8110-439a-8fc5-5b1bae9b3d58\", [{\"type\": \"scatter\", \"x\": [2000, 2001, 2002, 2003], \"y\": [2.0, 3.0, 1.0, 1.0], \"name\": \"Panama\"}, {\"type\": \"scatter\", \"x\": [2000], \"y\": [1.0], \"name\": \"Luxembourg\"}, {\"type\": \"scatter\", \"x\": [2000, 2001, 2002, 2003, 2009, 2010, 2012, 2013, 2014], \"y\": [1.0, 2.0, 2.0, 1.0, 1.0, 1.0, 1.0, 1.0, 2.0], \"name\": \"Uruguay\"}, {\"type\": \"scatter\", \"x\": [2001, 2006], \"y\": [1.0, 1.0], \"name\": \"Bahamas\"}, {\"type\": \"scatter\", \"x\": [2003], \"y\": [1.0], \"name\": \"Guernsey\"}, {\"type\": \"scatter\", \"x\": [2004, 2006], \"y\": [1.0, 1.0], \"name\": \"Switzerland\"}, {\"type\": \"scatter\", \"x\": [2005], \"y\": [1.0], \"name\": \"Isle of Man\"}], {\"title\": \"Uruguay incorporations account distribution by Country with time series\", \"xaxis\": {\"rangeslider\": {}, \"type\": \"date\"}}, {\"showLink\": true, \"linkText\": \"Export to plot.ly\"})});</script>"
      ],
      "text/vnd.plotly.v1+html": [
       "<div id=\"3d9f216b-8110-439a-8fc5-5b1bae9b3d58\" style=\"height: 525px; width: 100%;\" class=\"plotly-graph-div\"></div><script type=\"text/javascript\">require([\"plotly\"], function(Plotly) { window.PLOTLYENV=window.PLOTLYENV || {};window.PLOTLYENV.BASE_URL=\"https://plot.ly\";Plotly.newPlot(\"3d9f216b-8110-439a-8fc5-5b1bae9b3d58\", [{\"type\": \"scatter\", \"x\": [2000, 2001, 2002, 2003], \"y\": [2.0, 3.0, 1.0, 1.0], \"name\": \"Panama\"}, {\"type\": \"scatter\", \"x\": [2000], \"y\": [1.0], \"name\": \"Luxembourg\"}, {\"type\": \"scatter\", \"x\": [2000, 2001, 2002, 2003, 2009, 2010, 2012, 2013, 2014], \"y\": [1.0, 2.0, 2.0, 1.0, 1.0, 1.0, 1.0, 1.0, 2.0], \"name\": \"Uruguay\"}, {\"type\": \"scatter\", \"x\": [2001, 2006], \"y\": [1.0, 1.0], \"name\": \"Bahamas\"}, {\"type\": \"scatter\", \"x\": [2003], \"y\": [1.0], \"name\": \"Guernsey\"}, {\"type\": \"scatter\", \"x\": [2004, 2006], \"y\": [1.0, 1.0], \"name\": \"Switzerland\"}, {\"type\": \"scatter\", \"x\": [2005], \"y\": [1.0], \"name\": \"Isle of Man\"}], {\"title\": \"Uruguay incorporations account distribution by Country with time series\", \"xaxis\": {\"rangeslider\": {}, \"type\": \"date\"}}, {\"showLink\": true, \"linkText\": \"Export to plot.ly\"})});</script>"
      ]
     },
     "metadata": {},
     "output_type": "display_data"
    },
    {
     "data": {
      "application/vnd.plotly.v1+json": {
       "data": [
        {
         "name": "Panama",
         "type": "scatter",
         "x": [
          2014,
          2015
         ],
         "y": [
          1,
          4
         ]
        },
        {
         "name": "Bahamas",
         "type": "scatter",
         "x": [
          2014,
          2015
         ],
         "y": [
          8,
          1
         ]
        },
        {
         "name": "Uruguay",
         "type": "scatter",
         "x": [
          2014
         ],
         "y": [
          8
         ]
        },
        {
         "name": "Luxembourg",
         "type": "scatter",
         "x": [
          2015
         ],
         "y": [
          1
         ]
        }
       ],
       "layout": {
        "title": "Costa Rica incorporations account distribution by Country with time series",
        "xaxis": {
         "rangeslider": {},
         "type": "date"
        }
       }
      },
      "text/html": [
       "<div id=\"c5d861cf-c59e-478d-bfe5-92a865804bf1\" style=\"height: 525px; width: 100%;\" class=\"plotly-graph-div\"></div><script type=\"text/javascript\">require([\"plotly\"], function(Plotly) { window.PLOTLYENV=window.PLOTLYENV || {};window.PLOTLYENV.BASE_URL=\"https://plot.ly\";Plotly.newPlot(\"c5d861cf-c59e-478d-bfe5-92a865804bf1\", [{\"type\": \"scatter\", \"x\": [2014, 2015], \"y\": [1.0, 4.0], \"name\": \"Panama\"}, {\"type\": \"scatter\", \"x\": [2014, 2015], \"y\": [8.0, 1.0], \"name\": \"Bahamas\"}, {\"type\": \"scatter\", \"x\": [2014], \"y\": [8.0], \"name\": \"Uruguay\"}, {\"type\": \"scatter\", \"x\": [2015], \"y\": [1.0], \"name\": \"Luxembourg\"}], {\"title\": \"Costa Rica incorporations account distribution by Country with time series\", \"xaxis\": {\"rangeslider\": {}, \"type\": \"date\"}}, {\"showLink\": true, \"linkText\": \"Export to plot.ly\"})});</script>"
      ],
      "text/vnd.plotly.v1+html": [
       "<div id=\"c5d861cf-c59e-478d-bfe5-92a865804bf1\" style=\"height: 525px; width: 100%;\" class=\"plotly-graph-div\"></div><script type=\"text/javascript\">require([\"plotly\"], function(Plotly) { window.PLOTLYENV=window.PLOTLYENV || {};window.PLOTLYENV.BASE_URL=\"https://plot.ly\";Plotly.newPlot(\"c5d861cf-c59e-478d-bfe5-92a865804bf1\", [{\"type\": \"scatter\", \"x\": [2014, 2015], \"y\": [1.0, 4.0], \"name\": \"Panama\"}, {\"type\": \"scatter\", \"x\": [2014, 2015], \"y\": [8.0, 1.0], \"name\": \"Bahamas\"}, {\"type\": \"scatter\", \"x\": [2014], \"y\": [8.0], \"name\": \"Uruguay\"}, {\"type\": \"scatter\", \"x\": [2015], \"y\": [1.0], \"name\": \"Luxembourg\"}], {\"title\": \"Costa Rica incorporations account distribution by Country with time series\", \"xaxis\": {\"rangeslider\": {}, \"type\": \"date\"}}, {\"showLink\": true, \"linkText\": \"Export to plot.ly\"})});</script>"
      ]
     },
     "metadata": {},
     "output_type": "display_data"
    },
    {
     "data": {
      "application/vnd.plotly.v1+json": {
       "data": [
        {
         "name": "Panama",
         "type": "scatter",
         "x": [
          2013
         ],
         "y": [
          2
         ]
        }
       ],
       "layout": {
        "title": "New Zealand incorporations account distribution by Country with time series",
        "xaxis": {
         "rangeslider": {},
         "type": "date"
        }
       }
      },
      "text/html": [
       "<div id=\"e531244a-3da8-45d4-b8d3-2e998350c550\" style=\"height: 525px; width: 100%;\" class=\"plotly-graph-div\"></div><script type=\"text/javascript\">require([\"plotly\"], function(Plotly) { window.PLOTLYENV=window.PLOTLYENV || {};window.PLOTLYENV.BASE_URL=\"https://plot.ly\";Plotly.newPlot(\"e531244a-3da8-45d4-b8d3-2e998350c550\", [{\"type\": \"scatter\", \"x\": [2013], \"y\": [2.0], \"name\": \"Panama\"}], {\"title\": \"New Zealand incorporations account distribution by Country with time series\", \"xaxis\": {\"rangeslider\": {}, \"type\": \"date\"}}, {\"showLink\": true, \"linkText\": \"Export to plot.ly\"})});</script>"
      ],
      "text/vnd.plotly.v1+html": [
       "<div id=\"e531244a-3da8-45d4-b8d3-2e998350c550\" style=\"height: 525px; width: 100%;\" class=\"plotly-graph-div\"></div><script type=\"text/javascript\">require([\"plotly\"], function(Plotly) { window.PLOTLYENV=window.PLOTLYENV || {};window.PLOTLYENV.BASE_URL=\"https://plot.ly\";Plotly.newPlot(\"e531244a-3da8-45d4-b8d3-2e998350c550\", [{\"type\": \"scatter\", \"x\": [2013], \"y\": [2.0], \"name\": \"Panama\"}], {\"title\": \"New Zealand incorporations account distribution by Country with time series\", \"xaxis\": {\"rangeslider\": {}, \"type\": \"date\"}}, {\"showLink\": true, \"linkText\": \"Export to plot.ly\"})});</script>"
      ]
     },
     "metadata": {},
     "output_type": "display_data"
    },
    {
     "data": {
      "application/vnd.plotly.v1+json": {
       "data": [
        {
         "name": "United Kingdom",
         "type": "scatter",
         "x": [
          2011
         ],
         "y": [
          1
         ]
        },
        {
         "name": "Panama",
         "type": "scatter",
         "x": [
          2012,
          2014
         ],
         "y": [
          4,
          1
         ]
        },
        {
         "name": "Bahamas",
         "type": "scatter",
         "x": [
          2012,
          2013,
          2014
         ],
         "y": [
          2,
          6,
          7
         ]
        },
        {
         "name": "Uruguay",
         "type": "scatter",
         "x": [
          2012,
          2013,
          2014,
          2015
         ],
         "y": [
          1,
          1,
          4,
          1
         ]
        },
        {
         "name": "Jersey",
         "type": "scatter",
         "x": [
          2014
         ],
         "y": [
          1
         ]
        },
        {
         "name": "Luxembourg",
         "type": "scatter",
         "x": [
          2014
         ],
         "y": [
          1
         ]
        }
       ],
       "layout": {
        "title": "Wyoming incorporations account distribution by Country with time series",
        "xaxis": {
         "rangeslider": {},
         "type": "date"
        }
       }
      },
      "text/html": [
       "<div id=\"51699912-e49b-4635-814c-b24909935aa2\" style=\"height: 525px; width: 100%;\" class=\"plotly-graph-div\"></div><script type=\"text/javascript\">require([\"plotly\"], function(Plotly) { window.PLOTLYENV=window.PLOTLYENV || {};window.PLOTLYENV.BASE_URL=\"https://plot.ly\";Plotly.newPlot(\"51699912-e49b-4635-814c-b24909935aa2\", [{\"type\": \"scatter\", \"x\": [2011], \"y\": [1.0], \"name\": \"United Kingdom\"}, {\"type\": \"scatter\", \"x\": [2012, 2014], \"y\": [4.0, 1.0], \"name\": \"Panama\"}, {\"type\": \"scatter\", \"x\": [2012, 2013, 2014], \"y\": [2.0, 6.0, 7.0], \"name\": \"Bahamas\"}, {\"type\": \"scatter\", \"x\": [2012, 2013, 2014, 2015], \"y\": [1.0, 1.0, 4.0, 1.0], \"name\": \"Uruguay\"}, {\"type\": \"scatter\", \"x\": [2014], \"y\": [1.0], \"name\": \"Jersey\"}, {\"type\": \"scatter\", \"x\": [2014], \"y\": [1.0], \"name\": \"Luxembourg\"}], {\"title\": \"Wyoming incorporations account distribution by Country with time series\", \"xaxis\": {\"rangeslider\": {}, \"type\": \"date\"}}, {\"showLink\": true, \"linkText\": \"Export to plot.ly\"})});</script>"
      ],
      "text/vnd.plotly.v1+html": [
       "<div id=\"51699912-e49b-4635-814c-b24909935aa2\" style=\"height: 525px; width: 100%;\" class=\"plotly-graph-div\"></div><script type=\"text/javascript\">require([\"plotly\"], function(Plotly) { window.PLOTLYENV=window.PLOTLYENV || {};window.PLOTLYENV.BASE_URL=\"https://plot.ly\";Plotly.newPlot(\"51699912-e49b-4635-814c-b24909935aa2\", [{\"type\": \"scatter\", \"x\": [2011], \"y\": [1.0], \"name\": \"United Kingdom\"}, {\"type\": \"scatter\", \"x\": [2012, 2014], \"y\": [4.0, 1.0], \"name\": \"Panama\"}, {\"type\": \"scatter\", \"x\": [2012, 2013, 2014], \"y\": [2.0, 6.0, 7.0], \"name\": \"Bahamas\"}, {\"type\": \"scatter\", \"x\": [2012, 2013, 2014, 2015], \"y\": [1.0, 1.0, 4.0, 1.0], \"name\": \"Uruguay\"}, {\"type\": \"scatter\", \"x\": [2014], \"y\": [1.0], \"name\": \"Jersey\"}, {\"type\": \"scatter\", \"x\": [2014], \"y\": [1.0], \"name\": \"Luxembourg\"}], {\"title\": \"Wyoming incorporations account distribution by Country with time series\", \"xaxis\": {\"rangeslider\": {}, \"type\": \"date\"}}, {\"showLink\": true, \"linkText\": \"Export to plot.ly\"})});</script>"
      ]
     },
     "metadata": {},
     "output_type": "display_data"
    },
    {
     "data": {
      "application/vnd.plotly.v1+json": {
       "data": [
        {
         "name": "Jersey",
         "type": "scatter",
         "x": [
          1980,
          1981,
          1985,
          1986,
          1987,
          1989,
          1990,
          1991,
          1992,
          1994,
          1996,
          1997,
          1998,
          1999,
          2001,
          2005
         ],
         "y": [
          1,
          1,
          1,
          2,
          2,
          2,
          3,
          3,
          6,
          1,
          2,
          3,
          4,
          3,
          1,
          1
         ]
        }
       ],
       "layout": {
        "title": "Jersey incorporations account distribution by Country with time series",
        "xaxis": {
         "rangeslider": {},
         "type": "date"
        }
       }
      },
      "text/html": [
       "<div id=\"c99434b7-224e-4673-b4bb-6bacd7c1aed2\" style=\"height: 525px; width: 100%;\" class=\"plotly-graph-div\"></div><script type=\"text/javascript\">require([\"plotly\"], function(Plotly) { window.PLOTLYENV=window.PLOTLYENV || {};window.PLOTLYENV.BASE_URL=\"https://plot.ly\";Plotly.newPlot(\"c99434b7-224e-4673-b4bb-6bacd7c1aed2\", [{\"type\": \"scatter\", \"x\": [1980, 1981, 1985, 1986, 1987, 1989, 1990, 1991, 1992, 1994, 1996, 1997, 1998, 1999, 2001, 2005], \"y\": [1.0, 1.0, 1.0, 2.0, 2.0, 2.0, 3.0, 3.0, 6.0, 1.0, 2.0, 3.0, 4.0, 3.0, 1.0, 1.0], \"name\": \"Jersey\"}], {\"title\": \"Jersey incorporations account distribution by Country with time series\", \"xaxis\": {\"rangeslider\": {}, \"type\": \"date\"}}, {\"showLink\": true, \"linkText\": \"Export to plot.ly\"})});</script>"
      ],
      "text/vnd.plotly.v1+html": [
       "<div id=\"c99434b7-224e-4673-b4bb-6bacd7c1aed2\" style=\"height: 525px; width: 100%;\" class=\"plotly-graph-div\"></div><script type=\"text/javascript\">require([\"plotly\"], function(Plotly) { window.PLOTLYENV=window.PLOTLYENV || {};window.PLOTLYENV.BASE_URL=\"https://plot.ly\";Plotly.newPlot(\"c99434b7-224e-4673-b4bb-6bacd7c1aed2\", [{\"type\": \"scatter\", \"x\": [1980, 1981, 1985, 1986, 1987, 1989, 1990, 1991, 1992, 1994, 1996, 1997, 1998, 1999, 2001, 2005], \"y\": [1.0, 1.0, 1.0, 2.0, 2.0, 2.0, 3.0, 3.0, 6.0, 1.0, 2.0, 3.0, 4.0, 3.0, 1.0, 1.0], \"name\": \"Jersey\"}], {\"title\": \"Jersey incorporations account distribution by Country with time series\", \"xaxis\": {\"rangeslider\": {}, \"type\": \"date\"}}, {\"showLink\": true, \"linkText\": \"Export to plot.ly\"})});</script>"
      ]
     },
     "metadata": {},
     "output_type": "display_data"
    },
    {
     "data": {
      "application/vnd.plotly.v1+json": {
       "data": [
        {
         "name": "United Arab Emirates",
         "type": "scatter",
         "x": [
          2006
         ],
         "y": [
          2
         ]
        }
       ],
       "layout": {
        "title": "Dubai incorporations account distribution by Country with time series",
        "xaxis": {
         "rangeslider": {},
         "type": "date"
        }
       }
      },
      "text/html": [
       "<div id=\"2db9794a-1b7b-46ca-ab98-3522729f59e6\" style=\"height: 525px; width: 100%;\" class=\"plotly-graph-div\"></div><script type=\"text/javascript\">require([\"plotly\"], function(Plotly) { window.PLOTLYENV=window.PLOTLYENV || {};window.PLOTLYENV.BASE_URL=\"https://plot.ly\";Plotly.newPlot(\"2db9794a-1b7b-46ca-ab98-3522729f59e6\", [{\"type\": \"scatter\", \"x\": [2006], \"y\": [2.0], \"name\": \"United Arab Emirates\"}], {\"title\": \"Dubai incorporations account distribution by Country with time series\", \"xaxis\": {\"rangeslider\": {}, \"type\": \"date\"}}, {\"showLink\": true, \"linkText\": \"Export to plot.ly\"})});</script>"
      ],
      "text/vnd.plotly.v1+html": [
       "<div id=\"2db9794a-1b7b-46ca-ab98-3522729f59e6\" style=\"height: 525px; width: 100%;\" class=\"plotly-graph-div\"></div><script type=\"text/javascript\">require([\"plotly\"], function(Plotly) { window.PLOTLYENV=window.PLOTLYENV || {};window.PLOTLYENV.BASE_URL=\"https://plot.ly\";Plotly.newPlot(\"2db9794a-1b7b-46ca-ab98-3522729f59e6\", [{\"type\": \"scatter\", \"x\": [2006], \"y\": [2.0], \"name\": \"United Arab Emirates\"}], {\"title\": \"Dubai incorporations account distribution by Country with time series\", \"xaxis\": {\"rangeslider\": {}, \"type\": \"date\"}}, {\"showLink\": true, \"linkText\": \"Export to plot.ly\"})});</script>"
      ]
     },
     "metadata": {},
     "output_type": "display_data"
    },
    {
     "data": {
      "application/vnd.plotly.v1+json": {
       "data": [
        {
         "name": "Isle of Man",
         "type": "scatter",
         "x": [
          2002,
          2003
         ],
         "y": [
          3,
          4
         ]
        }
       ],
       "layout": {
        "title": "Isle Of Man incorporations account distribution by Country with time series",
        "xaxis": {
         "rangeslider": {},
         "type": "date"
        }
       }
      },
      "text/html": [
       "<div id=\"5a46be3a-96b3-41a6-8ddd-8f8fa184f216\" style=\"height: 525px; width: 100%;\" class=\"plotly-graph-div\"></div><script type=\"text/javascript\">require([\"plotly\"], function(Plotly) { window.PLOTLYENV=window.PLOTLYENV || {};window.PLOTLYENV.BASE_URL=\"https://plot.ly\";Plotly.newPlot(\"5a46be3a-96b3-41a6-8ddd-8f8fa184f216\", [{\"type\": \"scatter\", \"x\": [2002, 2003], \"y\": [3.0, 4.0], \"name\": \"Isle of Man\"}], {\"title\": \"Isle Of Man incorporations account distribution by Country with time series\", \"xaxis\": {\"rangeslider\": {}, \"type\": \"date\"}}, {\"showLink\": true, \"linkText\": \"Export to plot.ly\"})});</script>"
      ],
      "text/vnd.plotly.v1+html": [
       "<div id=\"5a46be3a-96b3-41a6-8ddd-8f8fa184f216\" style=\"height: 525px; width: 100%;\" class=\"plotly-graph-div\"></div><script type=\"text/javascript\">require([\"plotly\"], function(Plotly) { window.PLOTLYENV=window.PLOTLYENV || {};window.PLOTLYENV.BASE_URL=\"https://plot.ly\";Plotly.newPlot(\"5a46be3a-96b3-41a6-8ddd-8f8fa184f216\", [{\"type\": \"scatter\", \"x\": [2002, 2003], \"y\": [3.0, 4.0], \"name\": \"Isle of Man\"}], {\"title\": \"Isle Of Man incorporations account distribution by Country with time series\", \"xaxis\": {\"rangeslider\": {}, \"type\": \"date\"}}, {\"showLink\": true, \"linkText\": \"Export to plot.ly\"})});</script>"
      ]
     },
     "metadata": {},
     "output_type": "display_data"
    },
    {
     "data": {
      "application/vnd.plotly.v1+json": {
       "data": [
        {
         "name": "Singapore",
         "type": "scatter",
         "x": [
          2000
         ],
         "y": [
          1
         ]
        }
       ],
       "layout": {
        "title": "Mauritius incorporations account distribution by Country with time series",
        "xaxis": {
         "rangeslider": {},
         "type": "date"
        }
       }
      },
      "text/html": [
       "<div id=\"2df9e89a-e488-47ba-ac1f-81f3f3194091\" style=\"height: 525px; width: 100%;\" class=\"plotly-graph-div\"></div><script type=\"text/javascript\">require([\"plotly\"], function(Plotly) { window.PLOTLYENV=window.PLOTLYENV || {};window.PLOTLYENV.BASE_URL=\"https://plot.ly\";Plotly.newPlot(\"2df9e89a-e488-47ba-ac1f-81f3f3194091\", [{\"type\": \"scatter\", \"x\": [2000], \"y\": [1.0], \"name\": \"Singapore\"}], {\"title\": \"Mauritius incorporations account distribution by Country with time series\", \"xaxis\": {\"rangeslider\": {}, \"type\": \"date\"}}, {\"showLink\": true, \"linkText\": \"Export to plot.ly\"})});</script>"
      ],
      "text/vnd.plotly.v1+html": [
       "<div id=\"2df9e89a-e488-47ba-ac1f-81f3f3194091\" style=\"height: 525px; width: 100%;\" class=\"plotly-graph-div\"></div><script type=\"text/javascript\">require([\"plotly\"], function(Plotly) { window.PLOTLYENV=window.PLOTLYENV || {};window.PLOTLYENV.BASE_URL=\"https://plot.ly\";Plotly.newPlot(\"2df9e89a-e488-47ba-ac1f-81f3f3194091\", [{\"type\": \"scatter\", \"x\": [2000], \"y\": [1.0], \"name\": \"Singapore\"}], {\"title\": \"Mauritius incorporations account distribution by Country with time series\", \"xaxis\": {\"rangeslider\": {}, \"type\": \"date\"}}, {\"showLink\": true, \"linkText\": \"Export to plot.ly\"})});</script>"
      ]
     },
     "metadata": {},
     "output_type": "display_data"
    }
   ],
   "source": [
    "visualizer.visualize_slider_jurisdiction(countries_frame, 'incorporations')"
   ]
  },
  {
   "cell_type": "markdown",
   "metadata": {},
   "source": [
    "## Visualizing situation in the most involved countries"
   ]
  },
  {
   "cell_type": "code",
   "execution_count": null,
   "metadata": {
    "collapsed": true,
    "scrolled": true
   },
   "outputs": [],
   "source": [
    "visualizer.visualize_countries_situation(countries_frame, divide_by='Country')"
   ]
  },
  {
   "cell_type": "markdown",
   "metadata": {},
   "source": [
    "## Visualizing situation in the most involved jurisdictions\n",
    "___\n",
    "#### British Virgin Islands\n"
   ]
  },
  {
   "cell_type": "code",
   "execution_count": null,
   "metadata": {
    "collapsed": true,
    "scrolled": true
   },
   "outputs": [],
   "source": [
    "visualizer.visualize_countries_situation(countries_frame, divide_by='Country',selected_jurisdiction='British Virgin Islands')"
   ]
  },
  {
   "cell_type": "markdown",
   "metadata": {},
   "source": [
    "#### Panama"
   ]
  },
  {
   "cell_type": "code",
   "execution_count": null,
   "metadata": {
    "collapsed": true,
    "scrolled": true
   },
   "outputs": [],
   "source": [
    "visualizer.visualize_countries_situation(countries_frame, divide_by='Country',selected_jurisdiction='Panama')"
   ]
  },
  {
   "cell_type": "markdown",
   "metadata": {},
   "source": [
    "## Visualize flows with interactive map and pie chart.\n",
    "___\n",
    "\n",
    "### How to use it?\n",
    "\n",
    "The [interactive widget](http://ipywidgets.readthedocs.io/en/stable/examples/Using%20Interact.html) provided by Jupyter notebook is used in this visualization to select one of the most involved countries.\n",
    "\n",
    "Given one country it's possible to see its flow of _incorporations_, _inactivations_, _actives_ offshores in one specific year which is selectable with a bounded slider.\n",
    "\n",
    "**Note**: The flow is represented by red arcs throughout the map. The opacity of each arc represent its weight over the total.\n",
    "\n",
    "The Pie chart below displays the composition of the given flows in the specific country for each involved jurisdiction in that specific year.\n",
    "\n",
    "### ⚠️ Warning : interactive visualization is only active if runned manually. Interactive widget not working in offline/nbviewer mode (for the moment) \n"
   ]
  },
  {
   "cell_type": "code",
   "execution_count": 6,
   "metadata": {
    "scrolled": false
   },
   "outputs": [
    {
     "data": {
      "application/vnd.jupyter.widget-view+json": {
       "model_id": "f836a110211f4cbf9e5892d366d19a8d",
       "version_major": 2,
       "version_minor": 0
      },
      "text/plain": [
       "A Jupyter Widget"
      ]
     },
     "metadata": {},
     "output_type": "display_data"
    }
   ],
   "source": [
    "widget = interactive(visualizer.visualize_flow_by_country, country=most_involved_countries, year=(1950, 2016, 1), feat=['actives', 'incorporations','inactivations'])## Observations\n",
    "display(widget)"
   ]
  },
  {
   "cell_type": "code",
   "execution_count": 7,
   "metadata": {
    "scrolled": false
   },
   "outputs": [
    {
     "data": {
      "text/html": [
       "<script>requirejs.config({paths: { 'plotly': ['https://cdn.plot.ly/plotly-latest.min']},});if(!window.Plotly) {{require(['plotly'],function(plotly) {window.Plotly=plotly;});}}</script>"
      ],
      "text/vnd.plotly.v1+html": [
       "<script>requirejs.config({paths: { 'plotly': ['https://cdn.plot.ly/plotly-latest.min']},});if(!window.Plotly) {{require(['plotly'],function(plotly) {window.Plotly=plotly;});}}</script>"
      ]
     },
     "metadata": {},
     "output_type": "display_data"
    },
    {
     "name": "stdout",
     "output_type": "stream",
     "text": [
      "Republic of Kosovo has problem with numeric code None\n"
     ]
    },
    {
     "data": {
      "application/vnd.plotly.v1+json": {
       "data": [
        {
         "lat": [
          47,
          24.25
         ],
         "line": {
          "color": "red",
          "width": 1
         },
         "lon": [
          8,
          -76
         ],
         "mode": "lines",
         "name": "Bahamas",
         "opacity": 0.3,
         "showlegend": false,
         "type": "scattergeo"
        },
        {
         "lat": [
          47,
          17.25
         ],
         "line": {
          "color": "red",
          "width": 1
         },
         "lon": [
          8,
          -88.75
         ],
         "mode": "lines",
         "name": "Belize",
         "opacity": 0.3,
         "showlegend": false,
         "type": "scattergeo"
        },
        {
         "lat": [
          47,
          18.25
         ],
         "line": {
          "color": "red",
          "width": 1
         },
         "lon": [
          8,
          -63.16666666
         ],
         "mode": "lines",
         "name": "Anguilla",
         "opacity": 0.3,
         "showlegend": false,
         "type": "scattergeo"
        },
        {
         "lat": [
          47,
          18.431383
         ],
         "line": {
          "color": "red",
          "width": 1
         },
         "lon": [
          8,
          -64.62305
         ],
         "mode": "lines",
         "name": "Virgin Islands (British)",
         "opacity": 1,
         "showlegend": false,
         "type": "scattergeo"
        },
        {
         "lat": [
          47,
          35
         ],
         "line": {
          "color": "red",
          "width": 1
         },
         "lon": [
          8,
          33
         ],
         "mode": "lines",
         "name": "Cyprus",
         "opacity": 0.3,
         "showlegend": false,
         "type": "scattergeo"
        },
        {
         "lat": [
          47,
          22.25
         ],
         "line": {
          "color": "red",
          "width": 1
         },
         "lon": [
          8,
          114.16666666
         ],
         "mode": "lines",
         "name": "Hong Kong",
         "opacity": 0.3,
         "showlegend": false,
         "type": "scattergeo"
        },
        {
         "lat": [
          47,
          35.83333333
         ],
         "line": {
          "color": "red",
          "width": 1
         },
         "lon": [
          8,
          14.58333333
         ],
         "mode": "lines",
         "name": "Malta",
         "opacity": 0.3,
         "showlegend": false,
         "type": "scattergeo"
        },
        {
         "lat": [
          47,
          38
         ],
         "line": {
          "color": "red",
          "width": 1
         },
         "lon": [
          8,
          -97
         ],
         "mode": "lines",
         "name": "United States of America",
         "opacity": 0.3,
         "showlegend": false,
         "type": "scattergeo"
        },
        {
         "lat": [
          47,
          9
         ],
         "line": {
          "color": "red",
          "width": 1
         },
         "lon": [
          8,
          -80
         ],
         "mode": "lines",
         "name": "Panama",
         "opacity": 0.717921969538911,
         "showlegend": false,
         "type": "scattergeo"
        },
        {
         "lat": [
          47,
          -13.58333333
         ],
         "line": {
          "color": "red",
          "width": 1
         },
         "lon": [
          8,
          -172.33333333
         ],
         "mode": "lines",
         "name": "Samoa",
         "opacity": 0.3,
         "showlegend": false,
         "type": "scattergeo"
        },
        {
         "lat": [
          47,
          -4.58333333
         ],
         "line": {
          "color": "red",
          "width": 1
         },
         "lon": [
          8,
          55.66666666
         ],
         "mode": "lines",
         "name": "Seychelles",
         "opacity": 0.3,
         "showlegend": false,
         "type": "scattergeo"
        },
        {
         "lat": [
          47,
          54
         ],
         "line": {
          "color": "red",
          "width": 1
         },
         "lon": [
          8,
          -2
         ],
         "mode": "lines",
         "name": "United Kingdom of Great Britain and Northern Ireland",
         "opacity": 0.3,
         "showlegend": false,
         "type": "scattergeo"
        },
        {
         "lat": [
          47,
          -33
         ],
         "line": {
          "color": "red",
          "width": 1
         },
         "lon": [
          8,
          -56
         ],
         "mode": "lines",
         "name": "Uruguay",
         "opacity": 0.3,
         "showlegend": false,
         "type": "scattergeo"
        },
        {
         "autocolorscale": false,
         "colorbar": {
          "autotick": false,
          "tickprefix": "$",
          "title": "Active offshores per country<br>In 2014"
         },
         "colorscale": [
          [
           0,
           "#b10026"
          ],
          [
           0.35,
           "#e31a1c"
          ],
          [
           0.5,
           "#fc4e2a"
          ],
          [
           0.6,
           "#fc4e2a"
          ],
          [
           0.7,
           "#fc4e2a"
          ],
          [
           1,
           "#ffeda0"
          ]
         ],
         "locations": [
          "ALB",
          "ASM",
          "AND",
          "AGO",
          "ATG",
          "AZE",
          "ARG",
          "AUS",
          "AUT",
          "BHS",
          "BHR",
          "BGD",
          "BRB",
          "BEL",
          "BMU",
          "BWA",
          "BRA",
          "BLZ",
          "VGB",
          "BGR",
          "BLR",
          "CMR",
          "CAN",
          "CYM",
          "CAF",
          "LKA",
          "TCD",
          "CHL",
          "CHN",
          "COL",
          "COK",
          "CRI",
          "HRV",
          "CUB",
          "CYP",
          "DNK",
          "DMA",
          "DOM",
          "ECU",
          "SLV",
          "EST",
          "FIN",
          "FRA",
          "DJI",
          "GEO",
          "DEU",
          "GHA",
          "GIB",
          "GRC",
          "GUM",
          "GTM",
          "HTI",
          "HND",
          "HKG",
          "HUN",
          "ISL",
          "IND",
          "IDN",
          "IRL",
          "ISR",
          "ITA",
          "CIV",
          "JAM",
          "JPN",
          "KAZ",
          "JOR",
          "KEN",
          "KWT",
          "LBN",
          "LSO",
          "LVA",
          "LBR",
          "LBY",
          "LIE",
          "LTU",
          "LUX",
          "MAC",
          "MWI",
          "MYS",
          "MLI",
          "MLT",
          "MUS",
          "MEX",
          "MCO",
          "MNE",
          "MAR",
          "MOZ",
          "OMN",
          "NAM",
          "NRU",
          "NLD",
          "CUW",
          "ABW",
          "SXM",
          "VUT",
          "NZL",
          "NIC",
          "NGA",
          "NIU",
          "NOR",
          "MHL",
          "PAK",
          "PAN",
          "PRY",
          "PER",
          "PHL",
          "POL",
          "PRT",
          "PRI",
          "QAT",
          "ROU",
          "RUS",
          "KNA",
          "AIA",
          "LCA",
          "VCT",
          "SAU",
          "SEN",
          "SYC",
          "SGP",
          "SVK",
          "VNM",
          "SVN",
          "ZAF",
          "ZWE",
          "ESP",
          "SDN",
          "SWE",
          "CHE",
          "THA",
          "TTO",
          "ARE",
          "TUN",
          "TUR",
          "TCA",
          "UGA",
          "UKR",
          "EGY",
          "GBR",
          "GGY",
          "JEY",
          "IMN",
          "USA",
          "URY",
          "UZB",
          "WSM",
          "YEM",
          "ZMB"
         ],
         "marker": {
          "line": {
           "color": "rgb(180,180,180)",
           "width": 0.5
          }
         },
         "reversescale": true,
         "text": [
          "Albania",
          "American Samoa",
          "Andorra",
          "Angola",
          "Antigua and Barbuda",
          "Azerbaijan",
          "Argentina",
          "Australia",
          "Austria",
          "Bahamas",
          "Bahrain",
          "Bangladesh",
          "Barbados",
          "Belgium",
          "Bermuda",
          "Botswana",
          "Brazil",
          "Belize",
          "Virgin Islands (British)",
          "Bulgaria",
          "Belarus",
          "Cameroon",
          "Canada",
          "Cayman Islands",
          "Central African Republic",
          "Sri Lanka",
          "Chad",
          "Chile",
          "China",
          "Colombia",
          "Cook Islands",
          "Costa Rica",
          "Croatia",
          "Cuba",
          "Cyprus",
          "Denmark",
          "Dominica",
          "Dominican Republic",
          "Ecuador",
          "El Salvador",
          "Estonia",
          "Finland",
          "France",
          "Djibouti",
          "Georgia",
          "Germany",
          "Ghana",
          "Gibraltar",
          "Greece",
          "Guam",
          "Guatemala",
          "Haiti",
          "Honduras",
          "Hong Kong",
          "Hungary",
          "Iceland",
          "India",
          "Indonesia",
          "Ireland",
          "Israel",
          "Italy",
          "Côte d'Ivoire",
          "Jamaica",
          "Japan",
          "Kazakhstan",
          "Jordan",
          "Kenya",
          "Kuwait",
          "Lebanon",
          "Lesotho",
          "Latvia",
          "Liberia",
          "Libya",
          "Liechtenstein",
          "Lithuania",
          "Luxembourg",
          "Macao",
          "Malawi",
          "Malaysia",
          "Mali",
          "Malta",
          "Mauritius",
          "Mexico",
          "Monaco",
          "Montenegro",
          "Morocco",
          "Mozambique",
          "Oman",
          "Namibia",
          "Nauru",
          "Netherlands",
          "Curaçao",
          "Aruba",
          "Sint Maarten (Dutch part)",
          "Vanuatu",
          "New Zealand",
          "Nicaragua",
          "Nigeria",
          "Niue",
          "Norway",
          "Marshall Islands",
          "Pakistan",
          "Panama",
          "Paraguay",
          "Peru",
          "Philippines",
          "Poland",
          "Portugal",
          "Puerto Rico",
          "Qatar",
          "Romania",
          "Russian Federation",
          "Saint Kitts and Nevis",
          "Anguilla",
          "Saint Lucia",
          "Saint Vincent and the Grenadines",
          "Saudi Arabia",
          "Senegal",
          "Seychelles",
          "Singapore",
          "Slovakia",
          "Viet Nam",
          "Slovenia",
          "South Africa",
          "Zimbabwe",
          "Spain",
          "Sudan",
          "Sweden",
          "Switzerland",
          "Thailand",
          "Trinidad and Tobago",
          "United Arab Emirates",
          "Tunisia",
          "Turkey",
          "Turks and Caicos Islands",
          "Uganda",
          "Ukraine",
          "Egypt",
          "United Kingdom of Great Britain and Northern Ireland",
          "Guernsey",
          "Jersey",
          "Isle of Man",
          "United States of America",
          "Uruguay",
          "Uzbekistan",
          "Samoa",
          "Yemen",
          "Zambia"
         ],
         "type": "choropleth",
         "z": [
          2,
          null,
          156,
          9,
          5,
          null,
          140,
          15,
          3,
          2359,
          1,
          null,
          3,
          5,
          6,
          0,
          472,
          285,
          36436,
          16,
          5,
          0,
          107,
          46,
          null,
          null,
          7,
          48,
          1517,
          1141,
          null,
          292,
          null,
          null,
          1128,
          null,
          47,
          234,
          802,
          121,
          303,
          3,
          64,
          null,
          null,
          25,
          null,
          882,
          61,
          null,
          529,
          7,
          3,
          17281,
          7,
          null,
          2,
          null,
          47,
          342,
          28,
          null,
          null,
          4,
          null,
          692,
          9,
          11,
          183,
          null,
          535,
          null,
          null,
          821,
          null,
          2209,
          12,
          null,
          4,
          null,
          350,
          454,
          20,
          1054,
          3,
          37,
          null,
          null,
          null,
          null,
          51,
          14,
          4,
          null,
          null,
          17,
          null,
          null,
          2,
          null,
          null,
          null,
          5999,
          54,
          22,
          1,
          19,
          66,
          null,
          null,
          1,
          1023,
          60,
          9,
          null,
          null,
          25,
          null,
          840,
          1880,
          null,
          null,
          15,
          27,
          null,
          135,
          null,
          3,
          9502,
          371,
          null,
          3109,
          null,
          30,
          2,
          null,
          71,
          6,
          2708,
          1758,
          3351,
          1244,
          1127,
          2779,
          null,
          7616,
          null,
          null
         ]
        }
       ],
       "layout": {
        "geo": {
         "projection": {
          "type": "Mercator"
         },
         "resolution": "50"
        },
        "sliders": {
         "active": 0,
         "currentvalue": {
          "font": {
           "size": 20
          },
          "prefix": "Year:",
          "visible": true,
          "xanchor": "right"
         },
         "len": 0.9,
         "pad": {
          "b": 10,
          "t": 50
         },
         "steps": {
          "args": [
           [
            2014
           ],
           {
            "frame": {
             "duration": 300,
             "redraw": true
            },
            "mode": "immediate",
            "transition": {
             "duration": 300
            }
           }
          ],
          "label": 2014,
          "method": "animate"
         },
         "transition": {
          "duration": 300,
          "easing": "cubic-in-out"
         },
         "x": 0.1,
         "xanchor": "left",
         "y": 0,
         "yanchor": "top"
        },
        "title": "Active per country <br> <br> Source:                <a href=\"https://www.icij.org/\">                International Consortium of Investigative Journalists</a>"
       }
      },
      "text/html": [
       "<div id=\"8ae9c3a1-68da-43c9-a369-cfdfd30a8e17\" style=\"height: 525px; width: 100%;\" class=\"plotly-graph-div\"></div><script type=\"text/javascript\">require([\"plotly\"], function(Plotly) { window.PLOTLYENV=window.PLOTLYENV || {};window.PLOTLYENV.BASE_URL=\"https://plot.ly\";Plotly.newPlot(\"8ae9c3a1-68da-43c9-a369-cfdfd30a8e17\", [{\"type\": \"scattergeo\", \"lon\": [8.0, -76.0], \"lat\": [47.0, 24.25], \"mode\": \"lines\", \"line\": {\"width\": 1, \"color\": \"red\"}, \"opacity\": 0.3, \"showlegend\": false, \"name\": \"Bahamas\"}, {\"type\": \"scattergeo\", \"lon\": [8.0, -88.75], \"lat\": [47.0, 17.25], \"mode\": \"lines\", \"line\": {\"width\": 1, \"color\": \"red\"}, \"opacity\": 0.3, \"showlegend\": false, \"name\": \"Belize\"}, {\"type\": \"scattergeo\", \"lon\": [8.0, -63.16666666], \"lat\": [47.0, 18.25], \"mode\": \"lines\", \"line\": {\"width\": 1, \"color\": \"red\"}, \"opacity\": 0.3, \"showlegend\": false, \"name\": \"Anguilla\"}, {\"type\": \"scattergeo\", \"lon\": [8.0, -64.62305], \"lat\": [47.0, 18.431383], \"mode\": \"lines\", \"line\": {\"width\": 1, \"color\": \"red\"}, \"opacity\": 1.0, \"showlegend\": false, \"name\": \"Virgin Islands (British)\"}, {\"type\": \"scattergeo\", \"lon\": [8.0, 33.0], \"lat\": [47.0, 35.0], \"mode\": \"lines\", \"line\": {\"width\": 1, \"color\": \"red\"}, \"opacity\": 0.3, \"showlegend\": false, \"name\": \"Cyprus\"}, {\"type\": \"scattergeo\", \"lon\": [8.0, 114.16666666], \"lat\": [47.0, 22.25], \"mode\": \"lines\", \"line\": {\"width\": 1, \"color\": \"red\"}, \"opacity\": 0.3, \"showlegend\": false, \"name\": \"Hong Kong\"}, {\"type\": \"scattergeo\", \"lon\": [8.0, 14.58333333], \"lat\": [47.0, 35.83333333], \"mode\": \"lines\", \"line\": {\"width\": 1, \"color\": \"red\"}, \"opacity\": 0.3, \"showlegend\": false, \"name\": \"Malta\"}, {\"type\": \"scattergeo\", \"lon\": [8.0, -97.0], \"lat\": [47.0, 38.0], \"mode\": \"lines\", \"line\": {\"width\": 1, \"color\": \"red\"}, \"opacity\": 0.3, \"showlegend\": false, \"name\": \"United States of America\"}, {\"type\": \"scattergeo\", \"lon\": [8.0, -80.0], \"lat\": [47.0, 9.0], \"mode\": \"lines\", \"line\": {\"width\": 1, \"color\": \"red\"}, \"opacity\": 0.717921969538911, \"showlegend\": false, \"name\": \"Panama\"}, {\"type\": \"scattergeo\", \"lon\": [8.0, -172.33333333], \"lat\": [47.0, -13.58333333], \"mode\": \"lines\", \"line\": {\"width\": 1, \"color\": \"red\"}, \"opacity\": 0.3, \"showlegend\": false, \"name\": \"Samoa\"}, {\"type\": \"scattergeo\", \"lon\": [8.0, 55.66666666], \"lat\": [47.0, -4.58333333], \"mode\": \"lines\", \"line\": {\"width\": 1, \"color\": \"red\"}, \"opacity\": 0.3, \"showlegend\": false, \"name\": \"Seychelles\"}, {\"type\": \"scattergeo\", \"lon\": [8.0, -2.0], \"lat\": [47.0, 54.0], \"mode\": \"lines\", \"line\": {\"width\": 1, \"color\": \"red\"}, \"opacity\": 0.3, \"showlegend\": false, \"name\": \"United Kingdom of Great Britain and Northern Ireland\"}, {\"type\": \"scattergeo\", \"lon\": [8.0, -56.0], \"lat\": [47.0, -33.0], \"mode\": \"lines\", \"line\": {\"width\": 1, \"color\": \"red\"}, \"opacity\": 0.3, \"showlegend\": false, \"name\": \"Uruguay\"}, {\"type\": \"choropleth\", \"locations\": [\"ALB\", \"ASM\", \"AND\", \"AGO\", \"ATG\", \"AZE\", \"ARG\", \"AUS\", \"AUT\", \"BHS\", \"BHR\", \"BGD\", \"BRB\", \"BEL\", \"BMU\", \"BWA\", \"BRA\", \"BLZ\", \"VGB\", \"BGR\", \"BLR\", \"CMR\", \"CAN\", \"CYM\", \"CAF\", \"LKA\", \"TCD\", \"CHL\", \"CHN\", \"COL\", \"COK\", \"CRI\", \"HRV\", \"CUB\", \"CYP\", \"DNK\", \"DMA\", \"DOM\", \"ECU\", \"SLV\", \"EST\", \"FIN\", \"FRA\", \"DJI\", \"GEO\", \"DEU\", \"GHA\", \"GIB\", \"GRC\", \"GUM\", \"GTM\", \"HTI\", \"HND\", \"HKG\", \"HUN\", \"ISL\", \"IND\", \"IDN\", \"IRL\", \"ISR\", \"ITA\", \"CIV\", \"JAM\", \"JPN\", \"KAZ\", \"JOR\", \"KEN\", \"KWT\", \"LBN\", \"LSO\", \"LVA\", \"LBR\", \"LBY\", \"LIE\", \"LTU\", \"LUX\", \"MAC\", \"MWI\", \"MYS\", \"MLI\", \"MLT\", \"MUS\", \"MEX\", \"MCO\", \"MNE\", \"MAR\", \"MOZ\", \"OMN\", \"NAM\", \"NRU\", \"NLD\", \"CUW\", \"ABW\", \"SXM\", \"VUT\", \"NZL\", \"NIC\", \"NGA\", \"NIU\", \"NOR\", \"MHL\", \"PAK\", \"PAN\", \"PRY\", \"PER\", \"PHL\", \"POL\", \"PRT\", \"PRI\", \"QAT\", \"ROU\", \"RUS\", \"KNA\", \"AIA\", \"LCA\", \"VCT\", \"SAU\", \"SEN\", \"SYC\", \"SGP\", \"SVK\", \"VNM\", \"SVN\", \"ZAF\", \"ZWE\", \"ESP\", \"SDN\", \"SWE\", \"CHE\", \"THA\", \"TTO\", \"ARE\", \"TUN\", \"TUR\", \"TCA\", \"UGA\", \"UKR\", \"EGY\", \"GBR\", \"GGY\", \"JEY\", \"IMN\", \"USA\", \"URY\", \"UZB\", \"WSM\", \"YEM\", \"ZMB\"], \"z\": [2.0, null, 156.0, 9.0, 5.0, null, 140.0, 15.0, 3.0, 2359.0, 1.0, null, 3.0, 5.0, 6.0, 0.0, 472.0, 285.0, 36436.0, 16.0, 5.0, 0.0, 107.0, 46.0, null, null, 7.0, 48.0, 1517.0, 1141.0, null, 292.0, null, null, 1128.0, null, 47.0, 234.0, 802.0, 121.0, 303.0, 3.0, 64.0, null, null, 25.0, null, 882.0, 61.0, null, 529.0, 7.0, 3.0, 17281.0, 7.0, null, 2.0, null, 47.0, 342.0, 28.0, null, null, 4.0, null, 692.0, 9.0, 11.0, 183.0, null, 535.0, null, null, 821.0, null, 2209.0, 12.0, null, 4.0, null, 350.0, 454.0, 20.0, 1054.0, 3.0, 37.0, null, null, null, null, 51.0, 14.0, 4.0, null, null, 17.0, null, null, 2.0, null, null, null, 5999.0, 54.0, 22.0, 1.0, 19.0, 66.0, null, null, 1.0, 1023.0, 60.0, 9.0, null, null, 25.0, null, 840.0, 1880.0, null, null, 15.0, 27.0, null, 135.0, null, 3.0, 9502.0, 371.0, null, 3109.0, null, 30.0, 2.0, null, 71.0, 6.0, 2708.0, 1758.0, 3351.0, 1244.0, 1127.0, 2779.0, null, 7616.0, null, null], \"text\": [\"Albania\", \"American Samoa\", \"Andorra\", \"Angola\", \"Antigua and Barbuda\", \"Azerbaijan\", \"Argentina\", \"Australia\", \"Austria\", \"Bahamas\", \"Bahrain\", \"Bangladesh\", \"Barbados\", \"Belgium\", \"Bermuda\", \"Botswana\", \"Brazil\", \"Belize\", \"Virgin Islands (British)\", \"Bulgaria\", \"Belarus\", \"Cameroon\", \"Canada\", \"Cayman Islands\", \"Central African Republic\", \"Sri Lanka\", \"Chad\", \"Chile\", \"China\", \"Colombia\", \"Cook Islands\", \"Costa Rica\", \"Croatia\", \"Cuba\", \"Cyprus\", \"Denmark\", \"Dominica\", \"Dominican Republic\", \"Ecuador\", \"El Salvador\", \"Estonia\", \"Finland\", \"France\", \"Djibouti\", \"Georgia\", \"Germany\", \"Ghana\", \"Gibraltar\", \"Greece\", \"Guam\", \"Guatemala\", \"Haiti\", \"Honduras\", \"Hong Kong\", \"Hungary\", \"Iceland\", \"India\", \"Indonesia\", \"Ireland\", \"Israel\", \"Italy\", \"C\\u00f4te d'Ivoire\", \"Jamaica\", \"Japan\", \"Kazakhstan\", \"Jordan\", \"Kenya\", \"Kuwait\", \"Lebanon\", \"Lesotho\", \"Latvia\", \"Liberia\", \"Libya\", \"Liechtenstein\", \"Lithuania\", \"Luxembourg\", \"Macao\", \"Malawi\", \"Malaysia\", \"Mali\", \"Malta\", \"Mauritius\", \"Mexico\", \"Monaco\", \"Montenegro\", \"Morocco\", \"Mozambique\", \"Oman\", \"Namibia\", \"Nauru\", \"Netherlands\", \"Cura\\u00e7ao\", \"Aruba\", \"Sint Maarten (Dutch part)\", \"Vanuatu\", \"New Zealand\", \"Nicaragua\", \"Nigeria\", \"Niue\", \"Norway\", \"Marshall Islands\", \"Pakistan\", \"Panama\", \"Paraguay\", \"Peru\", \"Philippines\", \"Poland\", \"Portugal\", \"Puerto Rico\", \"Qatar\", \"Romania\", \"Russian Federation\", \"Saint Kitts and Nevis\", \"Anguilla\", \"Saint Lucia\", \"Saint Vincent and the Grenadines\", \"Saudi Arabia\", \"Senegal\", \"Seychelles\", \"Singapore\", \"Slovakia\", \"Viet Nam\", \"Slovenia\", \"South Africa\", \"Zimbabwe\", \"Spain\", \"Sudan\", \"Sweden\", \"Switzerland\", \"Thailand\", \"Trinidad and Tobago\", \"United Arab Emirates\", \"Tunisia\", \"Turkey\", \"Turks and Caicos Islands\", \"Uganda\", \"Ukraine\", \"Egypt\", \"United Kingdom of Great Britain and Northern Ireland\", \"Guernsey\", \"Jersey\", \"Isle of Man\", \"United States of America\", \"Uruguay\", \"Uzbekistan\", \"Samoa\", \"Yemen\", \"Zambia\"], \"colorscale\": [[0, \"#b10026\"], [0.35, \"#e31a1c\"], [0.5, \"#fc4e2a\"], [0.6, \"#fc4e2a\"], [0.7, \"#fc4e2a\"], [1, \"#ffeda0\"]], \"autocolorscale\": false, \"reversescale\": true, \"marker\": {\"line\": {\"color\": \"rgb(180,180,180)\", \"width\": 0.5}}, \"colorbar\": {\"autotick\": false, \"tickprefix\": \"$\", \"title\": \"Active offshores per country<br>In 2014\"}}], {\"title\": \"Active per country <br> <br> Source:                <a href=\\\"https://www.icij.org/\\\">                International Consortium of Investigative Journalists</a>\", \"geo\": {\"projection\": {\"type\": \"Mercator\"}, \"resolution\": \"50\"}, \"sliders\": {\"active\": 0, \"yanchor\": \"top\", \"xanchor\": \"left\", \"currentvalue\": {\"font\": {\"size\": 20}, \"prefix\": \"Year:\", \"visible\": true, \"xanchor\": \"right\"}, \"transition\": {\"duration\": 300, \"easing\": \"cubic-in-out\"}, \"pad\": {\"b\": 10, \"t\": 50}, \"len\": 0.9, \"x\": 0.1, \"y\": 0, \"steps\": {\"args\": [[2014], {\"frame\": {\"duration\": 300, \"redraw\": true}, \"mode\": \"immediate\", \"transition\": {\"duration\": 300}}], \"label\": 2014, \"method\": \"animate\"}}}, {\"showLink\": true, \"linkText\": \"Export to plot.ly\"})});</script>"
      ],
      "text/vnd.plotly.v1+html": [
       "<div id=\"8ae9c3a1-68da-43c9-a369-cfdfd30a8e17\" style=\"height: 525px; width: 100%;\" class=\"plotly-graph-div\"></div><script type=\"text/javascript\">require([\"plotly\"], function(Plotly) { window.PLOTLYENV=window.PLOTLYENV || {};window.PLOTLYENV.BASE_URL=\"https://plot.ly\";Plotly.newPlot(\"8ae9c3a1-68da-43c9-a369-cfdfd30a8e17\", [{\"type\": \"scattergeo\", \"lon\": [8.0, -76.0], \"lat\": [47.0, 24.25], \"mode\": \"lines\", \"line\": {\"width\": 1, \"color\": \"red\"}, \"opacity\": 0.3, \"showlegend\": false, \"name\": \"Bahamas\"}, {\"type\": \"scattergeo\", \"lon\": [8.0, -88.75], \"lat\": [47.0, 17.25], \"mode\": \"lines\", \"line\": {\"width\": 1, \"color\": \"red\"}, \"opacity\": 0.3, \"showlegend\": false, \"name\": \"Belize\"}, {\"type\": \"scattergeo\", \"lon\": [8.0, -63.16666666], \"lat\": [47.0, 18.25], \"mode\": \"lines\", \"line\": {\"width\": 1, \"color\": \"red\"}, \"opacity\": 0.3, \"showlegend\": false, \"name\": \"Anguilla\"}, {\"type\": \"scattergeo\", \"lon\": [8.0, -64.62305], \"lat\": [47.0, 18.431383], \"mode\": \"lines\", \"line\": {\"width\": 1, \"color\": \"red\"}, \"opacity\": 1.0, \"showlegend\": false, \"name\": \"Virgin Islands (British)\"}, {\"type\": \"scattergeo\", \"lon\": [8.0, 33.0], \"lat\": [47.0, 35.0], \"mode\": \"lines\", \"line\": {\"width\": 1, \"color\": \"red\"}, \"opacity\": 0.3, \"showlegend\": false, \"name\": \"Cyprus\"}, {\"type\": \"scattergeo\", \"lon\": [8.0, 114.16666666], \"lat\": [47.0, 22.25], \"mode\": \"lines\", \"line\": {\"width\": 1, \"color\": \"red\"}, \"opacity\": 0.3, \"showlegend\": false, \"name\": \"Hong Kong\"}, {\"type\": \"scattergeo\", \"lon\": [8.0, 14.58333333], \"lat\": [47.0, 35.83333333], \"mode\": \"lines\", \"line\": {\"width\": 1, \"color\": \"red\"}, \"opacity\": 0.3, \"showlegend\": false, \"name\": \"Malta\"}, {\"type\": \"scattergeo\", \"lon\": [8.0, -97.0], \"lat\": [47.0, 38.0], \"mode\": \"lines\", \"line\": {\"width\": 1, \"color\": \"red\"}, \"opacity\": 0.3, \"showlegend\": false, \"name\": \"United States of America\"}, {\"type\": \"scattergeo\", \"lon\": [8.0, -80.0], \"lat\": [47.0, 9.0], \"mode\": \"lines\", \"line\": {\"width\": 1, \"color\": \"red\"}, \"opacity\": 0.717921969538911, \"showlegend\": false, \"name\": \"Panama\"}, {\"type\": \"scattergeo\", \"lon\": [8.0, -172.33333333], \"lat\": [47.0, -13.58333333], \"mode\": \"lines\", \"line\": {\"width\": 1, \"color\": \"red\"}, \"opacity\": 0.3, \"showlegend\": false, \"name\": \"Samoa\"}, {\"type\": \"scattergeo\", \"lon\": [8.0, 55.66666666], \"lat\": [47.0, -4.58333333], \"mode\": \"lines\", \"line\": {\"width\": 1, \"color\": \"red\"}, \"opacity\": 0.3, \"showlegend\": false, \"name\": \"Seychelles\"}, {\"type\": \"scattergeo\", \"lon\": [8.0, -2.0], \"lat\": [47.0, 54.0], \"mode\": \"lines\", \"line\": {\"width\": 1, \"color\": \"red\"}, \"opacity\": 0.3, \"showlegend\": false, \"name\": \"United Kingdom of Great Britain and Northern Ireland\"}, {\"type\": \"scattergeo\", \"lon\": [8.0, -56.0], \"lat\": [47.0, -33.0], \"mode\": \"lines\", \"line\": {\"width\": 1, \"color\": \"red\"}, \"opacity\": 0.3, \"showlegend\": false, \"name\": \"Uruguay\"}, {\"type\": \"choropleth\", \"locations\": [\"ALB\", \"ASM\", \"AND\", \"AGO\", \"ATG\", \"AZE\", \"ARG\", \"AUS\", \"AUT\", \"BHS\", \"BHR\", \"BGD\", \"BRB\", \"BEL\", \"BMU\", \"BWA\", \"BRA\", \"BLZ\", \"VGB\", \"BGR\", \"BLR\", \"CMR\", \"CAN\", \"CYM\", \"CAF\", \"LKA\", \"TCD\", \"CHL\", \"CHN\", \"COL\", \"COK\", \"CRI\", \"HRV\", \"CUB\", \"CYP\", \"DNK\", \"DMA\", \"DOM\", \"ECU\", \"SLV\", \"EST\", \"FIN\", \"FRA\", \"DJI\", \"GEO\", \"DEU\", \"GHA\", \"GIB\", \"GRC\", \"GUM\", \"GTM\", \"HTI\", \"HND\", \"HKG\", \"HUN\", \"ISL\", \"IND\", \"IDN\", \"IRL\", \"ISR\", \"ITA\", \"CIV\", \"JAM\", \"JPN\", \"KAZ\", \"JOR\", \"KEN\", \"KWT\", \"LBN\", \"LSO\", \"LVA\", \"LBR\", \"LBY\", \"LIE\", \"LTU\", \"LUX\", \"MAC\", \"MWI\", \"MYS\", \"MLI\", \"MLT\", \"MUS\", \"MEX\", \"MCO\", \"MNE\", \"MAR\", \"MOZ\", \"OMN\", \"NAM\", \"NRU\", \"NLD\", \"CUW\", \"ABW\", \"SXM\", \"VUT\", \"NZL\", \"NIC\", \"NGA\", \"NIU\", \"NOR\", \"MHL\", \"PAK\", \"PAN\", \"PRY\", \"PER\", \"PHL\", \"POL\", \"PRT\", \"PRI\", \"QAT\", \"ROU\", \"RUS\", \"KNA\", \"AIA\", \"LCA\", \"VCT\", \"SAU\", \"SEN\", \"SYC\", \"SGP\", \"SVK\", \"VNM\", \"SVN\", \"ZAF\", \"ZWE\", \"ESP\", \"SDN\", \"SWE\", \"CHE\", \"THA\", \"TTO\", \"ARE\", \"TUN\", \"TUR\", \"TCA\", \"UGA\", \"UKR\", \"EGY\", \"GBR\", \"GGY\", \"JEY\", \"IMN\", \"USA\", \"URY\", \"UZB\", \"WSM\", \"YEM\", \"ZMB\"], \"z\": [2.0, null, 156.0, 9.0, 5.0, null, 140.0, 15.0, 3.0, 2359.0, 1.0, null, 3.0, 5.0, 6.0, 0.0, 472.0, 285.0, 36436.0, 16.0, 5.0, 0.0, 107.0, 46.0, null, null, 7.0, 48.0, 1517.0, 1141.0, null, 292.0, null, null, 1128.0, null, 47.0, 234.0, 802.0, 121.0, 303.0, 3.0, 64.0, null, null, 25.0, null, 882.0, 61.0, null, 529.0, 7.0, 3.0, 17281.0, 7.0, null, 2.0, null, 47.0, 342.0, 28.0, null, null, 4.0, null, 692.0, 9.0, 11.0, 183.0, null, 535.0, null, null, 821.0, null, 2209.0, 12.0, null, 4.0, null, 350.0, 454.0, 20.0, 1054.0, 3.0, 37.0, null, null, null, null, 51.0, 14.0, 4.0, null, null, 17.0, null, null, 2.0, null, null, null, 5999.0, 54.0, 22.0, 1.0, 19.0, 66.0, null, null, 1.0, 1023.0, 60.0, 9.0, null, null, 25.0, null, 840.0, 1880.0, null, null, 15.0, 27.0, null, 135.0, null, 3.0, 9502.0, 371.0, null, 3109.0, null, 30.0, 2.0, null, 71.0, 6.0, 2708.0, 1758.0, 3351.0, 1244.0, 1127.0, 2779.0, null, 7616.0, null, null], \"text\": [\"Albania\", \"American Samoa\", \"Andorra\", \"Angola\", \"Antigua and Barbuda\", \"Azerbaijan\", \"Argentina\", \"Australia\", \"Austria\", \"Bahamas\", \"Bahrain\", \"Bangladesh\", \"Barbados\", \"Belgium\", \"Bermuda\", \"Botswana\", \"Brazil\", \"Belize\", \"Virgin Islands (British)\", \"Bulgaria\", \"Belarus\", \"Cameroon\", \"Canada\", \"Cayman Islands\", \"Central African Republic\", \"Sri Lanka\", \"Chad\", \"Chile\", \"China\", \"Colombia\", \"Cook Islands\", \"Costa Rica\", \"Croatia\", \"Cuba\", \"Cyprus\", \"Denmark\", \"Dominica\", \"Dominican Republic\", \"Ecuador\", \"El Salvador\", \"Estonia\", \"Finland\", \"France\", \"Djibouti\", \"Georgia\", \"Germany\", \"Ghana\", \"Gibraltar\", \"Greece\", \"Guam\", \"Guatemala\", \"Haiti\", \"Honduras\", \"Hong Kong\", \"Hungary\", \"Iceland\", \"India\", \"Indonesia\", \"Ireland\", \"Israel\", \"Italy\", \"C\\u00f4te d'Ivoire\", \"Jamaica\", \"Japan\", \"Kazakhstan\", \"Jordan\", \"Kenya\", \"Kuwait\", \"Lebanon\", \"Lesotho\", \"Latvia\", \"Liberia\", \"Libya\", \"Liechtenstein\", \"Lithuania\", \"Luxembourg\", \"Macao\", \"Malawi\", \"Malaysia\", \"Mali\", \"Malta\", \"Mauritius\", \"Mexico\", \"Monaco\", \"Montenegro\", \"Morocco\", \"Mozambique\", \"Oman\", \"Namibia\", \"Nauru\", \"Netherlands\", \"Cura\\u00e7ao\", \"Aruba\", \"Sint Maarten (Dutch part)\", \"Vanuatu\", \"New Zealand\", \"Nicaragua\", \"Nigeria\", \"Niue\", \"Norway\", \"Marshall Islands\", \"Pakistan\", \"Panama\", \"Paraguay\", \"Peru\", \"Philippines\", \"Poland\", \"Portugal\", \"Puerto Rico\", \"Qatar\", \"Romania\", \"Russian Federation\", \"Saint Kitts and Nevis\", \"Anguilla\", \"Saint Lucia\", \"Saint Vincent and the Grenadines\", \"Saudi Arabia\", \"Senegal\", \"Seychelles\", \"Singapore\", \"Slovakia\", \"Viet Nam\", \"Slovenia\", \"South Africa\", \"Zimbabwe\", \"Spain\", \"Sudan\", \"Sweden\", \"Switzerland\", \"Thailand\", \"Trinidad and Tobago\", \"United Arab Emirates\", \"Tunisia\", \"Turkey\", \"Turks and Caicos Islands\", \"Uganda\", \"Ukraine\", \"Egypt\", \"United Kingdom of Great Britain and Northern Ireland\", \"Guernsey\", \"Jersey\", \"Isle of Man\", \"United States of America\", \"Uruguay\", \"Uzbekistan\", \"Samoa\", \"Yemen\", \"Zambia\"], \"colorscale\": [[0, \"#b10026\"], [0.35, \"#e31a1c\"], [0.5, \"#fc4e2a\"], [0.6, \"#fc4e2a\"], [0.7, \"#fc4e2a\"], [1, \"#ffeda0\"]], \"autocolorscale\": false, \"reversescale\": true, \"marker\": {\"line\": {\"color\": \"rgb(180,180,180)\", \"width\": 0.5}}, \"colorbar\": {\"autotick\": false, \"tickprefix\": \"$\", \"title\": \"Active offshores per country<br>In 2014\"}}], {\"title\": \"Active per country <br> <br> Source:                <a href=\\\"https://www.icij.org/\\\">                International Consortium of Investigative Journalists</a>\", \"geo\": {\"projection\": {\"type\": \"Mercator\"}, \"resolution\": \"50\"}, \"sliders\": {\"active\": 0, \"yanchor\": \"top\", \"xanchor\": \"left\", \"currentvalue\": {\"font\": {\"size\": 20}, \"prefix\": \"Year:\", \"visible\": true, \"xanchor\": \"right\"}, \"transition\": {\"duration\": 300, \"easing\": \"cubic-in-out\"}, \"pad\": {\"b\": 10, \"t\": 50}, \"len\": 0.9, \"x\": 0.1, \"y\": 0, \"steps\": {\"args\": [[2014], {\"frame\": {\"duration\": 300, \"redraw\": true}, \"mode\": \"immediate\", \"transition\": {\"duration\": 300}}], \"label\": 2014, \"method\": \"animate\"}}}, {\"showLink\": true, \"linkText\": \"Export to plot.ly\"})});</script>"
      ]
     },
     "metadata": {},
     "output_type": "display_data"
    },
    {
     "data": {
      "application/vnd.plotly.v1+json": {
       "data": [
        {
         "labels": [
          "Bahamas",
          "Belize",
          "Anguilla",
          "Virgin Islands (British)",
          "Cyprus",
          "Hong Kong",
          "Malta",
          "United States of America",
          "Panama",
          "Samoa",
          "Seychelles",
          "United Kingdom of Great Britain and Northern Ireland",
          "Uruguay"
         ],
         "textfont": {
          "size": 20
         },
         "type": "pie",
         "values": [
          353,
          3,
          67,
          4793,
          5,
          15,
          1,
          35,
          3441,
          169,
          619,
          1,
          0
         ]
        }
       ],
       "layout": {}
      },
      "text/html": [
       "<div id=\"2c7d10ea-687d-48e9-bfba-7a43857ea056\" style=\"height: 525px; width: 100%;\" class=\"plotly-graph-div\"></div><script type=\"text/javascript\">require([\"plotly\"], function(Plotly) { window.PLOTLYENV=window.PLOTLYENV || {};window.PLOTLYENV.BASE_URL=\"https://plot.ly\";Plotly.newPlot(\"2c7d10ea-687d-48e9-bfba-7a43857ea056\", [{\"type\": \"pie\", \"labels\": [\"Bahamas\", \"Belize\", \"Anguilla\", \"Virgin Islands (British)\", \"Cyprus\", \"Hong Kong\", \"Malta\", \"United States of America\", \"Panama\", \"Samoa\", \"Seychelles\", \"United Kingdom of Great Britain and Northern Ireland\", \"Uruguay\"], \"values\": [353.0, 3.0, 67.0, 4793.0, 5.0, 15.0, 1.0, 35.0, 3441.0, 169.0, 619.0, 1.0, 0.0], \"textfont\": {\"size\": 20}}], {}, {\"showLink\": true, \"linkText\": \"Export to plot.ly\"})});</script>"
      ],
      "text/vnd.plotly.v1+html": [
       "<div id=\"2c7d10ea-687d-48e9-bfba-7a43857ea056\" style=\"height: 525px; width: 100%;\" class=\"plotly-graph-div\"></div><script type=\"text/javascript\">require([\"plotly\"], function(Plotly) { window.PLOTLYENV=window.PLOTLYENV || {};window.PLOTLYENV.BASE_URL=\"https://plot.ly\";Plotly.newPlot(\"2c7d10ea-687d-48e9-bfba-7a43857ea056\", [{\"type\": \"pie\", \"labels\": [\"Bahamas\", \"Belize\", \"Anguilla\", \"Virgin Islands (British)\", \"Cyprus\", \"Hong Kong\", \"Malta\", \"United States of America\", \"Panama\", \"Samoa\", \"Seychelles\", \"United Kingdom of Great Britain and Northern Ireland\", \"Uruguay\"], \"values\": [353.0, 3.0, 67.0, 4793.0, 5.0, 15.0, 1.0, 35.0, 3441.0, 169.0, 619.0, 1.0, 0.0], \"textfont\": {\"size\": 20}}], {}, {\"showLink\": true, \"linkText\": \"Export to plot.ly\"})});</script>"
      ]
     },
     "metadata": {},
     "output_type": "display_data"
    },
    {
     "name": "stdout",
     "output_type": "stream",
     "text": [
      "Total offshores in 2014 = 9502.0\n"
     ]
    }
   ],
   "source": [
    "visualizer.visualize_flow_by_country(country='Switzerland', feat='actives', year=2014)"
   ]
  },
  {
   "cell_type": "markdown",
   "metadata": {},
   "source": [
    "## Observations\n",
    "\n",
    "### Most important leaks\n",
    "Here is a list of the most important leaks documented by the International Consortium of Investigative Journalists [ICIJ](https://offshoreleaks.icij.org/)\n",
    "- **Bahamas Leak**\n",
    "April 2, 2013\n",
    "None got scared [Best year =  2010]\n",
    "- **China Leak** ⭐️\n",
    "January 21, 2014\n",
    "More offshores [Seyschelles - Samoa - British Virgin Islands - British Anguila] \n",
    "- **Lux Leak** \n",
    "December 9, 2014\n",
    "None got scared [Best year =  2007]\n",
    "- **Swiss Leak** \n",
    "February 8, 2015 \n",
    "None got scared [Best year =  2007]\n",
    "- **Panama Leak**\n",
    "April 3, 2016\n",
    "\n",
    "#### Too early to state something precise, we will investigate the relationships between countries and jurisdictions.\n",
    "___"
   ]
  },
  {
   "cell_type": "markdown",
   "metadata": {},
   "source": [
    "## Save CSV\n",
    "This function is used to create the CSV used for the visualization. \n",
    "\n",
    "__No need to run it again since are already created and accessible__."
   ]
  },
  {
   "cell_type": "code",
   "execution_count": null,
   "metadata": {
    "collapsed": true,
    "scrolled": true
   },
   "outputs": [],
   "source": [
    "entities = r'./panama_csv/Entities.csv'\n",
    "entities = pd.read_csv(entities,index_col='name', header=0, low_memory=False)\n",
    "entities=entities.rename(columns = {'countries':'Country','jurisdiction':'abbr_jurisd','jurisdiction_description':'jurisdiction'})\n",
    "all_countries = entities.groupby('Country').count().index\n",
    "features = ['active offshores', 'incorporations', 'inactivations']\n",
    "for feature in features:\n",
    "    frame = preprocessing.process_countries_with_code(entities, \n",
    "                                                            all_countries, \n",
    "                                                            analisys_on='Country', \n",
    "                                                            from_year=1900, \n",
    "                                                            to_year=2017,\n",
    "                                                            feature=feature\n",
    "                                                           )\n",
    "    name = feature\n",
    "    if name == 'active offshores':\n",
    "        name = 'actives'\n",
    "    frame.to_csv('csv/cash_flows_'+name+'.csv', index=False)"
   ]
  },
  {
   "cell_type": "markdown",
   "metadata": {},
   "source": [
    "## Other further ideas\n",
    "\n",
    "> ### [How much money do you need in order to make an offshore account worthwhile ?](http://www.macleans.ca/news/world/why-do-the-rich-hide-money-offshore-anyway/)\n",
    "> ### The [Financial Secrecy Index](http://www.financialsecrecyindex.com/introduction/fsi-2015-results) can be useful to investigate differences between tax haven jurisdictions."
   ]
  }
 ],
 "metadata": {
  "kernelspec": {
   "display_name": "Python 3",
   "language": "python",
   "name": "python3"
  },
  "language_info": {
   "codemirror_mode": {
    "name": "ipython",
    "version": 3
   },
   "file_extension": ".py",
   "mimetype": "text/x-python",
   "name": "python",
   "nbconvert_exporter": "python",
   "pygments_lexer": "ipython3",
   "version": "3.6.2"
  }
 },
 "nbformat": 4,
 "nbformat_minor": 1
}

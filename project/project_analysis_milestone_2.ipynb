{
 "cells": [
  {
   "cell_type": "markdown",
   "metadata": {},
   "source": [
    "# `Inside the Offshores leak`\n",
    "`Panama Papers as you have never seen it`\n",
    "\n",
    "# Attention please, refer to the online version of the [notebook viewer](https://nbviewer.jupyter.org/github/puccife/ADAHomeworks/blob/master/project/project_analysis_milestone_2.ipynb)"
   ]
  },
  {
   "cell_type": "markdown",
   "metadata": {},
   "source": [
    "### Importing libs"
   ]
  },
  {
   "cell_type": "code",
   "execution_count": null,
   "metadata": {
    "collapsed": true
   },
   "outputs": [],
   "source": [
    "from __future__ import print_function\n",
    "from ipywidgets import interact, interactive, fixed, interact_manual\n",
    "import ipywidgets as widgetsimport\n",
    "import pandas as pd\n",
    "from IPython.display import display\n",
    "import matplotlib.pyplot as plt\n",
    "import numpy as np\n",
    "import matplotlib.pyplot as plt\n",
    "import seaborn as sns\n",
    "import collections\n",
    "from utils import visualizer, preprocessing, visualizers_1, preprocessing_1,computations_1, visualizer_q3\n",
    "import sklearn\n",
    "import json\n",
    "import folium\n",
    "%load_ext autoreload\n",
    "%autoreload 2\n",
    "%matplotlib inline\n",
    "#Import new style\n",
    "plt.style.use('bmh')"
   ]
  },
  {
   "cell_type": "markdown",
   "metadata": {},
   "source": [
    "# Extracting data "
   ]
  },
  {
   "cell_type": "code",
   "execution_count": null,
   "metadata": {
    "collapsed": true,
    "scrolled": true
   },
   "outputs": [],
   "source": [
    "# File names path\n",
    "entities = r'./panama_csv/Entities.csv'\n",
    "index_2013 = r'./the_index/index2013_data.xls'\n",
    "index_2014 = r'./the_index/index2014_data.xls'\n",
    "index_2015 = r'./the_index/index2015_data.xls'\n",
    "index_2016 = r'./the_index/index2016_data.xls'\n",
    "index_2017 = r'./the_index/index2017_data.xls'\n",
    "\n",
    "entities = pd.read_csv(entities, header=0, low_memory=False)\n",
    "#entities_c = entities.copy()\n",
    "\n",
    "index_2013 = pd.read_excel(index_2013,index_col = 'Country Name',header=0)\n",
    "index_2014 = pd.read_excel(index_2014,index_col = 'Country Name',header=0)\n",
    "index_2015 = pd.read_excel(index_2015,index_col = 'Country Name',header=0)\n",
    "index_2016 = pd.read_excel(index_2016,index_col = 'Country Name',header=0)\n",
    "index_2017 = pd.read_excel(index_2017,index_col = 'Country Name',header=0)"
   ]
  },
  {
   "cell_type": "markdown",
   "metadata": {},
   "source": [
    "## Explaining the data:\n",
    "\n",
    "<h1><center>**~~ Panama Papers ~~**</center></h1>\n",
    "\n",
    "**Introduction: ** \n",
    "\n",
    "This database contains information on almost 500,000 offshore entities that are part of the Panama Papers, the Offshore Leaks and the Bahamas Leaks investigations. The data covers nearly 40 years – from 1977 through to early 2016 – and links to people and companies in more than 200 countries and territories. The real value of the database is that it strips away the secrecy that cloaks companies and trusts incorporated in tax havens and exposes the people behind them. This includes, when available, the names of the real owners of those opaque structures.\n",
    "\n",
    "The dataset is divided into 5 **main** csv files :\n",
    "* Addresses\n",
    "* Edges\n",
    "* Entities\n",
    "* Intermediaries\n",
    "* Officers\n",
    "\n",
    "In this project we are focusing on the relationships between the countries involved.Briefly here is the list of our research questions.\n",
    "\n",
    "1. How the number of offshores that are founded from an origin country in tax havens is related to economical factors of the origin country? Which roles does the legal situation in the origin country play compared to the legal situation in the offshore country?\n",
    "3. How are the countries connected? Is there a pattern in the way players in origin counrties select special countries for their offshores.\n",
    "4. There is a hypothesis that scandals involving tax havens actually help to promote creating offshores there. Can we find evidence for this in the data?\n",
    "\n",
    "To look through those questions into more details, we use the **csv** file named **Entities** which contains the connections between the origin and tax haven countries and use the help of the dataset **Index Of Economics Freedom** to understand the economical/legal parameters of each country.\n",
    "\n",
    "Here is a brief description of the columns used from the **Entities** csv file.\n",
    "\n",
    "* **Node_id:** A unique node id for each set of data. \n",
    "* **Country:** The country where the offshore entity was created from.\n",
    "* **Jurisdiction:** The country that has official power to make legal decisions and judgements. Interpreted here as the Tax Haven countries.\n",
    "* **Incorporation Date:** The date when an offshore entity was created.\n",
    "* **Inactivation Date:** The date when a client told the agent to deactivate the offshore entity, which could be reactivated at a later date.\n",
    "* **Struck off date:**  A company becomes struck off when it fails to be in good standing, which happens when it fails to pay license fees. In the offshore world this is the equivalent to closing an entity, although it can be reactivated at a later date if the fees start being paid again.\n",
    "\n",
    "Other columns such as name of the company, service provider, addresses are available but they are of no use to us and since we are investigating the leak at a country level, we are not in need to use the other files.\n",
    "\n",
    "<h1><center>**~~ Index Of Economics Freedom ~~**</center></h1>\n",
    "\n",
    "**Introduction:**\n",
    "\n",
    "Economic freedom is the fundamental right of every human to control his or her own labor and property. In an economically free society, individuals are free to work, produce, consume, and invest in any way they please. In economically free societies, governments allow labor, capital, and goods to move freely, and refrain from coercion or constraint of liberty beyond the extent necessary to protect and maintain liberty itself. The Index covers 12 economic freedoms, objective measurements, historical background, and policy analysis of 186 economies troughout the world. The 12 economic freedoms are grouped into four pillars of economic freedom:\n",
    "\n",
    "**1. Rule of law:**\n",
    "\n",
    " * **Property rights:** is an assessment of the ability of individuals to accumulate private property, secured by clear laws that are fully enforced by the state. It measures the degree to which a country’s laws protect private property rights and the degree to which its government enforces those laws.\n",
    " * **Government integrity:** \"Corruption\" is the abuse of entrusted power for private gain. It can be classified as grand, petty and political, depending on the amounts of money lost and the sector where it occurs.\n",
    " * **Judicial effectiveness:** Well-functioning civil justice systems protect the rights of all citizens against infringement of the law by others, including powerful parties and governments. An essential component of the rule of law is indeed based on effective and fair judicial systems to ensure that the laws are respected and appropriate sanctions are taken when they are violated.\n",
    " \n",
    "**2. Government Size:**\n",
    "\n",
    " * **Government spending:** Considers the level of government expenditures as a percentage of GDP. General government expenditure data include all levels of government such as federal, state, and local. Research have shown that excessive government spending that causes chronic budget deficits and the accumulation of sovereign debt is one of the most serious drags on economic dynamism.\n",
    " * **Tax burden:** is a measure of the tax burden imposed by government. It includes direct taxes, in terms of the top marginal tax rates on individual and corporate incomes, and overall taxes, including all forms of direct and indirect taxation at all levels of government, as a percentage of GDP.\n",
    " * **Fiscal health:** A government’s budget is one of the clearest indicators of the extent to which it respects the principle of limited government. Widening deficits and a growing debt burden, both of which are direct consequences of poor government budget management, lead to the erosion of a country’s overall fiscal health.\n",
    " \n",
    "**3. Regulatory Efficiency:**\n",
    "\n",
    " * **Business freedom:**  is an overall indicator of the efficiency of government regulation of business. Individual’s ability to establish and run an enterprise without undue interference from the state is one of the most fundamental indicators. It is formed from several factors:\n",
    "   * Starting a business [ Procedure / Time / Cost / Minimum capital ]\n",
    "   * Obtaining a license [ Procedure / Time / Cost ]\n",
    "   * Closing a business [ Time / Cost / Recovery rate ]\n",
    " * **Labor freedom:**  is a quantitative measure that considers various aspects of the legal and regulatory framework of a country’s labor market, including regulations concerning minimum wages, laws inhibiting layoffs, severance requirements, and measurable regulatory restraints on hiring and hours worked.\n",
    " * **Monetary freedom:**  combines a measure of price stability with an assessment of price controls. Both inflation and price controls distort market activity. Price stability without microeconomic intervention is the ideal state for the free market.\n",
    " \n",
    "**4. Open Markets:**\n",
    "\n",
    " * **Trade freedom:**  is a composite measure of the absence of tariff and non-tariff barriers that affect imports and exports of goods and services.The trade freedom score is based on two inputs:\n",
    "   * The trade-weighted average tariff rate.\n",
    "   * Non-tariff barriers (NTBs). The categories considered are:\n",
    "     * Quantity restrictions.\n",
    "     * Price restrictions.\n",
    "     * Regulatory restrictions.\n",
    "     * Customs restrictions.\n",
    "     * Investment restrictions.\n",
    "     * Direct government intervention.\n",
    " * **Investment freedom:** Describes the constraints on the flow of investment capital. Individuals and firms would be allowed to move their resources into and out of specific activities, both internally and across the country’s borders, without restriction. Countries have different rules for foreign and domestic investment; some restrict access to foreign exchange; some impose restrictions on payments, transfers, and capital transactions; in some, certain industries are closed to foreign investment. Labor regulations, corruption, red tape, weak infrastructure, and political and security conditions can also affect the freedom that investors have in a market.\n",
    " * **Financial freedom:** is a measure of banking efficiency as well as a measure of independence from government control and interference in the financial sector. It is calculated by looking at those broad areas:\n",
    "   * The extent of government regulation of financial services.\n",
    "   * The degree of state intervention in banks and other financial firms through direct and indirect ownership.\n",
    "   * The extent of financial and capital market development.\n",
    "   * Government influence on the allocation of credit.\n",
    "   * Openness to foreign competition.\n",
    "   \n",
    "**5. Monetary measure:**\n",
    " * **Gross Domestic Product (GDP):** is a monetary measure of the market value of all final goods and services produced in a period of time.\n",
    " * **GDP growth rate:** measures how fast the economy is growing. It does this by comparing one year of the country's gross domestic product to the previous year.\n",
    " * **GDP per Capita:** is the GDP of a year divided by the average population of the same year.\n",
    " * **Government Expenditure:**  refers to the purchase of goods and services, which include public consumption and public investment, and transfer payments consisting of income transfers and capital transfer.\n",
    " * **Inflation:** is the rate at which the general level of prices for goods and services is rising and, consequently, the purchasing power of currency is falling.\n",
    " * **Foreign Direct Investment Inflow:** the value of inward direct investment made by non-resident investors in the reporting economy.\n",
    " * **Public Debt:** is how much a government owes to creditors outside of itself."
   ]
  },
  {
   "cell_type": "markdown",
   "metadata": {},
   "source": [
    "# Research Question 1\n",
    "\n",
    "> Which economic factors motivate the foundation of offshore companies? Which role does the legal situation in the origin country play compared to the legal situation in the offshore country?"
   ]
  },
  {
   "cell_type": "markdown",
   "metadata": {},
   "source": [
    "##### As shown above, the features of the index of economical freedom are divided into 5 categories.\n"
   ]
  },
  {
   "cell_type": "code",
   "execution_count": null,
   "metadata": {
    "collapsed": true
   },
   "outputs": [],
   "source": [
    "# Dividing the columns into their corresponding categories.\n",
    "open_markets_data = ['Trade Freedom','Investment Freedom ','Financial Freedom']\n",
    "regulatory_efficiency_data = ['Business Freedom','Labor Freedom','Monetary Freedom']\n",
    "rule_of_law_data = ['Property Rights','Government Integrity','Judical Effectiveness']\n",
    "government_size_data = ['Gov\\'t Spending','Fiscal Health','Tax Burden']\n",
    "economical_data = ['GDP (Billions, PPP)','GDP Growth Rate (%)','GDP per Capita (PPP)'\\\n",
    "                   ,'Gov\\'t Expenditure % of GDP ','Inflation (%)',\\\n",
    "                   'FDI Inflow (Millions)','Public Debt (% of GDP)']\n",
    "# Years.\n",
    "years = ['2017', '2016', '2015', '2014','2013']"
   ]
  },
  {
   "cell_type": "markdown",
   "metadata": {},
   "source": [
    "##### Rough idea of how the entities file is distributed."
   ]
  },
  {
   "cell_type": "code",
   "execution_count": null,
   "metadata": {
    "collapsed": true
   },
   "outputs": [],
   "source": [
    "entities.head(3)"
   ]
  },
  {
   "cell_type": "code",
   "execution_count": null,
   "metadata": {
    "collapsed": true
   },
   "outputs": [],
   "source": [
    "print(\"The number of rows / entities we have in our data is {}.\".format(len(entities)))\n",
    "print(\"The number of unique countries involved is {}.\".format(len(entities.countries.unique())))\n",
    "print(\"The number of unique Tax havens / jurisdictions is {}.\".format(len(entities.jurisdiction_description.unique())))\n",
    "print(\"Is Node_ID unique? {}.\".format(entities.node_id.is_unique))"
   ]
  },
  {
   "cell_type": "markdown",
   "metadata": {},
   "source": [
    "You may find it weird that the number of countries involved is 519 while the total number of countries in the world is 195. This is due to the fact that there are many fields where the data is not ideal in addition to the presence of cities/states instead of countries. This will be discussed further on in this notebook."
   ]
  },
  {
   "cell_type": "markdown",
   "metadata": {},
   "source": [
    "### Cleaning the datasets and concatenating them into a single dataframe."
   ]
  },
  {
   "cell_type": "code",
   "execution_count": null,
   "metadata": {
    "collapsed": true
   },
   "outputs": [],
   "source": [
    "# Cleaning process.\n",
    "index_2013 = preprocessing_1.cleaning_index_data(index_2013,'2012')\n",
    "index_2014 = preprocessing_1.cleaning_index_data(index_2014,'2013')\n",
    "index_2015 = preprocessing_1.cleaning_index_data(index_2015,'2014')\n",
    "index_2016 = preprocessing_1.cleaning_index_data(index_2016,'2015')\n",
    "index_2017 = preprocessing_1.cleaning_index_data(index_2017,'2016')\n",
    "# Concatenating all the datasets.\n",
    "economical_indexes = pd.concat([index_2017,index_2016,index_2015,index_2014,index_2013])"
   ]
  },
  {
   "cell_type": "code",
   "execution_count": null,
   "metadata": {
    "collapsed": true
   },
   "outputs": [],
   "source": [
    "# Filtering the data with 2 thresholds, 500 for the number of entities in an offshore\n",
    "# and 500 for the number of entities coming from a certain country.\n",
    "jurisdiction_country = computations_1.jurisdiction_country_data(entities,500,500,0)\n",
    "# Getting all the data and getting rid of the NaN values.\n",
    "jurisdiction_count = computations_1.jurisdiction_country_data(entities,0,0,0)\n",
    "# Getting all the data avialable with the NaN values for further comparison.\n",
    "total_jurisdiction_count = computations_1.jurisdiction_country_data(entities,0,0,1)"
   ]
  },
  {
   "cell_type": "markdown",
   "metadata": {},
   "source": [
    "### Total jurisdiction count with unavailable data.\n",
    "\n",
    "##### In here we will visualize the total number of offshore accounts opened in the Tax haven countries. Including the ones where the origin country is missing.\n",
    "##### The goal is to visualize the total number of accounts created regardless if the origin country data is present. A threshold cap of 500 was set to the tax haven countries entity count to be able to visualize the data.\n"
   ]
  },
  {
   "cell_type": "code",
   "execution_count": null,
   "metadata": {
    "collapsed": true
   },
   "outputs": [],
   "source": [
    "visualizers_1.visualize_jurisdiction_countly(total_jurisdiction_count.copy())"
   ]
  },
  {
   "cell_type": "markdown",
   "metadata": {},
   "source": [
    "### Those we have data in both fields [ the jurisdiction and the country ]."
   ]
  },
  {
   "cell_type": "code",
   "execution_count": null,
   "metadata": {
    "collapsed": true,
    "scrolled": false
   },
   "outputs": [],
   "source": [
    "visualizers_1.visualize_jurisdiction_countly(jurisdiction_count.copy())"
   ]
  },
  {
   "cell_type": "code",
   "execution_count": null,
   "metadata": {
    "collapsed": true
   },
   "outputs": [],
   "source": [
    "visualizers_1.visualize_jurisdiction_countly_mixed(jurisdiction_count.copy(), total_jurisdiction_count.copy())"
   ]
  },
  {
   "cell_type": "markdown",
   "metadata": {},
   "source": [
    "##### We can see that there is huge amount of missing data from the Bahamas. However this still indicates that the Bahamas is a favourable Tax Haven country and will be included in the analysis further on."
   ]
  },
  {
   "cell_type": "markdown",
   "metadata": {},
   "source": [
    "### Countries involved\n",
    "##### In here we will visualize the total number of offshore entities opened by each country in the dataset."
   ]
  },
  {
   "cell_type": "code",
   "execution_count": null,
   "metadata": {
    "collapsed": true,
    "scrolled": false
   },
   "outputs": [],
   "source": [
    "visualizers_1.visualize_country_count(jurisdiction_count.copy())"
   ]
  },
  {
   "cell_type": "markdown",
   "metadata": {},
   "source": [
    "##### We can notice from the countries listed, some Tax Haven countries are also included, the distribution will be investigated more in the section below."
   ]
  },
  {
   "cell_type": "markdown",
   "metadata": {},
   "source": [
    "### Countries most involved in opening offshore accounts.\n",
    "##### From the visualization above we can extract the countries that are in our opinion worth investigating."
   ]
  },
  {
   "cell_type": "code",
   "execution_count": null,
   "metadata": {
    "collapsed": true
   },
   "outputs": [],
   "source": [
    "countries = ['Bahamas','Cyprus','Isle of Man','Jersey','Luxembourg','Panama',\\\n",
    "             'Russia','Switzerland','Taiwan','United Arab Emirates','United Kingdom',\\\n",
    "            'United States','Hong Kong','British Virgin Islands','Guernsey','Singapore',\\\n",
    "            'China','Liechtenstein','Uruguay','Latvia','Monaco','Gibraltar']"
   ]
  },
  {
   "cell_type": "markdown",
   "metadata": {},
   "source": [
    "##### In here we are visualizing the distribution of the entities from the origin countries in the Tax Haven countries. This analysis will be carried on further in the coming sections"
   ]
  },
  {
   "cell_type": "code",
   "execution_count": null,
   "metadata": {
    "collapsed": true,
    "scrolled": true
   },
   "outputs": [],
   "source": [
    "visualizers_1.visualize_specific_count(countries,jurisdiction_country)"
   ]
  },
  {
   "cell_type": "markdown",
   "metadata": {},
   "source": [
    "We have 40 countries in our dataset which have more than 500 offshore entities associated to them.\n",
    "From those we will investigate the top 5."
   ]
  },
  {
   "cell_type": "markdown",
   "metadata": {},
   "source": [
    "Most important countries to be investigated:\n",
    "* Switzerland\n",
    "* Hong Kong \n",
    "* United Kingdom\n",
    "* United Arab Emirates\n",
    "* Luxembourg"
   ]
  },
  {
   "cell_type": "markdown",
   "metadata": {},
   "source": [
    "In the index of economic freedom, there is no data about any of the british overseas territories [British Virgin islands, Cayman Islands, isle of Man, British Anguilla, Bermuda ] , where most of those territories are considered Tax Havens. Looking throughout the web too, there is no mention of any economical data about those territories which says a lot about the level of secrecy they acquire."
   ]
  },
  {
   "cell_type": "markdown",
   "metadata": {},
   "source": [
    "### Comparing several economical factors between the most involved countries"
   ]
  },
  {
   "cell_type": "markdown",
   "metadata": {},
   "source": [
    "## Extracting information from Economic Index based on column name"
   ]
  },
  {
   "cell_type": "code",
   "execution_count": null,
   "metadata": {
    "collapsed": true
   },
   "outputs": [],
   "source": [
    "# Top countries involved.\n",
    "lead_countries=['Switzerland','Hong Kong','United Kingdom','United Arab Emirates','Luxembourg']\n",
    "# Tax havens that we have data about in the economics index with most number of offshore entities.\n",
    "# Write why we don't have about others ?\n",
    "haven_countries = ['Panama','Bahamas','Samoa','Seychelles']\n",
    "# Both top countries and Tax Havens.\n",
    "both_countries = ['Switzerland','Hong Kong','United Kingdom','United Arab Emirates','Luxembourg','Panama','Bahamas','Samoa','Seychelles']"
   ]
  },
  {
   "cell_type": "code",
   "execution_count": null,
   "metadata": {
    "collapsed": true
   },
   "outputs": [],
   "source": [
    "visualizers_1.visualizing_index_data(economical_indexes,lead_countries,economical_data,years)"
   ]
  },
  {
   "cell_type": "markdown",
   "metadata": {},
   "source": [
    "**Analyzing the data above we can see that:**\n",
    "* The UK leads the GDP by a huge gap, but at the same time has the highest public debt.\n",
    "* The rest of the countries compare similarly w.r.t. the GDP.\n",
    "* Taking a closer look at the GDP per capita which can be a much better indicator than the GDP since it's divided by the population number, we can see that the UK performs the worst ( given that it had a much bigger GDP ) and Luxembourg leads the graph with stunning values.\n",
    "* Apart form the U.A.E ( increasing ) we can see constant decrease / stable inflation rate in the other countries, indicating a healthy economy.\n",
    "* The most interesting is the Foreign direct investment inflow, where we can see a significant amount of money being pumped into Hong Kong, Switzerland, and the UK."
   ]
  },
  {
   "cell_type": "code",
   "execution_count": null,
   "metadata": {
    "collapsed": true
   },
   "outputs": [],
   "source": [
    "visualizers_1.visualizing_index_data(economical_indexes,lead_countries,open_markets_data,years)"
   ]
  },
  {
   "cell_type": "markdown",
   "metadata": {},
   "source": [
    "**Analyzing the data above we can see that:**\n",
    "* Apart from the U.A.E , all of them share rather a similar trade, investment, financial freedom scores.\n",
    "* We can also see that Hong Kong leads all 3 parameters."
   ]
  },
  {
   "cell_type": "code",
   "execution_count": null,
   "metadata": {
    "collapsed": true
   },
   "outputs": [],
   "source": [
    "visualizers_1.visualizing_index_data(economical_indexes,lead_countries,regulatory_efficiency_data,years)"
   ]
  },
  {
   "cell_type": "markdown",
   "metadata": {},
   "source": [
    "**Analyzing the data above we can see that:**\n",
    "* There is quite a diverse distribution of the data in the regulatory efficiency data but within an acceptable range.\n",
    "* Hong kong also leads 2 out of the 3 parameters.\n",
    "* United Kingdom shows a vast improvement from 2013 to 2017.\n",
    "* Surprisingly low score for Luxembourg in labor freedom."
   ]
  },
  {
   "cell_type": "code",
   "execution_count": null,
   "metadata": {
    "collapsed": true
   },
   "outputs": [],
   "source": [
    "visualizers_1.visualizing_index_data(economical_indexes,lead_countries,rule_of_law_data,years)"
   ]
  },
  {
   "cell_type": "markdown",
   "metadata": {},
   "source": [
    "**Analyzing the data above we can see that:**\n",
    "* Apart from the U.A.E which improved significantly from 2016 to 2017, all the other countries share the same score for property rights.\n",
    "* Slight fluctuations of Government integrity score throughout the years."
   ]
  },
  {
   "cell_type": "code",
   "execution_count": null,
   "metadata": {
    "collapsed": true
   },
   "outputs": [],
   "source": [
    "visualizers_1.visualizing_index_data(economical_indexes,lead_countries,government_size_data,years)"
   ]
  },
  {
   "cell_type": "markdown",
   "metadata": {},
   "source": [
    "**Analyzing the data above we can see that:**\n",
    "* We can see apart from fiscal health, there is a wide variety in the distribution in the Tax burden and Government spending score for each country."
   ]
  },
  {
   "cell_type": "markdown",
   "metadata": {},
   "source": [
    "### Visualizing the correlation of features between the involved countries. ( Top 40 )\n",
    "**Basically checking if the data represented above would still be consistent with the rest of the 35 countries.**"
   ]
  },
  {
   "cell_type": "code",
   "execution_count": null,
   "metadata": {
    "collapsed": true
   },
   "outputs": [],
   "source": [
    "# The 40 countries involved.\n",
    "countries_involved = computations_1.compute_countries_involved(jurisdiction_country,0)\n",
    "# Extracting the data for those 40 countries from the 2017 index ONLY.\n",
    "countries_involved_data = computations_1.compute_countries_involved_data(index_2017,countries_involved)"
   ]
  },
  {
   "cell_type": "code",
   "execution_count": null,
   "metadata": {
    "collapsed": true
   },
   "outputs": [],
   "source": [
    "visualizers_1.visualize_feature_correlation(countries_involved_data,open_markets_data)"
   ]
  },
  {
   "cell_type": "markdown",
   "metadata": {},
   "source": [
    "**Analyzing the correlation between the score and the open market parameters:**\n",
    "* High correlation between score all the open market parameters.\n",
    "* HIgh correlation between Financial and investment freedom."
   ]
  },
  {
   "cell_type": "code",
   "execution_count": null,
   "metadata": {
    "collapsed": true
   },
   "outputs": [],
   "source": [
    "visualizers_1.visualize_feature_correlation(countries_involved_data,regulatory_efficiency_data)"
   ]
  },
  {
   "cell_type": "markdown",
   "metadata": {},
   "source": [
    "**Analyzing the correlation between the score and the regulatory efficiency parameters:**\n",
    "* High correlation between score with business and monetary freedom."
   ]
  },
  {
   "cell_type": "code",
   "execution_count": null,
   "metadata": {
    "collapsed": true
   },
   "outputs": [],
   "source": [
    "visualizers_1.visualize_feature_correlation(countries_involved_data,rule_of_law_data)"
   ]
  },
  {
   "cell_type": "markdown",
   "metadata": {},
   "source": [
    "**Analyzing the correlation between the score and the rule of law parameters:**\n",
    "* The highest correlations between all features are found in the rule of law parameters, specifically the property rights and the government integrity.\n"
   ]
  },
  {
   "cell_type": "code",
   "execution_count": null,
   "metadata": {
    "collapsed": true,
    "scrolled": true
   },
   "outputs": [],
   "source": [
    "visualizers_1.visualize_feature_correlation(countries_involved_data,government_size_data)"
   ]
  },
  {
   "cell_type": "markdown",
   "metadata": {},
   "source": [
    "**Analyzing the correlation between the score and the rule of law parameters:**\n",
    "* From the graphs we saw earlier we noticed that there were a lot of fluctuations in the parameters of the government size and we can clearly see that there is very low correlation between the score with tax burden and government spending. Moderate correlation between the score and fiscal health."
   ]
  },
  {
   "cell_type": "markdown",
   "metadata": {},
   "source": [
    "# Research Question 2\n",
    "\n",
    "> How are the countries connected? Is there a pattern in the\n",
    "way players in origin countries select special countries for\n",
    "their offshores?\n",
    "\n",
    "*For every combination of two countries that occur in the data\n",
    "we count the number of offshores founded in one country\n",
    "coming from the other country and vice versa.*\n",
    "\n",
    "## Importing libraries"
   ]
  },
  {
   "cell_type": "code",
   "execution_count": null,
   "metadata": {
    "collapsed": true
   },
   "outputs": [],
   "source": [
    "entities = r'./panama_csv/Entities.csv'\n",
    "entities = pd.read_csv(entities,index_col='name', header=0, low_memory=False)\n",
    "entities=entities.rename(columns = {'countries':'Country'})"
   ]
  },
  {
   "cell_type": "markdown",
   "metadata": {},
   "source": [
    "## Cleaning the data\n",
    "\n",
    "A closer inspection of the data revealed that there are missing values encoded by 'Not identified', 'Undetermined', and 'Recorded in leaked files as \"fund\"'. We convert them to NaN. Furthermore, we observed occurences of 'United States Of America' as well as 'United States'. in order to have consistent names we rename them all to 'United States'."
   ]
  },
  {
   "cell_type": "code",
   "execution_count": null,
   "metadata": {
    "collapsed": true,
    "scrolled": true
   },
   "outputs": [],
   "source": [
    "# reencode missing values\n",
    "entities.Country.replace('Not identified',np.NaN, inplace=True)\n",
    "entities.jurisdiction_description.replace(['Undetermined', 'Recorded in leaked files as \"fund\"'],np.NaN, inplace=True)\n",
    "# consistent naming\n",
    "entities.jurisdiction_description.replace('United States Of America','United States', inplace=True)"
   ]
  },
  {
   "cell_type": "markdown",
   "metadata": {},
   "source": [
    "## Computing the cross table of frequencies \n",
    "\n",
    "As mentionned above, we want to count for every combination of two countries that occur in the data the number of offshores founded in one country coming from the other country and vice versa.\n",
    "The frequencies of relations can be computed using the pandas function `crosstab`."
   ]
  },
  {
   "cell_type": "code",
   "execution_count": null,
   "metadata": {
    "collapsed": true
   },
   "outputs": [],
   "source": [
    "crosstable = pd.crosstab(entities.Country, [entities.jurisdiction_description], rownames=['origin'], colnames=['destination'])\n",
    "crosstable.tail()"
   ]
  },
  {
   "cell_type": "markdown",
   "metadata": {},
   "source": [
    "A closer observation of the country names shows that some offshore entities have more than one origin country. The countries are specified in one data row and the names are seperated by ';', see for example the origin value 'Viet Nam;British Virgin Islands'. For the analysis of the relations between origin and goal countries we decided to count such relations for all of the specified origin countries.\n",
    "\n",
    "Therefore, we refactor the crosstable by duplicating the rows with several origin countries once for every origin country. As this might result in having more than one row per origin country, in the end we group by origin country and sum up all the values. Furthermore, we again drop the row corresponding to the country value 'Not identified'.\n",
    "\n",
    "Furthermore, in a seperate analysis we investigate which countries occur together as origin countries."
   ]
  },
  {
   "cell_type": "code",
   "execution_count": null,
   "metadata": {
    "collapsed": true
   },
   "outputs": [],
   "source": [
    "#duplicating the rows\n",
    "multiple_orig = pd.DataFrame(columns = crosstable.reset_index().columns)\n",
    "for index, row in crosstable.reset_index().iterrows():\n",
    "    for orig in row['origin'].split(';'):\n",
    "        multiple_orig = multiple_orig.append(pd.concat([pd.Series({'origin' : orig}), row[1:]]), ignore_index=True)\n",
    "multiple_orig.head()"
   ]
  },
  {
   "cell_type": "code",
   "execution_count": null,
   "metadata": {
    "collapsed": true
   },
   "outputs": [],
   "source": [
    "#sum up values for each country\n",
    "crosstable = multiple_orig.groupby('origin').sum()\n",
    "crosstable = crosstable.drop('Not identified')"
   ]
  },
  {
   "cell_type": "code",
   "execution_count": null,
   "metadata": {
    "collapsed": true
   },
   "outputs": [],
   "source": [
    "crosstable.to_csv('crosstable.csv')"
   ]
  },
  {
   "cell_type": "markdown",
   "metadata": {},
   "source": [
    "For the further analysis we consider not absolute frequencies but the relative frequencies of destination countries for every origin country. Hence, we perform a row wise normailzation."
   ]
  },
  {
   "cell_type": "code",
   "execution_count": null,
   "metadata": {
    "collapsed": true
   },
   "outputs": [],
   "source": [
    "#row wise normalization\n",
    "crosstable_norm = crosstable.div(crosstable.sum(axis=1), axis=0)"
   ]
  },
  {
   "cell_type": "markdown",
   "metadata": {},
   "source": [
    "## 2.1. Relations between origin and goal countries\n",
    "\n",
    "In order to be able to find a pattern in the\n",
    "way players in origin countries select special countries for\n",
    "their offshores, we cluster the origin countries into groups with similar selection data. The clustering is performed using KMeans with a k-means++ initialization and a maximum of 300 iterations. The number of clusters is determined as the number with the maximal average silhouette. We set the maximal number of clusters for the comparison to 10. It turns out that the optimal number of clusters is 4."
   ]
  },
  {
   "cell_type": "code",
   "execution_count": null,
   "metadata": {
    "collapsed": true
   },
   "outputs": [],
   "source": [
    "from sklearn.cluster import KMeans\n",
    "\n",
    "max_n_clusters = 10\n",
    "scores = []\n",
    "clusters = []\n",
    "# try for nr of clusters up to specified max and chose clustering with optimal silhouette\n",
    "for n_clusters in range(2, max_n_clusters + 1):\n",
    "    kmeans = KMeans(n_clusters=n_clusters, random_state=42).fit(crosstable_norm)\n",
    "    clusters.append(kmeans.labels_)\n",
    "    scores.append(sklearn.metrics.silhouette_score(crosstable_norm, kmeans.labels_))\n",
    "\n",
    "n_clusters = np.argmax(scores)\n",
    "crosstable_norm['cluster'] = clusters[n_clusters]\n",
    "\n",
    "print(n_clusters + 2)"
   ]
  },
  {
   "cell_type": "markdown",
   "metadata": {},
   "source": [
    "In the following plot we visualize for each of the four resulting clusters the relative frequencies for the corresponding countries. It becomes apparent that the first cluster contains those countries where the majority of offshore entities are founded on the British Virgin Islands. The second cluster contains the countries with most offshore entities in Panama, the third those countries with a mojority of entities on the Seychelles. The countries in the fourth cluster show more diverse distributions of destination countries. We observe that for many countries in this cluster the main destination of entities is the country itself, see for example the Cook Islands or Samoa."
   ]
  },
  {
   "cell_type": "code",
   "execution_count": null,
   "metadata": {
    "collapsed": true,
    "scrolled": false
   },
   "outputs": [],
   "source": [
    "#plot frequencies for each cluster\n",
    "for i in range(n_clusters + 2):\n",
    "    visualizer_q3.plot_cross_table(crosstable_norm[crosstable_norm.cluster == i].drop('cluster', axis=1))"
   ]
  },
  {
   "cell_type": "markdown",
   "metadata": {},
   "source": [
    "In order to better understand the underlying structures that lead to those patterns of selection of destination countries, we want to find similarities of the countries which are in the same cluster. The first thing we consider is geographical closeness. Therefore we display a map where countries in the same cluster have the same color. Form the map it becomes apparent most South American countries (Brasil being the most apparent exception) have the majority of offshore entities in Panama (cluster 2). In Northern America and the UK, most offshore entities are founded on the British Virgin Islands."
   ]
  },
  {
   "cell_type": "code",
   "execution_count": null,
   "metadata": {
    "collapsed": true
   },
   "outputs": [],
   "source": [
    "# information that is needed for the map\n",
    "cluster_info = crosstable_norm.reset_index()[['origin', 'cluster']]"
   ]
  },
  {
   "cell_type": "code",
   "execution_count": null,
   "metadata": {
    "collapsed": true
   },
   "outputs": [],
   "source": [
    "# load information about countries in the world\n",
    "world_topojson_path = r'json/world-countries.json'\n",
    "world_topojson = json.load(open(world_topojson_path))\n",
    "url = 'https://restcountries.eu/rest/v2/'\n",
    "restcountries, nametoid = visualizer_q3.buildJsonAPI(url)"
   ]
  },
  {
   "cell_type": "code",
   "execution_count": null,
   "metadata": {
    "collapsed": true
   },
   "outputs": [],
   "source": [
    "# fix naming problems\n",
    "nametoid['Bolivia'] = 68\n",
    "nametoid['British Virgin Islands'] = 92\n",
    "nametoid['Brunei'] = 96\n",
    "nametoid['Iran'] = 368\n",
    "nametoid['Macedonia'] = 807\n",
    "nametoid['Moldova'] = 498\n",
    "nametoid['Russia'] = 643\n",
    "nametoid['South Korea'] = 410\n",
    "nametoid['Syria'] = 760\n",
    "nametoid['Tanzania'] = 834\n",
    "nametoid['U.S. Virgin Islands'] = 850\n",
    "nametoid['United Kingdom'] = 826\n",
    "nametoid['United States'] = 840\n",
    "nametoid['Venezuela'] = 862"
   ]
  },
  {
   "cell_type": "code",
   "execution_count": null,
   "metadata": {
    "collapsed": true
   },
   "outputs": [],
   "source": [
    "#add ids to countries in order to match them with topojson data\n",
    "cluster_info['id'] = cluster_info.origin.apply(lambda x: restcountries[nametoid[x]]['alpha3Code'])"
   ]
  },
  {
   "cell_type": "code",
   "execution_count": null,
   "metadata": {
    "collapsed": true
   },
   "outputs": [],
   "source": [
    "cluster_info[cluster_info['origin']=='Switzerland']"
   ]
  },
  {
   "cell_type": "code",
   "execution_count": null,
   "metadata": {
    "collapsed": true
   },
   "outputs": [],
   "source": [
    "# create map\n",
    "m = folium.Map([46.8,8], \n",
    "               tiles='cartodbpositron', \n",
    "               zoom_start=1)"
   ]
  },
  {
   "cell_type": "code",
   "execution_count": null,
   "metadata": {
    "collapsed": true
   },
   "outputs": [],
   "source": [
    "# add the chororpleth and dispay map\n",
    "visualizer_q3.addChoropleth(cluster_info, m, 'cluster','Cluster', 'id','YlGnBu', world_topojson,'objects.countries1')\n",
    "m"
   ]
  },
  {
   "cell_type": "markdown",
   "metadata": {},
   "source": [
    "We want to find futrther reasons for those patterns by considering historical and economic background information. While the historical background requires a per country research, we plan to investigate the economic factors by comparing the distributions of the measures specified Index of Eonomic freedom data set between the four different clusters."
   ]
  },
  {
   "cell_type": "markdown",
   "metadata": {},
   "source": [
    "## 2.2. Relations between origin countries\n",
    "\n",
    "In this section we want to further analyze which countries occur together as origin countries. We plan to follow the same steps of analysis as in the previous section."
   ]
  },
  {
   "cell_type": "code",
   "execution_count": null,
   "metadata": {
    "collapsed": true
   },
   "outputs": [],
   "source": [
    "#plot for first superficial analsis\n",
    "countries = entities.Country.dropna()\n",
    "counts = countries[countries.str.contains(';') & ~(countries.str.contains('Not identified'))].value_counts()\n",
    "ax = counts[counts >= 10].plot(kind='barh', figsize=(10, 50))\n",
    "ax.invert_yaxis()"
   ]
  },
  {
   "cell_type": "markdown",
   "metadata": {},
   "source": [
    "We observe that if more than one origin country is specified, one of them is very often the British Virgin Islands. We guess this might be due to special legal requirements for founding an entity there. (TODO: verify)."
   ]
  },
  {
   "cell_type": "code",
   "execution_count": null,
   "metadata": {
    "collapsed": true
   },
   "outputs": [],
   "source": [
    "#split the strings into the different country names for further analysis\n",
    "split = pd.DataFrame(entities.Country.dropna()[entities.Country.dropna().str.contains(';')].str.split(';').tolist(), columns = ['origin1','origin2', 'origin3', 'origin4'])#"
   ]
  },
  {
   "cell_type": "code",
   "execution_count": null,
   "metadata": {
    "collapsed": true
   },
   "outputs": [],
   "source": [
    "#get unique values, this will be the rows / cols of the crosstabke\n",
    "vals = split.values.flatten()\n",
    "vals = np.unique(vals[vals != np.array(None)])"
   ]
  },
  {
   "cell_type": "markdown",
   "metadata": {},
   "source": [
    "# Research Question 3\n",
    "> ##### There is a hypothesis that scandals involving tax havens actually help to promote creating offshores there. \n",
    "See for example [International Strategic Analysis](http://www.isa-world.com/news/?tx_ttnews%5BbackPid%5D=1&tx_ttnews%5Btt_news%5D=198&cHash=10b412a7de63d3b2a02adf0d120a09f6). Can we find evidence for this in the data?"
   ]
  },
  {
   "cell_type": "markdown",
   "metadata": {},
   "source": [
    "## Most important leaks\n",
    "Here is a list of the most important leaks documented by the International Consortium of Investigative Journalists [ICIJ](https://offshoreleaks.icij.org/)\n",
    "- **Bahamas Leak** ->\n",
    "April 2, 2013\n",
    "- **China Leak ⭐️** ->\n",
    "January 21, 2014\n",
    "- **Lux Leak** ->\n",
    "December 9, 2014\n",
    "- **Swiss Leak** ->\n",
    "February 8, 2015 \n",
    "- **Panama Leak** ->\n",
    "April 3, 2016 "
   ]
  },
  {
   "cell_type": "markdown",
   "metadata": {},
   "source": [
    "### Importing libs\n",
    "___"
   ]
  },
  {
   "cell_type": "markdown",
   "metadata": {},
   "source": [
    "### Loading csv files"
   ]
  },
  {
   "cell_type": "code",
   "execution_count": null,
   "metadata": {
    "collapsed": true,
    "scrolled": false
   },
   "outputs": [],
   "source": [
    "entities = r'./panama_csv/Entities.csv'\n",
    "entities = pd.read_csv(entities,index_col='name', header=0, low_memory=False)\n",
    "entities=entities.rename(columns = {'countries':'Country'})"
   ]
  },
  {
   "cell_type": "markdown",
   "metadata": {},
   "source": [
    "## Getting the most involved countries/jurisdictions.\n",
    "___\n",
    "From the Entities dataset we select:\n",
    "- **15 most involved countries**, on which we compute our analysis. Those countries are the countries that have the highest number of offshores accounts in tax haven jurisdictions.\n",
    "- **5 most involved jurisdictions**, on which we compute our analysis. Those jurisdictions are the jurisdictions that are managing / managed the highest registered number of offshores accounts worldwide.\n",
    "\n",
    "### What do we do?\n",
    "\n",
    "For each of the most involved countries/jurisdictions we analyze how much are they involved and what's their behavior throughout the years. \n",
    "\n",
    "1. We define how much each jurisdiction is involved by looking at how many offshores accounts are registered in it.\n",
    "2. We define how much those countries are involved by looking at how many offshores accounts are registered from this country as country of origin.\n",
    "\n",
    "It's important to note that we want to look also at the number of **new incorporations** - **inactivations** and **active offshores** for every year.\n",
    "\n",
    "The number of new incorporations as the number of inactivations for each year is easily derived by the dataset since for each account there it's registered the date of incorporation as the one of inactivation. \n",
    "The number of actives offshores in one year is easily computed with a simple algorithm given the dates above.\n",
    "\n",
    "### Why?\n",
    "\n",
    "To state wheter one scandals has visible worldwide consequences we must base our analysis on the number of, in this way analyzing:\n",
    "- **new incorporations**, this number can give us the proof is one scandal actually acted as a marketing tool, inviting people of one specific **COUNTRY** to invest in offshores account in one specific tax haven **JURISDICTION**.\n",
    "- **inactivations**, this number can give us the proof is one scandal scared people in one specific **COUNTRY** that are actually investing in one specific tax haven **JURISDICTION**.\n",
    "\n",
    "We are also interested to look at key events or particular years where the global market has undergone a major change. To do this we will look at the behavior of the most involved countries throughout the years, how they invested, how much and in which jurisdictions.\n",
    "\n",
    "## Further assumptions.\n",
    "We must note that all the following results are based on a fraction of the whole real data, which is the only available and emerged. We can consider the eventual results realistics since the data we are analyzing contains a good amount of data. However we cannot exclude that further scandals can obviously revert them.\n",
    "### Getting most involved countries and jurisdictions\n",
    "___\n",
    "We group by __Country/Jurisdiction__, we count the elements sorting by **node_id** which represent the unique id of each offshore account."
   ]
  },
  {
   "cell_type": "code",
   "execution_count": null,
   "metadata": {
    "collapsed": true
   },
   "outputs": [],
   "source": [
    "most_involved = entities.groupby('Country').count().sort_values('node_id', ascending=False).head(50).index\n",
    "most_involved = most_involved[most_involved!='Not identified']\n",
    "most_involved_countries = []\n",
    "for involved in most_involved:\n",
    "    if involved == 'British Virgin Islands':\n",
    "        name = 'Virgin Islands (British)'\n",
    "    elif involved == 'United Kingdom':\n",
    "        name = 'United Kingdom of Great Britain and Northern Ireland'\n",
    "    else:\n",
    "        name = involved\n",
    "    most_involved_countries.append(name)\n",
    "most_involved_jur = entities.groupby('jurisdiction_description').count().sort_values('node_id', ascending=False).head().index\n",
    "most_involved_jur = most_involved_jur[most_involved_jur!='Undetermined']\n",
    "most_involved_jur"
   ]
  },
  {
   "cell_type": "markdown",
   "metadata": {},
   "source": [
    "## Preprocessing dataset\n",
    "___\n",
    "We process the entity dataframe to obtain a new dataframe that maps the flows of **inactivations**, **incorporations**, **actives** offshores for each year from one **country** to each **jurisdiction**.\n",
    "\n",
    "The structure of the new dataframe is composed in this way:\n",
    "- **jurisdiction**, the name of the jurisdiction where the offshore account is opened.\n",
    "- **Country**, the name of the origin country of the offshore account.\n",
    "- **date**, the year that the entry is considering.\n",
    "- **action**, wheter we are counting incorporations/inactivations/active offshores/strucks off offshores in the specific date described above\n",
    "- **offshores**, the number directly related to the field action described above in the specific year."
   ]
  },
  {
   "cell_type": "code",
   "execution_count": null,
   "metadata": {
    "collapsed": true,
    "scrolled": false
   },
   "outputs": [],
   "source": [
    "countries_frame = preprocessing.process_countries(entities=entities, first_involved_countries=most_involved, analisys_on='jurisdiction', from_year=1980, to_year=2016)"
   ]
  },
  {
   "cell_type": "code",
   "execution_count": null,
   "metadata": {
    "collapsed": true
   },
   "outputs": [],
   "source": [
    "time_series = preprocessing.process_countries_unstacked(entities=entities, first_involved_countries=most_involved, analisys_on='jurisdiction', from_year=1980, to_year=2016)"
   ]
  },
  {
   "cell_type": "code",
   "execution_count": null,
   "metadata": {
    "collapsed": true,
    "scrolled": true
   },
   "outputs": [],
   "source": [
    "visualizer.visualize_clusters_with_brush(countries_frame, cluster_info, 'inactivations')"
   ]
  },
  {
   "cell_type": "code",
   "execution_count": null,
   "metadata": {
    "collapsed": true
   },
   "outputs": [],
   "source": [
    "visualizer.visualize_clusters_with_brush(countries_frame, cluster_info, 'incorporations')"
   ]
  },
  {
   "cell_type": "code",
   "execution_count": null,
   "metadata": {
    "collapsed": true
   },
   "outputs": [],
   "source": [
    "#visualizer.visualize_clusters_with_brush(countries_frame, cluster_info, 'strucks')\n",
    "#visualizer.visualize_clusters_with_brush(countries_frame, cluster_info, 'active offshores')"
   ]
  },
  {
   "cell_type": "code",
   "execution_count": null,
   "metadata": {
    "collapsed": true,
    "scrolled": true
   },
   "outputs": [],
   "source": [
    "visualizer.visualize_candle_country(time_series, filter_top_for_story=True)"
   ]
  },
  {
   "cell_type": "code",
   "execution_count": null,
   "metadata": {
    "collapsed": true,
    "scrolled": true
   },
   "outputs": [],
   "source": [
    "visualizer.visualize_slider_country(countries_frame, 'incorporations', filter_top_for_story=True)"
   ]
  },
  {
   "cell_type": "code",
   "execution_count": null,
   "metadata": {
    "collapsed": true
   },
   "outputs": [],
   "source": [
    "from IPython.display import IFrame\n",
    "IFrame(\"https://tvchart.tradingeconomics.com/c?s=SHCOMP:IND&interval=M&locale=com&originUrl=https://tradingeconomics.com/china/stock-market\", width=700, height=350)"
   ]
  },
  {
   "cell_type": "markdown",
   "metadata": {},
   "source": [
    "## Visualizing situation in the most involved countries"
   ]
  },
  {
   "cell_type": "code",
   "execution_count": null,
   "metadata": {
    "collapsed": true,
    "scrolled": true
   },
   "outputs": [],
   "source": [
    "visualizer.visualize_countries_situation(countries_frame, divide_by='Country')"
   ]
  },
  {
   "cell_type": "markdown",
   "metadata": {},
   "source": [
    "## Visualizing situation in the most involved jurisdictions\n",
    "___\n",
    "#### British Virgin Islands\n"
   ]
  },
  {
   "cell_type": "code",
   "execution_count": null,
   "metadata": {
    "collapsed": true,
    "scrolled": true
   },
   "outputs": [],
   "source": [
    "visualizer.visualize_countries_situation(countries_frame, divide_by='Country',selected_jurisdiction='British Virgin Islands')"
   ]
  },
  {
   "cell_type": "markdown",
   "metadata": {},
   "source": [
    "#### Panama"
   ]
  },
  {
   "cell_type": "code",
   "execution_count": null,
   "metadata": {
    "collapsed": true,
    "scrolled": true
   },
   "outputs": [],
   "source": [
    "visualizer.visualize_countries_situation(countries_frame, divide_by='Country',selected_jurisdiction='Panama')"
   ]
  },
  {
   "cell_type": "code",
   "execution_count": null,
   "metadata": {
    "collapsed": true,
    "scrolled": true
   },
   "outputs": [],
   "source": [
    "visualizer.visualize_flow_by_country(country='Switzerland', feat='actives', year=2014)"
   ]
  },
  {
   "cell_type": "markdown",
   "metadata": {},
   "source": [
    "## Save CSV\n",
    "This function is used to create the CSV used for the visualization. \n",
    "\n",
    "__No need to run it again since are already created and accessible__."
   ]
  },
  {
   "cell_type": "code",
   "execution_count": null,
   "metadata": {
    "collapsed": true,
    "scrolled": true
   },
   "outputs": [],
   "source": [
    "entities = r'./panama_csv/Entities.csv'\n",
    "entities = pd.read_csv(entities,index_col='name', header=0, low_memory=False)\n",
    "entities=entities.rename(columns = {'countries':'Country','jurisdiction':'abbr_jurisd','jurisdiction_description':'jurisdiction'})\n",
    "all_countries = entities.groupby('Country').count().index\n",
    "features = ['active offshores', 'incorporations', 'inactivations']\n",
    "for feature in features:\n",
    "    frame = preprocessing.process_countries_with_code(entities, \n",
    "                                                            all_countries, \n",
    "                                                            analisys_on='Country', \n",
    "                                                            from_year=1900, \n",
    "                                                            to_year=2017,\n",
    "                                                            feature=feature\n",
    "                                                           )\n",
    "    name = feature\n",
    "    if name == 'active offshores':\n",
    "        name = 'actives'\n",
    "    frame.to_csv('csv/cash_flows_'+name+'.csv', index=False)"
   ]
  },
  {
   "cell_type": "markdown",
   "metadata": {},
   "source": [
    "## Other further ideas\n",
    "\n",
    "> ### [How much money do you need in order to make an offshore account worthwhile ?](http://www.macleans.ca/news/world/why-do-the-rich-hide-money-offshore-anyway/)\n",
    "> ### The [Financial Secrecy Index](http://www.financialsecrecyindex.com/introduction/fsi-2015-results) can be useful to investigate differences between tax haven jurisdictions."
   ]
  }
 ],
 "metadata": {
  "kernelspec": {
   "display_name": "Python 3",
   "language": "python",
   "name": "python3"
  },
  "language_info": {
   "codemirror_mode": {
    "name": "ipython",
    "version": 3
   },
   "file_extension": ".py",
   "mimetype": "text/x-python",
   "name": "python",
   "nbconvert_exporter": "python",
   "pygments_lexer": "ipython3",
   "version": "3.6.2"
  }
 },
 "nbformat": 4,
 "nbformat_minor": 1
}

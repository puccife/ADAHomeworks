{
 "cells": [
  {
   "cell_type": "markdown",
   "metadata": {},
   "source": [
    "# `Inside the Offshores leak`\n",
    "`Panama Papers as you have never seen it`\n",
    "\n",
    "# Attention please, refer to the online version of the [notebook viewer](https://nbviewer.jupyter.org/github/puccife/ADAHomeworks/blob/master/project/project_analysis_milestone_2.ipynb)"
   ]
  },
  {
   "cell_type": "markdown",
   "metadata": {},
   "source": [
    "### Importing libs"
   ]
  },
  {
   "cell_type": "code",
   "execution_count": 1,
   "metadata": {},
   "outputs": [
    {
     "data": {
      "text/html": [
       "<script>requirejs.config({paths: { 'plotly': ['https://cdn.plot.ly/plotly-latest.min']},});if(!window.Plotly) {{require(['plotly'],function(plotly) {window.Plotly=plotly;});}}</script>"
      ],
      "text/vnd.plotly.v1+html": [
       "<script>requirejs.config({paths: { 'plotly': ['https://cdn.plot.ly/plotly-latest.min']},});if(!window.Plotly) {{require(['plotly'],function(plotly) {window.Plotly=plotly;});}}</script>"
      ]
     },
     "metadata": {},
     "output_type": "display_data"
    }
   ],
   "source": [
    "from __future__ import print_function\n",
    "from ipywidgets import interact, interactive, fixed, interact_manual\n",
    "import ipywidgets as widgetsimport\n",
    "import pandas as pd\n",
    "from IPython.display import display\n",
    "import matplotlib.pyplot as plt\n",
    "import numpy as np\n",
    "import matplotlib.pyplot as plt\n",
    "import seaborn as sns\n",
    "import collections\n",
    "from utils import visualizer, preprocessing, visualizers_1, preprocessing_1,computations_1, visualizer_q3\n",
    "import sklearn\n",
    "import json\n",
    "import folium\n",
    "%load_ext autoreload\n",
    "%autoreload 2\n",
    "%matplotlib inline\n",
    "#Import new style\n",
    "plt.style.use('bmh')"
   ]
  },
  {
   "cell_type": "markdown",
   "metadata": {},
   "source": [
    "# Extracting data "
   ]
  },
  {
   "cell_type": "code",
   "execution_count": null,
   "metadata": {
    "collapsed": true,
    "scrolled": true
   },
   "outputs": [],
   "source": [
    "# File names path\n",
    "entities = r'./panama_csv/Entities.csv'\n",
    "index_2013 = r'./the_index/index2013_data.xls'\n",
    "index_2014 = r'./the_index/index2014_data.xls'\n",
    "index_2015 = r'./the_index/index2015_data.xls'\n",
    "index_2016 = r'./the_index/index2016_data.xls'\n",
    "index_2017 = r'./the_index/index2017_data.xls'\n",
    "\n",
    "entities = pd.read_csv(entities, header=0, low_memory=False)\n",
    "#entities_c = entities.copy()\n",
    "\n",
    "index_2013 = pd.read_excel(index_2013,index_col = 'Country Name',header=0)\n",
    "index_2014 = pd.read_excel(index_2014,index_col = 'Country Name',header=0)\n",
    "index_2015 = pd.read_excel(index_2015,index_col = 'Country Name',header=0)\n",
    "index_2016 = pd.read_excel(index_2016,index_col = 'Country Name',header=0)\n",
    "index_2017 = pd.read_excel(index_2017,index_col = 'Country Name',header=0)"
   ]
  },
  {
   "cell_type": "markdown",
   "metadata": {},
   "source": [
    "## Explaining the data:\n",
    "\n",
    "<h1><center>**~~ Panama Papers ~~**</center></h1>\n",
    "\n",
    "**Introduction: ** \n",
    "\n",
    "This database contains information on almost 500,000 offshore entities that are part of the Panama Papers, the Offshore Leaks and the Bahamas Leaks investigations. The data covers nearly 40 years – from 1977 through to early 2016 – and links to people and companies in more than 200 countries and territories. The real value of the database is that it strips away the secrecy that cloaks companies and trusts incorporated in tax havens and exposes the people behind them. This includes, when available, the names of the real owners of those opaque structures.\n",
    "\n",
    "The dataset is divided into 5 **main** csv files :\n",
    "* Addresses\n",
    "* Edges\n",
    "* Entities\n",
    "* Intermediaries\n",
    "* Officers\n",
    "\n",
    "In this project we are focusing on the relationships between the countries involved.Briefly here is the list of our research questions.\n",
    "\n",
    "1. How the number of offshores that are founded from an origin country in tax havens is related to economical factors of the origin country? Which roles does the legal situation in the origin country play compared to the legal situation in the offshore country?\n",
    "3. How are the countries connected? Is there a pattern in the way players in origin counrties select special countries for their offshores.\n",
    "4. There is a hypothesis that scandals involving tax havens actually help to promote creating offshores there. Can we find evidence for this in the data?\n",
    "\n",
    "To look through those questions into more details, we use the **csv** file named **Entities** which contains the connections between the origin and tax haven countries and use the help of the dataset **Index Of Economics Freedom** to understand the economical/legal parameters of each country.\n",
    "\n",
    "Here is a brief description of the columns used from the **Entities** csv file.\n",
    "\n",
    "* **Node_id:** A unique node id for each set of data. \n",
    "* **Country:** The country where the offshore entity was created from.\n",
    "* **Jurisdiction:** The country that has official power to make legal decisions and judgements. Interpreted here as the Tax Haven countries.\n",
    "* **Incorporation Date:** The date when an offshore entity was created.\n",
    "* **Inactivation Date:** The date when a client told the agent to deactivate the offshore entity, which could be reactivated at a later date.\n",
    "* **Struck off date:**  A company becomes struck off when it fails to be in good standing, which happens when it fails to pay license fees. In the offshore world this is the equivalent to closing an entity, although it can be reactivated at a later date if the fees start being paid again.\n",
    "\n",
    "Other columns such as name of the company, service provider, addresses are available but they are of no use to us and since we are investigating the leak at a country level, we are not in need to use the other files.\n",
    "\n",
    "<h1><center>**~~ Index Of Economics Freedom ~~**</center></h1>\n",
    "\n",
    "**Introduction:**\n",
    "\n",
    "Economic freedom is the fundamental right of every human to control his or her own labor and property. In an economically free society, individuals are free to work, produce, consume, and invest in any way they please. In economically free societies, governments allow labor, capital, and goods to move freely, and refrain from coercion or constraint of liberty beyond the extent necessary to protect and maintain liberty itself. The Index covers 12 economic freedoms, objective measurements, historical background, and policy analysis of 186 economies troughout the world. The 12 economic freedoms are grouped into four pillars of economic freedom:\n",
    "\n",
    "**1. Rule of law:**\n",
    "\n",
    " * **Property rights:** is an assessment of the ability of individuals to accumulate private property, secured by clear laws that are fully enforced by the state. It measures the degree to which a country’s laws protect private property rights and the degree to which its government enforces those laws.\n",
    " * **Government integrity:** \"Corruption\" is the abuse of entrusted power for private gain. It can be classified as grand, petty and political, depending on the amounts of money lost and the sector where it occurs.\n",
    " * **Judicial effectiveness:** Well-functioning civil justice systems protect the rights of all citizens against infringement of the law by others, including powerful parties and governments. An essential component of the rule of law is indeed based on effective and fair judicial systems to ensure that the laws are respected and appropriate sanctions are taken when they are violated.\n",
    " \n",
    "**2. Government Size:**\n",
    "\n",
    " * **Government spending:** Considers the level of government expenditures as a percentage of GDP. General government expenditure data include all levels of government such as federal, state, and local. Research have shown that excessive government spending that causes chronic budget deficits and the accumulation of sovereign debt is one of the most serious drags on economic dynamism.\n",
    " * **Tax burden:** is a measure of the tax burden imposed by government. It includes direct taxes, in terms of the top marginal tax rates on individual and corporate incomes, and overall taxes, including all forms of direct and indirect taxation at all levels of government, as a percentage of GDP.\n",
    " * **Fiscal health:** A government’s budget is one of the clearest indicators of the extent to which it respects the principle of limited government. Widening deficits and a growing debt burden, both of which are direct consequences of poor government budget management, lead to the erosion of a country’s overall fiscal health.\n",
    " \n",
    "**3. Regulatory Efficiency:**\n",
    "\n",
    " * **Business freedom:**  is an overall indicator of the efficiency of government regulation of business. Individual’s ability to establish and run an enterprise without undue interference from the state is one of the most fundamental indicators. It is formed from several factors:\n",
    "   * Starting a business [ Procedure / Time / Cost / Minimum capital ]\n",
    "   * Obtaining a license [ Procedure / Time / Cost ]\n",
    "   * Closing a business [ Time / Cost / Recovery rate ]\n",
    " * **Labor freedom:**  is a quantitative measure that considers various aspects of the legal and regulatory framework of a country’s labor market, including regulations concerning minimum wages, laws inhibiting layoffs, severance requirements, and measurable regulatory restraints on hiring and hours worked.\n",
    " * **Monetary freedom:**  combines a measure of price stability with an assessment of price controls. Both inflation and price controls distort market activity. Price stability without microeconomic intervention is the ideal state for the free market.\n",
    " \n",
    "**4. Open Markets:**\n",
    "\n",
    " * **Trade freedom:**  is a composite measure of the absence of tariff and non-tariff barriers that affect imports and exports of goods and services.The trade freedom score is based on two inputs:\n",
    "   * The trade-weighted average tariff rate.\n",
    "   * Non-tariff barriers (NTBs). The categories considered are:\n",
    "     * Quantity restrictions.\n",
    "     * Price restrictions.\n",
    "     * Regulatory restrictions.\n",
    "     * Customs restrictions.\n",
    "     * Investment restrictions.\n",
    "     * Direct government intervention.\n",
    " * **Investment freedom:** Describes the constraints on the flow of investment capital. Individuals and firms would be allowed to move their resources into and out of specific activities, both internally and across the country’s borders, without restriction. Countries have different rules for foreign and domestic investment; some restrict access to foreign exchange; some impose restrictions on payments, transfers, and capital transactions; in some, certain industries are closed to foreign investment. Labor regulations, corruption, red tape, weak infrastructure, and political and security conditions can also affect the freedom that investors have in a market.\n",
    " * **Financial freedom:** is a measure of banking efficiency as well as a measure of independence from government control and interference in the financial sector. It is calculated by looking at those broad areas:\n",
    "   * The extent of government regulation of financial services.\n",
    "   * The degree of state intervention in banks and other financial firms through direct and indirect ownership.\n",
    "   * The extent of financial and capital market development.\n",
    "   * Government influence on the allocation of credit.\n",
    "   * Openness to foreign competition.\n",
    "   \n",
    "**5. Monetary measure:**\n",
    " * **Gross Domestic Product (GDP):** is a monetary measure of the market value of all final goods and services produced in a period of time.\n",
    " * **GDP growth rate:** measures how fast the economy is growing. It does this by comparing one year of the country's gross domestic product to the previous year.\n",
    " * **GDP per Capita:** is the GDP of a year divided by the average population of the same year.\n",
    " * **Government Expenditure:**  refers to the purchase of goods and services, which include public consumption and public investment, and transfer payments consisting of income transfers and capital transfer.\n",
    " * **Inflation:** is the rate at which the general level of prices for goods and services is rising and, consequently, the purchasing power of currency is falling.\n",
    " * **Foreign Direct Investment Inflow:** the value of inward direct investment made by non-resident investors in the reporting economy.\n",
    " * **Public Debt:** is how much a government owes to creditors outside of itself."
   ]
  },
  {
   "cell_type": "markdown",
   "metadata": {},
   "source": [
    "# Research Question 1\n",
    "\n",
    "> Which economic factors motivate the foundation of offshore companies? Which role does the legal situation in the origin country play compared to the legal situation in the offshore country?"
   ]
  },
  {
   "cell_type": "markdown",
   "metadata": {},
   "source": [
    "##### As shown above, the features of the index of economical freedom are divided into 5 categories.\n"
   ]
  },
  {
   "cell_type": "code",
   "execution_count": null,
   "metadata": {
    "collapsed": true
   },
   "outputs": [],
   "source": [
    "# Dividing the columns into their corresponding categories.\n",
    "open_markets_data = ['Trade Freedom','Investment Freedom ','Financial Freedom']\n",
    "regulatory_efficiency_data = ['Business Freedom','Labor Freedom','Monetary Freedom']\n",
    "rule_of_law_data = ['Property Rights','Government Integrity','Judical Effectiveness']\n",
    "government_size_data = ['Gov\\'t Spending','Fiscal Health','Tax Burden']\n",
    "economical_data = ['GDP (Billions, PPP)','GDP Growth Rate (%)','GDP per Capita (PPP)'\\\n",
    "                   ,'Gov\\'t Expenditure % of GDP ','Inflation (%)',\\\n",
    "                   'FDI Inflow (Millions)','Public Debt (% of GDP)']\n",
    "# Years.\n",
    "years = ['2017', '2016', '2015', '2014','2013']"
   ]
  },
  {
   "cell_type": "markdown",
   "metadata": {},
   "source": [
    "##### Rough idea of how the entities file is distributed."
   ]
  },
  {
   "cell_type": "code",
   "execution_count": null,
   "metadata": {
    "collapsed": true
   },
   "outputs": [],
   "source": [
    "entities.head(3)"
   ]
  },
  {
   "cell_type": "code",
   "execution_count": null,
   "metadata": {
    "collapsed": true
   },
   "outputs": [],
   "source": [
    "print(\"The number of rows / entities we have in our data is {}.\".format(len(entities)))\n",
    "print(\"The number of unique countries involved is {}.\".format(len(entities.countries.unique())))\n",
    "print(\"The number of unique Tax havens / jurisdictions is {}.\".format(len(entities.jurisdiction_description.unique())))\n",
    "print(\"Is Node_ID unique? {}.\".format(entities.node_id.is_unique))"
   ]
  },
  {
   "cell_type": "markdown",
   "metadata": {},
   "source": [
    "You may find it weird that the number of countries involved is 519 while the total number of countries in the world is 195. This is due to the fact that there are many fields where the data is not ideal in addition to the presence of cities/states instead of countries. This will be discussed further on in this notebook."
   ]
  },
  {
   "cell_type": "markdown",
   "metadata": {},
   "source": [
    "### Cleaning the datasets and concatenating them into a single dataframe."
   ]
  },
  {
   "cell_type": "code",
   "execution_count": null,
   "metadata": {
    "collapsed": true
   },
   "outputs": [],
   "source": [
    "# Cleaning process.\n",
    "index_2013 = preprocessing_1.cleaning_index_data(index_2013,'2012')\n",
    "index_2014 = preprocessing_1.cleaning_index_data(index_2014,'2013')\n",
    "index_2015 = preprocessing_1.cleaning_index_data(index_2015,'2014')\n",
    "index_2016 = preprocessing_1.cleaning_index_data(index_2016,'2015')\n",
    "index_2017 = preprocessing_1.cleaning_index_data(index_2017,'2016')\n",
    "# Concatenating all the datasets.\n",
    "economical_indexes = pd.concat([index_2017,index_2016,index_2015,index_2014,index_2013])"
   ]
  },
  {
   "cell_type": "code",
   "execution_count": null,
   "metadata": {
    "collapsed": true
   },
   "outputs": [],
   "source": [
    "# Filtering the data with 2 thresholds, 500 for the number of entities in an offshore\n",
    "# and 500 for the number of entities coming from a certain country.\n",
    "jurisdiction_country = computations_1.jurisdiction_country_data(entities,500,500,0)\n",
    "# Getting all the data and getting rid of the NaN values.\n",
    "jurisdiction_count = computations_1.jurisdiction_country_data(entities,0,0,0)\n",
    "# Getting all the data avialable with the NaN values for further comparison.\n",
    "total_jurisdiction_count = computations_1.jurisdiction_country_data(entities,0,0,1)"
   ]
  },
  {
   "cell_type": "markdown",
   "metadata": {},
   "source": [
    "### Total jurisdiction count with unavailable data.\n",
    "\n",
    "##### In here we will visualize the total number of offshore accounts opened in the Tax haven countries. Including the ones where the origin country is missing.\n",
    "##### The goal is to visualize the total number of accounts created regardless if the origin country data is present. A threshold cap of 500 was set to the tax haven countries entity count to be able to visualize the data.\n"
   ]
  },
  {
   "cell_type": "code",
   "execution_count": null,
   "metadata": {
    "collapsed": true
   },
   "outputs": [],
   "source": [
    "visualizers_1.visualize_jurisdiction_count(total_jurisdiction_count)"
   ]
  },
  {
   "cell_type": "markdown",
   "metadata": {},
   "source": [
    "### Those we have data in both fields [ the jurisdiction and the country ]."
   ]
  },
  {
   "cell_type": "code",
   "execution_count": null,
   "metadata": {
    "collapsed": true,
    "scrolled": false
   },
   "outputs": [],
   "source": [
    "visualizers_1.visualize_jurisdiction_count(jurisdiction_count)"
   ]
  },
  {
   "cell_type": "markdown",
   "metadata": {},
   "source": [
    "##### We can see that there is huge amount of missing data from the Bahamas. However this still indicates that the Bahamas is a favourable Tax Haven country and will be included in the analysis further on."
   ]
  },
  {
   "cell_type": "markdown",
   "metadata": {},
   "source": [
    "### Countries involved\n",
    "##### In here we will visualize the total number of offshore entities opened by each country in the dataset."
   ]
  },
  {
   "cell_type": "code",
   "execution_count": null,
   "metadata": {
    "collapsed": true,
    "scrolled": false
   },
   "outputs": [],
   "source": [
    "visualizers_1.visualize_country_count(jurisdiction_count)"
   ]
  },
  {
   "cell_type": "markdown",
   "metadata": {},
   "source": [
    "##### We can notice from the countries listed, some Tax Haven countries are also included, the distribution will be investigated more in the section below."
   ]
  },
  {
   "cell_type": "markdown",
   "metadata": {},
   "source": [
    "### Countries most involved in opening offshore accounts.\n",
    "##### From the visualization above we can extract the countries that are in our opinion worth investigating."
   ]
  },
  {
   "cell_type": "code",
   "execution_count": null,
   "metadata": {
    "collapsed": true
   },
   "outputs": [],
   "source": [
    "countries = ['Bahamas','Cyprus','Isle of Man','Jersey','Luxembourg','Panama',\\\n",
    "             'Russia','Switzerland','Taiwan','United Arab Emirates','United Kingdom',\\\n",
    "            'United States','Hong Kong','British Virgin Islands','Guernsey','Singapore',\\\n",
    "            'China','Liechtenstein','Uruguay','Latvia','Monaco','Gibraltar']"
   ]
  },
  {
   "cell_type": "markdown",
   "metadata": {},
   "source": [
    "##### In here we are visualizing the distribution of the entities from the origin countries in the Tax Haven countries. This analysis will be carried on further in the coming sections"
   ]
  },
  {
   "cell_type": "code",
   "execution_count": null,
   "metadata": {
    "collapsed": true,
    "scrolled": true
   },
   "outputs": [],
   "source": [
    "visualizers_1.visualize_specific_count(countries,jurisdiction_country)"
   ]
  },
  {
   "cell_type": "markdown",
   "metadata": {},
   "source": [
    "We have 40 countries in our dataset which have more than 500 offshore entities associated to them.\n",
    "From those we will investigate the top 5."
   ]
  },
  {
   "cell_type": "markdown",
   "metadata": {},
   "source": [
    "Most important countries to be investigated:\n",
    "* Switzerland\n",
    "* Hong Kong \n",
    "* United Kingdom\n",
    "* United Arab Emirates\n",
    "* Luxembourg"
   ]
  },
  {
   "cell_type": "markdown",
   "metadata": {},
   "source": [
    "In the index of economic freedom, there is no data about any of the british overseas territories [British Virgin islands, Cayman Islands, isle of Man, British Anguilla, Bermuda ] , where most of those territories are considered Tax Havens. Looking throughout the web too, there is no mention of any economical data about those territories which says a lot about the level of secrecy they acquire."
   ]
  },
  {
   "cell_type": "markdown",
   "metadata": {},
   "source": [
    "### Comparing several economical factors between the most involved countries"
   ]
  },
  {
   "cell_type": "markdown",
   "metadata": {},
   "source": [
    "## Extracting information from Economic Index based on column name"
   ]
  },
  {
   "cell_type": "code",
   "execution_count": null,
   "metadata": {
    "collapsed": true
   },
   "outputs": [],
   "source": [
    "# Top countries involved.\n",
    "lead_countries=['Switzerland','Hong Kong','United Kingdom','United Arab Emirates','Luxembourg']\n",
    "# Tax havens that we have data about in the economics index with most number of offshore entities.\n",
    "# Write why we don't have about others ?\n",
    "haven_countries = ['Panama','Bahamas','Samoa','Seychelles']\n",
    "# Both top countries and Tax Havens.\n",
    "both_countries = ['Switzerland','Hong Kong','United Kingdom','United Arab Emirates','Luxembourg','Panama','Bahamas','Samoa','Seychelles']"
   ]
  },
  {
   "cell_type": "code",
   "execution_count": null,
   "metadata": {
    "collapsed": true
   },
   "outputs": [],
   "source": [
    "visualizers_1.visualizing_index_data(economical_indexes,lead_countries,economical_data,years)"
   ]
  },
  {
   "cell_type": "markdown",
   "metadata": {},
   "source": [
    "**Analyzing the data above we can see that:**\n",
    "* The UK leads the GDP by a huge gap, but at the same time has the highest public debt.\n",
    "* The rest of the countries compare similarly w.r.t. the GDP.\n",
    "* Taking a closer look at the GDP per capita which can be a much better indicator than the GDP since it's divided by the population number, we can see that the UK performs the worst ( given that it had a much bigger GDP ) and Luxembourg leads the graph with stunning values.\n",
    "* Apart form the U.A.E ( increasing ) we can see constant decrease / stable inflation rate in the other countries, indicating a healthy economy.\n",
    "* The most interesting is the Foreign direct investment inflow, where we can see a significant amount of money being pumped into Hong Kong, Switzerland, and the UK."
   ]
  },
  {
   "cell_type": "code",
   "execution_count": null,
   "metadata": {
    "collapsed": true
   },
   "outputs": [],
   "source": [
    "visualizers_1.visualizing_index_data(economical_indexes,lead_countries,open_markets_data,years)"
   ]
  },
  {
   "cell_type": "markdown",
   "metadata": {},
   "source": [
    "**Analyzing the data above we can see that:**\n",
    "* Apart from the U.A.E , all of them share rather a similar trade, investment, financial freedom scores.\n",
    "* We can also see that Hong Kong leads all 3 parameters."
   ]
  },
  {
   "cell_type": "code",
   "execution_count": null,
   "metadata": {
    "collapsed": true
   },
   "outputs": [],
   "source": [
    "visualizers_1.visualizing_index_data(economical_indexes,lead_countries,regulatory_efficiency_data,years)"
   ]
  },
  {
   "cell_type": "markdown",
   "metadata": {},
   "source": [
    "**Analyzing the data above we can see that:**\n",
    "* There is quite a diverse distribution of the data in the regulatory efficiency data but within an acceptable range.\n",
    "* Hong kong also leads 2 out of the 3 parameters.\n",
    "* United Kingdom shows a vast improvement from 2013 to 2017.\n",
    "* Surprisingly low score for Luxembourg in labor freedom."
   ]
  },
  {
   "cell_type": "code",
   "execution_count": null,
   "metadata": {
    "collapsed": true
   },
   "outputs": [],
   "source": [
    "visualizers_1.visualizing_index_data(economical_indexes,lead_countries,rule_of_law_data,years)"
   ]
  },
  {
   "cell_type": "markdown",
   "metadata": {},
   "source": [
    "**Analyzing the data above we can see that:**\n",
    "* Apart from the U.A.E which improved significantly from 2016 to 2017, all the other countries share the same score for property rights.\n",
    "* Slight fluctuations of Government integrity score throughout the years."
   ]
  },
  {
   "cell_type": "code",
   "execution_count": null,
   "metadata": {
    "collapsed": true
   },
   "outputs": [],
   "source": [
    "visualizers_1.visualizing_index_data(economical_indexes,lead_countries,government_size_data,years)"
   ]
  },
  {
   "cell_type": "markdown",
   "metadata": {},
   "source": [
    "**Analyzing the data above we can see that:**\n",
    "* We can see apart from fiscal health, there is a wide variety in the distribution in the Tax burden and Government spending score for each country."
   ]
  },
  {
   "cell_type": "markdown",
   "metadata": {},
   "source": [
    "### Visualizing the correlation of features between the involved countries. ( Top 40 )\n",
    "**Basically checking if the data represented above would still be consistent with the rest of the 35 countries.**"
   ]
  },
  {
   "cell_type": "code",
   "execution_count": null,
   "metadata": {
    "collapsed": true
   },
   "outputs": [],
   "source": [
    "# The 40 countries involved.\n",
    "countries_involved = computations_1.compute_countries_involved(jurisdiction_country,0)\n",
    "# Extracting the data for those 40 countries from the 2017 index ONLY.\n",
    "countries_involved_data = computations_1.compute_countries_involved_data(index_2017,countries_involved)"
   ]
  },
  {
   "cell_type": "code",
   "execution_count": null,
   "metadata": {
    "collapsed": true
   },
   "outputs": [],
   "source": [
    "visualizers_1.visualize_feature_correlation(countries_involved_data,open_markets_data)"
   ]
  },
  {
   "cell_type": "markdown",
   "metadata": {},
   "source": [
    "**Analyzing the correlation between the score and the open market parameters:**\n",
    "* High correlation between score all the open market parameters.\n",
    "* HIgh correlation between Financial and investment freedom."
   ]
  },
  {
   "cell_type": "code",
   "execution_count": null,
   "metadata": {
    "collapsed": true
   },
   "outputs": [],
   "source": [
    "visualizers_1.visualize_feature_correlation(countries_involved_data,regulatory_efficiency_data)"
   ]
  },
  {
   "cell_type": "markdown",
   "metadata": {},
   "source": [
    "**Analyzing the correlation between the score and the regulatory efficiency parameters:**\n",
    "* High correlation between score with business and monetary freedom."
   ]
  },
  {
   "cell_type": "code",
   "execution_count": null,
   "metadata": {
    "collapsed": true
   },
   "outputs": [],
   "source": [
    "visualizers_1.visualize_feature_correlation(countries_involved_data,rule_of_law_data)"
   ]
  },
  {
   "cell_type": "markdown",
   "metadata": {},
   "source": [
    "**Analyzing the correlation between the score and the rule of law parameters:**\n",
    "* The highest correlations between all features are found in the rule of law parameters, specifically the property rights and the government integrity.\n"
   ]
  },
  {
   "cell_type": "code",
   "execution_count": null,
   "metadata": {
    "collapsed": true
   },
   "outputs": [],
   "source": [
    "visualizers_1.visualize_feature_correlation(countries_involved_data,government_size_data)"
   ]
  },
  {
   "cell_type": "markdown",
   "metadata": {},
   "source": [
    "**Analyzing the correlation between the score and the rule of law parameters:**\n",
    "* From the graphs we saw earlier we noticed that there were a lot of fluctuations in the parameters of the government size and we can clearly see that there is very low correlation between the score with tax burden and government spending. Moderate correlation between the score and fiscal health."
   ]
  },
  {
   "cell_type": "markdown",
   "metadata": {},
   "source": [
    "# Research Question 2\n",
    "\n",
    "> How are the countries connected? Is there a pattern in the\n",
    "way players in origin countries select special countries for\n",
    "their offshores?\n",
    "\n",
    "*For every combination of two countries that occur in the data\n",
    "we count the number of offshores founded in one country\n",
    "coming from the other country and vice versa.*\n",
    "\n",
    "## Importing libraries"
   ]
  },
  {
   "cell_type": "code",
   "execution_count": null,
   "metadata": {
    "collapsed": true
   },
   "outputs": [],
   "source": [
    "entities = r'./panama_csv/Entities.csv'\n",
    "entities = pd.read_csv(entities,index_col='name', header=0, low_memory=False)\n",
    "entities=entities.rename(columns = {'countries':'Country'})"
   ]
  },
  {
   "cell_type": "markdown",
   "metadata": {},
   "source": [
    "## Cleaning the data\n",
    "\n",
    "A closer inspection of the data revealed that there are missing values encoded by 'Not identified', 'Undetermined', and 'Recorded in leaked files as \"fund\"'. We convert them to NaN. Furthermore, we observed occurences of 'United States Of America' as well as 'United States'. in order to have consistent names we rename them all to 'United States'."
   ]
  },
  {
   "cell_type": "code",
   "execution_count": null,
   "metadata": {
    "collapsed": true,
    "scrolled": true
   },
   "outputs": [],
   "source": [
    "# reencode missing values\n",
    "entities.Country.replace('Not identified',np.NaN, inplace=True)\n",
    "entities.jurisdiction_description.replace(['Undetermined', 'Recorded in leaked files as \"fund\"'],np.NaN, inplace=True)\n",
    "# consistent naming\n",
    "entities.jurisdiction_description.replace('United States Of America','United States', inplace=True)"
   ]
  },
  {
   "cell_type": "markdown",
   "metadata": {},
   "source": [
    "## Computing the cross table of frequencies \n",
    "\n",
    "As mentionned above, we want to count for every combination of two countries that occur in the data the number of offshores founded in one country coming from the other country and vice versa.\n",
    "The frequencies of relations can be computed using the pandas function `crosstab`."
   ]
  },
  {
   "cell_type": "code",
   "execution_count": null,
   "metadata": {
    "collapsed": true
   },
   "outputs": [],
   "source": [
    "crosstable = pd.crosstab(entities.Country, [entities.jurisdiction_description], rownames=['origin'], colnames=['destination'])\n",
    "crosstable.tail()"
   ]
  },
  {
   "cell_type": "markdown",
   "metadata": {},
   "source": [
    "A closer observation of the country names shows that some offshore entities have more than one origin country. The countries are specified in one data row and the names are seperated by ';', see for example the origin value 'Viet Nam;British Virgin Islands'. For the analysis of the relations between origin and goal countries we decided to count such relations for all of the specified origin countries.\n",
    "\n",
    "Therefore, we refactor the crosstable by duplicating the rows with several origin countries once for every origin country. As this might result in having more than one row per origin country, in the end we group by origin country and sum up all the values. Furthermore, we again drop the row corresponding to the country value 'Not identified'.\n",
    "\n",
    "Furthermore, in a seperate analysis we investigate which countries occur together as origin countries."
   ]
  },
  {
   "cell_type": "code",
   "execution_count": null,
   "metadata": {
    "collapsed": true
   },
   "outputs": [],
   "source": [
    "#duplicating the rows\n",
    "multiple_orig = pd.DataFrame(columns = crosstable.reset_index().columns)\n",
    "for index, row in crosstable.reset_index().iterrows():\n",
    "    for orig in row['origin'].split(';'):\n",
    "        multiple_orig = multiple_orig.append(pd.concat([pd.Series({'origin' : orig}), row[1:]]), ignore_index=True)\n",
    "multiple_orig.head()"
   ]
  },
  {
   "cell_type": "code",
   "execution_count": null,
   "metadata": {
    "collapsed": true
   },
   "outputs": [],
   "source": [
    "#sum up values for each country\n",
    "crosstable = multiple_orig.groupby('origin').sum()\n",
    "crosstable = crosstable.drop('Not identified')"
   ]
  },
  {
   "cell_type": "code",
   "execution_count": null,
   "metadata": {
    "collapsed": true
   },
   "outputs": [],
   "source": [
    "crosstable.to_csv('crosstable.csv')"
   ]
  },
  {
   "cell_type": "markdown",
   "metadata": {},
   "source": [
    "For the further analysis we consider not absolute frequencies but the relative frequencies of destination countries for every origin country. Hence, we perform a row wise normailzation."
   ]
  },
  {
   "cell_type": "code",
   "execution_count": null,
   "metadata": {
    "collapsed": true
   },
   "outputs": [],
   "source": [
    "#row wise normalization\n",
    "crosstable_norm = crosstable.div(crosstable.sum(axis=1), axis=0)"
   ]
  },
  {
   "cell_type": "markdown",
   "metadata": {},
   "source": [
    "## 2.1. Relations between origin and goal countries\n",
    "\n",
    "In order to be able to find a pattern in the\n",
    "way players in origin countries select special countries for\n",
    "their offshores, we cluster the origin countries into groups with similar selection data. The clustering is performed using KMeans with a k-means++ initialization and a maximum of 300 iterations. The number of clusters is determined as the number with the maximal average silhouette. We set the maximal number of clusters for the comparison to 10. It turns out that the optimal number of clusters is 4."
   ]
  },
  {
   "cell_type": "code",
   "execution_count": null,
   "metadata": {
    "collapsed": true
   },
   "outputs": [],
   "source": [
    "from sklearn.cluster import KMeans\n",
    "\n",
    "max_n_clusters = 10\n",
    "scores = []\n",
    "clusters = []\n",
    "# try for nr of clusters up to specified max and chose clustering with optimal silhouette\n",
    "for n_clusters in range(2, max_n_clusters + 1):\n",
    "    kmeans = KMeans(n_clusters=n_clusters, random_state=42).fit(crosstable_norm)\n",
    "    clusters.append(kmeans.labels_)\n",
    "    scores.append(sklearn.metrics.silhouette_score(crosstable_norm, kmeans.labels_))\n",
    "\n",
    "n_clusters = np.argmax(scores)\n",
    "crosstable_norm['cluster'] = clusters[n_clusters]\n",
    "\n",
    "print(n_clusters + 2)"
   ]
  },
  {
   "cell_type": "markdown",
   "metadata": {},
   "source": [
    "In the following plot we visualize for each of the four resulting clusters the relative frequencies for the corresponding countries. It becomes apparent that the first cluster contains those countries where the majority of offshore entities are founded on the British Virgin Islands. The second cluster contains the countries with most offshore entities in Panama, the third those countries with a mojority of entities on the Seychelles. The countries in the fourth cluster show more diverse distributions of destination countries. We observe that for many countries in this cluster the main destination of entities is the country itself, see for example the Cook Islands or Samoa."
   ]
  },
  {
   "cell_type": "code",
   "execution_count": null,
   "metadata": {
    "collapsed": true,
    "scrolled": false
   },
   "outputs": [],
   "source": [
    "#plot frequencies for each cluster\n",
    "for i in range(n_clusters + 2):\n",
    "    visualizer_q3.plot_cross_table(crosstable_norm[crosstable_norm.cluster == i].drop('cluster', axis=1))"
   ]
  },
  {
   "cell_type": "markdown",
   "metadata": {},
   "source": [
    "In order to better understand the underlying structures that lead to those patterns of selection of destination countries, we want to find similarities of the countries which are in the same cluster. The first thing we consider is geographical closeness. Therefore we display a map where countries in the same cluster have the same color. Form the map it becomes apparent most South American countries (Brasil being the most apparent exception) have the majority of offshore entities in Panama (cluster 2). In Northern America and the UK, most offshore entities are founded on the British Virgin Islands."
   ]
  },
  {
   "cell_type": "code",
   "execution_count": null,
   "metadata": {
    "collapsed": true
   },
   "outputs": [],
   "source": [
    "# information that is needed for the map\n",
    "cluster_info = crosstable_norm.reset_index()[['origin', 'cluster']]"
   ]
  },
  {
   "cell_type": "code",
   "execution_count": null,
   "metadata": {
    "collapsed": true
   },
   "outputs": [],
   "source": [
    "# load information about countries in the world\n",
    "world_topojson_path = r'json/world-countries.json'\n",
    "world_topojson = json.load(open(world_topojson_path))\n",
    "url = 'https://restcountries.eu/rest/v2/'\n",
    "restcountries, nametoid = visualizer_q3.buildJsonAPI(url)"
   ]
  },
  {
   "cell_type": "code",
   "execution_count": null,
   "metadata": {
    "collapsed": true
   },
   "outputs": [],
   "source": [
    "# fix naming problems\n",
    "nametoid['Bolivia'] = 68\n",
    "nametoid['British Virgin Islands'] = 92\n",
    "nametoid['Brunei'] = 96\n",
    "nametoid['Iran'] = 368\n",
    "nametoid['Macedonia'] = 807\n",
    "nametoid['Moldova'] = 498\n",
    "nametoid['Russia'] = 643\n",
    "nametoid['South Korea'] = 410\n",
    "nametoid['Syria'] = 760\n",
    "nametoid['Tanzania'] = 834\n",
    "nametoid['U.S. Virgin Islands'] = 850\n",
    "nametoid['United Kingdom'] = 826\n",
    "nametoid['United States'] = 840\n",
    "nametoid['Venezuela'] = 862"
   ]
  },
  {
   "cell_type": "code",
   "execution_count": null,
   "metadata": {
    "collapsed": true
   },
   "outputs": [],
   "source": [
    "#add ids to countries in order to match them with topojson data\n",
    "cluster_info['id'] = cluster_info.origin.apply(lambda x: restcountries[nametoid[x]]['alpha3Code'])"
   ]
  },
  {
   "cell_type": "code",
   "execution_count": null,
   "metadata": {
    "collapsed": true
   },
   "outputs": [],
   "source": [
    "# create map\n",
    "m = folium.Map([46.8,8], \n",
    "               tiles='cartodbpositron', \n",
    "               zoom_start=1)"
   ]
  },
  {
   "cell_type": "code",
   "execution_count": null,
   "metadata": {
    "collapsed": true
   },
   "outputs": [],
   "source": [
    "# add the chororpleth and dispay map\n",
    "visualizer_q3.addChoropleth(cluster_info, m, 'cluster','Cluster', 'id','YlGnBu', world_topojson,'objects.countries1')\n",
    "m"
   ]
  },
  {
   "cell_type": "markdown",
   "metadata": {},
   "source": [
    "We want to find futrther reasons for those patterns by considering historical and economic background information. While the historical background requires a per country research, we plan to investigate the economic factors by comparing the distributions of the measures specified Index of Eonomic freedom data set between the four different clusters."
   ]
  },
  {
   "cell_type": "markdown",
   "metadata": {},
   "source": [
    "## 2.2. Relations between origin countries\n",
    "\n",
    "In this section we want to further analyze which countries occur together as origin countries. We plan to follow the same steps of analysis as in the previous section."
   ]
  },
  {
   "cell_type": "code",
   "execution_count": null,
   "metadata": {
    "collapsed": true
   },
   "outputs": [],
   "source": [
    "#plot for first superficial analsis\n",
    "countries = entities.Country.dropna()\n",
    "counts = countries[countries.str.contains(';') & ~(countries.str.contains('Not identified'))].value_counts()\n",
    "ax = counts[counts >= 10].plot(kind='barh', figsize=(10, 50))\n",
    "ax.invert_yaxis()"
   ]
  },
  {
   "cell_type": "markdown",
   "metadata": {},
   "source": [
    "We observe that if more than one origin country is specified, one of them is very often the British Virgin Islands. We guess this might be due to special legal requirements for founding an entity there. (TODO: verify)."
   ]
  },
  {
   "cell_type": "code",
   "execution_count": null,
   "metadata": {
    "collapsed": true
   },
   "outputs": [],
   "source": [
    "#split the strings into the different country names for further analysis\n",
    "split = pd.DataFrame(entities.Country.dropna()[entities.Country.dropna().str.contains(';')].str.split(';').tolist(), columns = ['origin1','origin2', 'origin3', 'origin4'])#"
   ]
  },
  {
   "cell_type": "code",
   "execution_count": null,
   "metadata": {
    "collapsed": true
   },
   "outputs": [],
   "source": [
    "#get unique values, this will be the rows / cols of the crosstabke\n",
    "vals = split.values.flatten()\n",
    "vals = np.unique(vals[vals != np.array(None)])"
   ]
  },
  {
   "cell_type": "markdown",
   "metadata": {},
   "source": [
    "# Research Question 3\n",
    "> ##### There is a hypothesis that scandals involving tax havens actually help to promote creating offshores there. \n",
    "See for example [International Strategic Analysis](http://www.isa-world.com/news/?tx_ttnews%5BbackPid%5D=1&tx_ttnews%5Btt_news%5D=198&cHash=10b412a7de63d3b2a02adf0d120a09f6). Can we find evidence for this in the data?"
   ]
  },
  {
   "cell_type": "markdown",
   "metadata": {},
   "source": [
    "## Most important leaks\n",
    "Here is a list of the most important leaks documented by the International Consortium of Investigative Journalists [ICIJ](https://offshoreleaks.icij.org/)\n",
    "- **Bahamas Leak** ->\n",
    "April 2, 2013\n",
    "- **China Leak ⭐️** ->\n",
    "January 21, 2014\n",
    "- **Lux Leak** ->\n",
    "December 9, 2014\n",
    "- **Swiss Leak** ->\n",
    "February 8, 2015 \n",
    "- **Panama Leak** ->\n",
    "April 3, 2016 "
   ]
  },
  {
   "cell_type": "markdown",
   "metadata": {},
   "source": [
    "### Importing libs\n",
    "___"
   ]
  },
  {
   "cell_type": "markdown",
   "metadata": {},
   "source": [
    "### Loading csv files"
   ]
  },
  {
   "cell_type": "code",
   "execution_count": 2,
   "metadata": {
    "collapsed": true,
    "scrolled": false
   },
   "outputs": [],
   "source": [
    "entities = r'./panama_csv/Entities.csv'\n",
    "entities = pd.read_csv(entities,index_col='name', header=0, low_memory=False)\n",
    "entities=entities.rename(columns = {'countries':'Country'})"
   ]
  },
  {
   "cell_type": "markdown",
   "metadata": {},
   "source": [
    "## Getting the most involved countries/jurisdictions.\n",
    "___\n",
    "From the Entities dataset we select:\n",
    "- **15 most involved countries**, on which we compute our analysis. Those countries are the countries that have the highest number of offshores accounts in tax haven jurisdictions.\n",
    "- **5 most involved jurisdictions**, on which we compute our analysis. Those jurisdictions are the jurisdictions that are managing / managed the highest registered number of offshores accounts worldwide.\n",
    "\n",
    "### What do we do?\n",
    "\n",
    "For each of the most involved countries/jurisdictions we analyze how much are they involved and what's their behavior throughout the years. \n",
    "\n",
    "1. We define how much each jurisdiction is involved by looking at how many offshores accounts are registered in it.\n",
    "2. We define how much those countries are involved by looking at how many offshores accounts are registered from this country as country of origin.\n",
    "\n",
    "It's important to note that we want to look also at the number of **new incorporations** - **inactivations** and **active offshores** for every year.\n",
    "\n",
    "The number of new incorporations as the number of inactivations for each year is easily derived by the dataset since for each account there it's registered the date of incorporation as the one of inactivation. \n",
    "The number of actives offshores in one year is easily computed with a simple algorithm given the dates above.\n",
    "\n",
    "### Why?\n",
    "\n",
    "To state wheter one scandals has visible worldwide consequences we must base our analysis on the number of, in this way analyzing:\n",
    "- **new incorporations**, this number can give us the proof is one scandal actually acted as a marketing tool, inviting people of one specific **COUNTRY** to invest in offshores account in one specific tax haven **JURISDICTION**.\n",
    "- **inactivations**, this number can give us the proof is one scandal scared people in one specific **COUNTRY** that are actually investing in one specific tax haven **JURISDICTION**.\n",
    "\n",
    "We are also interested to look at key events or particular years where the global market has undergone a major change. To do this we will look at the behavior of the most involved countries throughout the years, how they invested, how much and in which jurisdictions.\n",
    "\n",
    "## Further assumptions.\n",
    "We must note that all the following results are based on a fraction of the whole real data, which is the only available and emerged. We can consider the eventual results realistics since the data we are analyzing contains a good amount of data. However we cannot exclude that further scandals can obviously revert them.\n",
    "### Getting most involved countries and jurisdictions\n",
    "___\n",
    "We group by __Country/Jurisdiction__, we count the elements sorting by **node_id** which represent the unique id of each offshore account."
   ]
  },
  {
   "cell_type": "code",
   "execution_count": 3,
   "metadata": {
    "collapsed": true
   },
   "outputs": [],
   "source": [
    "most_involved = entities.groupby('Country').count().sort_values('node_id', ascending=False).head(15).index\n",
    "most_involved = most_involved[most_involved!='Not identified']\n",
    "most_involved_countries = []\n",
    "for involved in most_involved:\n",
    "    if involved == 'British Virgin Islands':\n",
    "        name = 'Virgin Islands (British)'\n",
    "    elif involved == 'United Kingdom':\n",
    "        name = 'United Kingdom of Great Britain and Northern Ireland'\n",
    "    else:\n",
    "        name = involved\n",
    "    most_involved_countries.append(name)"
   ]
  },
  {
   "cell_type": "code",
   "execution_count": 4,
   "metadata": {
    "collapsed": true
   },
   "outputs": [],
   "source": [
    "#most_involved = ['Bahamas', 'China', 'Luxembourg', 'Switzerland', 'Panama']"
   ]
  },
  {
   "cell_type": "code",
   "execution_count": 5,
   "metadata": {},
   "outputs": [
    {
     "data": {
      "text/plain": [
       "Index(['Bahamas', 'British Virgin Islands', 'Panama', 'Seychelles'], dtype='object', name='jurisdiction_description')"
      ]
     },
     "execution_count": 5,
     "metadata": {},
     "output_type": "execute_result"
    }
   ],
   "source": [
    "most_involved_jur = entities.groupby('jurisdiction_description').count().sort_values('node_id', ascending=False).head().index\n",
    "most_involved_jur = most_involved_jur[most_involved_jur!='Undetermined']\n",
    "most_involved_jur"
   ]
  },
  {
   "cell_type": "markdown",
   "metadata": {},
   "source": [
    "## Preprocessing dataset\n",
    "___\n",
    "We process the entity dataframe to obtain a new dataframe that maps the flows of **inactivations**, **incorporations**, **actives** offshores for each year from one **country** to each **jurisdiction**.\n",
    "\n",
    "The structure of the new dataframe is composed in this way:\n",
    "- **jurisdiction**, the name of the jurisdiction where the offshore account is opened.\n",
    "- **Country**, the name of the origin country of the offshore account.\n",
    "- **date**, the year that the entry is considering.\n",
    "- **action**, wheter we are counting incorporations/inactivations/active offshores/strucks off offshores in the specific date described above\n",
    "- **offshores**, the number directly related to the field action described above in the specific year."
   ]
  },
  {
   "cell_type": "code",
   "execution_count": 18,
   "metadata": {
    "collapsed": true,
    "scrolled": false
   },
   "outputs": [],
   "source": [
    "countries_frame = preprocessing.process_countries(entities=entities, first_involved_countries=most_involved, analisys_on='jurisdiction', from_year=1980, to_year=2016)"
   ]
  },
  {
   "cell_type": "code",
   "execution_count": 6,
   "metadata": {
    "collapsed": true
   },
   "outputs": [],
   "source": [
    "time_series = preprocessing.process_countries_unstacked(entities=entities, first_involved_countries=most_involved, analisys_on='jurisdiction', from_year=1980, to_year=2016)"
   ]
  },
  {
   "cell_type": "code",
   "execution_count": 7,
   "metadata": {},
   "outputs": [
    {
     "data": {
      "text/html": [
       "<div>\n",
       "<style>\n",
       "    .dataframe thead tr:only-child th {\n",
       "        text-align: right;\n",
       "    }\n",
       "\n",
       "    .dataframe thead th {\n",
       "        text-align: left;\n",
       "    }\n",
       "\n",
       "    .dataframe tbody tr th {\n",
       "        vertical-align: top;\n",
       "    }\n",
       "</style>\n",
       "<table border=\"1\" class=\"dataframe\">\n",
       "  <thead>\n",
       "    <tr style=\"text-align: right;\">\n",
       "      <th></th>\n",
       "      <th>Country</th>\n",
       "      <th>jurisdiction</th>\n",
       "      <th>date</th>\n",
       "      <th>incorporations</th>\n",
       "      <th>inactivations</th>\n",
       "      <th>active offshores</th>\n",
       "      <th>strucks</th>\n",
       "    </tr>\n",
       "  </thead>\n",
       "  <tbody>\n",
       "    <tr>\n",
       "      <th>0</th>\n",
       "      <td>Hong Kong</td>\n",
       "      <td>Bahamas</td>\n",
       "      <td>1990</td>\n",
       "      <td>17.0</td>\n",
       "      <td>0.0</td>\n",
       "      <td>17.0</td>\n",
       "      <td>0.0</td>\n",
       "    </tr>\n",
       "    <tr>\n",
       "      <th>1</th>\n",
       "      <td>Hong Kong</td>\n",
       "      <td>Bahamas</td>\n",
       "      <td>1991</td>\n",
       "      <td>52.0</td>\n",
       "      <td>0.0</td>\n",
       "      <td>69.0</td>\n",
       "      <td>4.0</td>\n",
       "    </tr>\n",
       "    <tr>\n",
       "      <th>2</th>\n",
       "      <td>Hong Kong</td>\n",
       "      <td>Bahamas</td>\n",
       "      <td>1992</td>\n",
       "      <td>43.0</td>\n",
       "      <td>0.0</td>\n",
       "      <td>112.0</td>\n",
       "      <td>9.0</td>\n",
       "    </tr>\n",
       "    <tr>\n",
       "      <th>3</th>\n",
       "      <td>Hong Kong</td>\n",
       "      <td>Bahamas</td>\n",
       "      <td>1993</td>\n",
       "      <td>123.0</td>\n",
       "      <td>7.0</td>\n",
       "      <td>228.0</td>\n",
       "      <td>6.0</td>\n",
       "    </tr>\n",
       "    <tr>\n",
       "      <th>4</th>\n",
       "      <td>Hong Kong</td>\n",
       "      <td>Bahamas</td>\n",
       "      <td>1994</td>\n",
       "      <td>112.0</td>\n",
       "      <td>9.0</td>\n",
       "      <td>331.0</td>\n",
       "      <td>23.0</td>\n",
       "    </tr>\n",
       "  </tbody>\n",
       "</table>\n",
       "</div>"
      ],
      "text/plain": [
       "     Country jurisdiction  date  incorporations  inactivations  \\\n",
       "0  Hong Kong      Bahamas  1990            17.0            0.0   \n",
       "1  Hong Kong      Bahamas  1991            52.0            0.0   \n",
       "2  Hong Kong      Bahamas  1992            43.0            0.0   \n",
       "3  Hong Kong      Bahamas  1993           123.0            7.0   \n",
       "4  Hong Kong      Bahamas  1994           112.0            9.0   \n",
       "\n",
       "   active offshores  strucks  \n",
       "0              17.0      0.0  \n",
       "1              69.0      4.0  \n",
       "2             112.0      9.0  \n",
       "3             228.0      6.0  \n",
       "4             331.0     23.0  "
      ]
     },
     "execution_count": 7,
     "metadata": {},
     "output_type": "execute_result"
    }
   ],
   "source": [
    "time_series[0].head()"
   ]
  },
  {
   "cell_type": "code",
   "execution_count": 31,
   "metadata": {
    "scrolled": false
   },
   "outputs": [
    {
     "data": {
      "text/html": [
       "<script>requirejs.config({paths: { 'plotly': ['https://cdn.plot.ly/plotly-latest.min']},});if(!window.Plotly) {{require(['plotly'],function(plotly) {window.Plotly=plotly;});}}</script>"
      ],
      "text/vnd.plotly.v1+html": [
       "<script>requirejs.config({paths: { 'plotly': ['https://cdn.plot.ly/plotly-latest.min']},});if(!window.Plotly) {{require(['plotly'],function(plotly) {window.Plotly=plotly;});}}</script>"
      ]
     },
     "metadata": {},
     "output_type": "display_data"
    }
   ],
   "source": [
    "visualizer.visualize_time_series4(time_series)"
   ]
  },
  {
   "cell_type": "code",
   "execution_count": 12,
   "metadata": {
    "scrolled": false
   },
   "outputs": [
    {
     "data": {
      "text/html": [
       "<script>requirejs.config({paths: { 'plotly': ['https://cdn.plot.ly/plotly-latest.min']},});if(!window.Plotly) {{require(['plotly'],function(plotly) {window.Plotly=plotly;});}}</script>"
      ],
      "text/vnd.plotly.v1+html": [
       "<script>requirejs.config({paths: { 'plotly': ['https://cdn.plot.ly/plotly-latest.min']},});if(!window.Plotly) {{require(['plotly'],function(plotly) {window.Plotly=plotly;});}}</script>"
      ]
     },
     "metadata": {},
     "output_type": "display_data"
    },
    {
     "data": {
      "application/vnd.plotly.v1+json": {
       "data": [
        {
         "name": "Panama",
         "type": "scatter",
         "x": [
          1980,
          1981,
          1982,
          1983,
          1984,
          1985,
          1986,
          1987,
          1988,
          1989,
          1991,
          1992,
          1993,
          1994,
          1995,
          1996,
          1997,
          1998,
          1999,
          2000,
          2001,
          2002,
          2003,
          2004,
          2005,
          2006,
          2007,
          2008,
          2009,
          2010,
          2011,
          2012,
          2013,
          2014,
          2015
         ],
         "y": [
          8,
          2,
          8,
          6,
          5,
          4,
          8,
          8,
          2,
          7,
          3,
          1,
          5,
          6,
          4,
          12,
          10,
          15,
          14,
          44,
          41,
          63,
          87,
          117,
          192,
          215,
          267,
          213,
          167,
          149,
          142,
          121,
          131,
          99,
          40
         ]
        },
        {
         "name": "British Virgin Islands",
         "type": "scatter",
         "x": [
          1988,
          1989,
          1990,
          1991,
          1992,
          1993,
          1994,
          1995,
          1996,
          1997,
          1998,
          1999,
          2000,
          2001,
          2002,
          2003,
          2004,
          2005,
          2006,
          2007,
          2008,
          2009,
          2010,
          2011,
          2012,
          2013,
          2014,
          2015
         ],
         "y": [
          4,
          7,
          9,
          8,
          15,
          28,
          25,
          22,
          26,
          44,
          38,
          27,
          52,
          31,
          62,
          47,
          128,
          75,
          79,
          98,
          96,
          125,
          159,
          144,
          121,
          124,
          101,
          67
         ]
        },
        {
         "name": "Bahamas",
         "type": "scatter",
         "x": [
          1990,
          1991,
          1992,
          1993,
          1994,
          1995,
          1996,
          1997,
          1998,
          1999,
          2000,
          2001,
          2002,
          2003,
          2004,
          2005,
          2006,
          2007,
          2008,
          2009,
          2010,
          2011,
          2012,
          2013,
          2014,
          2015
         ],
         "y": [
          4,
          15,
          14,
          10,
          7,
          20,
          24,
          50,
          42,
          18,
          31,
          10,
          10,
          11,
          13,
          23,
          19,
          12,
          9,
          10,
          8,
          8,
          6,
          24,
          24,
          6
         ]
        },
        {
         "name": "Niue",
         "type": "scatter",
         "x": [
          1994,
          1995,
          1996,
          1997,
          1998,
          1999,
          2000,
          2001,
          2002,
          2003,
          2004
         ],
         "y": [
          1,
          1,
          1,
          1,
          3,
          4,
          10,
          10,
          12,
          13,
          2
         ]
        },
        {
         "name": "Seychelles",
         "type": "scatter",
         "x": [
          2000,
          2001,
          2002,
          2003,
          2004,
          2005,
          2006,
          2007,
          2008,
          2009,
          2010,
          2011,
          2012,
          2013,
          2014,
          2015
         ],
         "y": [
          2,
          4,
          10,
          6,
          10,
          7,
          15,
          16,
          3,
          7,
          4,
          11,
          2,
          2,
          5,
          1
         ]
        },
        {
         "name": "Nevada",
         "type": "scatter",
         "x": [
          2001,
          2002,
          2003,
          2004,
          2005,
          2006,
          2007,
          2008,
          2009,
          2010,
          2011,
          2012,
          2013,
          2014
         ],
         "y": [
          10,
          11,
          32,
          24,
          42,
          27,
          32,
          21,
          28,
          28,
          18,
          12,
          3,
          3
         ]
        },
        {
         "name": "Uruguay",
         "type": "scatter",
         "x": [
          2001,
          2006
         ],
         "y": [
          1,
          1
         ]
        },
        {
         "name": "British Anguilla",
         "type": "scatter",
         "x": [
          2002,
          2005,
          2007,
          2008,
          2009,
          2010,
          2011,
          2012,
          2013,
          2014,
          2015
         ],
         "y": [
          1,
          1,
          6,
          6,
          6,
          7,
          6,
          4,
          2,
          2,
          4
         ]
        },
        {
         "name": "Hong Kong",
         "type": "scatter",
         "x": [
          2003,
          2004,
          2012,
          2015
         ],
         "y": [
          1,
          2,
          2,
          1
         ]
        },
        {
         "name": "United Kingdom",
         "type": "scatter",
         "x": [
          2006,
          2008,
          2013
         ],
         "y": [
          1,
          1,
          2
         ]
        },
        {
         "name": "Samoa",
         "type": "scatter",
         "x": [
          2006,
          2007,
          2010,
          2011,
          2012,
          2013
         ],
         "y": [
          16,
          6,
          2,
          1,
          1,
          1
         ]
        },
        {
         "name": "Cyprus",
         "type": "scatter",
         "x": [
          2010,
          2011
         ],
         "y": [
          1,
          1
         ]
        },
        {
         "name": "Wyoming",
         "type": "scatter",
         "x": [
          2012,
          2013,
          2014
         ],
         "y": [
          2,
          6,
          7
         ]
        },
        {
         "name": "Malta",
         "type": "scatter",
         "x": [
          2013
         ],
         "y": [
          1
         ]
        },
        {
         "name": "Costa Rica",
         "type": "scatter",
         "x": [
          2014,
          2015
         ],
         "y": [
          8,
          1
         ]
        }
       ],
       "layout": {
        "title": "Bahamas incorporations account distribution by jurisdiction with time series",
        "xaxis": {
         "rangeslider": {},
         "type": "date"
        }
       }
      },
      "text/html": [
       "<div id=\"b9994f47-02aa-4117-bc15-eecf54aa4bfe\" style=\"height: 525px; width: 100%;\" class=\"plotly-graph-div\"></div><script type=\"text/javascript\">require([\"plotly\"], function(Plotly) { window.PLOTLYENV=window.PLOTLYENV || {};window.PLOTLYENV.BASE_URL=\"https://plot.ly\";Plotly.newPlot(\"b9994f47-02aa-4117-bc15-eecf54aa4bfe\", [{\"type\": \"scatter\", \"x\": [1980, 1981, 1982, 1983, 1984, 1985, 1986, 1987, 1988, 1989, 1991, 1992, 1993, 1994, 1995, 1996, 1997, 1998, 1999, 2000, 2001, 2002, 2003, 2004, 2005, 2006, 2007, 2008, 2009, 2010, 2011, 2012, 2013, 2014, 2015], \"y\": [8.0, 2.0, 8.0, 6.0, 5.0, 4.0, 8.0, 8.0, 2.0, 7.0, 3.0, 1.0, 5.0, 6.0, 4.0, 12.0, 10.0, 15.0, 14.0, 44.0, 41.0, 63.0, 87.0, 117.0, 192.0, 215.0, 267.0, 213.0, 167.0, 149.0, 142.0, 121.0, 131.0, 99.0, 40.0], \"name\": \"Panama\"}, {\"type\": \"scatter\", \"x\": [1988, 1989, 1990, 1991, 1992, 1993, 1994, 1995, 1996, 1997, 1998, 1999, 2000, 2001, 2002, 2003, 2004, 2005, 2006, 2007, 2008, 2009, 2010, 2011, 2012, 2013, 2014, 2015], \"y\": [4.0, 7.0, 9.0, 8.0, 15.0, 28.0, 25.0, 22.0, 26.0, 44.0, 38.0, 27.0, 52.0, 31.0, 62.0, 47.0, 128.0, 75.0, 79.0, 98.0, 96.0, 125.0, 159.0, 144.0, 121.0, 124.0, 101.0, 67.0], \"name\": \"British Virgin Islands\"}, {\"type\": \"scatter\", \"x\": [1990, 1991, 1992, 1993, 1994, 1995, 1996, 1997, 1998, 1999, 2000, 2001, 2002, 2003, 2004, 2005, 2006, 2007, 2008, 2009, 2010, 2011, 2012, 2013, 2014, 2015], \"y\": [4.0, 15.0, 14.0, 10.0, 7.0, 20.0, 24.0, 50.0, 42.0, 18.0, 31.0, 10.0, 10.0, 11.0, 13.0, 23.0, 19.0, 12.0, 9.0, 10.0, 8.0, 8.0, 6.0, 24.0, 24.0, 6.0], \"name\": \"Bahamas\"}, {\"type\": \"scatter\", \"x\": [1994, 1995, 1996, 1997, 1998, 1999, 2000, 2001, 2002, 2003, 2004], \"y\": [1.0, 1.0, 1.0, 1.0, 3.0, 4.0, 10.0, 10.0, 12.0, 13.0, 2.0], \"name\": \"Niue\"}, {\"type\": \"scatter\", \"x\": [2000, 2001, 2002, 2003, 2004, 2005, 2006, 2007, 2008, 2009, 2010, 2011, 2012, 2013, 2014, 2015], \"y\": [2.0, 4.0, 10.0, 6.0, 10.0, 7.0, 15.0, 16.0, 3.0, 7.0, 4.0, 11.0, 2.0, 2.0, 5.0, 1.0], \"name\": \"Seychelles\"}, {\"type\": \"scatter\", \"x\": [2001, 2002, 2003, 2004, 2005, 2006, 2007, 2008, 2009, 2010, 2011, 2012, 2013, 2014], \"y\": [10.0, 11.0, 32.0, 24.0, 42.0, 27.0, 32.0, 21.0, 28.0, 28.0, 18.0, 12.0, 3.0, 3.0], \"name\": \"Nevada\"}, {\"type\": \"scatter\", \"x\": [2001, 2006], \"y\": [1.0, 1.0], \"name\": \"Uruguay\"}, {\"type\": \"scatter\", \"x\": [2002, 2005, 2007, 2008, 2009, 2010, 2011, 2012, 2013, 2014, 2015], \"y\": [1.0, 1.0, 6.0, 6.0, 6.0, 7.0, 6.0, 4.0, 2.0, 2.0, 4.0], \"name\": \"British Anguilla\"}, {\"type\": \"scatter\", \"x\": [2003, 2004, 2012, 2015], \"y\": [1.0, 2.0, 2.0, 1.0], \"name\": \"Hong Kong\"}, {\"type\": \"scatter\", \"x\": [2006, 2008, 2013], \"y\": [1.0, 1.0, 2.0], \"name\": \"United Kingdom\"}, {\"type\": \"scatter\", \"x\": [2006, 2007, 2010, 2011, 2012, 2013], \"y\": [16.0, 6.0, 2.0, 1.0, 1.0, 1.0], \"name\": \"Samoa\"}, {\"type\": \"scatter\", \"x\": [2010, 2011], \"y\": [1.0, 1.0], \"name\": \"Cyprus\"}, {\"type\": \"scatter\", \"x\": [2012, 2013, 2014], \"y\": [2.0, 6.0, 7.0], \"name\": \"Wyoming\"}, {\"type\": \"scatter\", \"x\": [2013], \"y\": [1.0], \"name\": \"Malta\"}, {\"type\": \"scatter\", \"x\": [2014, 2015], \"y\": [8.0, 1.0], \"name\": \"Costa Rica\"}], {\"title\": \"Bahamas incorporations account distribution by jurisdiction with time series\", \"xaxis\": {\"rangeslider\": {}, \"type\": \"date\"}}, {\"showLink\": true, \"linkText\": \"Export to plot.ly\"})});</script>"
      ],
      "text/vnd.plotly.v1+html": [
       "<div id=\"b9994f47-02aa-4117-bc15-eecf54aa4bfe\" style=\"height: 525px; width: 100%;\" class=\"plotly-graph-div\"></div><script type=\"text/javascript\">require([\"plotly\"], function(Plotly) { window.PLOTLYENV=window.PLOTLYENV || {};window.PLOTLYENV.BASE_URL=\"https://plot.ly\";Plotly.newPlot(\"b9994f47-02aa-4117-bc15-eecf54aa4bfe\", [{\"type\": \"scatter\", \"x\": [1980, 1981, 1982, 1983, 1984, 1985, 1986, 1987, 1988, 1989, 1991, 1992, 1993, 1994, 1995, 1996, 1997, 1998, 1999, 2000, 2001, 2002, 2003, 2004, 2005, 2006, 2007, 2008, 2009, 2010, 2011, 2012, 2013, 2014, 2015], \"y\": [8.0, 2.0, 8.0, 6.0, 5.0, 4.0, 8.0, 8.0, 2.0, 7.0, 3.0, 1.0, 5.0, 6.0, 4.0, 12.0, 10.0, 15.0, 14.0, 44.0, 41.0, 63.0, 87.0, 117.0, 192.0, 215.0, 267.0, 213.0, 167.0, 149.0, 142.0, 121.0, 131.0, 99.0, 40.0], \"name\": \"Panama\"}, {\"type\": \"scatter\", \"x\": [1988, 1989, 1990, 1991, 1992, 1993, 1994, 1995, 1996, 1997, 1998, 1999, 2000, 2001, 2002, 2003, 2004, 2005, 2006, 2007, 2008, 2009, 2010, 2011, 2012, 2013, 2014, 2015], \"y\": [4.0, 7.0, 9.0, 8.0, 15.0, 28.0, 25.0, 22.0, 26.0, 44.0, 38.0, 27.0, 52.0, 31.0, 62.0, 47.0, 128.0, 75.0, 79.0, 98.0, 96.0, 125.0, 159.0, 144.0, 121.0, 124.0, 101.0, 67.0], \"name\": \"British Virgin Islands\"}, {\"type\": \"scatter\", \"x\": [1990, 1991, 1992, 1993, 1994, 1995, 1996, 1997, 1998, 1999, 2000, 2001, 2002, 2003, 2004, 2005, 2006, 2007, 2008, 2009, 2010, 2011, 2012, 2013, 2014, 2015], \"y\": [4.0, 15.0, 14.0, 10.0, 7.0, 20.0, 24.0, 50.0, 42.0, 18.0, 31.0, 10.0, 10.0, 11.0, 13.0, 23.0, 19.0, 12.0, 9.0, 10.0, 8.0, 8.0, 6.0, 24.0, 24.0, 6.0], \"name\": \"Bahamas\"}, {\"type\": \"scatter\", \"x\": [1994, 1995, 1996, 1997, 1998, 1999, 2000, 2001, 2002, 2003, 2004], \"y\": [1.0, 1.0, 1.0, 1.0, 3.0, 4.0, 10.0, 10.0, 12.0, 13.0, 2.0], \"name\": \"Niue\"}, {\"type\": \"scatter\", \"x\": [2000, 2001, 2002, 2003, 2004, 2005, 2006, 2007, 2008, 2009, 2010, 2011, 2012, 2013, 2014, 2015], \"y\": [2.0, 4.0, 10.0, 6.0, 10.0, 7.0, 15.0, 16.0, 3.0, 7.0, 4.0, 11.0, 2.0, 2.0, 5.0, 1.0], \"name\": \"Seychelles\"}, {\"type\": \"scatter\", \"x\": [2001, 2002, 2003, 2004, 2005, 2006, 2007, 2008, 2009, 2010, 2011, 2012, 2013, 2014], \"y\": [10.0, 11.0, 32.0, 24.0, 42.0, 27.0, 32.0, 21.0, 28.0, 28.0, 18.0, 12.0, 3.0, 3.0], \"name\": \"Nevada\"}, {\"type\": \"scatter\", \"x\": [2001, 2006], \"y\": [1.0, 1.0], \"name\": \"Uruguay\"}, {\"type\": \"scatter\", \"x\": [2002, 2005, 2007, 2008, 2009, 2010, 2011, 2012, 2013, 2014, 2015], \"y\": [1.0, 1.0, 6.0, 6.0, 6.0, 7.0, 6.0, 4.0, 2.0, 2.0, 4.0], \"name\": \"British Anguilla\"}, {\"type\": \"scatter\", \"x\": [2003, 2004, 2012, 2015], \"y\": [1.0, 2.0, 2.0, 1.0], \"name\": \"Hong Kong\"}, {\"type\": \"scatter\", \"x\": [2006, 2008, 2013], \"y\": [1.0, 1.0, 2.0], \"name\": \"United Kingdom\"}, {\"type\": \"scatter\", \"x\": [2006, 2007, 2010, 2011, 2012, 2013], \"y\": [16.0, 6.0, 2.0, 1.0, 1.0, 1.0], \"name\": \"Samoa\"}, {\"type\": \"scatter\", \"x\": [2010, 2011], \"y\": [1.0, 1.0], \"name\": \"Cyprus\"}, {\"type\": \"scatter\", \"x\": [2012, 2013, 2014], \"y\": [2.0, 6.0, 7.0], \"name\": \"Wyoming\"}, {\"type\": \"scatter\", \"x\": [2013], \"y\": [1.0], \"name\": \"Malta\"}, {\"type\": \"scatter\", \"x\": [2014, 2015], \"y\": [8.0, 1.0], \"name\": \"Costa Rica\"}], {\"title\": \"Bahamas incorporations account distribution by jurisdiction with time series\", \"xaxis\": {\"rangeslider\": {}, \"type\": \"date\"}}, {\"showLink\": true, \"linkText\": \"Export to plot.ly\"})});</script>"
      ]
     },
     "metadata": {},
     "output_type": "display_data"
    },
    {
     "data": {
      "application/vnd.plotly.v1+json": {
       "data": [
        {
         "name": "Panama",
         "type": "scatter",
         "x": [
          1992,
          1995,
          1996,
          2006,
          2007,
          2010,
          2011,
          2014,
          2015
         ],
         "y": [
          1,
          1,
          1,
          1,
          3,
          2,
          1,
          1,
          2
         ]
        },
        {
         "name": "British Virgin Islands",
         "type": "scatter",
         "x": [
          1992,
          1993,
          1994,
          1995,
          1996,
          1997,
          1998,
          2000,
          2001,
          2002,
          2003,
          2004,
          2005,
          2006,
          2007,
          2008,
          2009,
          2010,
          2011,
          2012,
          2013,
          2014,
          2015
         ],
         "y": [
          3,
          2,
          1,
          2,
          1,
          5,
          5,
          9,
          11,
          10,
          54,
          103,
          132,
          208,
          291,
          285,
          215,
          225,
          177,
          99,
          77,
          94,
          125
         ]
        },
        {
         "name": "Bahamas",
         "type": "scatter",
         "x": [
          1993,
          1994,
          1998,
          2000,
          2005
         ],
         "y": [
          1,
          1,
          1,
          1,
          1
         ]
        },
        {
         "name": "Niue",
         "type": "scatter",
         "x": [
          1996,
          1997,
          1998,
          1999,
          2000,
          2001,
          2003,
          2004
         ],
         "y": [
          1,
          2,
          1,
          4,
          1,
          1,
          1,
          1
         ]
        },
        {
         "name": "China",
         "type": "scatter",
         "x": [
          1999
         ],
         "y": [
          1
         ]
        },
        {
         "name": "Seychelles",
         "type": "scatter",
         "x": [
          2001,
          2002,
          2003,
          2006,
          2007,
          2008,
          2009,
          2010,
          2011,
          2012,
          2013,
          2014,
          2015
         ],
         "y": [
          1,
          2,
          1,
          57,
          64,
          56,
          40,
          21,
          21,
          15,
          49,
          81,
          120
         ]
        },
        {
         "name": "Samoa",
         "type": "scatter",
         "x": [
          2004,
          2005,
          2006,
          2007,
          2008,
          2009,
          2010,
          2011,
          2012,
          2013,
          2014,
          2015
         ],
         "y": [
          17,
          11,
          25,
          68,
          52,
          18,
          15,
          8,
          18,
          24,
          39,
          68
         ]
        },
        {
         "name": "Nevada",
         "type": "scatter",
         "x": [
          2005,
          2006,
          2007,
          2008,
          2009,
          2014
         ],
         "y": [
          2,
          1,
          2,
          1,
          2,
          1
         ]
        },
        {
         "name": "British Anguilla",
         "type": "scatter",
         "x": [
          2007,
          2009,
          2010,
          2011,
          2012,
          2013,
          2014,
          2015
         ],
         "y": [
          1,
          3,
          11,
          9,
          4,
          6,
          20,
          94
         ]
        },
        {
         "name": "Belize",
         "type": "scatter",
         "x": [
          2014
         ],
         "y": [
          1
         ]
        }
       ],
       "layout": {
        "title": "China incorporations account distribution by jurisdiction with time series",
        "xaxis": {
         "rangeslider": {},
         "type": "date"
        }
       }
      },
      "text/html": [
       "<div id=\"c892c10c-4692-4002-b44b-1d300e5acf80\" style=\"height: 525px; width: 100%;\" class=\"plotly-graph-div\"></div><script type=\"text/javascript\">require([\"plotly\"], function(Plotly) { window.PLOTLYENV=window.PLOTLYENV || {};window.PLOTLYENV.BASE_URL=\"https://plot.ly\";Plotly.newPlot(\"c892c10c-4692-4002-b44b-1d300e5acf80\", [{\"type\": \"scatter\", \"x\": [1992, 1995, 1996, 2006, 2007, 2010, 2011, 2014, 2015], \"y\": [1.0, 1.0, 1.0, 1.0, 3.0, 2.0, 1.0, 1.0, 2.0], \"name\": \"Panama\"}, {\"type\": \"scatter\", \"x\": [1992, 1993, 1994, 1995, 1996, 1997, 1998, 2000, 2001, 2002, 2003, 2004, 2005, 2006, 2007, 2008, 2009, 2010, 2011, 2012, 2013, 2014, 2015], \"y\": [3.0, 2.0, 1.0, 2.0, 1.0, 5.0, 5.0, 9.0, 11.0, 10.0, 54.0, 103.0, 132.0, 208.0, 291.0, 285.0, 215.0, 225.0, 177.0, 99.0, 77.0, 94.0, 125.0], \"name\": \"British Virgin Islands\"}, {\"type\": \"scatter\", \"x\": [1993, 1994, 1998, 2000, 2005], \"y\": [1.0, 1.0, 1.0, 1.0, 1.0], \"name\": \"Bahamas\"}, {\"type\": \"scatter\", \"x\": [1996, 1997, 1998, 1999, 2000, 2001, 2003, 2004], \"y\": [1.0, 2.0, 1.0, 4.0, 1.0, 1.0, 1.0, 1.0], \"name\": \"Niue\"}, {\"type\": \"scatter\", \"x\": [1999], \"y\": [1.0], \"name\": \"China\"}, {\"type\": \"scatter\", \"x\": [2001, 2002, 2003, 2006, 2007, 2008, 2009, 2010, 2011, 2012, 2013, 2014, 2015], \"y\": [1.0, 2.0, 1.0, 57.0, 64.0, 56.0, 40.0, 21.0, 21.0, 15.0, 49.0, 81.0, 120.0], \"name\": \"Seychelles\"}, {\"type\": \"scatter\", \"x\": [2004, 2005, 2006, 2007, 2008, 2009, 2010, 2011, 2012, 2013, 2014, 2015], \"y\": [17.0, 11.0, 25.0, 68.0, 52.0, 18.0, 15.0, 8.0, 18.0, 24.0, 39.0, 68.0], \"name\": \"Samoa\"}, {\"type\": \"scatter\", \"x\": [2005, 2006, 2007, 2008, 2009, 2014], \"y\": [2.0, 1.0, 2.0, 1.0, 2.0, 1.0], \"name\": \"Nevada\"}, {\"type\": \"scatter\", \"x\": [2007, 2009, 2010, 2011, 2012, 2013, 2014, 2015], \"y\": [1.0, 3.0, 11.0, 9.0, 4.0, 6.0, 20.0, 94.0], \"name\": \"British Anguilla\"}, {\"type\": \"scatter\", \"x\": [2014], \"y\": [1.0], \"name\": \"Belize\"}], {\"title\": \"China incorporations account distribution by jurisdiction with time series\", \"xaxis\": {\"rangeslider\": {}, \"type\": \"date\"}}, {\"showLink\": true, \"linkText\": \"Export to plot.ly\"})});</script>"
      ],
      "text/vnd.plotly.v1+html": [
       "<div id=\"c892c10c-4692-4002-b44b-1d300e5acf80\" style=\"height: 525px; width: 100%;\" class=\"plotly-graph-div\"></div><script type=\"text/javascript\">require([\"plotly\"], function(Plotly) { window.PLOTLYENV=window.PLOTLYENV || {};window.PLOTLYENV.BASE_URL=\"https://plot.ly\";Plotly.newPlot(\"c892c10c-4692-4002-b44b-1d300e5acf80\", [{\"type\": \"scatter\", \"x\": [1992, 1995, 1996, 2006, 2007, 2010, 2011, 2014, 2015], \"y\": [1.0, 1.0, 1.0, 1.0, 3.0, 2.0, 1.0, 1.0, 2.0], \"name\": \"Panama\"}, {\"type\": \"scatter\", \"x\": [1992, 1993, 1994, 1995, 1996, 1997, 1998, 2000, 2001, 2002, 2003, 2004, 2005, 2006, 2007, 2008, 2009, 2010, 2011, 2012, 2013, 2014, 2015], \"y\": [3.0, 2.0, 1.0, 2.0, 1.0, 5.0, 5.0, 9.0, 11.0, 10.0, 54.0, 103.0, 132.0, 208.0, 291.0, 285.0, 215.0, 225.0, 177.0, 99.0, 77.0, 94.0, 125.0], \"name\": \"British Virgin Islands\"}, {\"type\": \"scatter\", \"x\": [1993, 1994, 1998, 2000, 2005], \"y\": [1.0, 1.0, 1.0, 1.0, 1.0], \"name\": \"Bahamas\"}, {\"type\": \"scatter\", \"x\": [1996, 1997, 1998, 1999, 2000, 2001, 2003, 2004], \"y\": [1.0, 2.0, 1.0, 4.0, 1.0, 1.0, 1.0, 1.0], \"name\": \"Niue\"}, {\"type\": \"scatter\", \"x\": [1999], \"y\": [1.0], \"name\": \"China\"}, {\"type\": \"scatter\", \"x\": [2001, 2002, 2003, 2006, 2007, 2008, 2009, 2010, 2011, 2012, 2013, 2014, 2015], \"y\": [1.0, 2.0, 1.0, 57.0, 64.0, 56.0, 40.0, 21.0, 21.0, 15.0, 49.0, 81.0, 120.0], \"name\": \"Seychelles\"}, {\"type\": \"scatter\", \"x\": [2004, 2005, 2006, 2007, 2008, 2009, 2010, 2011, 2012, 2013, 2014, 2015], \"y\": [17.0, 11.0, 25.0, 68.0, 52.0, 18.0, 15.0, 8.0, 18.0, 24.0, 39.0, 68.0], \"name\": \"Samoa\"}, {\"type\": \"scatter\", \"x\": [2005, 2006, 2007, 2008, 2009, 2014], \"y\": [2.0, 1.0, 2.0, 1.0, 2.0, 1.0], \"name\": \"Nevada\"}, {\"type\": \"scatter\", \"x\": [2007, 2009, 2010, 2011, 2012, 2013, 2014, 2015], \"y\": [1.0, 3.0, 11.0, 9.0, 4.0, 6.0, 20.0, 94.0], \"name\": \"British Anguilla\"}, {\"type\": \"scatter\", \"x\": [2014], \"y\": [1.0], \"name\": \"Belize\"}], {\"title\": \"China incorporations account distribution by jurisdiction with time series\", \"xaxis\": {\"rangeslider\": {}, \"type\": \"date\"}}, {\"showLink\": true, \"linkText\": \"Export to plot.ly\"})});</script>"
      ]
     },
     "metadata": {},
     "output_type": "display_data"
    },
    {
     "data": {
      "application/vnd.plotly.v1+json": {
       "data": [
        {
         "name": "Panama",
         "type": "scatter",
         "x": [
          1980,
          1981,
          1982,
          1983,
          1984,
          1985,
          1986,
          1987,
          1988,
          1989,
          1990,
          1991,
          1992,
          1993,
          1994,
          1995,
          1996,
          1997,
          1998,
          1999,
          2000,
          2001,
          2002,
          2003,
          2004,
          2005,
          2006,
          2007,
          2008,
          2009,
          2010,
          2011,
          2012,
          2013,
          2014,
          2015
         ],
         "y": [
          7,
          15,
          22,
          54,
          92,
          63,
          109,
          65,
          65,
          92,
          79,
          73,
          124,
          90,
          55,
          66,
          107,
          143,
          134,
          137,
          166,
          73,
          56,
          166,
          421,
          892,
          546,
          511,
          466,
          247,
          190,
          87,
          74,
          37,
          32,
          11
         ]
        },
        {
         "name": "British Virgin Islands",
         "type": "scatter",
         "x": [
          1988,
          1989,
          1990,
          1991,
          1992,
          1993,
          1994,
          1995,
          1996,
          1997,
          1998,
          1999,
          2000,
          2001,
          2002,
          2003,
          2004,
          2005,
          2006,
          2007,
          2008,
          2009,
          2010,
          2011,
          2012,
          2013,
          2014,
          2015
         ],
         "y": [
          5,
          19,
          28,
          39,
          92,
          103,
          95,
          89,
          107,
          94,
          100,
          184,
          226,
          199,
          298,
          237,
          357,
          140,
          155,
          160,
          120,
          40,
          44,
          51,
          41,
          23,
          18,
          17
         ]
        },
        {
         "name": "Bahamas",
         "type": "scatter",
         "x": [
          1990,
          1991,
          1992,
          1993,
          1994,
          1995,
          1996,
          1997,
          1998,
          1999,
          2000,
          2002,
          2003,
          2004,
          2005,
          2006,
          2007,
          2009,
          2011,
          2012
         ],
         "y": [
          1,
          7,
          28,
          35,
          48,
          72,
          62,
          42,
          58,
          36,
          13,
          1,
          1,
          4,
          3,
          3,
          5,
          1,
          2,
          1
         ]
        },
        {
         "name": "Niue",
         "type": "scatter",
         "x": [
          1994,
          1995,
          1996,
          1997,
          1998,
          1999,
          2000,
          2001,
          2003,
          2004
         ],
         "y": [
          14,
          16,
          40,
          16,
          12,
          78,
          26,
          11,
          5,
          1
         ]
        },
        {
         "name": "Seychelles",
         "type": "scatter",
         "x": [
          1999,
          2000,
          2001,
          2002,
          2003,
          2004,
          2005,
          2006,
          2007,
          2008,
          2009,
          2010,
          2011,
          2012,
          2013,
          2014,
          2015
         ],
         "y": [
          9,
          7,
          59,
          12,
          18,
          33,
          221,
          255,
          196,
          169,
          120,
          105,
          101,
          60,
          32,
          23,
          1
         ]
        },
        {
         "name": "Uruguay",
         "type": "scatter",
         "x": [
          2000
         ],
         "y": [
          1
         ]
        },
        {
         "name": "British Anguilla",
         "type": "scatter",
         "x": [
          2000,
          2007,
          2008,
          2011,
          2014
         ],
         "y": [
          1,
          2,
          2,
          1,
          1
         ]
        },
        {
         "name": "Hong Kong",
         "type": "scatter",
         "x": [
          2000,
          2008,
          2010,
          2011,
          2012,
          2013,
          2014,
          2015
         ],
         "y": [
          1,
          1,
          1,
          3,
          4,
          10,
          10,
          9
         ]
        },
        {
         "name": "Nevada",
         "type": "scatter",
         "x": [
          2001,
          2003,
          2004,
          2005,
          2006,
          2007,
          2008,
          2009,
          2010,
          2011,
          2013,
          2014
         ],
         "y": [
          1,
          2,
          3,
          2,
          5,
          6,
          3,
          2,
          1,
          1,
          2,
          1
         ]
        },
        {
         "name": "United Kingdom",
         "type": "scatter",
         "x": [
          2001
         ],
         "y": [
          1
         ]
        },
        {
         "name": "Samoa",
         "type": "scatter",
         "x": [
          2004,
          2005,
          2006,
          2007,
          2014,
          2015
         ],
         "y": [
          1,
          1,
          5,
          2,
          2,
          2
         ]
        },
        {
         "name": "Malta",
         "type": "scatter",
         "x": [
          2008,
          2010,
          2013,
          2014
         ],
         "y": [
          1,
          1,
          1,
          3
         ]
        },
        {
         "name": "Cyprus",
         "type": "scatter",
         "x": [
          2011,
          2012,
          2013
         ],
         "y": [
          2,
          3,
          1
         ]
        },
        {
         "name": "Belize",
         "type": "scatter",
         "x": [
          2013,
          2014,
          2015
         ],
         "y": [
          2,
          4,
          2
         ]
        },
        {
         "name": "Wyoming",
         "type": "scatter",
         "x": [
          2014
         ],
         "y": [
          1
         ]
        },
        {
         "name": "Costa Rica",
         "type": "scatter",
         "x": [
          2015
         ],
         "y": [
          1
         ]
        }
       ],
       "layout": {
        "title": "Luxembourg incorporations account distribution by jurisdiction with time series",
        "xaxis": {
         "rangeslider": {},
         "type": "date"
        }
       }
      },
      "text/html": [
       "<div id=\"b4a2bfa3-ec3f-4688-b8b2-02ef995cfe90\" style=\"height: 525px; width: 100%;\" class=\"plotly-graph-div\"></div><script type=\"text/javascript\">require([\"plotly\"], function(Plotly) { window.PLOTLYENV=window.PLOTLYENV || {};window.PLOTLYENV.BASE_URL=\"https://plot.ly\";Plotly.newPlot(\"b4a2bfa3-ec3f-4688-b8b2-02ef995cfe90\", [{\"type\": \"scatter\", \"x\": [1980, 1981, 1982, 1983, 1984, 1985, 1986, 1987, 1988, 1989, 1990, 1991, 1992, 1993, 1994, 1995, 1996, 1997, 1998, 1999, 2000, 2001, 2002, 2003, 2004, 2005, 2006, 2007, 2008, 2009, 2010, 2011, 2012, 2013, 2014, 2015], \"y\": [7.0, 15.0, 22.0, 54.0, 92.0, 63.0, 109.0, 65.0, 65.0, 92.0, 79.0, 73.0, 124.0, 90.0, 55.0, 66.0, 107.0, 143.0, 134.0, 137.0, 166.0, 73.0, 56.0, 166.0, 421.0, 892.0, 546.0, 511.0, 466.0, 247.0, 190.0, 87.0, 74.0, 37.0, 32.0, 11.0], \"name\": \"Panama\"}, {\"type\": \"scatter\", \"x\": [1988, 1989, 1990, 1991, 1992, 1993, 1994, 1995, 1996, 1997, 1998, 1999, 2000, 2001, 2002, 2003, 2004, 2005, 2006, 2007, 2008, 2009, 2010, 2011, 2012, 2013, 2014, 2015], \"y\": [5.0, 19.0, 28.0, 39.0, 92.0, 103.0, 95.0, 89.0, 107.0, 94.0, 100.0, 184.0, 226.0, 199.0, 298.0, 237.0, 357.0, 140.0, 155.0, 160.0, 120.0, 40.0, 44.0, 51.0, 41.0, 23.0, 18.0, 17.0], \"name\": \"British Virgin Islands\"}, {\"type\": \"scatter\", \"x\": [1990, 1991, 1992, 1993, 1994, 1995, 1996, 1997, 1998, 1999, 2000, 2002, 2003, 2004, 2005, 2006, 2007, 2009, 2011, 2012], \"y\": [1.0, 7.0, 28.0, 35.0, 48.0, 72.0, 62.0, 42.0, 58.0, 36.0, 13.0, 1.0, 1.0, 4.0, 3.0, 3.0, 5.0, 1.0, 2.0, 1.0], \"name\": \"Bahamas\"}, {\"type\": \"scatter\", \"x\": [1994, 1995, 1996, 1997, 1998, 1999, 2000, 2001, 2003, 2004], \"y\": [14.0, 16.0, 40.0, 16.0, 12.0, 78.0, 26.0, 11.0, 5.0, 1.0], \"name\": \"Niue\"}, {\"type\": \"scatter\", \"x\": [1999, 2000, 2001, 2002, 2003, 2004, 2005, 2006, 2007, 2008, 2009, 2010, 2011, 2012, 2013, 2014, 2015], \"y\": [9.0, 7.0, 59.0, 12.0, 18.0, 33.0, 221.0, 255.0, 196.0, 169.0, 120.0, 105.0, 101.0, 60.0, 32.0, 23.0, 1.0], \"name\": \"Seychelles\"}, {\"type\": \"scatter\", \"x\": [2000], \"y\": [1.0], \"name\": \"Uruguay\"}, {\"type\": \"scatter\", \"x\": [2000, 2007, 2008, 2011, 2014], \"y\": [1.0, 2.0, 2.0, 1.0, 1.0], \"name\": \"British Anguilla\"}, {\"type\": \"scatter\", \"x\": [2000, 2008, 2010, 2011, 2012, 2013, 2014, 2015], \"y\": [1.0, 1.0, 1.0, 3.0, 4.0, 10.0, 10.0, 9.0], \"name\": \"Hong Kong\"}, {\"type\": \"scatter\", \"x\": [2001, 2003, 2004, 2005, 2006, 2007, 2008, 2009, 2010, 2011, 2013, 2014], \"y\": [1.0, 2.0, 3.0, 2.0, 5.0, 6.0, 3.0, 2.0, 1.0, 1.0, 2.0, 1.0], \"name\": \"Nevada\"}, {\"type\": \"scatter\", \"x\": [2001], \"y\": [1.0], \"name\": \"United Kingdom\"}, {\"type\": \"scatter\", \"x\": [2004, 2005, 2006, 2007, 2014, 2015], \"y\": [1.0, 1.0, 5.0, 2.0, 2.0, 2.0], \"name\": \"Samoa\"}, {\"type\": \"scatter\", \"x\": [2008, 2010, 2013, 2014], \"y\": [1.0, 1.0, 1.0, 3.0], \"name\": \"Malta\"}, {\"type\": \"scatter\", \"x\": [2011, 2012, 2013], \"y\": [2.0, 3.0, 1.0], \"name\": \"Cyprus\"}, {\"type\": \"scatter\", \"x\": [2013, 2014, 2015], \"y\": [2.0, 4.0, 2.0], \"name\": \"Belize\"}, {\"type\": \"scatter\", \"x\": [2014], \"y\": [1.0], \"name\": \"Wyoming\"}, {\"type\": \"scatter\", \"x\": [2015], \"y\": [1.0], \"name\": \"Costa Rica\"}], {\"title\": \"Luxembourg incorporations account distribution by jurisdiction with time series\", \"xaxis\": {\"rangeslider\": {}, \"type\": \"date\"}}, {\"showLink\": true, \"linkText\": \"Export to plot.ly\"})});</script>"
      ],
      "text/vnd.plotly.v1+html": [
       "<div id=\"b4a2bfa3-ec3f-4688-b8b2-02ef995cfe90\" style=\"height: 525px; width: 100%;\" class=\"plotly-graph-div\"></div><script type=\"text/javascript\">require([\"plotly\"], function(Plotly) { window.PLOTLYENV=window.PLOTLYENV || {};window.PLOTLYENV.BASE_URL=\"https://plot.ly\";Plotly.newPlot(\"b4a2bfa3-ec3f-4688-b8b2-02ef995cfe90\", [{\"type\": \"scatter\", \"x\": [1980, 1981, 1982, 1983, 1984, 1985, 1986, 1987, 1988, 1989, 1990, 1991, 1992, 1993, 1994, 1995, 1996, 1997, 1998, 1999, 2000, 2001, 2002, 2003, 2004, 2005, 2006, 2007, 2008, 2009, 2010, 2011, 2012, 2013, 2014, 2015], \"y\": [7.0, 15.0, 22.0, 54.0, 92.0, 63.0, 109.0, 65.0, 65.0, 92.0, 79.0, 73.0, 124.0, 90.0, 55.0, 66.0, 107.0, 143.0, 134.0, 137.0, 166.0, 73.0, 56.0, 166.0, 421.0, 892.0, 546.0, 511.0, 466.0, 247.0, 190.0, 87.0, 74.0, 37.0, 32.0, 11.0], \"name\": \"Panama\"}, {\"type\": \"scatter\", \"x\": [1988, 1989, 1990, 1991, 1992, 1993, 1994, 1995, 1996, 1997, 1998, 1999, 2000, 2001, 2002, 2003, 2004, 2005, 2006, 2007, 2008, 2009, 2010, 2011, 2012, 2013, 2014, 2015], \"y\": [5.0, 19.0, 28.0, 39.0, 92.0, 103.0, 95.0, 89.0, 107.0, 94.0, 100.0, 184.0, 226.0, 199.0, 298.0, 237.0, 357.0, 140.0, 155.0, 160.0, 120.0, 40.0, 44.0, 51.0, 41.0, 23.0, 18.0, 17.0], \"name\": \"British Virgin Islands\"}, {\"type\": \"scatter\", \"x\": [1990, 1991, 1992, 1993, 1994, 1995, 1996, 1997, 1998, 1999, 2000, 2002, 2003, 2004, 2005, 2006, 2007, 2009, 2011, 2012], \"y\": [1.0, 7.0, 28.0, 35.0, 48.0, 72.0, 62.0, 42.0, 58.0, 36.0, 13.0, 1.0, 1.0, 4.0, 3.0, 3.0, 5.0, 1.0, 2.0, 1.0], \"name\": \"Bahamas\"}, {\"type\": \"scatter\", \"x\": [1994, 1995, 1996, 1997, 1998, 1999, 2000, 2001, 2003, 2004], \"y\": [14.0, 16.0, 40.0, 16.0, 12.0, 78.0, 26.0, 11.0, 5.0, 1.0], \"name\": \"Niue\"}, {\"type\": \"scatter\", \"x\": [1999, 2000, 2001, 2002, 2003, 2004, 2005, 2006, 2007, 2008, 2009, 2010, 2011, 2012, 2013, 2014, 2015], \"y\": [9.0, 7.0, 59.0, 12.0, 18.0, 33.0, 221.0, 255.0, 196.0, 169.0, 120.0, 105.0, 101.0, 60.0, 32.0, 23.0, 1.0], \"name\": \"Seychelles\"}, {\"type\": \"scatter\", \"x\": [2000], \"y\": [1.0], \"name\": \"Uruguay\"}, {\"type\": \"scatter\", \"x\": [2000, 2007, 2008, 2011, 2014], \"y\": [1.0, 2.0, 2.0, 1.0, 1.0], \"name\": \"British Anguilla\"}, {\"type\": \"scatter\", \"x\": [2000, 2008, 2010, 2011, 2012, 2013, 2014, 2015], \"y\": [1.0, 1.0, 1.0, 3.0, 4.0, 10.0, 10.0, 9.0], \"name\": \"Hong Kong\"}, {\"type\": \"scatter\", \"x\": [2001, 2003, 2004, 2005, 2006, 2007, 2008, 2009, 2010, 2011, 2013, 2014], \"y\": [1.0, 2.0, 3.0, 2.0, 5.0, 6.0, 3.0, 2.0, 1.0, 1.0, 2.0, 1.0], \"name\": \"Nevada\"}, {\"type\": \"scatter\", \"x\": [2001], \"y\": [1.0], \"name\": \"United Kingdom\"}, {\"type\": \"scatter\", \"x\": [2004, 2005, 2006, 2007, 2014, 2015], \"y\": [1.0, 1.0, 5.0, 2.0, 2.0, 2.0], \"name\": \"Samoa\"}, {\"type\": \"scatter\", \"x\": [2008, 2010, 2013, 2014], \"y\": [1.0, 1.0, 1.0, 3.0], \"name\": \"Malta\"}, {\"type\": \"scatter\", \"x\": [2011, 2012, 2013], \"y\": [2.0, 3.0, 1.0], \"name\": \"Cyprus\"}, {\"type\": \"scatter\", \"x\": [2013, 2014, 2015], \"y\": [2.0, 4.0, 2.0], \"name\": \"Belize\"}, {\"type\": \"scatter\", \"x\": [2014], \"y\": [1.0], \"name\": \"Wyoming\"}, {\"type\": \"scatter\", \"x\": [2015], \"y\": [1.0], \"name\": \"Costa Rica\"}], {\"title\": \"Luxembourg incorporations account distribution by jurisdiction with time series\", \"xaxis\": {\"rangeslider\": {}, \"type\": \"date\"}}, {\"showLink\": true, \"linkText\": \"Export to plot.ly\"})});</script>"
      ]
     },
     "metadata": {},
     "output_type": "display_data"
    },
    {
     "data": {
      "application/vnd.plotly.v1+json": {
       "data": [
        {
         "name": "British Virgin Islands",
         "type": "scatter",
         "x": [
          1980,
          1984,
          1985,
          1986,
          1987,
          1988,
          1989,
          1990,
          1991,
          1992,
          1993,
          1994,
          1995,
          1996,
          1997,
          1998,
          1999,
          2000,
          2001,
          2002,
          2003,
          2004,
          2005,
          2006,
          2007,
          2008,
          2009,
          2010,
          2011,
          2012,
          2013,
          2014,
          2015
         ],
         "y": [
          1,
          1,
          1,
          4,
          12,
          80,
          273,
          360,
          431,
          485,
          633,
          791,
          986,
          1005,
          981,
          944,
          1236,
          1403,
          1048,
          1038,
          1213,
          1345,
          1106,
          894,
          817,
          704,
          484,
          421,
          298,
          241,
          169,
          141,
          104
         ]
        },
        {
         "name": "Panama",
         "type": "scatter",
         "x": [
          1980,
          1981,
          1982,
          1983,
          1984,
          1985,
          1986,
          1987,
          1988,
          1989,
          1990,
          1991,
          1992,
          1993,
          1994,
          1995,
          1996,
          1997,
          1998,
          1999,
          2000,
          2001,
          2002,
          2003,
          2004,
          2005,
          2006,
          2007,
          2008,
          2009,
          2010,
          2011,
          2012,
          2013,
          2014,
          2015
         ],
         "y": [
          104,
          106,
          148,
          191,
          169,
          152,
          188,
          183,
          84,
          128,
          101,
          101,
          72,
          84,
          79,
          124,
          86,
          70,
          83,
          78,
          168,
          139,
          163,
          321,
          640,
          2038,
          1130,
          1046,
          994,
          759,
          513,
          390,
          248,
          224,
          172,
          127
         ]
        },
        {
         "name": "Bahamas",
         "type": "scatter",
         "x": [
          1984,
          1986,
          1990,
          1991,
          1992,
          1993,
          1994,
          1995,
          1996,
          1997,
          1998,
          1999,
          2000,
          2001,
          2002,
          2003,
          2004,
          2005,
          2006,
          2007,
          2008,
          2009,
          2010,
          2011,
          2012,
          2013,
          2014,
          2015
         ],
         "y": [
          1,
          1,
          56,
          95,
          92,
          117,
          224,
          211,
          240,
          277,
          225,
          189,
          150,
          23,
          9,
          22,
          21,
          24,
          32,
          10,
          20,
          13,
          17,
          3,
          13,
          6,
          19,
          16
         ]
        },
        {
         "name": "Niue",
         "type": "scatter",
         "x": [
          1994,
          1995,
          1996,
          1997,
          1998,
          1999,
          2000,
          2001,
          2002,
          2003,
          2004,
          2005
         ],
         "y": [
          10,
          111,
          199,
          241,
          311,
          362,
          244,
          148,
          97,
          202,
          145,
          4
         ]
        },
        {
         "name": "Cook Islands",
         "type": "scatter",
         "x": [
          1995,
          1996
         ],
         "y": [
          1,
          1
         ]
        },
        {
         "name": "Seychelles",
         "type": "scatter",
         "x": [
          1999,
          2000,
          2001,
          2002,
          2003,
          2004,
          2005,
          2006,
          2007,
          2008,
          2009,
          2010,
          2011,
          2012,
          2013,
          2014,
          2015
         ],
         "y": [
          17,
          27,
          14,
          17,
          43,
          67,
          262,
          198,
          237,
          172,
          163,
          155,
          112,
          58,
          44,
          21,
          24
         ]
        },
        {
         "name": "Nevada",
         "type": "scatter",
         "x": [
          1999,
          2001,
          2002,
          2003,
          2004,
          2005,
          2006,
          2007,
          2008,
          2009,
          2010,
          2011,
          2012,
          2013,
          2014
         ],
         "y": [
          1,
          7,
          8,
          19,
          31,
          18,
          9,
          17,
          16,
          7,
          6,
          2,
          4,
          3,
          1
         ]
        },
        {
         "name": "Hong Kong",
         "type": "scatter",
         "x": [
          2000,
          2001,
          2002,
          2003,
          2004,
          2005,
          2006,
          2007,
          2008,
          2009,
          2010,
          2011,
          2012,
          2013,
          2014
         ],
         "y": [
          2,
          1,
          1,
          1,
          2,
          4,
          1,
          1,
          3,
          1,
          1,
          4,
          3,
          2,
          6
         ]
        },
        {
         "name": "Singapore",
         "type": "scatter",
         "x": [
          2002
         ],
         "y": [
          3
         ]
        },
        {
         "name": "Uruguay",
         "type": "scatter",
         "x": [
          2004,
          2006
         ],
         "y": [
          1,
          1
         ]
        },
        {
         "name": "Samoa",
         "type": "scatter",
         "x": [
          2004,
          2005,
          2006,
          2007,
          2008,
          2009,
          2010,
          2011,
          2012,
          2013,
          2014,
          2015
         ],
         "y": [
          3,
          36,
          290,
          172,
          14,
          5,
          1,
          1,
          4,
          2,
          13,
          4
         ]
        },
        {
         "name": "Belize",
         "type": "scatter",
         "x": [
          2004,
          2014,
          2015
         ],
         "y": [
          1,
          2,
          1
         ]
        },
        {
         "name": "British Anguilla",
         "type": "scatter",
         "x": [
          2005,
          2006,
          2007,
          2008,
          2009,
          2010,
          2011,
          2012,
          2013,
          2014,
          2015
         ],
         "y": [
          3,
          5,
          9,
          6,
          6,
          9,
          3,
          7,
          5,
          21,
          22
         ]
        },
        {
         "name": "Cyprus",
         "type": "scatter",
         "x": [
          2011,
          2012,
          2014,
          2015
         ],
         "y": [
          1,
          3,
          1,
          1
         ]
        },
        {
         "name": "United Kingdom",
         "type": "scatter",
         "x": [
          2014,
          2015
         ],
         "y": [
          1,
          1
         ]
        },
        {
         "name": "Malta",
         "type": "scatter",
         "x": [
          2014
         ],
         "y": [
          1
         ]
        },
        {
         "name": "Ras Al Khaimah",
         "type": "scatter",
         "x": [
          2015
         ],
         "y": [
          1
         ]
        }
       ],
       "layout": {
        "title": "Switzerland incorporations account distribution by jurisdiction with time series",
        "xaxis": {
         "rangeslider": {},
         "type": "date"
        }
       }
      },
      "text/html": [
       "<div id=\"afa68496-9bd4-414d-b0f7-a849a31cbd4b\" style=\"height: 525px; width: 100%;\" class=\"plotly-graph-div\"></div><script type=\"text/javascript\">require([\"plotly\"], function(Plotly) { window.PLOTLYENV=window.PLOTLYENV || {};window.PLOTLYENV.BASE_URL=\"https://plot.ly\";Plotly.newPlot(\"afa68496-9bd4-414d-b0f7-a849a31cbd4b\", [{\"type\": \"scatter\", \"x\": [1980, 1984, 1985, 1986, 1987, 1988, 1989, 1990, 1991, 1992, 1993, 1994, 1995, 1996, 1997, 1998, 1999, 2000, 2001, 2002, 2003, 2004, 2005, 2006, 2007, 2008, 2009, 2010, 2011, 2012, 2013, 2014, 2015], \"y\": [1.0, 1.0, 1.0, 4.0, 12.0, 80.0, 273.0, 360.0, 431.0, 485.0, 633.0, 791.0, 986.0, 1005.0, 981.0, 944.0, 1236.0, 1403.0, 1048.0, 1038.0, 1213.0, 1345.0, 1106.0, 894.0, 817.0, 704.0, 484.0, 421.0, 298.0, 241.0, 169.0, 141.0, 104.0], \"name\": \"British Virgin Islands\"}, {\"type\": \"scatter\", \"x\": [1980, 1981, 1982, 1983, 1984, 1985, 1986, 1987, 1988, 1989, 1990, 1991, 1992, 1993, 1994, 1995, 1996, 1997, 1998, 1999, 2000, 2001, 2002, 2003, 2004, 2005, 2006, 2007, 2008, 2009, 2010, 2011, 2012, 2013, 2014, 2015], \"y\": [104.0, 106.0, 148.0, 191.0, 169.0, 152.0, 188.0, 183.0, 84.0, 128.0, 101.0, 101.0, 72.0, 84.0, 79.0, 124.0, 86.0, 70.0, 83.0, 78.0, 168.0, 139.0, 163.0, 321.0, 640.0, 2038.0, 1130.0, 1046.0, 994.0, 759.0, 513.0, 390.0, 248.0, 224.0, 172.0, 127.0], \"name\": \"Panama\"}, {\"type\": \"scatter\", \"x\": [1984, 1986, 1990, 1991, 1992, 1993, 1994, 1995, 1996, 1997, 1998, 1999, 2000, 2001, 2002, 2003, 2004, 2005, 2006, 2007, 2008, 2009, 2010, 2011, 2012, 2013, 2014, 2015], \"y\": [1.0, 1.0, 56.0, 95.0, 92.0, 117.0, 224.0, 211.0, 240.0, 277.0, 225.0, 189.0, 150.0, 23.0, 9.0, 22.0, 21.0, 24.0, 32.0, 10.0, 20.0, 13.0, 17.0, 3.0, 13.0, 6.0, 19.0, 16.0], \"name\": \"Bahamas\"}, {\"type\": \"scatter\", \"x\": [1994, 1995, 1996, 1997, 1998, 1999, 2000, 2001, 2002, 2003, 2004, 2005], \"y\": [10.0, 111.0, 199.0, 241.0, 311.0, 362.0, 244.0, 148.0, 97.0, 202.0, 145.0, 4.0], \"name\": \"Niue\"}, {\"type\": \"scatter\", \"x\": [1995, 1996], \"y\": [1.0, 1.0], \"name\": \"Cook Islands\"}, {\"type\": \"scatter\", \"x\": [1999, 2000, 2001, 2002, 2003, 2004, 2005, 2006, 2007, 2008, 2009, 2010, 2011, 2012, 2013, 2014, 2015], \"y\": [17.0, 27.0, 14.0, 17.0, 43.0, 67.0, 262.0, 198.0, 237.0, 172.0, 163.0, 155.0, 112.0, 58.0, 44.0, 21.0, 24.0], \"name\": \"Seychelles\"}, {\"type\": \"scatter\", \"x\": [1999, 2001, 2002, 2003, 2004, 2005, 2006, 2007, 2008, 2009, 2010, 2011, 2012, 2013, 2014], \"y\": [1.0, 7.0, 8.0, 19.0, 31.0, 18.0, 9.0, 17.0, 16.0, 7.0, 6.0, 2.0, 4.0, 3.0, 1.0], \"name\": \"Nevada\"}, {\"type\": \"scatter\", \"x\": [2000, 2001, 2002, 2003, 2004, 2005, 2006, 2007, 2008, 2009, 2010, 2011, 2012, 2013, 2014], \"y\": [2.0, 1.0, 1.0, 1.0, 2.0, 4.0, 1.0, 1.0, 3.0, 1.0, 1.0, 4.0, 3.0, 2.0, 6.0], \"name\": \"Hong Kong\"}, {\"type\": \"scatter\", \"x\": [2002], \"y\": [3.0], \"name\": \"Singapore\"}, {\"type\": \"scatter\", \"x\": [2004, 2006], \"y\": [1.0, 1.0], \"name\": \"Uruguay\"}, {\"type\": \"scatter\", \"x\": [2004, 2005, 2006, 2007, 2008, 2009, 2010, 2011, 2012, 2013, 2014, 2015], \"y\": [3.0, 36.0, 290.0, 172.0, 14.0, 5.0, 1.0, 1.0, 4.0, 2.0, 13.0, 4.0], \"name\": \"Samoa\"}, {\"type\": \"scatter\", \"x\": [2004, 2014, 2015], \"y\": [1.0, 2.0, 1.0], \"name\": \"Belize\"}, {\"type\": \"scatter\", \"x\": [2005, 2006, 2007, 2008, 2009, 2010, 2011, 2012, 2013, 2014, 2015], \"y\": [3.0, 5.0, 9.0, 6.0, 6.0, 9.0, 3.0, 7.0, 5.0, 21.0, 22.0], \"name\": \"British Anguilla\"}, {\"type\": \"scatter\", \"x\": [2011, 2012, 2014, 2015], \"y\": [1.0, 3.0, 1.0, 1.0], \"name\": \"Cyprus\"}, {\"type\": \"scatter\", \"x\": [2014, 2015], \"y\": [1.0, 1.0], \"name\": \"United Kingdom\"}, {\"type\": \"scatter\", \"x\": [2014], \"y\": [1.0], \"name\": \"Malta\"}, {\"type\": \"scatter\", \"x\": [2015], \"y\": [1.0], \"name\": \"Ras Al Khaimah\"}], {\"title\": \"Switzerland incorporations account distribution by jurisdiction with time series\", \"xaxis\": {\"rangeslider\": {}, \"type\": \"date\"}}, {\"showLink\": true, \"linkText\": \"Export to plot.ly\"})});</script>"
      ],
      "text/vnd.plotly.v1+html": [
       "<div id=\"afa68496-9bd4-414d-b0f7-a849a31cbd4b\" style=\"height: 525px; width: 100%;\" class=\"plotly-graph-div\"></div><script type=\"text/javascript\">require([\"plotly\"], function(Plotly) { window.PLOTLYENV=window.PLOTLYENV || {};window.PLOTLYENV.BASE_URL=\"https://plot.ly\";Plotly.newPlot(\"afa68496-9bd4-414d-b0f7-a849a31cbd4b\", [{\"type\": \"scatter\", \"x\": [1980, 1984, 1985, 1986, 1987, 1988, 1989, 1990, 1991, 1992, 1993, 1994, 1995, 1996, 1997, 1998, 1999, 2000, 2001, 2002, 2003, 2004, 2005, 2006, 2007, 2008, 2009, 2010, 2011, 2012, 2013, 2014, 2015], \"y\": [1.0, 1.0, 1.0, 4.0, 12.0, 80.0, 273.0, 360.0, 431.0, 485.0, 633.0, 791.0, 986.0, 1005.0, 981.0, 944.0, 1236.0, 1403.0, 1048.0, 1038.0, 1213.0, 1345.0, 1106.0, 894.0, 817.0, 704.0, 484.0, 421.0, 298.0, 241.0, 169.0, 141.0, 104.0], \"name\": \"British Virgin Islands\"}, {\"type\": \"scatter\", \"x\": [1980, 1981, 1982, 1983, 1984, 1985, 1986, 1987, 1988, 1989, 1990, 1991, 1992, 1993, 1994, 1995, 1996, 1997, 1998, 1999, 2000, 2001, 2002, 2003, 2004, 2005, 2006, 2007, 2008, 2009, 2010, 2011, 2012, 2013, 2014, 2015], \"y\": [104.0, 106.0, 148.0, 191.0, 169.0, 152.0, 188.0, 183.0, 84.0, 128.0, 101.0, 101.0, 72.0, 84.0, 79.0, 124.0, 86.0, 70.0, 83.0, 78.0, 168.0, 139.0, 163.0, 321.0, 640.0, 2038.0, 1130.0, 1046.0, 994.0, 759.0, 513.0, 390.0, 248.0, 224.0, 172.0, 127.0], \"name\": \"Panama\"}, {\"type\": \"scatter\", \"x\": [1984, 1986, 1990, 1991, 1992, 1993, 1994, 1995, 1996, 1997, 1998, 1999, 2000, 2001, 2002, 2003, 2004, 2005, 2006, 2007, 2008, 2009, 2010, 2011, 2012, 2013, 2014, 2015], \"y\": [1.0, 1.0, 56.0, 95.0, 92.0, 117.0, 224.0, 211.0, 240.0, 277.0, 225.0, 189.0, 150.0, 23.0, 9.0, 22.0, 21.0, 24.0, 32.0, 10.0, 20.0, 13.0, 17.0, 3.0, 13.0, 6.0, 19.0, 16.0], \"name\": \"Bahamas\"}, {\"type\": \"scatter\", \"x\": [1994, 1995, 1996, 1997, 1998, 1999, 2000, 2001, 2002, 2003, 2004, 2005], \"y\": [10.0, 111.0, 199.0, 241.0, 311.0, 362.0, 244.0, 148.0, 97.0, 202.0, 145.0, 4.0], \"name\": \"Niue\"}, {\"type\": \"scatter\", \"x\": [1995, 1996], \"y\": [1.0, 1.0], \"name\": \"Cook Islands\"}, {\"type\": \"scatter\", \"x\": [1999, 2000, 2001, 2002, 2003, 2004, 2005, 2006, 2007, 2008, 2009, 2010, 2011, 2012, 2013, 2014, 2015], \"y\": [17.0, 27.0, 14.0, 17.0, 43.0, 67.0, 262.0, 198.0, 237.0, 172.0, 163.0, 155.0, 112.0, 58.0, 44.0, 21.0, 24.0], \"name\": \"Seychelles\"}, {\"type\": \"scatter\", \"x\": [1999, 2001, 2002, 2003, 2004, 2005, 2006, 2007, 2008, 2009, 2010, 2011, 2012, 2013, 2014], \"y\": [1.0, 7.0, 8.0, 19.0, 31.0, 18.0, 9.0, 17.0, 16.0, 7.0, 6.0, 2.0, 4.0, 3.0, 1.0], \"name\": \"Nevada\"}, {\"type\": \"scatter\", \"x\": [2000, 2001, 2002, 2003, 2004, 2005, 2006, 2007, 2008, 2009, 2010, 2011, 2012, 2013, 2014], \"y\": [2.0, 1.0, 1.0, 1.0, 2.0, 4.0, 1.0, 1.0, 3.0, 1.0, 1.0, 4.0, 3.0, 2.0, 6.0], \"name\": \"Hong Kong\"}, {\"type\": \"scatter\", \"x\": [2002], \"y\": [3.0], \"name\": \"Singapore\"}, {\"type\": \"scatter\", \"x\": [2004, 2006], \"y\": [1.0, 1.0], \"name\": \"Uruguay\"}, {\"type\": \"scatter\", \"x\": [2004, 2005, 2006, 2007, 2008, 2009, 2010, 2011, 2012, 2013, 2014, 2015], \"y\": [3.0, 36.0, 290.0, 172.0, 14.0, 5.0, 1.0, 1.0, 4.0, 2.0, 13.0, 4.0], \"name\": \"Samoa\"}, {\"type\": \"scatter\", \"x\": [2004, 2014, 2015], \"y\": [1.0, 2.0, 1.0], \"name\": \"Belize\"}, {\"type\": \"scatter\", \"x\": [2005, 2006, 2007, 2008, 2009, 2010, 2011, 2012, 2013, 2014, 2015], \"y\": [3.0, 5.0, 9.0, 6.0, 6.0, 9.0, 3.0, 7.0, 5.0, 21.0, 22.0], \"name\": \"British Anguilla\"}, {\"type\": \"scatter\", \"x\": [2011, 2012, 2014, 2015], \"y\": [1.0, 3.0, 1.0, 1.0], \"name\": \"Cyprus\"}, {\"type\": \"scatter\", \"x\": [2014, 2015], \"y\": [1.0, 1.0], \"name\": \"United Kingdom\"}, {\"type\": \"scatter\", \"x\": [2014], \"y\": [1.0], \"name\": \"Malta\"}, {\"type\": \"scatter\", \"x\": [2015], \"y\": [1.0], \"name\": \"Ras Al Khaimah\"}], {\"title\": \"Switzerland incorporations account distribution by jurisdiction with time series\", \"xaxis\": {\"rangeslider\": {}, \"type\": \"date\"}}, {\"showLink\": true, \"linkText\": \"Export to plot.ly\"})});</script>"
      ]
     },
     "metadata": {},
     "output_type": "display_data"
    },
    {
     "data": {
      "application/vnd.plotly.v1+json": {
       "data": [
        {
         "name": "Undetermined",
         "type": "scatter",
         "x": [
          1980
         ],
         "y": [
          1
         ]
        },
        {
         "name": "Panama",
         "type": "scatter",
         "x": [
          1980,
          1981,
          1982,
          1983,
          1984,
          1985,
          1986,
          1987,
          1988,
          1989,
          1990,
          1991,
          1992,
          1993,
          1994,
          1995,
          1996,
          1997,
          1998,
          1999,
          2000,
          2001,
          2002,
          2003,
          2004,
          2005,
          2006,
          2007,
          2008,
          2009,
          2010,
          2011,
          2012,
          2013,
          2014,
          2015
         ],
         "y": [
          32,
          68,
          115,
          128,
          157,
          147,
          185,
          198,
          105,
          73,
          66,
          39,
          26,
          25,
          61,
          68,
          107,
          130,
          112,
          88,
          141,
          165,
          182,
          153,
          307,
          479,
          403,
          407,
          431,
          285,
          189,
          174,
          206,
          209,
          188,
          103
         ]
        },
        {
         "name": "British Virgin Islands",
         "type": "scatter",
         "x": [
          1986,
          1987,
          1988,
          1989,
          1990,
          1991,
          1992,
          1993,
          1994,
          1995,
          1996,
          1997,
          1998,
          1999,
          2000,
          2001,
          2002,
          2003,
          2004,
          2005,
          2006,
          2007,
          2008,
          2009,
          2010,
          2011,
          2012,
          2013,
          2014,
          2015
         ],
         "y": [
          1,
          2,
          25,
          23,
          30,
          38,
          46,
          84,
          69,
          70,
          132,
          301,
          237,
          324,
          418,
          410,
          254,
          195,
          313,
          172,
          131,
          225,
          252,
          96,
          122,
          215,
          170,
          153,
          140,
          140
         ]
        },
        {
         "name": "Bahamas",
         "type": "scatter",
         "x": [
          1989,
          1990,
          1991,
          1992,
          1993,
          1994,
          1995,
          1996,
          1997,
          1998,
          1999,
          2000,
          2001,
          2002,
          2003,
          2004,
          2005,
          2006,
          2007,
          2008,
          2009,
          2010,
          2011,
          2012,
          2013,
          2014,
          2015
         ],
         "y": [
          2,
          32,
          21,
          19,
          35,
          110,
          92,
          76,
          113,
          130,
          111,
          135,
          53,
          14,
          26,
          21,
          17,
          14,
          19,
          23,
          23,
          5,
          3,
          12,
          4,
          5,
          3
         ]
        },
        {
         "name": "Niue",
         "type": "scatter",
         "x": [
          1994,
          1995,
          1996,
          1997,
          1998,
          1999,
          2000,
          2001,
          2002,
          2003,
          2004,
          2005
         ],
         "y": [
          34,
          32,
          104,
          179,
          220,
          266,
          299,
          145,
          80,
          147,
          81,
          2
         ]
        },
        {
         "name": "Seychelles",
         "type": "scatter",
         "x": [
          1998,
          1999,
          2000,
          2001,
          2002,
          2003,
          2004,
          2005,
          2006,
          2007,
          2008,
          2009,
          2010,
          2011,
          2012,
          2013,
          2014,
          2015
         ],
         "y": [
          6,
          38,
          45,
          65,
          30,
          45,
          80,
          138,
          190,
          175,
          104,
          78,
          59,
          61,
          31,
          42,
          37,
          49
         ]
        },
        {
         "name": "Uruguay",
         "type": "scatter",
         "x": [
          2000,
          2001,
          2002,
          2003
         ],
         "y": [
          2,
          3,
          1,
          1
         ]
        },
        {
         "name": "Hong Kong",
         "type": "scatter",
         "x": [
          2000,
          2001,
          2002,
          2003,
          2004,
          2005,
          2007,
          2008,
          2009,
          2010,
          2011,
          2012,
          2013,
          2015
         ],
         "y": [
          75,
          3,
          2,
          1,
          1,
          4,
          2,
          2,
          5,
          1,
          3,
          3,
          3,
          3
         ]
        },
        {
         "name": "Nevada",
         "type": "scatter",
         "x": [
          2001,
          2002,
          2003,
          2004,
          2005,
          2006,
          2007,
          2008,
          2009,
          2010,
          2011,
          2012,
          2013,
          2014
         ],
         "y": [
          12,
          11,
          14,
          2,
          8,
          8,
          3,
          5,
          2,
          3,
          1,
          3,
          4,
          6
         ]
        },
        {
         "name": "Samoa",
         "type": "scatter",
         "x": [
          2003,
          2004,
          2005,
          2006,
          2007,
          2008,
          2009,
          2010,
          2011,
          2012,
          2013,
          2014,
          2015
         ],
         "y": [
          2,
          60,
          36,
          47,
          47,
          49,
          27,
          31,
          19,
          16,
          27,
          24,
          25
         ]
        },
        {
         "name": "British Anguilla",
         "type": "scatter",
         "x": [
          2005,
          2006,
          2007,
          2008,
          2009,
          2010,
          2011,
          2012,
          2013,
          2014,
          2015
         ],
         "y": [
          2,
          2,
          53,
          49,
          46,
          20,
          25,
          27,
          20,
          13,
          21
         ]
        },
        {
         "name": "Cyprus",
         "type": "scatter",
         "x": [
          2010,
          2011,
          2012
         ],
         "y": [
          1,
          18,
          3
         ]
        },
        {
         "name": "Belize",
         "type": "scatter",
         "x": [
          2012,
          2013,
          2014,
          2015
         ],
         "y": [
          1,
          4,
          19,
          16
         ]
        },
        {
         "name": "Wyoming",
         "type": "scatter",
         "x": [
          2012,
          2014
         ],
         "y": [
          4,
          1
         ]
        },
        {
         "name": "United Kingdom",
         "type": "scatter",
         "x": [
          2013,
          2014,
          2015
         ],
         "y": [
          1,
          3,
          1
         ]
        },
        {
         "name": "Malta",
         "type": "scatter",
         "x": [
          2013
         ],
         "y": [
          1
         ]
        },
        {
         "name": "New Zealand",
         "type": "scatter",
         "x": [
          2013
         ],
         "y": [
          2
         ]
        },
        {
         "name": "Costa Rica",
         "type": "scatter",
         "x": [
          2014,
          2015
         ],
         "y": [
          1,
          4
         ]
        }
       ],
       "layout": {
        "title": "Panama incorporations account distribution by jurisdiction with time series",
        "xaxis": {
         "rangeslider": {},
         "type": "date"
        }
       }
      },
      "text/html": [
       "<div id=\"5b83dddc-a132-4f25-8ce3-1f9273503175\" style=\"height: 525px; width: 100%;\" class=\"plotly-graph-div\"></div><script type=\"text/javascript\">require([\"plotly\"], function(Plotly) { window.PLOTLYENV=window.PLOTLYENV || {};window.PLOTLYENV.BASE_URL=\"https://plot.ly\";Plotly.newPlot(\"5b83dddc-a132-4f25-8ce3-1f9273503175\", [{\"type\": \"scatter\", \"x\": [1980], \"y\": [1.0], \"name\": \"Undetermined\"}, {\"type\": \"scatter\", \"x\": [1980, 1981, 1982, 1983, 1984, 1985, 1986, 1987, 1988, 1989, 1990, 1991, 1992, 1993, 1994, 1995, 1996, 1997, 1998, 1999, 2000, 2001, 2002, 2003, 2004, 2005, 2006, 2007, 2008, 2009, 2010, 2011, 2012, 2013, 2014, 2015], \"y\": [32.0, 68.0, 115.0, 128.0, 157.0, 147.0, 185.0, 198.0, 105.0, 73.0, 66.0, 39.0, 26.0, 25.0, 61.0, 68.0, 107.0, 130.0, 112.0, 88.0, 141.0, 165.0, 182.0, 153.0, 307.0, 479.0, 403.0, 407.0, 431.0, 285.0, 189.0, 174.0, 206.0, 209.0, 188.0, 103.0], \"name\": \"Panama\"}, {\"type\": \"scatter\", \"x\": [1986, 1987, 1988, 1989, 1990, 1991, 1992, 1993, 1994, 1995, 1996, 1997, 1998, 1999, 2000, 2001, 2002, 2003, 2004, 2005, 2006, 2007, 2008, 2009, 2010, 2011, 2012, 2013, 2014, 2015], \"y\": [1.0, 2.0, 25.0, 23.0, 30.0, 38.0, 46.0, 84.0, 69.0, 70.0, 132.0, 301.0, 237.0, 324.0, 418.0, 410.0, 254.0, 195.0, 313.0, 172.0, 131.0, 225.0, 252.0, 96.0, 122.0, 215.0, 170.0, 153.0, 140.0, 140.0], \"name\": \"British Virgin Islands\"}, {\"type\": \"scatter\", \"x\": [1989, 1990, 1991, 1992, 1993, 1994, 1995, 1996, 1997, 1998, 1999, 2000, 2001, 2002, 2003, 2004, 2005, 2006, 2007, 2008, 2009, 2010, 2011, 2012, 2013, 2014, 2015], \"y\": [2.0, 32.0, 21.0, 19.0, 35.0, 110.0, 92.0, 76.0, 113.0, 130.0, 111.0, 135.0, 53.0, 14.0, 26.0, 21.0, 17.0, 14.0, 19.0, 23.0, 23.0, 5.0, 3.0, 12.0, 4.0, 5.0, 3.0], \"name\": \"Bahamas\"}, {\"type\": \"scatter\", \"x\": [1994, 1995, 1996, 1997, 1998, 1999, 2000, 2001, 2002, 2003, 2004, 2005], \"y\": [34.0, 32.0, 104.0, 179.0, 220.0, 266.0, 299.0, 145.0, 80.0, 147.0, 81.0, 2.0], \"name\": \"Niue\"}, {\"type\": \"scatter\", \"x\": [1998, 1999, 2000, 2001, 2002, 2003, 2004, 2005, 2006, 2007, 2008, 2009, 2010, 2011, 2012, 2013, 2014, 2015], \"y\": [6.0, 38.0, 45.0, 65.0, 30.0, 45.0, 80.0, 138.0, 190.0, 175.0, 104.0, 78.0, 59.0, 61.0, 31.0, 42.0, 37.0, 49.0], \"name\": \"Seychelles\"}, {\"type\": \"scatter\", \"x\": [2000, 2001, 2002, 2003], \"y\": [2.0, 3.0, 1.0, 1.0], \"name\": \"Uruguay\"}, {\"type\": \"scatter\", \"x\": [2000, 2001, 2002, 2003, 2004, 2005, 2007, 2008, 2009, 2010, 2011, 2012, 2013, 2015], \"y\": [75.0, 3.0, 2.0, 1.0, 1.0, 4.0, 2.0, 2.0, 5.0, 1.0, 3.0, 3.0, 3.0, 3.0], \"name\": \"Hong Kong\"}, {\"type\": \"scatter\", \"x\": [2001, 2002, 2003, 2004, 2005, 2006, 2007, 2008, 2009, 2010, 2011, 2012, 2013, 2014], \"y\": [12.0, 11.0, 14.0, 2.0, 8.0, 8.0, 3.0, 5.0, 2.0, 3.0, 1.0, 3.0, 4.0, 6.0], \"name\": \"Nevada\"}, {\"type\": \"scatter\", \"x\": [2003, 2004, 2005, 2006, 2007, 2008, 2009, 2010, 2011, 2012, 2013, 2014, 2015], \"y\": [2.0, 60.0, 36.0, 47.0, 47.0, 49.0, 27.0, 31.0, 19.0, 16.0, 27.0, 24.0, 25.0], \"name\": \"Samoa\"}, {\"type\": \"scatter\", \"x\": [2005, 2006, 2007, 2008, 2009, 2010, 2011, 2012, 2013, 2014, 2015], \"y\": [2.0, 2.0, 53.0, 49.0, 46.0, 20.0, 25.0, 27.0, 20.0, 13.0, 21.0], \"name\": \"British Anguilla\"}, {\"type\": \"scatter\", \"x\": [2010, 2011, 2012], \"y\": [1.0, 18.0, 3.0], \"name\": \"Cyprus\"}, {\"type\": \"scatter\", \"x\": [2012, 2013, 2014, 2015], \"y\": [1.0, 4.0, 19.0, 16.0], \"name\": \"Belize\"}, {\"type\": \"scatter\", \"x\": [2012, 2014], \"y\": [4.0, 1.0], \"name\": \"Wyoming\"}, {\"type\": \"scatter\", \"x\": [2013, 2014, 2015], \"y\": [1.0, 3.0, 1.0], \"name\": \"United Kingdom\"}, {\"type\": \"scatter\", \"x\": [2013], \"y\": [1.0], \"name\": \"Malta\"}, {\"type\": \"scatter\", \"x\": [2013], \"y\": [2.0], \"name\": \"New Zealand\"}, {\"type\": \"scatter\", \"x\": [2014, 2015], \"y\": [1.0, 4.0], \"name\": \"Costa Rica\"}], {\"title\": \"Panama incorporations account distribution by jurisdiction with time series\", \"xaxis\": {\"rangeslider\": {}, \"type\": \"date\"}}, {\"showLink\": true, \"linkText\": \"Export to plot.ly\"})});</script>"
      ],
      "text/vnd.plotly.v1+html": [
       "<div id=\"5b83dddc-a132-4f25-8ce3-1f9273503175\" style=\"height: 525px; width: 100%;\" class=\"plotly-graph-div\"></div><script type=\"text/javascript\">require([\"plotly\"], function(Plotly) { window.PLOTLYENV=window.PLOTLYENV || {};window.PLOTLYENV.BASE_URL=\"https://plot.ly\";Plotly.newPlot(\"5b83dddc-a132-4f25-8ce3-1f9273503175\", [{\"type\": \"scatter\", \"x\": [1980], \"y\": [1.0], \"name\": \"Undetermined\"}, {\"type\": \"scatter\", \"x\": [1980, 1981, 1982, 1983, 1984, 1985, 1986, 1987, 1988, 1989, 1990, 1991, 1992, 1993, 1994, 1995, 1996, 1997, 1998, 1999, 2000, 2001, 2002, 2003, 2004, 2005, 2006, 2007, 2008, 2009, 2010, 2011, 2012, 2013, 2014, 2015], \"y\": [32.0, 68.0, 115.0, 128.0, 157.0, 147.0, 185.0, 198.0, 105.0, 73.0, 66.0, 39.0, 26.0, 25.0, 61.0, 68.0, 107.0, 130.0, 112.0, 88.0, 141.0, 165.0, 182.0, 153.0, 307.0, 479.0, 403.0, 407.0, 431.0, 285.0, 189.0, 174.0, 206.0, 209.0, 188.0, 103.0], \"name\": \"Panama\"}, {\"type\": \"scatter\", \"x\": [1986, 1987, 1988, 1989, 1990, 1991, 1992, 1993, 1994, 1995, 1996, 1997, 1998, 1999, 2000, 2001, 2002, 2003, 2004, 2005, 2006, 2007, 2008, 2009, 2010, 2011, 2012, 2013, 2014, 2015], \"y\": [1.0, 2.0, 25.0, 23.0, 30.0, 38.0, 46.0, 84.0, 69.0, 70.0, 132.0, 301.0, 237.0, 324.0, 418.0, 410.0, 254.0, 195.0, 313.0, 172.0, 131.0, 225.0, 252.0, 96.0, 122.0, 215.0, 170.0, 153.0, 140.0, 140.0], \"name\": \"British Virgin Islands\"}, {\"type\": \"scatter\", \"x\": [1989, 1990, 1991, 1992, 1993, 1994, 1995, 1996, 1997, 1998, 1999, 2000, 2001, 2002, 2003, 2004, 2005, 2006, 2007, 2008, 2009, 2010, 2011, 2012, 2013, 2014, 2015], \"y\": [2.0, 32.0, 21.0, 19.0, 35.0, 110.0, 92.0, 76.0, 113.0, 130.0, 111.0, 135.0, 53.0, 14.0, 26.0, 21.0, 17.0, 14.0, 19.0, 23.0, 23.0, 5.0, 3.0, 12.0, 4.0, 5.0, 3.0], \"name\": \"Bahamas\"}, {\"type\": \"scatter\", \"x\": [1994, 1995, 1996, 1997, 1998, 1999, 2000, 2001, 2002, 2003, 2004, 2005], \"y\": [34.0, 32.0, 104.0, 179.0, 220.0, 266.0, 299.0, 145.0, 80.0, 147.0, 81.0, 2.0], \"name\": \"Niue\"}, {\"type\": \"scatter\", \"x\": [1998, 1999, 2000, 2001, 2002, 2003, 2004, 2005, 2006, 2007, 2008, 2009, 2010, 2011, 2012, 2013, 2014, 2015], \"y\": [6.0, 38.0, 45.0, 65.0, 30.0, 45.0, 80.0, 138.0, 190.0, 175.0, 104.0, 78.0, 59.0, 61.0, 31.0, 42.0, 37.0, 49.0], \"name\": \"Seychelles\"}, {\"type\": \"scatter\", \"x\": [2000, 2001, 2002, 2003], \"y\": [2.0, 3.0, 1.0, 1.0], \"name\": \"Uruguay\"}, {\"type\": \"scatter\", \"x\": [2000, 2001, 2002, 2003, 2004, 2005, 2007, 2008, 2009, 2010, 2011, 2012, 2013, 2015], \"y\": [75.0, 3.0, 2.0, 1.0, 1.0, 4.0, 2.0, 2.0, 5.0, 1.0, 3.0, 3.0, 3.0, 3.0], \"name\": \"Hong Kong\"}, {\"type\": \"scatter\", \"x\": [2001, 2002, 2003, 2004, 2005, 2006, 2007, 2008, 2009, 2010, 2011, 2012, 2013, 2014], \"y\": [12.0, 11.0, 14.0, 2.0, 8.0, 8.0, 3.0, 5.0, 2.0, 3.0, 1.0, 3.0, 4.0, 6.0], \"name\": \"Nevada\"}, {\"type\": \"scatter\", \"x\": [2003, 2004, 2005, 2006, 2007, 2008, 2009, 2010, 2011, 2012, 2013, 2014, 2015], \"y\": [2.0, 60.0, 36.0, 47.0, 47.0, 49.0, 27.0, 31.0, 19.0, 16.0, 27.0, 24.0, 25.0], \"name\": \"Samoa\"}, {\"type\": \"scatter\", \"x\": [2005, 2006, 2007, 2008, 2009, 2010, 2011, 2012, 2013, 2014, 2015], \"y\": [2.0, 2.0, 53.0, 49.0, 46.0, 20.0, 25.0, 27.0, 20.0, 13.0, 21.0], \"name\": \"British Anguilla\"}, {\"type\": \"scatter\", \"x\": [2010, 2011, 2012], \"y\": [1.0, 18.0, 3.0], \"name\": \"Cyprus\"}, {\"type\": \"scatter\", \"x\": [2012, 2013, 2014, 2015], \"y\": [1.0, 4.0, 19.0, 16.0], \"name\": \"Belize\"}, {\"type\": \"scatter\", \"x\": [2012, 2014], \"y\": [4.0, 1.0], \"name\": \"Wyoming\"}, {\"type\": \"scatter\", \"x\": [2013, 2014, 2015], \"y\": [1.0, 3.0, 1.0], \"name\": \"United Kingdom\"}, {\"type\": \"scatter\", \"x\": [2013], \"y\": [1.0], \"name\": \"Malta\"}, {\"type\": \"scatter\", \"x\": [2013], \"y\": [2.0], \"name\": \"New Zealand\"}, {\"type\": \"scatter\", \"x\": [2014, 2015], \"y\": [1.0, 4.0], \"name\": \"Costa Rica\"}], {\"title\": \"Panama incorporations account distribution by jurisdiction with time series\", \"xaxis\": {\"rangeslider\": {}, \"type\": \"date\"}}, {\"showLink\": true, \"linkText\": \"Export to plot.ly\"})});</script>"
      ]
     },
     "metadata": {},
     "output_type": "display_data"
    }
   ],
   "source": [
    "visualizer.visualize_slider_country(countries_frame, 'incorporations')"
   ]
  },
  {
   "cell_type": "code",
   "execution_count": null,
   "metadata": {
    "collapsed": true,
    "scrolled": false
   },
   "outputs": [],
   "source": [
    "visualizer.visualize_slider_jurisdiction(countries_frame, 'incorporations')"
   ]
  },
  {
   "cell_type": "markdown",
   "metadata": {},
   "source": [
    "## Visualizing situation in the most involved countries"
   ]
  },
  {
   "cell_type": "code",
   "execution_count": null,
   "metadata": {
    "collapsed": true,
    "scrolled": true
   },
   "outputs": [],
   "source": [
    "visualizer.visualize_countries_situation(countries_frame, divide_by='Country')"
   ]
  },
  {
   "cell_type": "markdown",
   "metadata": {},
   "source": [
    "## Visualizing situation in the most involved jurisdictions\n",
    "___\n",
    "#### British Virgin Islands\n"
   ]
  },
  {
   "cell_type": "code",
   "execution_count": null,
   "metadata": {
    "collapsed": true,
    "scrolled": true
   },
   "outputs": [],
   "source": [
    "visualizer.visualize_countries_situation(countries_frame, divide_by='Country',selected_jurisdiction='British Virgin Islands')"
   ]
  },
  {
   "cell_type": "markdown",
   "metadata": {},
   "source": [
    "#### Panama"
   ]
  },
  {
   "cell_type": "code",
   "execution_count": null,
   "metadata": {
    "collapsed": true,
    "scrolled": true
   },
   "outputs": [],
   "source": [
    "visualizer.visualize_countries_situation(countries_frame, divide_by='Country',selected_jurisdiction='Panama')"
   ]
  },
  {
   "cell_type": "markdown",
   "metadata": {},
   "source": [
    "## Visualize flows with interactive map and pie chart.\n",
    "___\n",
    "\n",
    "### How to use it?\n",
    "\n",
    "The [interactive widget](http://ipywidgets.readthedocs.io/en/stable/examples/Using%20Interact.html) provided by Jupyter notebook is used in this visualization to select one of the most involved countries.\n",
    "\n",
    "Given one country it's possible to see its flow of _incorporations_, _inactivations_, _actives_ offshores in one specific year which is selectable with a bounded slider.\n",
    "\n",
    "**Note**: The flow is represented by red arcs throughout the map. The opacity of each arc represent its weight over the total.\n",
    "\n",
    "The Pie chart below displays the composition of the given flows in the specific country for each involved jurisdiction in that specific year.\n",
    "\n",
    "### ⚠️ Warning : interactive visualization is only active if runned manually. Interactive widget not working in offline/nbviewer mode (for the moment) \n"
   ]
  },
  {
   "cell_type": "code",
   "execution_count": null,
   "metadata": {
    "collapsed": true,
    "scrolled": false
   },
   "outputs": [],
   "source": [
    "widget = interactive(visualizer.visualize_flow_by_country, country=most_involved_countries, year=(1950, 2016, 1), feat=['actives', 'incorporations','inactivations'])## Observations\n",
    "display(widget)"
   ]
  },
  {
   "cell_type": "code",
   "execution_count": null,
   "metadata": {
    "collapsed": true,
    "scrolled": false
   },
   "outputs": [],
   "source": [
    "visualizer.visualize_flow_by_country(country='Switzerland', feat='actives', year=2014)"
   ]
  },
  {
   "cell_type": "markdown",
   "metadata": {},
   "source": [
    "## Observations\n",
    "\n",
    "### Most important leaks\n",
    "Here is a list of the most important leaks documented by the International Consortium of Investigative Journalists [ICIJ](https://offshoreleaks.icij.org/)\n",
    "- **Bahamas Leak**\n",
    "April 2, 2013\n",
    "None got scared [Best year =  2010]\n",
    "- **China Leak** ⭐️\n",
    "January 21, 2014\n",
    "More offshores [Seyschelles - Samoa - British Virgin Islands - British Anguila] \n",
    "- **Lux Leak** \n",
    "December 9, 2014\n",
    "None got scared [Best year =  2007]\n",
    "- **Swiss Leak** \n",
    "February 8, 2015 \n",
    "None got scared [Best year =  2007]\n",
    "- **Panama Leak**\n",
    "April 3, 2016\n",
    "\n",
    "#### Too early to state something precise, we will investigate the relationships between countries and jurisdictions.\n",
    "___"
   ]
  },
  {
   "cell_type": "markdown",
   "metadata": {},
   "source": [
    "## Save CSV\n",
    "This function is used to create the CSV used for the visualization. \n",
    "\n",
    "__No need to run it again since are already created and accessible__."
   ]
  },
  {
   "cell_type": "code",
   "execution_count": null,
   "metadata": {
    "collapsed": true,
    "scrolled": true
   },
   "outputs": [],
   "source": [
    "entities = r'./panama_csv/Entities.csv'\n",
    "entities = pd.read_csv(entities,index_col='name', header=0, low_memory=False)\n",
    "entities=entities.rename(columns = {'countries':'Country','jurisdiction':'abbr_jurisd','jurisdiction_description':'jurisdiction'})\n",
    "all_countries = entities.groupby('Country').count().index\n",
    "features = ['active offshores', 'incorporations', 'inactivations']\n",
    "for feature in features:\n",
    "    frame = preprocessing.process_countries_with_code(entities, \n",
    "                                                            all_countries, \n",
    "                                                            analisys_on='Country', \n",
    "                                                            from_year=1900, \n",
    "                                                            to_year=2017,\n",
    "                                                            feature=feature\n",
    "                                                           )\n",
    "    name = feature\n",
    "    if name == 'active offshores':\n",
    "        name = 'actives'\n",
    "    frame.to_csv('csv/cash_flows_'+name+'.csv', index=False)"
   ]
  },
  {
   "cell_type": "markdown",
   "metadata": {},
   "source": [
    "## Other further ideas\n",
    "\n",
    "> ### [How much money do you need in order to make an offshore account worthwhile ?](http://www.macleans.ca/news/world/why-do-the-rich-hide-money-offshore-anyway/)\n",
    "> ### The [Financial Secrecy Index](http://www.financialsecrecyindex.com/introduction/fsi-2015-results) can be useful to investigate differences between tax haven jurisdictions."
   ]
  }
 ],
 "metadata": {
  "kernelspec": {
   "display_name": "Python 3",
   "language": "python",
   "name": "python3"
  },
  "language_info": {
   "codemirror_mode": {
    "name": "ipython",
    "version": 3
   },
   "file_extension": ".py",
   "mimetype": "text/x-python",
   "name": "python",
   "nbconvert_exporter": "python",
   "pygments_lexer": "ipython3",
   "version": "3.6.2"
  }
 },
 "nbformat": 4,
 "nbformat_minor": 1
}

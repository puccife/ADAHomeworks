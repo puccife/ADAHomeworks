{
 "cells": [
  {
   "cell_type": "code",
   "execution_count": 4,
   "metadata": {},
   "outputs": [
    {
     "data": {
      "text/html": [
       "<script>requirejs.config({paths: { 'plotly': ['https://cdn.plot.ly/plotly-latest.min']},});if(!window.Plotly) {{require(['plotly'],function(plotly) {window.Plotly=plotly;});}}</script>"
      ],
      "text/vnd.plotly.v1+html": [
       "<script>requirejs.config({paths: { 'plotly': ['https://cdn.plot.ly/plotly-latest.min']},});if(!window.Plotly) {{require(['plotly'],function(plotly) {window.Plotly=plotly;});}}</script>"
      ]
     },
     "metadata": {},
     "output_type": "display_data"
    },
    {
     "data": {
      "text/html": [
       "<script>requirejs.config({paths: { 'plotly': ['https://cdn.plot.ly/plotly-latest.min']},});if(!window.Plotly) {{require(['plotly'],function(plotly) {window.Plotly=plotly;});}}</script>"
      ],
      "text/vnd.plotly.v1+html": [
       "<script>requirejs.config({paths: { 'plotly': ['https://cdn.plot.ly/plotly-latest.min']},});if(!window.Plotly) {{require(['plotly'],function(plotly) {window.Plotly=plotly;});}}</script>"
      ]
     },
     "metadata": {},
     "output_type": "display_data"
    }
   ],
   "source": [
    "from __future__ import print_function\n",
    "from ipywidgets import interact, interactive, fixed, interact_manual\n",
    "import ipywidgets as widgetsimport\n",
    "import pandas as pd\n",
    "from IPython.display import display\n",
    "import matplotlib.pyplot as plt\n",
    "import numpy as np\n",
    "import matplotlib.pyplot as plt\n",
    "import seaborn as sns\n",
    "import collections\n",
    "from utils import visualizer, preprocessing, visualizers_1, preprocessing_1,computations_1, visualizer_q3\n",
    "import sklearn\n",
    "import json\n",
    "import folium\n",
    "%load_ext autoreload\n",
    "%autoreload 2\n",
    "%matplotlib inline\n",
    "#Import new style\n",
    "plt.style.use('bmh')"
   ]
  },
  {
   "cell_type": "markdown",
   "metadata": {},
   "source": [
    "# Inside the Leak\n",
    "\n",
    "As global markets expand and become more interconnected, businesses are increasingly looking for resources to help identify competitive and profitable opportunities. Several data leakages in the last years have shown that a common approach to this is the creation of offshore companies, i.e. companies created in low-tax, offshore jurisdictions.\n",
    "Our goal is to analyze motivating factors for creating\n",
    "such entities. We believe that a better understanding of the reasons can help to find ways to deal with those tendencies. This has an impact on the social good, because fiscal prudence and opennesss in international trade can have a powerful effect on improving society.\n",
    "\n",
    "Our analysis is based on data provided in the [Offshore Leaks Database](https://www.occrp.org/en/panamapapers/database). It contains information about 500,000 offshore companies, foundations and trusts including links to people and companies in more than 200 countries and territories. The information comes from the Panama Papers, the Offshore Leaks and the Bahamas Leaks investigations cunducted in the years 2013 to 2016. While those data leaks contain diverse sorts of documents from emails to bank documents, the database provides structured information excluding raw files. The latest investigation on the Paradise Papers that was released in November 2017 is not included in our analysis.\n",
    "\n",
    "In order to better understand the underlying structures of the offshore business we analyze the available data on the level of countries. We identify the most involved countries and try to find factors that characterize those countries. To this aim we enrich the dataset with information about the economical and social background of countries from the [Index of Economic Freedom](http://www.heritage.org/index/about).\n",
    "Furthermore, we investigate how the different countries are connected and how their presence in the offshore business evolved in the last years. In particular, we wanted to see whether the publication of the leaks influenced those developments in some way."
   ]
  },
  {
   "cell_type": "code",
   "execution_count": 5,
   "metadata": {
    "collapsed": true
   },
   "outputs": [],
   "source": [
    "#TODO explain terminology + add things if needed"
   ]
  },
  {
   "cell_type": "markdown",
   "metadata": {},
   "source": [
    "Before we present our findings we want to clarify some of the used terminonology:\n",
    "    -  offshore entity (explain that not per se illegal?)\n",
    "    -  jurisdiction\n",
    "    -  incoorporation"
   ]
  },
  {
   "cell_type": "markdown",
   "metadata": {},
   "source": [
    "## Most involved countries and their characteristics\n",
    "\n",
    "In this section we analyze which countries are most involved in the offshore business and try to identify their economic characteristics.\n",
    "\n",
    "First of all, we want to give an overview of the available data."
   ]
  },
  {
   "cell_type": "code",
   "execution_count": 6,
   "metadata": {
    "collapsed": true
   },
   "outputs": [],
   "source": [
    "# TODO:\n",
    "# - explain missing data for tax havens\n",
    "# - most involved jurisdictions\n",
    "# - most involved tax havens\n",
    "# - correlation nrofoffshores + index data + CONCLUSION"
   ]
  },
  {
   "cell_type": "markdown",
   "metadata": {},
   "source": [
    "## International relations\n",
    "\n",
    "Let us now take a closer look at how the different countries are connected. We measure the connectedness of two countries by the number of offshores coming from one country founded in the other country.\n",
    "\n",
    "To begin with, we want to see if there is a pattern in the way players in origin countries select special countries for their offshores. Therefore, we cluster the origin countries into groups with similar selection information using kMeans clustering. \n",
    "\n",
    "The selection patterns of the four resulting clusters are visualized in the matrices below. Each row corresponds to an origin country and each column to a goal country. The color of a cell indicates for the corresponding origin country the relative frequency of offshores that where founded in the corresponding goal country.\n",
    "\n",
    "And indeed it is easy to see a pattern that characterizes the countries which are in the same  cluster: The first cluster contains those countries where the majority of offshore entities are founded on the British Virgin Islands. The second cluster contains the countries with most offshore entities in Panama, the third those countries with a mojority of entities on the Seychelles. The countries in the fourth cluster show more diverse distributions of destination countries. However there are still interesting patterns. For example, for many countries in this cluster the main destination of entities is the country itself, see for example the Cook Islands or Samoa.\n",
    "\n",
    "Now that we know that the countries can be categorized by the way jurisdictions for offshores are selected, an obvious question to ask is what causes those different structures. In other words, we want to know how the countries that are in the same cluster are similar to each other and different to the coutries in other clusters. This in turn could help us to find the underlying factors that motivate the selection of destination countries. \n",
    "\n",
    "The first thing we consider as a possible factor is geographical closeness. As can be seen in the map, most South American countries (Brasil being the most apparent exception) have the majority of offshore entities in Panama (cluster 2). In Northern America and the UK, most offshore entities are founded on the British Virgin Islands. So indeed geographical closeness might be a factor. \n",
    "\n",
    "The next possible factors we consider are of economical nature. We investigate which influence the economic factors specified in the Index of Eonomic freedom data set have on the assignment to the clusters. There are several ways to tackle this question. One approach we took was to do a multinomial logit which predicts the cluster from the economical factors. As economical factors, we considered the gross domestic product (GDP), the GDP growth rate, government expenditures, the infalation, foreign direct investment (FDI) inflow and the public debt. We then interpreted the coefficients of the classifier. It turned out that none of the mentionned factors have a significant influence. Another approach is to do a principal component analysis (PCA). A PCA considering the three main factors can be visulized as follows, where every point corresponds to a country and the color indicates its cluster:\n",
    "\n",
    "Similarly to the previous analysis, it is difficult to see a pattern in this. Therefore, we conclude that the economic factors we analyzed have no influence. \n",
    "\n",
    "Note that in general this kind of reasoning only enables us to restrict the set of possible factors, while it does not enable us to identify the relevant factors with certainty. This would require more background research by experts. We still think that the map is a good basis to detact interesting tendencies. For example, starting from there one could try to see whether countries belonging to the Commonwealth of nations belong to the same cluster. We observe that the UK, India and Australia are in the same cluster. However, Canada is not. One can think of many questions like this considereing the historical and political background of countries."
   ]
  },
  {
   "cell_type": "markdown",
   "metadata": {},
   "source": [
    "## Analyzing trends of the countries"
   ]
  },
  {
   "cell_type": "code",
   "execution_count": 7,
   "metadata": {
    "scrolled": false
   },
   "outputs": [],
   "source": [
    "entities = r'./panama_csv/Entities.csv'\n",
    "entities = pd.read_csv(entities,index_col='name', header=0, low_memory=False)\n",
    "entities=entities.rename(columns = {'countries':'Country'})"
   ]
  },
  {
   "cell_type": "markdown",
   "metadata": {},
   "source": [
    "## Getting the most involved countries/jurisdictions.\n",
    "___\n",
    "From the Entities dataset we select:\n",
    "- **15 most involved countries**, on which we compute our analysis. Those countries are the countries that have the highest number of offshores accounts in tax haven jurisdictions.\n",
    "- **5 most involved jurisdictions**, on which we compute our analysis. Those jurisdictions are the jurisdictions that are managing / managed the highest registered number of offshores accounts worldwide.\n",
    "\n",
    "### What do we do?\n",
    "\n",
    "For each of the most involved countries/jurisdictions we analyze how much are they involved and what's their behavior throughout the years. \n",
    "\n",
    "1. We define how much each jurisdiction is involved by looking at how many offshores accounts are registered in it.\n",
    "2. We define how much those countries are involved by looking at how many offshores accounts are registered from this country as country of origin.\n",
    "\n",
    "It's important to note that we want to look also at the number of **new incorporations** - **inactivations** and **active offshores** for every year.\n",
    "\n",
    "The number of new incorporations as the number of inactivations for each year is easily derived by the dataset since for each account there it's registered the date of incorporation as the one of inactivation. \n",
    "The number of actives offshores in one year is easily computed with a simple algorithm given the dates above.\n",
    "\n",
    "### Why?\n",
    "\n",
    "To state wheter one scandals has visible worldwide consequences we must base our analysis on the number of, in this way analyzing:\n",
    "- **new incorporations**, this number can give us the proof is one scandal actually acted as a marketing tool, inviting people of one specific **COUNTRY** to invest in offshores account in one specific tax haven **JURISDICTION**.\n",
    "- **inactivations**, this number can give us the proof is one scandal scared people in one specific **COUNTRY** that are actually investing in one specific tax haven **JURISDICTION**.\n",
    "\n",
    "We are also interested to look at key events or particular years where the global market has undergone a major change. To do this we will look at the behavior of the most involved countries throughout the years, how they invested, how much and in which jurisdictions.\n",
    "\n",
    "## Further assumptions.\n",
    "We must note that all the following results are based on a fraction of the whole real data, which is the only available and emerged. We can consider the eventual results realistics since the data we are analyzing contains a good amount of data. However we cannot exclude that further scandals can obviously revert them.\n",
    "### Getting most involved countries and jurisdictions\n",
    "___\n",
    "We group by __Country/Jurisdiction__, we count the elements sorting by **node_id** which represent the unique id of each offshore account."
   ]
  },
  {
   "cell_type": "code",
   "execution_count": 8,
   "metadata": {},
   "outputs": [
    {
     "data": {
      "text/plain": [
       "Index(['Bahamas', 'British Virgin Islands', 'Panama', 'Seychelles'], dtype='object', name='jurisdiction_description')"
      ]
     },
     "execution_count": 8,
     "metadata": {},
     "output_type": "execute_result"
    }
   ],
   "source": [
    "most_involved = entities.groupby('Country').count().sort_values('node_id', ascending=False).head(50).index\n",
    "most_involved = most_involved[most_involved!='Not identified']\n",
    "most_involved_countries = []\n",
    "for involved in most_involved:\n",
    "    if involved == 'British Virgin Islands':\n",
    "        name = 'Virgin Islands (British)'\n",
    "    elif involved == 'United Kingdom':\n",
    "        name = 'United Kingdom of Great Britain and Northern Ireland'\n",
    "    else:\n",
    "        name = involved\n",
    "    most_involved_countries.append(name)\n",
    "most_involved_jur = entities.groupby('jurisdiction_description').count().sort_values('node_id', ascending=False).head().index\n",
    "most_involved_jur = most_involved_jur[most_involved_jur!='Undetermined']\n",
    "most_involved_jur"
   ]
  },
  {
   "cell_type": "markdown",
   "metadata": {},
   "source": [
    "## Preprocessing dataset\n",
    "___\n",
    "We process the entity dataframe to obtain a new dataframe that maps the flows of **inactivations**, **incorporations**, **actives** offshores for each year from one **country** to each **jurisdiction**.\n",
    "\n",
    "The structure of the new dataframe is composed in this way:\n",
    "- **jurisdiction**, the name of the jurisdiction where the offshore account is opened.\n",
    "- **Country**, the name of the origin country of the offshore account.\n",
    "- **date**, the year that the entry is considering.\n",
    "- **action**, wheter we are counting incorporations/inactivations/active offshores/strucks off offshores in the specific date described above\n",
    "- **offshores**, the number directly related to the field action described above in the specific year."
   ]
  },
  {
   "cell_type": "code",
   "execution_count": 9,
   "metadata": {
    "collapsed": true,
    "scrolled": false
   },
   "outputs": [],
   "source": [
    "countries_frame = preprocessing.process_countries(entities=entities, first_involved_countries=most_involved, analisys_on='jurisdiction', from_year=1980, to_year=2016)"
   ]
  },
  {
   "cell_type": "code",
   "execution_count": 10,
   "metadata": {
    "collapsed": true
   },
   "outputs": [],
   "source": [
    "time_series = preprocessing.process_countries_unstacked(entities=entities, first_involved_countries=most_involved, analisys_on='jurisdiction', from_year=1980, to_year=2016)"
   ]
  },
  {
   "cell_type": "markdown",
   "metadata": {},
   "source": [
    "### Visualizations"
   ]
  },
  {
   "cell_type": "code",
   "execution_count": 11,
   "metadata": {
    "scrolled": true
   },
   "outputs": [
    {
     "ename": "NameError",
     "evalue": "name 'cluster_info' is not defined",
     "output_type": "error",
     "traceback": [
      "\u001b[0;31m---------------------------------------------------------------------------\u001b[0m",
      "\u001b[0;31mNameError\u001b[0m                                 Traceback (most recent call last)",
      "\u001b[0;32m<ipython-input-11-8886dda8da0c>\u001b[0m in \u001b[0;36m<module>\u001b[0;34m()\u001b[0m\n\u001b[0;32m----> 1\u001b[0;31m \u001b[0mvisualizer\u001b[0m\u001b[0;34m.\u001b[0m\u001b[0mvisualize_clusters_with_brush\u001b[0m\u001b[0;34m(\u001b[0m\u001b[0mcountries_frame\u001b[0m\u001b[0;34m,\u001b[0m \u001b[0mcluster_info\u001b[0m\u001b[0;34m,\u001b[0m \u001b[0;34m'inactivations'\u001b[0m\u001b[0;34m)\u001b[0m\u001b[0;34m\u001b[0m\u001b[0m\n\u001b[0m",
      "\u001b[0;31mNameError\u001b[0m: name 'cluster_info' is not defined"
     ]
    }
   ],
   "source": [
    "visualizer.visualize_clusters_with_brush(countries_frame, cluster_info, 'inactivations')"
   ]
  },
  {
   "cell_type": "code",
   "execution_count": null,
   "metadata": {},
   "outputs": [],
   "source": [
    "visualizer.visualize_clusters_with_brush(countries_frame, cluster_info, 'incorporations')"
   ]
  },
  {
   "cell_type": "code",
   "execution_count": null,
   "metadata": {
    "collapsed": true
   },
   "outputs": [],
   "source": [
    "#visualizer.visualize_clusters_with_brush(countries_frame, cluster_info, 'strucks')\n",
    "#visualizer.visualize_clusters_with_brush(countries_frame, cluster_info, 'active offshores')"
   ]
  },
  {
   "cell_type": "code",
   "execution_count": null,
   "metadata": {
    "scrolled": true
   },
   "outputs": [],
   "source": [
    "visualizer.visualize_candle_country(time_series, filter_top_for_story=True)"
   ]
  },
  {
   "cell_type": "code",
   "execution_count": null,
   "metadata": {
    "scrolled": true
   },
   "outputs": [],
   "source": [
    "visualizer.visualize_slider_country(countries_frame, 'incorporations', filter_top_for_story=True)"
   ]
  },
  {
   "cell_type": "code",
   "execution_count": null,
   "metadata": {},
   "outputs": [],
   "source": [
    "from IPython.display import IFrame\n",
    "IFrame(\"https://tvchart.tradingeconomics.com/c?s=SHCOMP:IND&interval=M&locale=com&originUrl=https://tradingeconomics.com/china/stock-market\", width=700, height=350)"
   ]
  },
  {
   "cell_type": "markdown",
   "metadata": {},
   "source": [
    "## Conclusion"
   ]
  },
  {
   "cell_type": "code",
   "execution_count": null,
   "metadata": {
    "collapsed": true
   },
   "outputs": [],
   "source": [
    "#TODO"
   ]
  },
  {
   "cell_type": "markdown",
   "metadata": {},
   "source": [
    "## References"
   ]
  },
  {
   "cell_type": "code",
   "execution_count": null,
   "metadata": {
    "collapsed": true
   },
   "outputs": [],
   "source": [
    "#TODO"
   ]
  }
 ],
 "metadata": {
  "kernelspec": {
   "display_name": "Python 3",
   "language": "python",
   "name": "python3"
  },
  "language_info": {
   "codemirror_mode": {
    "name": "ipython",
    "version": 3
   },
   "file_extension": ".py",
   "mimetype": "text/x-python",
   "name": "python",
   "nbconvert_exporter": "python",
   "pygments_lexer": "ipython3",
   "version": "3.6.2"
  }
 },
 "nbformat": 4,
 "nbformat_minor": 2
}

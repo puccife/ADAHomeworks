{
 "cells": [
  {
   "attachments": {},
   "cell_type": "markdown",
   "metadata": {},
   "source": [
    "# Title\n",
    "\n",
    "# Abstract\n",
    "A 150 word description of the project idea, goals, dataset used. What story you would like to tell and why? What's the motivation behind your project?\n",
    "\n",
    "# Research questions\n",
    "A list of research questions you would like to address during the project.\n",
    "\n",
    "# Dataset\n",
    "## [Index Of Economics Freedom](http://www.heritage.org/index/about)\n",
    "[![Heat Map](./images/heatmap.png)](https://www.youtube.com/watch?v=aC8nnUy_exI&t=2s)\n",
    "\n",
    "\n",
    "### Introduction\n",
    "Economic freedom is the fundamental right of every human to control his or her own labor and property. In an economically free society, individuals are free to work, produce, consume, and invest in any way they please. In economically free societies, **governments allow labor, capital, and goods to _move freely_, and refrain from coercion or constraint of liberty beyond the extent necessary to protect and maintain liberty itself**.\n",
    "The Index covers 12 economic freedoms, objective measurements, historical background, and policy analysis of 186 economies troughout the world.\n",
    "The 12 economic freedoms are grouped into four pillars of economic freedom:\n",
    "1. **Rule of law**\n",
    "    - Property rights\n",
    "    - Judicial effectiveness\n",
    "    - Government integrity\n",
    "  \n",
    "  \n",
    "2. **Government size**\n",
    "    - Tax burden\n",
    "    - Government spending\n",
    "    - Fiscal healt\n",
    "    \n",
    "    \n",
    "3. **Regulatory efficiency**\n",
    "    - Business freedom\n",
    "    - Labor freedom\n",
    "    - Monetary freedom\n",
    "    \n",
    "    \n",
    "4. **Market openness**\n",
    "    - Trade freedom\n",
    "    - Investment freedom\n",
    "    - Financial freedom\n",
    "\n",
    "\n",
    "### Managing the dataset\n",
    "\n",
    "As global markets expand and become more interconnected, business are increasingly looking for resources to help identify competitive and profitable opportunities. \n",
    "\n",
    "Considering the global spread of the Panama Papers case, we are looking for the key factors that have sparked the proliferation of offshore companies in countries that are considered tax havens.\n",
    "We are convinced that through the Index of Freedom it is possible to enrich the available [ICIJ](https://panamapapers.icij.org/) database with interesting economic factors about the countries most involved in the scandal.\n",
    "\n",
    "We also believe that it is possible to highlight some probable effects on the economies of the countries involved in the case, having the same dataset available for different years.\n",
    "\n",
    "### Data format\n",
    "The data, in different years, is available in ** .xls ** format.\n",
    "Each dataset contains information about 186 countries. Each of them has 42 attributes related to the topics listed in the introduction.\n",
    "\n",
    "# A list of internal milestones up until project milestone 2\n",
    "Add here a sketch of your planning for the next project milestone.\n",
    "\n",
    "# Questions for TAa\n",
    "Add here some questions you have for us, in general or project-specific.\n"
   ]
  },
  {
   "cell_type": "code",
   "execution_count": null,
   "metadata": {
    "collapsed": true
   },
   "outputs": [],
   "source": []
  }
 ],
 "metadata": {
  "kernelspec": {
   "display_name": "Python 3",
   "language": "python",
   "name": "python3"
  },
  "language_info": {
   "codemirror_mode": {
    "name": "ipython",
    "version": 3
   },
   "file_extension": ".py",
   "mimetype": "text/x-python",
   "name": "python",
   "nbconvert_exporter": "python",
   "pygments_lexer": "ipython3",
   "version": "3.6.2"
  }
 },
 "nbformat": 4,
 "nbformat_minor": 2
}

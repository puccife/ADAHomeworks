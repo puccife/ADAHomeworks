{
 "cells": [
  {
   "cell_type": "markdown",
   "metadata": {},
   "source": [
    "# Before starting\n",
    "Be sure that you have already installed the following libraries. In particular:\n",
    "- **geopy**, used to obtain location of a geographical address\n",
    "- **branca**, used to create a custom figure with multiple sub-figures."
   ]
  },
  {
   "cell_type": "code",
   "execution_count": 1,
   "metadata": {
    "collapsed": true
   },
   "outputs": [],
   "source": [
    "import os\n",
    "import pandas as pd\n",
    "import json\n",
    "import folium\n",
    "from numpy import interp\n",
    "from geopy.geocoders import Nominatim\n",
    "from folium.plugins import MarkerCluster\n",
    "from folium.plugins.measure_control import MeasureControl\n",
    "from folium import plugins\n",
    "import branca\n",
    "from IPython.display import IFrame"
   ]
  },
  {
   "cell_type": "markdown",
   "metadata": {},
   "source": [
    "# Definition of functions for task 2"
   ]
  },
  {
   "cell_type": "markdown",
   "metadata": {},
   "source": [
    "### Map between cantons and sign\n",
    "Dictionary used to map every Country to its Identifier."
   ]
  },
  {
   "cell_type": "code",
   "execution_count": 2,
   "metadata": {
    "collapsed": true
   },
   "outputs": [],
   "source": [
    "cantons = {\n",
    "        'Zurigo': 'ZH',\n",
    "        'Berna': 'BE',\n",
    "        'Lucerna': 'LU',\n",
    "        'Uri': 'UR',\n",
    "        'Svitto': 'SZ',\n",
    "        'Obwaldo': 'OW',\n",
    "        'Nidwaldo': 'NW',\n",
    "        'Glarona': 'GL',\n",
    "        'Zugo': 'ZG',\n",
    "        'Friburgo': 'FR',\n",
    "        'Soletta': 'SO',\n",
    "        'Basilea-Città': 'BS',\n",
    "        'Basilea-Campagna': 'BL',\n",
    "        'Sciaffusa': 'SH',\n",
    "        'Appenzello Esterno': 'AR',\n",
    "        'Appenzello Interno': 'AI',\n",
    "        'San Gallo': 'SG',\n",
    "        'Grigioni': 'GR',\n",
    "        'Argovia': 'AG',\n",
    "        'Turgovia': 'TG',\n",
    "        'Ticino': 'TI',\n",
    "        'Vaud': 'VD',\n",
    "        'Vallese': 'VS',\n",
    "        'Neuchâtel': 'NE',\n",
    "        'Ginevra': 'GE',\n",
    "        'Giura': 'JU'\n",
    "           }"
   ]
  },
  {
   "cell_type": "markdown",
   "metadata": {},
   "source": [
    "### Clean dataframe\n",
    "- For each csv file we keep only the meaningful columns. \n",
    "- We create a new column which represents the unemployement rate considering people that already have a job but are looking for another one.\n",
    "- For each canton we add also the column with the relative identificator or \"Sign\" according to the dictionary \"cantons\" specified above.\n",
    "- We convert every value in float, rounded to one decimal."
   ]
  },
  {
   "cell_type": "code",
   "execution_count": 3,
   "metadata": {
    "collapsed": true
   },
   "outputs": [],
   "source": [
    "def cleanDataframe(dataframe, feature):\n",
    "    dataframe = dataframe.filter(regex=(feature + \".*|Cantone\"))\n",
    "    dataframe = dataframe.apply(lambda x: x.str.replace(\"'\",''))\n",
    "    new_header = dataframe.iloc[0] #grab the first row for the header\n",
    "    dataframe = dataframe[1:] #take the data less the header row\n",
    "    dataframe.columns = new_header #set the header row as the df header\n",
    "    dataframe.columns.values[0] = 'Cantone'\n",
    "    dataframe = dataframe.set_index('Cantone')\n",
    "    selected_columns = ['Tasso di disoccupazione', 'Disoccupati registrati', 'Persone in cerca dimpiego']\n",
    "    dataframe = dataframe[selected_columns]\n",
    "    cols=[i for i in dataframe.columns if i not in 'Cantone']\n",
    "    for col in cols:\n",
    "        dataframe[col]=pd.to_numeric(dataframe[col])\n",
    "    dataframe = dataframe.drop('Totale')\n",
    "    for index,row in dataframe.iterrows():\n",
    "        if feature == 'Totale':\n",
    "            dataframe.loc[index, 'Disoccupati registrati'] = dataframe.at[index, 'Disoccupati registrati']/9\n",
    "            dataframe.loc[index, 'Persone in cerca dimpiego'] = dataframe.at[index, 'Persone in cerca dimpiego']/9\n",
    "        dataframe.loc[index, 'Looking for a job rate'] = dataframe.at[index, 'Persone in cerca dimpiego'] * dataframe.at[index, 'Tasso di disoccupazione'] / dataframe.at[index, 'Disoccupati registrati']\n",
    "        dataframe.loc[index, 'Sign'] = cantons[index]  \n",
    "    dataframe = dataframe.round(1)\n",
    "    return dataframe"
   ]
  },
  {
   "cell_type": "markdown",
   "metadata": {},
   "source": [
    "### Adding cloropleth to map\n",
    "Function used to add a  cloropleth map based on:\n",
    "- dataframe that contains the values that we want to represent on the cloroplet\n",
    "- map, where to add the cloropleth map\n",
    "- key, used to match cloropleth map ids"
   ]
  },
  {
   "cell_type": "code",
   "execution_count": 4,
   "metadata": {
    "collapsed": true
   },
   "outputs": [],
   "source": [
    "def addCloropleth(dataframe, map_, feature, legend_name, key, scale_color,json_data,object_):\n",
    "    map_.choropleth(geo_data=json_data,\n",
    "             data=dataframe,\n",
    "             columns=[key, feature],\n",
    "             key_on='feature.id',\n",
    "             fill_color=scale_color, \n",
    "             fill_opacity=0.5, \n",
    "             line_opacity=0.2,\n",
    "             highlight=True,\n",
    "             legend_name=legend_name, topojson = object_)"
   ]
  },
  {
   "cell_type": "markdown",
   "metadata": {},
   "source": [
    "### Adding Markers to map\n",
    "Function used to add Circular markers to the map.\n",
    "- for each canton we obtain its latitude and longitude\n",
    "- at this latitude and longitude we plot a circleMarker\n",
    "- this marker has a html popup displaying the informations related to the single canton\n",
    "- the size of the marker is proportional to the rate of the information we are representing. In other words, higher value of unemployement rate = bigger circle.\n",
    "- we add the markers to a marker cluster"
   ]
  },
  {
   "cell_type": "code",
   "execution_count": 5,
   "metadata": {
    "collapsed": true
   },
   "outputs": [],
   "source": [
    "def addMarkersToMap(dataframe, map_, key, feature, marker_color, legend_name, second_label):\n",
    "    marker_cluster = MarkerCluster().add_to(map_)\n",
    "    c = MeasureControl()\n",
    "    c.add_to(map_)\n",
    "    for index,row in dataframe.iterrows():\n",
    "        place = dataframe.at[index,key]\n",
    "        if (place == 'AI'): # to avoid errors in the creation of the location\n",
    "            place = 'Appenzell Innerrhoden'\n",
    "        elif (place == 'SH'): # to avoid errors in the creation of the location\n",
    "            place = 'Schaffhausen'\n",
    "        location = geolocator.geocode(place + ', Schweiz/Suisse/Svizzera/Svizra') # to get coordinates\n",
    "        dataframe.loc[index, 'Latitude'] = location.latitude\n",
    "        dataframe.loc[index, 'Longitude'] = location.longitude\n",
    "        html = getHtml(location.address.split(',', 1)[0], \n",
    "                       str(dataframe.at[index,feature]), \n",
    "                       legend_name, second_label, \n",
    "                       str(dataframe.at[index, second_label]))\n",
    "        folium.CircleMarker(\n",
    "            location=[location.latitude, location.longitude],\n",
    "            radius=dataframe.at[index,feature]*5,\n",
    "            fill=True,\n",
    "            fill_color = marker_color,\n",
    "            color = marker_color,\n",
    "            popup=folium.Popup(html),\n",
    "        ).add_to(marker_cluster)"
   ]
  },
  {
   "cell_type": "markdown",
   "metadata": {},
   "source": [
    "### Creating HTML Popup\n",
    "Html popup used to display the data of a canton in a pretty way."
   ]
  },
  {
   "cell_type": "code",
   "execution_count": 6,
   "metadata": {
    "collapsed": true
   },
   "outputs": [],
   "source": [
    "def getHtml(location_name, rate_value, label, second_label, value_second_label):\n",
    "    if second_label == 'Persone in cerca dimpiego':\n",
    "        second_label = 'People are looking for a job'\n",
    "    elif second_label == 'Disoccupati registrati':\n",
    "        second_label = 'Unemployed registered'\n",
    "    return \"\"\"\n",
    "    <style>\n",
    "    h3 {\n",
    "        color: blue;\n",
    "        text-align: center;\n",
    "        border-bottom: 1px solid rgb(200, 200, 200);\n",
    "    }\n",
    "    h5 {\n",
    "        text-align: left;\n",
    "        font-family: verdana;\n",
    "        font-size: 12px;\n",
    "        border-bottom: 1px solid rgb(200, 200, 200);\n",
    "    }\n",
    "    </style>\n",
    "    <div>\n",
    "    <h3> \"\"\" + location_name + \"\"\"</h3><br>\n",
    "    <h5>\n",
    "        \"\"\"+ label +\"\"\": <em>\"\"\"+ rate_value +\"\"\" </em>\n",
    "    </h5>\n",
    "    <h5>\n",
    "        \"\"\"+ second_label +\"\"\": \"\"\"+ value_second_label +\"\"\" \n",
    "    </h5>\n",
    "    </div>\n",
    "    \"\"\""
   ]
  },
  {
   "cell_type": "markdown",
   "metadata": {},
   "source": [
    "# Task 2 \n",
    "\n",
    "##  Unemployement rate of Switzerland, by cantons\n",
    "We will solve task 2 using the functions specified above. Definition and usage of each function are specified above.\n",
    "\n",
    "We use the data retrieved from the [amstat](https://www.amstat.ch/) website. We choose our csv dataset with the following features:\n",
    "- rate of unemployed registered\n",
    "- unemployement rate\n",
    "- number of people searching for a job (unemployed or employed)\n",
    "\n",
    "With this data we will derive the feature:\n",
    "- unemployement rate of people without a job\n",
    "\n",
    "We plot the two rates in different maps.\n",
    "\n",
    "### Assumptions\n",
    "1. We choose to repeat the same analysis on three different situations. In particular we select:\n",
    "    - unemployement values of August 2017.\n",
    "    - unemployement values of January 2017\n",
    "    - avg unemployement values from January to September 2017.\n",
    "    \n",
    "  In this way we can compare the value of unemployement rate in different seasons of the year with the average data of the current year to analyze some possible **seasonal bias**, since the **results may depend on the time of the year that we are evaluating**.\n",
    "  \n",
    "2. Given the definition from the website, the **unemployed registered** are:\n",
    "    >'Persone registrate presso gli uffici regionali di collocamento, senza un impiego e immediatamente collocabili.    E’ irrilevante sapere se esse percepiscono o meno un’indennità di disoccupazione.\n",
    "   In other words (english), the **unemployed registered** are the persons **without** a job and immediately ready for placement. \n",
    "   \n",
    "3. Given the statement from the [website FAQ](https://www.amstat.ch/v2/faq.jsp?lang=it):\n",
    "    > Il tasso di disoccupazione è calcolato in base ai «disoccupati senza lavoro».\n",
    "\n",
    "    We can assume that the unemployement rate is the rate related to the **number of people unemploed (without a job)**. \n",
    "    For this reason we expect ** rate of people looking for a job** to be higher than the actual rate, since it includes people that are looking for a job. And we can deduce its value with a simple proportion.\n"
   ]
  },
  {
   "cell_type": "markdown",
   "metadata": {},
   "source": [
    "### Dataset paths\n",
    "- **tasso_year.csv**, contains the csv file with the unemployed rate of Switzerland, in Italian language.\n",
    "- **ch-cantons.topojson.json**, contains the topojson file with the map of switzerland cantons."
   ]
  },
  {
   "cell_type": "code",
   "execution_count": 7,
   "metadata": {
    "collapsed": true
   },
   "outputs": [],
   "source": [
    "amstat_year_path = 'datasets/tasso_year.csv'\n",
    "cantons_geo_path = r'topojson/ch-cantons.topojson.json'"
   ]
  },
  {
   "cell_type": "markdown",
   "metadata": {},
   "source": [
    "#### Geolocator of Geopy used to get the location of the cantons"
   ]
  },
  {
   "cell_type": "code",
   "execution_count": 8,
   "metadata": {
    "collapsed": true
   },
   "outputs": [],
   "source": [
    "geolocator = Nominatim()"
   ]
  },
  {
   "cell_type": "markdown",
   "metadata": {},
   "source": [
    "## Reading csv file\n",
    "Storing csv files into different dataframes, to process them in different ways. After cleaning the dataframes:\n",
    "1. **df**, contains the values related only to the month of August 2017\n",
    "1. **df_jan**, contains the values related only to the month of January 2017\n",
    "2. **df_year**, contains all the values from Jan to Sept 2017, last column Total contains the avg of the previous selected months"
   ]
  },
  {
   "cell_type": "code",
   "execution_count": 9,
   "metadata": {
    "collapsed": true
   },
   "outputs": [],
   "source": [
    "df = pd.read_csv(amstat_year_path, encoding='utf_16')\n",
    "df_year = pd.read_csv(amstat_year_path, encoding='utf_16')\n",
    "df_jan = pd.read_csv(amstat_year_path, encoding='utf_16')\n",
    "cantons_json_data = json.load(open(cantons_geo_path))"
   ]
  },
  {
   "cell_type": "markdown",
   "metadata": {},
   "source": [
    "### Cleaning dataframes"
   ]
  },
  {
   "cell_type": "code",
   "execution_count": 10,
   "metadata": {
    "collapsed": true
   },
   "outputs": [],
   "source": [
    "df_year = cleanDataframe(df_year, 'Totale')\n",
    "df = cleanDataframe(df, 'Agosto')\n",
    "df_jan = cleanDataframe(df_jan, 'Gennaio')"
   ]
  },
  {
   "cell_type": "markdown",
   "metadata": {},
   "source": [
    "## Creating Folium Map\n",
    "Creating six different folium maps used to represent:\n",
    "- Unemployement rate of August 2017 (considering only unemployed people)\n",
    "- Avg rate of people looking for a job in August 2017\n",
    "\n",
    "- Avg Unemployement rate from Jan to Sept 2017 (considering only unemployed people)\n",
    "- Avg rate of people looking for a job from Jan to Sept 2017\n",
    "\n",
    "- Unemployement rate of January 2017 (considering only unemployed people)\n",
    "- Avg rate of people looking for a job in January 2017\n"
   ]
  },
  {
   "cell_type": "code",
   "execution_count": 11,
   "metadata": {
    "collapsed": true
   },
   "outputs": [],
   "source": [
    "m = folium.Map([46.8,8], \n",
    "               tiles='cartodbpositron', \n",
    "               zoom_start=7)\n",
    "m2 = folium.Map([46.8,8], \n",
    "               tiles='cartodbpositron', \n",
    "               zoom_start=7)\n",
    "m3 = folium.Map([46.8,8], \n",
    "               tiles='cartodbpositron', \n",
    "               zoom_start=7)\n",
    "m4 = folium.Map([46.8,8], \n",
    "               tiles='cartodbpositron', \n",
    "               zoom_start=7)\n",
    "m5 = folium.Map([46.8,8], \n",
    "               tiles='cartodbpositron', \n",
    "               zoom_start=7)\n",
    "m6 = folium.Map([46.8,8], \n",
    "               tiles='cartodbpositron', \n",
    "               zoom_start=7)"
   ]
  },
  {
   "cell_type": "markdown",
   "metadata": {},
   "source": [
    "## Adding cloropleth map\n",
    "Adding the cloropleth related to each map"
   ]
  },
  {
   "cell_type": "code",
   "execution_count": 12,
   "metadata": {
    "collapsed": true
   },
   "outputs": [],
   "source": [
    "addCloropleth(df, m, 'Tasso di disoccupazione','Unemployement rate', 'Sign','YlGnBu', cantons_json_data,'objects.cantons')\n",
    "addCloropleth(df, m2, 'Looking for a job rate','Looking for a job rate', 'Sign','YlOrRd', cantons_json_data,'objects.cantons')\n",
    "addCloropleth(df_year, m3, 'Tasso di disoccupazione','Unemployement rate', 'Sign','YlGnBu', cantons_json_data,'objects.cantons')\n",
    "addCloropleth(df_year, m4, 'Looking for a job rate','Looking for a job rate', 'Sign','YlOrRd', cantons_json_data,'objects.cantons')\n",
    "addCloropleth(df_jan, m5, 'Tasso di disoccupazione','Unemployement rate', 'Sign','YlGnBu', cantons_json_data,'objects.cantons')\n",
    "addCloropleth(df_jan, m6, 'Looking for a job rate','Looking for a job rate', 'Sign','YlOrRd', cantons_json_data,'objects.cantons')"
   ]
  },
  {
   "cell_type": "markdown",
   "metadata": {},
   "source": [
    "## Adding marker with custom popup for each canton\n",
    "Adding the markers related to each map"
   ]
  },
  {
   "cell_type": "code",
   "execution_count": 13,
   "metadata": {
    "collapsed": true
   },
   "outputs": [],
   "source": [
    "addMarkersToMap(df, m2, 'Sign', 'Looking for a job rate','red','Looking for a job rate','Persone in cerca dimpiego')\n",
    "addMarkersToMap(df, m, 'Sign', 'Tasso di disoccupazione','blue','Unemployement rate', 'Disoccupati registrati')\n",
    "addMarkersToMap(df_year, m4, 'Sign', 'Looking for a job rate','red','Looking for a job rate','Persone in cerca dimpiego')\n",
    "addMarkersToMap(df_year, m3, 'Sign', 'Tasso di disoccupazione','blue','Unemployement rate','Disoccupati registrati')\n",
    "addMarkersToMap(df_jan, m6, 'Sign', 'Looking for a job rate','red','Looking for a job rate','Persone in cerca dimpiego')\n",
    "addMarkersToMap(df_jan, m5, 'Sign', 'Tasso di disoccupazione','blue','Unemployement rate', 'Disoccupati registrati')"
   ]
  },
  {
   "cell_type": "markdown",
   "metadata": {},
   "source": [
    "## Displaying 🖥\n",
    "Storing the maps in multiple html figures, using **branca**."
   ]
  },
  {
   "cell_type": "code",
   "execution_count": 14,
   "metadata": {
    "scrolled": true
   },
   "outputs": [
    {
     "name": "stdout",
     "output_type": "stream",
     "text": [
      "Branca figures created...\n"
     ]
    }
   ],
   "source": [
    "f = branca.element.Figure()\n",
    "d1 = f.add_subplot(1, 2, 1)\n",
    "d2 = f.add_subplot(1, 2, 2)\n",
    "d1.add_child(m)\n",
    "d2.add_child(m2)\n",
    "f_year = branca.element.Figure()\n",
    "d1_year = f_year.add_subplot(1, 2, 1)\n",
    "d2_year = f_year.add_subplot(1, 2, 2)\n",
    "d1_year.add_child(m3)\n",
    "d2_year.add_child(m4)\n",
    "f_jan = branca.element.Figure()\n",
    "d1_jan = f_jan.add_subplot(1, 2, 1)\n",
    "d2_jan = f_jan.add_subplot(1, 2, 2)\n",
    "d1_jan.add_child(m5)\n",
    "d2_jan.add_child(m6)\n",
    "print(\"Branca figures created...\")"
   ]
  },
  {
   "cell_type": "markdown",
   "metadata": {},
   "source": [
    "## Saving results as html files"
   ]
  },
  {
   "cell_type": "code",
   "execution_count": 15,
   "metadata": {
    "collapsed": true
   },
   "outputs": [],
   "source": [
    "f.save(os.path.join('results', 'unemployement_aug.html'))\n",
    "f_year.save(os.path.join('results', 'unemployement_year.html'))\n",
    "f_jan.save(os.path.join('results', 'unemployement_jan.html'))"
   ]
  },
  {
   "cell_type": "markdown",
   "metadata": {},
   "source": [
    "## Results & Observations 🔍\n",
    "\n",
    "Given the results above we observe that we can not pick the unemployement rate from a month randomly due to the fact that the unemployement rate is **strongly influenced by the season of the year** that we are considering.\n",
    "Given the avg unemployement rate of the 2017 we can see how the unemployement rate of January is evidently higher than the unemployement rate of August. \n",
    "\n",
    "For instance in canton **Valais/Wallis** it clearly changes:\n",
    "\n",
    "|            | Unemployement rate | Looking for a job rate |\n",
    "|:----------:|:------------------:|:----------------------:|\n",
    "|   January  |         5.2        |           7.5          |\n",
    "|   August   |         2.9        |           4.7          |\n",
    "| Yearly avg |         3.6        |           5.6          |\n",
    "\n",
    "We can not really give an accurate explanation for this trend, since these values could be influenced by many factors."
   ]
  },
  {
   "cell_type": "markdown",
   "metadata": {},
   "source": [
    "## Showing results in a IFrame ⚠️\n",
    "- On the left is shown the map for the unemployement rate in the selected period (considering only jobless people).\n",
    "- On the right is shown the map for the rate of people looking for a job (considering both employed and unemployed people)."
   ]
  },
  {
   "cell_type": "markdown",
   "metadata": {},
   "source": [
    "### January"
   ]
  },
  {
   "cell_type": "code",
   "execution_count": 16,
   "metadata": {
    "scrolled": false
   },
   "outputs": [
    {
     "data": {
      "text/html": [
       "\n",
       "        <iframe\n",
       "            width=\"1000\"\n",
       "            height=\"800\"\n",
       "            src=\"results/unemployement_jan.html\"\n",
       "            frameborder=\"0\"\n",
       "            allowfullscreen\n",
       "        ></iframe>\n",
       "        "
      ],
      "text/plain": [
       "<IPython.lib.display.IFrame at 0x10c9e26a0>"
      ]
     },
     "execution_count": 16,
     "metadata": {},
     "output_type": "execute_result"
    }
   ],
   "source": [
    "IFrame(src=\"results/unemployement_jan.html\",width=1000,height=800)"
   ]
  },
  {
   "cell_type": "markdown",
   "metadata": {},
   "source": [
    "### August"
   ]
  },
  {
   "cell_type": "code",
   "execution_count": 17,
   "metadata": {},
   "outputs": [
    {
     "data": {
      "text/html": [
       "\n",
       "        <iframe\n",
       "            width=\"1000\"\n",
       "            height=\"800\"\n",
       "            src=\"results/unemployement_aug.html\"\n",
       "            frameborder=\"0\"\n",
       "            allowfullscreen\n",
       "        ></iframe>\n",
       "        "
      ],
      "text/plain": [
       "<IPython.lib.display.IFrame at 0x10c9e0710>"
      ]
     },
     "execution_count": 17,
     "metadata": {},
     "output_type": "execute_result"
    }
   ],
   "source": [
    "IFrame(src=\"results/unemployement_aug.html\",width=1000,height=800)"
   ]
  },
  {
   "cell_type": "markdown",
   "metadata": {
    "collapsed": true
   },
   "source": [
    "### Yearly average"
   ]
  },
  {
   "cell_type": "code",
   "execution_count": 18,
   "metadata": {},
   "outputs": [
    {
     "data": {
      "text/html": [
       "\n",
       "        <iframe\n",
       "            width=\"1000\"\n",
       "            height=\"800\"\n",
       "            src=\"results/unemployement_year.html\"\n",
       "            frameborder=\"0\"\n",
       "            allowfullscreen\n",
       "        ></iframe>\n",
       "        "
      ],
      "text/plain": [
       "<IPython.lib.display.IFrame at 0x10c9e2c50>"
      ]
     },
     "execution_count": 18,
     "metadata": {},
     "output_type": "execute_result"
    }
   ],
   "source": [
    "IFrame(src=\"results/unemployement_year.html\",width=1000,height=800)"
   ]
  }
 ],
 "metadata": {
  "kernelspec": {
   "display_name": "Python 3",
   "language": "python",
   "name": "python3"
  },
  "language_info": {
   "codemirror_mode": {
    "name": "ipython",
    "version": 3
   },
   "file_extension": ".py",
   "mimetype": "text/x-python",
   "name": "python",
   "nbconvert_exporter": "python",
   "pygments_lexer": "ipython3",
   "version": "3.6.2"
  }
 },
 "nbformat": 4,
 "nbformat_minor": 2
}
